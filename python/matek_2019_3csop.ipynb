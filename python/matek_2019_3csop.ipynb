{
 "cells": [
  {
   "cell_type": "code",
   "execution_count": 1,
   "id": "85a47696",
   "metadata": {},
   "outputs": [],
   "source": [
    "import pandas as pd\n",
    "import numpy as np\n",
    "from sklearn.model_selection import train_test_split\n",
    "import sklearn.metrics\n",
    "from sklearn.multiclass import OneVsRestClassifier"
   ]
  },
  {
   "cell_type": "code",
   "execution_count": 2,
   "id": "997db279",
   "metadata": {},
   "outputs": [],
   "source": [
    "data = pd.read_excel(\"C:/Users/Donát/Documents/GitHub/-nkutfel/2019/2019_merged_matekA1A2_cleaned.xlsx\")"
   ]
  },
  {
   "cell_type": "code",
   "execution_count": 3,
   "id": "17d9fb53",
   "metadata": {},
   "outputs": [],
   "source": [
    "#szűrjük ki a nem kategorikus vagy numerikus változókat\n",
    "working_data = data.drop(labels = [\"Name\", \"Neptun\", \"Tankör\"], axis = 1)\n",
    "\n",
    "#alakítsuk numerikussá a %-os teljesítménymutatókat\n",
    "for i, row in working_data.iterrows():\n",
    "    working_data.at[i, \"Matek eredmény\"] = float(row[\"Matek eredmény\"][:-3] + \".\" + row[\"Matek eredmény\"][-2])\n",
    "    working_data.at[i, \"Kognitív eredmény\"] = float(row[\"Kognitív eredmény\"][:-3] + \".\" + row[\"Kognitív eredmény\"][-2])\n",
    "    working_data.at[i, \"Kognitív pont\"] = float(str(row[\"Kognitív pont\"]).replace(\",\", \".\"))\n",
    "    working_data.at[i, \"Össz eredmény (átlag)\"] = float(row[\"Össz eredmény (átlag)\"][:-3] + \".\" + row[\"Össz eredmény (átlag)\"][-2])\n",
    "\n"
   ]
  },
  {
   "cell_type": "code",
   "execution_count": 4,
   "id": "963f94cc",
   "metadata": {},
   "outputs": [],
   "source": [
    "#csináljunk a jegyek alapján 3 csoportot: a jó tanulók a 4-5, a rossz a 2-3, a bukás legyen 1\n",
    "for i, row in working_data.iterrows():\n",
    "    if working_data.at[i, \"Matematika A1a - Analízis\"] in [4, 5]:\n",
    "        working_data.at[i, \"Matematika A1a - Analízis\"] = 3\n",
    "    elif working_data.at[i, \"Matematika A1a - Analízis\"] in [2, 3]:\n",
    "        working_data.at[i, \"Matematika A1a - Analízis\"] = 2"
   ]
  },
  {
   "cell_type": "code",
   "execution_count": 5,
   "id": "325c54ff",
   "metadata": {},
   "outputs": [],
   "source": [
    "from imblearn.over_sampling import SMOTE\n",
    "features = working_data.drop(labels = [\"Matematika A1a - Analízis\", \"Matematika A2c\", \"Szak\", \"Matek helyes\", \"Összes pont\", \"Össz eredmény (átlag)\"], axis = 1)\n",
    "label = working_data[\"Matematika A1a - Analízis\"]\n",
    "features, label = SMOTE(k_neighbors = 4).fit_resample(features, label)\n",
    "\n",
    "X_train, X_test, y_train, y_test = train_test_split(features, label, test_size=0.3, random_state=0)"
   ]
  },
  {
   "cell_type": "code",
   "execution_count": 6,
   "id": "690c9850",
   "metadata": {},
   "outputs": [
    {
     "name": "stdout",
     "output_type": "stream",
     "text": [
      "With kNN:\n",
      "Optimal number of neighbors: 1\n"
     ]
    }
   ],
   "source": [
    "#KNN-re keresztvalidációval mahalanobis-szal\n",
    "from sklearn.neighbors import KNeighborsClassifier\n",
    "from sklearn.model_selection import cross_val_score\n",
    "\n",
    "print(\"With kNN:\", end=\"\\n\")\n",
    "neigh_dict_mahal = {}\n",
    "for i in range(1,30):\n",
    "    neigh = KNeighborsClassifier(n_neighbors=i, metric=\"mahalanobis\", metric_params={'V': np.cov(m=X_train.astype(float), rowvar=False)})\n",
    "    scores_kNN = cross_val_score(neigh, X_train.values, y_train.values, scoring = \"accuracy\", cv=10)\n",
    "    neigh_dict_mahal[scores_kNN.mean()] = i\n",
    "print(\"Optimal number of neighbors:\", neigh_dict_mahal[max(list(neigh_dict_mahal.keys()))], end=\"\\n\")"
   ]
  },
  {
   "cell_type": "code",
   "execution_count": 7,
   "id": "e741e1a9",
   "metadata": {},
   "outputs": [
    {
     "name": "stdout",
     "output_type": "stream",
     "text": [
      "Accuracy: 0.79\n"
     ]
    }
   ],
   "source": [
    "neigh = KNeighborsClassifier(n_neighbors=neigh_dict_mahal[max(list(neigh_dict_mahal.keys()))], metric=\"mahalanobis\", metric_params={'V': np.cov(m=X_train.astype(float), rowvar=False)})\n",
    "neigh = neigh.fit(X_train.values,y_train.values)\n",
    "sk_pred = neigh.predict(X_test.to_numpy())\n",
    "knn_mahal = round(sklearn.metrics.accuracy_score(y_test, sk_pred),2)\n",
    "print(f'Accuracy: {knn_mahal}')"
   ]
  },
  {
   "cell_type": "code",
   "execution_count": 8,
   "id": "7b3490bb",
   "metadata": {
    "scrolled": true
   },
   "outputs": [
    {
     "name": "stdout",
     "output_type": "stream",
     "text": [
      "With kNN:\n",
      "Optimal number of neighbors: 1\n"
     ]
    }
   ],
   "source": [
    "#KNN-re keresztvalidációval euklidészi távolsággal\n",
    "from sklearn.neighbors import KNeighborsClassifier\n",
    "from sklearn.model_selection import cross_val_score\n",
    "\n",
    "print(\"With kNN:\", end=\"\\n\")\n",
    "neigh_dict_eu = {}\n",
    "for i in range(1,30):\n",
    "    neigh = KNeighborsClassifier(n_neighbors=i, metric=\"euclidean\")\n",
    "    scores_kNN = cross_val_score(neigh, X_train.values, y_train.values, scoring = \"accuracy\", cv=10)\n",
    "    neigh_dict_eu[scores_kNN.mean()] = i\n",
    "print(\"Optimal number of neighbors:\", neigh_dict_eu[max(list(neigh_dict_eu.keys()))], end=\"\\n\")"
   ]
  },
  {
   "cell_type": "code",
   "execution_count": 9,
   "id": "e08d84ae",
   "metadata": {},
   "outputs": [
    {
     "name": "stdout",
     "output_type": "stream",
     "text": [
      "Accuracy: 0.8\n"
     ]
    }
   ],
   "source": [
    "neigh = KNeighborsClassifier(n_neighbors=neigh_dict_eu[max(list(neigh_dict_eu.keys()))], metric=\"euclidean\")\n",
    "neigh = neigh.fit(X_train.values,y_train.values)\n",
    "sk_pred = neigh.predict(X_test.to_numpy())\n",
    "knn_eu = round(sklearn.metrics.accuracy_score(y_test, sk_pred),2)\n",
    "print(f'Accuracy: {knn_eu}')"
   ]
  },
  {
   "cell_type": "code",
   "execution_count": 10,
   "id": "6d0e89a0",
   "metadata": {},
   "outputs": [
    {
     "name": "stdout",
     "output_type": "stream",
     "text": [
      "kNN with Mahalanobis:\n",
      "- Optmial number of neighbours: 1 \n",
      "- Accuracy: 0.79\n",
      "kNN with Euclidean:\n",
      "- Optimal number of neighbours: 1 \n",
      "- Accuracy: 0.8\n"
     ]
    }
   ],
   "source": [
    "#összesítve kNN\n",
    "print(f'kNN with Mahalanobis:')\n",
    "print(f'- Optmial number of neighbours: {neigh_dict_mahal[max(list(neigh_dict_mahal.keys()))]} \\n- Accuracy: {knn_mahal}')\n",
    "print(f'kNN with Euclidean:')\n",
    "print(f'- Optimal number of neighbours: {neigh_dict_eu[max(list(neigh_dict_eu.keys()))]} \\n- Accuracy: {knn_eu}')"
   ]
  },
  {
   "cell_type": "code",
   "execution_count": 11,
   "id": "9603fd2c",
   "metadata": {},
   "outputs": [
    {
     "name": "stdout",
     "output_type": "stream",
     "text": [
      "[0.56, 0.59, 0.62, 0.6, 0.58, 0.59, 0.6, 0.62, 0.6, 0.61, 0.61, 0.62, 0.61, 0.61, 0.61, 0.6, 0.59, 0.6, 0.6, 0.6, 0.6, 0.61, 0.61, 0.61, 0.61, 0.63, 0.63, 0.62, 0.62, 0.63, 0.63, 0.63, 0.63, 0.63, 0.63, 0.63, 0.63, 0.62, 0.63, 0.63, 0.63, 0.63, 0.62, 0.62, 0.62, 0.62, 0.62, 0.62, 0.62]\n"
     ]
    }
   ],
   "source": [
    "#tesztelés megfelelő C-hez SVM-nél\n",
    "from sklearn.svm import SVC\n",
    "\n",
    "scores_svm = []\n",
    "for i in range(1,50):\n",
    "    clf = OneVsRestClassifier(SVC(C = i*0.1, class_weight = \"balanced\", random_state=0)).fit(X_train, y_train)    \n",
    "    y_pred = clf.predict(X_test)\n",
    "    scores_svm.append(round(sklearn.metrics.accuracy_score(y_test, y_pred),2))\n",
    "print(scores_svm)"
   ]
  },
  {
   "cell_type": "code",
   "execution_count": 12,
   "id": "61ab1a54",
   "metadata": {},
   "outputs": [
    {
     "name": "stdout",
     "output_type": "stream",
     "text": [
      "Optimal value for C: 4.7\n"
     ]
    }
   ],
   "source": [
    "#keresztvalidációval\n",
    "\n",
    "svm_dict = {}\n",
    "for i in range(1,50):\n",
    "    clf = OneVsRestClassifier(SVC(C = i*0.1, class_weight = \"balanced\", random_state=0))\n",
    "    scores_svm = cross_val_score(clf, X_train, y_train, scoring = \"accuracy\", cv=10)\n",
    "    svm_dict[scores_svm.mean()] = i/10\n",
    "print(\"Optimal value for C:\",svm_dict[max(list(svm_dict.keys()))])"
   ]
  },
  {
   "cell_type": "code",
   "execution_count": 13,
   "id": "1a97712b",
   "metadata": {},
   "outputs": [
    {
     "name": "stdout",
     "output_type": "stream",
     "text": [
      "Accuracy: 0.62\n",
      "Precision: 0.62\n",
      "Recall: 0.62\n"
     ]
    }
   ],
   "source": [
    "#SVM-re\n",
    "clf = OneVsRestClassifier(SVC(C = svm_dict[max(list(svm_dict.keys()))], class_weight = \"balanced\", random_state=0)).fit(X_train, y_train)     # balanced nélkül romlik a pontosság\n",
    "y_pred = clf.predict(X_test)\n",
    "\n",
    "svm_acc = round(sklearn.metrics.accuracy_score(y_test, y_pred),2)\n",
    "print(f'Accuracy: {round(sklearn.metrics.accuracy_score(y_test, y_pred),2)}')\n",
    "print(f'Precision: {round(sklearn.metrics.precision_score(y_test, y_pred, average = \"macro\"),2)}')\n",
    "print(f'Recall: {round(sklearn.metrics.recall_score(y_test, y_pred, average = \"macro\"),2)}')"
   ]
  },
  {
   "cell_type": "code",
   "execution_count": 14,
   "id": "0b356f0a",
   "metadata": {},
   "outputs": [
    {
     "name": "stdout",
     "output_type": "stream",
     "text": [
      "Accuracy: 0.74\n",
      "Precision: 0.74\n",
      "Recall: 0.74\n"
     ]
    }
   ],
   "source": [
    "#logisztikus regresszióra\n",
    "from sklearn.linear_model import LogisticRegression\n",
    "\n",
    "logreg = OneVsRestClassifier(LogisticRegression(class_weight = \"balanced\", random_state=0, max_iter = 5000)).fit(X_train, y_train)\n",
    "y_pred = logreg.predict(X_test)\n",
    "log_acc = round(sklearn.metrics.accuracy_score(y_test, y_pred),2)\n",
    "\n",
    "print(f'Accuracy: {round(sklearn.metrics.accuracy_score(y_test, y_pred),2)}')\n",
    "print(f'Precision: {round(sklearn.metrics.precision_score(y_test, y_pred, average = \"macro\"),2)}')\n",
    "print(f'Recall: {round(sklearn.metrics.recall_score(y_test, y_pred, average = \"macro\"),2)}')"
   ]
  },
  {
   "cell_type": "code",
   "execution_count": 15,
   "id": "6400e3d9",
   "metadata": {},
   "outputs": [
    {
     "name": "stdout",
     "output_type": "stream",
     "text": [
      "Accuracy: 0.71\n"
     ]
    }
   ],
   "source": [
    "#Naive bayes-szel\n",
    "from sklearn.naive_bayes import GaussianNB\n",
    "\n",
    "clf = GaussianNB()\n",
    "clf.fit(X_train, y_train)\n",
    "y_pred = clf.predict(X_test)\n",
    "bayes_acc = round(sklearn.metrics.accuracy_score(y_test, y_pred),2)\n",
    "\n",
    "print(f'Accuracy: {round(sklearn.metrics.accuracy_score(y_test, y_pred),2)}')"
   ]
  },
  {
   "cell_type": "code",
   "execution_count": 16,
   "id": "541abb4d",
   "metadata": {},
   "outputs": [
    {
     "name": "stdout",
     "output_type": "stream",
     "text": [
      "Accuracy with different algorithms:\n",
      "- SVM: 0.62 \n",
      "- Logistic Regression: 0.74 \n",
      "- Naive Bayes: 0.71\n"
     ]
    }
   ],
   "source": [
    "#az előző 3 kiértékelése\n",
    "print(\"Accuracy with different algorithms:\")\n",
    "print(f'- SVM: {svm_acc} \\n- Logistic Regression: {log_acc} \\n- Naive Bayes: {bayes_acc}')"
   ]
  },
  {
   "cell_type": "code",
   "execution_count": 17,
   "id": "087b872b",
   "metadata": {},
   "outputs": [
    {
     "data": {
      "text/plain": [
       "0.6299314083480623"
      ]
     },
     "execution_count": 17,
     "metadata": {},
     "output_type": "execute_result"
    }
   ],
   "source": [
    "#ezek után nem oneVSall: lineáris regresszió\n",
    "from sklearn.linear_model import LinearRegression\n",
    "\n",
    "reg_alap = LinearRegression().fit(features,label)\n",
    "reg_alap.score(features, label)         "
   ]
  },
  {
   "cell_type": "code",
   "execution_count": 18,
   "id": "b1aff768",
   "metadata": {},
   "outputs": [
    {
     "name": "stdout",
     "output_type": "stream",
     "text": [
      "Coefficients: [ 6.51633396e-02  7.07450537e-03  2.93618001e-01  2.71734489e-01\n",
      "  3.01857385e-01 -2.20516794e-02  4.87639214e+00 -3.21351286e+00\n",
      "  1.03430048e-02  8.44372047e-03 -2.35308967e-03 -8.26037539e-03]\n",
      "RMSE: 0.54\n"
     ]
    }
   ],
   "source": [
    "#most nézzük a tanítóhalmazon és a teszthalmazon\n",
    "\n",
    "reg = LinearRegression().fit(X_train,y_train)\n",
    "reg_pred = reg.predict(X_test)\n",
    "\n",
    "#együtthatók\n",
    "print(\"Coefficients:\", reg.coef_)\n",
    "#RMSE\n",
    "\n",
    "rmse = round(np.power(np.sum(np.power(y_test - reg_pred, 2))/reg_pred.shape[0],0.5),2)\n",
    "print(\"RMSE:\", rmse)"
   ]
  },
  {
   "cell_type": "code",
   "execution_count": 19,
   "id": "ca921224",
   "metadata": {},
   "outputs": [
    {
     "data": {
      "text/plain": [
       "<function matplotlib.pyplot.show(close=None, block=None)>"
      ]
     },
     "execution_count": 19,
     "metadata": {},
     "output_type": "execute_result"
    },
    {
     "data": {
      "image/png": "[encoded data removed]",
      "text/plain": [
       "<Figure size 432x288 with 1 Axes>"
      ]
     },
     "metadata": {
      "needs_background": "light"
     },
     "output_type": "display_data"
    }
   ],
   "source": [
    "#Nézzük meg a reziduális tagokat\n",
    "\n",
    "import matplotlib.pyplot as plt\n",
    "\n",
    "plt.scatter(reg_pred, y_test-reg_pred)\n",
    "plt.plot(reg_pred, [0 for i in range(reg_pred.shape[0])], c=\"red\") #0-vonal\n",
    "plt.title(\"Reziduális tagok\")\n",
    "plt.axis\n",
    "plt.show"
   ]
  },
  {
   "cell_type": "code",
   "execution_count": 20,
   "id": "38c3981c",
   "metadata": {},
   "outputs": [
    {
     "data": {
      "text/plain": [
       "0.7"
      ]
     },
     "execution_count": 20,
     "metadata": {},
     "output_type": "execute_result"
    }
   ],
   "source": [
    "#R^2 és SSR\n",
    "SST = np.sum(np.power(y_test-np.mean(y_test),2))\n",
    "SSR = np.sum(np.power(reg_pred-np.mean(y_test),2))\n",
    "R2 = round(SSR/SST,2)\n",
    "R2"
   ]
  },
  {
   "cell_type": "code",
   "execution_count": 21,
   "id": "e0c37d9a",
   "metadata": {},
   "outputs": [
    {
     "name": "stdout",
     "output_type": "stream",
     "text": [
      "RMSE: 0.62\n",
      "0.68\n"
     ]
    }
   ],
   "source": [
    "#másik: kerekítsük a becsült értékeket\n",
    "\n",
    "for i in range(reg_pred.shape[0]):\n",
    "    reg_pred[i] = round(reg_pred[i],0)\n",
    "\n",
    "rmse_rounded = round(np.power(np.sum(np.power(y_test - reg_pred, 2))/reg_pred.shape[0],0.5),2)\n",
    "print(\"RMSE:\", rmse_rounded)\n",
    "lin_acc = round(sklearn.metrics.accuracy_score(y_test, reg_pred),2)\n",
    "print(round(sklearn.metrics.accuracy_score(y_test, reg_pred),2))"
   ]
  },
  {
   "cell_type": "code",
   "execution_count": 22,
   "id": "94daa06e",
   "metadata": {},
   "outputs": [
    {
     "name": "stdout",
     "output_type": "stream",
     "text": [
      "Linear regression:\n",
      "- RMSE: 0.54 \n",
      "- R2: 0.7 \n",
      "- RMSE after rounding: 0.62 \n",
      "- Accuracy after rounding: 0.68\n"
     ]
    }
   ],
   "source": [
    "#lineáris regresszió összesen:\n",
    "print(\"Linear regression:\")\n",
    "print(f'- RMSE: {rmse} \\n- R2: {R2} \\n- RMSE after rounding: {rmse_rounded} \\n- Accuracy after rounding: {lin_acc}')"
   ]
  },
  {
   "cell_type": "code",
   "execution_count": 23,
   "id": "083f6737",
   "metadata": {},
   "outputs": [
    {
     "name": "stdout",
     "output_type": "stream",
     "text": [
      "kNN with Mahalanobis:\n",
      "- Optmial number of neighbours: 1 \n",
      "- Accuracy: 0.79\n",
      "kNN with Euclidean:\n",
      "- Optimal number of neighbours: 1 \n",
      "- Accuracy: 0.8\n",
      "SVM:\n",
      "- Accuracy: 0.62\n",
      "Logistic Regression:\n",
      "- Accuracy: 0.74\n",
      "Naive Bayes:\n",
      "- Accuracy: 0.71\n",
      "Linear regression:\n",
      "- RMSE: 0.54 \n",
      "- R2: 0.7 \n",
      "- RMSE after rounding: 0.62 \n",
      "- Accuracy after rounding: 0.68\n"
     ]
    }
   ],
   "source": [
    "#összes teljes mindenes\n",
    "#összesítve kNN\n",
    "print(f'kNN with Mahalanobis:')\n",
    "print(f'- Optmial number of neighbours: {neigh_dict_mahal[max(list(neigh_dict_mahal.keys()))]} \\n- Accuracy: {knn_mahal}')\n",
    "print(f'kNN with Euclidean:')\n",
    "print(f'- Optimal number of neighbours: {neigh_dict_eu[max(list(neigh_dict_eu.keys()))]} \\n- Accuracy: {knn_eu}')\n",
    "print(\"SVM:\")\n",
    "print(f'- Accuracy: {svm_acc}')\n",
    "print(\"Logistic Regression:\")\n",
    "print(f'- Accuracy: {log_acc}')\n",
    "print(\"Naive Bayes:\")\n",
    "print(f'- Accuracy: {bayes_acc}')\n",
    "print(\"Linear regression:\")\n",
    "print(f'- RMSE: {rmse} \\n- R2: {R2} \\n- RMSE after rounding: {rmse_rounded} \\n- Accuracy after rounding: {lin_acc}')"
   ]
  },
  {
   "cell_type": "code",
   "execution_count": 24,
   "id": "94f0d304",
   "metadata": {},
   "outputs": [
    {
     "data": {
      "text/plain": [
       "[0.56, 0.58, 0.6, 0.63, 0.64, 0.62, 0.63, 0.63]"
      ]
     },
     "execution_count": 24,
     "metadata": {},
     "output_type": "execute_result"
    }
   ],
   "source": [
    "#főkomponens analízissel\n",
    "#nézzük, mennyi főkomponenssel lesz a legjobb. (pl a logisztikus regresszió)\n",
    "from sklearn.decomposition import PCA\n",
    "\n",
    "scores = []\n",
    "\n",
    "for i in range(1,9):\n",
    "    projected = PCA(i).fit_transform(features)\n",
    "    X_train, X_test, y_train, y_test = train_test_split(projected, label, test_size=0.3, random_state=0)\n",
    "    logreg = OneVsRestClassifier(LogisticRegression(random_state=0, max_iter = 10000)).fit(X_train, y_train)\n",
    "    y_pred = logreg.predict(X_test)\n",
    "    scores.append(round(sklearn.metrics.accuracy_score(y_test, y_pred),2))\n",
    "    \n",
    "scores"
   ]
  },
  {
   "cell_type": "code",
   "execution_count": 25,
   "id": "9020f423",
   "metadata": {},
   "outputs": [
    {
     "name": "stdout",
     "output_type": "stream",
     "text": [
      "Accuracy: 0.63\n",
      "Precision: 0.62\n",
      "Recall: 0.64\n"
     ]
    }
   ],
   "source": [
    "#főkomponenses logreg\n",
    "from sklearn.decomposition import PCA\n",
    "projected = PCA(4).fit_transform(features)\n",
    "X_train, X_test, y_train, y_test = train_test_split(projected, label, test_size=0.3, random_state=0)\n",
    "\n",
    "logreg = OneVsRestClassifier(LogisticRegression(class_weight = \"balanced\", random_state=0, max_iter = 10000)).fit(X_train, y_train)\n",
    "y_pred = logreg.predict(X_test)\n",
    "\n",
    "print(f'Accuracy: {round(sklearn.metrics.accuracy_score(y_test, y_pred),2)}')\n",
    "print(f'Precision: {round(sklearn.metrics.precision_score(y_test, y_pred, average = \"macro\"),2)}')\n",
    "print(f'Recall: {round(sklearn.metrics.recall_score(y_test, y_pred, average = \"macro\"),2)}')"
   ]
  },
  {
   "cell_type": "code",
   "execution_count": 26,
   "id": "5193dbc2",
   "metadata": {},
   "outputs": [],
   "source": [
    "#nézzük meg, hogy főkompononensenként hogy változnak a különböző algoritmusok eredménymutatói, és rakjuk dataframe-be!\n",
    "PCA_scores = pd.DataFrame({\"Főkomponensek száma\":[], \"Logreg Acc.\":[], \"SVM Acc.\":[], \"Linreg RMSE\":[], \"Linreg R2\":[], \n",
    "                           \"Linreg RMSE kerekített\":[], \"Linreg Acc kerekített\":[]})\n",
    "\n",
    "\n",
    "for i in range(1,9):\n",
    "    projected = PCA(i).fit_transform(features)\n",
    "    X_train, X_test, y_train, y_test = train_test_split(projected, label, test_size=0.3, random_state=0)\n",
    "    \n",
    "    logreg = OneVsRestClassifier(LogisticRegression(class_weight = \"balanced\", random_state=0, max_iter = 10000)).fit(X_train, y_train)\n",
    "    y_pred = logreg.predict(X_test)\n",
    "    log_acc = round(sklearn.metrics.accuracy_score(y_test, y_pred),2)\n",
    "    \n",
    "    clf = OneVsRestClassifier(SVC(class_weight = \"balanced\", random_state=0)).fit(X_train, y_train)    \n",
    "    y_pred = clf.predict(X_test)\n",
    "    SVM_acc = round(sklearn.metrics.accuracy_score(y_test, y_pred),2)\n",
    "    \n",
    "    reg = LinearRegression().fit(X_train,y_train)\n",
    "    reg_pred = reg.predict(X_test)\n",
    "    rmse = round(np.power(np.sum(np.power(y_test - reg_pred, 2))/reg_pred.shape[0],0.5),2)\n",
    "    SST = np.sum(np.power(y_test-np.mean(y_test),2))\n",
    "    SSR = np.sum(np.power(reg_pred-np.mean(y_test),2))\n",
    "    R2 = round(SSR/SST,2)\n",
    "    \n",
    "    for j in range(reg_pred.shape[0]):\n",
    "        reg_pred[j] = round(reg_pred[j],0)\n",
    "    rmse_rounded = round(np.power(np.sum(np.power(y_test - reg_pred, 2))/reg_pred.shape[0],0.5),2)\n",
    "    reg_pred_rounded = round(sklearn.metrics.accuracy_score(y_test, reg_pred),2)\n",
    "    \n",
    "    #új sor a dataframe-be\n",
    "    new_row = {\"Főkomponensek száma\":i, \"Logreg Acc.\":log_acc, \"SVM Acc.\":SVM_acc, \"Linreg RMSE\":rmse, \"Linreg R2\":R2, \n",
    "               \"Linreg RMSE kerekített\":rmse_rounded, \"Linreg Acc kerekített\":reg_pred_rounded}\n",
    "    PCA_scores = PCA_scores.append(new_row, ignore_index=True)"
   ]
  },
  {
   "cell_type": "code",
   "execution_count": 27,
   "id": "43962364",
   "metadata": {},
   "outputs": [
    {
     "data": {
      "text/html": [
       "<div>\n",
       "<style scoped>\n",
       "    .dataframe tbody tr th:only-of-type {\n",
       "        vertical-align: middle;\n",
       "    }\n",
       "\n",
       "    .dataframe tbody tr th {\n",
       "        vertical-align: top;\n",
       "    }\n",
       "\n",
       "    .dataframe thead th {\n",
       "        text-align: right;\n",
       "    }\n",
       "</style>\n",
       "<table border=\"1\" class=\"dataframe\">\n",
       "  <thead>\n",
       "    <tr style=\"text-align: right;\">\n",
       "      <th></th>\n",
       "      <th>Főkomponensek száma</th>\n",
       "      <th>Logreg Acc.</th>\n",
       "      <th>SVM Acc.</th>\n",
       "      <th>Linreg RMSE</th>\n",
       "      <th>Linreg R2</th>\n",
       "      <th>Linreg RMSE kerekített</th>\n",
       "      <th>Linreg Acc kerekített</th>\n",
       "    </tr>\n",
       "  </thead>\n",
       "  <tbody>\n",
       "    <tr>\n",
       "      <th>0</th>\n",
       "      <td>1.0</td>\n",
       "      <td>0.57</td>\n",
       "      <td>0.56</td>\n",
       "      <td>0.61</td>\n",
       "      <td>0.55</td>\n",
       "      <td>0.66</td>\n",
       "      <td>0.56</td>\n",
       "    </tr>\n",
       "    <tr>\n",
       "      <th>1</th>\n",
       "      <td>2.0</td>\n",
       "      <td>0.56</td>\n",
       "      <td>0.63</td>\n",
       "      <td>0.62</td>\n",
       "      <td>0.57</td>\n",
       "      <td>0.72</td>\n",
       "      <td>0.53</td>\n",
       "    </tr>\n",
       "    <tr>\n",
       "      <th>2</th>\n",
       "      <td>3.0</td>\n",
       "      <td>0.62</td>\n",
       "      <td>0.68</td>\n",
       "      <td>0.58</td>\n",
       "      <td>0.66</td>\n",
       "      <td>0.65</td>\n",
       "      <td>0.63</td>\n",
       "    </tr>\n",
       "    <tr>\n",
       "      <th>3</th>\n",
       "      <td>4.0</td>\n",
       "      <td>0.63</td>\n",
       "      <td>0.70</td>\n",
       "      <td>0.58</td>\n",
       "      <td>0.66</td>\n",
       "      <td>0.64</td>\n",
       "      <td>0.64</td>\n",
       "    </tr>\n",
       "    <tr>\n",
       "      <th>4</th>\n",
       "      <td>5.0</td>\n",
       "      <td>0.62</td>\n",
       "      <td>0.73</td>\n",
       "      <td>0.58</td>\n",
       "      <td>0.66</td>\n",
       "      <td>0.66</td>\n",
       "      <td>0.61</td>\n",
       "    </tr>\n",
       "    <tr>\n",
       "      <th>5</th>\n",
       "      <td>6.0</td>\n",
       "      <td>0.61</td>\n",
       "      <td>0.75</td>\n",
       "      <td>0.58</td>\n",
       "      <td>0.68</td>\n",
       "      <td>0.68</td>\n",
       "      <td>0.61</td>\n",
       "    </tr>\n",
       "    <tr>\n",
       "      <th>6</th>\n",
       "      <td>7.0</td>\n",
       "      <td>0.64</td>\n",
       "      <td>0.75</td>\n",
       "      <td>0.58</td>\n",
       "      <td>0.68</td>\n",
       "      <td>0.67</td>\n",
       "      <td>0.62</td>\n",
       "    </tr>\n",
       "    <tr>\n",
       "      <th>7</th>\n",
       "      <td>8.0</td>\n",
       "      <td>0.63</td>\n",
       "      <td>0.75</td>\n",
       "      <td>0.58</td>\n",
       "      <td>0.68</td>\n",
       "      <td>0.67</td>\n",
       "      <td>0.62</td>\n",
       "    </tr>\n",
       "  </tbody>\n",
       "</table>\n",
       "</div>"
      ],
      "text/plain": [
       "   Főkomponensek száma  Logreg Acc.  SVM Acc.  Linreg RMSE  Linreg R2  \\\n",
       "0                  1.0         0.57      0.56         0.61       0.55   \n",
       "1                  2.0         0.56      0.63         0.62       0.57   \n",
       "2                  3.0         0.62      0.68         0.58       0.66   \n",
       "3                  4.0         0.63      0.70         0.58       0.66   \n",
       "4                  5.0         0.62      0.73         0.58       0.66   \n",
       "5                  6.0         0.61      0.75         0.58       0.68   \n",
       "6                  7.0         0.64      0.75         0.58       0.68   \n",
       "7                  8.0         0.63      0.75         0.58       0.68   \n",
       "\n",
       "   Linreg RMSE kerekített  Linreg Acc kerekített  \n",
       "0                    0.66                   0.56  \n",
       "1                    0.72                   0.53  \n",
       "2                    0.65                   0.63  \n",
       "3                    0.64                   0.64  \n",
       "4                    0.66                   0.61  \n",
       "5                    0.68                   0.61  \n",
       "6                    0.67                   0.62  \n",
       "7                    0.67                   0.62  "
      ]
     },
     "execution_count": 27,
     "metadata": {},
     "output_type": "execute_result"
    }
   ],
   "source": [
    "PCA_scores"
   ]
  },
  {
   "cell_type": "code",
   "execution_count": null,
   "id": "10c522d4",
   "metadata": {},
   "outputs": [],
   "source": []
  }
 ],
 "metadata": {
  "kernelspec": {
   "display_name": "Python 3 (ipykernel)",
   "language": "python",
   "name": "python3"
  },
  "language_info": {
   "codemirror_mode": {
    "name": "ipython",
    "version": 3
   },
   "file_extension": ".py",
   "mimetype": "text/x-python",
   "name": "python",
   "nbconvert_exporter": "python",
   "pygments_lexer": "ipython3",
   "version": "3.8.11"
  }
 },
 "nbformat": 4,
 "nbformat_minor": 5
}
