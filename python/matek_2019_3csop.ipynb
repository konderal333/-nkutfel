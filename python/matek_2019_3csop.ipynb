{
 "cells": [
  {
   "cell_type": "code",
   "execution_count": 22,
   "id": "e3b429db",
   "metadata": {},
   "outputs": [],
   "source": [
    "import pandas as pd\n",
    "import numpy as np\n",
    "from sklearn.model_selection import train_test_split\n",
    "from sklearn import tree\n",
    "import sklearn.metrics"
   ]
  },
  {
   "cell_type": "code",
   "execution_count": 23,
   "id": "78b52374",
   "metadata": {},
   "outputs": [],
   "source": [
    "data = pd.read_excel(\"C:/Users/Donát/Documents/GitHub/-nkutfel/2019/2019_merged_matekA1A2_cleaned.xlsx\")"
   ]
  },
  {
   "cell_type": "code",
   "execution_count": 24,
   "id": "f17e5786",
   "metadata": {},
   "outputs": [],
   "source": [
    "#szűrjük ki a nem kategorikus vagy numerikus változókat\n",
    "working_data = data.drop(labels = [\"Name\", \"Neptun\", \"Tankör\"], axis = 1)\n",
    "\n",
    "\n",
    "#alakítsuk numerikussá a %-os teljesítménymutatókat\n",
    "for i, row in working_data.iterrows():\n",
    "    working_data.at[i, \"Matek eredmény\"] = float(row[\"Matek eredmény\"][:-3] + \".\" + row[\"Matek eredmény\"][-2])\n",
    "    working_data.at[i, \"Kognitív eredmény\"] = float(row[\"Kognitív eredmény\"][:-3] + \".\" + row[\"Kognitív eredmény\"][-2])\n",
    "    working_data.at[i, \"Kognitív pont\"] = float(str(row[\"Kognitív pont\"]).replace(\",\", \".\"))\n",
    "    working_data.at[i, \"Össz eredmény (átlag)\"] = float(row[\"Össz eredmény (átlag)\"][:-3] + \".\" + row[\"Össz eredmény (átlag)\"][-2])\n",
    "\n"
   ]
  },
  {
   "cell_type": "code",
   "execution_count": 25,
   "id": "6a18710e",
   "metadata": {},
   "outputs": [],
   "source": [
    "#csináljunk a jegyek alapján 3 csoportot: a jó tanulók a 4-5, a rossz a 2-3, a bukás legyen 1\n",
    "for i, row in working_data.iterrows():\n",
    "    if working_data.at[i, \"Matematika A1a - Analízis\"] in [4, 5]:\n",
    "        working_data.at[i, \"Matematika A1a - Analízis\"] = 3\n",
    "    elif working_data.at[i, \"Matematika A1a - Analízis\"] in [2, 3]:\n",
    "        working_data.at[i, \"Matematika A1a - Analízis\"] = 2"
   ]
  },
  {
   "cell_type": "code",
   "execution_count": 26,
   "id": "56a5eac0",
   "metadata": {},
   "outputs": [
    {
     "name": "stdout",
     "output_type": "stream",
     "text": [
      "Accuracy: 0.51\n",
      "Precision: 0.33\n",
      "Recall: 0.34\n"
     ]
    },
    {
     "name": "stderr",
     "output_type": "stream",
     "text": [
      "D:\\anaconda3\\envs\\otthoni\\lib\\site-packages\\sklearn\\metrics\\_classification.py:1308: UndefinedMetricWarning: Precision is ill-defined and being set to 0.0 in labels with no predicted samples. Use `zero_division` parameter to control this behavior.\n",
      "  _warn_prf(average, modifier, msg_start, len(result))\n"
     ]
    }
   ],
   "source": [
    "#Az összes adatra\n",
    "#A matek helyes, összpont és átlag teljesítmény redundánsak, mert más attribútum értékekből származtathatóak\n",
    "features = working_data.drop(labels = [\"Matematika A1a - Analízis\", \"Matematika A2c\", \"Szak\", \"Matek helyes\", \"Összes pont\", \"Össz eredmény (átlag)\"], axis = 1)\n",
    "label = working_data[\"Matematika A1a - Analízis\"]\n",
    "X_train, X_test, y_train, y_test = train_test_split(features, label, test_size=0.3, random_state=0)\n",
    "\n",
    "clf = tree.DecisionTreeClassifier(random_state=0)\n",
    "modell = clf.fit(X_train, y_train)\n",
    "\n",
    "y_pred = modell.predict(X_test)\n",
    "y_tanito = modell.predict(X_train)\n",
    "\n",
    "#értékeljük ki a kezdetleges modellt\n",
    "\n",
    "print(f'Accuracy: {round(sklearn.metrics.accuracy_score(y_test, y_pred),2)}')\n",
    "print(f'Precision: {round(sklearn.metrics.precision_score(y_test, y_pred, average = \"macro\"),2)}')\n",
    "print(f'Recall: {round(sklearn.metrics.recall_score(y_test, y_pred, average = \"macro\"),2)}')"
   ]
  },
  {
   "cell_type": "code",
   "execution_count": 27,
   "id": "f71af0f7",
   "metadata": {},
   "outputs": [
    {
     "name": "stdout",
     "output_type": "stream",
     "text": [
      "Accuracy: 0.61\n",
      "Precision: 0.71\n",
      "Recall: 0.56\n"
     ]
    }
   ],
   "source": [
    "#SVM-re\n",
    "from sklearn.svm import SVC\n",
    "from sklearn.multiclass import OneVsRestClassifier\n",
    "clf = OneVsRestClassifier(SVC(class_weight = \"balanced\", random_state=0)).fit(X_train, y_train)     # balanced nélkül romlik a pontosság\n",
    "y_pred = clf.predict(X_test)\n",
    "\n",
    "print(f'Accuracy: {round(sklearn.metrics.accuracy_score(y_test, y_pred),2)}')\n",
    "print(f'Precision: {round(sklearn.metrics.precision_score(y_test, y_pred, average = \"macro\"),2)}')\n",
    "print(f'Recall: {round(sklearn.metrics.recall_score(y_test, y_pred, average = \"macro\"),2)}')"
   ]
  },
  {
   "cell_type": "code",
   "execution_count": 28,
   "id": "a72ca513",
   "metadata": {},
   "outputs": [
    {
     "name": "stdout",
     "output_type": "stream",
     "text": [
      "Accuracy: 0.61\n",
      "Precision: 0.36\n",
      "Recall: 0.38\n"
     ]
    },
    {
     "name": "stderr",
     "output_type": "stream",
     "text": [
      "D:\\anaconda3\\envs\\otthoni\\lib\\site-packages\\sklearn\\metrics\\_classification.py:1308: UndefinedMetricWarning: Precision is ill-defined and being set to 0.0 in labels with no predicted samples. Use `zero_division` parameter to control this behavior.\n",
      "  _warn_prf(average, modifier, msg_start, len(result))\n"
     ]
    }
   ],
   "source": [
    "#logisztikus regresszióra\n",
    "from sklearn.linear_model import LogisticRegression\n",
    "\n",
    "logreg = OneVsRestClassifier(LogisticRegression(random_state=0, max_iter = 10000)).fit(X_train, y_train)\n",
    "y_pred = logreg.predict(X_test)\n",
    "\n",
    "print(f'Accuracy: {round(sklearn.metrics.accuracy_score(y_test, y_pred),2)}')\n",
    "print(f'Precision: {round(sklearn.metrics.precision_score(y_test, y_pred, average = \"macro\"),2)}')\n",
    "print(f'Recall: {round(sklearn.metrics.recall_score(y_test, y_pred, average = \"macro\"),2)}')"
   ]
  },
  {
   "cell_type": "code",
   "execution_count": 29,
   "id": "22f0e0d9",
   "metadata": {},
   "outputs": [
    {
     "data": {
      "text/plain": [
       "0.291901282014396"
      ]
     },
     "execution_count": 29,
     "metadata": {},
     "output_type": "execute_result"
    }
   ],
   "source": [
    "#ezek után nem oneVSall: lineáris regresszió \n",
    "from sklearn.linear_model import LinearRegression\n",
    "\n",
    "reg_alap = LinearRegression().fit(features,label)\n",
    "reg_alap.score(features, label)  "
   ]
  },
  {
   "cell_type": "code",
   "execution_count": 31,
   "id": "9052eda0",
   "metadata": {},
   "outputs": [
    {
     "name": "stdout",
     "output_type": "stream",
     "text": [
      "Coefficients: [ 1.45113669e-02  2.47384165e-01  9.41732265e+00  9.38836886e+00\n",
      "  9.41616212e+00 -1.30912598e+00  2.18402829e-01 -1.45110287e-01\n",
      "  4.08008816e-03 -1.64094310e-04  4.17711266e-03  1.23124538e-03]\n",
      "RMSE: 0.49108411805015256\n"
     ]
    }
   ],
   "source": [
    "#most nézzük a tanítóhalmazon és a teszthalmazon\n",
    "\n",
    "reg = LinearRegression().fit(X_train,y_train)\n",
    "reg_pred = reg.predict(X_test)\n",
    "\n",
    "#együtthatók\n",
    "print(\"Coefficients:\", reg.coef_)\n",
    "\n",
    "#RMSE\n",
    "rmse = np.power(np.sum(np.power(y_test - reg_pred, 2))/reg_pred.shape[0],0.5)\n",
    "print(\"RMSE:\", rmse)                                           "
   ]
  },
  {
   "cell_type": "code",
   "execution_count": 32,
   "id": "92274f81",
   "metadata": {},
   "outputs": [
    {
     "data": {
      "text/plain": [
       "0.4421763200808264"
      ]
     },
     "execution_count": 32,
     "metadata": {},
     "output_type": "execute_result"
    }
   ],
   "source": [
    "#R^2 és SSR\n",
    "SST = np.sum(np.power(y_test-np.mean(y_test),2))\n",
    "SSR = np.sum(np.power(reg_pred-np.mean(y_test),2))\n",
    "R2 = SSR/SST\n",
    "R2"
   ]
  },
  {
   "cell_type": "code",
   "execution_count": 33,
   "id": "3528108b",
   "metadata": {},
   "outputs": [
    {
     "name": "stdout",
     "output_type": "stream",
     "text": [
      "RMSE: 0.6255432421712243\n"
     ]
    }
   ],
   "source": [
    "#kerekítsük a becsült értékeket!\n",
    "for i in range(reg_pred.shape[0]):\n",
    "    reg_pred[i] = round(reg_pred[i],0)\n",
    "\n",
    "rmse = np.power(np.sum(np.power(y_test - reg_pred, 2))/reg_pred.shape[0],0.5)\n",
    "print(\"RMSE:\", rmse)    "
   ]
  },
  {
   "cell_type": "code",
   "execution_count": 34,
   "id": "4db7ac4e",
   "metadata": {},
   "outputs": [
    {
     "data": {
      "text/plain": [
       "[0.65, 0.62, 0.64, 0.64, 0.65, 0.64, 0.65, 0.65]"
      ]
     },
     "execution_count": 34,
     "metadata": {},
     "output_type": "execute_result"
    }
   ],
   "source": [
    "#főkomponens analízissel\n",
    "#nézzük, mennyi főkomponenssel lesz a legjobb.\n",
    "\n",
    "scores = []\n",
    "\n",
    "for i in range(1,9):\n",
    "    projected = PCA(i).fit_transform(features)\n",
    "    X_train, X_test, y_train, y_test = train_test_split(projected, label, test_size=0.3, random_state=0)\n",
    "    logreg = OneVsRestClassifier(LogisticRegression(random_state=0, max_iter = 10000)).fit(X_train, y_train)\n",
    "    y_pred = logreg.predict(X_test)\n",
    "    scores.append(round(sklearn.metrics.accuracy_score(y_test, y_pred),2))\n",
    "    \n",
    "scores"
   ]
  },
  {
   "cell_type": "code",
   "execution_count": 35,
   "id": "e7d1b115",
   "metadata": {},
   "outputs": [
    {
     "name": "stdout",
     "output_type": "stream",
     "text": [
      "Accuracy: 0.65\n",
      "Precision: 0.39\n",
      "Recall: 0.4\n"
     ]
    },
    {
     "name": "stderr",
     "output_type": "stream",
     "text": [
      "D:\\anaconda3\\envs\\otthoni\\lib\\site-packages\\sklearn\\metrics\\_classification.py:1308: UndefinedMetricWarning: Precision is ill-defined and being set to 0.0 in labels with no predicted samples. Use `zero_division` parameter to control this behavior.\n",
      "  _warn_prf(average, modifier, msg_start, len(result))\n"
     ]
    }
   ],
   "source": [
    "#főkomponenses logreg\n",
    "from sklearn.decomposition import PCA\n",
    "projected = PCA(5).fit_transform(features)\n",
    "X_train, X_test, y_train, y_test = train_test_split(projected, label, test_size=0.3, random_state=0)\n",
    "\n",
    "logreg = OneVsRestClassifier(LogisticRegression(random_state=0, max_iter = 10000)).fit(X_train, y_train)\n",
    "y_pred = logreg.predict(X_test)\n",
    "\n",
    "print(f'Accuracy: {round(sklearn.metrics.accuracy_score(y_test, y_pred),2)}')\n",
    "print(f'Precision: {round(sklearn.metrics.precision_score(y_test, y_pred, average = \"macro\"),2)}')\n",
    "print(f'Recall: {round(sklearn.metrics.recall_score(y_test, y_pred, average = \"macro\"),2)}')"
   ]
  },
  {
   "cell_type": "code",
   "execution_count": 36,
   "id": "b5d12f9d",
   "metadata": {},
   "outputs": [],
   "source": [
    "#nézzük meg, hogy főkompononensenként hogy változnak a különböző algoritmusok eredménymutatói, és rakjuk dataframe-be!\n",
    "PCA_scores = pd.DataFrame({\"Főkomponensek száma\":[], \"Logreg Acc.\":[], \"SVM Acc.\":[], \"Linreg RMSE\":[], \"Linreg R2\":[], \n",
    "                           \"Linreg RMSE kerekített\":[]})\n",
    "\n",
    "\n",
    "for i in range(1,9):\n",
    "    projected = PCA(i).fit_transform(features)\n",
    "    X_train, X_test, y_train, y_test = train_test_split(projected, label, test_size=0.3, random_state=0)\n",
    "    \n",
    "    logreg = OneVsRestClassifier(LogisticRegression(random_state=0, max_iter = 10000)).fit(X_train, y_train)\n",
    "    y_pred = logreg.predict(X_test)\n",
    "    log_acc = round(sklearn.metrics.accuracy_score(y_test, y_pred),2)\n",
    "    \n",
    "    clf = OneVsRestClassifier(SVC(class_weight = \"balanced\", random_state=0)).fit(X_train, y_train)    \n",
    "    y_pred = clf.predict(X_test)\n",
    "    SVM_acc = round(sklearn.metrics.accuracy_score(y_test, y_pred),2)\n",
    "    \n",
    "    reg = LinearRegression().fit(X_train,y_train)\n",
    "    reg_pred = reg.predict(X_test)\n",
    "    rmse = round(np.power(np.sum(np.power(y_test - reg_pred, 2))/reg_pred.shape[0],0.5),2)\n",
    "    SST = np.sum(np.power(y_test-np.mean(y_test),2))\n",
    "    SSR = np.sum(np.power(reg_pred-np.mean(y_test),2))\n",
    "    R2 = round(SSR/SST,2)\n",
    "    \n",
    "    for j in range(reg_pred.shape[0]):\n",
    "        reg_pred[j] = round(reg_pred[j],0)\n",
    "    rmse_rounded = round(np.power(np.sum(np.power(y_test - reg_pred, 2))/reg_pred.shape[0],0.5),2)\n",
    "    \n",
    "    #új sor a dataframe-be\n",
    "    new_row = {\"Főkomponensek száma\":i, \"Logreg Acc.\":log_acc, \"SVM Acc.\":SVM_acc, \"Linreg RMSE\":rmse, \"Linreg R2\":R2, \n",
    "               \"Linreg RMSE kerekített\":rmse_rounded}\n",
    "    PCA_scores = PCA_scores.append(new_row, ignore_index=True)"
   ]
  },
  {
   "cell_type": "code",
   "execution_count": 37,
   "id": "2471b62f",
   "metadata": {},
   "outputs": [
    {
     "data": {
      "text/html": [
       "<div>\n",
       "<style scoped>\n",
       "    .dataframe tbody tr th:only-of-type {\n",
       "        vertical-align: middle;\n",
       "    }\n",
       "\n",
       "    .dataframe tbody tr th {\n",
       "        vertical-align: top;\n",
       "    }\n",
       "\n",
       "    .dataframe thead th {\n",
       "        text-align: right;\n",
       "    }\n",
       "</style>\n",
       "<table border=\"1\" class=\"dataframe\">\n",
       "  <thead>\n",
       "    <tr style=\"text-align: right;\">\n",
       "      <th></th>\n",
       "      <th>Főkomponensek száma</th>\n",
       "      <th>Logreg Acc.</th>\n",
       "      <th>SVM Acc.</th>\n",
       "      <th>Linreg RMSE</th>\n",
       "      <th>Linreg R2</th>\n",
       "      <th>Linreg RMSE kerekített</th>\n",
       "    </tr>\n",
       "  </thead>\n",
       "  <tbody>\n",
       "    <tr>\n",
       "      <th>0</th>\n",
       "      <td>1.0</td>\n",
       "      <td>0.65</td>\n",
       "      <td>0.61</td>\n",
       "      <td>0.48</td>\n",
       "      <td>0.42</td>\n",
       "      <td>0.59</td>\n",
       "    </tr>\n",
       "    <tr>\n",
       "      <th>1</th>\n",
       "      <td>2.0</td>\n",
       "      <td>0.62</td>\n",
       "      <td>0.58</td>\n",
       "      <td>0.49</td>\n",
       "      <td>0.42</td>\n",
       "      <td>0.61</td>\n",
       "    </tr>\n",
       "    <tr>\n",
       "      <th>2</th>\n",
       "      <td>3.0</td>\n",
       "      <td>0.64</td>\n",
       "      <td>0.62</td>\n",
       "      <td>0.48</td>\n",
       "      <td>0.43</td>\n",
       "      <td>0.59</td>\n",
       "    </tr>\n",
       "    <tr>\n",
       "      <th>3</th>\n",
       "      <td>4.0</td>\n",
       "      <td>0.64</td>\n",
       "      <td>0.59</td>\n",
       "      <td>0.48</td>\n",
       "      <td>0.43</td>\n",
       "      <td>0.60</td>\n",
       "    </tr>\n",
       "    <tr>\n",
       "      <th>4</th>\n",
       "      <td>5.0</td>\n",
       "      <td>0.65</td>\n",
       "      <td>0.64</td>\n",
       "      <td>0.49</td>\n",
       "      <td>0.43</td>\n",
       "      <td>0.60</td>\n",
       "    </tr>\n",
       "    <tr>\n",
       "      <th>5</th>\n",
       "      <td>6.0</td>\n",
       "      <td>0.64</td>\n",
       "      <td>0.61</td>\n",
       "      <td>0.49</td>\n",
       "      <td>0.43</td>\n",
       "      <td>0.60</td>\n",
       "    </tr>\n",
       "    <tr>\n",
       "      <th>6</th>\n",
       "      <td>7.0</td>\n",
       "      <td>0.65</td>\n",
       "      <td>0.61</td>\n",
       "      <td>0.49</td>\n",
       "      <td>0.43</td>\n",
       "      <td>0.60</td>\n",
       "    </tr>\n",
       "    <tr>\n",
       "      <th>7</th>\n",
       "      <td>8.0</td>\n",
       "      <td>0.65</td>\n",
       "      <td>0.61</td>\n",
       "      <td>0.48</td>\n",
       "      <td>0.43</td>\n",
       "      <td>0.61</td>\n",
       "    </tr>\n",
       "  </tbody>\n",
       "</table>\n",
       "</div>"
      ],
      "text/plain": [
       "   Főkomponensek száma  Logreg Acc.  SVM Acc.  Linreg RMSE  Linreg R2  \\\n",
       "0                  1.0         0.65      0.61         0.48       0.42   \n",
       "1                  2.0         0.62      0.58         0.49       0.42   \n",
       "2                  3.0         0.64      0.62         0.48       0.43   \n",
       "3                  4.0         0.64      0.59         0.48       0.43   \n",
       "4                  5.0         0.65      0.64         0.49       0.43   \n",
       "5                  6.0         0.64      0.61         0.49       0.43   \n",
       "6                  7.0         0.65      0.61         0.49       0.43   \n",
       "7                  8.0         0.65      0.61         0.48       0.43   \n",
       "\n",
       "   Linreg RMSE kerekített  \n",
       "0                    0.59  \n",
       "1                    0.61  \n",
       "2                    0.59  \n",
       "3                    0.60  \n",
       "4                    0.60  \n",
       "5                    0.60  \n",
       "6                    0.60  \n",
       "7                    0.61  "
      ]
     },
     "execution_count": 37,
     "metadata": {},
     "output_type": "execute_result"
    }
   ],
   "source": [
    "PCA_scores"
   ]
  },
  {
   "cell_type": "code",
   "execution_count": 18,
   "id": "69f07eba",
   "metadata": {},
   "outputs": [
    {
     "name": "stdout",
     "output_type": "stream",
     "text": [
      "Accuracy: 0.52\n"
     ]
    }
   ],
   "source": [
    "#Naive bayes-szel\n",
    "from sklearn.naive_bayes import GaussianNB\n",
    "\n",
    "#visszaállítjuk a főkomponensekről\n",
    "features = working_data.drop(labels = [\"Matematika A1a - Analízis\", \"Matematika A2c\", \"Szak\", \"Matek helyes\", \"Összes pont\", \"Össz eredmény (átlag)\"], axis = 1)\n",
    "label = working_data[\"Matematika A1a - Analízis\"]\n",
    "X_train, X_test, y_train, y_test = train_test_split(features, label, test_size=0.3, random_state=0)\n",
    "\n",
    "#Teszt és tanítóadat\n",
    "\n",
    "features = working_data.drop(labels = [\"Matematika A1a - Analízis\", \"Matematika A2c\", \"Szak\"], axis = 1)\n",
    "label = working_data[\"Matematika A1a - Analízis\"]\n",
    "X_train, X_test, y_train, y_test = train_test_split(features, label, test_size=0.3, random_state=0)\n",
    "\n",
    "clf = GaussianNB()\n",
    "clf.fit(X_train, y_train)\n",
    "y_pred = clf.predict(X_test)\n",
    "\n",
    "print(f'Accuracy: {round(sklearn.metrics.accuracy_score(y_test, y_pred),2)}')\n"
   ]
  },
  {
   "cell_type": "code",
   "execution_count": null,
   "id": "ba2c4872",
   "metadata": {},
   "outputs": [],
   "source": []
  }
 ],
 "metadata": {
  "kernelspec": {
   "display_name": "Python 3 (ipykernel)",
   "language": "python",
   "name": "python3"
  },
  "language_info": {
   "codemirror_mode": {
    "name": "ipython",
    "version": 3
   },
   "file_extension": ".py",
   "mimetype": "text/x-python",
   "name": "python",
   "nbconvert_exporter": "python",
   "pygments_lexer": "ipython3",
   "version": "3.8.11"
  }
 },
 "nbformat": 4,
 "nbformat_minor": 5
}
