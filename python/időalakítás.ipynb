{
 "cells": [
  {
   "cell_type": "code",
   "execution_count": 1,
   "id": "b11ebe36",
   "metadata": {},
   "outputs": [],
   "source": [
    "import pandas as pd\n",
    "import numpy as np\n",
    "\n",
    "data_2020 = pd.read_excel(\"C:/Users/kolle/OneDrive/Dokumentumok/GitHub/-nkutfel/Áltkémes zh nélküli 2020.xlsx\")"
   ]
  },
  {
   "cell_type": "code",
   "execution_count": 5,
   "id": "8e563113",
   "metadata": {},
   "outputs": [],
   "source": [
    "def idoatalakito(t): #ez a függvény csak is a meglévő adatokra aktuális, ugyanis csak 1 olyan rekord van, ahol nem 5 és nem 7\n",
    "    if len(t) == 7:      #az idő string hossza, és ott 5 mp az eltelt idő nagysága.\n",
    "        ora = int(t[0])\n",
    "        perc = int(t[2:4])\n",
    "        mp = int(t[5:])\n",
    "        ido = 3600*ora + 60*perc + mp\n",
    "    elif len(t) == 5:\n",
    "        perc = int(t[0:2])\n",
    "        mp = int(t[3:])\n",
    "        ido = 60*perc + mp\n",
    "    else:\n",
    "        ido = 5\n",
    "    return ido"
   ]
  },
  {
   "cell_type": "code",
   "execution_count": 8,
   "id": "c8d04d40",
   "metadata": {},
   "outputs": [],
   "source": [
    "new_times = []\n",
    "\n",
    "for i in data_2020[\"idő\"]:\n",
    "    new_times.append(idoatalakito(i))\n",
    "\n",
    "data_2020[\"idő\"] = new_times"
   ]
  },
  {
   "cell_type": "code",
   "execution_count": 11,
   "id": "33a2d10b",
   "metadata": {},
   "outputs": [],
   "source": [
    "data_2020.to_excel(\"Áltkémes zh nélküli 2020 idővel.xlsx\")"
   ]
  },
  {
   "cell_type": "code",
   "execution_count": null,
   "id": "e7564c18",
   "metadata": {},
   "outputs": [],
   "source": []
  }
 ],
 "metadata": {
  "kernelspec": {
   "display_name": "Python 3",
   "language": "python",
   "name": "python3"
  },
  "language_info": {
   "codemirror_mode": {
    "name": "ipython",
    "version": 3
   },
   "file_extension": ".py",
   "mimetype": "text/x-python",
   "name": "python",
   "nbconvert_exporter": "python",
   "pygments_lexer": "ipython3",
   "version": "3.8.8"
  }
 },
 "nbformat": 4,
 "nbformat_minor": 5
}
