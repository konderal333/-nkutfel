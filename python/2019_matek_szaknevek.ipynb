{
 "cells": [
  {
   "cell_type": "code",
   "execution_count": 1,
   "id": "4dad13ad",
   "metadata": {},
   "outputs": [],
   "source": [
    "import pandas as pd"
   ]
  },
  {
   "cell_type": "code",
   "execution_count": 18,
   "id": "85dcf0f4",
   "metadata": {},
   "outputs": [],
   "source": [
    "data_2019 = pd.read_excel(\"C:/Users/Donát/Desktop/önkutfel/2019-adatok-overall.xlsx\")\n",
    "\n",
    "szak_list = []\n",
    "\n",
    "for index, row in data_2019.iterrows():\n",
    "    if \"bio\" in row[\"Szak\"].lower():\n",
    "        szak_list.append(\"Biomérnöki\")\n",
    "    elif \"vegy\" in row[\"Szak\"].lower():\n",
    "        szak_list.append(\"Vegyészmérnöki\")\n",
    "    elif \"nyezet\" in row[\"Szak\"].lower():\n",
    "        szak_list.append(\"Környezetmérnöki\")\n",
    "    else:\n",
    "        szak_list.append(\"UNKOWN\")\n",
    "        \n",
    "data_2019[\"Szak\"] = szak_list\n",
    "\n",
    "data_2019.to_excel(\"data_2019_cleaned.xlsx\")"
   ]
  },
  {
   "cell_type": "code",
   "execution_count": 33,
   "id": "cc013b1c",
   "metadata": {},
   "outputs": [],
   "source": [
    "data_2020 = pd.read_excel(\"C:/Users/Donát/Desktop/önkutfel/cleaned/data_2020_cleaned.xlsx\")\n",
    "\n",
    "szak_list_2020 = []\n",
    "\n",
    "for index, row in data_2020.iterrows():\n",
    "    if \"bio\" in row[\"Szak\"].lower():\n",
    "        szak_list_2020.append(\"Biomérnöki\")\n",
    "    elif \"vegy\" in row[\"Szak\"].lower():\n",
    "        szak_list_2020.append(\"Vegyészmérnöki\")\n",
    "    elif \"nyezet\" in row[\"Szak\"].lower():\n",
    "        szak_list_2020.append(\"Környezetmérnöki\")\n",
    "    else:\n",
    "        szak_list_2020.append(\"UNKOWN\")\n",
    "        \n",
    "data_2020[\"Szak\"] = szak_list_2020\n",
    "\n",
    "data_2020.rename(columns={'név':'Name', \n",
    "                          'Neptun-kód':'Neptun', \n",
    "                          'Matematika vagy természettudományi tagozatos volt-e? (Igen/Nem)':'Mat_term_tag',\n",
    "                          'Emelt szinten érettségizett matematikából? (Igen/Nem)':'Emelt',\n",
    "                          'Volt-e matematika órája 12.-ben a karanténos időszakban?':'12_ora_tipus',\n",
    "                          'Adja meg lakhelye irányítószámát:':'Postcode'\n",
    "                          }, inplace = True)\n",
    "\n",
    "data_2020.to_excel(\"data_2020_cleaned.xlsx\")"
   ]
  },
  {
   "cell_type": "code",
   "execution_count": 25,
   "id": "35af89a2",
   "metadata": {},
   "outputs": [],
   "source": [
    "data_2021_1 = pd.read_excel(\"C:/Users/Donát/Desktop/önkutfel/BME-VBK-Felmero-2021.xlsx\")\n",
    "\n",
    "szak_list_2021 = []\n",
    "\n",
    "for index, row in data_2021_1.iterrows():\n",
    "    if \"bio\" in row[\"Szak\"].lower():\n",
    "        szak_list_2021.append(\"Biomérnöki\")\n",
    "    elif \"vegy\" in row[\"Szak\"].lower():\n",
    "        szak_list_2021.append(\"Vegyészmérnöki\")\n",
    "    elif \"nyezet\" in row[\"Szak\"].lower():\n",
    "        szak_list_2021.append(\"Környezetmérnöki\")\n",
    "    else:\n",
    "        szak_list_2021.append(\"UNKOWN\")\n",
    "\n",
    "data_2021_1[\"Szak\"] = szak_list_2021\n",
    "\n",
    "data_2021_1.rename(columns={'név':'Name', \n",
    "                          'Neptun-kód':'Neptun', \n",
    "                          'Matematika vagy természettudományi tagozatos volt-e? (Igen/Nem)':'Mat_term_tag',\n",
    "                          'Emelt szinten érettségizett matematikából? (Igen/Nem)':'Emelt',\n",
    "                          'Volt-e matematika órája 12.-ben a karanténos időszakban?':'12_ora_tipus',\n",
    "                          'Adja meg lakhelye irányítószámát':'Postcode'\n",
    "                          }, inplace=True)\n",
    "\n",
    "data_2021_1.to_excel(\"data_2021_1_cleaned.xlsx\")"
   ]
  },
  {
   "cell_type": "code",
   "execution_count": 38,
   "id": "28be92f0",
   "metadata": {},
   "outputs": [],
   "source": [
    "data_2021_2 = pd.read_excel(\"C:/Users/Donát/Desktop/önkutfel/BME-VBK-Felmero-2021-r2.xlsx\")\n",
    "\n",
    "\n",
    "szak_list_2021_2 = []\n",
    "\n",
    "for index, row in data_2021_2.iterrows():\n",
    "    if \"bio\" in row[\"Szak\"].lower():\n",
    "        szak_list_2021_2.append(\"Biomérnöki\")\n",
    "    elif \"vegy\" in row[\"Szak\"].lower():\n",
    "        szak_list_2021_2.append(\"Vegyészmérnöki\")\n",
    "    elif \"nyezet\" in row[\"Szak\"].lower():\n",
    "        szak_list_2021_2.append(\"Környezetmérnöki\")\n",
    "    else:\n",
    "        szak_list_2021_2.append(\"UNKOWN\")\n",
    "\n",
    "data_2021_2[\"Szak\"] = szak_list_2021_2\n",
    "\n",
    "data_2021_2.rename(columns={'név':'Name', \n",
    "                          'Neptun-kód':'Neptun', \n",
    "                          'Matematika vagy természettudományi tagozatos volt-e? (Igen/Nem)':'Mat_term_tag',\n",
    "                          'Emelt szinten érettségizett matematikából? (Igen/Nem)':'Emelt',\n",
    "                          'Volt-e matematika órája 12.-ben a karanténos időszakban?':'12_ora_tipus',\n",
    "                          'Adja meg lakhelye irányítószámát':'Postcode'\n",
    "                          }, inplace=True)\n",
    "\n",
    "\n",
    "data_2021_2.to_excel(\"data_2021_2_cleaned.xlsx\")"
   ]
  }
 ],
 "metadata": {
  "kernelspec": {
   "display_name": "Python 3 (ipykernel)",
   "language": "python",
   "name": "python3"
  },
  "language_info": {
   "codemirror_mode": {
    "name": "ipython",
    "version": 3
   },
   "file_extension": ".py",
   "mimetype": "text/x-python",
   "name": "python",
   "nbconvert_exporter": "python",
   "pygments_lexer": "ipython3",
   "version": "3.8.11"
  }
 },
 "nbformat": 4,
 "nbformat_minor": 5
}
