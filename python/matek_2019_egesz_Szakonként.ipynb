{
 "cells": [
  {
   "cell_type": "code",
   "execution_count": 1,
   "id": "40216c7c",
   "metadata": {},
   "outputs": [],
   "source": [
    "import pandas as pd\n",
    "import numpy as np\n",
    "from sklearn.model_selection import train_test_split\n",
    "from sklearn import tree\n",
    "import sklearn.metrics"
   ]
  },
  {
   "cell_type": "code",
   "execution_count": 2,
   "id": "088ab4ea",
   "metadata": {},
   "outputs": [],
   "source": [
    "data = pd.read_excel(\"C:/Users/Donát/Documents/GitHub/-nkutfel/2019/2019_merged_matekA1A2_cleaned.xlsx\")"
   ]
  },
  {
   "cell_type": "code",
   "execution_count": 3,
   "id": "d1302de6",
   "metadata": {},
   "outputs": [],
   "source": [
    "#szűrjük ki a nem kategorikus vagy numerikus változókat\n",
    "working_data = data.drop(labels = [\"Name\", \"Neptun\", \"Tankör\"], axis = 1)\n",
    "\n",
    "\n",
    "#alakítsuk numerikussá a %-os teljesítménymutatókat\n",
    "for i, row in working_data.iterrows():\n",
    "    working_data.at[i, \"Matek eredmény\"] = float(row[\"Matek eredmény\"][:-3] + \".\" + row[\"Matek eredmény\"][-2])\n",
    "    working_data.at[i, \"Kognitív eredmény\"] = float(row[\"Kognitív eredmény\"][:-3] + \".\" + row[\"Kognitív eredmény\"][-2])\n",
    "    working_data.at[i, \"Kognitív pont\"] = float(str(row[\"Kognitív pont\"]).replace(\",\", \".\"))\n",
    "    working_data.at[i, \"Össz eredmény (átlag)\"] = float(row[\"Össz eredmény (átlag)\"][:-3] + \".\" + row[\"Össz eredmény (átlag)\"][-2])\n",
    "\n"
   ]
  },
  {
   "cell_type": "markdown",
   "id": "70820825",
   "metadata": {},
   "source": [
    "**Innen jönnek a Vegyészek:**"
   ]
  },
  {
   "cell_type": "code",
   "execution_count": 4,
   "id": "963b3557",
   "metadata": {
    "scrolled": true
   },
   "outputs": [
    {
     "name": "stdout",
     "output_type": "stream",
     "text": [
      "Accuracy: 0.22\n",
      "Precision: 0.21\n",
      "Recall: 0.16\n"
     ]
    },
    {
     "name": "stderr",
     "output_type": "stream",
     "text": [
      "D:\\anaconda3\\envs\\otthoni\\lib\\site-packages\\sklearn\\metrics\\_classification.py:1308: UndefinedMetricWarning: Recall is ill-defined and being set to 0.0 in labels with no true samples. Use `zero_division` parameter to control this behavior.\n",
      "  _warn_prf(average, modifier, msg_start, len(result))\n"
     ]
    }
   ],
   "source": [
    "#VEGYÉSZEKRE innen\n",
    "#kiszedjük a matek helyes, összes pont és össz eredmény változókat mert redundánsak\n",
    "vegyesz = working_data.query(\"Szak == 'Vegyészmérnöki'\")\n",
    "features = vegyesz.drop(labels = [\"Matematika A1a - Analízis\", \"Matematika A2c\", \"Szak\", \"Matek helyes\", \"Összes pont\", \"Össz eredmény (átlag)\"], axis = 1)\n",
    "label = vegyesz[\"Matematika A1a - Analízis\"]\n",
    "X_train, X_test, y_train, y_test = train_test_split(features, label, test_size=0.3, random_state=0)\n",
    "\n",
    "clf_veg = tree.DecisionTreeClassifier(random_state=0)\n",
    "modell_veg = clf_veg.fit(X_train, y_train)\n",
    "\n",
    "y_pred = modell_veg.predict(X_test)\n",
    "y_tanito = modell_veg.predict(X_train)\n",
    "\n",
    "print(f'Accuracy: {round(sklearn.metrics.accuracy_score(y_test, y_pred),2)}')\n",
    "print(f'Precision: {round(sklearn.metrics.precision_score(y_test, y_pred, average = \"macro\"),2)}')\n",
    "print(f'Recall: {round(sklearn.metrics.recall_score(y_test, y_pred, average = \"macro\"),2)}')\n"
   ]
  },
  {
   "cell_type": "code",
   "execution_count": 5,
   "id": "a10b9833",
   "metadata": {},
   "outputs": [
    {
     "name": "stdout",
     "output_type": "stream",
     "text": [
      "Accuracy: 0.56\n",
      "Precision: 0.36\n",
      "Recall: 0.44\n"
     ]
    },
    {
     "name": "stderr",
     "output_type": "stream",
     "text": [
      "D:\\anaconda3\\envs\\otthoni\\lib\\site-packages\\sklearn\\metrics\\_classification.py:1308: UndefinedMetricWarning: Precision is ill-defined and being set to 0.0 in labels with no predicted samples. Use `zero_division` parameter to control this behavior.\n",
      "  _warn_prf(average, modifier, msg_start, len(result))\n"
     ]
    }
   ],
   "source": [
    "#SVM-re\n",
    "from sklearn.svm import SVC\n",
    "from sklearn.multiclass import OneVsRestClassifier\n",
    "clf = OneVsRestClassifier(SVC(C = 2.5, class_weight = \"balanced\", random_state=0)).fit(X_train, y_train)     # balanced nélkül romlik a pontosság\n",
    "y_pred = clf.predict(X_test)\n",
    "\n",
    "print(f'Accuracy: {round(sklearn.metrics.accuracy_score(y_test, y_pred),2)}')\n",
    "print(f'Precision: {round(sklearn.metrics.precision_score(y_test, y_pred, average = \"macro\"),2)}')\n",
    "print(f'Recall: {round(sklearn.metrics.recall_score(y_test, y_pred, average = \"macro\"),2)}')"
   ]
  },
  {
   "cell_type": "code",
   "execution_count": 6,
   "id": "5c4f1353",
   "metadata": {},
   "outputs": [
    {
     "data": {
      "text/plain": [
       "[0.44,\n",
       " 0.44,\n",
       " 0.53,\n",
       " 0.44,\n",
       " 0.56,\n",
       " 0.5,\n",
       " 0.56,\n",
       " 0.56,\n",
       " 0.56,\n",
       " 0.58,\n",
       " 0.53,\n",
       " 0.53,\n",
       " 0.53,\n",
       " 0.53,\n",
       " 0.53,\n",
       " 0.53,\n",
       " 0.53,\n",
       " 0.56,\n",
       " 0.56,\n",
       " 0.56,\n",
       " 0.56,\n",
       " 0.56,\n",
       " 0.56,\n",
       " 0.56,\n",
       " 0.56,\n",
       " 0.56,\n",
       " 0.56,\n",
       " 0.56,\n",
       " 0.56,\n",
       " 0.53,\n",
       " 0.5,\n",
       " 0.5,\n",
       " 0.5,\n",
       " 0.5,\n",
       " 0.5,\n",
       " 0.53,\n",
       " 0.47,\n",
       " 0.5,\n",
       " 0.5,\n",
       " 0.47,\n",
       " 0.47,\n",
       " 0.47,\n",
       " 0.47,\n",
       " 0.47,\n",
       " 0.47,\n",
       " 0.44,\n",
       " 0.42,\n",
       " 0.42,\n",
       " 0.42,\n",
       " 0.42,\n",
       " 0.42,\n",
       " 0.44,\n",
       " 0.44,\n",
       " 0.44,\n",
       " 0.44,\n",
       " 0.44,\n",
       " 0.44,\n",
       " 0.44,\n",
       " 0.44,\n",
       " 0.44,\n",
       " 0.44,\n",
       " 0.44,\n",
       " 0.44,\n",
       " 0.42,\n",
       " 0.42,\n",
       " 0.42,\n",
       " 0.42,\n",
       " 0.44,\n",
       " 0.44,\n",
       " 0.44,\n",
       " 0.44,\n",
       " 0.44,\n",
       " 0.44,\n",
       " 0.44,\n",
       " 0.44,\n",
       " 0.44,\n",
       " 0.44,\n",
       " 0.44,\n",
       " 0.47,\n",
       " 0.47,\n",
       " 0.47,\n",
       " 0.47,\n",
       " 0.47,\n",
       " 0.47,\n",
       " 0.44,\n",
       " 0.44,\n",
       " 0.44,\n",
       " 0.44,\n",
       " 0.44,\n",
       " 0.44,\n",
       " 0.44,\n",
       " 0.44,\n",
       " 0.44,\n",
       " 0.44,\n",
       " 0.44,\n",
       " 0.44,\n",
       " 0.44,\n",
       " 0.44,\n",
       " 0.44]"
      ]
     },
     "execution_count": 6,
     "metadata": {},
     "output_type": "execute_result"
    }
   ],
   "source": [
    "#tesztelés megfelelő C-hez\n",
    "scores_svm = []\n",
    "for i in range(1,100):\n",
    "    clf = OneVsRestClassifier(SVC(C = i*0.1, class_weight = \"balanced\", random_state=0)).fit(X_train, y_train)    \n",
    "    y_pred = clf.predict(X_test)\n",
    "    scores_svm.append(round(sklearn.metrics.accuracy_score(y_test, y_pred),2))\n",
    "scores_svm"
   ]
  },
  {
   "cell_type": "code",
   "execution_count": 7,
   "id": "2199fa7a",
   "metadata": {},
   "outputs": [
    {
     "name": "stderr",
     "output_type": "stream",
     "text": [
      "D:\\anaconda3\\envs\\otthoni\\lib\\site-packages\\sklearn\\model_selection\\_split.py:676: UserWarning: The least populated class in y has only 1 members, which is less than n_splits=10.\n",
      "  warnings.warn(\n",
      "D:\\anaconda3\\envs\\otthoni\\lib\\site-packages\\sklearn\\model_selection\\_split.py:676: UserWarning: The least populated class in y has only 1 members, which is less than n_splits=10.\n",
      "  warnings.warn(\n",
      "D:\\anaconda3\\envs\\otthoni\\lib\\site-packages\\sklearn\\model_selection\\_split.py:676: UserWarning: The least populated class in y has only 1 members, which is less than n_splits=10.\n",
      "  warnings.warn(\n",
      "D:\\anaconda3\\envs\\otthoni\\lib\\site-packages\\sklearn\\model_selection\\_split.py:676: UserWarning: The least populated class in y has only 1 members, which is less than n_splits=10.\n",
      "  warnings.warn(\n",
      "D:\\anaconda3\\envs\\otthoni\\lib\\site-packages\\sklearn\\model_selection\\_split.py:676: UserWarning: The least populated class in y has only 1 members, which is less than n_splits=10.\n",
      "  warnings.warn(\n",
      "D:\\anaconda3\\envs\\otthoni\\lib\\site-packages\\sklearn\\model_selection\\_split.py:676: UserWarning: The least populated class in y has only 1 members, which is less than n_splits=10.\n",
      "  warnings.warn(\n",
      "D:\\anaconda3\\envs\\otthoni\\lib\\site-packages\\sklearn\\model_selection\\_split.py:676: UserWarning: The least populated class in y has only 1 members, which is less than n_splits=10.\n",
      "  warnings.warn(\n",
      "D:\\anaconda3\\envs\\otthoni\\lib\\site-packages\\sklearn\\model_selection\\_split.py:676: UserWarning: The least populated class in y has only 1 members, which is less than n_splits=10.\n",
      "  warnings.warn(\n",
      "D:\\anaconda3\\envs\\otthoni\\lib\\site-packages\\sklearn\\model_selection\\_split.py:676: UserWarning: The least populated class in y has only 1 members, which is less than n_splits=10.\n",
      "  warnings.warn(\n",
      "D:\\anaconda3\\envs\\otthoni\\lib\\site-packages\\sklearn\\model_selection\\_split.py:676: UserWarning: The least populated class in y has only 1 members, which is less than n_splits=10.\n",
      "  warnings.warn(\n",
      "D:\\anaconda3\\envs\\otthoni\\lib\\site-packages\\sklearn\\model_selection\\_split.py:676: UserWarning: The least populated class in y has only 1 members, which is less than n_splits=10.\n",
      "  warnings.warn(\n",
      "D:\\anaconda3\\envs\\otthoni\\lib\\site-packages\\sklearn\\model_selection\\_split.py:676: UserWarning: The least populated class in y has only 1 members, which is less than n_splits=10.\n",
      "  warnings.warn(\n",
      "D:\\anaconda3\\envs\\otthoni\\lib\\site-packages\\sklearn\\model_selection\\_split.py:676: UserWarning: The least populated class in y has only 1 members, which is less than n_splits=10.\n",
      "  warnings.warn(\n",
      "D:\\anaconda3\\envs\\otthoni\\lib\\site-packages\\sklearn\\model_selection\\_split.py:676: UserWarning: The least populated class in y has only 1 members, which is less than n_splits=10.\n",
      "  warnings.warn(\n",
      "D:\\anaconda3\\envs\\otthoni\\lib\\site-packages\\sklearn\\model_selection\\_split.py:676: UserWarning: The least populated class in y has only 1 members, which is less than n_splits=10.\n",
      "  warnings.warn(\n",
      "D:\\anaconda3\\envs\\otthoni\\lib\\site-packages\\sklearn\\model_selection\\_split.py:676: UserWarning: The least populated class in y has only 1 members, which is less than n_splits=10.\n",
      "  warnings.warn(\n",
      "D:\\anaconda3\\envs\\otthoni\\lib\\site-packages\\sklearn\\model_selection\\_split.py:676: UserWarning: The least populated class in y has only 1 members, which is less than n_splits=10.\n",
      "  warnings.warn(\n",
      "D:\\anaconda3\\envs\\otthoni\\lib\\site-packages\\sklearn\\model_selection\\_split.py:676: UserWarning: The least populated class in y has only 1 members, which is less than n_splits=10.\n",
      "  warnings.warn(\n",
      "D:\\anaconda3\\envs\\otthoni\\lib\\site-packages\\sklearn\\model_selection\\_split.py:676: UserWarning: The least populated class in y has only 1 members, which is less than n_splits=10.\n",
      "  warnings.warn(\n",
      "D:\\anaconda3\\envs\\otthoni\\lib\\site-packages\\sklearn\\model_selection\\_split.py:676: UserWarning: The least populated class in y has only 1 members, which is less than n_splits=10.\n",
      "  warnings.warn(\n",
      "D:\\anaconda3\\envs\\otthoni\\lib\\site-packages\\sklearn\\model_selection\\_split.py:676: UserWarning: The least populated class in y has only 1 members, which is less than n_splits=10.\n",
      "  warnings.warn(\n",
      "D:\\anaconda3\\envs\\otthoni\\lib\\site-packages\\sklearn\\model_selection\\_split.py:676: UserWarning: The least populated class in y has only 1 members, which is less than n_splits=10.\n",
      "  warnings.warn(\n",
      "D:\\anaconda3\\envs\\otthoni\\lib\\site-packages\\sklearn\\model_selection\\_split.py:676: UserWarning: The least populated class in y has only 1 members, which is less than n_splits=10.\n",
      "  warnings.warn(\n",
      "D:\\anaconda3\\envs\\otthoni\\lib\\site-packages\\sklearn\\model_selection\\_split.py:676: UserWarning: The least populated class in y has only 1 members, which is less than n_splits=10.\n",
      "  warnings.warn(\n",
      "D:\\anaconda3\\envs\\otthoni\\lib\\site-packages\\sklearn\\model_selection\\_split.py:676: UserWarning: The least populated class in y has only 1 members, which is less than n_splits=10.\n",
      "  warnings.warn(\n",
      "D:\\anaconda3\\envs\\otthoni\\lib\\site-packages\\sklearn\\model_selection\\_split.py:676: UserWarning: The least populated class in y has only 1 members, which is less than n_splits=10.\n",
      "  warnings.warn(\n",
      "D:\\anaconda3\\envs\\otthoni\\lib\\site-packages\\sklearn\\model_selection\\_split.py:676: UserWarning: The least populated class in y has only 1 members, which is less than n_splits=10.\n",
      "  warnings.warn(\n",
      "D:\\anaconda3\\envs\\otthoni\\lib\\site-packages\\sklearn\\model_selection\\_split.py:676: UserWarning: The least populated class in y has only 1 members, which is less than n_splits=10.\n",
      "  warnings.warn(\n",
      "D:\\anaconda3\\envs\\otthoni\\lib\\site-packages\\sklearn\\model_selection\\_split.py:676: UserWarning: The least populated class in y has only 1 members, which is less than n_splits=10.\n",
      "  warnings.warn(\n",
      "D:\\anaconda3\\envs\\otthoni\\lib\\site-packages\\sklearn\\model_selection\\_split.py:676: UserWarning: The least populated class in y has only 1 members, which is less than n_splits=10.\n",
      "  warnings.warn(\n",
      "D:\\anaconda3\\envs\\otthoni\\lib\\site-packages\\sklearn\\model_selection\\_split.py:676: UserWarning: The least populated class in y has only 1 members, which is less than n_splits=10.\n",
      "  warnings.warn(\n",
      "D:\\anaconda3\\envs\\otthoni\\lib\\site-packages\\sklearn\\model_selection\\_split.py:676: UserWarning: The least populated class in y has only 1 members, which is less than n_splits=10.\n",
      "  warnings.warn(\n",
      "D:\\anaconda3\\envs\\otthoni\\lib\\site-packages\\sklearn\\model_selection\\_split.py:676: UserWarning: The least populated class in y has only 1 members, which is less than n_splits=10.\n",
      "  warnings.warn(\n",
      "D:\\anaconda3\\envs\\otthoni\\lib\\site-packages\\sklearn\\model_selection\\_split.py:676: UserWarning: The least populated class in y has only 1 members, which is less than n_splits=10.\n",
      "  warnings.warn(\n",
      "D:\\anaconda3\\envs\\otthoni\\lib\\site-packages\\sklearn\\model_selection\\_split.py:676: UserWarning: The least populated class in y has only 1 members, which is less than n_splits=10.\n",
      "  warnings.warn(\n",
      "D:\\anaconda3\\envs\\otthoni\\lib\\site-packages\\sklearn\\model_selection\\_split.py:676: UserWarning: The least populated class in y has only 1 members, which is less than n_splits=10.\n",
      "  warnings.warn(\n",
      "D:\\anaconda3\\envs\\otthoni\\lib\\site-packages\\sklearn\\model_selection\\_split.py:676: UserWarning: The least populated class in y has only 1 members, which is less than n_splits=10.\n",
      "  warnings.warn(\n",
      "D:\\anaconda3\\envs\\otthoni\\lib\\site-packages\\sklearn\\model_selection\\_split.py:676: UserWarning: The least populated class in y has only 1 members, which is less than n_splits=10.\n",
      "  warnings.warn(\n",
      "D:\\anaconda3\\envs\\otthoni\\lib\\site-packages\\sklearn\\model_selection\\_split.py:676: UserWarning: The least populated class in y has only 1 members, which is less than n_splits=10.\n",
      "  warnings.warn(\n",
      "D:\\anaconda3\\envs\\otthoni\\lib\\site-packages\\sklearn\\model_selection\\_split.py:676: UserWarning: The least populated class in y has only 1 members, which is less than n_splits=10.\n",
      "  warnings.warn(\n",
      "D:\\anaconda3\\envs\\otthoni\\lib\\site-packages\\sklearn\\model_selection\\_split.py:676: UserWarning: The least populated class in y has only 1 members, which is less than n_splits=10.\n",
      "  warnings.warn(\n",
      "D:\\anaconda3\\envs\\otthoni\\lib\\site-packages\\sklearn\\model_selection\\_split.py:676: UserWarning: The least populated class in y has only 1 members, which is less than n_splits=10.\n",
      "  warnings.warn(\n"
     ]
    },
    {
     "name": "stderr",
     "output_type": "stream",
     "text": [
      "D:\\anaconda3\\envs\\otthoni\\lib\\site-packages\\sklearn\\model_selection\\_split.py:676: UserWarning: The least populated class in y has only 1 members, which is less than n_splits=10.\n",
      "  warnings.warn(\n",
      "D:\\anaconda3\\envs\\otthoni\\lib\\site-packages\\sklearn\\model_selection\\_split.py:676: UserWarning: The least populated class in y has only 1 members, which is less than n_splits=10.\n",
      "  warnings.warn(\n",
      "D:\\anaconda3\\envs\\otthoni\\lib\\site-packages\\sklearn\\model_selection\\_split.py:676: UserWarning: The least populated class in y has only 1 members, which is less than n_splits=10.\n",
      "  warnings.warn(\n",
      "D:\\anaconda3\\envs\\otthoni\\lib\\site-packages\\sklearn\\model_selection\\_split.py:676: UserWarning: The least populated class in y has only 1 members, which is less than n_splits=10.\n",
      "  warnings.warn(\n",
      "D:\\anaconda3\\envs\\otthoni\\lib\\site-packages\\sklearn\\model_selection\\_split.py:676: UserWarning: The least populated class in y has only 1 members, which is less than n_splits=10.\n",
      "  warnings.warn(\n",
      "D:\\anaconda3\\envs\\otthoni\\lib\\site-packages\\sklearn\\model_selection\\_split.py:676: UserWarning: The least populated class in y has only 1 members, which is less than n_splits=10.\n",
      "  warnings.warn(\n",
      "D:\\anaconda3\\envs\\otthoni\\lib\\site-packages\\sklearn\\model_selection\\_split.py:676: UserWarning: The least populated class in y has only 1 members, which is less than n_splits=10.\n",
      "  warnings.warn(\n"
     ]
    },
    {
     "name": "stdout",
     "output_type": "stream",
     "text": [
      "Optimal value for C: 2.2\n"
     ]
    }
   ],
   "source": [
    "#keresztvalidációval\n",
    "from sklearn.model_selection import cross_val_score\n",
    "\n",
    "data_of_regural = pd.DataFrame({\"Regularization\":[], \"Acc\": []})\n",
    "svm_dict = {}\n",
    "for i in range(1,50):\n",
    "    clf = OneVsRestClassifier(SVC(C = i*0.1, class_weight = \"balanced\", random_state=0))\n",
    "    scores_svm = cross_val_score(clf, X_train, y_train, scoring = \"accuracy\", cv=10)\n",
    "    for element in scores_svm:\n",
    "        data_of_regural = data_of_regural.append({\"Regularization\":i, \"Acc\": element}, ignore_index=True)\n",
    "    svm_dict[scores_svm.mean()] = i/10\n",
    "print(\"Optimal value for C:\",svm_dict[max(list(svm_dict.keys()))])"
   ]
  },
  {
   "cell_type": "code",
   "execution_count": 8,
   "id": "a1731a58",
   "metadata": {},
   "outputs": [
    {
     "name": "stdout",
     "output_type": "stream",
     "text": [
      "Accuracy: 0.44\n",
      "Precision: 0.34\n",
      "Recall: 0.31\n"
     ]
    },
    {
     "name": "stderr",
     "output_type": "stream",
     "text": [
      "D:\\anaconda3\\envs\\otthoni\\lib\\site-packages\\sklearn\\metrics\\_classification.py:1308: UndefinedMetricWarning: Recall is ill-defined and being set to 0.0 in labels with no true samples. Use `zero_division` parameter to control this behavior.\n",
      "  _warn_prf(average, modifier, msg_start, len(result))\n"
     ]
    }
   ],
   "source": [
    "#logisztikus regresszióra\n",
    "from sklearn.linear_model import LogisticRegression\n",
    "\n",
    "logreg = OneVsRestClassifier(LogisticRegression(random_state=0, max_iter = 10000)).fit(X_train, y_train)\n",
    "y_pred = logreg.predict(X_test)\n",
    "\n",
    "print(f'Accuracy: {round(sklearn.metrics.accuracy_score(y_test, y_pred),2)}')\n",
    "print(f'Precision: {round(sklearn.metrics.precision_score(y_test, y_pred, average = \"macro\"),2)}')\n",
    "print(f'Recall: {round(sklearn.metrics.recall_score(y_test, y_pred, average = \"macro\"),2)}')"
   ]
  },
  {
   "cell_type": "code",
   "execution_count": 9,
   "id": "111dbd14",
   "metadata": {},
   "outputs": [
    {
     "data": {
      "text/plain": [
       "0.4629747599549636"
      ]
     },
     "execution_count": 9,
     "metadata": {},
     "output_type": "execute_result"
    }
   ],
   "source": [
    "#ezek után nem oneVSall: lineáris regresszió\n",
    "from sklearn.linear_model import LinearRegression\n",
    "\n",
    "reg_alap = LinearRegression().fit(features,label)\n",
    "reg_alap.score(features, label)                        #nem túl magas"
   ]
  },
  {
   "cell_type": "code",
   "execution_count": 10,
   "id": "35ce1474",
   "metadata": {},
   "outputs": [
    {
     "name": "stdout",
     "output_type": "stream",
     "text": [
      "Coefficients: [ 9.28168409e-02  3.02961730e-01  4.47474385e+01  4.45501983e+01\n",
      "  4.46821682e+01 -6.23425854e+00  6.42397818e+00 -4.23344261e+00\n",
      "  2.12099913e-02  1.51810763e-02  4.73874796e-04  1.26934063e-02]\n",
      "RMSE: 1.0199833391291713\n"
     ]
    }
   ],
   "source": [
    "#most nézzük a tanítóhalmazon és a teszthalmazon\n",
    "\n",
    "reg = LinearRegression().fit(X_train,y_train)\n",
    "reg_pred = reg.predict(X_test)\n",
    "\n",
    "#együtthatók\n",
    "print(\"Coefficients:\", reg.coef_)\n",
    "#RMSE\n",
    "\n",
    "rmse = np.power(np.sum(np.power(y_test - reg_pred, 2))/reg_pred.shape[0],0.5)\n",
    "print(\"RMSE:\", rmse)"
   ]
  },
  {
   "cell_type": "code",
   "execution_count": 11,
   "id": "1ad422c5",
   "metadata": {},
   "outputs": [
    {
     "data": {
      "text/plain": [
       "0.363772464566861"
      ]
     },
     "execution_count": 11,
     "metadata": {},
     "output_type": "execute_result"
    }
   ],
   "source": [
    "#R^2 és SSR\n",
    "SST = np.sum(np.power(y_test-np.mean(y_test),2))\n",
    "SSR = np.sum(np.power(reg_pred-np.mean(y_test),2))\n",
    "R2 = SSR/SST\n",
    "R2"
   ]
  },
  {
   "cell_type": "code",
   "execution_count": 12,
   "id": "eecb378f",
   "metadata": {},
   "outputs": [
    {
     "name": "stdout",
     "output_type": "stream",
     "text": [
      "RMSE: 1.0540925533894598\n",
      "0.22\n"
     ]
    }
   ],
   "source": [
    "#kerekítsük a becsült értékeket a legközelebbi egészhez!\n",
    "for i in range(reg_pred.shape[0]):\n",
    "    reg_pred[i] = round(reg_pred[i],0)\n",
    "    \n",
    "rmse = np.power(np.sum(np.power(y_test - reg_pred, 2))/reg_pred.shape[0],0.5)\n",
    "print(\"RMSE:\", rmse)\n",
    "print(round(sklearn.metrics.accuracy_score(y_test, reg_pred),2))"
   ]
  },
  {
   "cell_type": "code",
   "execution_count": 13,
   "id": "7e2938ff",
   "metadata": {},
   "outputs": [
    {
     "data": {
      "text/plain": [
       "[0.47, 0.53, 0.42, 0.5, 0.47, 0.44, 0.39, 0.36]"
      ]
     },
     "execution_count": 13,
     "metadata": {},
     "output_type": "execute_result"
    }
   ],
   "source": [
    "#főkomponens analízissel\n",
    "#nézzük, mennyi főkomponenssel lesz a legjobb. (pl a logisztikus regresszió)\n",
    "from sklearn.decomposition import PCA\n",
    "\n",
    "scores = []\n",
    "\n",
    "for i in range(1,9):\n",
    "    projected = PCA(i).fit_transform(features)\n",
    "    X_train, X_test, y_train, y_test = train_test_split(projected, label, test_size=0.3, random_state=0)\n",
    "    logreg = OneVsRestClassifier(LogisticRegression(random_state=0, max_iter = 10000)).fit(X_train, y_train)\n",
    "    y_pred = logreg.predict(X_test)\n",
    "    scores.append(round(sklearn.metrics.accuracy_score(y_test, y_pred),2))\n",
    "    \n",
    "scores"
   ]
  },
  {
   "cell_type": "code",
   "execution_count": 14,
   "id": "50458ef8",
   "metadata": {},
   "outputs": [
    {
     "name": "stdout",
     "output_type": "stream",
     "text": [
      "Accuracy: 0.42\n",
      "Precision: 0.32\n",
      "Recall: 0.34\n"
     ]
    }
   ],
   "source": [
    "#főkomponenses logreg\n",
    "from sklearn.decomposition import PCA\n",
    "projected = PCA(3).fit_transform(features)\n",
    "X_train, X_test, y_train, y_test = train_test_split(projected, label, test_size=0.3, random_state=0)\n",
    "\n",
    "logreg = OneVsRestClassifier(LogisticRegression(random_state=0, max_iter = 10000)).fit(X_train, y_train)\n",
    "y_pred = logreg.predict(X_test)\n",
    "\n",
    "print(f'Accuracy: {round(sklearn.metrics.accuracy_score(y_test, y_pred),2)}')\n",
    "print(f'Precision: {round(sklearn.metrics.precision_score(y_test, y_pred, average = \"macro\"),2)}')\n",
    "print(f'Recall: {round(sklearn.metrics.recall_score(y_test, y_pred, average = \"macro\"),2)}')\n"
   ]
  },
  {
   "cell_type": "code",
   "execution_count": 15,
   "id": "19d4c2a0",
   "metadata": {},
   "outputs": [],
   "source": [
    "#nézzük meg, hogy főkompononensenként hogy változnak a különböző algoritmusok eredménymutatói, és rakjuk dataframe-be!\n",
    "PCA_scores_vegy = pd.DataFrame({\"Főkomponensek száma\":[], \"Logreg Acc.\":[], \"SVM Acc.\":[], \"Linreg RMSE\":[], \"Linreg R2\":[], \n",
    "                           \"Linreg RMSE kerekített\":[], \"Linreg Acc kerekített\":[]})\n",
    "\n",
    "\n",
    "for i in range(1,9):\n",
    "    projected = PCA(i).fit_transform(features)\n",
    "    X_train, X_test, y_train, y_test = train_test_split(projected, label, test_size=0.3, random_state=0)\n",
    "    \n",
    "    logreg = OneVsRestClassifier(LogisticRegression(random_state=0, max_iter = 10000)).fit(X_train, y_train)\n",
    "    y_pred = logreg.predict(X_test)\n",
    "    log_acc = round(sklearn.metrics.accuracy_score(y_test, y_pred),2)\n",
    "    \n",
    "    clf = OneVsRestClassifier(SVC(class_weight = \"balanced\", random_state=0)).fit(X_train, y_train)    \n",
    "    y_pred = clf.predict(X_test)\n",
    "    SVM_acc = round(sklearn.metrics.accuracy_score(y_test, y_pred),2)\n",
    "    \n",
    "    reg = LinearRegression().fit(X_train,y_train)\n",
    "    reg_pred = reg.predict(X_test)\n",
    "    rmse = round(np.power(np.sum(np.power(y_test - reg_pred, 2))/reg_pred.shape[0],0.5),2)\n",
    "    SST = np.sum(np.power(y_test-np.mean(y_test),2))\n",
    "    SSR = np.sum(np.power(reg_pred-np.mean(y_test),2))\n",
    "    R2 = round(SSR/SST,2)\n",
    "    \n",
    "    for j in range(reg_pred.shape[0]):\n",
    "        reg_pred[j] = round(reg_pred[j],0)\n",
    "    rmse_rounded = round(np.power(np.sum(np.power(y_test - reg_pred, 2))/reg_pred.shape[0],0.5),2)\n",
    "    reg_pred_rounded = round(sklearn.metrics.accuracy_score(y_test, reg_pred),2)\n",
    "    \n",
    "    #új sor a dataframe-be\n",
    "    new_row = {\"Főkomponensek száma\":i, \"Logreg Acc.\":log_acc, \"SVM Acc.\":SVM_acc, \"Linreg RMSE\":rmse, \"Linreg R2\":R2, \n",
    "               \"Linreg RMSE kerekített\":rmse_rounded, \"Linreg Acc kerekített\":reg_pred_rounded}\n",
    "    PCA_scores_vegy = PCA_scores_vegy.append(new_row, ignore_index=True)"
   ]
  },
  {
   "cell_type": "code",
   "execution_count": 16,
   "id": "8564d066",
   "metadata": {},
   "outputs": [
    {
     "data": {
      "text/html": [
       "<div>\n",
       "<style scoped>\n",
       "    .dataframe tbody tr th:only-of-type {\n",
       "        vertical-align: middle;\n",
       "    }\n",
       "\n",
       "    .dataframe tbody tr th {\n",
       "        vertical-align: top;\n",
       "    }\n",
       "\n",
       "    .dataframe thead th {\n",
       "        text-align: right;\n",
       "    }\n",
       "</style>\n",
       "<table border=\"1\" class=\"dataframe\">\n",
       "  <thead>\n",
       "    <tr style=\"text-align: right;\">\n",
       "      <th></th>\n",
       "      <th>Főkomponensek száma</th>\n",
       "      <th>Logreg Acc.</th>\n",
       "      <th>SVM Acc.</th>\n",
       "      <th>Linreg RMSE</th>\n",
       "      <th>Linreg R2</th>\n",
       "      <th>Linreg RMSE kerekített</th>\n",
       "      <th>Linreg Acc kerekített</th>\n",
       "    </tr>\n",
       "  </thead>\n",
       "  <tbody>\n",
       "    <tr>\n",
       "      <th>0</th>\n",
       "      <td>1.0</td>\n",
       "      <td>0.47</td>\n",
       "      <td>0.47</td>\n",
       "      <td>0.90</td>\n",
       "      <td>0.29</td>\n",
       "      <td>0.94</td>\n",
       "      <td>0.28</td>\n",
       "    </tr>\n",
       "    <tr>\n",
       "      <th>1</th>\n",
       "      <td>2.0</td>\n",
       "      <td>0.53</td>\n",
       "      <td>0.44</td>\n",
       "      <td>0.92</td>\n",
       "      <td>0.29</td>\n",
       "      <td>0.94</td>\n",
       "      <td>0.28</td>\n",
       "    </tr>\n",
       "    <tr>\n",
       "      <th>2</th>\n",
       "      <td>3.0</td>\n",
       "      <td>0.42</td>\n",
       "      <td>0.42</td>\n",
       "      <td>0.88</td>\n",
       "      <td>0.31</td>\n",
       "      <td>0.90</td>\n",
       "      <td>0.28</td>\n",
       "    </tr>\n",
       "    <tr>\n",
       "      <th>3</th>\n",
       "      <td>4.0</td>\n",
       "      <td>0.50</td>\n",
       "      <td>0.42</td>\n",
       "      <td>0.90</td>\n",
       "      <td>0.31</td>\n",
       "      <td>0.90</td>\n",
       "      <td>0.28</td>\n",
       "    </tr>\n",
       "    <tr>\n",
       "      <th>4</th>\n",
       "      <td>5.0</td>\n",
       "      <td>0.47</td>\n",
       "      <td>0.36</td>\n",
       "      <td>0.91</td>\n",
       "      <td>0.30</td>\n",
       "      <td>0.96</td>\n",
       "      <td>0.33</td>\n",
       "    </tr>\n",
       "    <tr>\n",
       "      <th>5</th>\n",
       "      <td>6.0</td>\n",
       "      <td>0.44</td>\n",
       "      <td>0.36</td>\n",
       "      <td>0.90</td>\n",
       "      <td>0.30</td>\n",
       "      <td>0.97</td>\n",
       "      <td>0.31</td>\n",
       "    </tr>\n",
       "    <tr>\n",
       "      <th>6</th>\n",
       "      <td>7.0</td>\n",
       "      <td>0.39</td>\n",
       "      <td>0.36</td>\n",
       "      <td>0.90</td>\n",
       "      <td>0.29</td>\n",
       "      <td>0.96</td>\n",
       "      <td>0.33</td>\n",
       "    </tr>\n",
       "    <tr>\n",
       "      <th>7</th>\n",
       "      <td>8.0</td>\n",
       "      <td>0.36</td>\n",
       "      <td>0.36</td>\n",
       "      <td>0.92</td>\n",
       "      <td>0.31</td>\n",
       "      <td>1.05</td>\n",
       "      <td>0.22</td>\n",
       "    </tr>\n",
       "  </tbody>\n",
       "</table>\n",
       "</div>"
      ],
      "text/plain": [
       "   Főkomponensek száma  Logreg Acc.  SVM Acc.  Linreg RMSE  Linreg R2  \\\n",
       "0                  1.0         0.47      0.47         0.90       0.29   \n",
       "1                  2.0         0.53      0.44         0.92       0.29   \n",
       "2                  3.0         0.42      0.42         0.88       0.31   \n",
       "3                  4.0         0.50      0.42         0.90       0.31   \n",
       "4                  5.0         0.47      0.36         0.91       0.30   \n",
       "5                  6.0         0.44      0.36         0.90       0.30   \n",
       "6                  7.0         0.39      0.36         0.90       0.29   \n",
       "7                  8.0         0.36      0.36         0.92       0.31   \n",
       "\n",
       "   Linreg RMSE kerekített  Linreg Acc kerekített  \n",
       "0                    0.94                   0.28  \n",
       "1                    0.94                   0.28  \n",
       "2                    0.90                   0.28  \n",
       "3                    0.90                   0.28  \n",
       "4                    0.96                   0.33  \n",
       "5                    0.97                   0.31  \n",
       "6                    0.96                   0.33  \n",
       "7                    1.05                   0.22  "
      ]
     },
     "execution_count": 16,
     "metadata": {},
     "output_type": "execute_result"
    }
   ],
   "source": [
    "PCA_scores_vegy"
   ]
  },
  {
   "cell_type": "markdown",
   "id": "1dc4da42",
   "metadata": {},
   "source": [
    "**Biomérnököknél:**"
   ]
  },
  {
   "cell_type": "code",
   "execution_count": 17,
   "id": "541796de",
   "metadata": {},
   "outputs": [
    {
     "name": "stdout",
     "output_type": "stream",
     "text": [
      "Accuracy: 0.24\n",
      "Precision: 0.21\n",
      "Recall: 0.22\n"
     ]
    }
   ],
   "source": [
    "#BIOMÉRNÖKÖKRE innen\n",
    "\n",
    "vegyesz = working_data.query(\"Szak == 'Biomérnöki'\")\n",
    "features = vegyesz.drop(labels = [\"Matematika A1a - Analízis\", \"Matematika A2c\", \"Szak\"], axis = 1)\n",
    "label = vegyesz[\"Matematika A1a - Analízis\"]\n",
    "X_train, X_test, y_train, y_test = train_test_split(features, label, test_size=0.3, random_state=0)\n",
    "\n",
    "clf_veg = tree.DecisionTreeClassifier(random_state=0)\n",
    "modell_veg = clf_veg.fit(X_train, y_train)\n",
    "\n",
    "y_pred = modell_veg.predict(X_test)\n",
    "y_tanito = modell_veg.predict(X_train)\n",
    "\n",
    "print(f'Accuracy: {round(sklearn.metrics.accuracy_score(y_test, y_pred),2)}')\n",
    "print(f'Precision: {round(sklearn.metrics.precision_score(y_test, y_pred, average = \"macro\"),2)}')\n",
    "print(f'Recall: {round(sklearn.metrics.recall_score(y_test, y_pred, average = \"macro\"),2)}')\n"
   ]
  },
  {
   "cell_type": "code",
   "execution_count": 18,
   "id": "ff2af3db",
   "metadata": {},
   "outputs": [
    {
     "name": "stdout",
     "output_type": "stream",
     "text": [
      "Accuracy: 0.32\n",
      "Precision: 0.39\n",
      "Recall: 0.32\n"
     ]
    },
    {
     "name": "stderr",
     "output_type": "stream",
     "text": [
      "D:\\anaconda3\\envs\\otthoni\\lib\\site-packages\\sklearn\\metrics\\_classification.py:1308: UndefinedMetricWarning: Precision is ill-defined and being set to 0.0 in labels with no predicted samples. Use `zero_division` parameter to control this behavior.\n",
      "  _warn_prf(average, modifier, msg_start, len(result))\n"
     ]
    }
   ],
   "source": [
    "#SVM-re\n",
    "clf = OneVsRestClassifier(SVC(C = 1.3, class_weight = \"balanced\", random_state=0)).fit(X_train, y_train)     # balanced nélkül romlik a pontosság\n",
    "y_pred = clf.predict(X_test)\n",
    "\n",
    "print(f'Accuracy: {round(sklearn.metrics.accuracy_score(y_test, y_pred),2)}')\n",
    "print(f'Precision: {round(sklearn.metrics.precision_score(y_test, y_pred, average = \"macro\"),2)}')\n",
    "print(f'Recall: {round(sklearn.metrics.recall_score(y_test, y_pred, average = \"macro\"),2)}')"
   ]
  },
  {
   "cell_type": "code",
   "execution_count": 19,
   "id": "57e513a5",
   "metadata": {},
   "outputs": [
    {
     "data": {
      "text/plain": [
       "[0.04,\n",
       " 0.04,\n",
       " 0.12,\n",
       " 0.04,\n",
       " 0.16,\n",
       " 0.12,\n",
       " 0.12,\n",
       " 0.04,\n",
       " 0.4,\n",
       " 0.16,\n",
       " 0.08,\n",
       " 0.12,\n",
       " 0.32,\n",
       " 0.12,\n",
       " 0.12,\n",
       " 0.04,\n",
       " 0.28,\n",
       " 0.4,\n",
       " 0.08,\n",
       " 0.2,\n",
       " 0.0,\n",
       " 0.08,\n",
       " 0.28,\n",
       " 0.12,\n",
       " 0.44,\n",
       " 0.2,\n",
       " 0.04,\n",
       " 0.16,\n",
       " 0.16,\n",
       " 0.16,\n",
       " 0.16,\n",
       " 0.0,\n",
       " 0.12,\n",
       " 0.16,\n",
       " 0.16,\n",
       " 0.2,\n",
       " 0.16,\n",
       " 0.12,\n",
       " 0.12,\n",
       " 0.12,\n",
       " 0.08,\n",
       " 0.16,\n",
       " 0.2,\n",
       " 0.2,\n",
       " 0.2,\n",
       " 0.2,\n",
       " 0.2,\n",
       " 0.2,\n",
       " 0.2,\n",
       " 0.2,\n",
       " 0.2,\n",
       " 0.2,\n",
       " 0.2,\n",
       " 0.2,\n",
       " 0.2,\n",
       " 0.2,\n",
       " 0.2,\n",
       " 0.2,\n",
       " 0.2,\n",
       " 0.16,\n",
       " 0.16,\n",
       " 0.16,\n",
       " 0.16,\n",
       " 0.12,\n",
       " 0.12,\n",
       " 0.12,\n",
       " 0.12,\n",
       " 0.12,\n",
       " 0.12,\n",
       " 0.12,\n",
       " 0.12,\n",
       " 0.16,\n",
       " 0.16,\n",
       " 0.16,\n",
       " 0.16,\n",
       " 0.16,\n",
       " 0.16,\n",
       " 0.16,\n",
       " 0.16,\n",
       " 0.16,\n",
       " 0.16,\n",
       " 0.16,\n",
       " 0.16,\n",
       " 0.16,\n",
       " 0.16,\n",
       " 0.16,\n",
       " 0.16,\n",
       " 0.16,\n",
       " 0.16,\n",
       " 0.16,\n",
       " 0.16,\n",
       " 0.16,\n",
       " 0.16,\n",
       " 0.16,\n",
       " 0.16,\n",
       " 0.16,\n",
       " 0.16,\n",
       " 0.16,\n",
       " 0.16]"
      ]
     },
     "execution_count": 19,
     "metadata": {},
     "output_type": "execute_result"
    }
   ],
   "source": [
    "#tesztelés megfelelő C-hez\n",
    "scores_svm = []\n",
    "for i in range(1,100):\n",
    "    clf = OneVsRestClassifier(SVC(C = i*0.1, class_weight = \"balanced\", random_state=0)).fit(X_train, y_train)    \n",
    "    y_pred = clf.predict(X_test)\n",
    "    scores_svm.append(round(sklearn.metrics.accuracy_score(y_test, y_pred),2))\n",
    "scores_svm"
   ]
  },
  {
   "cell_type": "code",
   "execution_count": 20,
   "id": "01e5ac48",
   "metadata": {},
   "outputs": [
    {
     "name": "stderr",
     "output_type": "stream",
     "text": [
      "D:\\anaconda3\\envs\\otthoni\\lib\\site-packages\\sklearn\\model_selection\\_split.py:676: UserWarning: The least populated class in y has only 2 members, which is less than n_splits=10.\n",
      "  warnings.warn(\n",
      "D:\\anaconda3\\envs\\otthoni\\lib\\site-packages\\sklearn\\model_selection\\_split.py:676: UserWarning: The least populated class in y has only 2 members, which is less than n_splits=10.\n",
      "  warnings.warn(\n",
      "D:\\anaconda3\\envs\\otthoni\\lib\\site-packages\\sklearn\\model_selection\\_split.py:676: UserWarning: The least populated class in y has only 2 members, which is less than n_splits=10.\n",
      "  warnings.warn(\n",
      "D:\\anaconda3\\envs\\otthoni\\lib\\site-packages\\sklearn\\model_selection\\_split.py:676: UserWarning: The least populated class in y has only 2 members, which is less than n_splits=10.\n",
      "  warnings.warn(\n",
      "D:\\anaconda3\\envs\\otthoni\\lib\\site-packages\\sklearn\\model_selection\\_split.py:676: UserWarning: The least populated class in y has only 2 members, which is less than n_splits=10.\n",
      "  warnings.warn(\n",
      "D:\\anaconda3\\envs\\otthoni\\lib\\site-packages\\sklearn\\model_selection\\_split.py:676: UserWarning: The least populated class in y has only 2 members, which is less than n_splits=10.\n",
      "  warnings.warn(\n",
      "D:\\anaconda3\\envs\\otthoni\\lib\\site-packages\\sklearn\\model_selection\\_split.py:676: UserWarning: The least populated class in y has only 2 members, which is less than n_splits=10.\n",
      "  warnings.warn(\n",
      "D:\\anaconda3\\envs\\otthoni\\lib\\site-packages\\sklearn\\model_selection\\_split.py:676: UserWarning: The least populated class in y has only 2 members, which is less than n_splits=10.\n",
      "  warnings.warn(\n",
      "D:\\anaconda3\\envs\\otthoni\\lib\\site-packages\\sklearn\\model_selection\\_split.py:676: UserWarning: The least populated class in y has only 2 members, which is less than n_splits=10.\n",
      "  warnings.warn(\n",
      "D:\\anaconda3\\envs\\otthoni\\lib\\site-packages\\sklearn\\model_selection\\_split.py:676: UserWarning: The least populated class in y has only 2 members, which is less than n_splits=10.\n",
      "  warnings.warn(\n",
      "D:\\anaconda3\\envs\\otthoni\\lib\\site-packages\\sklearn\\model_selection\\_split.py:676: UserWarning: The least populated class in y has only 2 members, which is less than n_splits=10.\n",
      "  warnings.warn(\n",
      "D:\\anaconda3\\envs\\otthoni\\lib\\site-packages\\sklearn\\model_selection\\_split.py:676: UserWarning: The least populated class in y has only 2 members, which is less than n_splits=10.\n",
      "  warnings.warn(\n",
      "D:\\anaconda3\\envs\\otthoni\\lib\\site-packages\\sklearn\\model_selection\\_split.py:676: UserWarning: The least populated class in y has only 2 members, which is less than n_splits=10.\n",
      "  warnings.warn(\n",
      "D:\\anaconda3\\envs\\otthoni\\lib\\site-packages\\sklearn\\model_selection\\_split.py:676: UserWarning: The least populated class in y has only 2 members, which is less than n_splits=10.\n",
      "  warnings.warn(\n",
      "D:\\anaconda3\\envs\\otthoni\\lib\\site-packages\\sklearn\\model_selection\\_split.py:676: UserWarning: The least populated class in y has only 2 members, which is less than n_splits=10.\n",
      "  warnings.warn(\n",
      "D:\\anaconda3\\envs\\otthoni\\lib\\site-packages\\sklearn\\model_selection\\_split.py:676: UserWarning: The least populated class in y has only 2 members, which is less than n_splits=10.\n",
      "  warnings.warn(\n",
      "D:\\anaconda3\\envs\\otthoni\\lib\\site-packages\\sklearn\\model_selection\\_split.py:676: UserWarning: The least populated class in y has only 2 members, which is less than n_splits=10.\n",
      "  warnings.warn(\n",
      "D:\\anaconda3\\envs\\otthoni\\lib\\site-packages\\sklearn\\model_selection\\_split.py:676: UserWarning: The least populated class in y has only 2 members, which is less than n_splits=10.\n",
      "  warnings.warn(\n",
      "D:\\anaconda3\\envs\\otthoni\\lib\\site-packages\\sklearn\\model_selection\\_split.py:676: UserWarning: The least populated class in y has only 2 members, which is less than n_splits=10.\n",
      "  warnings.warn(\n",
      "D:\\anaconda3\\envs\\otthoni\\lib\\site-packages\\sklearn\\model_selection\\_split.py:676: UserWarning: The least populated class in y has only 2 members, which is less than n_splits=10.\n",
      "  warnings.warn(\n",
      "D:\\anaconda3\\envs\\otthoni\\lib\\site-packages\\sklearn\\model_selection\\_split.py:676: UserWarning: The least populated class in y has only 2 members, which is less than n_splits=10.\n",
      "  warnings.warn(\n",
      "D:\\anaconda3\\envs\\otthoni\\lib\\site-packages\\sklearn\\model_selection\\_split.py:676: UserWarning: The least populated class in y has only 2 members, which is less than n_splits=10.\n",
      "  warnings.warn(\n",
      "D:\\anaconda3\\envs\\otthoni\\lib\\site-packages\\sklearn\\model_selection\\_split.py:676: UserWarning: The least populated class in y has only 2 members, which is less than n_splits=10.\n",
      "  warnings.warn(\n",
      "D:\\anaconda3\\envs\\otthoni\\lib\\site-packages\\sklearn\\model_selection\\_split.py:676: UserWarning: The least populated class in y has only 2 members, which is less than n_splits=10.\n",
      "  warnings.warn(\n",
      "D:\\anaconda3\\envs\\otthoni\\lib\\site-packages\\sklearn\\model_selection\\_split.py:676: UserWarning: The least populated class in y has only 2 members, which is less than n_splits=10.\n",
      "  warnings.warn(\n",
      "D:\\anaconda3\\envs\\otthoni\\lib\\site-packages\\sklearn\\model_selection\\_split.py:676: UserWarning: The least populated class in y has only 2 members, which is less than n_splits=10.\n",
      "  warnings.warn(\n",
      "D:\\anaconda3\\envs\\otthoni\\lib\\site-packages\\sklearn\\model_selection\\_split.py:676: UserWarning: The least populated class in y has only 2 members, which is less than n_splits=10.\n",
      "  warnings.warn(\n",
      "D:\\anaconda3\\envs\\otthoni\\lib\\site-packages\\sklearn\\model_selection\\_split.py:676: UserWarning: The least populated class in y has only 2 members, which is less than n_splits=10.\n",
      "  warnings.warn(\n",
      "D:\\anaconda3\\envs\\otthoni\\lib\\site-packages\\sklearn\\model_selection\\_split.py:676: UserWarning: The least populated class in y has only 2 members, which is less than n_splits=10.\n",
      "  warnings.warn(\n",
      "D:\\anaconda3\\envs\\otthoni\\lib\\site-packages\\sklearn\\model_selection\\_split.py:676: UserWarning: The least populated class in y has only 2 members, which is less than n_splits=10.\n",
      "  warnings.warn(\n",
      "D:\\anaconda3\\envs\\otthoni\\lib\\site-packages\\sklearn\\model_selection\\_split.py:676: UserWarning: The least populated class in y has only 2 members, which is less than n_splits=10.\n",
      "  warnings.warn(\n",
      "D:\\anaconda3\\envs\\otthoni\\lib\\site-packages\\sklearn\\model_selection\\_split.py:676: UserWarning: The least populated class in y has only 2 members, which is less than n_splits=10.\n",
      "  warnings.warn(\n",
      "D:\\anaconda3\\envs\\otthoni\\lib\\site-packages\\sklearn\\model_selection\\_split.py:676: UserWarning: The least populated class in y has only 2 members, which is less than n_splits=10.\n",
      "  warnings.warn(\n",
      "D:\\anaconda3\\envs\\otthoni\\lib\\site-packages\\sklearn\\model_selection\\_split.py:676: UserWarning: The least populated class in y has only 2 members, which is less than n_splits=10.\n",
      "  warnings.warn(\n",
      "D:\\anaconda3\\envs\\otthoni\\lib\\site-packages\\sklearn\\model_selection\\_split.py:676: UserWarning: The least populated class in y has only 2 members, which is less than n_splits=10.\n",
      "  warnings.warn(\n",
      "D:\\anaconda3\\envs\\otthoni\\lib\\site-packages\\sklearn\\model_selection\\_split.py:676: UserWarning: The least populated class in y has only 2 members, which is less than n_splits=10.\n",
      "  warnings.warn(\n",
      "D:\\anaconda3\\envs\\otthoni\\lib\\site-packages\\sklearn\\model_selection\\_split.py:676: UserWarning: The least populated class in y has only 2 members, which is less than n_splits=10.\n",
      "  warnings.warn(\n",
      "D:\\anaconda3\\envs\\otthoni\\lib\\site-packages\\sklearn\\model_selection\\_split.py:676: UserWarning: The least populated class in y has only 2 members, which is less than n_splits=10.\n",
      "  warnings.warn(\n",
      "D:\\anaconda3\\envs\\otthoni\\lib\\site-packages\\sklearn\\model_selection\\_split.py:676: UserWarning: The least populated class in y has only 2 members, which is less than n_splits=10.\n",
      "  warnings.warn(\n",
      "D:\\anaconda3\\envs\\otthoni\\lib\\site-packages\\sklearn\\model_selection\\_split.py:676: UserWarning: The least populated class in y has only 2 members, which is less than n_splits=10.\n",
      "  warnings.warn(\n",
      "D:\\anaconda3\\envs\\otthoni\\lib\\site-packages\\sklearn\\model_selection\\_split.py:676: UserWarning: The least populated class in y has only 2 members, which is less than n_splits=10.\n",
      "  warnings.warn(\n",
      "D:\\anaconda3\\envs\\otthoni\\lib\\site-packages\\sklearn\\model_selection\\_split.py:676: UserWarning: The least populated class in y has only 2 members, which is less than n_splits=10.\n",
      "  warnings.warn(\n",
      "D:\\anaconda3\\envs\\otthoni\\lib\\site-packages\\sklearn\\model_selection\\_split.py:676: UserWarning: The least populated class in y has only 2 members, which is less than n_splits=10.\n",
      "  warnings.warn(\n"
     ]
    },
    {
     "name": "stderr",
     "output_type": "stream",
     "text": [
      "D:\\anaconda3\\envs\\otthoni\\lib\\site-packages\\sklearn\\model_selection\\_split.py:676: UserWarning: The least populated class in y has only 2 members, which is less than n_splits=10.\n",
      "  warnings.warn(\n",
      "D:\\anaconda3\\envs\\otthoni\\lib\\site-packages\\sklearn\\model_selection\\_split.py:676: UserWarning: The least populated class in y has only 2 members, which is less than n_splits=10.\n",
      "  warnings.warn(\n",
      "D:\\anaconda3\\envs\\otthoni\\lib\\site-packages\\sklearn\\model_selection\\_split.py:676: UserWarning: The least populated class in y has only 2 members, which is less than n_splits=10.\n",
      "  warnings.warn(\n",
      "D:\\anaconda3\\envs\\otthoni\\lib\\site-packages\\sklearn\\model_selection\\_split.py:676: UserWarning: The least populated class in y has only 2 members, which is less than n_splits=10.\n",
      "  warnings.warn(\n",
      "D:\\anaconda3\\envs\\otthoni\\lib\\site-packages\\sklearn\\model_selection\\_split.py:676: UserWarning: The least populated class in y has only 2 members, which is less than n_splits=10.\n",
      "  warnings.warn(\n",
      "D:\\anaconda3\\envs\\otthoni\\lib\\site-packages\\sklearn\\model_selection\\_split.py:676: UserWarning: The least populated class in y has only 2 members, which is less than n_splits=10.\n",
      "  warnings.warn(\n"
     ]
    },
    {
     "name": "stdout",
     "output_type": "stream",
     "text": [
      "Optimal value for C: 1.3\n"
     ]
    }
   ],
   "source": [
    "from sklearn.model_selection import cross_val_score\n",
    "\n",
    "data_of_regural = pd.DataFrame({\"Regularization\":[], \"Acc\": []})\n",
    "svm_dict = {}\n",
    "for i in range(1,50):\n",
    "    clf = OneVsRestClassifier(SVC(C = i*0.1, class_weight = \"balanced\", random_state=0))\n",
    "    scores_svm = cross_val_score(clf, X_train, y_train, scoring = \"accuracy\", cv=10)\n",
    "    for element in scores_svm:\n",
    "        data_of_regural = data_of_regural.append({\"Regularization\":i, \"Acc\": element}, ignore_index=True)\n",
    "    svm_dict[scores_svm.mean()] = i/10\n",
    "print(\"Optimal value for C:\",svm_dict[max(list(svm_dict.keys()))])"
   ]
  },
  {
   "cell_type": "code",
   "execution_count": 21,
   "id": "af8be84e",
   "metadata": {},
   "outputs": [
    {
     "name": "stdout",
     "output_type": "stream",
     "text": [
      "Accuracy: 0.12\n",
      "Precision: 0.06\n",
      "Recall: 0.08\n"
     ]
    },
    {
     "name": "stderr",
     "output_type": "stream",
     "text": [
      "D:\\anaconda3\\envs\\otthoni\\lib\\site-packages\\sklearn\\metrics\\_classification.py:1308: UndefinedMetricWarning: Precision is ill-defined and being set to 0.0 in labels with no predicted samples. Use `zero_division` parameter to control this behavior.\n",
      "  _warn_prf(average, modifier, msg_start, len(result))\n"
     ]
    }
   ],
   "source": [
    "#logisztikus regresszióra\n",
    "\n",
    "logreg = OneVsRestClassifier(LogisticRegression(random_state=0, max_iter = 10000)).fit(X_train, y_train)\n",
    "y_pred = logreg.predict(X_test)\n",
    "\n",
    "print(f'Accuracy: {round(sklearn.metrics.accuracy_score(y_test, y_pred),2)}')\n",
    "print(f'Precision: {round(sklearn.metrics.precision_score(y_test, y_pred, average = \"macro\"),2)}')\n",
    "print(f'Recall: {round(sklearn.metrics.recall_score(y_test, y_pred, average = \"macro\"),2)}')"
   ]
  },
  {
   "cell_type": "code",
   "execution_count": 22,
   "id": "92c78b50",
   "metadata": {},
   "outputs": [
    {
     "name": "stdout",
     "output_type": "stream",
     "text": [
      "Coefficients: [-2.77581180e-01  1.28156837e+00 -2.28816496e+09 -2.28816496e+09\n",
      " -2.28816496e+09  2.28816501e+09 -6.98190884e+00 -8.79111540e+00\n",
      "  4.83546799e+00  1.88259145e+00  6.04660346e-04  2.12817026e+11\n",
      "  2.12817026e+11  2.12817026e+11 -2.12817026e+11]\n",
      "RMSE: 1.0755995821386966\n"
     ]
    }
   ],
   "source": [
    "#lineáris regresszió\n",
    "\n",
    "reg = LinearRegression().fit(X_train,y_train)\n",
    "reg_pred = reg.predict(X_test)\n",
    "\n",
    "#együtthatók\n",
    "print(\"Coefficients:\", reg.coef_)\n",
    "#RMSE\n",
    "\n",
    "rmse = np.power(np.sum(np.power(y_test - reg_pred, 2))/reg_pred.shape[0],0.5)\n",
    "print(\"RMSE:\", rmse)"
   ]
  },
  {
   "cell_type": "code",
   "execution_count": 23,
   "id": "7df53242",
   "metadata": {},
   "outputs": [
    {
     "data": {
      "text/plain": [
       "0.32100464697597786"
      ]
     },
     "execution_count": 23,
     "metadata": {},
     "output_type": "execute_result"
    }
   ],
   "source": [
    "#R^2 és SSR\n",
    "SST = np.sum(np.power(y_test-np.mean(y_test),2))\n",
    "SSR = np.sum(np.power(reg_pred-np.mean(y_test),2))\n",
    "R2 = SSR/SST\n",
    "R2"
   ]
  },
  {
   "cell_type": "code",
   "execution_count": 24,
   "id": "7a80461d",
   "metadata": {},
   "outputs": [
    {
     "name": "stdout",
     "output_type": "stream",
     "text": [
      "RMSE: 1.131370849898476\n",
      "0.32\n"
     ]
    }
   ],
   "source": [
    "#kerekítsük a becsült értékeket a legközelebbi egészhez!\n",
    "for i in range(reg_pred.shape[0]):\n",
    "    reg_pred[i] = round(reg_pred[i],0)\n",
    "    \n",
    "rmse = np.power(np.sum(np.power(y_test - reg_pred, 2))/reg_pred.shape[0],0.5)\n",
    "print(\"RMSE:\", rmse)\n",
    "print(round(sklearn.metrics.accuracy_score(y_test, reg_pred),2))"
   ]
  },
  {
   "cell_type": "code",
   "execution_count": 25,
   "id": "d9854f88",
   "metadata": {},
   "outputs": [
    {
     "data": {
      "text/plain": [
       "[0.32, 0.4, 0.4, 0.4, 0.4, 0.4, 0.36, 0.32]"
      ]
     },
     "execution_count": 25,
     "metadata": {},
     "output_type": "execute_result"
    }
   ],
   "source": [
    "#főkomponens analízissel\n",
    "#nézzük, mennyi főkomponenssel lesz a legjobb. (pl a logisztikus regresszió)\n",
    "from sklearn.decomposition import PCA\n",
    "\n",
    "scores = []\n",
    "\n",
    "for i in range(1,9):\n",
    "    projected = PCA(i).fit_transform(features)\n",
    "    X_train, X_test, y_train, y_test = train_test_split(projected, label, test_size=0.3, random_state=0)\n",
    "    logreg = OneVsRestClassifier(LogisticRegression(random_state=0, max_iter = 10000)).fit(X_train, y_train)\n",
    "    y_pred = logreg.predict(X_test)\n",
    "    scores.append(round(sklearn.metrics.accuracy_score(y_test, y_pred),2))\n",
    "    \n",
    "scores"
   ]
  },
  {
   "cell_type": "code",
   "execution_count": 26,
   "id": "dee2d790",
   "metadata": {},
   "outputs": [
    {
     "name": "stdout",
     "output_type": "stream",
     "text": [
      "Accuracy: 0.4\n",
      "Precision: 0.2\n",
      "Recall: 0.27\n"
     ]
    },
    {
     "name": "stderr",
     "output_type": "stream",
     "text": [
      "D:\\anaconda3\\envs\\otthoni\\lib\\site-packages\\sklearn\\metrics\\_classification.py:1308: UndefinedMetricWarning: Precision is ill-defined and being set to 0.0 in labels with no predicted samples. Use `zero_division` parameter to control this behavior.\n",
      "  _warn_prf(average, modifier, msg_start, len(result))\n"
     ]
    }
   ],
   "source": [
    "#főkomponenses logreg\n",
    "from sklearn.decomposition import PCA\n",
    "projected = PCA(3).fit_transform(features)\n",
    "X_train, X_test, y_train, y_test = train_test_split(projected, label, test_size=0.3, random_state=0)\n",
    "\n",
    "logreg = OneVsRestClassifier(LogisticRegression(random_state=0, max_iter = 10000)).fit(X_train, y_train)\n",
    "y_pred = logreg.predict(X_test)\n",
    "\n",
    "print(f'Accuracy: {round(sklearn.metrics.accuracy_score(y_test, y_pred),2)}')\n",
    "print(f'Precision: {round(sklearn.metrics.precision_score(y_test, y_pred, average = \"macro\"),2)}')\n",
    "print(f'Recall: {round(sklearn.metrics.recall_score(y_test, y_pred, average = \"macro\"),2)}')\n",
    "\n",
    "#nagyon jó eredmény"
   ]
  },
  {
   "cell_type": "code",
   "execution_count": 27,
   "id": "64d88eba",
   "metadata": {},
   "outputs": [],
   "source": [
    "#nézzük meg, hogy főkompononensenként hogy változnak a különböző algoritmusok eredménymutatói, és rakjuk dataframe-be!\n",
    "PCA_scores_bio = pd.DataFrame({\"Főkomponensek száma\":[], \"Logreg Acc.\":[], \"SVM Acc.\":[], \"Linreg RMSE\":[], \"Linreg R2\":[], \n",
    "                           \"Linreg RMSE kerekített\":[], \"Linreg Acc kerekített\":[]})\n",
    "\n",
    "\n",
    "for i in range(1,9):\n",
    "    projected = PCA(i).fit_transform(features)\n",
    "    X_train, X_test, y_train, y_test = train_test_split(projected, label, test_size=0.3, random_state=0)\n",
    "    \n",
    "    logreg = OneVsRestClassifier(LogisticRegression(random_state=0, max_iter = 10000)).fit(X_train, y_train)\n",
    "    y_pred = logreg.predict(X_test)\n",
    "    log_acc = round(sklearn.metrics.accuracy_score(y_test, y_pred),2)\n",
    "    \n",
    "    clf = OneVsRestClassifier(SVC(class_weight = \"balanced\", random_state=0)).fit(X_train, y_train)    \n",
    "    y_pred = clf.predict(X_test)\n",
    "    SVM_acc = round(sklearn.metrics.accuracy_score(y_test, y_pred),2)\n",
    "    \n",
    "    reg = LinearRegression().fit(X_train,y_train)\n",
    "    reg_pred = reg.predict(X_test)\n",
    "    rmse = round(np.power(np.sum(np.power(y_test - reg_pred, 2))/reg_pred.shape[0],0.5),2)\n",
    "    SST = np.sum(np.power(y_test-np.mean(y_test),2))\n",
    "    SSR = np.sum(np.power(reg_pred-np.mean(y_test),2))\n",
    "    R2 = round(SSR/SST,2)\n",
    "    \n",
    "    for j in range(reg_pred.shape[0]):\n",
    "        reg_pred[j] = round(reg_pred[j],0)\n",
    "    rmse_rounded = round(np.power(np.sum(np.power(y_test - reg_pred, 2))/reg_pred.shape[0],0.5),2)\n",
    "    reg_pred_rounded = round(sklearn.metrics.accuracy_score(y_test, reg_pred),2)\n",
    "    \n",
    "    #új sor a dataframe-be\n",
    "    new_row = {\"Főkomponensek száma\":i, \"Logreg Acc.\":log_acc, \"SVM Acc.\":SVM_acc, \"Linreg RMSE\":rmse, \"Linreg R2\":R2, \n",
    "               \"Linreg RMSE kerekített\":rmse_rounded, \"Linreg Acc kerekített\":reg_pred_rounded}\n",
    "    PCA_scores_bio = PCA_scores_bio.append(new_row, ignore_index=True)"
   ]
  },
  {
   "cell_type": "code",
   "execution_count": 28,
   "id": "5dd734d7",
   "metadata": {},
   "outputs": [
    {
     "data": {
      "text/html": [
       "<div>\n",
       "<style scoped>\n",
       "    .dataframe tbody tr th:only-of-type {\n",
       "        vertical-align: middle;\n",
       "    }\n",
       "\n",
       "    .dataframe tbody tr th {\n",
       "        vertical-align: top;\n",
       "    }\n",
       "\n",
       "    .dataframe thead th {\n",
       "        text-align: right;\n",
       "    }\n",
       "</style>\n",
       "<table border=\"1\" class=\"dataframe\">\n",
       "  <thead>\n",
       "    <tr style=\"text-align: right;\">\n",
       "      <th></th>\n",
       "      <th>Főkomponensek száma</th>\n",
       "      <th>Logreg Acc.</th>\n",
       "      <th>SVM Acc.</th>\n",
       "      <th>Linreg RMSE</th>\n",
       "      <th>Linreg R2</th>\n",
       "      <th>Linreg RMSE kerekített</th>\n",
       "      <th>Linreg Acc kerekített</th>\n",
       "    </tr>\n",
       "  </thead>\n",
       "  <tbody>\n",
       "    <tr>\n",
       "      <th>0</th>\n",
       "      <td>1.0</td>\n",
       "      <td>0.32</td>\n",
       "      <td>0.16</td>\n",
       "      <td>0.98</td>\n",
       "      <td>0.05</td>\n",
       "      <td>0.98</td>\n",
       "      <td>0.40</td>\n",
       "    </tr>\n",
       "    <tr>\n",
       "      <th>1</th>\n",
       "      <td>2.0</td>\n",
       "      <td>0.40</td>\n",
       "      <td>0.32</td>\n",
       "      <td>0.96</td>\n",
       "      <td>0.12</td>\n",
       "      <td>1.02</td>\n",
       "      <td>0.40</td>\n",
       "    </tr>\n",
       "    <tr>\n",
       "      <th>2</th>\n",
       "      <td>3.0</td>\n",
       "      <td>0.40</td>\n",
       "      <td>0.40</td>\n",
       "      <td>0.95</td>\n",
       "      <td>0.23</td>\n",
       "      <td>1.04</td>\n",
       "      <td>0.24</td>\n",
       "    </tr>\n",
       "    <tr>\n",
       "      <th>3</th>\n",
       "      <td>4.0</td>\n",
       "      <td>0.40</td>\n",
       "      <td>0.28</td>\n",
       "      <td>0.96</td>\n",
       "      <td>0.27</td>\n",
       "      <td>1.02</td>\n",
       "      <td>0.28</td>\n",
       "    </tr>\n",
       "    <tr>\n",
       "      <th>4</th>\n",
       "      <td>5.0</td>\n",
       "      <td>0.40</td>\n",
       "      <td>0.32</td>\n",
       "      <td>0.94</td>\n",
       "      <td>0.22</td>\n",
       "      <td>1.00</td>\n",
       "      <td>0.32</td>\n",
       "    </tr>\n",
       "    <tr>\n",
       "      <th>5</th>\n",
       "      <td>6.0</td>\n",
       "      <td>0.40</td>\n",
       "      <td>0.28</td>\n",
       "      <td>0.96</td>\n",
       "      <td>0.17</td>\n",
       "      <td>1.08</td>\n",
       "      <td>0.28</td>\n",
       "    </tr>\n",
       "    <tr>\n",
       "      <th>6</th>\n",
       "      <td>7.0</td>\n",
       "      <td>0.36</td>\n",
       "      <td>0.28</td>\n",
       "      <td>0.97</td>\n",
       "      <td>0.18</td>\n",
       "      <td>1.06</td>\n",
       "      <td>0.32</td>\n",
       "    </tr>\n",
       "    <tr>\n",
       "      <th>7</th>\n",
       "      <td>8.0</td>\n",
       "      <td>0.32</td>\n",
       "      <td>0.28</td>\n",
       "      <td>1.03</td>\n",
       "      <td>0.21</td>\n",
       "      <td>1.02</td>\n",
       "      <td>0.28</td>\n",
       "    </tr>\n",
       "  </tbody>\n",
       "</table>\n",
       "</div>"
      ],
      "text/plain": [
       "   Főkomponensek száma  Logreg Acc.  SVM Acc.  Linreg RMSE  Linreg R2  \\\n",
       "0                  1.0         0.32      0.16         0.98       0.05   \n",
       "1                  2.0         0.40      0.32         0.96       0.12   \n",
       "2                  3.0         0.40      0.40         0.95       0.23   \n",
       "3                  4.0         0.40      0.28         0.96       0.27   \n",
       "4                  5.0         0.40      0.32         0.94       0.22   \n",
       "5                  6.0         0.40      0.28         0.96       0.17   \n",
       "6                  7.0         0.36      0.28         0.97       0.18   \n",
       "7                  8.0         0.32      0.28         1.03       0.21   \n",
       "\n",
       "   Linreg RMSE kerekített  Linreg Acc kerekített  \n",
       "0                    0.98                   0.40  \n",
       "1                    1.02                   0.40  \n",
       "2                    1.04                   0.24  \n",
       "3                    1.02                   0.28  \n",
       "4                    1.00                   0.32  \n",
       "5                    1.08                   0.28  \n",
       "6                    1.06                   0.32  \n",
       "7                    1.02                   0.28  "
      ]
     },
     "execution_count": 28,
     "metadata": {},
     "output_type": "execute_result"
    }
   ],
   "source": [
    "PCA_scores_bio"
   ]
  },
  {
   "cell_type": "code",
   "execution_count": null,
   "id": "30eb7b94",
   "metadata": {},
   "outputs": [],
   "source": []
  }
 ],
 "metadata": {
  "kernelspec": {
   "display_name": "Python 3 (ipykernel)",
   "language": "python",
   "name": "python3"
  },
  "language_info": {
   "codemirror_mode": {
    "name": "ipython",
    "version": 3
   },
   "file_extension": ".py",
   "mimetype": "text/x-python",
   "name": "python",
   "nbconvert_exporter": "python",
   "pygments_lexer": "ipython3",
   "version": "3.8.11"
  }
 },
 "nbformat": 4,
 "nbformat_minor": 5
}
