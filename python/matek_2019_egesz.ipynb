{
 "cells": [
  {
   "cell_type": "code",
   "execution_count": 1,
   "id": "85a47696",
   "metadata": {},
   "outputs": [],
   "source": [
    "import pandas as pd\n",
    "import numpy as np\n",
    "from sklearn.model_selection import train_test_split\n",
    "import sklearn.metrics\n",
    "from sklearn.multiclass import OneVsRestClassifier"
   ]
  },
  {
   "cell_type": "code",
   "execution_count": 2,
   "id": "997db279",
   "metadata": {},
   "outputs": [],
   "source": [
    "data = pd.read_excel(\"C:/Users/Donát/Documents/GitHub/-nkutfel/2019/2019_merged_matekA1A2_cleaned.xlsx\")"
   ]
  },
  {
   "cell_type": "code",
   "execution_count": 3,
   "id": "17d9fb53",
   "metadata": {},
   "outputs": [],
   "source": [
    "#szűrjük ki a nem kategorikus vagy numerikus változókat\n",
    "working_data = data.drop(labels = [\"Name\", \"Neptun\", \"Tankör\"], axis = 1)\n",
    "\n",
    "#alakítsuk numerikussá a %-os teljesítménymutatókat\n",
    "for i, row in working_data.iterrows():\n",
    "    working_data.at[i, \"Matek eredmény\"] = float(row[\"Matek eredmény\"][:-3] + \".\" + row[\"Matek eredmény\"][-2])\n",
    "    working_data.at[i, \"Kognitív eredmény\"] = float(row[\"Kognitív eredmény\"][:-3] + \".\" + row[\"Kognitív eredmény\"][-2])\n",
    "    working_data.at[i, \"Kognitív pont\"] = float(str(row[\"Kognitív pont\"]).replace(\",\", \".\"))\n",
    "    working_data.at[i, \"Össz eredmény (átlag)\"] = float(row[\"Össz eredmény (átlag)\"][:-3] + \".\" + row[\"Össz eredmény (átlag)\"][-2])\n",
    "\n"
   ]
  },
  {
   "cell_type": "code",
   "execution_count": 4,
   "id": "325c54ff",
   "metadata": {},
   "outputs": [],
   "source": [
    "from imblearn.over_sampling import SMOTE\n",
    "features = working_data.drop(labels = [\"Matematika A1a - Analízis\", \"Matematika A2c\", \"Szak\", \"Matek helyes\", \"Összes pont\", \"Össz eredmény (átlag)\"], axis = 1)\n",
    "label = working_data[\"Matematika A1a - Analízis\"]\n",
    "features, label = SMOTE(k_neighbors = 4).fit_resample(features, label)\n",
    "\n",
    "X_train, X_test, y_train, y_test = train_test_split(features, label, test_size=0.3, random_state=0)"
   ]
  },
  {
   "cell_type": "code",
   "execution_count": 5,
   "id": "6cdb3fe3",
   "metadata": {},
   "outputs": [
    {
     "name": "stdout",
     "output_type": "stream",
     "text": [
      "With kNN:\n",
      "Optimal number of neighbors: 1\n"
     ]
    }
   ],
   "source": [
    "#KNN-re keresztvalidációval mahalanobis-szal\n",
    "from sklearn.neighbors import KNeighborsClassifier\n",
    "from sklearn.model_selection import cross_val_score\n",
    "\n",
    "print(\"With kNN:\", end=\"\\n\")\n",
    "neigh_dict_mahal = {}\n",
    "for i in range(1,30):\n",
    "    neigh = KNeighborsClassifier(n_neighbors=i, metric=\"mahalanobis\", metric_params={'V': np.cov(m=X_train.astype(float), rowvar=False)})\n",
    "    scores_kNN = cross_val_score(neigh, X_train.values, y_train.values, scoring = \"accuracy\", cv=10)\n",
    "    neigh_dict_mahal[scores_kNN.mean()] = i\n",
    "print(\"Optimal number of neighbors:\", neigh_dict_mahal[max(list(neigh_dict_mahal.keys()))], end=\"\\n\")"
   ]
  },
  {
   "cell_type": "code",
   "execution_count": 6,
   "id": "eef08080",
   "metadata": {},
   "outputs": [
    {
     "name": "stdout",
     "output_type": "stream",
     "text": [
      "Accuracy: 0.53\n"
     ]
    }
   ],
   "source": [
    "neigh = KNeighborsClassifier(n_neighbors=neigh_dict_mahal[max(list(neigh_dict_mahal.keys()))], metric=\"mahalanobis\", metric_params={'V': np.cov(m=X_train.astype(float), rowvar=False)})\n",
    "neigh = neigh.fit(X_train.values,y_train.values)\n",
    "sk_pred = neigh.predict(X_test.to_numpy())\n",
    "knn_mahal = round(sklearn.metrics.accuracy_score(y_test, sk_pred),2)\n",
    "print(f'Accuracy: {knn_mahal}')"
   ]
  },
  {
   "cell_type": "code",
   "execution_count": 7,
   "id": "2aa4a235",
   "metadata": {
    "scrolled": true
   },
   "outputs": [
    {
     "name": "stdout",
     "output_type": "stream",
     "text": [
      "With kNN:\n",
      "Optimal number of neighbors: 1\n"
     ]
    }
   ],
   "source": [
    "#KNN-re keresztvalidációval euklidészi távolsággal\n",
    "from sklearn.neighbors import KNeighborsClassifier\n",
    "from sklearn.model_selection import cross_val_score\n",
    "\n",
    "print(\"With kNN:\", end=\"\\n\")\n",
    "neigh_dict_eu = {}\n",
    "for i in range(1,30):\n",
    "    neigh = KNeighborsClassifier(n_neighbors=i, metric=\"euclidean\")\n",
    "    scores_kNN = cross_val_score(neigh, X_train.values, y_train.values, scoring = \"accuracy\", cv=10)\n",
    "    neigh_dict_eu[scores_kNN.mean()] = i\n",
    "print(\"Optimal number of neighbors:\", neigh_dict_eu[max(list(neigh_dict_eu.keys()))], end=\"\\n\")"
   ]
  },
  {
   "cell_type": "code",
   "execution_count": 8,
   "id": "e63f9764",
   "metadata": {},
   "outputs": [
    {
     "name": "stdout",
     "output_type": "stream",
     "text": [
      "Accuracy: 0.59\n"
     ]
    }
   ],
   "source": [
    "neigh = KNeighborsClassifier(n_neighbors=neigh_dict_eu[max(list(neigh_dict_eu.keys()))], metric=\"euclidean\")\n",
    "neigh = neigh.fit(X_train.values,y_train.values)\n",
    "sk_pred = neigh.predict(X_test.to_numpy())\n",
    "knn_eu = round(sklearn.metrics.accuracy_score(y_test, sk_pred),2)\n",
    "print(f'Accuracy: {knn_eu}')"
   ]
  },
  {
   "cell_type": "code",
   "execution_count": 9,
   "id": "9bd33cec",
   "metadata": {},
   "outputs": [
    {
     "name": "stdout",
     "output_type": "stream",
     "text": [
      "kNN with Mahalanobis:\n",
      "- Optmial number of neighbours: 1 \n",
      "- Accuracy: 0.53\n",
      "kNN with Euclidean:\n",
      "- Optimal number of neighbours: 1 \n",
      "- Accuracy: 0.59\n"
     ]
    }
   ],
   "source": [
    "#összesítve kNN\n",
    "print(f'kNN with Mahalanobis:')\n",
    "print(f'- Optmial number of neighbours: {neigh_dict_mahal[max(list(neigh_dict_mahal.keys()))]} \\n- Accuracy: {knn_mahal}')\n",
    "print(f'kNN with Euclidean:')\n",
    "print(f'- Optimal number of neighbours: {neigh_dict_eu[max(list(neigh_dict_eu.keys()))]} \\n- Accuracy: {knn_eu}')"
   ]
  },
  {
   "cell_type": "code",
   "execution_count": 10,
   "id": "9603fd2c",
   "metadata": {},
   "outputs": [
    {
     "name": "stdout",
     "output_type": "stream",
     "text": [
      "[0.34, 0.42, 0.4, 0.41, 0.42, 0.39, 0.39, 0.38, 0.38, 0.38, 0.42, 0.39, 0.39, 0.37, 0.37, 0.37, 0.37, 0.39, 0.36, 0.38, 0.39, 0.39, 0.38, 0.38, 0.38, 0.37, 0.39, 0.39, 0.4, 0.38, 0.36, 0.36, 0.35, 0.35, 0.37, 0.38, 0.38, 0.38, 0.39, 0.39, 0.39, 0.38, 0.38, 0.37, 0.38, 0.39, 0.39, 0.39, 0.39]\n"
     ]
    }
   ],
   "source": [
    "#tesztelés megfelelő C-hez SVM-nél\n",
    "from sklearn.svm import SVC\n",
    "\n",
    "scores_svm = []\n",
    "for i in range(1,50):\n",
    "    clf = OneVsRestClassifier(SVC(C = i*0.1, class_weight = \"balanced\", random_state=0)).fit(X_train, y_train)    \n",
    "    y_pred = clf.predict(X_test)\n",
    "    scores_svm.append(round(sklearn.metrics.accuracy_score(y_test, y_pred),2))\n",
    "print(scores_svm)"
   ]
  },
  {
   "cell_type": "code",
   "execution_count": 11,
   "id": "61ab1a54",
   "metadata": {},
   "outputs": [
    {
     "name": "stdout",
     "output_type": "stream",
     "text": [
      "Optimal value for C: 4.9\n"
     ]
    }
   ],
   "source": [
    "#keresztvalidációval\n",
    "\n",
    "svm_dict = {}\n",
    "for i in range(1,50):\n",
    "    clf = OneVsRestClassifier(SVC(C = i*0.1, class_weight = \"balanced\", random_state=0))\n",
    "    scores_svm = cross_val_score(clf, X_train, y_train, scoring = \"accuracy\", cv=10)\n",
    "    svm_dict[scores_svm.mean()] = i/10\n",
    "print(\"Optimal value for C:\",svm_dict[max(list(svm_dict.keys()))])"
   ]
  },
  {
   "cell_type": "code",
   "execution_count": 12,
   "id": "49aac6b1",
   "metadata": {},
   "outputs": [
    {
     "name": "stdout",
     "output_type": "stream",
     "text": [
      "Accuracy: 0.39\n",
      "Precision: 0.41\n",
      "Recall: 0.4\n"
     ]
    }
   ],
   "source": [
    "#SVM-re\n",
    "clf = OneVsRestClassifier(SVC(C = svm_dict[max(list(svm_dict.keys()))], class_weight = \"balanced\", random_state=0)).fit(X_train, y_train)     # balanced nélkül romlik a pontosság\n",
    "y_pred = clf.predict(X_test)\n",
    "\n",
    "svm_acc = round(sklearn.metrics.accuracy_score(y_test, y_pred),2)\n",
    "print(f'Accuracy: {round(sklearn.metrics.accuracy_score(y_test, y_pred),2)}')\n",
    "print(f'Precision: {round(sklearn.metrics.precision_score(y_test, y_pred, average = \"macro\"),2)}')\n",
    "print(f'Recall: {round(sklearn.metrics.recall_score(y_test, y_pred, average = \"macro\"),2)}')"
   ]
  },
  {
   "cell_type": "code",
   "execution_count": 13,
   "id": "0b356f0a",
   "metadata": {},
   "outputs": [
    {
     "name": "stdout",
     "output_type": "stream",
     "text": [
      "Accuracy: 0.49\n",
      "Precision: 0.5\n",
      "Recall: 0.49\n"
     ]
    }
   ],
   "source": [
    "#logisztikus regresszióra\n",
    "from sklearn.linear_model import LogisticRegression\n",
    "\n",
    "logreg = OneVsRestClassifier(LogisticRegression(class_weight = \"balanced\", random_state=0, max_iter = 5000)).fit(X_train, y_train)\n",
    "y_pred = logreg.predict(X_test)\n",
    "log_acc = round(sklearn.metrics.accuracy_score(y_test, y_pred),2)\n",
    "\n",
    "print(f'Accuracy: {round(sklearn.metrics.accuracy_score(y_test, y_pred),2)}')\n",
    "print(f'Precision: {round(sklearn.metrics.precision_score(y_test, y_pred, average = \"macro\"),2)}')\n",
    "print(f'Recall: {round(sklearn.metrics.recall_score(y_test, y_pred, average = \"macro\"),2)}')"
   ]
  },
  {
   "cell_type": "code",
   "execution_count": 14,
   "id": "126379c0",
   "metadata": {},
   "outputs": [
    {
     "name": "stdout",
     "output_type": "stream",
     "text": [
      "Accuracy: 0.43\n"
     ]
    }
   ],
   "source": [
    "#Naive bayes-szel\n",
    "from sklearn.naive_bayes import GaussianNB\n",
    "\n",
    "clf = GaussianNB()\n",
    "clf.fit(X_train, y_train)\n",
    "y_pred = clf.predict(X_test)\n",
    "bayes_acc = round(sklearn.metrics.accuracy_score(y_test, y_pred),2)\n",
    "\n",
    "print(f'Accuracy: {round(sklearn.metrics.accuracy_score(y_test, y_pred),2)}')"
   ]
  },
  {
   "cell_type": "code",
   "execution_count": 15,
   "id": "72a20b33",
   "metadata": {},
   "outputs": [
    {
     "name": "stdout",
     "output_type": "stream",
     "text": [
      "Accuracy with different algorithms:\n",
      "- SVM: 0.39 \n",
      "- Logistic Regression: 0.49 \n",
      "- Naive Bayes: 0.43\n"
     ]
    }
   ],
   "source": [
    "#az előző 3 kiértékelése\n",
    "print(\"Accuracy with different algorithms:\")\n",
    "print(f'- SVM: {svm_acc} \\n- Logistic Regression: {log_acc} \\n- Naive Bayes: {bayes_acc}')"
   ]
  },
  {
   "cell_type": "code",
   "execution_count": 16,
   "id": "087b872b",
   "metadata": {},
   "outputs": [
    {
     "data": {
      "text/plain": [
       "0.5736671680434416"
      ]
     },
     "execution_count": 16,
     "metadata": {},
     "output_type": "execute_result"
    }
   ],
   "source": [
    "#ezek után nem oneVSall: lineáris regresszió\n",
    "from sklearn.linear_model import LinearRegression\n",
    "\n",
    "reg_alap = LinearRegression().fit(features,label)\n",
    "reg_alap.score(features, label)         "
   ]
  },
  {
   "cell_type": "code",
   "execution_count": 17,
   "id": "b1aff768",
   "metadata": {},
   "outputs": [
    {
     "name": "stdout",
     "output_type": "stream",
     "text": [
      "Coefficients: [ 0.08815919  0.2234091   0.16926528  0.05509531  0.06026727  0.0230551\n",
      "  2.5032884  -1.64166888  0.00762938  0.01428487  0.00563388 -0.00604442]\n",
      "RMSE: 1.02\n"
     ]
    }
   ],
   "source": [
    "#most nézzük a tanítóhalmazon és a teszthalmazon\n",
    "\n",
    "reg = LinearRegression().fit(X_train,y_train)\n",
    "reg_pred = reg.predict(X_test)\n",
    "\n",
    "#együtthatók\n",
    "print(\"Coefficients:\", reg.coef_)\n",
    "#RMSE\n",
    "\n",
    "rmse = round(np.power(np.sum(np.power(y_test - reg_pred, 2))/reg_pred.shape[0],0.5),2)\n",
    "print(\"RMSE:\", rmse)"
   ]
  },
  {
   "cell_type": "code",
   "execution_count": 18,
   "id": "ca921224",
   "metadata": {},
   "outputs": [
    {
     "data": {
      "text/plain": [
       "<function matplotlib.pyplot.show(close=None, block=None)>"
      ]
     },
     "execution_count": 18,
     "metadata": {},
     "output_type": "execute_result"
    },
    {
     "data": {
      "image/png": "[encoded data removed]",
      "text/plain": [
       "<Figure size 432x288 with 1 Axes>"
      ]
     },
     "metadata": {
      "needs_background": "light"
     },
     "output_type": "display_data"
    }
   ],
   "source": [
    "#Nézzük meg a reziduális tagokat\n",
    "\n",
    "import matplotlib.pyplot as plt\n",
    "\n",
    "plt.scatter(reg_pred, y_test-reg_pred)\n",
    "plt.plot(reg_pred, [0 for i in range(reg_pred.shape[0])], c=\"red\") #0-vonal\n",
    "plt.title(\"Reziduális tagok\")\n",
    "plt.axis\n",
    "plt.show"
   ]
  },
  {
   "cell_type": "code",
   "execution_count": 19,
   "id": "38c3981c",
   "metadata": {},
   "outputs": [
    {
     "data": {
      "text/plain": [
       "0.61"
      ]
     },
     "execution_count": 19,
     "metadata": {},
     "output_type": "execute_result"
    }
   ],
   "source": [
    "#R^2 és SSR\n",
    "SST = np.sum(np.power(y_test-np.mean(y_test),2))\n",
    "SSR = np.sum(np.power(reg_pred-np.mean(y_test),2))\n",
    "R2 = round(SSR/SST,2)\n",
    "R2"
   ]
  },
  {
   "cell_type": "code",
   "execution_count": 20,
   "id": "e0c37d9a",
   "metadata": {},
   "outputs": [
    {
     "name": "stdout",
     "output_type": "stream",
     "text": [
      "RMSE: 1.07\n",
      "0.33\n"
     ]
    }
   ],
   "source": [
    "#másik: kerekítsük a becsült értékeket\n",
    "\n",
    "for i in range(reg_pred.shape[0]):\n",
    "    reg_pred[i] = round(reg_pred[i],0)\n",
    "\n",
    "rmse_rounded = round(np.power(np.sum(np.power(y_test - reg_pred, 2))/reg_pred.shape[0],0.5),2)\n",
    "print(\"RMSE:\", rmse_rounded)\n",
    "lin_acc = round(sklearn.metrics.accuracy_score(y_test, reg_pred),2)\n",
    "print(round(sklearn.metrics.accuracy_score(y_test, reg_pred),2))"
   ]
  },
  {
   "cell_type": "code",
   "execution_count": 21,
   "id": "d7f24354",
   "metadata": {},
   "outputs": [
    {
     "name": "stdout",
     "output_type": "stream",
     "text": [
      "Linear regression:\n",
      "- RMSE: 1.02 \n",
      "- R2: 0.61 \n",
      "- RMSE after rounding: 1.07 \n",
      "- Accuracy after rounding: 0.33\n"
     ]
    }
   ],
   "source": [
    "#lineáris regresszió összesen:\n",
    "print(\"Linear regression:\")\n",
    "print(f'- RMSE: {rmse} \\n- R2: {R2} \\n- RMSE after rounding: {rmse_rounded} \\n- Accuracy after rounding: {lin_acc}')"
   ]
  },
  {
   "cell_type": "code",
   "execution_count": 22,
   "id": "3980ae5b",
   "metadata": {},
   "outputs": [
    {
     "name": "stdout",
     "output_type": "stream",
     "text": [
      "kNN with Mahalanobis:\n",
      "- Optmial number of neighbours: 1 \n",
      "- Accuracy: 0.53\n",
      "kNN with Euclidean:\n",
      "- Optimal number of neighbours: 1 \n",
      "- Accuracy: 0.59\n",
      "SVM:\n",
      "- Accuracy: 0.39\n",
      "Logistic Regression:\n",
      "- Accuracy: 0.49\n",
      "Naive Bayes:\n",
      "- Accuracy: 0.43\n",
      "Linear regression:\n",
      "- RMSE: 1.02 \n",
      "- R2: 0.61 \n",
      "- RMSE after rounding: 1.07 \n",
      "- Accuracy after rounding: 0.33\n"
     ]
    }
   ],
   "source": [
    "#összes teljes mindenes\n",
    "#összesítve kNN\n",
    "print(f'kNN with Mahalanobis:')\n",
    "print(f'- Optmial number of neighbours: {neigh_dict_mahal[max(list(neigh_dict_mahal.keys()))]} \\n- Accuracy: {knn_mahal}')\n",
    "print(f'kNN with Euclidean:')\n",
    "print(f'- Optimal number of neighbours: {neigh_dict_eu[max(list(neigh_dict_eu.keys()))]} \\n- Accuracy: {knn_eu}')\n",
    "print(\"SVM:\")\n",
    "print(f'- Accuracy: {svm_acc}')\n",
    "print(\"Logistic Regression:\")\n",
    "print(f'- Accuracy: {log_acc}')\n",
    "print(\"Naive Bayes:\")\n",
    "print(f'- Accuracy: {bayes_acc}')\n",
    "print(\"Linear regression:\")\n",
    "print(f'- RMSE: {rmse} \\n- R2: {R2} \\n- RMSE after rounding: {rmse_rounded} \\n- Accuracy after rounding: {lin_acc}')"
   ]
  },
  {
   "cell_type": "code",
   "execution_count": 23,
   "id": "94f0d304",
   "metadata": {},
   "outputs": [
    {
     "data": {
      "text/plain": [
       "[0.36, 0.35, 0.41, 0.42, 0.37, 0.4, 0.4, 0.42]"
      ]
     },
     "execution_count": 23,
     "metadata": {},
     "output_type": "execute_result"
    }
   ],
   "source": [
    "#főkomponens analízissel\n",
    "#nézzük, mennyi főkomponenssel lesz a legjobb. (pl a logisztikus regresszió)\n",
    "from sklearn.decomposition import PCA\n",
    "\n",
    "scores = []\n",
    "\n",
    "for i in range(1,9):\n",
    "    projected = PCA(i).fit_transform(features)\n",
    "    X_train, X_test, y_train, y_test = train_test_split(projected, label, test_size=0.3, random_state=0)\n",
    "    logreg = OneVsRestClassifier(LogisticRegression(random_state=0, max_iter = 10000)).fit(X_train, y_train)\n",
    "    y_pred = logreg.predict(X_test)\n",
    "    scores.append(round(sklearn.metrics.accuracy_score(y_test, y_pred),2))\n",
    "    \n",
    "scores"
   ]
  },
  {
   "cell_type": "code",
   "execution_count": 24,
   "id": "9020f423",
   "metadata": {},
   "outputs": [
    {
     "name": "stdout",
     "output_type": "stream",
     "text": [
      "Accuracy: 0.39\n",
      "Precision: 0.37\n",
      "Recall: 0.39\n"
     ]
    }
   ],
   "source": [
    "#főkomponenses logreg\n",
    "from sklearn.decomposition import PCA\n",
    "projected = PCA(4).fit_transform(features)\n",
    "X_train, X_test, y_train, y_test = train_test_split(projected, label, test_size=0.3, random_state=0)\n",
    "\n",
    "logreg = OneVsRestClassifier(LogisticRegression(class_weight = \"balanced\", random_state=0, max_iter = 10000)).fit(X_train, y_train)\n",
    "y_pred = logreg.predict(X_test)\n",
    "\n",
    "print(f'Accuracy: {round(sklearn.metrics.accuracy_score(y_test, y_pred),2)}')\n",
    "print(f'Precision: {round(sklearn.metrics.precision_score(y_test, y_pred, average = \"macro\"),2)}')\n",
    "print(f'Recall: {round(sklearn.metrics.recall_score(y_test, y_pred, average = \"macro\"),2)}')"
   ]
  },
  {
   "cell_type": "code",
   "execution_count": 25,
   "id": "5193dbc2",
   "metadata": {},
   "outputs": [],
   "source": [
    "#nézzük meg, hogy főkompononensenként hogy változnak a különböző algoritmusok eredménymutatói, és rakjuk dataframe-be!\n",
    "PCA_scores = pd.DataFrame({\"Főkomponensek száma\":[], \"Logreg Acc.\":[], \"SVM Acc.\":[], \"Linreg RMSE\":[], \"Linreg R2\":[], \n",
    "                           \"Linreg RMSE kerekített\":[], \"Linreg Acc kerekített\":[]})\n",
    "\n",
    "\n",
    "for i in range(1,9):\n",
    "    projected = PCA(i).fit_transform(features)\n",
    "    X_train, X_test, y_train, y_test = train_test_split(projected, label, test_size=0.3, random_state=0)\n",
    "    \n",
    "    logreg = OneVsRestClassifier(LogisticRegression(class_weight = \"balanced\", random_state=0, max_iter = 10000)).fit(X_train, y_train)\n",
    "    y_pred = logreg.predict(X_test)\n",
    "    log_acc = round(sklearn.metrics.accuracy_score(y_test, y_pred),2)\n",
    "    \n",
    "    clf = OneVsRestClassifier(SVC(class_weight = \"balanced\", random_state=0)).fit(X_train, y_train)    \n",
    "    y_pred = clf.predict(X_test)\n",
    "    SVM_acc = round(sklearn.metrics.accuracy_score(y_test, y_pred),2)\n",
    "    \n",
    "    reg = LinearRegression().fit(X_train,y_train)\n",
    "    reg_pred = reg.predict(X_test)\n",
    "    rmse = round(np.power(np.sum(np.power(y_test - reg_pred, 2))/reg_pred.shape[0],0.5),2)\n",
    "    SST = np.sum(np.power(y_test-np.mean(y_test),2))\n",
    "    SSR = np.sum(np.power(reg_pred-np.mean(y_test),2))\n",
    "    R2 = round(SSR/SST,2)\n",
    "    \n",
    "    for j in range(reg_pred.shape[0]):\n",
    "        reg_pred[j] = round(reg_pred[j],0)\n",
    "    rmse_rounded = round(np.power(np.sum(np.power(y_test - reg_pred, 2))/reg_pred.shape[0],0.5),2)\n",
    "    reg_pred_rounded = round(sklearn.metrics.accuracy_score(y_test, reg_pred),2)\n",
    "    \n",
    "    #új sor a dataframe-be\n",
    "    new_row = {\"Főkomponensek száma\":i, \"Logreg Acc.\":log_acc, \"SVM Acc.\":SVM_acc, \"Linreg RMSE\":rmse, \"Linreg R2\":R2, \n",
    "               \"Linreg RMSE kerekített\":rmse_rounded, \"Linreg Acc kerekített\":reg_pred_rounded}\n",
    "    PCA_scores = PCA_scores.append(new_row, ignore_index=True)"
   ]
  },
  {
   "cell_type": "code",
   "execution_count": 26,
   "id": "43962364",
   "metadata": {},
   "outputs": [
    {
     "data": {
      "text/html": [
       "<div>\n",
       "<style scoped>\n",
       "    .dataframe tbody tr th:only-of-type {\n",
       "        vertical-align: middle;\n",
       "    }\n",
       "\n",
       "    .dataframe tbody tr th {\n",
       "        vertical-align: top;\n",
       "    }\n",
       "\n",
       "    .dataframe thead th {\n",
       "        text-align: right;\n",
       "    }\n",
       "</style>\n",
       "<table border=\"1\" class=\"dataframe\">\n",
       "  <thead>\n",
       "    <tr style=\"text-align: right;\">\n",
       "      <th></th>\n",
       "      <th>Főkomponensek száma</th>\n",
       "      <th>Logreg Acc.</th>\n",
       "      <th>SVM Acc.</th>\n",
       "      <th>Linreg RMSE</th>\n",
       "      <th>Linreg R2</th>\n",
       "      <th>Linreg RMSE kerekített</th>\n",
       "      <th>Linreg Acc kerekített</th>\n",
       "    </tr>\n",
       "  </thead>\n",
       "  <tbody>\n",
       "    <tr>\n",
       "      <th>0</th>\n",
       "      <td>1.0</td>\n",
       "      <td>0.37</td>\n",
       "      <td>0.39</td>\n",
       "      <td>1.11</td>\n",
       "      <td>0.56</td>\n",
       "      <td>1.17</td>\n",
       "      <td>0.31</td>\n",
       "    </tr>\n",
       "    <tr>\n",
       "      <th>1</th>\n",
       "      <td>2.0</td>\n",
       "      <td>0.35</td>\n",
       "      <td>0.40</td>\n",
       "      <td>1.13</td>\n",
       "      <td>0.57</td>\n",
       "      <td>1.20</td>\n",
       "      <td>0.29</td>\n",
       "    </tr>\n",
       "    <tr>\n",
       "      <th>2</th>\n",
       "      <td>3.0</td>\n",
       "      <td>0.39</td>\n",
       "      <td>0.37</td>\n",
       "      <td>1.04</td>\n",
       "      <td>0.57</td>\n",
       "      <td>1.11</td>\n",
       "      <td>0.28</td>\n",
       "    </tr>\n",
       "    <tr>\n",
       "      <th>3</th>\n",
       "      <td>4.0</td>\n",
       "      <td>0.39</td>\n",
       "      <td>0.40</td>\n",
       "      <td>1.04</td>\n",
       "      <td>0.59</td>\n",
       "      <td>1.08</td>\n",
       "      <td>0.30</td>\n",
       "    </tr>\n",
       "    <tr>\n",
       "      <th>4</th>\n",
       "      <td>5.0</td>\n",
       "      <td>0.37</td>\n",
       "      <td>0.44</td>\n",
       "      <td>1.04</td>\n",
       "      <td>0.59</td>\n",
       "      <td>1.06</td>\n",
       "      <td>0.31</td>\n",
       "    </tr>\n",
       "    <tr>\n",
       "      <th>5</th>\n",
       "      <td>6.0</td>\n",
       "      <td>0.36</td>\n",
       "      <td>0.45</td>\n",
       "      <td>1.03</td>\n",
       "      <td>0.59</td>\n",
       "      <td>1.07</td>\n",
       "      <td>0.32</td>\n",
       "    </tr>\n",
       "    <tr>\n",
       "      <th>6</th>\n",
       "      <td>7.0</td>\n",
       "      <td>0.38</td>\n",
       "      <td>0.44</td>\n",
       "      <td>1.03</td>\n",
       "      <td>0.59</td>\n",
       "      <td>1.11</td>\n",
       "      <td>0.30</td>\n",
       "    </tr>\n",
       "    <tr>\n",
       "      <th>7</th>\n",
       "      <td>8.0</td>\n",
       "      <td>0.42</td>\n",
       "      <td>0.46</td>\n",
       "      <td>1.02</td>\n",
       "      <td>0.59</td>\n",
       "      <td>1.12</td>\n",
       "      <td>0.30</td>\n",
       "    </tr>\n",
       "  </tbody>\n",
       "</table>\n",
       "</div>"
      ],
      "text/plain": [
       "   Főkomponensek száma  Logreg Acc.  SVM Acc.  Linreg RMSE  Linreg R2  \\\n",
       "0                  1.0         0.37      0.39         1.11       0.56   \n",
       "1                  2.0         0.35      0.40         1.13       0.57   \n",
       "2                  3.0         0.39      0.37         1.04       0.57   \n",
       "3                  4.0         0.39      0.40         1.04       0.59   \n",
       "4                  5.0         0.37      0.44         1.04       0.59   \n",
       "5                  6.0         0.36      0.45         1.03       0.59   \n",
       "6                  7.0         0.38      0.44         1.03       0.59   \n",
       "7                  8.0         0.42      0.46         1.02       0.59   \n",
       "\n",
       "   Linreg RMSE kerekített  Linreg Acc kerekített  \n",
       "0                    1.17                   0.31  \n",
       "1                    1.20                   0.29  \n",
       "2                    1.11                   0.28  \n",
       "3                    1.08                   0.30  \n",
       "4                    1.06                   0.31  \n",
       "5                    1.07                   0.32  \n",
       "6                    1.11                   0.30  \n",
       "7                    1.12                   0.30  "
      ]
     },
     "execution_count": 26,
     "metadata": {},
     "output_type": "execute_result"
    }
   ],
   "source": [
    "PCA_scores"
   ]
  },
  {
   "cell_type": "code",
   "execution_count": null,
   "id": "4eeb9f05",
   "metadata": {},
   "outputs": [],
   "source": []
  }
 ],
 "metadata": {
  "kernelspec": {
   "display_name": "Python 3 (ipykernel)",
   "language": "python",
   "name": "python3"
  },
  "language_info": {
   "codemirror_mode": {
    "name": "ipython",
    "version": 3
   },
   "file_extension": ".py",
   "mimetype": "text/x-python",
   "name": "python",
   "nbconvert_exporter": "python",
   "pygments_lexer": "ipython3",
   "version": "3.8.11"
  }
 },
 "nbformat": 4,
 "nbformat_minor": 5
}
