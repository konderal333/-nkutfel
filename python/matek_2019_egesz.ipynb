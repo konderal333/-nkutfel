{
 "cells": [
  {
   "cell_type": "code",
   "execution_count": 1,
   "id": "85a47696",
   "metadata": {},
   "outputs": [],
   "source": [
    "import pandas as pd\n",
    "import numpy as np\n",
    "from sklearn.model_selection import train_test_split\n",
    "import sklearn.metrics\n",
    "from sklearn.multiclass import OneVsRestClassifier"
   ]
  },
  {
   "cell_type": "code",
   "execution_count": 2,
   "id": "997db279",
   "metadata": {},
   "outputs": [],
   "source": [
    "data = pd.read_excel(\"C:/Users/Donát/Documents/GitHub/-nkutfel/2019/2019_merged_matekA1A2_cleaned.xlsx\")"
   ]
  },
  {
   "cell_type": "code",
   "execution_count": 3,
   "id": "17d9fb53",
   "metadata": {},
   "outputs": [],
   "source": [
    "#szűrjük ki a nem kategorikus vagy numerikus változókat\n",
    "working_data = data.drop(labels = [\"Name\", \"Neptun\", \"Tankör\"], axis = 1)\n",
    "\n",
    "#alakítsuk numerikussá a %-os teljesítménymutatókat\n",
    "for i, row in working_data.iterrows():\n",
    "    working_data.at[i, \"Matek eredmény\"] = float(row[\"Matek eredmény\"][:-3] + \".\" + row[\"Matek eredmény\"][-2])\n",
    "    working_data.at[i, \"Kognitív eredmény\"] = float(row[\"Kognitív eredmény\"][:-3] + \".\" + row[\"Kognitív eredmény\"][-2])\n",
    "    working_data.at[i, \"Kognitív pont\"] = float(str(row[\"Kognitív pont\"]).replace(\",\", \".\"))\n",
    "    working_data.at[i, \"Össz eredmény (átlag)\"] = float(row[\"Össz eredmény (átlag)\"][:-3] + \".\" + row[\"Össz eredmény (átlag)\"][-2])\n",
    "\n"
   ]
  },
  {
   "cell_type": "code",
   "execution_count": 4,
   "id": "325c54ff",
   "metadata": {},
   "outputs": [],
   "source": [
    "\n",
    "features = working_data.drop(labels = [\"Matematika A1a - Analízis\", \"Matematika A2c\", \"Szak\", \"Matek helyes\", \"Összes pont\", \"Össz eredmény (átlag)\"], axis = 1)\n",
    "label = working_data[\"Matematika A1a - Analízis\"]\n",
    "X_train, X_test, y_train, y_test = train_test_split(features, label, test_size=0.3, random_state=0)"
   ]
  },
  {
   "cell_type": "code",
   "execution_count": 5,
   "id": "e4885a3d",
   "metadata": {},
   "outputs": [
    {
     "name": "stdout",
     "output_type": "stream",
     "text": [
      "Accuracy: 0.33\n",
      "Precision: 0.22\n",
      "Recall: 0.3\n"
     ]
    },
    {
     "name": "stderr",
     "output_type": "stream",
     "text": [
      "D:\\anaconda3\\envs\\otthoni\\lib\\site-packages\\sklearn\\metrics\\_classification.py:1308: UndefinedMetricWarning: Precision is ill-defined and being set to 0.0 in labels with no predicted samples. Use `zero_division` parameter to control this behavior.\n",
      "  _warn_prf(average, modifier, msg_start, len(result))\n"
     ]
    }
   ],
   "source": [
    "#SVM-re\n",
    "from sklearn.svm import SVC\n",
    "clf = OneVsRestClassifier(SVC(C = 0.6, class_weight = \"balanced\", random_state=0)).fit(X_train, y_train)     # balanced nélkül romlik a pontosság\n",
    "y_pred = clf.predict(X_test)\n",
    "\n",
    "print(f'Accuracy: {round(sklearn.metrics.accuracy_score(y_test, y_pred),2)}')\n",
    "print(f'Precision: {round(sklearn.metrics.precision_score(y_test, y_pred, average = \"macro\"),2)}')\n",
    "print(f'Recall: {round(sklearn.metrics.recall_score(y_test, y_pred, average = \"macro\"),2)}')"
   ]
  },
  {
   "cell_type": "code",
   "execution_count": 6,
   "id": "9603fd2c",
   "metadata": {},
   "outputs": [
    {
     "data": {
      "text/plain": [
       "[0.29,\n",
       " 0.3,\n",
       " 0.26,\n",
       " 0.38,\n",
       " 0.36,\n",
       " 0.33,\n",
       " 0.33,\n",
       " 0.36,\n",
       " 0.38,\n",
       " 0.38,\n",
       " 0.39,\n",
       " 0.39,\n",
       " 0.38,\n",
       " 0.39,\n",
       " 0.38,\n",
       " 0.33,\n",
       " 0.32,\n",
       " 0.29,\n",
       " 0.26,\n",
       " 0.26,\n",
       " 0.25,\n",
       " 0.25,\n",
       " 0.28,\n",
       " 0.26,\n",
       " 0.26,\n",
       " 0.28,\n",
       " 0.3,\n",
       " 0.3,\n",
       " 0.29,\n",
       " 0.29,\n",
       " 0.28,\n",
       " 0.28,\n",
       " 0.28,\n",
       " 0.28,\n",
       " 0.28,\n",
       " 0.28,\n",
       " 0.28,\n",
       " 0.28,\n",
       " 0.28,\n",
       " 0.28,\n",
       " 0.28,\n",
       " 0.28,\n",
       " 0.28,\n",
       " 0.28,\n",
       " 0.28,\n",
       " 0.28,\n",
       " 0.28,\n",
       " 0.28,\n",
       " 0.28]"
      ]
     },
     "execution_count": 6,
     "metadata": {},
     "output_type": "execute_result"
    }
   ],
   "source": [
    "#tesztelés megfelelő C-hez\n",
    "scores_svm = []\n",
    "for i in range(1,50):\n",
    "    clf = OneVsRestClassifier(SVC(C = i*0.1, class_weight = \"balanced\", random_state=0)).fit(X_train, y_train)    \n",
    "    y_pred = clf.predict(X_test)\n",
    "    scores_svm.append(round(sklearn.metrics.accuracy_score(y_test, y_pred),2))\n",
    "scores_svm"
   ]
  },
  {
   "cell_type": "code",
   "execution_count": 7,
   "id": "61ab1a54",
   "metadata": {},
   "outputs": [
    {
     "name": "stderr",
     "output_type": "stream",
     "text": [
      "D:\\anaconda3\\envs\\otthoni\\lib\\site-packages\\sklearn\\model_selection\\_split.py:676: UserWarning: The least populated class in y has only 3 members, which is less than n_splits=10.\n",
      "  warnings.warn(\n",
      "D:\\anaconda3\\envs\\otthoni\\lib\\site-packages\\sklearn\\model_selection\\_split.py:676: UserWarning: The least populated class in y has only 3 members, which is less than n_splits=10.\n",
      "  warnings.warn(\n",
      "D:\\anaconda3\\envs\\otthoni\\lib\\site-packages\\sklearn\\model_selection\\_split.py:676: UserWarning: The least populated class in y has only 3 members, which is less than n_splits=10.\n",
      "  warnings.warn(\n",
      "D:\\anaconda3\\envs\\otthoni\\lib\\site-packages\\sklearn\\model_selection\\_split.py:676: UserWarning: The least populated class in y has only 3 members, which is less than n_splits=10.\n",
      "  warnings.warn(\n",
      "D:\\anaconda3\\envs\\otthoni\\lib\\site-packages\\sklearn\\model_selection\\_split.py:676: UserWarning: The least populated class in y has only 3 members, which is less than n_splits=10.\n",
      "  warnings.warn(\n",
      "D:\\anaconda3\\envs\\otthoni\\lib\\site-packages\\sklearn\\model_selection\\_split.py:676: UserWarning: The least populated class in y has only 3 members, which is less than n_splits=10.\n",
      "  warnings.warn(\n",
      "D:\\anaconda3\\envs\\otthoni\\lib\\site-packages\\sklearn\\model_selection\\_split.py:676: UserWarning: The least populated class in y has only 3 members, which is less than n_splits=10.\n",
      "  warnings.warn(\n",
      "D:\\anaconda3\\envs\\otthoni\\lib\\site-packages\\sklearn\\model_selection\\_split.py:676: UserWarning: The least populated class in y has only 3 members, which is less than n_splits=10.\n",
      "  warnings.warn(\n",
      "D:\\anaconda3\\envs\\otthoni\\lib\\site-packages\\sklearn\\model_selection\\_split.py:676: UserWarning: The least populated class in y has only 3 members, which is less than n_splits=10.\n",
      "  warnings.warn(\n",
      "D:\\anaconda3\\envs\\otthoni\\lib\\site-packages\\sklearn\\model_selection\\_split.py:676: UserWarning: The least populated class in y has only 3 members, which is less than n_splits=10.\n",
      "  warnings.warn(\n",
      "D:\\anaconda3\\envs\\otthoni\\lib\\site-packages\\sklearn\\model_selection\\_split.py:676: UserWarning: The least populated class in y has only 3 members, which is less than n_splits=10.\n",
      "  warnings.warn(\n",
      "D:\\anaconda3\\envs\\otthoni\\lib\\site-packages\\sklearn\\model_selection\\_split.py:676: UserWarning: The least populated class in y has only 3 members, which is less than n_splits=10.\n",
      "  warnings.warn(\n",
      "D:\\anaconda3\\envs\\otthoni\\lib\\site-packages\\sklearn\\model_selection\\_split.py:676: UserWarning: The least populated class in y has only 3 members, which is less than n_splits=10.\n",
      "  warnings.warn(\n",
      "D:\\anaconda3\\envs\\otthoni\\lib\\site-packages\\sklearn\\model_selection\\_split.py:676: UserWarning: The least populated class in y has only 3 members, which is less than n_splits=10.\n",
      "  warnings.warn(\n",
      "D:\\anaconda3\\envs\\otthoni\\lib\\site-packages\\sklearn\\model_selection\\_split.py:676: UserWarning: The least populated class in y has only 3 members, which is less than n_splits=10.\n",
      "  warnings.warn(\n",
      "D:\\anaconda3\\envs\\otthoni\\lib\\site-packages\\sklearn\\model_selection\\_split.py:676: UserWarning: The least populated class in y has only 3 members, which is less than n_splits=10.\n",
      "  warnings.warn(\n",
      "D:\\anaconda3\\envs\\otthoni\\lib\\site-packages\\sklearn\\model_selection\\_split.py:676: UserWarning: The least populated class in y has only 3 members, which is less than n_splits=10.\n",
      "  warnings.warn(\n",
      "D:\\anaconda3\\envs\\otthoni\\lib\\site-packages\\sklearn\\model_selection\\_split.py:676: UserWarning: The least populated class in y has only 3 members, which is less than n_splits=10.\n",
      "  warnings.warn(\n",
      "D:\\anaconda3\\envs\\otthoni\\lib\\site-packages\\sklearn\\model_selection\\_split.py:676: UserWarning: The least populated class in y has only 3 members, which is less than n_splits=10.\n",
      "  warnings.warn(\n",
      "D:\\anaconda3\\envs\\otthoni\\lib\\site-packages\\sklearn\\model_selection\\_split.py:676: UserWarning: The least populated class in y has only 3 members, which is less than n_splits=10.\n",
      "  warnings.warn(\n",
      "D:\\anaconda3\\envs\\otthoni\\lib\\site-packages\\sklearn\\model_selection\\_split.py:676: UserWarning: The least populated class in y has only 3 members, which is less than n_splits=10.\n",
      "  warnings.warn(\n",
      "D:\\anaconda3\\envs\\otthoni\\lib\\site-packages\\sklearn\\model_selection\\_split.py:676: UserWarning: The least populated class in y has only 3 members, which is less than n_splits=10.\n",
      "  warnings.warn(\n",
      "D:\\anaconda3\\envs\\otthoni\\lib\\site-packages\\sklearn\\model_selection\\_split.py:676: UserWarning: The least populated class in y has only 3 members, which is less than n_splits=10.\n",
      "  warnings.warn(\n",
      "D:\\anaconda3\\envs\\otthoni\\lib\\site-packages\\sklearn\\model_selection\\_split.py:676: UserWarning: The least populated class in y has only 3 members, which is less than n_splits=10.\n",
      "  warnings.warn(\n",
      "D:\\anaconda3\\envs\\otthoni\\lib\\site-packages\\sklearn\\model_selection\\_split.py:676: UserWarning: The least populated class in y has only 3 members, which is less than n_splits=10.\n",
      "  warnings.warn(\n",
      "D:\\anaconda3\\envs\\otthoni\\lib\\site-packages\\sklearn\\model_selection\\_split.py:676: UserWarning: The least populated class in y has only 3 members, which is less than n_splits=10.\n",
      "  warnings.warn(\n",
      "D:\\anaconda3\\envs\\otthoni\\lib\\site-packages\\sklearn\\model_selection\\_split.py:676: UserWarning: The least populated class in y has only 3 members, which is less than n_splits=10.\n",
      "  warnings.warn(\n",
      "D:\\anaconda3\\envs\\otthoni\\lib\\site-packages\\sklearn\\model_selection\\_split.py:676: UserWarning: The least populated class in y has only 3 members, which is less than n_splits=10.\n",
      "  warnings.warn(\n",
      "D:\\anaconda3\\envs\\otthoni\\lib\\site-packages\\sklearn\\model_selection\\_split.py:676: UserWarning: The least populated class in y has only 3 members, which is less than n_splits=10.\n",
      "  warnings.warn(\n",
      "D:\\anaconda3\\envs\\otthoni\\lib\\site-packages\\sklearn\\model_selection\\_split.py:676: UserWarning: The least populated class in y has only 3 members, which is less than n_splits=10.\n",
      "  warnings.warn(\n",
      "D:\\anaconda3\\envs\\otthoni\\lib\\site-packages\\sklearn\\model_selection\\_split.py:676: UserWarning: The least populated class in y has only 3 members, which is less than n_splits=10.\n",
      "  warnings.warn(\n",
      "D:\\anaconda3\\envs\\otthoni\\lib\\site-packages\\sklearn\\model_selection\\_split.py:676: UserWarning: The least populated class in y has only 3 members, which is less than n_splits=10.\n",
      "  warnings.warn(\n",
      "D:\\anaconda3\\envs\\otthoni\\lib\\site-packages\\sklearn\\model_selection\\_split.py:676: UserWarning: The least populated class in y has only 3 members, which is less than n_splits=10.\n",
      "  warnings.warn(\n",
      "D:\\anaconda3\\envs\\otthoni\\lib\\site-packages\\sklearn\\model_selection\\_split.py:676: UserWarning: The least populated class in y has only 3 members, which is less than n_splits=10.\n",
      "  warnings.warn(\n",
      "D:\\anaconda3\\envs\\otthoni\\lib\\site-packages\\sklearn\\model_selection\\_split.py:676: UserWarning: The least populated class in y has only 3 members, which is less than n_splits=10.\n",
      "  warnings.warn(\n",
      "D:\\anaconda3\\envs\\otthoni\\lib\\site-packages\\sklearn\\model_selection\\_split.py:676: UserWarning: The least populated class in y has only 3 members, which is less than n_splits=10.\n",
      "  warnings.warn(\n",
      "D:\\anaconda3\\envs\\otthoni\\lib\\site-packages\\sklearn\\model_selection\\_split.py:676: UserWarning: The least populated class in y has only 3 members, which is less than n_splits=10.\n",
      "  warnings.warn(\n",
      "D:\\anaconda3\\envs\\otthoni\\lib\\site-packages\\sklearn\\model_selection\\_split.py:676: UserWarning: The least populated class in y has only 3 members, which is less than n_splits=10.\n",
      "  warnings.warn(\n",
      "D:\\anaconda3\\envs\\otthoni\\lib\\site-packages\\sklearn\\model_selection\\_split.py:676: UserWarning: The least populated class in y has only 3 members, which is less than n_splits=10.\n",
      "  warnings.warn(\n",
      "D:\\anaconda3\\envs\\otthoni\\lib\\site-packages\\sklearn\\model_selection\\_split.py:676: UserWarning: The least populated class in y has only 3 members, which is less than n_splits=10.\n",
      "  warnings.warn(\n",
      "D:\\anaconda3\\envs\\otthoni\\lib\\site-packages\\sklearn\\model_selection\\_split.py:676: UserWarning: The least populated class in y has only 3 members, which is less than n_splits=10.\n",
      "  warnings.warn(\n",
      "D:\\anaconda3\\envs\\otthoni\\lib\\site-packages\\sklearn\\model_selection\\_split.py:676: UserWarning: The least populated class in y has only 3 members, which is less than n_splits=10.\n",
      "  warnings.warn(\n"
     ]
    },
    {
     "name": "stderr",
     "output_type": "stream",
     "text": [
      "D:\\anaconda3\\envs\\otthoni\\lib\\site-packages\\sklearn\\model_selection\\_split.py:676: UserWarning: The least populated class in y has only 3 members, which is less than n_splits=10.\n",
      "  warnings.warn(\n",
      "D:\\anaconda3\\envs\\otthoni\\lib\\site-packages\\sklearn\\model_selection\\_split.py:676: UserWarning: The least populated class in y has only 3 members, which is less than n_splits=10.\n",
      "  warnings.warn(\n",
      "D:\\anaconda3\\envs\\otthoni\\lib\\site-packages\\sklearn\\model_selection\\_split.py:676: UserWarning: The least populated class in y has only 3 members, which is less than n_splits=10.\n",
      "  warnings.warn(\n",
      "D:\\anaconda3\\envs\\otthoni\\lib\\site-packages\\sklearn\\model_selection\\_split.py:676: UserWarning: The least populated class in y has only 3 members, which is less than n_splits=10.\n",
      "  warnings.warn(\n",
      "D:\\anaconda3\\envs\\otthoni\\lib\\site-packages\\sklearn\\model_selection\\_split.py:676: UserWarning: The least populated class in y has only 3 members, which is less than n_splits=10.\n",
      "  warnings.warn(\n",
      "D:\\anaconda3\\envs\\otthoni\\lib\\site-packages\\sklearn\\model_selection\\_split.py:676: UserWarning: The least populated class in y has only 3 members, which is less than n_splits=10.\n",
      "  warnings.warn(\n",
      "D:\\anaconda3\\envs\\otthoni\\lib\\site-packages\\sklearn\\model_selection\\_split.py:676: UserWarning: The least populated class in y has only 3 members, which is less than n_splits=10.\n",
      "  warnings.warn(\n"
     ]
    },
    {
     "name": "stdout",
     "output_type": "stream",
     "text": [
      "Optimal value for C: 0.6\n"
     ]
    }
   ],
   "source": [
    "#keresztvalidációval\n",
    "from sklearn.model_selection import cross_val_score\n",
    "\n",
    "data_of_regural = pd.DataFrame({\"Regularization\":[], \"Acc\": []})\n",
    "svm_dict = {}\n",
    "for i in range(1,50):\n",
    "    clf = OneVsRestClassifier(SVC(C = i*0.1, class_weight = \"balanced\", random_state=0))\n",
    "    scores_svm = cross_val_score(clf, X_train, y_train, scoring = \"accuracy\", cv=10)\n",
    "    for element in scores_svm:\n",
    "        data_of_regural = data_of_regural.append({\"Regularization\":i, \"Acc\": element}, ignore_index=True)\n",
    "    svm_dict[scores_svm.mean()] = i/10\n",
    "print(\"Optimal value for C:\",svm_dict[max(list(svm_dict.keys()))])"
   ]
  },
  {
   "cell_type": "code",
   "execution_count": 8,
   "id": "0b356f0a",
   "metadata": {},
   "outputs": [
    {
     "name": "stdout",
     "output_type": "stream",
     "text": [
      "Accuracy: 0.32\n",
      "Precision: 0.23\n",
      "Recall: 0.23\n"
     ]
    }
   ],
   "source": [
    "#logisztikus regresszióra\n",
    "from sklearn.linear_model import LogisticRegression\n",
    "\n",
    "logreg = OneVsRestClassifier(LogisticRegression(class_weight = \"balanced\", random_state=0, max_iter = 1000)).fit(X_train, y_train)\n",
    "y_pred = logreg.predict(X_test)\n",
    "\n",
    "print(f'Accuracy: {round(sklearn.metrics.accuracy_score(y_test, y_pred),2)}')\n",
    "print(f'Precision: {round(sklearn.metrics.precision_score(y_test, y_pred, average = \"macro\"),2)}')\n",
    "print(f'Recall: {round(sklearn.metrics.recall_score(y_test, y_pred, average = \"macro\"),2)}')"
   ]
  },
  {
   "cell_type": "code",
   "execution_count": 9,
   "id": "087b872b",
   "metadata": {},
   "outputs": [
    {
     "data": {
      "text/plain": [
       "0.3782657484091665"
      ]
     },
     "execution_count": 9,
     "metadata": {},
     "output_type": "execute_result"
    }
   ],
   "source": [
    "#ezek után nem oneVSall: lineáris regresszió\n",
    "from sklearn.linear_model import LinearRegression\n",
    "\n",
    "reg_alap = LinearRegression().fit(features,label)\n",
    "reg_alap.score(features, label)         "
   ]
  },
  {
   "cell_type": "code",
   "execution_count": 10,
   "id": "b1aff768",
   "metadata": {},
   "outputs": [
    {
     "name": "stdout",
     "output_type": "stream",
     "text": [
      "Coefficients: [-4.24077488e-02  4.85476232e-01  2.53319541e+01  2.51839628e+01\n",
      "  2.53089597e+01 -3.51768944e+00  2.50631956e+00 -1.66157322e+00\n",
      "  1.05149420e-02  3.59530563e-03  1.10219115e-02 -6.82496003e-04]\n",
      "RMSE: 0.9775153179536493\n"
     ]
    }
   ],
   "source": [
    "#most nézzük a tanítóhalmazon és a teszthalmazon\n",
    "\n",
    "reg = LinearRegression().fit(X_train,y_train)\n",
    "reg_pred = reg.predict(X_test)\n",
    "\n",
    "#együtthatók\n",
    "print(\"Coefficients:\", reg.coef_)\n",
    "#RMSE\n",
    "\n",
    "rmse = np.power(np.sum(np.power(y_test - reg_pred, 2))/reg_pred.shape[0],0.5)\n",
    "print(\"RMSE:\", rmse)"
   ]
  },
  {
   "cell_type": "code",
   "execution_count": 11,
   "id": "ca921224",
   "metadata": {},
   "outputs": [
    {
     "data": {
      "text/plain": [
       "<function matplotlib.pyplot.show(close=None, block=None)>"
      ]
     },
     "execution_count": 11,
     "metadata": {},
     "output_type": "execute_result"
    },
    {
     "data": {
      "image/png": "[encoded data removed]",
      "text/plain": [
       "<Figure size 432x288 with 1 Axes>"
      ]
     },
     "metadata": {
      "needs_background": "light"
     },
     "output_type": "display_data"
    }
   ],
   "source": [
    "#Nézzük meg a reziduális tagokat\n",
    "\n",
    "import matplotlib.pyplot as plt\n",
    "\n",
    "plt.scatter(reg_pred, y_test-reg_pred)\n",
    "plt.plot(reg_pred, [0 for i in range(reg_pred.shape[0])], c=\"red\") #0-vonal\n",
    "plt.title(\"Reziduális tagok\")\n",
    "plt.axis\n",
    "plt.show"
   ]
  },
  {
   "cell_type": "code",
   "execution_count": 12,
   "id": "38c3981c",
   "metadata": {},
   "outputs": [
    {
     "data": {
      "text/plain": [
       "0.5850937867059999"
      ]
     },
     "execution_count": 12,
     "metadata": {},
     "output_type": "execute_result"
    }
   ],
   "source": [
    "#R^2 és SSR\n",
    "SST = np.sum(np.power(y_test-np.mean(y_test),2))\n",
    "SSR = np.sum(np.power(reg_pred-np.mean(y_test),2))\n",
    "R2 = SSR/SST\n",
    "R2"
   ]
  },
  {
   "cell_type": "code",
   "execution_count": 13,
   "id": "e0c37d9a",
   "metadata": {},
   "outputs": [
    {
     "name": "stdout",
     "output_type": "stream",
     "text": [
      "RMSE: 0.9927271762054324\n",
      "0.28\n"
     ]
    }
   ],
   "source": [
    "#másik: kerekítsük a becsült értékeket\n",
    "\n",
    "for i in range(reg_pred.shape[0]):\n",
    "    reg_pred[i] = round(reg_pred[i],0)\n",
    "\n",
    "rmse = np.power(np.sum(np.power(y_test - reg_pred, 2))/reg_pred.shape[0],0.5)\n",
    "print(\"RMSE:\", rmse)\n",
    "print(round(sklearn.metrics.accuracy_score(y_test, reg_pred),2))"
   ]
  },
  {
   "cell_type": "code",
   "execution_count": 14,
   "id": "94f0d304",
   "metadata": {},
   "outputs": [
    {
     "data": {
      "text/plain": [
       "[0.38, 0.32, 0.35, 0.32, 0.35, 0.33, 0.32, 0.33]"
      ]
     },
     "execution_count": 14,
     "metadata": {},
     "output_type": "execute_result"
    }
   ],
   "source": [
    "#főkomponens analízissel\n",
    "#nézzük, mennyi főkomponenssel lesz a legjobb. (pl a logisztikus regresszió)\n",
    "from sklearn.decomposition import PCA\n",
    "\n",
    "scores = []\n",
    "\n",
    "for i in range(1,9):\n",
    "    projected = PCA(i).fit_transform(features)\n",
    "    X_train, X_test, y_train, y_test = train_test_split(projected, label, test_size=0.3, random_state=0)\n",
    "    logreg = OneVsRestClassifier(LogisticRegression(random_state=0, max_iter = 10000)).fit(X_train, y_train)\n",
    "    y_pred = logreg.predict(X_test)\n",
    "    scores.append(round(sklearn.metrics.accuracy_score(y_test, y_pred),2))\n",
    "    \n",
    "scores"
   ]
  },
  {
   "cell_type": "code",
   "execution_count": 15,
   "id": "9020f423",
   "metadata": {},
   "outputs": [
    {
     "name": "stdout",
     "output_type": "stream",
     "text": [
      "Accuracy: 0.35\n",
      "Precision: 0.33\n",
      "Recall: 0.43\n"
     ]
    }
   ],
   "source": [
    "#főkomponenses logreg\n",
    "from sklearn.decomposition import PCA\n",
    "projected = PCA(3).fit_transform(features)\n",
    "X_train, X_test, y_train, y_test = train_test_split(projected, label, test_size=0.3, random_state=0)\n",
    "\n",
    "logreg = OneVsRestClassifier(LogisticRegression(class_weight = \"balanced\", random_state=0, max_iter = 10000)).fit(X_train, y_train)\n",
    "y_pred = logreg.predict(X_test)\n",
    "\n",
    "print(f'Accuracy: {round(sklearn.metrics.accuracy_score(y_test, y_pred),2)}')\n",
    "print(f'Precision: {round(sklearn.metrics.precision_score(y_test, y_pred, average = \"macro\"),2)}')\n",
    "print(f'Recall: {round(sklearn.metrics.recall_score(y_test, y_pred, average = \"macro\"),2)}')"
   ]
  },
  {
   "cell_type": "code",
   "execution_count": 16,
   "id": "5193dbc2",
   "metadata": {},
   "outputs": [],
   "source": [
    "#nézzük meg, hogy főkompononensenként hogy változnak a különböző algoritmusok eredménymutatói, és rakjuk dataframe-be!\n",
    "PCA_scores = pd.DataFrame({\"Főkomponensek száma\":[], \"Logreg Acc.\":[], \"SVM Acc.\":[], \"Linreg RMSE\":[], \"Linreg R2\":[], \n",
    "                           \"Linreg RMSE kerekített\":[], \"Linreg Acc kerekített\":[]})\n",
    "\n",
    "\n",
    "for i in range(1,9):\n",
    "    projected = PCA(i).fit_transform(features)\n",
    "    X_train, X_test, y_train, y_test = train_test_split(projected, label, test_size=0.3, random_state=0)\n",
    "    \n",
    "    logreg = OneVsRestClassifier(LogisticRegression(class_weight = \"balanced\", random_state=0, max_iter = 10000)).fit(X_train, y_train)\n",
    "    y_pred = logreg.predict(X_test)\n",
    "    log_acc = round(sklearn.metrics.accuracy_score(y_test, y_pred),2)\n",
    "    \n",
    "    clf = OneVsRestClassifier(SVC(class_weight = \"balanced\", random_state=0)).fit(X_train, y_train)    \n",
    "    y_pred = clf.predict(X_test)\n",
    "    SVM_acc = round(sklearn.metrics.accuracy_score(y_test, y_pred),2)\n",
    "    \n",
    "    reg = LinearRegression().fit(X_train,y_train)\n",
    "    reg_pred = reg.predict(X_test)\n",
    "    rmse = round(np.power(np.sum(np.power(y_test - reg_pred, 2))/reg_pred.shape[0],0.5),2)\n",
    "    SST = np.sum(np.power(y_test-np.mean(y_test),2))\n",
    "    SSR = np.sum(np.power(reg_pred-np.mean(y_test),2))\n",
    "    R2 = round(SSR/SST,2)\n",
    "    \n",
    "    for j in range(reg_pred.shape[0]):\n",
    "        reg_pred[j] = round(reg_pred[j],0)\n",
    "    rmse_rounded = round(np.power(np.sum(np.power(y_test - reg_pred, 2))/reg_pred.shape[0],0.5),2)\n",
    "    reg_pred_rounded = round(sklearn.metrics.accuracy_score(y_test, reg_pred),2)\n",
    "    \n",
    "    #új sor a dataframe-be\n",
    "    new_row = {\"Főkomponensek száma\":i, \"Logreg Acc.\":log_acc, \"SVM Acc.\":SVM_acc, \"Linreg RMSE\":rmse, \"Linreg R2\":R2, \n",
    "               \"Linreg RMSE kerekített\":rmse_rounded, \"Linreg Acc kerekített\":reg_pred_rounded}\n",
    "    PCA_scores = PCA_scores.append(new_row, ignore_index=True)"
   ]
  },
  {
   "cell_type": "code",
   "execution_count": 17,
   "id": "43962364",
   "metadata": {},
   "outputs": [
    {
     "data": {
      "text/html": [
       "<div>\n",
       "<style scoped>\n",
       "    .dataframe tbody tr th:only-of-type {\n",
       "        vertical-align: middle;\n",
       "    }\n",
       "\n",
       "    .dataframe tbody tr th {\n",
       "        vertical-align: top;\n",
       "    }\n",
       "\n",
       "    .dataframe thead th {\n",
       "        text-align: right;\n",
       "    }\n",
       "</style>\n",
       "<table border=\"1\" class=\"dataframe\">\n",
       "  <thead>\n",
       "    <tr style=\"text-align: right;\">\n",
       "      <th></th>\n",
       "      <th>Főkomponensek száma</th>\n",
       "      <th>Logreg Acc.</th>\n",
       "      <th>SVM Acc.</th>\n",
       "      <th>Linreg RMSE</th>\n",
       "      <th>Linreg R2</th>\n",
       "      <th>Linreg RMSE kerekített</th>\n",
       "      <th>Linreg Acc kerekített</th>\n",
       "    </tr>\n",
       "  </thead>\n",
       "  <tbody>\n",
       "    <tr>\n",
       "      <th>0</th>\n",
       "      <td>1.0</td>\n",
       "      <td>0.38</td>\n",
       "      <td>0.30</td>\n",
       "      <td>0.98</td>\n",
       "      <td>0.54</td>\n",
       "      <td>1.02</td>\n",
       "      <td>0.26</td>\n",
       "    </tr>\n",
       "    <tr>\n",
       "      <th>1</th>\n",
       "      <td>2.0</td>\n",
       "      <td>0.28</td>\n",
       "      <td>0.33</td>\n",
       "      <td>0.98</td>\n",
       "      <td>0.54</td>\n",
       "      <td>1.02</td>\n",
       "      <td>0.26</td>\n",
       "    </tr>\n",
       "    <tr>\n",
       "      <th>2</th>\n",
       "      <td>3.0</td>\n",
       "      <td>0.35</td>\n",
       "      <td>0.35</td>\n",
       "      <td>0.95</td>\n",
       "      <td>0.55</td>\n",
       "      <td>0.97</td>\n",
       "      <td>0.28</td>\n",
       "    </tr>\n",
       "    <tr>\n",
       "      <th>3</th>\n",
       "      <td>4.0</td>\n",
       "      <td>0.32</td>\n",
       "      <td>0.29</td>\n",
       "      <td>0.96</td>\n",
       "      <td>0.55</td>\n",
       "      <td>0.96</td>\n",
       "      <td>0.30</td>\n",
       "    </tr>\n",
       "    <tr>\n",
       "      <th>4</th>\n",
       "      <td>5.0</td>\n",
       "      <td>0.30</td>\n",
       "      <td>0.30</td>\n",
       "      <td>0.96</td>\n",
       "      <td>0.55</td>\n",
       "      <td>0.96</td>\n",
       "      <td>0.30</td>\n",
       "    </tr>\n",
       "    <tr>\n",
       "      <th>5</th>\n",
       "      <td>6.0</td>\n",
       "      <td>0.28</td>\n",
       "      <td>0.26</td>\n",
       "      <td>0.96</td>\n",
       "      <td>0.55</td>\n",
       "      <td>1.01</td>\n",
       "      <td>0.29</td>\n",
       "    </tr>\n",
       "    <tr>\n",
       "      <th>6</th>\n",
       "      <td>7.0</td>\n",
       "      <td>0.28</td>\n",
       "      <td>0.26</td>\n",
       "      <td>0.96</td>\n",
       "      <td>0.55</td>\n",
       "      <td>1.01</td>\n",
       "      <td>0.29</td>\n",
       "    </tr>\n",
       "    <tr>\n",
       "      <th>7</th>\n",
       "      <td>8.0</td>\n",
       "      <td>0.28</td>\n",
       "      <td>0.26</td>\n",
       "      <td>0.95</td>\n",
       "      <td>0.57</td>\n",
       "      <td>0.96</td>\n",
       "      <td>0.30</td>\n",
       "    </tr>\n",
       "  </tbody>\n",
       "</table>\n",
       "</div>"
      ],
      "text/plain": [
       "   Főkomponensek száma  Logreg Acc.  SVM Acc.  Linreg RMSE  Linreg R2  \\\n",
       "0                  1.0         0.38      0.30         0.98       0.54   \n",
       "1                  2.0         0.28      0.33         0.98       0.54   \n",
       "2                  3.0         0.35      0.35         0.95       0.55   \n",
       "3                  4.0         0.32      0.29         0.96       0.55   \n",
       "4                  5.0         0.30      0.30         0.96       0.55   \n",
       "5                  6.0         0.28      0.26         0.96       0.55   \n",
       "6                  7.0         0.28      0.26         0.96       0.55   \n",
       "7                  8.0         0.28      0.26         0.95       0.57   \n",
       "\n",
       "   Linreg RMSE kerekített  Linreg Acc kerekített  \n",
       "0                    1.02                   0.26  \n",
       "1                    1.02                   0.26  \n",
       "2                    0.97                   0.28  \n",
       "3                    0.96                   0.30  \n",
       "4                    0.96                   0.30  \n",
       "5                    1.01                   0.29  \n",
       "6                    1.01                   0.29  \n",
       "7                    0.96                   0.30  "
      ]
     },
     "execution_count": 17,
     "metadata": {},
     "output_type": "execute_result"
    }
   ],
   "source": [
    "PCA_scores"
   ]
  },
  {
   "cell_type": "code",
   "execution_count": 18,
   "id": "f6c2ba8c",
   "metadata": {},
   "outputs": [
    {
     "name": "stdout",
     "output_type": "stream",
     "text": [
      "Accuracy: 0.33\n"
     ]
    }
   ],
   "source": [
    "#Naive bayes-szel\n",
    "from sklearn.naive_bayes import GaussianNB\n",
    "\n",
    "#visszaállítjuk a főkomponensekről\n",
    "features = working_data.drop(labels = [\"Matematika A1a - Analízis\", \"Matematika A2c\", \"Szak\", \"Matek helyes\", \"Összes pont\", \"Össz eredmény (átlag)\"], axis = 1)\n",
    "label = working_data[\"Matematika A1a - Analízis\"]\n",
    "X_train, X_test, y_train, y_test = train_test_split(features, label, test_size=0.3, random_state=0)\n",
    "\n",
    "#Teszt és tanítóadat\n",
    "\n",
    "features = working_data.drop(labels = [\"Matematika A1a - Analízis\", \"Matematika A2c\", \"Szak\"], axis = 1)\n",
    "label = working_data[\"Matematika A1a - Analízis\"]\n",
    "X_train, X_test, y_train, y_test = train_test_split(features, label, test_size=0.3, random_state=0)\n",
    "\n",
    "clf = GaussianNB()\n",
    "clf.fit(X_train, y_train)\n",
    "y_pred = clf.predict(X_test)\n",
    "\n",
    "print(f'Accuracy: {round(sklearn.metrics.accuracy_score(y_test, y_pred),2)}')\n"
   ]
  },
  {
   "cell_type": "code",
   "execution_count": null,
   "id": "0794cb79",
   "metadata": {},
   "outputs": [],
   "source": []
  }
 ],
 "metadata": {
  "kernelspec": {
   "display_name": "Python 3 (ipykernel)",
   "language": "python",
   "name": "python3"
  },
  "language_info": {
   "codemirror_mode": {
    "name": "ipython",
    "version": 3
   },
   "file_extension": ".py",
   "mimetype": "text/x-python",
   "name": "python",
   "nbconvert_exporter": "python",
   "pygments_lexer": "ipython3",
   "version": "3.8.11"
  }
 },
 "nbformat": 4,
 "nbformat_minor": 5
}
