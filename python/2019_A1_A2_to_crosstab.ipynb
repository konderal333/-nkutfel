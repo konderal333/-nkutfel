{
 "cells": [
  {
   "cell_type": "code",
   "execution_count": 1,
   "id": "f64d7920",
   "metadata": {},
   "outputs": [],
   "source": [
    "import pandas as pd"
   ]
  },
  {
   "cell_type": "code",
   "execution_count": 7,
   "id": "a3d55342",
   "metadata": {},
   "outputs": [],
   "source": [
    "data = pd.read_excel(\"C:/Users/Donát/Documents/GitHub/-nkutfel/2019_matek_A1_A2.xlsx\")"
   ]
  },
  {
   "cell_type": "code",
   "execution_count": 20,
   "id": "8fe49740",
   "metadata": {},
   "outputs": [],
   "source": [
    "emberek_es_jegyek = data.pivot_table(index = \"Nyomtatási név\", columns = \"Tárgynév\", values = \"Bejegyzés értéke\", fill_value=0,\n",
    "                                    aggfunc = \"max\")"
   ]
  },
  {
   "cell_type": "code",
   "execution_count": 21,
   "id": "c5c4a492",
   "metadata": {},
   "outputs": [
    {
     "data": {
      "text/html": [
       "<div>\n",
       "<style scoped>\n",
       "    .dataframe tbody tr th:only-of-type {\n",
       "        vertical-align: middle;\n",
       "    }\n",
       "\n",
       "    .dataframe tbody tr th {\n",
       "        vertical-align: top;\n",
       "    }\n",
       "\n",
       "    .dataframe thead th {\n",
       "        text-align: right;\n",
       "    }\n",
       "</style>\n",
       "<table border=\"1\" class=\"dataframe\">\n",
       "  <thead>\n",
       "    <tr style=\"text-align: right;\">\n",
       "      <th>Tárgynév</th>\n",
       "      <th>Matematika A1a - Analízis</th>\n",
       "      <th>Matematika A2c</th>\n",
       "    </tr>\n",
       "    <tr>\n",
       "      <th>Nyomtatási név</th>\n",
       "      <th></th>\n",
       "      <th></th>\n",
       "    </tr>\n",
       "  </thead>\n",
       "  <tbody>\n",
       "    <tr>\n",
       "      <th>Ablonczy Csaba</th>\n",
       "      <td>2</td>\n",
       "      <td>3</td>\n",
       "    </tr>\n",
       "    <tr>\n",
       "      <th>Abuczki Richárd János</th>\n",
       "      <td>2</td>\n",
       "      <td>1</td>\n",
       "    </tr>\n",
       "    <tr>\n",
       "      <th>Al-Hag Johanna Iman</th>\n",
       "      <td>5</td>\n",
       "      <td>5</td>\n",
       "    </tr>\n",
       "    <tr>\n",
       "      <th>Bacskó Bernadett</th>\n",
       "      <td>2</td>\n",
       "      <td>3</td>\n",
       "    </tr>\n",
       "    <tr>\n",
       "      <th>Bagi Nóra Izabella</th>\n",
       "      <td>2</td>\n",
       "      <td>3</td>\n",
       "    </tr>\n",
       "    <tr>\n",
       "      <th>...</th>\n",
       "      <td>...</td>\n",
       "      <td>...</td>\n",
       "    </tr>\n",
       "    <tr>\n",
       "      <th>Ábrahám János Dezső</th>\n",
       "      <td>3</td>\n",
       "      <td>5</td>\n",
       "    </tr>\n",
       "    <tr>\n",
       "      <th>Ács Ágnes Tünde</th>\n",
       "      <td>3</td>\n",
       "      <td>3</td>\n",
       "    </tr>\n",
       "    <tr>\n",
       "      <th>Ónodi Vanda Júlia</th>\n",
       "      <td>2</td>\n",
       "      <td>0</td>\n",
       "    </tr>\n",
       "    <tr>\n",
       "      <th>Ótus Noémi</th>\n",
       "      <td>2</td>\n",
       "      <td>0</td>\n",
       "    </tr>\n",
       "    <tr>\n",
       "      <th>Ötvös Bettina</th>\n",
       "      <td>4</td>\n",
       "      <td>2</td>\n",
       "    </tr>\n",
       "  </tbody>\n",
       "</table>\n",
       "<p>309 rows × 2 columns</p>\n",
       "</div>"
      ],
      "text/plain": [
       "Tárgynév               Matematika A1a - Analízis  Matematika A2c\n",
       "Nyomtatási név                                                  \n",
       "Ablonczy Csaba                                 2               3\n",
       "Abuczki Richárd János                          2               1\n",
       "Al-Hag Johanna Iman                            5               5\n",
       "Bacskó Bernadett                               2               3\n",
       "Bagi Nóra Izabella                             2               3\n",
       "...                                          ...             ...\n",
       "Ábrahám János Dezső                            3               5\n",
       "Ács Ágnes Tünde                                3               3\n",
       "Ónodi Vanda Júlia                              2               0\n",
       "Ótus Noémi                                     2               0\n",
       "Ötvös Bettina                                  4               2\n",
       "\n",
       "[309 rows x 2 columns]"
      ]
     },
     "execution_count": 21,
     "metadata": {},
     "output_type": "execute_result"
    }
   ],
   "source": [
    "emberek_es_jegyek"
   ]
  },
  {
   "cell_type": "code",
   "execution_count": 22,
   "id": "52a693e6",
   "metadata": {},
   "outputs": [],
   "source": [
    "emberek_es_jegyek.to_excel(\"C:/Users/Donát/Documents/GitHub/-nkutfel/2019_matekjegyek_tisztított.xlsx\")"
   ]
  },
  {
   "cell_type": "code",
   "execution_count": null,
   "id": "c6bad826",
   "metadata": {},
   "outputs": [],
   "source": []
  }
 ],
 "metadata": {
  "kernelspec": {
   "display_name": "Python 3 (ipykernel)",
   "language": "python",
   "name": "python3"
  },
  "language_info": {
   "codemirror_mode": {
    "name": "ipython",
    "version": 3
   },
   "file_extension": ".py",
   "mimetype": "text/x-python",
   "name": "python",
   "nbconvert_exporter": "python",
   "pygments_lexer": "ipython3",
   "version": "3.8.11"
  }
 },
 "nbformat": 4,
 "nbformat_minor": 5
}
