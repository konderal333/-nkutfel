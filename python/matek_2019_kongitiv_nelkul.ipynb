{
 "cells": [
  {
   "cell_type": "code",
   "execution_count": 1,
   "id": "c9da1b59",
   "metadata": {},
   "outputs": [],
   "source": [
    "import pandas as pd\n",
    "import numpy as np\n",
    "from sklearn.model_selection import train_test_split\n",
    "import sklearn.metrics\n",
    "from sklearn.multiclass import OneVsRestClassifier"
   ]
  },
  {
   "cell_type": "code",
   "execution_count": 18,
   "id": "e5202b1f",
   "metadata": {},
   "outputs": [],
   "source": [
    "data = pd.read_excel(\"C:/Users/Donát/Documents/GitHub/-nkutfel/2019/2019_zh_felv_jegy_only.xlsx\")"
   ]
  },
  {
   "cell_type": "code",
   "execution_count": 19,
   "id": "75c07dbb",
   "metadata": {},
   "outputs": [],
   "source": [
    "#szűrjük ki a nem kategorikus vagy numerikus változókat\n",
    "working_data = data.drop(labels = [\"Név\",\"Születési dátum\", \"Képzés\"], axis = 1)"
   ]
  },
  {
   "cell_type": "code",
   "execution_count": 20,
   "id": "576df35b",
   "metadata": {},
   "outputs": [
    {
     "data": {
      "text/html": [
       "<div>\n",
       "<style scoped>\n",
       "    .dataframe tbody tr th:only-of-type {\n",
       "        vertical-align: middle;\n",
       "    }\n",
       "\n",
       "    .dataframe tbody tr th {\n",
       "        vertical-align: top;\n",
       "    }\n",
       "\n",
       "    .dataframe thead th {\n",
       "        text-align: right;\n",
       "    }\n",
       "</style>\n",
       "<table border=\"1\" class=\"dataframe\">\n",
       "  <thead>\n",
       "    <tr style=\"text-align: right;\">\n",
       "      <th></th>\n",
       "      <th>Érettségi éve</th>\n",
       "      <th>Tanulmányi pont</th>\n",
       "      <th>Érettségi pont</th>\n",
       "      <th>Többletpont</th>\n",
       "      <th>Törzs pont</th>\n",
       "      <th>Összes pont</th>\n",
       "      <th>ZH0</th>\n",
       "      <th>Matematika A1a - Analízis</th>\n",
       "      <th>Matematika A2c</th>\n",
       "    </tr>\n",
       "  </thead>\n",
       "  <tbody>\n",
       "    <tr>\n",
       "      <th>0</th>\n",
       "      <td>2019</td>\n",
       "      <td>197</td>\n",
       "      <td>195</td>\n",
       "      <td>100</td>\n",
       "      <td>392</td>\n",
       "      <td>492</td>\n",
       "      <td>51</td>\n",
       "      <td>3</td>\n",
       "      <td>3</td>\n",
       "    </tr>\n",
       "    <tr>\n",
       "      <th>1</th>\n",
       "      <td>2019</td>\n",
       "      <td>196</td>\n",
       "      <td>197</td>\n",
       "      <td>90</td>\n",
       "      <td>394</td>\n",
       "      <td>484</td>\n",
       "      <td>55</td>\n",
       "      <td>5</td>\n",
       "      <td>5</td>\n",
       "    </tr>\n",
       "    <tr>\n",
       "      <th>2</th>\n",
       "      <td>2019</td>\n",
       "      <td>192</td>\n",
       "      <td>186</td>\n",
       "      <td>100</td>\n",
       "      <td>378</td>\n",
       "      <td>478</td>\n",
       "      <td>34</td>\n",
       "      <td>3</td>\n",
       "      <td>2</td>\n",
       "    </tr>\n",
       "    <tr>\n",
       "      <th>3</th>\n",
       "      <td>2019</td>\n",
       "      <td>193</td>\n",
       "      <td>192</td>\n",
       "      <td>90</td>\n",
       "      <td>385</td>\n",
       "      <td>475</td>\n",
       "      <td>37</td>\n",
       "      <td>3</td>\n",
       "      <td>2</td>\n",
       "    </tr>\n",
       "    <tr>\n",
       "      <th>4</th>\n",
       "      <td>2019</td>\n",
       "      <td>192</td>\n",
       "      <td>186</td>\n",
       "      <td>93</td>\n",
       "      <td>378</td>\n",
       "      <td>471</td>\n",
       "      <td>31</td>\n",
       "      <td>3</td>\n",
       "      <td>2</td>\n",
       "    </tr>\n",
       "    <tr>\n",
       "      <th>...</th>\n",
       "      <td>...</td>\n",
       "      <td>...</td>\n",
       "      <td>...</td>\n",
       "      <td>...</td>\n",
       "      <td>...</td>\n",
       "      <td>...</td>\n",
       "      <td>...</td>\n",
       "      <td>...</td>\n",
       "      <td>...</td>\n",
       "    </tr>\n",
       "    <tr>\n",
       "      <th>265</th>\n",
       "      <td>2019</td>\n",
       "      <td>186</td>\n",
       "      <td>157</td>\n",
       "      <td>78</td>\n",
       "      <td>343</td>\n",
       "      <td>421</td>\n",
       "      <td>10</td>\n",
       "      <td>2</td>\n",
       "      <td>2</td>\n",
       "    </tr>\n",
       "    <tr>\n",
       "      <th>266</th>\n",
       "      <td>2019</td>\n",
       "      <td>187</td>\n",
       "      <td>142</td>\n",
       "      <td>90</td>\n",
       "      <td>329</td>\n",
       "      <td>419</td>\n",
       "      <td>24</td>\n",
       "      <td>4</td>\n",
       "      <td>4</td>\n",
       "    </tr>\n",
       "    <tr>\n",
       "      <th>267</th>\n",
       "      <td>2019</td>\n",
       "      <td>169</td>\n",
       "      <td>170</td>\n",
       "      <td>78</td>\n",
       "      <td>340</td>\n",
       "      <td>418</td>\n",
       "      <td>24</td>\n",
       "      <td>2</td>\n",
       "      <td>0</td>\n",
       "    </tr>\n",
       "    <tr>\n",
       "      <th>268</th>\n",
       "      <td>2019</td>\n",
       "      <td>182</td>\n",
       "      <td>146</td>\n",
       "      <td>90</td>\n",
       "      <td>328</td>\n",
       "      <td>418</td>\n",
       "      <td>21</td>\n",
       "      <td>2</td>\n",
       "      <td>3</td>\n",
       "    </tr>\n",
       "    <tr>\n",
       "      <th>269</th>\n",
       "      <td>2012</td>\n",
       "      <td>0</td>\n",
       "      <td>180</td>\n",
       "      <td>90</td>\n",
       "      <td>360</td>\n",
       "      <td>450</td>\n",
       "      <td>55</td>\n",
       "      <td>5</td>\n",
       "      <td>4</td>\n",
       "    </tr>\n",
       "  </tbody>\n",
       "</table>\n",
       "<p>270 rows × 9 columns</p>\n",
       "</div>"
      ],
      "text/plain": [
       "     Érettségi éve  Tanulmányi pont  Érettségi pont  Többletpont  Törzs pont  \\\n",
       "0             2019              197             195          100         392   \n",
       "1             2019              196             197           90         394   \n",
       "2             2019              192             186          100         378   \n",
       "3             2019              193             192           90         385   \n",
       "4             2019              192             186           93         378   \n",
       "..             ...              ...             ...          ...         ...   \n",
       "265           2019              186             157           78         343   \n",
       "266           2019              187             142           90         329   \n",
       "267           2019              169             170           78         340   \n",
       "268           2019              182             146           90         328   \n",
       "269           2012                0             180           90         360   \n",
       "\n",
       "     Összes pont  ZH0  Matematika A1a - Analízis  Matematika A2c  \n",
       "0            492   51                          3               3  \n",
       "1            484   55                          5               5  \n",
       "2            478   34                          3               2  \n",
       "3            475   37                          3               2  \n",
       "4            471   31                          3               2  \n",
       "..           ...  ...                        ...             ...  \n",
       "265          421   10                          2               2  \n",
       "266          419   24                          4               4  \n",
       "267          418   24                          2               0  \n",
       "268          418   21                          2               3  \n",
       "269          450   55                          5               4  \n",
       "\n",
       "[270 rows x 9 columns]"
      ]
     },
     "execution_count": 20,
     "metadata": {},
     "output_type": "execute_result"
    }
   ],
   "source": [
    "working_data"
   ]
  },
  {
   "cell_type": "code",
   "execution_count": 21,
   "id": "268fb66c",
   "metadata": {},
   "outputs": [],
   "source": [
    "#szedjük ki az Összes pontot és a Törzspontot is, hisz az valójábon három attribútum értékének az összege\n",
    "working_data = working_data.drop(labels = [\"Összes pont\", \"Törzs pont\"], axis = 1)"
   ]
  },
  {
   "cell_type": "code",
   "execution_count": 22,
   "id": "4baa3615",
   "metadata": {},
   "outputs": [],
   "source": [
    "features = working_data.drop(labels = [\"Matematika A1a - Analízis\", \"Matematika A2c\"], axis = 1) #az első évi jegyre\n",
    "label = working_data[\"Matematika A1a - Analízis\"]\n",
    "X_train, X_test, y_train, y_test = train_test_split(features, label, test_size=0.3, random_state=0)"
   ]
  },
  {
   "cell_type": "code",
   "execution_count": 23,
   "id": "113b12ef",
   "metadata": {},
   "outputs": [
    {
     "name": "stdout",
     "output_type": "stream",
     "text": [
      "Accuracy: 0.02\n",
      "Precision: 0.0\n",
      "Recall: 0.2\n"
     ]
    },
    {
     "name": "stderr",
     "output_type": "stream",
     "text": [
      "D:\\anaconda3\\envs\\otthoni\\lib\\site-packages\\sklearn\\metrics\\_classification.py:1308: UndefinedMetricWarning: Precision is ill-defined and being set to 0.0 in labels with no predicted samples. Use `zero_division` parameter to control this behavior.\n",
      "  _warn_prf(average, modifier, msg_start, len(result))\n"
     ]
    }
   ],
   "source": [
    "#SVM-re\n",
    "from sklearn.svm import SVC\n",
    "clf = OneVsRestClassifier(SVC(class_weight = \"balanced\", random_state=0)).fit(X_train, y_train)     # balanced nélkül romlik a pontosság\n",
    "y_pred = clf.predict(X_test)\n",
    "\n",
    "print(f'Accuracy: {round(sklearn.metrics.accuracy_score(y_test, y_pred),2)}')\n",
    "print(f'Precision: {round(sklearn.metrics.precision_score(y_test, y_pred, average = \"macro\"),2)}')\n",
    "print(f'Recall: {round(sklearn.metrics.recall_score(y_test, y_pred, average = \"macro\"),2)}')\n",
    "\n",
    "\n",
    "#how"
   ]
  },
  {
   "cell_type": "code",
   "execution_count": 25,
   "id": "5573c582",
   "metadata": {},
   "outputs": [
    {
     "name": "stdout",
     "output_type": "stream",
     "text": [
      "Accuracy: 0.33\n",
      "Precision: 0.23\n",
      "Recall: 0.25\n"
     ]
    },
    {
     "name": "stderr",
     "output_type": "stream",
     "text": [
      "D:\\anaconda3\\envs\\otthoni\\lib\\site-packages\\sklearn\\metrics\\_classification.py:1308: UndefinedMetricWarning: Precision is ill-defined and being set to 0.0 in labels with no predicted samples. Use `zero_division` parameter to control this behavior.\n",
      "  _warn_prf(average, modifier, msg_start, len(result))\n"
     ]
    }
   ],
   "source": [
    "#logisztikus regresszióra\n",
    "from sklearn.linear_model import LogisticRegression\n",
    "\n",
    "logreg = OneVsRestClassifier(LogisticRegression(random_state=0, max_iter = 1000)).fit(X_train, y_train)\n",
    "y_pred = logreg.predict(X_test)\n",
    "\n",
    "print(f'Accuracy: {round(sklearn.metrics.accuracy_score(y_test, y_pred),2)}')\n",
    "print(f'Precision: {round(sklearn.metrics.precision_score(y_test, y_pred, average = \"macro\"),2)}')\n",
    "print(f'Recall: {round(sklearn.metrics.recall_score(y_test, y_pred, average = \"macro\"),2)}')"
   ]
  },
  {
   "cell_type": "code",
   "execution_count": 26,
   "id": "a0590dc0",
   "metadata": {},
   "outputs": [
    {
     "data": {
      "text/plain": [
       "0.28714568627339154"
      ]
     },
     "execution_count": 26,
     "metadata": {},
     "output_type": "execute_result"
    }
   ],
   "source": [
    "#ezek után nem oneVSall: lineáris regresszió\n",
    "from sklearn.linear_model import LinearRegression\n",
    "\n",
    "reg_alap = LinearRegression().fit(features,label)\n",
    "reg_alap.score(features, label)                        #nem túl magas"
   ]
  },
  {
   "cell_type": "code",
   "execution_count": 27,
   "id": "f3374e0c",
   "metadata": {},
   "outputs": [
    {
     "name": "stdout",
     "output_type": "stream",
     "text": [
      "Coefficients: [-0.12873261 -0.00152868  0.00697631 -0.00393876  0.03113221]\n",
      "RMSE: 0.7197768154072768\n"
     ]
    }
   ],
   "source": [
    "#most nézzük a tanítóhalmazon és a teszthalmazon\n",
    "\n",
    "reg = LinearRegression().fit(X_train,y_train)\n",
    "reg_pred = reg.predict(X_test)\n",
    "\n",
    "#együtthatók\n",
    "print(\"Coefficients:\", reg.coef_)\n",
    "#RMSE\n",
    "\n",
    "rmse = np.power(np.sum(np.power(y_pred - reg_pred, 2))/reg_pred.shape[0],0.5)\n",
    "print(\"RMSE:\", rmse)\n",
    "#nem olyan rossz"
   ]
  },
  {
   "cell_type": "code",
   "execution_count": 28,
   "id": "2ab4759c",
   "metadata": {},
   "outputs": [
    {
     "data": {
      "text/plain": [
       "0.3660659446052894"
      ]
     },
     "execution_count": 28,
     "metadata": {},
     "output_type": "execute_result"
    }
   ],
   "source": [
    "#R^2 és SSR\n",
    "SST = np.sum(np.power(y_pred-np.mean(y_pred),2))\n",
    "SSR = np.sum(np.power(reg_pred-np.mean(y_pred),2))\n",
    "R2 = SSR/SST\n",
    "R2"
   ]
  },
  {
   "cell_type": "code",
   "execution_count": 29,
   "id": "bf8f2ed6",
   "metadata": {},
   "outputs": [
    {
     "data": {
      "text/html": [
       "<div>\n",
       "<style scoped>\n",
       "    .dataframe tbody tr th:only-of-type {\n",
       "        vertical-align: middle;\n",
       "    }\n",
       "\n",
       "    .dataframe tbody tr th {\n",
       "        vertical-align: top;\n",
       "    }\n",
       "\n",
       "    .dataframe thead th {\n",
       "        text-align: right;\n",
       "    }\n",
       "</style>\n",
       "<table border=\"1\" class=\"dataframe\">\n",
       "  <thead>\n",
       "    <tr style=\"text-align: right;\">\n",
       "      <th></th>\n",
       "      <th>Érettségi éve</th>\n",
       "      <th>Tanulmányi pont</th>\n",
       "      <th>Érettségi pont</th>\n",
       "      <th>Többletpont</th>\n",
       "      <th>ZH0</th>\n",
       "      <th>Matematika A1a - Analízis</th>\n",
       "      <th>Matematika A2c</th>\n",
       "    </tr>\n",
       "  </thead>\n",
       "  <tbody>\n",
       "    <tr>\n",
       "      <th>0</th>\n",
       "      <td>2019</td>\n",
       "      <td>197</td>\n",
       "      <td>195</td>\n",
       "      <td>100</td>\n",
       "      <td>51</td>\n",
       "      <td>3</td>\n",
       "      <td>3</td>\n",
       "    </tr>\n",
       "    <tr>\n",
       "      <th>1</th>\n",
       "      <td>2019</td>\n",
       "      <td>196</td>\n",
       "      <td>197</td>\n",
       "      <td>90</td>\n",
       "      <td>55</td>\n",
       "      <td>5</td>\n",
       "      <td>5</td>\n",
       "    </tr>\n",
       "    <tr>\n",
       "      <th>2</th>\n",
       "      <td>2019</td>\n",
       "      <td>192</td>\n",
       "      <td>186</td>\n",
       "      <td>100</td>\n",
       "      <td>34</td>\n",
       "      <td>3</td>\n",
       "      <td>2</td>\n",
       "    </tr>\n",
       "    <tr>\n",
       "      <th>3</th>\n",
       "      <td>2019</td>\n",
       "      <td>193</td>\n",
       "      <td>192</td>\n",
       "      <td>90</td>\n",
       "      <td>37</td>\n",
       "      <td>3</td>\n",
       "      <td>2</td>\n",
       "    </tr>\n",
       "    <tr>\n",
       "      <th>4</th>\n",
       "      <td>2019</td>\n",
       "      <td>192</td>\n",
       "      <td>186</td>\n",
       "      <td>93</td>\n",
       "      <td>31</td>\n",
       "      <td>3</td>\n",
       "      <td>2</td>\n",
       "    </tr>\n",
       "    <tr>\n",
       "      <th>...</th>\n",
       "      <td>...</td>\n",
       "      <td>...</td>\n",
       "      <td>...</td>\n",
       "      <td>...</td>\n",
       "      <td>...</td>\n",
       "      <td>...</td>\n",
       "      <td>...</td>\n",
       "    </tr>\n",
       "    <tr>\n",
       "      <th>265</th>\n",
       "      <td>2019</td>\n",
       "      <td>186</td>\n",
       "      <td>157</td>\n",
       "      <td>78</td>\n",
       "      <td>10</td>\n",
       "      <td>2</td>\n",
       "      <td>2</td>\n",
       "    </tr>\n",
       "    <tr>\n",
       "      <th>266</th>\n",
       "      <td>2019</td>\n",
       "      <td>187</td>\n",
       "      <td>142</td>\n",
       "      <td>90</td>\n",
       "      <td>24</td>\n",
       "      <td>4</td>\n",
       "      <td>4</td>\n",
       "    </tr>\n",
       "    <tr>\n",
       "      <th>267</th>\n",
       "      <td>2019</td>\n",
       "      <td>169</td>\n",
       "      <td>170</td>\n",
       "      <td>78</td>\n",
       "      <td>24</td>\n",
       "      <td>2</td>\n",
       "      <td>0</td>\n",
       "    </tr>\n",
       "    <tr>\n",
       "      <th>268</th>\n",
       "      <td>2019</td>\n",
       "      <td>182</td>\n",
       "      <td>146</td>\n",
       "      <td>90</td>\n",
       "      <td>21</td>\n",
       "      <td>2</td>\n",
       "      <td>3</td>\n",
       "    </tr>\n",
       "    <tr>\n",
       "      <th>269</th>\n",
       "      <td>2012</td>\n",
       "      <td>0</td>\n",
       "      <td>180</td>\n",
       "      <td>90</td>\n",
       "      <td>55</td>\n",
       "      <td>5</td>\n",
       "      <td>4</td>\n",
       "    </tr>\n",
       "  </tbody>\n",
       "</table>\n",
       "<p>270 rows × 7 columns</p>\n",
       "</div>"
      ],
      "text/plain": [
       "     Érettségi éve  Tanulmányi pont  Érettségi pont  Többletpont  ZH0  \\\n",
       "0             2019              197             195          100   51   \n",
       "1             2019              196             197           90   55   \n",
       "2             2019              192             186          100   34   \n",
       "3             2019              193             192           90   37   \n",
       "4             2019              192             186           93   31   \n",
       "..             ...              ...             ...          ...  ...   \n",
       "265           2019              186             157           78   10   \n",
       "266           2019              187             142           90   24   \n",
       "267           2019              169             170           78   24   \n",
       "268           2019              182             146           90   21   \n",
       "269           2012                0             180           90   55   \n",
       "\n",
       "     Matematika A1a - Analízis  Matematika A2c  \n",
       "0                            3               3  \n",
       "1                            5               5  \n",
       "2                            3               2  \n",
       "3                            3               2  \n",
       "4                            3               2  \n",
       "..                         ...             ...  \n",
       "265                          2               2  \n",
       "266                          4               4  \n",
       "267                          2               0  \n",
       "268                          2               3  \n",
       "269                          5               4  \n",
       "\n",
       "[270 rows x 7 columns]"
      ]
     },
     "execution_count": 29,
     "metadata": {},
     "output_type": "execute_result"
    }
   ],
   "source": [
    "working_data"
   ]
  },
  {
   "cell_type": "code",
   "execution_count": 34,
   "id": "252e59fc",
   "metadata": {},
   "outputs": [],
   "source": [
    "#másik: kerekítsük a becsült értékeket\n",
    "\n",
    "for i in range(reg_pred.shape[0]):\n",
    "    reg_pred[i] = round(reg_pred[i],0)"
   ]
  },
  {
   "cell_type": "code",
   "execution_count": 35,
   "id": "63befc14",
   "metadata": {},
   "outputs": [
    {
     "data": {
      "text/plain": [
       "0.5246380846325167"
      ]
     },
     "execution_count": 35,
     "metadata": {},
     "output_type": "execute_result"
    }
   ],
   "source": [
    "#R^2 és SSR\n",
    "SST = np.sum(np.power(y_pred-np.mean(y_pred),2))\n",
    "SSR = np.sum(np.power(reg_pred-np.mean(y_pred),2))\n",
    "R2 = SSR/SST\n",
    "R2"
   ]
  },
  {
   "cell_type": "code",
   "execution_count": null,
   "id": "9843f350",
   "metadata": {},
   "outputs": [],
   "source": []
  }
 ],
 "metadata": {
  "kernelspec": {
   "display_name": "Python 3 (ipykernel)",
   "language": "python",
   "name": "python3"
  },
  "language_info": {
   "codemirror_mode": {
    "name": "ipython",
    "version": 3
   },
   "file_extension": ".py",
   "mimetype": "text/x-python",
   "name": "python",
   "nbconvert_exporter": "python",
   "pygments_lexer": "ipython3",
   "version": "3.8.11"
  }
 },
 "nbformat": 4,
 "nbformat_minor": 5
}
