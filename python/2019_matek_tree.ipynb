{
 "cells": [
  {
   "cell_type": "code",
   "execution_count": 38,
   "id": "cd423047",
   "metadata": {},
   "outputs": [],
   "source": [
    "import pandas as pd\n",
    "import numpy as np\n",
    "from sklearn.model_selection import train_test_split\n",
    "from sklearn import tree\n",
    "import sklearn.metrics"
   ]
  },
  {
   "cell_type": "code",
   "execution_count": 39,
   "id": "d30a39a5",
   "metadata": {},
   "outputs": [],
   "source": [
    "data = pd.read_excel(\"C:/Users/Donát/Documents/GitHub/-nkutfel/2019/2019_merged_matekA1A2_cleaned.xlsx\")"
   ]
  },
  {
   "cell_type": "code",
   "execution_count": 40,
   "id": "6e1a9ff4",
   "metadata": {},
   "outputs": [
    {
     "data": {
      "text/plain": [
       "Index(['Name', 'Neptun', 'Mat_term_tag', 'Emelt', 'Tankör', 'Szak',\n",
       "       'Matek 1-4 helyes', 'Matek 5-10 helyes', 'Matek 11-14 helyes',\n",
       "       'Matek helyes', 'Matek eredmény', 'Kognitív pont', 'Kognitív eredmény',\n",
       "       'Össz eredmény (átlag)', 'ZH0', 'Tanulmányi pont', 'Érettségi pont',\n",
       "       'Többletpont', 'Összes pont', 'Matematika A1a - Analízis',\n",
       "       'Matematika A2c'],\n",
       "      dtype='object')"
      ]
     },
     "execution_count": 40,
     "metadata": {},
     "output_type": "execute_result"
    }
   ],
   "source": [
    "data.columns"
   ]
  },
  {
   "cell_type": "code",
   "execution_count": 41,
   "id": "7978a6fb",
   "metadata": {},
   "outputs": [],
   "source": [
    "#szűrjük ki a nem kategorikus vagy numerikus változókat\n",
    "working_data = data.drop(labels = [\"Name\", \"Neptun\", \"Tankör\"], axis = 1)\n",
    "\n",
    "#alakítsuk numerikussá a %-os teljesítménymutatókat\n",
    "for i, row in working_data.iterrows():\n",
    "    working_data.at[i, \"Matek eredmény\"] = float(row[\"Matek eredmény\"][:-3] + \".\" + row[\"Matek eredmény\"][-2])\n",
    "    working_data.at[i, \"Kognitív eredmény\"] = float(row[\"Kognitív eredmény\"][:-3] + \".\" + row[\"Kognitív eredmény\"][-2])\n",
    "    working_data.at[i, \"Kognitív pont\"] = float(str(row[\"Kognitív pont\"]).replace(\",\", \".\"))\n",
    "    working_data.at[i, \"Össz eredmény (átlag)\"] = float(row[\"Össz eredmény (átlag)\"][:-3] + \".\" + row[\"Össz eredmény (átlag)\"][-2])\n",
    "\n"
   ]
  },
  {
   "cell_type": "code",
   "execution_count": 43,
   "id": "30da023d",
   "metadata": {},
   "outputs": [
    {
     "name": "stdout",
     "output_type": "stream",
     "text": [
      "Accuracy: 0.33\n",
      "Precision: 0.25\n",
      "Recall: 0.27\n"
     ]
    }
   ],
   "source": [
    "#Az összes adatra\n",
    "#working_data = working_data.query(\"Szak in ['Vegyészmérnöki', 'Biomérnöki']\")\n",
    "features = working_data.drop(labels = [\"Matematika A1a - Analízis\", \"Matematika A2c\", \"Szak\"], axis = 1)\n",
    "label = working_data[\"Matematika A1a - Analízis\"]\n",
    "X_train, X_test, y_train, y_test = train_test_split(features, label, test_size=0.3, random_state=0)\n",
    "\n",
    "clf = tree.DecisionTreeClassifier(random_state=0)\n",
    "modell = clf.fit(X_train, y_train)\n",
    "\n",
    "y_pred = modell.predict(X_test)\n",
    "y_tanito = modell.predict(X_train)\n",
    "\n",
    "#értékeljük ki a kezdetleges modellt\n",
    "print(f'Accuracy: {round(sklearn.metrics.accuracy_score(y_test, y_pred),2)}')\n",
    "print(f'Precision: {round(sklearn.metrics.precision_score(y_test, y_pred, average = \"macro\"),2)}')\n",
    "print(f'Recall: {round(sklearn.metrics.recall_score(y_test, y_pred, average = \"macro\"),2)}')"
   ]
  },
  {
   "cell_type": "code",
   "execution_count": 37,
   "id": "c5e76397",
   "metadata": {},
   "outputs": [
    {
     "name": "stderr",
     "output_type": "stream",
     "text": [
      "D:\\anaconda3\\envs\\otthoni\\lib\\site-packages\\sklearn\\model_selection\\_split.py:676: UserWarning: The least populated class in y has only 3 members, which is less than n_splits=10.\n",
      "  warnings.warn(\n",
      "D:\\anaconda3\\envs\\otthoni\\lib\\site-packages\\sklearn\\model_selection\\_split.py:676: UserWarning: The least populated class in y has only 3 members, which is less than n_splits=10.\n",
      "  warnings.warn(\n",
      "D:\\anaconda3\\envs\\otthoni\\lib\\site-packages\\sklearn\\model_selection\\_split.py:676: UserWarning: The least populated class in y has only 3 members, which is less than n_splits=10.\n",
      "  warnings.warn(\n",
      "D:\\anaconda3\\envs\\otthoni\\lib\\site-packages\\sklearn\\model_selection\\_split.py:676: UserWarning: The least populated class in y has only 3 members, which is less than n_splits=10.\n",
      "  warnings.warn(\n",
      "D:\\anaconda3\\envs\\otthoni\\lib\\site-packages\\sklearn\\model_selection\\_split.py:676: UserWarning: The least populated class in y has only 3 members, which is less than n_splits=10.\n",
      "  warnings.warn(\n",
      "D:\\anaconda3\\envs\\otthoni\\lib\\site-packages\\sklearn\\model_selection\\_split.py:676: UserWarning: The least populated class in y has only 3 members, which is less than n_splits=10.\n",
      "  warnings.warn(\n",
      "D:\\anaconda3\\envs\\otthoni\\lib\\site-packages\\sklearn\\model_selection\\_split.py:676: UserWarning: The least populated class in y has only 3 members, which is less than n_splits=10.\n",
      "  warnings.warn(\n",
      "D:\\anaconda3\\envs\\otthoni\\lib\\site-packages\\sklearn\\model_selection\\_split.py:676: UserWarning: The least populated class in y has only 3 members, which is less than n_splits=10.\n",
      "  warnings.warn(\n",
      "D:\\anaconda3\\envs\\otthoni\\lib\\site-packages\\sklearn\\model_selection\\_split.py:676: UserWarning: The least populated class in y has only 3 members, which is less than n_splits=10.\n",
      "  warnings.warn(\n"
     ]
    },
    {
     "name": "stdout",
     "output_type": "stream",
     "text": [
      "Optimal depth of tree: 2\n"
     ]
    },
    {
     "data": {
      "image/png": "[encoded data removed]",
      "text/plain": [
       "<Figure size 432x288 with 1 Axes>"
      ]
     },
     "metadata": {
      "needs_background": "light"
     },
     "output_type": "display_data"
    }
   ],
   "source": [
    "#nézzük meg az optimális mélységet\n",
    "from sklearn.model_selection import cross_val_score\n",
    "import seaborn as sns\n",
    "import matplotlib.pyplot as plt\n",
    "\n",
    "\n",
    "data_of_depths = pd.DataFrame({\"Max Depths\":[], \"F1\": []})\n",
    "tree_dict = {}\n",
    "for i in range(1,10):\n",
    "    clf = tree.DecisionTreeClassifier(max_depth = i, random_state=0)\n",
    "    scores_tree = cross_val_score(clf, X_train, y_train, scoring = \"accuracy\", cv=10)\n",
    "    for element in scores_tree:\n",
    "        data_of_depths = data_of_depths.append({\"Max Depths\":i, \"F1\": element}, ignore_index=True)\n",
    "    tree_dict[scores_tree.mean()] = i\n",
    "print(\"Optimal depth of tree:\",tree_dict[max(list(tree_dict.keys()))])\n",
    "sns.boxplot(x=\"Max Depths\", y=\"F1\", data=data_of_depths)\n",
    "plt.show()\n"
   ]
  },
  {
   "cell_type": "code",
   "execution_count": 26,
   "id": "90e18bfc",
   "metadata": {},
   "outputs": [
    {
     "name": "stdout",
     "output_type": "stream",
     "text": [
      "Accuracy: 0.39\n"
     ]
    }
   ],
   "source": [
    "#Nézzük a fát szakokra (a python-os sklearn tree-je nem tud kezelni kategorikus változókat, amik nem ordinálisak)\n",
    "\n",
    "#VEGYÉSZ\n",
    "#tanító és teszthalmaz\n",
    "vegyesz = working_data.query(\"Szak == 'Vegyészmérnöki'\")\n",
    "features = vegyesz.drop(labels = [\"Matematika A1a - Analízis\", \"Matematika A2c\", \"Szak\"], axis = 1)\n",
    "label = vegyesz[\"Matematika A1a - Analízis\"]\n",
    "X_train, X_test, y_train, y_test = train_test_split(features, label, test_size=0.3, random_state=0)\n",
    "\n",
    "clf_veg = tree.DecisionTreeClassifier(random_state=0)\n",
    "modell_veg = clf_veg.fit(X_train, y_train)\n",
    "\n",
    "y_pred = modell_veg.predict(X_test)\n",
    "y_tanito = modell_veg.predict(X_train)\n",
    "\n",
    "print(f'Accuracy: {round(sklearn.metrics.accuracy_score(y_test, y_pred),2)}')\n",
    "\n"
   ]
  },
  {
   "cell_type": "code",
   "execution_count": 27,
   "id": "080b6c0a",
   "metadata": {},
   "outputs": [
    {
     "name": "stdout",
     "output_type": "stream",
     "text": [
      "Accuracy: 0.24\n"
     ]
    }
   ],
   "source": [
    "#BIO\n",
    "#tanító és teszthalmaz\n",
    "bio = working_data.query(\"Szak == 'Biomérnöki'\")\n",
    "features = bio.drop(labels = [\"Matematika A1a - Analízis\", \"Matematika A2c\", \"Szak\"], axis = 1)\n",
    "label = bio[\"Matematika A1a - Analízis\"]\n",
    "X_train, X_test, y_train, y_test = train_test_split(features, label, test_size=0.3, random_state=0)\n",
    "s\n",
    "clf_bio = tree.DecisionTreeClassifier(random_state=0)\n",
    "modell_bio = clf_bio.fit(X_train, y_train)\n",
    "\n",
    "y_pred = modell_bio.predict(X_test)\n",
    "y_tanito = modell_bio.predict(X_train)\n",
    "\n",
    "print(f'Accuracy: {round(sklearn.metrics.accuracy_score(y_test, y_pred),2)}')"
   ]
  },
  {
   "cell_type": "code",
   "execution_count": null,
   "id": "ee778445",
   "metadata": {},
   "outputs": [],
   "source": []
  }
 ],
 "metadata": {
  "kernelspec": {
   "display_name": "Python 3 (ipykernel)",
   "language": "python",
   "name": "python3"
  },
  "language_info": {
   "codemirror_mode": {
    "name": "ipython",
    "version": 3
   },
   "file_extension": ".py",
   "mimetype": "text/x-python",
   "name": "python",
   "nbconvert_exporter": "python",
   "pygments_lexer": "ipython3",
   "version": "3.8.11"
  }
 },
 "nbformat": 4,
 "nbformat_minor": 5
}
