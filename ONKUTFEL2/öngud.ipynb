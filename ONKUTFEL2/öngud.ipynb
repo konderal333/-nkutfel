{
  "nbformat": 4,
  "nbformat_minor": 0,
  "metadata": {
    "colab": {
      "name": "öngud.ipynb",
      "provenance": [],
      "collapsed_sections": []
    },
    "kernelspec": {
      "name": "python3",
      "display_name": "Python 3"
    },
    "language_info": {
      "name": "python"
    }
  },
  "cells": [
    {
      "cell_type": "code",
      "execution_count": null,
      "metadata": {
        "id": "7vx5oEy8T-i6",
        "colab": {
          "base_uri": "https://localhost:8080/"
        },
        "outputId": "e9c55447-6554-4901-d5d4-fb759a24618a"
      },
      "outputs": [
        {
          "output_type": "stream",
          "name": "stdout",
          "text": [
            "5\n"
          ]
        }
      ],
      "source": [
        "xd = 5\n",
        "print(xd)"
      ]
    },
    {
      "cell_type": "code",
      "source": [
        "#from google.colab import drive\n",
        "#drive.mount('/content/drive')\n",
        "#ut_hossz = pd.read_csv(\"/content/drive/My Drive/ut_hossz.csv\")"
      ],
      "metadata": {
        "id": "9dvGj-suUcxJ"
      },
      "execution_count": null,
      "outputs": []
    },
    {
      "cell_type": "code",
      "source": [
        "! git clone https://github.com/konderal333/-nkutfel.git"
      ],
      "metadata": {
        "id": "6unjTmNaU_U7",
        "colab": {
          "base_uri": "https://localhost:8080/"
        },
        "outputId": "5e1c2d44-4ddb-4e7b-e48a-2c3783234458"
      },
      "execution_count": null,
      "outputs": [
        {
          "output_type": "stream",
          "name": "stdout",
          "text": [
            "Cloning into '-nkutfel'...\n",
            "fatal: could not read Username for 'https://github.com': No such device or address\n"
          ]
        }
      ]
    },
    {
      "cell_type": "code",
      "source": [
        "import pandas as pd\n",
        "import numpy as np\n",
        "\n",
        "data_2019 = pd.read_excel(r\"C:\\Users\\Donát\\Documents\\GitHub\\-nkutfel\\ONKUTFEL2\\NYERS_2019\\ATLAG_ES_PONT.xlsx\")\n",
        "data_2019 = data_2019.query(\"ELSO_FELEV_STATUSZ != 'Passzív'\")\n",
        "data_2019 = data_2019[['NEPTUNKOD','NEV','ELSO_FELEV_ATLAG','ATLAG','KUM_ATLAG','FELV_OSSZ_PONTSZ', \n",
        "                      'FELV_HOZOTT_PONTSZ', 'FEL_SZERZETT_PONTSZ','FELV_TOBBLET_PONTSZ']]\n",
        "\n",
        "data_2020 = pd.read_excel(r\"C:\\Users\\Donát\\Documents\\GitHub\\-nkutfel\\ONKUTFEL2\\NYERS_2020\\ATLAG_ES_PONT.xlsx\")\n",
        "data_2020 = data_2020.query(\"ELSO_FELEV_STATUSZ != 'Passzív'\")\n",
        "data_2020 = data_2020[['NEPTUNKOD','NEV','ELSO_FELEV_ATLAG','ATLAG','KUM_ATLAG','FELV_OSSZ_PONTSZ', \n",
        "                      'FELV_HOZOTT_PONTSZ', 'FEL_SZERZETT_PONTSZ','FELV_TOBBLET_PONTSZ']]\n",
        "\n",
        "data_2021 = pd.read_excel(r\"C:\\Users\\Donát\\Documents\\GitHub\\-nkutfel\\ONKUTFEL2\\NYERS_2021\\ATLAG_ES_PONT.xlsx\")\n",
        "data_2021 = data_2021.query(\"ELSO_FELEV_STATUSZ != 'Passzív'\")\n",
        "data_2021 = data_2021[['NEPTUNKOD','NEV','ELSO_FELEV_ATLAG','ATLAG','KUM_ATLAG','FELV_OSSZ_PONTSZ', \n",
        "                      'FELV_HOZOTT_PONTSZ', 'FEL_SZERZETT_PONTSZ','FELV_TOBBLET_PONTSZ']]"
      ],
      "metadata": {
        "id": "rbQV7_YyWl96"
      },
      "execution_count": null,
      "outputs": []
    },
    {
      "cell_type": "code",
      "source": [
        "#adott felvételi ponthoz tartozó kumulált átlagok\n",
        "#2019\n",
        "\n",
        "mean_scores = dict()\n",
        "\n",
        "for index, row in data_2019.iterrows():\n",
        "    if row['FELV_OSSZ_PONTSZ'] not in mean_scores.keys():\n",
        "        mean_scores[row['FELV_OSSZ_PONTSZ']] = [float(row['ELSO_FELEV_ATLAG'])]\n",
        "    else:\n",
        "        mean_scores[row['FELV_OSSZ_PONTSZ']].append(float(row['ELSO_FELEV_ATLAG']))\n",
        "        \n",
        "        \n",
        "for key in mean_scores.keys():\n",
        "    mean_scores[key] = sum(mean_scores[key])/len(mean_scores[key])\n",
        "\n",
        "sorted_mean_scores_2019 = dict(sorted([item for item in mean_scores.items()], key=lambda x: x[0]))\n",
        "\n",
        "#2020\n",
        "\n",
        "mean_scores = dict()\n",
        "\n",
        "for index, row in data_2020.iterrows():\n",
        "    if row['FELV_OSSZ_PONTSZ'] not in mean_scores.keys():\n",
        "        mean_scores[row['FELV_OSSZ_PONTSZ']] = [float(row['ELSO_FELEV_ATLAG'])]\n",
        "    else:\n",
        "        mean_scores[row['FELV_OSSZ_PONTSZ']].append(float(row['ELSO_FELEV_ATLAG']))\n",
        "        \n",
        "        \n",
        "for key in mean_scores.keys():\n",
        "    mean_scores[key] = sum(mean_scores[key])/len(mean_scores[key])\n",
        "\n",
        "sorted_mean_scores_2020 = dict(sorted([item for item in mean_scores.items()], key=lambda x: x[0]))\n",
        "\n",
        "#2021\n",
        "\n",
        "mean_scores = dict()\n",
        "\n",
        "for index, row in data_2020.iterrows():\n",
        "    if row['FELV_OSSZ_PONTSZ'] not in mean_scores.keys():\n",
        "        mean_scores[row['FELV_OSSZ_PONTSZ']] = [float(row['ELSO_FELEV_ATLAG'])]\n",
        "    else:\n",
        "        mean_scores[row['FELV_OSSZ_PONTSZ']].append(float(row['ELSO_FELEV_ATLAG']))\n",
        "        \n",
        "        \n",
        "for key in mean_scores.keys():\n",
        "    mean_scores[key] = sum(mean_scores[key])/len(mean_scores[key])\n",
        "\n",
        "sorted_mean_scores_2020 = dict(sorted([item for item in mean_scores.items()], key=lambda x: x[0]))"
      ],
      "metadata": {
        "id": "RTgBRxAnYHY8"
      },
      "execution_count": null,
      "outputs": []
    },
    {
      "cell_type": "code",
      "source": [
        "# PLOTOK\n",
        "\n",
        "import matplotlib.pyplot as plt\n",
        "\n",
        "plt.figure(figsize = (14,8))\n",
        "plt.plot([item[0] for item in sorted_mean_scores_2019.items()], [item[1] for item in sorted_mean_scores_2019.items()])\n",
        "plt.grid()\n",
        "plt.title('Kumulált átlagok a felvételi pontszámok szerint')\n",
        "plt.ylabel('Kumulált átlag')\n",
        "plt.xlabel('Felvételi pontszám')\n",
        "\n",
        "plt.figure(figsize = (14,8))\n",
        "plt.plot([item[0] for item in sorted_mean_scores_2020.items()], [item[1] for item in sorted_mean_scores_2020.items()])\n",
        "plt.grid()\n",
        "plt.title('Kumulált átlagok a felvételi pontszámok szerint')\n",
        "plt.ylabel('Kumulált átlag')\n",
        "plt.xlabel('Felvételi pontszám')\n",
        "\n",
        "\n",
        "\n",
        "plt.figure(figsize = (14,8))\n",
        "plt.plot([item[0] for item in sorted_mean_scores_2021.items()], [item[1] for item in sorted_mean_scores_2021.items()])\n",
        "plt.grid()\n",
        "plt.title('Kumulált átlagok a felvételi pontszámok szerint')\n",
        "plt.ylabel('Kumulált átlag')\n",
        "plt.xlabel('Felvételi pontszám')"
      ],
      "metadata": {
        "id": "iQnWanfdYK6S"
      },
      "execution_count": null,
      "outputs": []
    },
    {
      "cell_type": "code",
      "source": [
        "#scatter plottal ugyanez, csak nincs átlagolás\n",
        "\n",
        "score_tuples_2019 = []\n",
        "\n",
        "for index, row in data_2019.iterrows():\n",
        "    score_tuples_2019.append((int(row['FELV_OSSZ_PONTSZ']), float(row['ELSO_FELEV_ATLAG'])))\n",
        "    \n",
        "score_tuples_2020 = []\n",
        "\n",
        "for index, row in data_2020.iterrows():\n",
        "    score_tuples_2020.append((int(row['FELV_OSSZ_PONTSZ']), float(row['ELSO_FELEV_ATLAG'])))\n",
        "\n",
        "score_tuples_2021 = []\n",
        "\n",
        "for index, row in data_2021.iterrows():\n",
        "    score_tuples_2021.append((int(row['FELV_OSSZ_PONTSZ']), float(row['ELSO_FELEV_ATLAG'])))\n",
        "\n",
        "\n",
        "#ábrák\n",
        "\n",
        "plt.figure(figsize = (14,8))\n",
        "plt.scatter([item[0] for item in score_tuples_2019], [item[1] for item in score_tuples_2019])\n",
        "plt.grid()\n",
        "plt.title('Kumulált átlagok a felvételi pontszámok szerint')\n",
        "plt.ylabel('Kumulált átlag')\n",
        "plt.xlabel('Felvételi pontszám')\n",
        "\n",
        "\n",
        "plt.figure(figsize = (14,8))\n",
        "plt.scatter([item[0] for item in score_tuples_2020], [item[1] for item in score_tuples_2020])\n",
        "plt.grid()\n",
        "plt.title('Kumulált átlagok a felvételi pontszámok szerint')\n",
        "plt.ylabel('Kumulált átlag')\n",
        "plt.xlabel('Felvételi pontszám')\n",
        "\n",
        "plt.figure(figsize = (14,8))\n",
        "plt.scatter([item[0] for item in score_tuples_2021], [item[1] for item in score_tuples_2021])\n",
        "plt.grid()\n",
        "plt.title('Kumulált átlagok a felvételi pontszámok szerint')\n",
        "plt.ylabel('Kumulált átlag')\n",
        "plt.xlabel('Felvételi pontszám')"
      ],
      "metadata": {
        "id": "Lc0ZzzCVYnAG"
      },
      "execution_count": null,
      "outputs": []
    },
    {
      "cell_type": "code",
      "source": [
        "# 3 plot egybe \n",
        "\n",
        "fig, axes = plt.subplots(1,3, sharey = True)\n",
        "fig.set_size_inches(20, 6)\n",
        "axes[0].plot([item[0] for item in sorted_mean_scores_2019.items()], [item[1] for item in sorted_mean_scores_2019.items()])\n",
        "axes[0].grid()\n",
        "axes[0].set_title('2019')\n",
        "axes[1].plot([item[0] for item in sorted_mean_scores_2020.items()], [item[1] for item in sorted_mean_scores_2020.items()])\n",
        "axes[1].grid()\n",
        "axes[1].set_title('2020')\n",
        "axes[2].plot([item[0] for item in sorted_mean_scores_2021.items()], [item[1] for item in sorted_mean_scores_2021.items()])\n",
        "axes[2].grid()\n",
        "axes[2].set_title('2021')"
      ],
      "metadata": {
        "id": "sN2mPdYCY4T6"
      },
      "execution_count": null,
      "outputs": []
    }
  ]
}