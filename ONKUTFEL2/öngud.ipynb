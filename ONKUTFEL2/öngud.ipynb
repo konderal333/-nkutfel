{
  "nbformat": 4,
  "nbformat_minor": 0,
  "metadata": {
    "colab": {
      "name": "öngud.ipynb",
      "provenance": [],
      "collapsed_sections": []
    },
    "kernelspec": {
      "name": "python3",
      "display_name": "Python 3"
    },
    "language_info": {
      "name": "python"
    }
  },
  "cells": [
    {
      "cell_type": "markdown",
      "source": [
        "**EZT FUTTATSD AZ ELEJÉN!!**"
      ],
      "metadata": {
        "id": "8dJxgvIDqfvy"
      }
    },
    {
      "cell_type": "code",
      "source": [
        "!git clone https://github.com/konderal333/-nkutfel.git"
      ],
      "metadata": {
        "id": "6unjTmNaU_U7",
        "colab": {
          "base_uri": "https://localhost:8080/"
        },
        "outputId": "e5a84004-ba07-4fc5-9d3e-ca2720515ce0"
      },
      "execution_count": 6,
      "outputs": [
        {
          "output_type": "stream",
          "name": "stdout",
          "text": [
            "Cloning into '-nkutfel'...\n",
            "remote: Enumerating objects: 286, done.\u001b[K\n",
            "remote: Counting objects: 100% (24/24), done.\u001b[K\n",
            "remote: Compressing objects: 100% (22/22), done.\u001b[K\n",
            "remote: Total 286 (delta 3), reused 22 (delta 2), pack-reused 262\u001b[K\n",
            "Receiving objects: 100% (286/286), 10.14 MiB | 27.92 MiB/s, done.\n",
            "Resolving deltas: 100% (116/116), done.\n"
          ]
        }
      ]
    },
    {
      "cell_type": "markdown",
      "source": [
        "Menteni úgy kell, hogy Fájl -> Másolat mentése Githubra."
      ],
      "metadata": {
        "id": "oO2DrnvTrVLI"
      }
    },
    {
      "cell_type": "markdown",
      "source": [
        "KÓD INNENTŐL:"
      ],
      "metadata": {
        "id": "6pJHJdvYql0j"
      }
    },
    {
      "cell_type": "code",
      "source": [
        "import pandas as pd\n",
        "import numpy as np\n",
        "\n",
        "data_2019 = pd.read_excel(r\"C:\\Users\\Donát\\Documents\\GitHub\\-nkutfel\\ONKUTFEL2\\NYERS_2019\\ATLAG_ES_PONT.xlsx\")\n",
        "data_2019 = data_2019.query(\"ELSO_FELEV_STATUSZ != 'Passzív'\")\n",
        "data_2019 = data_2019[['NEPTUNKOD','NEV','ELSO_FELEV_ATLAG','ATLAG','KUM_ATLAG','FELV_OSSZ_PONTSZ', \n",
        "                      'FELV_HOZOTT_PONTSZ', 'FEL_SZERZETT_PONTSZ','FELV_TOBBLET_PONTSZ']]\n",
        "\n",
        "data_2020 = pd.read_excel(r\"C:\\Users\\Donát\\Documents\\GitHub\\-nkutfel\\ONKUTFEL2\\NYERS_2020\\ATLAG_ES_PONT.xlsx\")\n",
        "data_2020 = data_2020.query(\"ELSO_FELEV_STATUSZ != 'Passzív'\")\n",
        "data_2020 = data_2020[['NEPTUNKOD','NEV','ELSO_FELEV_ATLAG','ATLAG','KUM_ATLAG','FELV_OSSZ_PONTSZ', \n",
        "                      'FELV_HOZOTT_PONTSZ', 'FEL_SZERZETT_PONTSZ','FELV_TOBBLET_PONTSZ']]\n",
        "\n",
        "data_2021 = pd.read_excel(r\"C:\\Users\\Donát\\Documents\\GitHub\\-nkutfel\\ONKUTFEL2\\NYERS_2021\\ATLAG_ES_PONT.xlsx\")\n",
        "data_2021 = data_2021.query(\"ELSO_FELEV_STATUSZ != 'Passzív'\")\n",
        "data_2021 = data_2021[['NEPTUNKOD','NEV','ELSO_FELEV_ATLAG','ATLAG','KUM_ATLAG','FELV_OSSZ_PONTSZ', \n",
        "                      'FELV_HOZOTT_PONTSZ', 'FEL_SZERZETT_PONTSZ','FELV_TOBBLET_PONTSZ']]"
      ],
      "metadata": {
        "id": "rbQV7_YyWl96"
      },
      "execution_count": null,
      "outputs": []
    },
    {
      "cell_type": "code",
      "source": [
        "#adott felvételi ponthoz tartozó kumulált átlagok\n",
        "#2019\n",
        "\n",
        "mean_scores = dict()\n",
        "\n",
        "for index, row in data_2019.iterrows():\n",
        "    if row['FELV_OSSZ_PONTSZ'] not in mean_scores.keys():\n",
        "        mean_scores[row['FELV_OSSZ_PONTSZ']] = [float(row['ELSO_FELEV_ATLAG'])]\n",
        "    else:\n",
        "        mean_scores[row['FELV_OSSZ_PONTSZ']].append(float(row['ELSO_FELEV_ATLAG']))\n",
        "        \n",
        "        \n",
        "for key in mean_scores.keys():\n",
        "    mean_scores[key] = sum(mean_scores[key])/len(mean_scores[key])\n",
        "\n",
        "sorted_mean_scores_2019 = dict(sorted([item for item in mean_scores.items()], key=lambda x: x[0]))\n",
        "\n",
        "#2020\n",
        "\n",
        "mean_scores = dict()\n",
        "\n",
        "for index, row in data_2020.iterrows():\n",
        "    if row['FELV_OSSZ_PONTSZ'] not in mean_scores.keys():\n",
        "        mean_scores[row['FELV_OSSZ_PONTSZ']] = [float(row['ELSO_FELEV_ATLAG'])]\n",
        "    else:\n",
        "        mean_scores[row['FELV_OSSZ_PONTSZ']].append(float(row['ELSO_FELEV_ATLAG']))\n",
        "        \n",
        "        \n",
        "for key in mean_scores.keys():\n",
        "    mean_scores[key] = sum(mean_scores[key])/len(mean_scores[key])\n",
        "\n",
        "sorted_mean_scores_2020 = dict(sorted([item for item in mean_scores.items()], key=lambda x: x[0]))\n",
        "\n",
        "#2021\n",
        "\n",
        "mean_scores = dict()\n",
        "\n",
        "for index, row in data_2020.iterrows():\n",
        "    if row['FELV_OSSZ_PONTSZ'] not in mean_scores.keys():\n",
        "        mean_scores[row['FELV_OSSZ_PONTSZ']] = [float(row['ELSO_FELEV_ATLAG'])]\n",
        "    else:\n",
        "        mean_scores[row['FELV_OSSZ_PONTSZ']].append(float(row['ELSO_FELEV_ATLAG']))\n",
        "        \n",
        "        \n",
        "for key in mean_scores.keys():\n",
        "    mean_scores[key] = sum(mean_scores[key])/len(mean_scores[key])\n",
        "\n",
        "sorted_mean_scores_2020 = dict(sorted([item for item in mean_scores.items()], key=lambda x: x[0]))"
      ],
      "metadata": {
        "id": "RTgBRxAnYHY8"
      },
      "execution_count": null,
      "outputs": []
    },
    {
      "cell_type": "code",
      "source": [
        "# PLOTOK\n",
        "\n",
        "import matplotlib.pyplot as plt\n",
        "\n",
        "plt.figure(figsize = (14,8))\n",
        "plt.plot([item[0] for item in sorted_mean_scores_2019.items()], [item[1] for item in sorted_mean_scores_2019.items()])\n",
        "plt.grid()\n",
        "plt.title('Kumulált átlagok a felvételi pontszámok szerint')\n",
        "plt.ylabel('Kumulált átlag')\n",
        "plt.xlabel('Felvételi pontszám')\n",
        "\n",
        "plt.figure(figsize = (14,8))\n",
        "plt.plot([item[0] for item in sorted_mean_scores_2020.items()], [item[1] for item in sorted_mean_scores_2020.items()])\n",
        "plt.grid()\n",
        "plt.title('Kumulált átlagok a felvételi pontszámok szerint')\n",
        "plt.ylabel('Kumulált átlag')\n",
        "plt.xlabel('Felvételi pontszám')\n",
        "\n",
        "\n",
        "\n",
        "plt.figure(figsize = (14,8))\n",
        "plt.plot([item[0] for item in sorted_mean_scores_2021.items()], [item[1] for item in sorted_mean_scores_2021.items()])\n",
        "plt.grid()\n",
        "plt.title('Kumulált átlagok a felvételi pontszámok szerint')\n",
        "plt.ylabel('Kumulált átlag')\n",
        "plt.xlabel('Felvételi pontszám')"
      ],
      "metadata": {
        "id": "iQnWanfdYK6S"
      },
      "execution_count": null,
      "outputs": []
    },
    {
      "cell_type": "code",
      "source": [
        "#scatter plottal ugyanez, csak nincs átlagolás\n",
        "\n",
        "score_tuples_2019 = []\n",
        "\n",
        "for index, row in data_2019.iterrows():\n",
        "    score_tuples_2019.append((int(row['FELV_OSSZ_PONTSZ']), float(row['ELSO_FELEV_ATLAG'])))\n",
        "    \n",
        "score_tuples_2020 = []\n",
        "\n",
        "for index, row in data_2020.iterrows():\n",
        "    score_tuples_2020.append((int(row['FELV_OSSZ_PONTSZ']), float(row['ELSO_FELEV_ATLAG'])))\n",
        "\n",
        "score_tuples_2021 = []\n",
        "\n",
        "for index, row in data_2021.iterrows():\n",
        "    score_tuples_2021.append((int(row['FELV_OSSZ_PONTSZ']), float(row['ELSO_FELEV_ATLAG'])))\n",
        "\n",
        "\n",
        "#ábrák\n",
        "\n",
        "plt.figure(figsize = (14,8))\n",
        "plt.scatter([item[0] for item in score_tuples_2019], [item[1] for item in score_tuples_2019])\n",
        "plt.grid()\n",
        "plt.title('Kumulált átlagok a felvételi pontszámok szerint')\n",
        "plt.ylabel('Kumulált átlag')\n",
        "plt.xlabel('Felvételi pontszám')\n",
        "\n",
        "\n",
        "plt.figure(figsize = (14,8))\n",
        "plt.scatter([item[0] for item in score_tuples_2020], [item[1] for item in score_tuples_2020])\n",
        "plt.grid()\n",
        "plt.title('Kumulált átlagok a felvételi pontszámok szerint')\n",
        "plt.ylabel('Kumulált átlag')\n",
        "plt.xlabel('Felvételi pontszám')\n",
        "\n",
        "plt.figure(figsize = (14,8))\n",
        "plt.scatter([item[0] for item in score_tuples_2021], [item[1] for item in score_tuples_2021])\n",
        "plt.grid()\n",
        "plt.title('Kumulált átlagok a felvételi pontszámok szerint')\n",
        "plt.ylabel('Kumulált átlag')\n",
        "plt.xlabel('Felvételi pontszám')"
      ],
      "metadata": {
        "id": "Lc0ZzzCVYnAG"
      },
      "execution_count": null,
      "outputs": []
    },
    {
      "cell_type": "code",
      "source": [
        "# 3 plot egybe \n",
        "\n",
        "fig, axes = plt.subplots(1,3, sharey = True)\n",
        "fig.set_size_inches(20, 6)\n",
        "axes[0].plot([item[0] for item in sorted_mean_scores_2019.items()], [item[1] for item in sorted_mean_scores_2019.items()])\n",
        "axes[0].grid()\n",
        "axes[0].set_title('2019')\n",
        "axes[1].plot([item[0] for item in sorted_mean_scores_2020.items()], [item[1] for item in sorted_mean_scores_2020.items()])\n",
        "axes[1].grid()\n",
        "axes[1].set_title('2020')\n",
        "axes[2].plot([item[0] for item in sorted_mean_scores_2021.items()], [item[1] for item in sorted_mean_scores_2021.items()])\n",
        "axes[2].grid()\n",
        "axes[2].set_title('2021')"
      ],
      "metadata": {
        "id": "sN2mPdYCY4T6"
      },
      "execution_count": null,
      "outputs": []
    }
  ]
}