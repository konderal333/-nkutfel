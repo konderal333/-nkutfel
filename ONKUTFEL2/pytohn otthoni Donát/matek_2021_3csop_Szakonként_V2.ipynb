{
 "cells": [
  {
   "cell_type": "code",
   "execution_count": null,
   "id": "8496ab4e",
   "metadata": {},
   "outputs": [],
   "source": []
  },
  {
   "cell_type": "markdown",
   "id": "9c974197",
   "metadata": {},
   "source": [
    "# Modulok és Dataprep"
   ]
  },
  {
   "cell_type": "code",
   "execution_count": 1,
   "id": "db9c8826",
   "metadata": {},
   "outputs": [],
   "source": [
    "import pandas as pd\n",
    "import numpy as np\n",
    "from sklearn.model_selection import train_test_split, GridSearchCV, StratifiedKFold\n",
    "import sklearn.metrics\n",
    "from sklearn.multiclass import OneVsRestClassifier\n",
    "from imblearn.pipeline import Pipeline as imbpipeline\n",
    "from sklearn.pipeline import Pipeline"
   ]
  },
  {
   "cell_type": "code",
   "execution_count": 2,
   "id": "7815e25b",
   "metadata": {},
   "outputs": [],
   "source": [
    "working_data = pd.read_excel(\"C:/Users/Donát/Documents/GitHub/-nkutfel/ONKUTFEL2/NYERS_2021/data_2021_SZŰKJÓ.xlsx\")"
   ]
  },
  {
   "cell_type": "markdown",
   "id": "746cbc0b",
   "metadata": {},
   "source": [
    "**Minimális Feature Engineering**"
   ]
  },
  {
   "cell_type": "code",
   "execution_count": 3,
   "id": "22ba4f6b",
   "metadata": {},
   "outputs": [],
   "source": [
    "#szűrjük ki a nem kategorikus vagy numerikus változókat\n",
    "working_data = working_data.drop(labels = [\"Name\", \"Neptun\", \"Tankör\"], axis = 1)\n",
    "\n",
    "#alakítsuk numerikussá a %-os teljesítménymutatókat\n",
    "#for i, row in working_data.iterrows():\n",
    "#    working_data.at[i, \"Matek eredmény\"] = float(row[\"Matek eredmény\"][:-3] + \".\" + row[\"Matek eredmény\"][-2])\n",
    "#    working_data.at[i, \"Kognitív eredmény\"] = float(row[\"Kognitív eredmény\"][:-3] + \".\" + row[\"Kognitív eredmény\"][-2])\n",
    "#    working_data.at[i, \"Kognitív pont\"] = float(str(row[\"Kognitív pont\"]).replace(\",\", \".\"))\n",
    "#    working_data.at[i, \"Össz eredmény (átlag)\"] = float(row[\"Össz eredmény (átlag)\"][:-3] + \".\" + row[\"Össz eredmény (átlag)\"][-2])\n",
    "\n"
   ]
  },
  {
   "cell_type": "code",
   "execution_count": 4,
   "id": "6fc2368b",
   "metadata": {},
   "outputs": [],
   "source": [
    "#csináljunk a jegyek alapján 3 csoportot: a jó tanulók a 4-5, a rossz a 2-3, a bukás legyen 1\n",
    "for i, row in working_data.iterrows():\n",
    "    if working_data.at[i, \"Matematika A1a - Analízis\"] in [4, 5]:\n",
    "        working_data.at[i, \"Matematika A1a - Analízis\"] = 3\n",
    "    elif working_data.at[i, \"Matematika A1a - Analízis\"] in [2, 3]:\n",
    "        working_data.at[i, \"Matematika A1a - Analízis\"] = 2"
   ]
  },
  {
   "cell_type": "code",
   "execution_count": 5,
   "id": "6de2ee0c",
   "metadata": {},
   "outputs": [
    {
     "data": {
      "text/plain": [
       "2    97\n",
       "3    54\n",
       "1    51\n",
       "Name: Matematika A1a - Analízis, dtype: int64"
      ]
     },
     "execution_count": 5,
     "metadata": {},
     "output_type": "execute_result"
    }
   ],
   "source": [
    "working_data['Matematika A1a - Analízis'].value_counts()"
   ]
  },
  {
   "cell_type": "markdown",
   "id": "548a8fd0",
   "metadata": {},
   "source": [
    "# Vegyészek"
   ]
  },
  {
   "cell_type": "code",
   "execution_count": 6,
   "id": "66a4b409",
   "metadata": {},
   "outputs": [
    {
     "name": "stderr",
     "output_type": "stream",
     "text": [
      "D:\\anaconda3\\envs\\otthoni\\lib\\site-packages\\sklearn\\preprocessing\\_data.py:2590: UserWarning: n_quantiles (1000) is greater than the total number of samples (72). n_quantiles is set to n_samples.\n",
      "  warnings.warn(\n"
     ]
    }
   ],
   "source": [
    "from imblearn.over_sampling import SMOTE\n",
    "\n",
    "\n",
    "\n",
    "#smote = SMOTE(random_state = 42, k_neighbors = 4, sampling_strategy = {2: 145, 3: 80, 1: 25})\n",
    "\n",
    "vegyesz = working_data.query(\"Szak == 'Vegyészmérnöki'\")\n",
    "\n",
    "stratified_kfold = StratifiedKFold(n_splits=5,\n",
    "                                       shuffle=True,\n",
    "                                       random_state=11)\n",
    "\n",
    "features = vegyesz.drop(labels = [\"Matematika A1a - Analízis\", \"Szak\", \"Matek helyes\",\"Kognitív pont\", \"Összes pont\", \"Össz eredmény (átlag)\"], axis = 1)\n",
    "label = vegyesz[\"Matematika A1a - Analízis\"]\n",
    "\n",
    "#itt nem kell SMOTE\n",
    "#features, label = smote.fit_resample(features, label)\n",
    "\n",
    "\n",
    "X_train, X_test, y_train, y_test = train_test_split(features, label, test_size=0.3, random_state=0, stratify=label)\n",
    "\n",
    "\n",
    "#skálázás\n",
    "\n",
    "from sklearn import preprocessing\n",
    "quantile_transformer = preprocessing.QuantileTransformer(random_state=0)\n",
    "X_train = quantile_transformer.fit_transform(X_train)\n",
    "X_test = quantile_transformer.transform(X_test)\n"
   ]
  },
  {
   "cell_type": "markdown",
   "id": "646ab16e",
   "metadata": {},
   "source": [
    "## Osztályozó algoritmusok\n",
    "\n",
    "**KNN**"
   ]
  },
  {
   "cell_type": "code",
   "execution_count": 7,
   "id": "1ccdc7db",
   "metadata": {},
   "outputs": [
    {
     "name": "stdout",
     "output_type": "stream",
     "text": [
      "Mahalanobis kNN:\n",
      "{'cv_score': 0.6266666666666667, 'test_score': 0.71875}\n",
      "Params:\n",
      "{'classifier__n_neighbors': 3, 'classifier__weights': 'distance'}\n"
     ]
    },
    {
     "name": "stderr",
     "output_type": "stream",
     "text": [
      "D:\\anaconda3\\envs\\otthoni\\lib\\site-packages\\sklearn\\model_selection\\_search.py:969: UserWarning: One or more of the test scores are non-finite: [0.45904762 0.45904762 0.45904762 0.53047619 0.45904762 0.45904762\n",
      " 0.61333333 0.62666667 0.62666667 0.6        0.54380952 0.54380952\n",
      " 0.5847619  0.54285714 0.55714286 0.61142857 0.57142857 0.58571429\n",
      " 0.56952381 0.51428571 0.52857143 0.5552381  0.57047619 0.57047619\n",
      " 0.55619048 0.55619048 0.55619048 0.58380952 0.54285714 0.54285714\n",
      " 0.58380952 0.55619048 0.55619048 0.55619048 0.55714286 0.55714286\n",
      " 0.59904762 0.59904762 0.59904762 0.58571429 0.57142857 0.57142857\n",
      " 0.57047619 0.59904762 0.59904762 0.5847619  0.55619048 0.57047619\n",
      " 0.57047619 0.5847619  0.5847619  0.55619048 0.57047619 0.5847619\n",
      " 0.55714286 0.58380952 0.57047619 0.52952381 0.54380952 0.57142857\n",
      " 0.55809524 0.57047619 0.57047619 0.52857143 0.52952381 0.55809524\n",
      " 0.54285714 0.56952381 0.57047619 0.52857143 0.54190476 0.58380952\n",
      " 0.55714286 0.56952381 0.6247619  0.61428571 0.57047619 0.59809524\n",
      " 0.58571429 0.59809524 0.59809524        nan        nan        nan\n",
      "        nan        nan        nan]\n",
      "  warnings.warn(\n"
     ]
    }
   ],
   "source": [
    "#KNN-re keresztvalidációval mahalanobis-szal\n",
    "from sklearn.neighbors import KNeighborsClassifier\n",
    "from sklearn.model_selection import cross_val_score\n",
    "\n",
    "\n",
    "#distance függvény\n",
    "def squared(array):\n",
    "    return 1/array**2\n",
    "\n",
    "\n",
    "\n",
    "pipeline = imbpipeline(steps = [['classifier', KNeighborsClassifier(metric=\"mahalanobis\", metric_params={'V': np.cov(m=X_train.astype(float), rowvar=False)})]])\n",
    "param_grid = {'classifier__n_neighbors':[i for i in range(1,30)], 'classifier__weights':['uniform', 'distance', squared]}\n",
    "\n",
    "knn_mahal_grid_search = GridSearchCV(estimator=pipeline,\n",
    "                               param_grid=param_grid,\n",
    "                               scoring='accuracy',\n",
    "                               cv=stratified_kfold,\n",
    "                               n_jobs=-1)\n",
    "\n",
    "\n",
    "knn_mahal_grid_search.fit(X_train, y_train)\n",
    "cv_score = knn_mahal_grid_search.best_score_\n",
    "knn_mahal = knn_mahal_grid_search.score(X_test, y_test)\n",
    "print(\"Mahalanobis kNN:\")\n",
    "print({'cv_score':cv_score, 'test_score':knn_mahal})\n",
    "print(\"Params:\")\n",
    "print(knn_mahal_grid_search.best_params_)\n"
   ]
  },
  {
   "cell_type": "code",
   "execution_count": 8,
   "id": "4b6f9108",
   "metadata": {
    "scrolled": true
   },
   "outputs": [
    {
     "name": "stdout",
     "output_type": "stream",
     "text": [
      "Euclidian kNN:\n",
      "{'cv_score': 0.6819047619047619, 'test_score': 0.71875}\n",
      "Params:\n",
      "{'classifier__n_neighbors': 27, 'classifier__weights': 'distance'}\n"
     ]
    }
   ],
   "source": [
    "#KNN-re keresztvalidációval euklidészi távolsággal\n",
    "\n",
    "pipeline = Pipeline(steps = [['classifier', KNeighborsClassifier(metric=\"euclidean\")]])\n",
    "param_grid = {'classifier__n_neighbors':[i for i in range(1,30)], 'classifier__weights':['uniform', 'distance', squared]}\n",
    "\n",
    "knn_eu_grid_search = GridSearchCV(estimator=pipeline,\n",
    "                               param_grid=param_grid,\n",
    "                               scoring='accuracy',\n",
    "                               cv=stratified_kfold,\n",
    "                               n_jobs=-1)\n",
    "\n",
    "\n",
    "knn_eu_grid_search.fit(X_train, y_train)\n",
    "cv_score = knn_eu_grid_search.best_score_\n",
    "knn_eu = knn_eu_grid_search.score(X_test, y_test)\n",
    "print(\"Euclidian kNN:\")\n",
    "print({'cv_score':cv_score, 'test_score':knn_eu})\n",
    "print(\"Params:\")\n",
    "print(knn_eu_grid_search.best_params_)\n",
    "\n",
    "\n"
   ]
  },
  {
   "cell_type": "code",
   "execution_count": 9,
   "id": "427dcd45",
   "metadata": {},
   "outputs": [
    {
     "name": "stdout",
     "output_type": "stream",
     "text": [
      "kNN with Mahalanobis:\n",
      "- Optmial parameters: {'classifier__n_neighbors': 3, 'classifier__weights': 'distance'} \n",
      "- Accuracy: 0.71875\n",
      "kNN with Euclidean:\n",
      "- Optimal parameters: {'classifier__n_neighbors': 27, 'classifier__weights': 'distance'} \n",
      "- Accuracy: 0.71875\n"
     ]
    }
   ],
   "source": [
    "#összesítve kNN\n",
    "print(f'kNN with Mahalanobis:')\n",
    "print(f'- Optmial parameters: {knn_mahal_grid_search.best_params_} \\n- Accuracy: {knn_mahal}')\n",
    "print(f'kNN with Euclidean:')\n",
    "print(f'- Optimal parameters: {knn_eu_grid_search.best_params_} \\n- Accuracy: {knn_eu}')"
   ]
  },
  {
   "cell_type": "markdown",
   "id": "9eb46307",
   "metadata": {},
   "source": [
    "**SVM**"
   ]
  },
  {
   "cell_type": "code",
   "execution_count": 10,
   "id": "105de86d",
   "metadata": {},
   "outputs": [
    {
     "name": "stdout",
     "output_type": "stream",
     "text": [
      "SVM:\n",
      "{'cv_score': 0.6657142857142857, 'test_score': 0.71875}\n",
      "Params:\n",
      "{'classifier__C': 0.5, 'classifier__kernel': 'linear'}\n",
      "\n",
      "Accuracy: 0.72\n",
      "Precision: 0.73\n",
      "Recall: 0.72\n"
     ]
    }
   ],
   "source": [
    "#tesztelés megfelelő C-hez SVM-nél\n",
    "from sklearn.svm import SVC\n",
    "from sklearn.multiclass import OneVsRestClassifier\n",
    "\n",
    "pipeline = Pipeline(steps = [['classifier', SVC(class_weight = \"balanced\", random_state=0, decision_function_shape = 'ovr')]])\n",
    "param_grid = {'classifier__C':[i*0.1 for i in range(1,50)], 'classifier__kernel':['linear','poly','rbf']}\n",
    "\n",
    "SVM_grid_search = GridSearchCV(estimator=pipeline,\n",
    "                               param_grid=param_grid,\n",
    "                               scoring='accuracy',\n",
    "                               cv=stratified_kfold,\n",
    "                               n_jobs=-1)\n",
    "\n",
    "\n",
    "SVM_grid_search.fit(X_train, y_train)\n",
    "cv_score = SVM_grid_search.best_score_\n",
    "SVM_acc = SVM_grid_search.score(X_test, y_test)\n",
    "y_pred = SVM_grid_search.predict(X_test)\n",
    "print(\"SVM:\")\n",
    "print({'cv_score':cv_score, 'test_score':SVM_acc})\n",
    "print(\"Params:\")\n",
    "print(SVM_grid_search.best_params_)\n",
    "\n",
    "print(\"\")\n",
    "print(f'Accuracy: {round(sklearn.metrics.accuracy_score(y_test, y_pred),2)}')\n",
    "print(f'Precision: {round(sklearn.metrics.precision_score(y_test, y_pred, average = \"weighted\"),2)}')\n",
    "print(f'Recall: {round(sklearn.metrics.recall_score(y_test, y_pred, average = \"weighted\"),2)}')\n",
    "\n"
   ]
  },
  {
   "cell_type": "markdown",
   "id": "f86485f7",
   "metadata": {},
   "source": [
    "**Logisztikus Regresszió**"
   ]
  },
  {
   "cell_type": "code",
   "execution_count": 11,
   "id": "9e0654f3",
   "metadata": {},
   "outputs": [
    {
     "name": "stdout",
     "output_type": "stream",
     "text": [
      "Logistic Regression:\n",
      "{'cv_score': 0.637142857142857, 'test_score': 0.65625}\n",
      "Params:\n",
      "{'classifier__C': 2.15, 'classifier__solver': 'saga'}\n",
      "\n",
      "Accuracy: 0.66\n",
      "Precision: 0.65\n",
      "Recall: 0.66\n"
     ]
    }
   ],
   "source": [
    "#logisztikus regresszióra\n",
    "from sklearn.linear_model import LogisticRegression\n",
    "\n",
    "pipeline = Pipeline(steps = [['classifier', LogisticRegression(class_weight = \"balanced\", random_state=0, max_iter = 5000, multi_class = 'ovr')]])\n",
    "param_grid = {'classifier__C':[i*0.05 for i in range(1,100)], 'classifier__solver':['sag','saga']}\n",
    "\n",
    "log_grid_search = GridSearchCV(estimator=pipeline,\n",
    "                               param_grid=param_grid,\n",
    "                               scoring='accuracy',\n",
    "                               cv=stratified_kfold,\n",
    "                               n_jobs=-1)\n",
    "\n",
    "\n",
    "log_grid_search.fit(X_train, y_train)\n",
    "cv_score = log_grid_search.best_score_\n",
    "log_acc = log_grid_search.score(X_test, y_test)\n",
    "y_pred = log_grid_search.predict(X_test)\n",
    "print(\"Logistic Regression:\")\n",
    "print({'cv_score':cv_score, 'test_score':log_acc})\n",
    "print(\"Params:\")\n",
    "print(log_grid_search.best_params_)\n",
    "\n",
    "print(\"\")\n",
    "print(f'Accuracy: {round(sklearn.metrics.accuracy_score(y_test, y_pred),2)}')\n",
    "print(f'Precision: {round(sklearn.metrics.precision_score(y_test, y_pred, average = \"weighted\"),2)}')\n",
    "print(f'Recall: {round(sklearn.metrics.recall_score(y_test, y_pred, average = \"weighted\"),2)}')\n"
   ]
  },
  {
   "cell_type": "markdown",
   "id": "ec3898fc",
   "metadata": {},
   "source": [
    "**Naive Bayes**"
   ]
  },
  {
   "cell_type": "code",
   "execution_count": 12,
   "id": "e619cc6a",
   "metadata": {},
   "outputs": [
    {
     "name": "stdout",
     "output_type": "stream",
     "text": [
      "Accuracy: 0.72\n"
     ]
    }
   ],
   "source": [
    "#Naive bayes-szel\n",
    "from sklearn.naive_bayes import GaussianNB\n",
    "\n",
    "clf = GaussianNB()\n",
    "clf.fit(X_train, y_train)\n",
    "y_pred = clf.predict(X_test)\n",
    "bayes_acc = round(sklearn.metrics.accuracy_score(y_test, y_pred),2)\n",
    "\n",
    "print(f'Accuracy: {round(sklearn.metrics.accuracy_score(y_test, y_pred),2)}')"
   ]
  },
  {
   "cell_type": "code",
   "execution_count": 13,
   "id": "7016f1d5",
   "metadata": {},
   "outputs": [
    {
     "name": "stdout",
     "output_type": "stream",
     "text": [
      "Accuracy with different algorithms:\n",
      "- SVM: 0.71875 \n",
      "- Logistic Regression: 0.65625 \n",
      "- Naive Bayes: 0.72\n"
     ]
    }
   ],
   "source": [
    "#az előző 3 kiértékelése\n",
    "print(\"Accuracy with different algorithms:\")\n",
    "print(f'- SVM: {SVM_acc} \\n- Logistic Regression: {log_acc} \\n- Naive Bayes: {bayes_acc}')"
   ]
  },
  {
   "cell_type": "markdown",
   "id": "5ba22955",
   "metadata": {},
   "source": [
    "**Gradient Boosting**"
   ]
  },
  {
   "cell_type": "code",
   "execution_count": 14,
   "id": "6005ddc1",
   "metadata": {},
   "outputs": [
    {
     "name": "stdout",
     "output_type": "stream",
     "text": [
      "Gradient Boosting:\n",
      "{'cv_score': 0.7076190476190476, 'test_score': 0.46875}\n",
      "Params:\n",
      "{'classifier__criterion': 'squared_error', 'classifier__learning_rate': 0.41000000000000003, 'classifier__max_depth': 3, 'classifier__n_estimators': 45}\n",
      "\n",
      "Accuracy: 0.47\n",
      "Precision: 0.44\n",
      "Recall: 0.47\n"
     ]
    }
   ],
   "source": [
    "from sklearn.ensemble import GradientBoostingClassifier\n",
    "\n",
    "pipeline = Pipeline(steps = [['classifier', GradientBoostingClassifier(random_state=0)]])\n",
    "param_grid = {'classifier__learning_rate':[0.01*i for i in range(1,50)],\n",
    "              'classifier__n_estimators':[5*i for i in range(1,10)], 'classifier__criterion':['squared_error','friedman_mse'],\n",
    "              'classifier__max_depth':[3,4,5]}\n",
    "\n",
    "grad_grid_search = GridSearchCV(estimator=pipeline,\n",
    "                               param_grid=param_grid,\n",
    "                               scoring='accuracy',\n",
    "                               cv=stratified_kfold,\n",
    "                               n_jobs=-1)\n",
    "\n",
    "\n",
    "grad_grid_search.fit(X_train, y_train)\n",
    "cv_score = grad_grid_search.best_score_\n",
    "grad_acc = grad_grid_search.score(X_test, y_test)\n",
    "y_pred = grad_grid_search.predict(X_test)\n",
    "print(\"Gradient Boosting:\")\n",
    "print({'cv_score':cv_score, 'test_score':grad_acc})\n",
    "print(\"Params:\")\n",
    "print(grad_grid_search.best_params_)\n",
    "\n",
    "print(\"\")\n",
    "print(f'Accuracy: {round(sklearn.metrics.accuracy_score(y_test, y_pred),2)}')\n",
    "print(f'Precision: {round(sklearn.metrics.precision_score(y_test, y_pred, average = \"weighted\"),2)}')\n",
    "print(f'Recall: {round(sklearn.metrics.recall_score(y_test, y_pred, average = \"weighted\"),2)}')"
   ]
  },
  {
   "cell_type": "markdown",
   "id": "f5bf2f1f",
   "metadata": {},
   "source": [
    "**Lineáris regresszió**"
   ]
  },
  {
   "cell_type": "code",
   "execution_count": 15,
   "id": "4467cc6e",
   "metadata": {},
   "outputs": [
    {
     "data": {
      "text/plain": [
       "0.5434872192189237"
      ]
     },
     "execution_count": 15,
     "metadata": {},
     "output_type": "execute_result"
    }
   ],
   "source": [
    "#ezek után nem oneVSall: lineáris regresszió\n",
    "from sklearn.linear_model import LinearRegression\n",
    "\n",
    "reg_alap = LinearRegression().fit(features,label)\n",
    "reg_alap.score(features, label)         "
   ]
  },
  {
   "cell_type": "code",
   "execution_count": 16,
   "id": "8461843d",
   "metadata": {},
   "outputs": [
    {
     "name": "stdout",
     "output_type": "stream",
     "text": [
      "Coefficients: [-0.01813036  0.21910661 -0.31814734 -0.6633314  -0.53383051  1.06991483\n",
      "  0.23705103  0.22429282  0.82307387  0.68668231  0.07956793]\n",
      "RMSE: 0.57\n"
     ]
    }
   ],
   "source": [
    "#most nézzük a tanítóhalmazon és a teszthalmazon\n",
    "\n",
    "reg = LinearRegression().fit(X_train,y_train)\n",
    "reg_pred = reg.predict(X_test)\n",
    "\n",
    "#együtthatók\n",
    "print(\"Coefficients:\", reg.coef_)\n",
    "#RMSE\n",
    "\n",
    "rmse = round(np.power(np.sum(np.power(y_test - reg_pred, 2))/reg_pred.shape[0],0.5),2)\n",
    "print(\"RMSE:\", rmse)"
   ]
  },
  {
   "cell_type": "code",
   "execution_count": 17,
   "id": "8a63af1a",
   "metadata": {},
   "outputs": [
    {
     "data": {
      "text/plain": [
       "<function matplotlib.pyplot.show(close=None, block=None)>"
      ]
     },
     "execution_count": 17,
     "metadata": {},
     "output_type": "execute_result"
    },
    {
     "data": {
      "image/png": "[encoded data removed]",
      "text/plain": [
       "<Figure size 432x288 with 1 Axes>"
      ]
     },
     "metadata": {
      "needs_background": "light"
     },
     "output_type": "display_data"
    }
   ],
   "source": [
    "#Nézzük meg a reziduális tagokat\n",
    "\n",
    "import matplotlib.pyplot as plt\n",
    "\n",
    "plt.scatter(reg_pred, y_test-reg_pred)\n",
    "plt.plot(reg_pred, [0 for i in range(reg_pred.shape[0])], c=\"red\") #0-vonal\n",
    "plt.title(\"Reziduális tagok\")\n",
    "plt.axis\n",
    "plt.show"
   ]
  },
  {
   "cell_type": "code",
   "execution_count": 18,
   "id": "2f85e23e",
   "metadata": {},
   "outputs": [
    {
     "data": {
      "text/plain": [
       "0.57"
      ]
     },
     "execution_count": 18,
     "metadata": {},
     "output_type": "execute_result"
    }
   ],
   "source": [
    "#R^2 és SSR\n",
    "SST = np.sum(np.power(y_test-np.mean(y_test),2))\n",
    "SSR = np.sum(np.power(reg_pred-np.mean(y_test),2))\n",
    "R2 = round(SSR/SST,2)\n",
    "R2"
   ]
  },
  {
   "cell_type": "code",
   "execution_count": 19,
   "id": "755d25e0",
   "metadata": {},
   "outputs": [
    {
     "name": "stdout",
     "output_type": "stream",
     "text": [
      "RMSE: 0.75\n",
      "0.44\n"
     ]
    }
   ],
   "source": [
    "#másik: kerekítsük a becsült értékeket\n",
    "\n",
    "for i in range(reg_pred.shape[0]):\n",
    "    reg_pred[i] = round(reg_pred[i],0)\n",
    "\n",
    "rmse_rounded = round(np.power(np.sum(np.power(y_test - reg_pred, 2))/reg_pred.shape[0],0.5),2)\n",
    "print(\"RMSE:\", rmse_rounded)\n",
    "lin_acc = round(sklearn.metrics.accuracy_score(y_test, reg_pred),2)\n",
    "print(round(sklearn.metrics.accuracy_score(y_test, reg_pred),2))"
   ]
  },
  {
   "cell_type": "code",
   "execution_count": 20,
   "id": "ae345262",
   "metadata": {},
   "outputs": [
    {
     "name": "stdout",
     "output_type": "stream",
     "text": [
      "Linear regression:\n",
      "- RMSE: 0.57 \n",
      "- R2: 0.57 \n",
      "- RMSE after rounding: 0.75 \n",
      "- Accuracy after rounding: 0.44\n"
     ]
    }
   ],
   "source": [
    "#lineáris regresszió összesen:\n",
    "print(\"Linear regression:\")\n",
    "print(f'- RMSE: {rmse} \\n- R2: {R2} \\n- RMSE after rounding: {rmse_rounded} \\n- Accuracy after rounding: {lin_acc}')"
   ]
  },
  {
   "cell_type": "markdown",
   "id": "7329a052",
   "metadata": {},
   "source": [
    "### Eredmények összesítve"
   ]
  },
  {
   "cell_type": "code",
   "execution_count": 21,
   "id": "097a27ac",
   "metadata": {},
   "outputs": [
    {
     "name": "stdout",
     "output_type": "stream",
     "text": [
      "kNN with Mahalanobis:\n",
      "- Optmial number of neighbours: {'classifier__n_neighbors': 3, 'classifier__weights': 'distance'} \n",
      "- Accuracy: 0.71875\n",
      "kNN with Euclidean:\n",
      "- Optimal number of neighbours: {'classifier__n_neighbors': 27, 'classifier__weights': 'distance'} \n",
      "- Accuracy: 0.71875\n",
      "SVM:\n",
      "- Accuracy: 0.71875\n",
      "Logistic Regression:\n",
      "- Accuracy: 0.65625\n",
      "Naive Bayes:\n",
      "- Accuracy: 0.72\n",
      "Linear regression:\n",
      "- RMSE: 0.57 \n",
      "- R2: 0.57 \n",
      "- RMSE after rounding: 0.75 \n",
      "- Accuracy after rounding: 0.44\n"
     ]
    }
   ],
   "source": [
    "#összes teljes mindenes\n",
    "#összesítve kNN\n",
    "print(f'kNN with Mahalanobis:')\n",
    "print(f'- Optmial number of neighbours: {knn_mahal_grid_search.best_params_} \\n- Accuracy: {knn_mahal}')\n",
    "print(f'kNN with Euclidean:')\n",
    "print(f'- Optimal number of neighbours: {knn_eu_grid_search.best_params_} \\n- Accuracy: {knn_eu}')\n",
    "print(\"SVM:\")\n",
    "print(f'- Accuracy: {SVM_acc}')\n",
    "print(\"Logistic Regression:\")\n",
    "print(f'- Accuracy: {log_acc}')\n",
    "print(\"Naive Bayes:\")\n",
    "print(f'- Accuracy: {bayes_acc}')\n",
    "print(\"Linear regression:\")\n",
    "print(f'- RMSE: {rmse} \\n- R2: {R2} \\n- RMSE after rounding: {rmse_rounded} \\n- Accuracy after rounding: {lin_acc}')"
   ]
  },
  {
   "cell_type": "markdown",
   "id": "c2e75220",
   "metadata": {},
   "source": [
    "# PCA"
   ]
  },
  {
   "cell_type": "code",
   "execution_count": 22,
   "id": "0edb8da3",
   "metadata": {},
   "outputs": [
    {
     "data": {
      "text/plain": [
       "[0.56, 0.78, 0.66, 0.59, 0.62, 0.72, 0.66, 0.59, 0.59]"
      ]
     },
     "execution_count": 22,
     "metadata": {},
     "output_type": "execute_result"
    }
   ],
   "source": [
    "#főkomponens analízissel\n",
    "#nézzük, mennyi főkomponenssel lesz a legjobb. (pl a logisztikus regresszió)\n",
    "from sklearn.decomposition import PCA\n",
    "\n",
    "scores = []\n",
    "\n",
    "for i in range(2,11):\n",
    "    projected = PCA(i).fit_transform(features)\n",
    "    X_train, X_test, y_train, y_test = train_test_split(projected, label, test_size=0.3, random_state=0)\n",
    "    neigh = KNeighborsClassifier(n_neighbors=i, metric=\"mahalanobis\", metric_params={'V': np.cov(m=X_train.astype(float), rowvar=False)})\n",
    "    neigh = neigh.fit(X_train,y_train)\n",
    "    y_pred = neigh.predict(X_test)\n",
    "    scores.append(round(sklearn.metrics.accuracy_score(y_test, y_pred),2))\n",
    "    \n",
    "scores"
   ]
  },
  {
   "cell_type": "code",
   "execution_count": 23,
   "id": "6d42b95f",
   "metadata": {},
   "outputs": [
    {
     "name": "stdout",
     "output_type": "stream",
     "text": [
      "Accuracy: 0.78\n",
      "Precision: 0.83\n",
      "Recall: 0.83\n"
     ]
    }
   ],
   "source": [
    "#főkomponenses logreg\n",
    "from sklearn.decomposition import PCA\n",
    "projected = PCA(4).fit_transform(features)\n",
    "X_train, X_test, y_train, y_test = train_test_split(projected, label, test_size=0.3, random_state=0)\n",
    "\n",
    "logreg = OneVsRestClassifier(LogisticRegression(class_weight = \"balanced\", random_state=0, max_iter = 10000)).fit(X_train, y_train)\n",
    "y_pred = logreg.predict(X_test)\n",
    "\n",
    "print(f'Accuracy: {round(sklearn.metrics.accuracy_score(y_test, y_pred),2)}')\n",
    "print(f'Precision: {round(sklearn.metrics.precision_score(y_test, y_pred, average = \"macro\"),2)}')\n",
    "print(f'Recall: {round(sklearn.metrics.recall_score(y_test, y_pred, average = \"macro\"),2)}')"
   ]
  },
  {
   "cell_type": "code",
   "execution_count": 24,
   "id": "a4d20f90",
   "metadata": {},
   "outputs": [
    {
     "name": "stderr",
     "output_type": "stream",
     "text": [
      "D:\\anaconda3\\envs\\otthoni\\lib\\site-packages\\sklearn\\preprocessing\\_data.py:2590: UserWarning: n_quantiles (1000) is greater than the total number of samples (72). n_quantiles is set to n_samples.\n",
      "  warnings.warn(\n",
      "D:\\anaconda3\\envs\\otthoni\\lib\\site-packages\\sklearn\\preprocessing\\_data.py:2590: UserWarning: n_quantiles (1000) is greater than the total number of samples (72). n_quantiles is set to n_samples.\n",
      "  warnings.warn(\n",
      "D:\\anaconda3\\envs\\otthoni\\lib\\site-packages\\sklearn\\preprocessing\\_data.py:2590: UserWarning: n_quantiles (1000) is greater than the total number of samples (72). n_quantiles is set to n_samples.\n",
      "  warnings.warn(\n",
      "D:\\anaconda3\\envs\\otthoni\\lib\\site-packages\\sklearn\\preprocessing\\_data.py:2590: UserWarning: n_quantiles (1000) is greater than the total number of samples (72). n_quantiles is set to n_samples.\n",
      "  warnings.warn(\n",
      "D:\\anaconda3\\envs\\otthoni\\lib\\site-packages\\sklearn\\preprocessing\\_data.py:2590: UserWarning: n_quantiles (1000) is greater than the total number of samples (72). n_quantiles is set to n_samples.\n",
      "  warnings.warn(\n",
      "D:\\anaconda3\\envs\\otthoni\\lib\\site-packages\\sklearn\\preprocessing\\_data.py:2590: UserWarning: n_quantiles (1000) is greater than the total number of samples (72). n_quantiles is set to n_samples.\n",
      "  warnings.warn(\n",
      "D:\\anaconda3\\envs\\otthoni\\lib\\site-packages\\sklearn\\preprocessing\\_data.py:2590: UserWarning: n_quantiles (1000) is greater than the total number of samples (72). n_quantiles is set to n_samples.\n",
      "  warnings.warn(\n",
      "D:\\anaconda3\\envs\\otthoni\\lib\\site-packages\\sklearn\\preprocessing\\_data.py:2590: UserWarning: n_quantiles (1000) is greater than the total number of samples (72). n_quantiles is set to n_samples.\n",
      "  warnings.warn(\n"
     ]
    }
   ],
   "source": [
    "#nézzük meg, hogy főkompononensenként hogy változnak a különböző algoritmusok eredménymutatói, és rakjuk dataframe-be!\n",
    "PCA_scores = pd.DataFrame({\"Főkomponensek száma\":[], \"Gradient Boosting Acc.\":[], \"Naive Bayes Acc.\":[], \"Logreg Acc.\":[], \"SVM Acc.\":[], \"Linreg RMSE\":[], \"Linreg R2\":[], \n",
    "                           \"Linreg RMSE kerekített\":[], \"Linreg Acc kerekített\":[]})\n",
    "\n",
    "\n",
    "for i in range(1,9):\n",
    "    projected = PCA(i).fit_transform(features)\n",
    "    X_train, X_test, y_train, y_test = train_test_split(projected, label, test_size=0.3, random_state=0)\n",
    "    \n",
    "    from sklearn import preprocessing\n",
    "    quantile_transformer = preprocessing.QuantileTransformer(random_state=0)\n",
    "    X_train = quantile_transformer.fit_transform(X_train)\n",
    "    X_test = quantile_transformer.transform(X_test)\n",
    "    \n",
    "    ### OPTIMALIZÁLÁS\n",
    "    \n",
    "    # Logreg\n",
    "    \n",
    "    pipeline = Pipeline(steps = [['classifier', LogisticRegression(class_weight = \"balanced\", random_state=0, max_iter = 5000, multi_class = 'ovr')]])\n",
    "    param_grid = {'classifier__C':[i*0.05 for i in range(1,100)], 'classifier__solver':['sag','saga']}\n",
    "\n",
    "    log_grid_search = GridSearchCV(estimator=pipeline,\n",
    "                                   param_grid=param_grid,\n",
    "                                   scoring='accuracy',\n",
    "                                   cv=stratified_kfold,\n",
    "                                   n_jobs=-1)\n",
    "\n",
    "\n",
    "    log_grid_search.fit(X_train, y_train)\n",
    "    cv_score = log_grid_search.best_score_\n",
    "    log_acc = round(log_grid_search.score(X_test, y_test),4)\n",
    "    \n",
    "    # Naive Bayes \n",
    "    \n",
    "    clf = GaussianNB()\n",
    "    clf.fit(X_train, y_train)\n",
    "    y_pred = clf.predict(X_test)\n",
    "    bayes_acc = round(sklearn.metrics.accuracy_score(y_test, y_pred),4)\n",
    "\n",
    "    # SVM\n",
    "    \n",
    "    pipeline = Pipeline(steps = [['classifier', SVC(class_weight = \"balanced\", random_state=0, decision_function_shape = 'ovr')]])\n",
    "    param_grid = {'classifier__C':[i*0.1 for i in range(1,50)], 'classifier__kernel':['linear','poly','rbf']}\n",
    "\n",
    "    SVM_grid_search = GridSearchCV(estimator=pipeline,\n",
    "                                   param_grid=param_grid,\n",
    "                                   scoring='accuracy',\n",
    "                                   cv=stratified_kfold,\n",
    "                                   n_jobs=-1)\n",
    "\n",
    "\n",
    "    SVM_grid_search.fit(X_train, y_train)\n",
    "    cv_score = SVM_grid_search.best_score_\n",
    "    SVM_acc = round(SVM_grid_search.score(X_test, y_test),4)\n",
    "    \n",
    "    # GradBoost\n",
    "    \n",
    "    pipeline = Pipeline(steps = [['classifier', GradientBoostingClassifier(random_state=0)]])\n",
    "    param_grid = {'classifier__learning_rate':[0.01*i for i in range(1,50)],\n",
    "                  'classifier__n_estimators':[5*i for i in range(1,10)], 'classifier__criterion':['squared_error','friedman_mse'],\n",
    "                  'classifier__max_depth':[3,4,5]}\n",
    "\n",
    "    grad_grid_search = GridSearchCV(estimator=pipeline,\n",
    "                                   param_grid=param_grid,\n",
    "                                   scoring='accuracy',\n",
    "                                   cv=stratified_kfold,\n",
    "                                   n_jobs=-1)\n",
    "\n",
    "\n",
    "    grad_grid_search.fit(X_train, y_train)\n",
    "    cv_score = grad_grid_search.best_score_\n",
    "    grad_acc = round(grad_grid_search.score(X_test, y_test),4)\n",
    "    \n",
    "    # Linreg\n",
    "\n",
    "    reg = LinearRegression().fit(X_train,y_train)\n",
    "    reg_pred = reg.predict(X_test)\n",
    "    \n",
    "    rmse = round(np.power(np.sum(np.power(y_test - reg_pred, 2))/reg_pred.shape[0],0.5),4)\n",
    "    \n",
    "    SST = np.sum(np.power(y_test-np.mean(y_test),2))\n",
    "    SSR = np.sum(np.power(reg_pred-np.mean(y_test),2))\n",
    "    R2 = round(SSR/SST,4)\n",
    "    R2\n",
    "    \n",
    "    for j in range(reg_pred.shape[0]):\n",
    "        reg_pred[j] = round(reg_pred[j],0)\n",
    "\n",
    "    rmse_rounded = round(np.power(np.sum(np.power(y_test - reg_pred, 2))/reg_pred.shape[0],0.5),4)\n",
    "    lin_acc = round(sklearn.metrics.accuracy_score(y_test, reg_pred),4)\n",
    "    reg_pred_rounded = round(sklearn.metrics.accuracy_score(y_test, reg_pred),4)\n",
    "    \n",
    "    \n",
    "    #új sor a dataframe-be\n",
    "    new_row = {\"Főkomponensek száma\":str(i), \"Gradient Boosting Acc.\":grad_acc, \"Naive Bayes Acc.\":bayes_acc ,\"Logreg Acc.\":log_acc, \"SVM Acc.\":SVM_acc, \"Linreg RMSE\":rmse, \"Linreg R2\":R2, \n",
    "               \"Linreg RMSE kerekített\":rmse_rounded, \"Linreg Acc kerekített\":reg_pred_rounded}\n",
    "    PCA_scores = PCA_scores.append(new_row, ignore_index=True)"
   ]
  },
  {
   "cell_type": "code",
   "execution_count": 25,
   "id": "265f87d6",
   "metadata": {},
   "outputs": [
    {
     "data": {
      "text/html": [
       "<div>\n",
       "<style scoped>\n",
       "    .dataframe tbody tr th:only-of-type {\n",
       "        vertical-align: middle;\n",
       "    }\n",
       "\n",
       "    .dataframe tbody tr th {\n",
       "        vertical-align: top;\n",
       "    }\n",
       "\n",
       "    .dataframe thead th {\n",
       "        text-align: right;\n",
       "    }\n",
       "</style>\n",
       "<table border=\"1\" class=\"dataframe\">\n",
       "  <thead>\n",
       "    <tr style=\"text-align: right;\">\n",
       "      <th></th>\n",
       "      <th>Főkomponensek száma</th>\n",
       "      <th>Gradient Boosting Acc.</th>\n",
       "      <th>Naive Bayes Acc.</th>\n",
       "      <th>Logreg Acc.</th>\n",
       "      <th>SVM Acc.</th>\n",
       "      <th>Linreg RMSE</th>\n",
       "      <th>Linreg R2</th>\n",
       "      <th>Linreg RMSE kerekített</th>\n",
       "      <th>Linreg Acc kerekített</th>\n",
       "    </tr>\n",
       "  </thead>\n",
       "  <tbody>\n",
       "    <tr>\n",
       "      <th>0</th>\n",
       "      <td>1</td>\n",
       "      <td>0.5625</td>\n",
       "      <td>0.7500</td>\n",
       "      <td>0.7188</td>\n",
       "      <td>0.6875</td>\n",
       "      <td>0.4995</td>\n",
       "      <td>0.3112</td>\n",
       "      <td>0.6124</td>\n",
       "      <td>0.6250</td>\n",
       "    </tr>\n",
       "    <tr>\n",
       "      <th>1</th>\n",
       "      <td>2</td>\n",
       "      <td>0.5938</td>\n",
       "      <td>0.7812</td>\n",
       "      <td>0.6875</td>\n",
       "      <td>0.7812</td>\n",
       "      <td>0.4934</td>\n",
       "      <td>0.3379</td>\n",
       "      <td>0.6124</td>\n",
       "      <td>0.6250</td>\n",
       "    </tr>\n",
       "    <tr>\n",
       "      <th>2</th>\n",
       "      <td>3</td>\n",
       "      <td>0.6250</td>\n",
       "      <td>0.7188</td>\n",
       "      <td>0.6250</td>\n",
       "      <td>0.7188</td>\n",
       "      <td>0.4930</td>\n",
       "      <td>0.3978</td>\n",
       "      <td>0.5863</td>\n",
       "      <td>0.6562</td>\n",
       "    </tr>\n",
       "    <tr>\n",
       "      <th>3</th>\n",
       "      <td>4</td>\n",
       "      <td>0.5312</td>\n",
       "      <td>0.7188</td>\n",
       "      <td>0.6562</td>\n",
       "      <td>0.6875</td>\n",
       "      <td>0.5035</td>\n",
       "      <td>0.4046</td>\n",
       "      <td>0.5863</td>\n",
       "      <td>0.6562</td>\n",
       "    </tr>\n",
       "    <tr>\n",
       "      <th>4</th>\n",
       "      <td>5</td>\n",
       "      <td>0.5000</td>\n",
       "      <td>0.7500</td>\n",
       "      <td>0.5938</td>\n",
       "      <td>0.5625</td>\n",
       "      <td>0.5175</td>\n",
       "      <td>0.4232</td>\n",
       "      <td>0.6374</td>\n",
       "      <td>0.5938</td>\n",
       "    </tr>\n",
       "    <tr>\n",
       "      <th>5</th>\n",
       "      <td>6</td>\n",
       "      <td>0.5312</td>\n",
       "      <td>0.7812</td>\n",
       "      <td>0.6250</td>\n",
       "      <td>0.7188</td>\n",
       "      <td>0.5182</td>\n",
       "      <td>0.4000</td>\n",
       "      <td>0.5590</td>\n",
       "      <td>0.6875</td>\n",
       "    </tr>\n",
       "    <tr>\n",
       "      <th>6</th>\n",
       "      <td>7</td>\n",
       "      <td>0.5312</td>\n",
       "      <td>0.7812</td>\n",
       "      <td>0.6250</td>\n",
       "      <td>0.7500</td>\n",
       "      <td>0.5328</td>\n",
       "      <td>0.4182</td>\n",
       "      <td>0.5303</td>\n",
       "      <td>0.7188</td>\n",
       "    </tr>\n",
       "    <tr>\n",
       "      <th>7</th>\n",
       "      <td>8</td>\n",
       "      <td>0.5312</td>\n",
       "      <td>0.7500</td>\n",
       "      <td>0.6562</td>\n",
       "      <td>0.6250</td>\n",
       "      <td>0.5374</td>\n",
       "      <td>0.4592</td>\n",
       "      <td>0.5590</td>\n",
       "      <td>0.6875</td>\n",
       "    </tr>\n",
       "  </tbody>\n",
       "</table>\n",
       "</div>"
      ],
      "text/plain": [
       "  Főkomponensek száma  Gradient Boosting Acc.  Naive Bayes Acc.  Logreg Acc.  \\\n",
       "0                   1                  0.5625            0.7500       0.7188   \n",
       "1                   2                  0.5938            0.7812       0.6875   \n",
       "2                   3                  0.6250            0.7188       0.6250   \n",
       "3                   4                  0.5312            0.7188       0.6562   \n",
       "4                   5                  0.5000            0.7500       0.5938   \n",
       "5                   6                  0.5312            0.7812       0.6250   \n",
       "6                   7                  0.5312            0.7812       0.6250   \n",
       "7                   8                  0.5312            0.7500       0.6562   \n",
       "\n",
       "   SVM Acc.  Linreg RMSE  Linreg R2  Linreg RMSE kerekített  \\\n",
       "0    0.6875       0.4995     0.3112                  0.6124   \n",
       "1    0.7812       0.4934     0.3379                  0.6124   \n",
       "2    0.7188       0.4930     0.3978                  0.5863   \n",
       "3    0.6875       0.5035     0.4046                  0.5863   \n",
       "4    0.5625       0.5175     0.4232                  0.6374   \n",
       "5    0.7188       0.5182     0.4000                  0.5590   \n",
       "6    0.7500       0.5328     0.4182                  0.5303   \n",
       "7    0.6250       0.5374     0.4592                  0.5590   \n",
       "\n",
       "   Linreg Acc kerekített  \n",
       "0                 0.6250  \n",
       "1                 0.6250  \n",
       "2                 0.6562  \n",
       "3                 0.6562  \n",
       "4                 0.5938  \n",
       "5                 0.6875  \n",
       "6                 0.7188  \n",
       "7                 0.6875  "
      ]
     },
     "execution_count": 25,
     "metadata": {},
     "output_type": "execute_result"
    }
   ],
   "source": [
    "PCA_scores"
   ]
  },
  {
   "cell_type": "markdown",
   "id": "9c80a754",
   "metadata": {},
   "source": [
    "# Biomérnökök"
   ]
  },
  {
   "cell_type": "code",
   "execution_count": 26,
   "id": "dc901ed3",
   "metadata": {},
   "outputs": [
    {
     "name": "stderr",
     "output_type": "stream",
     "text": [
      "D:\\anaconda3\\envs\\otthoni\\lib\\site-packages\\sklearn\\preprocessing\\_data.py:2590: UserWarning: n_quantiles (1000) is greater than the total number of samples (49). n_quantiles is set to n_samples.\n",
      "  warnings.warn(\n"
     ]
    }
   ],
   "source": [
    "from imblearn.over_sampling import SMOTE\n",
    "\n",
    "\n",
    "\n",
    "#smote = SMOTE(random_state = 42, k_neighbors = 4, sampling_strategy = {2: 145, 3: 80, 1: 25})\n",
    "\n",
    "biom = working_data.query(\"Szak == 'Biomérnöki'\")\n",
    "\n",
    "stratified_kfold = StratifiedKFold(n_splits=5,\n",
    "                                       shuffle=True,\n",
    "                                       random_state=11)\n",
    "\n",
    "features = biom.drop(labels = [\"Matematika A1a - Analízis\", \"Szak\", \"Matek helyes\",\"Kognitív pont\",  \"Összes pont\", \"Össz eredmény (átlag)\"], axis = 1)\n",
    "label = biom[\"Matematika A1a - Analízis\"]\n",
    "\n",
    "#itt nem kell SMOTE\n",
    "#features, label = smote.fit_resample(features, label)\n",
    "\n",
    "\n",
    "X_train, X_test, y_train, y_test = train_test_split(features, label, test_size=0.3, random_state=0, stratify=label)\n",
    "\n",
    "\n",
    "#skálázás\n",
    "\n",
    "from sklearn import preprocessing\n",
    "quantile_transformer = preprocessing.QuantileTransformer(random_state=0)\n",
    "X_train = quantile_transformer.fit_transform(X_train)\n",
    "X_test = quantile_transformer.transform(X_test)\n"
   ]
  },
  {
   "cell_type": "markdown",
   "id": "1781c25e",
   "metadata": {},
   "source": [
    "# Osztályozó algoritmusok\n",
    "\n",
    "**KNN**"
   ]
  },
  {
   "cell_type": "code",
   "execution_count": 27,
   "id": "7dea13a6",
   "metadata": {},
   "outputs": [
    {
     "name": "stdout",
     "output_type": "stream",
     "text": [
      "Mahalanobis kNN:\n",
      "{'cv_score': 0.6977777777777778, 'test_score': 0.5909090909090909}\n",
      "Params:\n",
      "{'classifier__n_neighbors': 18, 'classifier__weights': <function squared at 0x000001FEDA35B040>}\n"
     ]
    },
    {
     "name": "stderr",
     "output_type": "stream",
     "text": [
      "D:\\anaconda3\\envs\\otthoni\\lib\\site-packages\\sklearn\\model_selection\\_search.py:969: UserWarning: One or more of the test scores are non-finite: [0.51333333 0.51333333 0.51333333 0.59777778 0.51333333 0.51333333\n",
      " 0.63333333 0.63333333 0.63333333 0.61555556 0.59333333 0.59333333\n",
      " 0.69555556 0.69555556 0.69555556 0.63555556 0.65555556 0.65555556\n",
      " 0.56888889 0.59333333 0.63555556 0.52888889 0.52888889 0.61333333\n",
      " 0.54888889 0.59111111 0.67555556 0.59333333 0.61333333 0.65555556\n",
      " 0.59333333 0.57111111 0.59555556 0.57555556 0.59777778 0.59555556\n",
      " 0.59555556 0.57333333 0.57555556 0.59333333 0.63333333 0.65555556\n",
      " 0.63333333 0.57111111 0.57333333 0.59333333 0.65333333 0.67555556\n",
      " 0.65555556 0.65555556 0.65777778 0.59555556 0.67555556 0.69777778\n",
      "        nan        nan        nan        nan        nan        nan\n",
      "        nan        nan        nan        nan        nan        nan\n",
      "        nan        nan        nan        nan        nan        nan\n",
      "        nan        nan        nan        nan        nan        nan\n",
      "        nan        nan        nan        nan        nan        nan\n",
      "        nan        nan        nan]\n",
      "  warnings.warn(\n"
     ]
    }
   ],
   "source": [
    "#KNN-re keresztvalidációval mahalanobis-szal\n",
    "from sklearn.neighbors import KNeighborsClassifier\n",
    "from sklearn.model_selection import cross_val_score\n",
    "\n",
    "\n",
    "#distance függvény\n",
    "def squared(array):\n",
    "    return 1/array**2\n",
    "\n",
    "\n",
    "\n",
    "pipeline = imbpipeline(steps = [['classifier', KNeighborsClassifier(metric=\"mahalanobis\", metric_params={'V': np.cov(m=X_train.astype(float), rowvar=False)})]])\n",
    "param_grid = {'classifier__n_neighbors':[i for i in range(1,30)], 'classifier__weights':['uniform', 'distance', squared]}\n",
    "\n",
    "knn_mahal_grid_search = GridSearchCV(estimator=pipeline,\n",
    "                               param_grid=param_grid,\n",
    "                               scoring='accuracy',\n",
    "                               cv=stratified_kfold,\n",
    "                               n_jobs=-1)\n",
    "\n",
    "\n",
    "knn_mahal_grid_search.fit(X_train, y_train)\n",
    "cv_score = knn_mahal_grid_search.best_score_\n",
    "knn_mahal = knn_mahal_grid_search.score(X_test, y_test)\n",
    "print(\"Mahalanobis kNN:\")\n",
    "print({'cv_score':cv_score, 'test_score':knn_mahal})\n",
    "print(\"Params:\")\n",
    "print(knn_mahal_grid_search.best_params_)\n"
   ]
  },
  {
   "cell_type": "code",
   "execution_count": 28,
   "id": "791bdb4e",
   "metadata": {
    "scrolled": true
   },
   "outputs": [
    {
     "name": "stdout",
     "output_type": "stream",
     "text": [
      "Euclidian kNN:\n",
      "{'cv_score': 0.8, 'test_score': 0.5909090909090909}\n",
      "Params:\n",
      "{'classifier__n_neighbors': 14, 'classifier__weights': <function squared at 0x000001FEDA35B040>}\n"
     ]
    }
   ],
   "source": [
    "#KNN-re keresztvalidációval euklidészi távolsággal\n",
    "\n",
    "pipeline = Pipeline(steps = [['classifier', KNeighborsClassifier(metric=\"euclidean\")]])\n",
    "param_grid = {'classifier__n_neighbors':[i for i in range(1,30)], 'classifier__weights':['uniform', 'distance', squared]}\n",
    "\n",
    "knn_eu_grid_search = GridSearchCV(estimator=pipeline,\n",
    "                               param_grid=param_grid,\n",
    "                               scoring='accuracy',\n",
    "                               cv=stratified_kfold,\n",
    "                               n_jobs=-1)\n",
    "\n",
    "\n",
    "knn_eu_grid_search.fit(X_train, y_train)\n",
    "cv_score = knn_eu_grid_search.best_score_\n",
    "knn_eu = knn_eu_grid_search.score(X_test, y_test)\n",
    "print(\"Euclidian kNN:\")\n",
    "print({'cv_score':cv_score, 'test_score':knn_eu})\n",
    "print(\"Params:\")\n",
    "print(knn_eu_grid_search.best_params_)\n",
    "\n",
    "\n"
   ]
  },
  {
   "cell_type": "code",
   "execution_count": 29,
   "id": "dcc96c73",
   "metadata": {},
   "outputs": [
    {
     "name": "stdout",
     "output_type": "stream",
     "text": [
      "kNN with Mahalanobis:\n",
      "- Optmial parameters: {'classifier__n_neighbors': 18, 'classifier__weights': <function squared at 0x000001FEDA35B040>} \n",
      "- Accuracy: 0.5909090909090909\n",
      "kNN with Euclidean:\n",
      "- Optimal parameters: {'classifier__n_neighbors': 14, 'classifier__weights': <function squared at 0x000001FEDA35B040>} \n",
      "- Accuracy: 0.5909090909090909\n"
     ]
    }
   ],
   "source": [
    "#összesítve kNN\n",
    "print(f'kNN with Mahalanobis:')\n",
    "print(f'- Optmial parameters: {knn_mahal_grid_search.best_params_} \\n- Accuracy: {knn_mahal}')\n",
    "print(f'kNN with Euclidean:')\n",
    "print(f'- Optimal parameters: {knn_eu_grid_search.best_params_} \\n- Accuracy: {knn_eu}')"
   ]
  },
  {
   "cell_type": "markdown",
   "id": "39b5dfbe",
   "metadata": {},
   "source": [
    "**SVM**"
   ]
  },
  {
   "cell_type": "code",
   "execution_count": 30,
   "id": "58c5f470",
   "metadata": {},
   "outputs": [
    {
     "name": "stdout",
     "output_type": "stream",
     "text": [
      "SVM:\n",
      "{'cv_score': 0.82, 'test_score': 0.6363636363636364}\n",
      "Params:\n",
      "{'classifier__C': 0.4, 'classifier__kernel': 'linear'}\n",
      "\n",
      "Accuracy: 0.64\n",
      "Precision: 0.69\n",
      "Recall: 0.64\n"
     ]
    }
   ],
   "source": [
    "#tesztelés megfelelő C-hez SVM-nél\n",
    "from sklearn.svm import SVC\n",
    "from sklearn.multiclass import OneVsRestClassifier\n",
    "\n",
    "pipeline = Pipeline(steps = [['classifier', SVC(class_weight = \"balanced\", random_state=0, decision_function_shape = 'ovr')]])\n",
    "param_grid = {'classifier__C':[i*0.1 for i in range(1,50)], 'classifier__kernel':['linear','poly','rbf']}\n",
    "\n",
    "SVM_grid_search = GridSearchCV(estimator=pipeline,\n",
    "                               param_grid=param_grid,\n",
    "                               scoring='accuracy',\n",
    "                               cv=stratified_kfold,\n",
    "                               n_jobs=-1)\n",
    "\n",
    "\n",
    "SVM_grid_search.fit(X_train, y_train)\n",
    "cv_score = SVM_grid_search.best_score_\n",
    "SVM_acc = SVM_grid_search.score(X_test, y_test)\n",
    "y_pred = SVM_grid_search.predict(X_test)\n",
    "print(\"SVM:\")\n",
    "print({'cv_score':cv_score, 'test_score':SVM_acc})\n",
    "print(\"Params:\")\n",
    "print(SVM_grid_search.best_params_)\n",
    "\n",
    "print(\"\")\n",
    "print(f'Accuracy: {round(sklearn.metrics.accuracy_score(y_test, y_pred),2)}')\n",
    "print(f'Precision: {round(sklearn.metrics.precision_score(y_test, y_pred, average = \"weighted\"),2)}')\n",
    "print(f'Recall: {round(sklearn.metrics.recall_score(y_test, y_pred, average = \"weighted\"),2)}')\n",
    "\n"
   ]
  },
  {
   "cell_type": "markdown",
   "id": "7cc7161b",
   "metadata": {},
   "source": [
    "**Logisztikus Regresszió**"
   ]
  },
  {
   "cell_type": "code",
   "execution_count": 31,
   "id": "188148a5",
   "metadata": {},
   "outputs": [
    {
     "name": "stdout",
     "output_type": "stream",
     "text": [
      "Logistic Regression:\n",
      "{'cv_score': 0.7777777777777778, 'test_score': 0.5454545454545454}\n",
      "Params:\n",
      "{'classifier__C': 2.35, 'classifier__solver': 'sag'}\n",
      "\n",
      "Accuracy: 0.55\n",
      "Precision: 0.57\n",
      "Recall: 0.55\n"
     ]
    }
   ],
   "source": [
    "#logisztikus regresszióra\n",
    "from sklearn.linear_model import LogisticRegression\n",
    "\n",
    "pipeline = Pipeline(steps = [['classifier', LogisticRegression(class_weight = \"balanced\", random_state=0, max_iter = 5000, multi_class = 'ovr')]])\n",
    "param_grid = {'classifier__C':[i*0.05 for i in range(1,100)], 'classifier__solver':['sag','saga']}\n",
    "\n",
    "log_grid_search = GridSearchCV(estimator=pipeline,\n",
    "                               param_grid=param_grid,\n",
    "                               scoring='accuracy',\n",
    "                               cv=stratified_kfold,\n",
    "                               n_jobs=-1)\n",
    "\n",
    "\n",
    "log_grid_search.fit(X_train, y_train)\n",
    "cv_score = log_grid_search.best_score_\n",
    "log_acc = log_grid_search.score(X_test, y_test)\n",
    "y_pred = log_grid_search.predict(X_test)\n",
    "print(\"Logistic Regression:\")\n",
    "print({'cv_score':cv_score, 'test_score':log_acc})\n",
    "print(\"Params:\")\n",
    "print(log_grid_search.best_params_)\n",
    "\n",
    "print(\"\")\n",
    "print(f'Accuracy: {round(sklearn.metrics.accuracy_score(y_test, y_pred),2)}')\n",
    "print(f'Precision: {round(sklearn.metrics.precision_score(y_test, y_pred, average = \"weighted\"),2)}')\n",
    "print(f'Recall: {round(sklearn.metrics.recall_score(y_test, y_pred, average = \"weighted\"),2)}')\n"
   ]
  },
  {
   "cell_type": "markdown",
   "id": "c2b6c1ac",
   "metadata": {},
   "source": [
    "**Naive Bayes**"
   ]
  },
  {
   "cell_type": "code",
   "execution_count": 32,
   "id": "9a33abbf",
   "metadata": {},
   "outputs": [
    {
     "name": "stdout",
     "output_type": "stream",
     "text": [
      "Accuracy: 0.73\n"
     ]
    }
   ],
   "source": [
    "#Naive bayes-szel\n",
    "from sklearn.naive_bayes import GaussianNB\n",
    "\n",
    "clf = GaussianNB()\n",
    "clf.fit(X_train, y_train)\n",
    "y_pred = clf.predict(X_test)\n",
    "bayes_acc = round(sklearn.metrics.accuracy_score(y_test, y_pred),2)\n",
    "\n",
    "print(f'Accuracy: {round(sklearn.metrics.accuracy_score(y_test, y_pred),2)}')"
   ]
  },
  {
   "cell_type": "code",
   "execution_count": 33,
   "id": "65f9ed49",
   "metadata": {},
   "outputs": [
    {
     "name": "stdout",
     "output_type": "stream",
     "text": [
      "Accuracy with different algorithms:\n",
      "- SVM: 0.6363636363636364 \n",
      "- Logistic Regression: 0.5454545454545454 \n",
      "- Naive Bayes: 0.73\n"
     ]
    }
   ],
   "source": [
    "#az előző 3 kiértékelése\n",
    "print(\"Accuracy with different algorithms:\")\n",
    "print(f'- SVM: {SVM_acc} \\n- Logistic Regression: {log_acc} \\n- Naive Bayes: {bayes_acc}')"
   ]
  },
  {
   "cell_type": "markdown",
   "id": "8109ec82",
   "metadata": {},
   "source": [
    "**Gradient Boosting**"
   ]
  },
  {
   "cell_type": "code",
   "execution_count": 34,
   "id": "4c43c4e7",
   "metadata": {},
   "outputs": [
    {
     "name": "stdout",
     "output_type": "stream",
     "text": [
      "Gradient Boosting:\n",
      "{'cv_score': 0.7155555555555556, 'test_score': 0.5}\n",
      "Params:\n",
      "{'classifier__criterion': 'squared_error', 'classifier__learning_rate': 0.35000000000000003, 'classifier__max_depth': 4, 'classifier__n_estimators': 20}\n",
      "\n",
      "Accuracy: 0.5\n",
      "Precision: 0.55\n",
      "Recall: 0.5\n"
     ]
    }
   ],
   "source": [
    "from sklearn.ensemble import GradientBoostingClassifier\n",
    "\n",
    "pipeline = Pipeline(steps = [['classifier', GradientBoostingClassifier(random_state=0)]])\n",
    "param_grid = {'classifier__learning_rate':[0.01*i for i in range(1,50)],\n",
    "              'classifier__n_estimators':[5*i for i in range(1,10)], 'classifier__criterion':['squared_error','friedman_mse'],\n",
    "              'classifier__max_depth':[3,4,5]}\n",
    "\n",
    "grad_grid_search = GridSearchCV(estimator=pipeline,\n",
    "                               param_grid=param_grid,\n",
    "                               scoring='accuracy',\n",
    "                               cv=stratified_kfold,\n",
    "                               n_jobs=-1)\n",
    "\n",
    "\n",
    "grad_grid_search.fit(X_train, y_train)\n",
    "cv_score = grad_grid_search.best_score_\n",
    "grad_acc = grad_grid_search.score(X_test, y_test)\n",
    "y_pred = grad_grid_search.predict(X_test)\n",
    "print(\"Gradient Boosting:\")\n",
    "print({'cv_score':cv_score, 'test_score':grad_acc})\n",
    "print(\"Params:\")\n",
    "print(grad_grid_search.best_params_)\n",
    "\n",
    "print(\"\")\n",
    "print(f'Accuracy: {round(sklearn.metrics.accuracy_score(y_test, y_pred),2)}')\n",
    "print(f'Precision: {round(sklearn.metrics.precision_score(y_test, y_pred, average = \"weighted\"),2)}')\n",
    "print(f'Recall: {round(sklearn.metrics.recall_score(y_test, y_pred, average = \"weighted\"),2)}')"
   ]
  },
  {
   "cell_type": "markdown",
   "id": "8a98e947",
   "metadata": {},
   "source": [
    "**Lineáris regresszió**"
   ]
  },
  {
   "cell_type": "code",
   "execution_count": 35,
   "id": "5599b396",
   "metadata": {},
   "outputs": [
    {
     "data": {
      "text/plain": [
       "0.6810631883070057"
      ]
     },
     "execution_count": 35,
     "metadata": {},
     "output_type": "execute_result"
    }
   ],
   "source": [
    "#ezek után nem oneVSall: lineáris regresszió\n",
    "from sklearn.linear_model import LinearRegression\n",
    "\n",
    "reg_alap = LinearRegression().fit(features,label)\n",
    "reg_alap.score(features, label)         "
   ]
  },
  {
   "cell_type": "code",
   "execution_count": 36,
   "id": "f967f2f5",
   "metadata": {},
   "outputs": [
    {
     "name": "stdout",
     "output_type": "stream",
     "text": [
      "Coefficients: [ 2.58577580e-01  6.14949387e-01 -4.08068097e-01 -1.24241996e-01\n",
      "  2.55415205e-01  1.13967564e-01 -9.00137559e+13  9.00137559e+13\n",
      " -5.06604499e-02  4.29315492e-01  1.35290476e+00  1.37630418e-01]\n",
      "RMSE: 0.56\n"
     ]
    }
   ],
   "source": [
    "#most nézzük a tanítóhalmazon és a teszthalmazon\n",
    "\n",
    "reg = LinearRegression().fit(X_train,y_train)\n",
    "reg_pred = reg.predict(X_test)\n",
    "\n",
    "#együtthatók\n",
    "print(\"Coefficients:\", reg.coef_)\n",
    "#RMSE\n",
    "\n",
    "rmse = round(np.power(np.sum(np.power(y_test - reg_pred, 2))/reg_pred.shape[0],0.5),2)\n",
    "print(\"RMSE:\", rmse)"
   ]
  },
  {
   "cell_type": "code",
   "execution_count": 37,
   "id": "0b2f9608",
   "metadata": {},
   "outputs": [
    {
     "data": {
      "text/plain": [
       "<function matplotlib.pyplot.show(close=None, block=None)>"
      ]
     },
     "execution_count": 37,
     "metadata": {},
     "output_type": "execute_result"
    },
    {
     "data": {
      "image/png": "[encoded data removed]",
      "text/plain": [
       "<Figure size 432x288 with 1 Axes>"
      ]
     },
     "metadata": {
      "needs_background": "light"
     },
     "output_type": "display_data"
    }
   ],
   "source": [
    "#Nézzük meg a reziduális tagokat\n",
    "\n",
    "import matplotlib.pyplot as plt\n",
    "\n",
    "plt.scatter(reg_pred, y_test-reg_pred)\n",
    "plt.plot(reg_pred, [0 for i in range(reg_pred.shape[0])], c=\"red\") #0-vonal\n",
    "plt.title(\"Reziduális tagok\")\n",
    "plt.axis\n",
    "plt.show"
   ]
  },
  {
   "cell_type": "code",
   "execution_count": 38,
   "id": "0184f388",
   "metadata": {},
   "outputs": [
    {
     "data": {
      "text/plain": [
       "0.47"
      ]
     },
     "execution_count": 38,
     "metadata": {},
     "output_type": "execute_result"
    }
   ],
   "source": [
    "#R^2 és SSR\n",
    "SST = np.sum(np.power(y_test-np.mean(y_test),2))\n",
    "SSR = np.sum(np.power(reg_pred-np.mean(y_test),2))\n",
    "R2 = round(SSR/SST,2)\n",
    "R2"
   ]
  },
  {
   "cell_type": "code",
   "execution_count": 39,
   "id": "0c3ae2eb",
   "metadata": {},
   "outputs": [
    {
     "name": "stdout",
     "output_type": "stream",
     "text": [
      "RMSE: 0.64\n",
      "0.59\n"
     ]
    }
   ],
   "source": [
    "#másik: kerekítsük a becsült értékeket\n",
    "\n",
    "for i in range(reg_pred.shape[0]):\n",
    "    reg_pred[i] = round(reg_pred[i],0)\n",
    "\n",
    "rmse_rounded = round(np.power(np.sum(np.power(y_test - reg_pred, 2))/reg_pred.shape[0],0.5),2)\n",
    "print(\"RMSE:\", rmse_rounded)\n",
    "lin_acc = round(sklearn.metrics.accuracy_score(y_test, reg_pred),2)\n",
    "print(round(sklearn.metrics.accuracy_score(y_test, reg_pred),2))"
   ]
  },
  {
   "cell_type": "code",
   "execution_count": 40,
   "id": "e81f7877",
   "metadata": {},
   "outputs": [
    {
     "name": "stdout",
     "output_type": "stream",
     "text": [
      "Linear regression:\n",
      "- RMSE: 0.56 \n",
      "- R2: 0.47 \n",
      "- RMSE after rounding: 0.64 \n",
      "- Accuracy after rounding: 0.59\n"
     ]
    }
   ],
   "source": [
    "#lineáris regresszió összesen:\n",
    "print(\"Linear regression:\")\n",
    "print(f'- RMSE: {rmse} \\n- R2: {R2} \\n- RMSE after rounding: {rmse_rounded} \\n- Accuracy after rounding: {lin_acc}')"
   ]
  },
  {
   "cell_type": "markdown",
   "id": "0df3f9b0",
   "metadata": {},
   "source": [
    "### Eredmények összesítve"
   ]
  },
  {
   "cell_type": "code",
   "execution_count": 41,
   "id": "ba15275f",
   "metadata": {},
   "outputs": [
    {
     "name": "stdout",
     "output_type": "stream",
     "text": [
      "kNN with Mahalanobis:\n",
      "- Optmial number of neighbours: {'classifier__n_neighbors': 18, 'classifier__weights': <function squared at 0x000001FEDA35B040>} \n",
      "- Accuracy: 0.5909090909090909\n",
      "kNN with Euclidean:\n",
      "- Optimal number of neighbours: {'classifier__n_neighbors': 14, 'classifier__weights': <function squared at 0x000001FEDA35B040>} \n",
      "- Accuracy: 0.5909090909090909\n",
      "SVM:\n",
      "- Accuracy: 0.6363636363636364\n",
      "Logistic Regression:\n",
      "- Accuracy: 0.5454545454545454\n",
      "Naive Bayes:\n",
      "- Accuracy: 0.73\n",
      "Linear regression:\n",
      "- RMSE: 0.56 \n",
      "- R2: 0.47 \n",
      "- RMSE after rounding: 0.64 \n",
      "- Accuracy after rounding: 0.59\n"
     ]
    }
   ],
   "source": [
    "#összes teljes mindenes\n",
    "#összesítve kNN\n",
    "print(f'kNN with Mahalanobis:')\n",
    "print(f'- Optmial number of neighbours: {knn_mahal_grid_search.best_params_} \\n- Accuracy: {knn_mahal}')\n",
    "print(f'kNN with Euclidean:')\n",
    "print(f'- Optimal number of neighbours: {knn_eu_grid_search.best_params_} \\n- Accuracy: {knn_eu}')\n",
    "print(\"SVM:\")\n",
    "print(f'- Accuracy: {SVM_acc}')\n",
    "print(\"Logistic Regression:\")\n",
    "print(f'- Accuracy: {log_acc}')\n",
    "print(\"Naive Bayes:\")\n",
    "print(f'- Accuracy: {bayes_acc}')\n",
    "print(\"Linear regression:\")\n",
    "print(f'- RMSE: {rmse} \\n- R2: {R2} \\n- RMSE after rounding: {rmse_rounded} \\n- Accuracy after rounding: {lin_acc}')"
   ]
  },
  {
   "cell_type": "markdown",
   "id": "40141b11",
   "metadata": {},
   "source": [
    "# PCA"
   ]
  },
  {
   "cell_type": "code",
   "execution_count": 42,
   "id": "cfe138ab",
   "metadata": {},
   "outputs": [
    {
     "data": {
      "text/plain": [
       "[0.59, 0.45, 0.91, 0.77, 0.59, 0.68, 0.55, 0.64, 0.45]"
      ]
     },
     "execution_count": 42,
     "metadata": {},
     "output_type": "execute_result"
    }
   ],
   "source": [
    "#főkomponens analízissel\n",
    "#nézzük, mennyi főkomponenssel lesz a legjobb. (pl a logisztikus regresszió)\n",
    "from sklearn.decomposition import PCA\n",
    "\n",
    "scores = []\n",
    "\n",
    "for i in range(2,11):\n",
    "    projected = PCA(i).fit_transform(features)\n",
    "    X_train, X_test, y_train, y_test = train_test_split(projected, label, test_size=0.3, random_state=0)\n",
    "    neigh = KNeighborsClassifier(n_neighbors=i, metric=\"mahalanobis\", metric_params={'V': np.cov(m=X_train.astype(float), rowvar=False)})\n",
    "    neigh = neigh.fit(X_train,y_train)\n",
    "    y_pred = neigh.predict(X_test)\n",
    "    scores.append(round(sklearn.metrics.accuracy_score(y_test, y_pred),2))\n",
    "    \n",
    "scores"
   ]
  },
  {
   "cell_type": "code",
   "execution_count": 43,
   "id": "ffa22831",
   "metadata": {},
   "outputs": [
    {
     "name": "stdout",
     "output_type": "stream",
     "text": [
      "Accuracy: 0.64\n",
      "Precision: 0.61\n",
      "Recall: 0.74\n"
     ]
    }
   ],
   "source": [
    "#főkomponenses logreg\n",
    "from sklearn.decomposition import PCA\n",
    "projected = PCA(4).fit_transform(features)\n",
    "X_train, X_test, y_train, y_test = train_test_split(projected, label, test_size=0.3, random_state=0)\n",
    "\n",
    "logreg = OneVsRestClassifier(LogisticRegression(class_weight = \"balanced\", random_state=0, max_iter = 10000)).fit(X_train, y_train)\n",
    "y_pred = logreg.predict(X_test)\n",
    "\n",
    "print(f'Accuracy: {round(sklearn.metrics.accuracy_score(y_test, y_pred),2)}')\n",
    "print(f'Precision: {round(sklearn.metrics.precision_score(y_test, y_pred, average = \"macro\"),2)}')\n",
    "print(f'Recall: {round(sklearn.metrics.recall_score(y_test, y_pred, average = \"macro\"),2)}')"
   ]
  },
  {
   "cell_type": "code",
   "execution_count": 44,
   "id": "d9af01be",
   "metadata": {},
   "outputs": [
    {
     "name": "stderr",
     "output_type": "stream",
     "text": [
      "D:\\anaconda3\\envs\\otthoni\\lib\\site-packages\\sklearn\\preprocessing\\_data.py:2590: UserWarning: n_quantiles (1000) is greater than the total number of samples (49). n_quantiles is set to n_samples.\n",
      "  warnings.warn(\n",
      "D:\\anaconda3\\envs\\otthoni\\lib\\site-packages\\sklearn\\preprocessing\\_data.py:2590: UserWarning: n_quantiles (1000) is greater than the total number of samples (49). n_quantiles is set to n_samples.\n",
      "  warnings.warn(\n",
      "D:\\anaconda3\\envs\\otthoni\\lib\\site-packages\\sklearn\\preprocessing\\_data.py:2590: UserWarning: n_quantiles (1000) is greater than the total number of samples (49). n_quantiles is set to n_samples.\n",
      "  warnings.warn(\n",
      "D:\\anaconda3\\envs\\otthoni\\lib\\site-packages\\sklearn\\preprocessing\\_data.py:2590: UserWarning: n_quantiles (1000) is greater than the total number of samples (49). n_quantiles is set to n_samples.\n",
      "  warnings.warn(\n",
      "D:\\anaconda3\\envs\\otthoni\\lib\\site-packages\\sklearn\\preprocessing\\_data.py:2590: UserWarning: n_quantiles (1000) is greater than the total number of samples (49). n_quantiles is set to n_samples.\n",
      "  warnings.warn(\n",
      "D:\\anaconda3\\envs\\otthoni\\lib\\site-packages\\sklearn\\preprocessing\\_data.py:2590: UserWarning: n_quantiles (1000) is greater than the total number of samples (49). n_quantiles is set to n_samples.\n",
      "  warnings.warn(\n",
      "D:\\anaconda3\\envs\\otthoni\\lib\\site-packages\\sklearn\\preprocessing\\_data.py:2590: UserWarning: n_quantiles (1000) is greater than the total number of samples (49). n_quantiles is set to n_samples.\n",
      "  warnings.warn(\n",
      "D:\\anaconda3\\envs\\otthoni\\lib\\site-packages\\sklearn\\preprocessing\\_data.py:2590: UserWarning: n_quantiles (1000) is greater than the total number of samples (49). n_quantiles is set to n_samples.\n",
      "  warnings.warn(\n"
     ]
    }
   ],
   "source": [
    "#nézzük meg, hogy főkompononensenként hogy változnak a különböző algoritmusok eredménymutatói, és rakjuk dataframe-be!\n",
    "PCA_scores = pd.DataFrame({\"Főkomponensek száma\":[], \"Gradient Boosting Acc.\":[], \"Naive Bayes Acc.\":[], \"Logreg Acc.\":[], \"SVM Acc.\":[], \"Linreg RMSE\":[], \"Linreg R2\":[], \n",
    "                           \"Linreg RMSE kerekített\":[], \"Linreg Acc kerekített\":[]})\n",
    "\n",
    "\n",
    "for i in range(1,9):\n",
    "    projected = PCA(i).fit_transform(features)\n",
    "    X_train, X_test, y_train, y_test = train_test_split(projected, label, test_size=0.3, random_state=0)\n",
    "    \n",
    "    from sklearn import preprocessing\n",
    "    quantile_transformer = preprocessing.QuantileTransformer(random_state=0)\n",
    "    X_train = quantile_transformer.fit_transform(X_train)\n",
    "    X_test = quantile_transformer.transform(X_test)\n",
    "    \n",
    "    ### OPTIMALIZÁLÁS\n",
    "    \n",
    "    # Logreg\n",
    "    \n",
    "    pipeline = Pipeline(steps = [['classifier', LogisticRegression(class_weight = \"balanced\", random_state=0, max_iter = 5000, multi_class = 'ovr')]])\n",
    "    param_grid = {'classifier__C':[i*0.05 for i in range(1,100)], 'classifier__solver':['sag','saga']}\n",
    "\n",
    "    log_grid_search = GridSearchCV(estimator=pipeline,\n",
    "                                   param_grid=param_grid,\n",
    "                                   scoring='accuracy',\n",
    "                                   cv=stratified_kfold,\n",
    "                                   n_jobs=-1)\n",
    "\n",
    "\n",
    "    log_grid_search.fit(X_train, y_train)\n",
    "    cv_score = log_grid_search.best_score_\n",
    "    log_acc = round(log_grid_search.score(X_test, y_test),4)\n",
    "    \n",
    "    # Naive Bayes \n",
    "    \n",
    "    clf = GaussianNB()\n",
    "    clf.fit(X_train, y_train)\n",
    "    y_pred = clf.predict(X_test)\n",
    "    bayes_acc = round(sklearn.metrics.accuracy_score(y_test, y_pred),4)\n",
    "\n",
    "    # SVM\n",
    "    \n",
    "    pipeline = Pipeline(steps = [['classifier', SVC(class_weight = \"balanced\", random_state=0, decision_function_shape = 'ovr')]])\n",
    "    param_grid = {'classifier__C':[i*0.1 for i in range(1,50)], 'classifier__kernel':['linear','poly','rbf']}\n",
    "\n",
    "    SVM_grid_search = GridSearchCV(estimator=pipeline,\n",
    "                                   param_grid=param_grid,\n",
    "                                   scoring='accuracy',\n",
    "                                   cv=stratified_kfold,\n",
    "                                   n_jobs=-1)\n",
    "\n",
    "\n",
    "    SVM_grid_search.fit(X_train, y_train)\n",
    "    cv_score = SVM_grid_search.best_score_\n",
    "    SVM_acc = round(SVM_grid_search.score(X_test, y_test),4)\n",
    "    \n",
    "    # GradBoost\n",
    "    \n",
    "    pipeline = Pipeline(steps = [['classifier', GradientBoostingClassifier(random_state=0)]])\n",
    "    param_grid = {'classifier__learning_rate':[0.01*i for i in range(1,50)],\n",
    "                  'classifier__n_estimators':[5*i for i in range(1,10)], 'classifier__criterion':['squared_error','friedman_mse'],\n",
    "                  'classifier__max_depth':[3,4,5]}\n",
    "\n",
    "    grad_grid_search = GridSearchCV(estimator=pipeline,\n",
    "                                   param_grid=param_grid,\n",
    "                                   scoring='accuracy',\n",
    "                                   cv=stratified_kfold,\n",
    "                                   n_jobs=-1)\n",
    "\n",
    "\n",
    "    grad_grid_search.fit(X_train, y_train)\n",
    "    cv_score = grad_grid_search.best_score_\n",
    "    grad_acc = round(grad_grid_search.score(X_test, y_test),4)\n",
    "    \n",
    "    # Linreg\n",
    "\n",
    "    reg = LinearRegression().fit(X_train,y_train)\n",
    "    reg_pred = reg.predict(X_test)\n",
    "    \n",
    "    rmse = round(np.power(np.sum(np.power(y_test - reg_pred, 2))/reg_pred.shape[0],0.5),4)\n",
    "    \n",
    "    SST = np.sum(np.power(y_test-np.mean(y_test),2))\n",
    "    SSR = np.sum(np.power(reg_pred-np.mean(y_test),2))\n",
    "    R2 = round(SSR/SST,4)\n",
    "    R2\n",
    "    \n",
    "    for j in range(reg_pred.shape[0]):\n",
    "        reg_pred[j] = round(reg_pred[j],0)\n",
    "\n",
    "    rmse_rounded = round(np.power(np.sum(np.power(y_test - reg_pred, 2))/reg_pred.shape[0],0.5),4)\n",
    "    lin_acc = round(sklearn.metrics.accuracy_score(y_test, reg_pred),4)\n",
    "    reg_pred_rounded = round(sklearn.metrics.accuracy_score(y_test, reg_pred),4)\n",
    "    \n",
    "    \n",
    "    #új sor a dataframe-be\n",
    "    new_row = {\"Főkomponensek száma\":str(i), \"Gradient Boosting Acc.\":grad_acc, \"Naive Bayes Acc.\":bayes_acc ,\"Logreg Acc.\":log_acc, \"SVM Acc.\":SVM_acc, \"Linreg RMSE\":rmse, \"Linreg R2\":R2, \n",
    "               \"Linreg RMSE kerekített\":rmse_rounded, \"Linreg Acc kerekített\":reg_pred_rounded}\n",
    "    PCA_scores = PCA_scores.append(new_row, ignore_index=True)"
   ]
  },
  {
   "cell_type": "code",
   "execution_count": 45,
   "id": "4629f716",
   "metadata": {
    "scrolled": true
   },
   "outputs": [
    {
     "data": {
      "text/html": [
       "<div>\n",
       "<style scoped>\n",
       "    .dataframe tbody tr th:only-of-type {\n",
       "        vertical-align: middle;\n",
       "    }\n",
       "\n",
       "    .dataframe tbody tr th {\n",
       "        vertical-align: top;\n",
       "    }\n",
       "\n",
       "    .dataframe thead th {\n",
       "        text-align: right;\n",
       "    }\n",
       "</style>\n",
       "<table border=\"1\" class=\"dataframe\">\n",
       "  <thead>\n",
       "    <tr style=\"text-align: right;\">\n",
       "      <th></th>\n",
       "      <th>Főkomponensek száma</th>\n",
       "      <th>Gradient Boosting Acc.</th>\n",
       "      <th>Naive Bayes Acc.</th>\n",
       "      <th>Logreg Acc.</th>\n",
       "      <th>SVM Acc.</th>\n",
       "      <th>Linreg RMSE</th>\n",
       "      <th>Linreg R2</th>\n",
       "      <th>Linreg RMSE kerekített</th>\n",
       "      <th>Linreg Acc kerekített</th>\n",
       "    </tr>\n",
       "  </thead>\n",
       "  <tbody>\n",
       "    <tr>\n",
       "      <th>0</th>\n",
       "      <td>1</td>\n",
       "      <td>0.4091</td>\n",
       "      <td>0.6818</td>\n",
       "      <td>0.4091</td>\n",
       "      <td>0.4545</td>\n",
       "      <td>0.5318</td>\n",
       "      <td>0.3281</td>\n",
       "      <td>0.6396</td>\n",
       "      <td>0.5909</td>\n",
       "    </tr>\n",
       "    <tr>\n",
       "      <th>1</th>\n",
       "      <td>2</td>\n",
       "      <td>0.6364</td>\n",
       "      <td>0.7727</td>\n",
       "      <td>0.5455</td>\n",
       "      <td>0.5455</td>\n",
       "      <td>0.4118</td>\n",
       "      <td>0.5674</td>\n",
       "      <td>0.5222</td>\n",
       "      <td>0.7273</td>\n",
       "    </tr>\n",
       "    <tr>\n",
       "      <th>2</th>\n",
       "      <td>3</td>\n",
       "      <td>0.6364</td>\n",
       "      <td>0.7727</td>\n",
       "      <td>0.6818</td>\n",
       "      <td>0.6818</td>\n",
       "      <td>0.4221</td>\n",
       "      <td>0.5203</td>\n",
       "      <td>0.4264</td>\n",
       "      <td>0.8182</td>\n",
       "    </tr>\n",
       "    <tr>\n",
       "      <th>3</th>\n",
       "      <td>4</td>\n",
       "      <td>0.6818</td>\n",
       "      <td>0.8636</td>\n",
       "      <td>0.7273</td>\n",
       "      <td>0.7273</td>\n",
       "      <td>0.4166</td>\n",
       "      <td>0.5301</td>\n",
       "      <td>0.3693</td>\n",
       "      <td>0.8636</td>\n",
       "    </tr>\n",
       "    <tr>\n",
       "      <th>4</th>\n",
       "      <td>5</td>\n",
       "      <td>0.6364</td>\n",
       "      <td>0.8182</td>\n",
       "      <td>0.7273</td>\n",
       "      <td>0.7727</td>\n",
       "      <td>0.4106</td>\n",
       "      <td>0.5040</td>\n",
       "      <td>0.3693</td>\n",
       "      <td>0.8636</td>\n",
       "    </tr>\n",
       "    <tr>\n",
       "      <th>5</th>\n",
       "      <td>6</td>\n",
       "      <td>0.5909</td>\n",
       "      <td>0.8636</td>\n",
       "      <td>0.6364</td>\n",
       "      <td>0.8182</td>\n",
       "      <td>0.3896</td>\n",
       "      <td>0.5135</td>\n",
       "      <td>0.3693</td>\n",
       "      <td>0.8636</td>\n",
       "    </tr>\n",
       "    <tr>\n",
       "      <th>6</th>\n",
       "      <td>7</td>\n",
       "      <td>0.6364</td>\n",
       "      <td>0.7727</td>\n",
       "      <td>0.7273</td>\n",
       "      <td>0.4091</td>\n",
       "      <td>0.5030</td>\n",
       "      <td>0.3571</td>\n",
       "      <td>0.7071</td>\n",
       "      <td>0.5000</td>\n",
       "    </tr>\n",
       "    <tr>\n",
       "      <th>7</th>\n",
       "      <td>8</td>\n",
       "      <td>0.7273</td>\n",
       "      <td>0.7727</td>\n",
       "      <td>0.5455</td>\n",
       "      <td>0.7273</td>\n",
       "      <td>0.4952</td>\n",
       "      <td>0.3501</td>\n",
       "      <td>0.6742</td>\n",
       "      <td>0.5455</td>\n",
       "    </tr>\n",
       "  </tbody>\n",
       "</table>\n",
       "</div>"
      ],
      "text/plain": [
       "  Főkomponensek száma  Gradient Boosting Acc.  Naive Bayes Acc.  Logreg Acc.  \\\n",
       "0                   1                  0.4091            0.6818       0.4091   \n",
       "1                   2                  0.6364            0.7727       0.5455   \n",
       "2                   3                  0.6364            0.7727       0.6818   \n",
       "3                   4                  0.6818            0.8636       0.7273   \n",
       "4                   5                  0.6364            0.8182       0.7273   \n",
       "5                   6                  0.5909            0.8636       0.6364   \n",
       "6                   7                  0.6364            0.7727       0.7273   \n",
       "7                   8                  0.7273            0.7727       0.5455   \n",
       "\n",
       "   SVM Acc.  Linreg RMSE  Linreg R2  Linreg RMSE kerekített  \\\n",
       "0    0.4545       0.5318     0.3281                  0.6396   \n",
       "1    0.5455       0.4118     0.5674                  0.5222   \n",
       "2    0.6818       0.4221     0.5203                  0.4264   \n",
       "3    0.7273       0.4166     0.5301                  0.3693   \n",
       "4    0.7727       0.4106     0.5040                  0.3693   \n",
       "5    0.8182       0.3896     0.5135                  0.3693   \n",
       "6    0.4091       0.5030     0.3571                  0.7071   \n",
       "7    0.7273       0.4952     0.3501                  0.6742   \n",
       "\n",
       "   Linreg Acc kerekített  \n",
       "0                 0.5909  \n",
       "1                 0.7273  \n",
       "2                 0.8182  \n",
       "3                 0.8636  \n",
       "4                 0.8636  \n",
       "5                 0.8636  \n",
       "6                 0.5000  \n",
       "7                 0.5455  "
      ]
     },
     "execution_count": 45,
     "metadata": {},
     "output_type": "execute_result"
    }
   ],
   "source": [
    "PCA_scores"
   ]
  },
  {
   "cell_type": "code",
   "execution_count": null,
   "id": "8136e897",
   "metadata": {},
   "outputs": [],
   "source": []
  },
  {
   "cell_type": "code",
   "execution_count": null,
   "id": "c23a09a5",
   "metadata": {},
   "outputs": [],
   "source": []
  },
  {
   "cell_type": "markdown",
   "id": "d8205374",
   "metadata": {},
   "source": [
    "# Modulok és Dataprep"
   ]
  },
  {
   "cell_type": "code",
   "execution_count": 46,
   "id": "74aff60a",
   "metadata": {},
   "outputs": [],
   "source": [
    "import pandas as pd\n",
    "import numpy as np\n",
    "from sklearn.model_selection import train_test_split, GridSearchCV, StratifiedKFold\n",
    "import sklearn.metrics\n",
    "from sklearn.multiclass import OneVsRestClassifier\n",
    "from imblearn.pipeline import Pipeline as imbpipeline\n",
    "from sklearn.pipeline import Pipeline"
   ]
  },
  {
   "cell_type": "code",
   "execution_count": 47,
   "id": "12da1944",
   "metadata": {},
   "outputs": [],
   "source": [
    "working_data = pd.read_excel(\"C:/Users/Donát/Documents/GitHub/-nkutfel/ONKUTFEL2/NYERS_2021/data_2021_SZŰKJÓ.xlsx\")"
   ]
  },
  {
   "cell_type": "markdown",
   "id": "2e0d1cdb",
   "metadata": {},
   "source": [
    "**Minimális Feature Engineering**"
   ]
  },
  {
   "cell_type": "code",
   "execution_count": 48,
   "id": "df0c2045",
   "metadata": {},
   "outputs": [],
   "source": [
    "#szűrjük ki a nem kategorikus vagy numerikus változókat\n",
    "working_data = working_data.drop(labels = [\"Name\", \"Neptun\", \"Tankör\"], axis = 1)\n",
    "\n",
    "#alakítsuk numerikussá a %-os teljesítménymutatókat\n",
    "#for i, row in working_data.iterrows():\n",
    "#    working_data.at[i, \"Matek eredmény\"] = float(row[\"Matek eredmény\"][:-3] + \".\" + row[\"Matek eredmény\"][-2])\n",
    "#    working_data.at[i, \"Kognitív eredmény\"] = float(row[\"Kognitív eredmény\"][:-3] + \".\" + row[\"Kognitív eredmény\"][-2])\n",
    "#    working_data.at[i, \"Kognitív pont\"] = float(str(row[\"Kognitív pont\"]).replace(\",\", \".\"))\n",
    "#    working_data.at[i, \"Össz eredmény (átlag)\"] = float(row[\"Össz eredmény (átlag)\"][:-3] + \".\" + row[\"Össz eredmény (átlag)\"][-2])\n",
    "\n"
   ]
  },
  {
   "cell_type": "code",
   "execution_count": 49,
   "id": "9e930638",
   "metadata": {},
   "outputs": [],
   "source": [
    "#csináljunk a jegyek alapján 3 csoportot: a jó tanulók a 4-5, a rossz a 2-3, a bukás legyen 1\n",
    "for i, row in working_data.iterrows():\n",
    "    if working_data.at[i, \"Matematika A1a - Analízis\"] in [3, 4, 5]:\n",
    "        working_data.at[i, \"Matematika A1a - Analízis\"] = 1\n",
    "    elif working_data.at[i, \"Matematika A1a - Analízis\"] in [2, 1]:\n",
    "        working_data.at[i, \"Matematika A1a - Analízis\"] = 0"
   ]
  },
  {
   "cell_type": "code",
   "execution_count": 50,
   "id": "84619455",
   "metadata": {},
   "outputs": [
    {
     "data": {
      "text/plain": [
       "0    122\n",
       "1     80\n",
       "Name: Matematika A1a - Analízis, dtype: int64"
      ]
     },
     "execution_count": 50,
     "metadata": {},
     "output_type": "execute_result"
    }
   ],
   "source": [
    "working_data['Matematika A1a - Analízis'].value_counts()"
   ]
  },
  {
   "cell_type": "markdown",
   "id": "c7b44d0b",
   "metadata": {},
   "source": [
    "# Vegyészek"
   ]
  },
  {
   "cell_type": "code",
   "execution_count": 51,
   "id": "57e18715",
   "metadata": {},
   "outputs": [
    {
     "name": "stderr",
     "output_type": "stream",
     "text": [
      "D:\\anaconda3\\envs\\otthoni\\lib\\site-packages\\sklearn\\preprocessing\\_data.py:2590: UserWarning: n_quantiles (1000) is greater than the total number of samples (72). n_quantiles is set to n_samples.\n",
      "  warnings.warn(\n"
     ]
    }
   ],
   "source": [
    "from imblearn.over_sampling import SMOTE\n",
    "\n",
    "\n",
    "\n",
    "#smote = SMOTE(random_state = 42, k_neighbors = 4, sampling_strategy = {2: 145, 3: 80, 1: 25})\n",
    "\n",
    "vegyesz = working_data.query(\"Szak == 'Vegyészmérnöki'\")\n",
    "\n",
    "stratified_kfold = StratifiedKFold(n_splits=5,\n",
    "                                       shuffle=True,\n",
    "                                       random_state=11)\n",
    "\n",
    "features = vegyesz.drop(labels = [\"Matematika A1a - Analízis\", \"Szak\", \"Matek helyes\",\"Kognitív pont\", \"Összes pont\", \"Össz eredmény (átlag)\"], axis = 1)\n",
    "label = vegyesz[\"Matematika A1a - Analízis\"]\n",
    "\n",
    "#itt nem kell SMOTE\n",
    "#features, label = smote.fit_resample(features, label)\n",
    "\n",
    "\n",
    "X_train, X_test, y_train, y_test = train_test_split(features, label, test_size=0.3, random_state=0, stratify=label)\n",
    "\n",
    "\n",
    "#skálázás\n",
    "\n",
    "from sklearn import preprocessing\n",
    "quantile_transformer = preprocessing.QuantileTransformer(random_state=0)\n",
    "X_train = quantile_transformer.fit_transform(X_train)\n",
    "X_test = quantile_transformer.transform(X_test)\n"
   ]
  },
  {
   "cell_type": "markdown",
   "id": "30797353",
   "metadata": {},
   "source": [
    "## Osztályozó algoritmusok\n",
    "\n",
    "**KNN**"
   ]
  },
  {
   "cell_type": "code",
   "execution_count": 52,
   "id": "9881e08e",
   "metadata": {},
   "outputs": [
    {
     "name": "stdout",
     "output_type": "stream",
     "text": [
      "Mahalanobis kNN:\n",
      "{'cv_score': 0.7761904761904762, 'test_score': 0.6875}\n",
      "Params:\n",
      "{'classifier__n_neighbors': 26, 'classifier__weights': 'uniform'}\n"
     ]
    },
    {
     "name": "stderr",
     "output_type": "stream",
     "text": [
      "D:\\anaconda3\\envs\\otthoni\\lib\\site-packages\\sklearn\\model_selection\\_search.py:969: UserWarning: One or more of the test scores are non-finite: [0.71047619 0.71047619 0.71047619 0.61142857 0.71047619 0.71047619\n",
      " 0.71047619 0.71047619 0.68285714 0.72285714 0.73809524 0.72380952\n",
      " 0.73619048 0.73619048 0.68095238 0.70857143 0.75142857 0.73714286\n",
      " 0.65333333 0.65333333 0.62571429 0.68095238 0.73714286 0.73714286\n",
      " 0.70761905 0.70761905 0.70761905 0.69333333 0.70761905 0.70761905\n",
      " 0.74857143 0.74857143 0.72190476 0.70761905 0.73619048 0.73619048\n",
      " 0.68       0.68       0.69428571 0.68190476 0.69428571 0.70857143\n",
      " 0.72285714 0.72190476 0.75047619 0.72285714 0.74952381 0.74952381\n",
      " 0.70761905 0.70666667 0.72095238 0.70761905 0.70666667 0.72095238\n",
      " 0.72095238 0.70666667 0.72095238 0.69428571 0.69333333 0.67904762\n",
      " 0.70761905 0.70666667 0.70666667 0.75047619 0.68       0.68\n",
      " 0.72095238 0.70761905 0.72095238 0.74857143 0.76380952 0.73619048\n",
      " 0.74952381 0.72190476 0.72190476 0.77619048 0.74857143 0.73619048\n",
      " 0.76380952 0.75047619 0.76380952        nan        nan        nan\n",
      "        nan        nan        nan]\n",
      "  warnings.warn(\n"
     ]
    }
   ],
   "source": [
    "#KNN-re keresztvalidációval mahalanobis-szal\n",
    "from sklearn.neighbors import KNeighborsClassifier\n",
    "from sklearn.model_selection import cross_val_score\n",
    "\n",
    "\n",
    "#distance függvény\n",
    "def squared(array):\n",
    "    return 1/array**2\n",
    "\n",
    "\n",
    "\n",
    "pipeline = imbpipeline(steps = [['classifier', KNeighborsClassifier(metric=\"mahalanobis\", metric_params={'V': np.cov(m=X_train.astype(float), rowvar=False)})]])\n",
    "param_grid = {'classifier__n_neighbors':[i for i in range(1,30)], 'classifier__weights':['uniform', 'distance', squared]}\n",
    "\n",
    "knn_mahal_grid_search = GridSearchCV(estimator=pipeline,\n",
    "                               param_grid=param_grid,\n",
    "                               scoring='accuracy',\n",
    "                               cv=stratified_kfold,\n",
    "                               n_jobs=-1)\n",
    "\n",
    "\n",
    "knn_mahal_grid_search.fit(X_train, y_train)\n",
    "cv_score = knn_mahal_grid_search.best_score_\n",
    "knn_mahal = knn_mahal_grid_search.score(X_test, y_test)\n",
    "print(\"Mahalanobis kNN:\")\n",
    "print({'cv_score':cv_score, 'test_score':knn_mahal})\n",
    "print(\"Params:\")\n",
    "print(knn_mahal_grid_search.best_params_)\n"
   ]
  },
  {
   "cell_type": "code",
   "execution_count": 53,
   "id": "9680dd02",
   "metadata": {
    "scrolled": true
   },
   "outputs": [
    {
     "name": "stdout",
     "output_type": "stream",
     "text": [
      "Euclidian kNN:\n",
      "{'cv_score': 0.8495238095238096, 'test_score': 0.6875}\n",
      "Params:\n",
      "{'classifier__n_neighbors': 19, 'classifier__weights': 'uniform'}\n"
     ]
    }
   ],
   "source": [
    "#KNN-re keresztvalidációval euklidészi távolsággal\n",
    "\n",
    "pipeline = Pipeline(steps = [['classifier', KNeighborsClassifier(metric=\"euclidean\")]])\n",
    "param_grid = {'classifier__n_neighbors':[i for i in range(1,30)], 'classifier__weights':['uniform', 'distance', squared]}\n",
    "\n",
    "knn_eu_grid_search = GridSearchCV(estimator=pipeline,\n",
    "                               param_grid=param_grid,\n",
    "                               scoring='accuracy',\n",
    "                               cv=stratified_kfold,\n",
    "                               n_jobs=-1)\n",
    "\n",
    "\n",
    "knn_eu_grid_search.fit(X_train, y_train)\n",
    "cv_score = knn_eu_grid_search.best_score_\n",
    "knn_eu = knn_eu_grid_search.score(X_test, y_test)\n",
    "print(\"Euclidian kNN:\")\n",
    "print({'cv_score':cv_score, 'test_score':knn_eu})\n",
    "print(\"Params:\")\n",
    "print(knn_eu_grid_search.best_params_)\n",
    "\n",
    "\n"
   ]
  },
  {
   "cell_type": "code",
   "execution_count": 54,
   "id": "da28c735",
   "metadata": {},
   "outputs": [
    {
     "name": "stdout",
     "output_type": "stream",
     "text": [
      "kNN with Mahalanobis:\n",
      "- Optmial parameters: {'classifier__n_neighbors': 26, 'classifier__weights': 'uniform'} \n",
      "- Accuracy: 0.6875\n",
      "kNN with Euclidean:\n",
      "- Optimal parameters: {'classifier__n_neighbors': 19, 'classifier__weights': 'uniform'} \n",
      "- Accuracy: 0.6875\n"
     ]
    }
   ],
   "source": [
    "#összesítve kNN\n",
    "print(f'kNN with Mahalanobis:')\n",
    "print(f'- Optmial parameters: {knn_mahal_grid_search.best_params_} \\n- Accuracy: {knn_mahal}')\n",
    "print(f'kNN with Euclidean:')\n",
    "print(f'- Optimal parameters: {knn_eu_grid_search.best_params_} \\n- Accuracy: {knn_eu}')"
   ]
  },
  {
   "cell_type": "markdown",
   "id": "51feab05",
   "metadata": {},
   "source": [
    "**SVM**"
   ]
  },
  {
   "cell_type": "code",
   "execution_count": 55,
   "id": "46d07ec4",
   "metadata": {},
   "outputs": [
    {
     "name": "stdout",
     "output_type": "stream",
     "text": [
      "SVM:\n",
      "{'cv_score': 0.8342857142857142, 'test_score': 0.65625}\n",
      "Params:\n",
      "{'classifier__C': 1.0, 'classifier__kernel': 'rbf'}\n",
      "\n",
      "Accuracy: 0.66\n",
      "Precision: 0.66\n",
      "Recall: 0.66\n"
     ]
    }
   ],
   "source": [
    "#tesztelés megfelelő C-hez SVM-nél\n",
    "from sklearn.svm import SVC\n",
    "from sklearn.multiclass import OneVsRestClassifier\n",
    "\n",
    "pipeline = Pipeline(steps = [['classifier', SVC(class_weight = \"balanced\", random_state=0, decision_function_shape = 'ovr')]])\n",
    "param_grid = {'classifier__C':[i*0.1 for i in range(1,50)], 'classifier__kernel':['linear','poly','rbf']}\n",
    "\n",
    "SVM_grid_search = GridSearchCV(estimator=pipeline,\n",
    "                               param_grid=param_grid,\n",
    "                               scoring='accuracy',\n",
    "                               cv=stratified_kfold,\n",
    "                               n_jobs=-1)\n",
    "\n",
    "\n",
    "SVM_grid_search.fit(X_train, y_train)\n",
    "cv_score = SVM_grid_search.best_score_\n",
    "SVM_acc = SVM_grid_search.score(X_test, y_test)\n",
    "y_pred = SVM_grid_search.predict(X_test)\n",
    "print(\"SVM:\")\n",
    "print({'cv_score':cv_score, 'test_score':SVM_acc})\n",
    "print(\"Params:\")\n",
    "print(SVM_grid_search.best_params_)\n",
    "\n",
    "print(\"\")\n",
    "print(f'Accuracy: {round(sklearn.metrics.accuracy_score(y_test, y_pred),2)}')\n",
    "print(f'Precision: {round(sklearn.metrics.precision_score(y_test, y_pred, average = \"weighted\"),2)}')\n",
    "print(f'Recall: {round(sklearn.metrics.recall_score(y_test, y_pred, average = \"weighted\"),2)}')\n",
    "\n"
   ]
  },
  {
   "cell_type": "markdown",
   "id": "efdb25c2",
   "metadata": {},
   "source": [
    "**Logisztikus Regresszió**"
   ]
  },
  {
   "cell_type": "code",
   "execution_count": 56,
   "id": "afea7f24",
   "metadata": {},
   "outputs": [
    {
     "name": "stdout",
     "output_type": "stream",
     "text": [
      "Logistic Regression:\n",
      "{'cv_score': 0.7904761904761904, 'test_score': 0.71875}\n",
      "Params:\n",
      "{'classifier__C': 2.15, 'classifier__solver': 'sag'}\n",
      "\n",
      "Accuracy: 0.72\n",
      "Precision: 0.72\n",
      "Recall: 0.72\n"
     ]
    }
   ],
   "source": [
    "#logisztikus regresszióra\n",
    "from sklearn.linear_model import LogisticRegression\n",
    "\n",
    "pipeline = Pipeline(steps = [['classifier', LogisticRegression(class_weight = \"balanced\", random_state=0, max_iter = 5000, multi_class = 'ovr')]])\n",
    "param_grid = {'classifier__C':[i*0.05 for i in range(1,100)], 'classifier__solver':['sag','saga']}\n",
    "\n",
    "log_grid_search = GridSearchCV(estimator=pipeline,\n",
    "                               param_grid=param_grid,\n",
    "                               scoring='accuracy',\n",
    "                               cv=stratified_kfold,\n",
    "                               n_jobs=-1)\n",
    "\n",
    "\n",
    "log_grid_search.fit(X_train, y_train)\n",
    "cv_score = log_grid_search.best_score_\n",
    "log_acc = log_grid_search.score(X_test, y_test)\n",
    "y_pred = log_grid_search.predict(X_test)\n",
    "print(\"Logistic Regression:\")\n",
    "print({'cv_score':cv_score, 'test_score':log_acc})\n",
    "print(\"Params:\")\n",
    "print(log_grid_search.best_params_)\n",
    "\n",
    "print(\"\")\n",
    "print(f'Accuracy: {round(sklearn.metrics.accuracy_score(y_test, y_pred),2)}')\n",
    "print(f'Precision: {round(sklearn.metrics.precision_score(y_test, y_pred, average = \"weighted\"),2)}')\n",
    "print(f'Recall: {round(sklearn.metrics.recall_score(y_test, y_pred, average = \"weighted\"),2)}')\n"
   ]
  },
  {
   "cell_type": "markdown",
   "id": "02378592",
   "metadata": {},
   "source": [
    "**Naive Bayes**"
   ]
  },
  {
   "cell_type": "code",
   "execution_count": 57,
   "id": "1a2f082a",
   "metadata": {},
   "outputs": [
    {
     "name": "stdout",
     "output_type": "stream",
     "text": [
      "Accuracy: 0.81\n"
     ]
    }
   ],
   "source": [
    "#Naive bayes-szel\n",
    "from sklearn.naive_bayes import GaussianNB\n",
    "\n",
    "clf = GaussianNB()\n",
    "clf.fit(X_train, y_train)\n",
    "y_pred = clf.predict(X_test)\n",
    "bayes_acc = round(sklearn.metrics.accuracy_score(y_test, y_pred),2)\n",
    "\n",
    "print(f'Accuracy: {round(sklearn.metrics.accuracy_score(y_test, y_pred),2)}')"
   ]
  },
  {
   "cell_type": "code",
   "execution_count": 58,
   "id": "b60f89fd",
   "metadata": {},
   "outputs": [
    {
     "name": "stdout",
     "output_type": "stream",
     "text": [
      "Accuracy with different algorithms:\n",
      "- SVM: 0.65625 \n",
      "- Logistic Regression: 0.71875 \n",
      "- Naive Bayes: 0.81\n"
     ]
    }
   ],
   "source": [
    "#az előző 3 kiértékelése\n",
    "print(\"Accuracy with different algorithms:\")\n",
    "print(f'- SVM: {SVM_acc} \\n- Logistic Regression: {log_acc} \\n- Naive Bayes: {bayes_acc}')"
   ]
  },
  {
   "cell_type": "markdown",
   "id": "0bfbe195",
   "metadata": {},
   "source": [
    "**Gradient Boosting**"
   ]
  },
  {
   "cell_type": "code",
   "execution_count": 59,
   "id": "8111ce38",
   "metadata": {},
   "outputs": [
    {
     "name": "stdout",
     "output_type": "stream",
     "text": [
      "Gradient Boosting:\n",
      "{'cv_score': 0.7780952380952381, 'test_score': 0.71875}\n",
      "Params:\n",
      "{'classifier__criterion': 'squared_error', 'classifier__learning_rate': 0.28, 'classifier__max_depth': 4, 'classifier__n_estimators': 40}\n",
      "\n",
      "Accuracy: 0.72\n",
      "Precision: 0.74\n",
      "Recall: 0.72\n"
     ]
    }
   ],
   "source": [
    "from sklearn.ensemble import GradientBoostingClassifier\n",
    "\n",
    "pipeline = Pipeline(steps = [['classifier', GradientBoostingClassifier(random_state=0)]])\n",
    "param_grid = {'classifier__learning_rate':[0.01*i for i in range(1,50)],\n",
    "              'classifier__n_estimators':[5*i for i in range(1,10)], 'classifier__criterion':['squared_error','friedman_mse'],\n",
    "              'classifier__max_depth':[3,4,5]}\n",
    "\n",
    "grad_grid_search = GridSearchCV(estimator=pipeline,\n",
    "                               param_grid=param_grid,\n",
    "                               scoring='accuracy',\n",
    "                               cv=stratified_kfold,\n",
    "                               n_jobs=-1)\n",
    "\n",
    "\n",
    "grad_grid_search.fit(X_train, y_train)\n",
    "cv_score = grad_grid_search.best_score_\n",
    "grad_acc = grad_grid_search.score(X_test, y_test)\n",
    "y_pred = grad_grid_search.predict(X_test)\n",
    "print(\"Gradient Boosting:\")\n",
    "print({'cv_score':cv_score, 'test_score':grad_acc})\n",
    "print(\"Params:\")\n",
    "print(grad_grid_search.best_params_)\n",
    "\n",
    "print(\"\")\n",
    "print(f'Accuracy: {round(sklearn.metrics.accuracy_score(y_test, y_pred),2)}')\n",
    "print(f'Precision: {round(sklearn.metrics.precision_score(y_test, y_pred, average = \"weighted\"),2)}')\n",
    "print(f'Recall: {round(sklearn.metrics.recall_score(y_test, y_pred, average = \"weighted\"),2)}')"
   ]
  },
  {
   "cell_type": "markdown",
   "id": "e7077fba",
   "metadata": {},
   "source": [
    "**Lineáris regresszió**"
   ]
  },
  {
   "cell_type": "code",
   "execution_count": 60,
   "id": "7b92eb59",
   "metadata": {},
   "outputs": [
    {
     "data": {
      "text/plain": [
       "0.424858422453393"
      ]
     },
     "execution_count": 60,
     "metadata": {},
     "output_type": "execute_result"
    }
   ],
   "source": [
    "#ezek után nem oneVSall: lineáris regresszió\n",
    "from sklearn.linear_model import LinearRegression\n",
    "\n",
    "reg_alap = LinearRegression().fit(features,label)\n",
    "reg_alap.score(features, label)         "
   ]
  },
  {
   "cell_type": "code",
   "execution_count": 61,
   "id": "c8d4d083",
   "metadata": {},
   "outputs": [
    {
     "name": "stdout",
     "output_type": "stream",
     "text": [
      "Coefficients: [-0.13749953  0.15594944  0.04724103 -0.12925569 -0.26713237  0.45391455\n",
      " -0.19341344  0.61163434  0.42966223 -0.03153951  0.09070248]\n",
      "RMSE: 0.44\n"
     ]
    }
   ],
   "source": [
    "#most nézzük a tanítóhalmazon és a teszthalmazon\n",
    "\n",
    "reg = LinearRegression().fit(X_train,y_train)\n",
    "reg_pred = reg.predict(X_test)\n",
    "\n",
    "#együtthatók\n",
    "print(\"Coefficients:\", reg.coef_)\n",
    "#RMSE\n",
    "\n",
    "rmse = round(np.power(np.sum(np.power(y_test - reg_pred, 2))/reg_pred.shape[0],0.5),2)\n",
    "print(\"RMSE:\", rmse)"
   ]
  },
  {
   "cell_type": "code",
   "execution_count": 62,
   "id": "fce26067",
   "metadata": {},
   "outputs": [
    {
     "data": {
      "text/plain": [
       "<function matplotlib.pyplot.show(close=None, block=None)>"
      ]
     },
     "execution_count": 62,
     "metadata": {},
     "output_type": "execute_result"
    },
    {
     "data": {
      "image/png": "[encoded data removed]",
      "text/plain": [
       "<Figure size 432x288 with 1 Axes>"
      ]
     },
     "metadata": {
      "needs_background": "light"
     },
     "output_type": "display_data"
    }
   ],
   "source": [
    "#Nézzük meg a reziduális tagokat\n",
    "\n",
    "import matplotlib.pyplot as plt\n",
    "\n",
    "plt.scatter(reg_pred, y_test-reg_pred)\n",
    "plt.plot(reg_pred, [0 for i in range(reg_pred.shape[0])], c=\"red\") #0-vonal\n",
    "plt.title(\"Reziduális tagok\")\n",
    "plt.axis\n",
    "plt.show"
   ]
  },
  {
   "cell_type": "code",
   "execution_count": 63,
   "id": "4ec80589",
   "metadata": {},
   "outputs": [
    {
     "data": {
      "text/plain": [
       "0.31"
      ]
     },
     "execution_count": 63,
     "metadata": {},
     "output_type": "execute_result"
    }
   ],
   "source": [
    "#R^2 és SSR\n",
    "SST = np.sum(np.power(y_test-np.mean(y_test),2))\n",
    "SSR = np.sum(np.power(reg_pred-np.mean(y_test),2))\n",
    "R2 = round(SSR/SST,2)\n",
    "R2"
   ]
  },
  {
   "cell_type": "code",
   "execution_count": 64,
   "id": "77a08293",
   "metadata": {},
   "outputs": [
    {
     "name": "stdout",
     "output_type": "stream",
     "text": [
      "RMSE: 0.56\n",
      "0.69\n"
     ]
    }
   ],
   "source": [
    "#másik: kerekítsük a becsült értékeket\n",
    "\n",
    "for i in range(reg_pred.shape[0]):\n",
    "    reg_pred[i] = round(reg_pred[i],0)\n",
    "\n",
    "rmse_rounded = round(np.power(np.sum(np.power(y_test - reg_pred, 2))/reg_pred.shape[0],0.5),2)\n",
    "print(\"RMSE:\", rmse_rounded)\n",
    "lin_acc = round(sklearn.metrics.accuracy_score(y_test, reg_pred),2)\n",
    "print(round(sklearn.metrics.accuracy_score(y_test, reg_pred),2))"
   ]
  },
  {
   "cell_type": "code",
   "execution_count": 65,
   "id": "23ae4ebb",
   "metadata": {},
   "outputs": [
    {
     "name": "stdout",
     "output_type": "stream",
     "text": [
      "Linear regression:\n",
      "- RMSE: 0.44 \n",
      "- R2: 0.31 \n",
      "- RMSE after rounding: 0.56 \n",
      "- Accuracy after rounding: 0.69\n"
     ]
    }
   ],
   "source": [
    "#lineáris regresszió összesen:\n",
    "print(\"Linear regression:\")\n",
    "print(f'- RMSE: {rmse} \\n- R2: {R2} \\n- RMSE after rounding: {rmse_rounded} \\n- Accuracy after rounding: {lin_acc}')"
   ]
  },
  {
   "cell_type": "markdown",
   "id": "ce8a9153",
   "metadata": {},
   "source": [
    "### Eredmények összesítve"
   ]
  },
  {
   "cell_type": "code",
   "execution_count": 66,
   "id": "2636c7fc",
   "metadata": {},
   "outputs": [
    {
     "name": "stdout",
     "output_type": "stream",
     "text": [
      "kNN with Mahalanobis:\n",
      "- Optmial number of neighbours: {'classifier__n_neighbors': 26, 'classifier__weights': 'uniform'} \n",
      "- Accuracy: 0.6875\n",
      "kNN with Euclidean:\n",
      "- Optimal number of neighbours: {'classifier__n_neighbors': 19, 'classifier__weights': 'uniform'} \n",
      "- Accuracy: 0.6875\n",
      "SVM:\n",
      "- Accuracy: 0.65625\n",
      "Logistic Regression:\n",
      "- Accuracy: 0.71875\n",
      "Naive Bayes:\n",
      "- Accuracy: 0.81\n",
      "Linear regression:\n",
      "- RMSE: 0.44 \n",
      "- R2: 0.31 \n",
      "- RMSE after rounding: 0.56 \n",
      "- Accuracy after rounding: 0.69\n"
     ]
    }
   ],
   "source": [
    "#összes teljes mindenes\n",
    "#összesítve kNN\n",
    "print(f'kNN with Mahalanobis:')\n",
    "print(f'- Optmial number of neighbours: {knn_mahal_grid_search.best_params_} \\n- Accuracy: {knn_mahal}')\n",
    "print(f'kNN with Euclidean:')\n",
    "print(f'- Optimal number of neighbours: {knn_eu_grid_search.best_params_} \\n- Accuracy: {knn_eu}')\n",
    "print(\"SVM:\")\n",
    "print(f'- Accuracy: {SVM_acc}')\n",
    "print(\"Logistic Regression:\")\n",
    "print(f'- Accuracy: {log_acc}')\n",
    "print(\"Naive Bayes:\")\n",
    "print(f'- Accuracy: {bayes_acc}')\n",
    "print(\"Linear regression:\")\n",
    "print(f'- RMSE: {rmse} \\n- R2: {R2} \\n- RMSE after rounding: {rmse_rounded} \\n- Accuracy after rounding: {lin_acc}')"
   ]
  },
  {
   "cell_type": "markdown",
   "id": "dbcf75a3",
   "metadata": {},
   "source": [
    "# PCA"
   ]
  },
  {
   "cell_type": "code",
   "execution_count": 67,
   "id": "96fbe92b",
   "metadata": {},
   "outputs": [
    {
     "data": {
      "text/plain": [
       "[0.5, 0.59, 0.75, 0.69, 0.72, 0.59, 0.62, 0.66, 0.81]"
      ]
     },
     "execution_count": 67,
     "metadata": {},
     "output_type": "execute_result"
    }
   ],
   "source": [
    "#főkomponens analízissel\n",
    "#nézzük, mennyi főkomponenssel lesz a legjobb. (pl a logisztikus regresszió)\n",
    "from sklearn.decomposition import PCA\n",
    "\n",
    "scores = []\n",
    "\n",
    "for i in range(2,11):\n",
    "    projected = PCA(i).fit_transform(features)\n",
    "    X_train, X_test, y_train, y_test = train_test_split(projected, label, test_size=0.3, random_state=0)\n",
    "    neigh = KNeighborsClassifier(n_neighbors=i, metric=\"mahalanobis\", metric_params={'V': np.cov(m=X_train.astype(float), rowvar=False)})\n",
    "    neigh = neigh.fit(X_train,y_train)\n",
    "    y_pred = neigh.predict(X_test)\n",
    "    scores.append(round(sklearn.metrics.accuracy_score(y_test, y_pred),2))\n",
    "    \n",
    "scores"
   ]
  },
  {
   "cell_type": "code",
   "execution_count": 68,
   "id": "bf1031ff",
   "metadata": {},
   "outputs": [
    {
     "name": "stdout",
     "output_type": "stream",
     "text": [
      "Accuracy: 0.75\n",
      "Precision: 0.75\n",
      "Recall: 0.75\n"
     ]
    }
   ],
   "source": [
    "#főkomponenses logreg\n",
    "from sklearn.decomposition import PCA\n",
    "projected = PCA(4).fit_transform(features)\n",
    "X_train, X_test, y_train, y_test = train_test_split(projected, label, test_size=0.3, random_state=0)\n",
    "\n",
    "logreg = OneVsRestClassifier(LogisticRegression(class_weight = \"balanced\", random_state=0, max_iter = 10000)).fit(X_train, y_train)\n",
    "y_pred = logreg.predict(X_test)\n",
    "\n",
    "print(f'Accuracy: {round(sklearn.metrics.accuracy_score(y_test, y_pred),2)}')\n",
    "print(f'Precision: {round(sklearn.metrics.precision_score(y_test, y_pred, average = \"macro\"),2)}')\n",
    "print(f'Recall: {round(sklearn.metrics.recall_score(y_test, y_pred, average = \"macro\"),2)}')"
   ]
  },
  {
   "cell_type": "code",
   "execution_count": 69,
   "id": "7f2029ad",
   "metadata": {},
   "outputs": [
    {
     "name": "stderr",
     "output_type": "stream",
     "text": [
      "D:\\anaconda3\\envs\\otthoni\\lib\\site-packages\\sklearn\\preprocessing\\_data.py:2590: UserWarning: n_quantiles (1000) is greater than the total number of samples (72). n_quantiles is set to n_samples.\n",
      "  warnings.warn(\n",
      "D:\\anaconda3\\envs\\otthoni\\lib\\site-packages\\sklearn\\preprocessing\\_data.py:2590: UserWarning: n_quantiles (1000) is greater than the total number of samples (72). n_quantiles is set to n_samples.\n",
      "  warnings.warn(\n",
      "D:\\anaconda3\\envs\\otthoni\\lib\\site-packages\\sklearn\\preprocessing\\_data.py:2590: UserWarning: n_quantiles (1000) is greater than the total number of samples (72). n_quantiles is set to n_samples.\n",
      "  warnings.warn(\n",
      "D:\\anaconda3\\envs\\otthoni\\lib\\site-packages\\sklearn\\preprocessing\\_data.py:2590: UserWarning: n_quantiles (1000) is greater than the total number of samples (72). n_quantiles is set to n_samples.\n",
      "  warnings.warn(\n",
      "D:\\anaconda3\\envs\\otthoni\\lib\\site-packages\\sklearn\\preprocessing\\_data.py:2590: UserWarning: n_quantiles (1000) is greater than the total number of samples (72). n_quantiles is set to n_samples.\n",
      "  warnings.warn(\n",
      "D:\\anaconda3\\envs\\otthoni\\lib\\site-packages\\sklearn\\preprocessing\\_data.py:2590: UserWarning: n_quantiles (1000) is greater than the total number of samples (72). n_quantiles is set to n_samples.\n",
      "  warnings.warn(\n",
      "D:\\anaconda3\\envs\\otthoni\\lib\\site-packages\\sklearn\\preprocessing\\_data.py:2590: UserWarning: n_quantiles (1000) is greater than the total number of samples (72). n_quantiles is set to n_samples.\n",
      "  warnings.warn(\n",
      "D:\\anaconda3\\envs\\otthoni\\lib\\site-packages\\sklearn\\preprocessing\\_data.py:2590: UserWarning: n_quantiles (1000) is greater than the total number of samples (72). n_quantiles is set to n_samples.\n",
      "  warnings.warn(\n"
     ]
    }
   ],
   "source": [
    "#nézzük meg, hogy főkompononensenként hogy változnak a különböző algoritmusok eredménymutatói, és rakjuk dataframe-be!\n",
    "PCA_scores = pd.DataFrame({\"Főkomponensek száma\":[], \"Gradient Boosting Acc.\":[], \"Naive Bayes Acc.\":[], \"Logreg Acc.\":[], \"SVM Acc.\":[], \"Linreg RMSE\":[], \"Linreg R2\":[], \n",
    "                           \"Linreg RMSE kerekített\":[], \"Linreg Acc kerekített\":[]})\n",
    "\n",
    "\n",
    "for i in range(1,9):\n",
    "    projected = PCA(i).fit_transform(features)\n",
    "    X_train, X_test, y_train, y_test = train_test_split(projected, label, test_size=0.3, random_state=0)\n",
    "    \n",
    "    from sklearn import preprocessing\n",
    "    quantile_transformer = preprocessing.QuantileTransformer(random_state=0)\n",
    "    X_train = quantile_transformer.fit_transform(X_train)\n",
    "    X_test = quantile_transformer.transform(X_test)\n",
    "    \n",
    "    ### OPTIMALIZÁLÁS\n",
    "    \n",
    "    # Logreg\n",
    "    \n",
    "    pipeline = Pipeline(steps = [['classifier', LogisticRegression(class_weight = \"balanced\", random_state=0, max_iter = 5000, multi_class = 'ovr')]])\n",
    "    param_grid = {'classifier__C':[i*0.05 for i in range(1,100)], 'classifier__solver':['sag','saga']}\n",
    "\n",
    "    log_grid_search = GridSearchCV(estimator=pipeline,\n",
    "                                   param_grid=param_grid,\n",
    "                                   scoring='accuracy',\n",
    "                                   cv=stratified_kfold,\n",
    "                                   n_jobs=-1)\n",
    "\n",
    "\n",
    "    log_grid_search.fit(X_train, y_train)\n",
    "    cv_score = log_grid_search.best_score_\n",
    "    log_acc = round(log_grid_search.score(X_test, y_test),4)\n",
    "    \n",
    "    # Naive Bayes \n",
    "    \n",
    "    clf = GaussianNB()\n",
    "    clf.fit(X_train, y_train)\n",
    "    y_pred = clf.predict(X_test)\n",
    "    bayes_acc = round(sklearn.metrics.accuracy_score(y_test, y_pred),4)\n",
    "\n",
    "    # SVM\n",
    "    \n",
    "    pipeline = Pipeline(steps = [['classifier', SVC(class_weight = \"balanced\", random_state=0, decision_function_shape = 'ovr')]])\n",
    "    param_grid = {'classifier__C':[i*0.1 for i in range(1,50)], 'classifier__kernel':['linear','poly','rbf']}\n",
    "\n",
    "    SVM_grid_search = GridSearchCV(estimator=pipeline,\n",
    "                                   param_grid=param_grid,\n",
    "                                   scoring='accuracy',\n",
    "                                   cv=stratified_kfold,\n",
    "                                   n_jobs=-1)\n",
    "\n",
    "\n",
    "    SVM_grid_search.fit(X_train, y_train)\n",
    "    cv_score = SVM_grid_search.best_score_\n",
    "    SVM_acc = round(SVM_grid_search.score(X_test, y_test),4)\n",
    "    \n",
    "    # GradBoost\n",
    "    \n",
    "    pipeline = Pipeline(steps = [['classifier', GradientBoostingClassifier(random_state=0)]])\n",
    "    param_grid = {'classifier__learning_rate':[0.01*i for i in range(1,50)],\n",
    "                  'classifier__n_estimators':[5*i for i in range(1,10)], 'classifier__criterion':['squared_error','friedman_mse'],\n",
    "                  'classifier__max_depth':[3,4,5]}\n",
    "\n",
    "    grad_grid_search = GridSearchCV(estimator=pipeline,\n",
    "                                   param_grid=param_grid,\n",
    "                                   scoring='accuracy',\n",
    "                                   cv=stratified_kfold,\n",
    "                                   n_jobs=-1)\n",
    "\n",
    "\n",
    "    grad_grid_search.fit(X_train, y_train)\n",
    "    cv_score = grad_grid_search.best_score_\n",
    "    grad_acc = round(grad_grid_search.score(X_test, y_test),4)\n",
    "    \n",
    "    # Linreg\n",
    "\n",
    "    reg = LinearRegression().fit(X_train,y_train)\n",
    "    reg_pred = reg.predict(X_test)\n",
    "    \n",
    "    rmse = round(np.power(np.sum(np.power(y_test - reg_pred, 2))/reg_pred.shape[0],0.5),4)\n",
    "    \n",
    "    SST = np.sum(np.power(y_test-np.mean(y_test),2))\n",
    "    SSR = np.sum(np.power(reg_pred-np.mean(y_test),2))\n",
    "    R2 = round(SSR/SST,4)\n",
    "    R2\n",
    "    \n",
    "    for j in range(reg_pred.shape[0]):\n",
    "        reg_pred[j] = round(reg_pred[j],0)\n",
    "\n",
    "    rmse_rounded = round(np.power(np.sum(np.power(y_test - reg_pred, 2))/reg_pred.shape[0],0.5),4)\n",
    "    lin_acc = round(sklearn.metrics.accuracy_score(y_test, reg_pred),4)\n",
    "    reg_pred_rounded = round(sklearn.metrics.accuracy_score(y_test, reg_pred),4)\n",
    "    \n",
    "    \n",
    "    #új sor a dataframe-be\n",
    "    new_row = {\"Főkomponensek száma\":str(i), \"Gradient Boosting Acc.\":grad_acc, \"Naive Bayes Acc.\":bayes_acc ,\"Logreg Acc.\":log_acc, \"SVM Acc.\":SVM_acc, \"Linreg RMSE\":rmse, \"Linreg R2\":R2, \n",
    "               \"Linreg RMSE kerekített\":rmse_rounded, \"Linreg Acc kerekített\":reg_pred_rounded}\n",
    "    PCA_scores = PCA_scores.append(new_row, ignore_index=True)"
   ]
  },
  {
   "cell_type": "code",
   "execution_count": 70,
   "id": "d3314d71",
   "metadata": {},
   "outputs": [
    {
     "data": {
      "text/html": [
       "<div>\n",
       "<style scoped>\n",
       "    .dataframe tbody tr th:only-of-type {\n",
       "        vertical-align: middle;\n",
       "    }\n",
       "\n",
       "    .dataframe tbody tr th {\n",
       "        vertical-align: top;\n",
       "    }\n",
       "\n",
       "    .dataframe thead th {\n",
       "        text-align: right;\n",
       "    }\n",
       "</style>\n",
       "<table border=\"1\" class=\"dataframe\">\n",
       "  <thead>\n",
       "    <tr style=\"text-align: right;\">\n",
       "      <th></th>\n",
       "      <th>Főkomponensek száma</th>\n",
       "      <th>Gradient Boosting Acc.</th>\n",
       "      <th>Naive Bayes Acc.</th>\n",
       "      <th>Logreg Acc.</th>\n",
       "      <th>SVM Acc.</th>\n",
       "      <th>Linreg RMSE</th>\n",
       "      <th>Linreg R2</th>\n",
       "      <th>Linreg RMSE kerekített</th>\n",
       "      <th>Linreg Acc kerekített</th>\n",
       "    </tr>\n",
       "  </thead>\n",
       "  <tbody>\n",
       "    <tr>\n",
       "      <th>0</th>\n",
       "      <td>1</td>\n",
       "      <td>0.5312</td>\n",
       "      <td>0.7812</td>\n",
       "      <td>0.8125</td>\n",
       "      <td>0.7188</td>\n",
       "      <td>0.4251</td>\n",
       "      <td>0.1996</td>\n",
       "      <td>0.4330</td>\n",
       "      <td>0.8125</td>\n",
       "    </tr>\n",
       "    <tr>\n",
       "      <th>1</th>\n",
       "      <td>2</td>\n",
       "      <td>0.5625</td>\n",
       "      <td>0.7812</td>\n",
       "      <td>0.7812</td>\n",
       "      <td>0.8438</td>\n",
       "      <td>0.4218</td>\n",
       "      <td>0.2147</td>\n",
       "      <td>0.4677</td>\n",
       "      <td>0.7812</td>\n",
       "    </tr>\n",
       "    <tr>\n",
       "      <th>2</th>\n",
       "      <td>3</td>\n",
       "      <td>0.6562</td>\n",
       "      <td>0.7188</td>\n",
       "      <td>0.7188</td>\n",
       "      <td>0.6875</td>\n",
       "      <td>0.4102</td>\n",
       "      <td>0.3348</td>\n",
       "      <td>0.5303</td>\n",
       "      <td>0.7188</td>\n",
       "    </tr>\n",
       "    <tr>\n",
       "      <th>3</th>\n",
       "      <td>4</td>\n",
       "      <td>0.6562</td>\n",
       "      <td>0.7188</td>\n",
       "      <td>0.6875</td>\n",
       "      <td>0.6875</td>\n",
       "      <td>0.4094</td>\n",
       "      <td>0.3365</td>\n",
       "      <td>0.5303</td>\n",
       "      <td>0.7188</td>\n",
       "    </tr>\n",
       "    <tr>\n",
       "      <th>4</th>\n",
       "      <td>5</td>\n",
       "      <td>0.5625</td>\n",
       "      <td>0.7188</td>\n",
       "      <td>0.7188</td>\n",
       "      <td>0.6562</td>\n",
       "      <td>0.4088</td>\n",
       "      <td>0.3326</td>\n",
       "      <td>0.5303</td>\n",
       "      <td>0.7188</td>\n",
       "    </tr>\n",
       "    <tr>\n",
       "      <th>5</th>\n",
       "      <td>6</td>\n",
       "      <td>0.6875</td>\n",
       "      <td>0.7188</td>\n",
       "      <td>0.7188</td>\n",
       "      <td>0.7812</td>\n",
       "      <td>0.4075</td>\n",
       "      <td>0.3282</td>\n",
       "      <td>0.5303</td>\n",
       "      <td>0.7188</td>\n",
       "    </tr>\n",
       "    <tr>\n",
       "      <th>6</th>\n",
       "      <td>7</td>\n",
       "      <td>0.6250</td>\n",
       "      <td>0.7500</td>\n",
       "      <td>0.8438</td>\n",
       "      <td>0.8125</td>\n",
       "      <td>0.4001</td>\n",
       "      <td>0.3449</td>\n",
       "      <td>0.4330</td>\n",
       "      <td>0.8125</td>\n",
       "    </tr>\n",
       "    <tr>\n",
       "      <th>7</th>\n",
       "      <td>8</td>\n",
       "      <td>0.6875</td>\n",
       "      <td>0.7500</td>\n",
       "      <td>0.7812</td>\n",
       "      <td>0.7812</td>\n",
       "      <td>0.3987</td>\n",
       "      <td>0.3867</td>\n",
       "      <td>0.4677</td>\n",
       "      <td>0.7812</td>\n",
       "    </tr>\n",
       "  </tbody>\n",
       "</table>\n",
       "</div>"
      ],
      "text/plain": [
       "  Főkomponensek száma  Gradient Boosting Acc.  Naive Bayes Acc.  Logreg Acc.  \\\n",
       "0                   1                  0.5312            0.7812       0.8125   \n",
       "1                   2                  0.5625            0.7812       0.7812   \n",
       "2                   3                  0.6562            0.7188       0.7188   \n",
       "3                   4                  0.6562            0.7188       0.6875   \n",
       "4                   5                  0.5625            0.7188       0.7188   \n",
       "5                   6                  0.6875            0.7188       0.7188   \n",
       "6                   7                  0.6250            0.7500       0.8438   \n",
       "7                   8                  0.6875            0.7500       0.7812   \n",
       "\n",
       "   SVM Acc.  Linreg RMSE  Linreg R2  Linreg RMSE kerekített  \\\n",
       "0    0.7188       0.4251     0.1996                  0.4330   \n",
       "1    0.8438       0.4218     0.2147                  0.4677   \n",
       "2    0.6875       0.4102     0.3348                  0.5303   \n",
       "3    0.6875       0.4094     0.3365                  0.5303   \n",
       "4    0.6562       0.4088     0.3326                  0.5303   \n",
       "5    0.7812       0.4075     0.3282                  0.5303   \n",
       "6    0.8125       0.4001     0.3449                  0.4330   \n",
       "7    0.7812       0.3987     0.3867                  0.4677   \n",
       "\n",
       "   Linreg Acc kerekített  \n",
       "0                 0.8125  \n",
       "1                 0.7812  \n",
       "2                 0.7188  \n",
       "3                 0.7188  \n",
       "4                 0.7188  \n",
       "5                 0.7188  \n",
       "6                 0.8125  \n",
       "7                 0.7812  "
      ]
     },
     "execution_count": 70,
     "metadata": {},
     "output_type": "execute_result"
    }
   ],
   "source": [
    "PCA_scores"
   ]
  },
  {
   "cell_type": "markdown",
   "id": "e76abde0",
   "metadata": {},
   "source": [
    "# Biomérnökök"
   ]
  },
  {
   "cell_type": "code",
   "execution_count": 71,
   "id": "55264bf7",
   "metadata": {},
   "outputs": [
    {
     "name": "stderr",
     "output_type": "stream",
     "text": [
      "D:\\anaconda3\\envs\\otthoni\\lib\\site-packages\\sklearn\\preprocessing\\_data.py:2590: UserWarning: n_quantiles (1000) is greater than the total number of samples (49). n_quantiles is set to n_samples.\n",
      "  warnings.warn(\n"
     ]
    }
   ],
   "source": [
    "from imblearn.over_sampling import SMOTE\n",
    "\n",
    "\n",
    "\n",
    "#smote = SMOTE(random_state = 42, k_neighbors = 4, sampling_strategy = {2: 145, 3: 80, 1: 25})\n",
    "\n",
    "biom = working_data.query(\"Szak == 'Biomérnöki'\")\n",
    "\n",
    "stratified_kfold = StratifiedKFold(n_splits=5,\n",
    "                                       shuffle=True,\n",
    "                                       random_state=11)\n",
    "\n",
    "features = biom.drop(labels = [\"Matematika A1a - Analízis\", \"Szak\", \"Matek helyes\",\"Kognitív pont\",  \"Összes pont\", \"Össz eredmény (átlag)\"], axis = 1)\n",
    "label = biom[\"Matematika A1a - Analízis\"]\n",
    "\n",
    "#itt nem kell SMOTE\n",
    "#features, label = smote.fit_resample(features, label)\n",
    "\n",
    "\n",
    "X_train, X_test, y_train, y_test = train_test_split(features, label, test_size=0.3, random_state=0, stratify=label)\n",
    "\n",
    "\n",
    "#skálázás\n",
    "\n",
    "from sklearn import preprocessing\n",
    "quantile_transformer = preprocessing.QuantileTransformer(random_state=0)\n",
    "X_train = quantile_transformer.fit_transform(X_train)\n",
    "X_test = quantile_transformer.transform(X_test)\n"
   ]
  },
  {
   "cell_type": "markdown",
   "id": "0d9d855f",
   "metadata": {},
   "source": [
    "# Osztályozó algoritmusok\n",
    "\n",
    "**KNN**"
   ]
  },
  {
   "cell_type": "code",
   "execution_count": 72,
   "id": "35febabc",
   "metadata": {},
   "outputs": [
    {
     "name": "stdout",
     "output_type": "stream",
     "text": [
      "Mahalanobis kNN:\n",
      "{'cv_score': 0.7955555555555556, 'test_score': 0.7727272727272727}\n",
      "Params:\n",
      "{'classifier__n_neighbors': 1, 'classifier__weights': 'distance'}\n"
     ]
    },
    {
     "name": "stderr",
     "output_type": "stream",
     "text": [
      "D:\\anaconda3\\envs\\otthoni\\lib\\site-packages\\sklearn\\model_selection\\_search.py:969: UserWarning: One or more of the test scores are non-finite: [0.44888889 0.79555556 0.79555556 0.69333333 0.79555556 0.79555556\n",
      " 0.61333333 0.79555556 0.79555556 0.73555556 0.79555556 0.79555556\n",
      " 0.69555556 0.79555556 0.79555556 0.75555556 0.79555556 0.79555556\n",
      " 0.75555556 0.79555556 0.79555556 0.77555556 0.79555556 0.79555556\n",
      " 0.75555556 0.79555556 0.79555556 0.79555556 0.79555556 0.79555556\n",
      " 0.79555556 0.79555556 0.79555556 0.79555556 0.79555556 0.79555556\n",
      " 0.79555556 0.79555556 0.79555556 0.79555556 0.79555556 0.79555556\n",
      " 0.79555556 0.79555556 0.79555556 0.79555556 0.79555556 0.79555556\n",
      " 0.79555556 0.79555556 0.79555556 0.79555556 0.79555556 0.79555556\n",
      "        nan        nan        nan        nan        nan        nan\n",
      "        nan        nan        nan        nan        nan        nan\n",
      "        nan        nan        nan        nan        nan        nan\n",
      "        nan        nan        nan        nan        nan        nan\n",
      "        nan        nan        nan        nan        nan        nan\n",
      "        nan        nan        nan]\n",
      "  warnings.warn(\n",
      "D:\\anaconda3\\envs\\otthoni\\lib\\site-packages\\sklearn\\neighbors\\_base.py:600: RuntimeWarning: invalid value encountered in sqrt\n",
      "  return tree.query(*args, **kwargs)\n"
     ]
    }
   ],
   "source": [
    "#KNN-re keresztvalidációval mahalanobis-szal\n",
    "from sklearn.neighbors import KNeighborsClassifier\n",
    "from sklearn.model_selection import cross_val_score\n",
    "\n",
    "\n",
    "#distance függvény\n",
    "def squared(array):\n",
    "    return 1/array**2\n",
    "\n",
    "\n",
    "\n",
    "pipeline = imbpipeline(steps = [['classifier', KNeighborsClassifier(metric=\"mahalanobis\", metric_params={'V': np.cov(m=X_train.astype(float), rowvar=False)})]])\n",
    "param_grid = {'classifier__n_neighbors':[i for i in range(1,30)], 'classifier__weights':['uniform', 'distance', squared]}\n",
    "\n",
    "knn_mahal_grid_search = GridSearchCV(estimator=pipeline,\n",
    "                               param_grid=param_grid,\n",
    "                               scoring='accuracy',\n",
    "                               cv=stratified_kfold,\n",
    "                               n_jobs=-1)\n",
    "\n",
    "\n",
    "knn_mahal_grid_search.fit(X_train, y_train)\n",
    "cv_score = knn_mahal_grid_search.best_score_\n",
    "knn_mahal = knn_mahal_grid_search.score(X_test, y_test)\n",
    "print(\"Mahalanobis kNN:\")\n",
    "print({'cv_score':cv_score, 'test_score':knn_mahal})\n",
    "print(\"Params:\")\n",
    "print(knn_mahal_grid_search.best_params_)\n"
   ]
  },
  {
   "cell_type": "code",
   "execution_count": 73,
   "id": "2877dbe9",
   "metadata": {
    "scrolled": true
   },
   "outputs": [
    {
     "name": "stdout",
     "output_type": "stream",
     "text": [
      "Euclidian kNN:\n",
      "{'cv_score': 0.9177777777777777, 'test_score': 0.8636363636363636}\n",
      "Params:\n",
      "{'classifier__n_neighbors': 3, 'classifier__weights': <function squared at 0x000001FEDA35C5E0>}\n"
     ]
    }
   ],
   "source": [
    "#KNN-re keresztvalidációval euklidészi távolsággal\n",
    "\n",
    "pipeline = Pipeline(steps = [['classifier', KNeighborsClassifier(metric=\"euclidean\")]])\n",
    "param_grid = {'classifier__n_neighbors':[i for i in range(1,30)], 'classifier__weights':['uniform', 'distance', squared]}\n",
    "\n",
    "knn_eu_grid_search = GridSearchCV(estimator=pipeline,\n",
    "                               param_grid=param_grid,\n",
    "                               scoring='accuracy',\n",
    "                               cv=stratified_kfold,\n",
    "                               n_jobs=-1)\n",
    "\n",
    "\n",
    "knn_eu_grid_search.fit(X_train, y_train)\n",
    "cv_score = knn_eu_grid_search.best_score_\n",
    "knn_eu = knn_eu_grid_search.score(X_test, y_test)\n",
    "print(\"Euclidian kNN:\")\n",
    "print({'cv_score':cv_score, 'test_score':knn_eu})\n",
    "print(\"Params:\")\n",
    "print(knn_eu_grid_search.best_params_)\n",
    "\n",
    "\n"
   ]
  },
  {
   "cell_type": "code",
   "execution_count": 74,
   "id": "7e951296",
   "metadata": {},
   "outputs": [
    {
     "name": "stdout",
     "output_type": "stream",
     "text": [
      "kNN with Mahalanobis:\n",
      "- Optmial parameters: {'classifier__n_neighbors': 1, 'classifier__weights': 'distance'} \n",
      "- Accuracy: 0.7727272727272727\n",
      "kNN with Euclidean:\n",
      "- Optimal parameters: {'classifier__n_neighbors': 3, 'classifier__weights': <function squared at 0x000001FEDA35C5E0>} \n",
      "- Accuracy: 0.8636363636363636\n"
     ]
    }
   ],
   "source": [
    "#összesítve kNN\n",
    "print(f'kNN with Mahalanobis:')\n",
    "print(f'- Optmial parameters: {knn_mahal_grid_search.best_params_} \\n- Accuracy: {knn_mahal}')\n",
    "print(f'kNN with Euclidean:')\n",
    "print(f'- Optimal parameters: {knn_eu_grid_search.best_params_} \\n- Accuracy: {knn_eu}')"
   ]
  },
  {
   "cell_type": "markdown",
   "id": "5694058c",
   "metadata": {},
   "source": [
    "**SVM**"
   ]
  },
  {
   "cell_type": "code",
   "execution_count": 75,
   "id": "b71990a4",
   "metadata": {},
   "outputs": [
    {
     "name": "stdout",
     "output_type": "stream",
     "text": [
      "SVM:\n",
      "{'cv_score': 0.8777777777777779, 'test_score': 0.9090909090909091}\n",
      "Params:\n",
      "{'classifier__C': 4.1000000000000005, 'classifier__kernel': 'rbf'}\n",
      "\n",
      "Accuracy: 0.91\n",
      "Precision: 0.92\n",
      "Recall: 0.91\n"
     ]
    }
   ],
   "source": [
    "#tesztelés megfelelő C-hez SVM-nél\n",
    "from sklearn.svm import SVC\n",
    "from sklearn.multiclass import OneVsRestClassifier\n",
    "\n",
    "pipeline = Pipeline(steps = [['classifier', SVC(class_weight = \"balanced\", random_state=0, decision_function_shape = 'ovr')]])\n",
    "param_grid = {'classifier__C':[i*0.1 for i in range(1,50)], 'classifier__kernel':['linear','poly','rbf']}\n",
    "\n",
    "SVM_grid_search = GridSearchCV(estimator=pipeline,\n",
    "                               param_grid=param_grid,\n",
    "                               scoring='accuracy',\n",
    "                               cv=stratified_kfold,\n",
    "                               n_jobs=-1)\n",
    "\n",
    "\n",
    "SVM_grid_search.fit(X_train, y_train)\n",
    "cv_score = SVM_grid_search.best_score_\n",
    "SVM_acc = SVM_grid_search.score(X_test, y_test)\n",
    "y_pred = SVM_grid_search.predict(X_test)\n",
    "print(\"SVM:\")\n",
    "print({'cv_score':cv_score, 'test_score':SVM_acc})\n",
    "print(\"Params:\")\n",
    "print(SVM_grid_search.best_params_)\n",
    "\n",
    "print(\"\")\n",
    "print(f'Accuracy: {round(sklearn.metrics.accuracy_score(y_test, y_pred),2)}')\n",
    "print(f'Precision: {round(sklearn.metrics.precision_score(y_test, y_pred, average = \"weighted\"),2)}')\n",
    "print(f'Recall: {round(sklearn.metrics.recall_score(y_test, y_pred, average = \"weighted\"),2)}')\n",
    "\n"
   ]
  },
  {
   "cell_type": "markdown",
   "id": "4088b53b",
   "metadata": {},
   "source": [
    "**Logisztikus Regresszió**"
   ]
  },
  {
   "cell_type": "code",
   "execution_count": 76,
   "id": "dbc7c97b",
   "metadata": {},
   "outputs": [
    {
     "name": "stdout",
     "output_type": "stream",
     "text": [
      "Logistic Regression:\n",
      "{'cv_score': 0.8555555555555555, 'test_score': 0.7272727272727273}\n",
      "Params:\n",
      "{'classifier__C': 0.05, 'classifier__solver': 'sag'}\n",
      "\n",
      "Accuracy: 0.73\n",
      "Precision: 0.77\n",
      "Recall: 0.73\n"
     ]
    }
   ],
   "source": [
    "#logisztikus regresszióra\n",
    "from sklearn.linear_model import LogisticRegression\n",
    "\n",
    "pipeline = Pipeline(steps = [['classifier', LogisticRegression(class_weight = \"balanced\", random_state=0, max_iter = 5000, multi_class = 'ovr')]])\n",
    "param_grid = {'classifier__C':[i*0.05 for i in range(1,100)], 'classifier__solver':['sag','saga']}\n",
    "\n",
    "log_grid_search = GridSearchCV(estimator=pipeline,\n",
    "                               param_grid=param_grid,\n",
    "                               scoring='accuracy',\n",
    "                               cv=stratified_kfold,\n",
    "                               n_jobs=-1)\n",
    "\n",
    "\n",
    "log_grid_search.fit(X_train, y_train)\n",
    "cv_score = log_grid_search.best_score_\n",
    "log_acc = log_grid_search.score(X_test, y_test)\n",
    "y_pred = log_grid_search.predict(X_test)\n",
    "print(\"Logistic Regression:\")\n",
    "print({'cv_score':cv_score, 'test_score':log_acc})\n",
    "print(\"Params:\")\n",
    "print(log_grid_search.best_params_)\n",
    "\n",
    "print(\"\")\n",
    "print(f'Accuracy: {round(sklearn.metrics.accuracy_score(y_test, y_pred),2)}')\n",
    "print(f'Precision: {round(sklearn.metrics.precision_score(y_test, y_pred, average = \"weighted\"),2)}')\n",
    "print(f'Recall: {round(sklearn.metrics.recall_score(y_test, y_pred, average = \"weighted\"),2)}')\n"
   ]
  },
  {
   "cell_type": "markdown",
   "id": "c1eec95b",
   "metadata": {},
   "source": [
    "**Naive Bayes**"
   ]
  },
  {
   "cell_type": "code",
   "execution_count": 77,
   "id": "b7378098",
   "metadata": {},
   "outputs": [
    {
     "name": "stdout",
     "output_type": "stream",
     "text": [
      "Accuracy: 0.95\n"
     ]
    }
   ],
   "source": [
    "#Naive bayes-szel\n",
    "from sklearn.naive_bayes import GaussianNB\n",
    "\n",
    "clf = GaussianNB()\n",
    "clf.fit(X_train, y_train)\n",
    "y_pred = clf.predict(X_test)\n",
    "bayes_acc = round(sklearn.metrics.accuracy_score(y_test, y_pred),2)\n",
    "\n",
    "print(f'Accuracy: {round(sklearn.metrics.accuracy_score(y_test, y_pred),2)}')"
   ]
  },
  {
   "cell_type": "code",
   "execution_count": 78,
   "id": "a8b3d3a3",
   "metadata": {},
   "outputs": [
    {
     "name": "stdout",
     "output_type": "stream",
     "text": [
      "Accuracy with different algorithms:\n",
      "- SVM: 0.9090909090909091 \n",
      "- Logistic Regression: 0.7272727272727273 \n",
      "- Naive Bayes: 0.95\n"
     ]
    }
   ],
   "source": [
    "#az előző 3 kiértékelése\n",
    "print(\"Accuracy with different algorithms:\")\n",
    "print(f'- SVM: {SVM_acc} \\n- Logistic Regression: {log_acc} \\n- Naive Bayes: {bayes_acc}')"
   ]
  },
  {
   "cell_type": "markdown",
   "id": "6374abec",
   "metadata": {},
   "source": [
    "**Gradient Boosting**"
   ]
  },
  {
   "cell_type": "code",
   "execution_count": 79,
   "id": "16cb5452",
   "metadata": {},
   "outputs": [
    {
     "name": "stdout",
     "output_type": "stream",
     "text": [
      "Gradient Boosting:\n",
      "{'cv_score': 0.8800000000000001, 'test_score': 0.7727272727272727}\n",
      "Params:\n",
      "{'classifier__criterion': 'squared_error', 'classifier__learning_rate': 0.17, 'classifier__max_depth': 3, 'classifier__n_estimators': 5}\n",
      "\n",
      "Accuracy: 0.77\n",
      "Precision: 0.73\n",
      "Recall: 0.77\n"
     ]
    }
   ],
   "source": [
    "from sklearn.ensemble import GradientBoostingClassifier\n",
    "\n",
    "pipeline = Pipeline(steps = [['classifier', GradientBoostingClassifier(random_state=0)]])\n",
    "param_grid = {'classifier__learning_rate':[0.01*i for i in range(1,50)],\n",
    "              'classifier__n_estimators':[5*i for i in range(1,10)], 'classifier__criterion':['squared_error','friedman_mse'],\n",
    "              'classifier__max_depth':[3,4,5]}\n",
    "\n",
    "grad_grid_search = GridSearchCV(estimator=pipeline,\n",
    "                               param_grid=param_grid,\n",
    "                               scoring='accuracy',\n",
    "                               cv=stratified_kfold,\n",
    "                               n_jobs=-1)\n",
    "\n",
    "\n",
    "grad_grid_search.fit(X_train, y_train)\n",
    "cv_score = grad_grid_search.best_score_\n",
    "grad_acc = grad_grid_search.score(X_test, y_test)\n",
    "y_pred = grad_grid_search.predict(X_test)\n",
    "print(\"Gradient Boosting:\")\n",
    "print({'cv_score':cv_score, 'test_score':grad_acc})\n",
    "print(\"Params:\")\n",
    "print(grad_grid_search.best_params_)\n",
    "\n",
    "print(\"\")\n",
    "print(f'Accuracy: {round(sklearn.metrics.accuracy_score(y_test, y_pred),2)}')\n",
    "print(f'Precision: {round(sklearn.metrics.precision_score(y_test, y_pred, average = \"weighted\"),2)}')\n",
    "print(f'Recall: {round(sklearn.metrics.recall_score(y_test, y_pred, average = \"weighted\"),2)}')"
   ]
  },
  {
   "cell_type": "markdown",
   "id": "e6d8924d",
   "metadata": {},
   "source": [
    "**Lineáris regresszió**"
   ]
  },
  {
   "cell_type": "code",
   "execution_count": 80,
   "id": "784bb542",
   "metadata": {},
   "outputs": [
    {
     "data": {
      "text/plain": [
       "0.5965691151297507"
      ]
     },
     "execution_count": 80,
     "metadata": {},
     "output_type": "execute_result"
    }
   ],
   "source": [
    "#ezek után nem oneVSall: lineáris regresszió\n",
    "from sklearn.linear_model import LinearRegression\n",
    "\n",
    "reg_alap = LinearRegression().fit(features,label)\n",
    "reg_alap.score(features, label)         "
   ]
  },
  {
   "cell_type": "code",
   "execution_count": 81,
   "id": "8bfc7b10",
   "metadata": {},
   "outputs": [
    {
     "name": "stdout",
     "output_type": "stream",
     "text": [
      "Coefficients: [-7.91861463e-02  1.91659478e-01  3.15146360e-01 -1.61555405e-01\n",
      "  2.47917987e-01 -2.20215705e-01 -4.04145234e-04 -4.04145234e-04\n",
      "  2.45491805e-01 -3.05926524e-02  7.85025789e-01  2.25361714e-01]\n",
      "RMSE: 0.31\n"
     ]
    }
   ],
   "source": [
    "#most nézzük a tanítóhalmazon és a teszthalmazon\n",
    "\n",
    "reg = LinearRegression().fit(X_train,y_train)\n",
    "reg_pred = reg.predict(X_test)\n",
    "\n",
    "#együtthatók\n",
    "print(\"Coefficients:\", reg.coef_)\n",
    "#RMSE\n",
    "\n",
    "rmse = round(np.power(np.sum(np.power(y_test - reg_pred, 2))/reg_pred.shape[0],0.5),2)\n",
    "print(\"RMSE:\", rmse)"
   ]
  },
  {
   "cell_type": "code",
   "execution_count": 82,
   "id": "58540b70",
   "metadata": {},
   "outputs": [
    {
     "data": {
      "text/plain": [
       "<function matplotlib.pyplot.show(close=None, block=None)>"
      ]
     },
     "execution_count": 82,
     "metadata": {},
     "output_type": "execute_result"
    },
    {
     "data": {
      "image/png": "[encoded data removed]",
      "text/plain": [
       "<Figure size 432x288 with 1 Axes>"
      ]
     },
     "metadata": {
      "needs_background": "light"
     },
     "output_type": "display_data"
    }
   ],
   "source": [
    "#Nézzük meg a reziduális tagokat\n",
    "\n",
    "import matplotlib.pyplot as plt\n",
    "\n",
    "plt.scatter(reg_pred, y_test-reg_pred)\n",
    "plt.plot(reg_pred, [0 for i in range(reg_pred.shape[0])], c=\"red\") #0-vonal\n",
    "plt.title(\"Reziduális tagok\")\n",
    "plt.axis\n",
    "plt.show"
   ]
  },
  {
   "cell_type": "code",
   "execution_count": 83,
   "id": "4e1a3a50",
   "metadata": {},
   "outputs": [
    {
     "data": {
      "text/plain": [
       "0.53"
      ]
     },
     "execution_count": 83,
     "metadata": {},
     "output_type": "execute_result"
    }
   ],
   "source": [
    "#R^2 és SSR\n",
    "SST = np.sum(np.power(y_test-np.mean(y_test),2))\n",
    "SSR = np.sum(np.power(reg_pred-np.mean(y_test),2))\n",
    "R2 = round(SSR/SST,2)\n",
    "R2"
   ]
  },
  {
   "cell_type": "code",
   "execution_count": 84,
   "id": "e39cca08",
   "metadata": {},
   "outputs": [
    {
     "name": "stdout",
     "output_type": "stream",
     "text": [
      "RMSE: 0.37\n",
      "0.86\n"
     ]
    }
   ],
   "source": [
    "#másik: kerekítsük a becsült értékeket\n",
    "\n",
    "for i in range(reg_pred.shape[0]):\n",
    "    reg_pred[i] = round(reg_pred[i],0)\n",
    "\n",
    "rmse_rounded = round(np.power(np.sum(np.power(y_test - reg_pred, 2))/reg_pred.shape[0],0.5),2)\n",
    "print(\"RMSE:\", rmse_rounded)\n",
    "lin_acc = round(sklearn.metrics.accuracy_score(y_test, reg_pred),2)\n",
    "print(round(sklearn.metrics.accuracy_score(y_test, reg_pred),2))"
   ]
  },
  {
   "cell_type": "code",
   "execution_count": 85,
   "id": "dccbec32",
   "metadata": {},
   "outputs": [
    {
     "name": "stdout",
     "output_type": "stream",
     "text": [
      "Linear regression:\n",
      "- RMSE: 0.31 \n",
      "- R2: 0.53 \n",
      "- RMSE after rounding: 0.37 \n",
      "- Accuracy after rounding: 0.86\n"
     ]
    }
   ],
   "source": [
    "#lineáris regresszió összesen:\n",
    "print(\"Linear regression:\")\n",
    "print(f'- RMSE: {rmse} \\n- R2: {R2} \\n- RMSE after rounding: {rmse_rounded} \\n- Accuracy after rounding: {lin_acc}')"
   ]
  },
  {
   "cell_type": "markdown",
   "id": "bb73c70d",
   "metadata": {},
   "source": [
    "### Eredmények összesítve"
   ]
  },
  {
   "cell_type": "code",
   "execution_count": 86,
   "id": "d051ba70",
   "metadata": {},
   "outputs": [
    {
     "name": "stdout",
     "output_type": "stream",
     "text": [
      "kNN with Mahalanobis:\n",
      "- Optmial number of neighbours: {'classifier__n_neighbors': 1, 'classifier__weights': 'distance'} \n",
      "- Accuracy: 0.7727272727272727\n",
      "kNN with Euclidean:\n",
      "- Optimal number of neighbours: {'classifier__n_neighbors': 3, 'classifier__weights': <function squared at 0x000001FEDA35C5E0>} \n",
      "- Accuracy: 0.8636363636363636\n",
      "SVM:\n",
      "- Accuracy: 0.9090909090909091\n",
      "Logistic Regression:\n",
      "- Accuracy: 0.7272727272727273\n",
      "Naive Bayes:\n",
      "- Accuracy: 0.95\n",
      "Linear regression:\n",
      "- RMSE: 0.31 \n",
      "- R2: 0.53 \n",
      "- RMSE after rounding: 0.37 \n",
      "- Accuracy after rounding: 0.86\n"
     ]
    }
   ],
   "source": [
    "#összes teljes mindenes\n",
    "#összesítve kNN\n",
    "print(f'kNN with Mahalanobis:')\n",
    "print(f'- Optmial number of neighbours: {knn_mahal_grid_search.best_params_} \\n- Accuracy: {knn_mahal}')\n",
    "print(f'kNN with Euclidean:')\n",
    "print(f'- Optimal number of neighbours: {knn_eu_grid_search.best_params_} \\n- Accuracy: {knn_eu}')\n",
    "print(\"SVM:\")\n",
    "print(f'- Accuracy: {SVM_acc}')\n",
    "print(\"Logistic Regression:\")\n",
    "print(f'- Accuracy: {log_acc}')\n",
    "print(\"Naive Bayes:\")\n",
    "print(f'- Accuracy: {bayes_acc}')\n",
    "print(\"Linear regression:\")\n",
    "print(f'- RMSE: {rmse} \\n- R2: {R2} \\n- RMSE after rounding: {rmse_rounded} \\n- Accuracy after rounding: {lin_acc}')"
   ]
  },
  {
   "cell_type": "markdown",
   "id": "07fd83b1",
   "metadata": {},
   "source": [
    "# PCA"
   ]
  },
  {
   "cell_type": "code",
   "execution_count": 87,
   "id": "fac70a8f",
   "metadata": {},
   "outputs": [
    {
     "data": {
      "text/plain": [
       "[0.86, 0.91, 0.91, 0.91, 0.95, 0.82, 0.86, 0.86, 0.82]"
      ]
     },
     "execution_count": 87,
     "metadata": {},
     "output_type": "execute_result"
    }
   ],
   "source": [
    "#főkomponens analízissel\n",
    "#nézzük, mennyi főkomponenssel lesz a legjobb. (pl a logisztikus regresszió)\n",
    "from sklearn.decomposition import PCA\n",
    "\n",
    "scores = []\n",
    "\n",
    "for i in range(2,11):\n",
    "    projected = PCA(i).fit_transform(features)\n",
    "    X_train, X_test, y_train, y_test = train_test_split(projected, label, test_size=0.3, random_state=0)\n",
    "    neigh = KNeighborsClassifier(n_neighbors=i, metric=\"mahalanobis\", metric_params={'V': np.cov(m=X_train.astype(float), rowvar=False)})\n",
    "    neigh = neigh.fit(X_train,y_train)\n",
    "    y_pred = neigh.predict(X_test)\n",
    "    scores.append(round(sklearn.metrics.accuracy_score(y_test, y_pred),2))\n",
    "    \n",
    "scores"
   ]
  },
  {
   "cell_type": "code",
   "execution_count": 88,
   "id": "f03eab66",
   "metadata": {},
   "outputs": [
    {
     "name": "stdout",
     "output_type": "stream",
     "text": [
      "Accuracy: 0.77\n",
      "Precision: 0.68\n",
      "Recall: 0.76\n"
     ]
    }
   ],
   "source": [
    "#főkomponenses logreg\n",
    "from sklearn.decomposition import PCA\n",
    "projected = PCA(4).fit_transform(features)\n",
    "X_train, X_test, y_train, y_test = train_test_split(projected, label, test_size=0.3, random_state=0)\n",
    "\n",
    "logreg = OneVsRestClassifier(LogisticRegression(class_weight = \"balanced\", random_state=0, max_iter = 10000)).fit(X_train, y_train)\n",
    "y_pred = logreg.predict(X_test)\n",
    "\n",
    "print(f'Accuracy: {round(sklearn.metrics.accuracy_score(y_test, y_pred),2)}')\n",
    "print(f'Precision: {round(sklearn.metrics.precision_score(y_test, y_pred, average = \"macro\"),2)}')\n",
    "print(f'Recall: {round(sklearn.metrics.recall_score(y_test, y_pred, average = \"macro\"),2)}')"
   ]
  },
  {
   "cell_type": "code",
   "execution_count": 89,
   "id": "f693111a",
   "metadata": {},
   "outputs": [
    {
     "name": "stderr",
     "output_type": "stream",
     "text": [
      "D:\\anaconda3\\envs\\otthoni\\lib\\site-packages\\sklearn\\preprocessing\\_data.py:2590: UserWarning: n_quantiles (1000) is greater than the total number of samples (49). n_quantiles is set to n_samples.\n",
      "  warnings.warn(\n",
      "D:\\anaconda3\\envs\\otthoni\\lib\\site-packages\\sklearn\\preprocessing\\_data.py:2590: UserWarning: n_quantiles (1000) is greater than the total number of samples (49). n_quantiles is set to n_samples.\n",
      "  warnings.warn(\n",
      "D:\\anaconda3\\envs\\otthoni\\lib\\site-packages\\sklearn\\preprocessing\\_data.py:2590: UserWarning: n_quantiles (1000) is greater than the total number of samples (49). n_quantiles is set to n_samples.\n",
      "  warnings.warn(\n",
      "D:\\anaconda3\\envs\\otthoni\\lib\\site-packages\\sklearn\\preprocessing\\_data.py:2590: UserWarning: n_quantiles (1000) is greater than the total number of samples (49). n_quantiles is set to n_samples.\n",
      "  warnings.warn(\n",
      "D:\\anaconda3\\envs\\otthoni\\lib\\site-packages\\sklearn\\preprocessing\\_data.py:2590: UserWarning: n_quantiles (1000) is greater than the total number of samples (49). n_quantiles is set to n_samples.\n",
      "  warnings.warn(\n",
      "D:\\anaconda3\\envs\\otthoni\\lib\\site-packages\\sklearn\\preprocessing\\_data.py:2590: UserWarning: n_quantiles (1000) is greater than the total number of samples (49). n_quantiles is set to n_samples.\n",
      "  warnings.warn(\n",
      "D:\\anaconda3\\envs\\otthoni\\lib\\site-packages\\sklearn\\preprocessing\\_data.py:2590: UserWarning: n_quantiles (1000) is greater than the total number of samples (49). n_quantiles is set to n_samples.\n",
      "  warnings.warn(\n",
      "D:\\anaconda3\\envs\\otthoni\\lib\\site-packages\\sklearn\\preprocessing\\_data.py:2590: UserWarning: n_quantiles (1000) is greater than the total number of samples (49). n_quantiles is set to n_samples.\n",
      "  warnings.warn(\n"
     ]
    }
   ],
   "source": [
    "#nézzük meg, hogy főkompononensenként hogy változnak a különböző algoritmusok eredménymutatói, és rakjuk dataframe-be!\n",
    "PCA_scores = pd.DataFrame({\"Főkomponensek száma\":[], \"Gradient Boosting Acc.\":[], \"Naive Bayes Acc.\":[], \"Logreg Acc.\":[], \"SVM Acc.\":[], \"Linreg RMSE\":[], \"Linreg R2\":[], \n",
    "                           \"Linreg RMSE kerekített\":[], \"Linreg Acc kerekített\":[]})\n",
    "\n",
    "\n",
    "for i in range(1,9):\n",
    "    projected = PCA(i).fit_transform(features)\n",
    "    X_train, X_test, y_train, y_test = train_test_split(projected, label, test_size=0.3, random_state=0)\n",
    "    \n",
    "    from sklearn import preprocessing\n",
    "    quantile_transformer = preprocessing.QuantileTransformer(random_state=0)\n",
    "    X_train = quantile_transformer.fit_transform(X_train)\n",
    "    X_test = quantile_transformer.transform(X_test)\n",
    "    \n",
    "    ### OPTIMALIZÁLÁS\n",
    "    \n",
    "    # Logreg\n",
    "    \n",
    "    pipeline = Pipeline(steps = [['classifier', LogisticRegression(class_weight = \"balanced\", random_state=0, max_iter = 5000, multi_class = 'ovr')]])\n",
    "    param_grid = {'classifier__C':[i*0.05 for i in range(1,100)], 'classifier__solver':['sag','saga']}\n",
    "\n",
    "    log_grid_search = GridSearchCV(estimator=pipeline,\n",
    "                                   param_grid=param_grid,\n",
    "                                   scoring='accuracy',\n",
    "                                   cv=stratified_kfold,\n",
    "                                   n_jobs=-1)\n",
    "\n",
    "\n",
    "    log_grid_search.fit(X_train, y_train)\n",
    "    cv_score = log_grid_search.best_score_\n",
    "    log_acc = round(log_grid_search.score(X_test, y_test),4)\n",
    "    \n",
    "    # Naive Bayes \n",
    "    \n",
    "    clf = GaussianNB()\n",
    "    clf.fit(X_train, y_train)\n",
    "    y_pred = clf.predict(X_test)\n",
    "    bayes_acc = round(sklearn.metrics.accuracy_score(y_test, y_pred),4)\n",
    "\n",
    "    # SVM\n",
    "    \n",
    "    pipeline = Pipeline(steps = [['classifier', SVC(class_weight = \"balanced\", random_state=0, decision_function_shape = 'ovr')]])\n",
    "    param_grid = {'classifier__C':[i*0.1 for i in range(1,50)], 'classifier__kernel':['linear','poly','rbf']}\n",
    "\n",
    "    SVM_grid_search = GridSearchCV(estimator=pipeline,\n",
    "                                   param_grid=param_grid,\n",
    "                                   scoring='accuracy',\n",
    "                                   cv=stratified_kfold,\n",
    "                                   n_jobs=-1)\n",
    "\n",
    "\n",
    "    SVM_grid_search.fit(X_train, y_train)\n",
    "    cv_score = SVM_grid_search.best_score_\n",
    "    SVM_acc = round(SVM_grid_search.score(X_test, y_test),4)\n",
    "    \n",
    "    # GradBoost\n",
    "    \n",
    "    pipeline = Pipeline(steps = [['classifier', GradientBoostingClassifier(random_state=0)]])\n",
    "    param_grid = {'classifier__learning_rate':[0.01*i for i in range(1,50)],\n",
    "                  'classifier__n_estimators':[5*i for i in range(1,10)], 'classifier__criterion':['squared_error','friedman_mse'],\n",
    "                  'classifier__max_depth':[3,4,5]}\n",
    "\n",
    "    grad_grid_search = GridSearchCV(estimator=pipeline,\n",
    "                                   param_grid=param_grid,\n",
    "                                   scoring='accuracy',\n",
    "                                   cv=stratified_kfold,\n",
    "                                   n_jobs=-1)\n",
    "\n",
    "\n",
    "    grad_grid_search.fit(X_train, y_train)\n",
    "    cv_score = grad_grid_search.best_score_\n",
    "    grad_acc = round(grad_grid_search.score(X_test, y_test),4)\n",
    "    \n",
    "    # Linreg\n",
    "\n",
    "    reg = LinearRegression().fit(X_train,y_train)\n",
    "    reg_pred = reg.predict(X_test)\n",
    "    \n",
    "    rmse = round(np.power(np.sum(np.power(y_test - reg_pred, 2))/reg_pred.shape[0],0.5),4)\n",
    "    \n",
    "    SST = np.sum(np.power(y_test-np.mean(y_test),2))\n",
    "    SSR = np.sum(np.power(reg_pred-np.mean(y_test),2))\n",
    "    R2 = round(SSR/SST,4)\n",
    "    R2\n",
    "    \n",
    "    for j in range(reg_pred.shape[0]):\n",
    "        reg_pred[j] = round(reg_pred[j],0)\n",
    "\n",
    "    rmse_rounded = round(np.power(np.sum(np.power(y_test - reg_pred, 2))/reg_pred.shape[0],0.5),4)\n",
    "    lin_acc = round(sklearn.metrics.accuracy_score(y_test, reg_pred),4)\n",
    "    reg_pred_rounded = round(sklearn.metrics.accuracy_score(y_test, reg_pred),4)\n",
    "    \n",
    "    \n",
    "    #új sor a dataframe-be\n",
    "    new_row = {\"Főkomponensek száma\":str(i), \"Gradient Boosting Acc.\":grad_acc, \"Naive Bayes Acc.\":bayes_acc ,\"Logreg Acc.\":log_acc, \"SVM Acc.\":SVM_acc, \"Linreg RMSE\":rmse, \"Linreg R2\":R2, \n",
    "               \"Linreg RMSE kerekített\":rmse_rounded, \"Linreg Acc kerekített\":reg_pred_rounded}\n",
    "    PCA_scores = PCA_scores.append(new_row, ignore_index=True)"
   ]
  },
  {
   "cell_type": "code",
   "execution_count": 90,
   "id": "28899e18",
   "metadata": {
    "scrolled": true
   },
   "outputs": [
    {
     "data": {
      "text/html": [
       "<div>\n",
       "<style scoped>\n",
       "    .dataframe tbody tr th:only-of-type {\n",
       "        vertical-align: middle;\n",
       "    }\n",
       "\n",
       "    .dataframe tbody tr th {\n",
       "        vertical-align: top;\n",
       "    }\n",
       "\n",
       "    .dataframe thead th {\n",
       "        text-align: right;\n",
       "    }\n",
       "</style>\n",
       "<table border=\"1\" class=\"dataframe\">\n",
       "  <thead>\n",
       "    <tr style=\"text-align: right;\">\n",
       "      <th></th>\n",
       "      <th>Főkomponensek száma</th>\n",
       "      <th>Gradient Boosting Acc.</th>\n",
       "      <th>Naive Bayes Acc.</th>\n",
       "      <th>Logreg Acc.</th>\n",
       "      <th>SVM Acc.</th>\n",
       "      <th>Linreg RMSE</th>\n",
       "      <th>Linreg R2</th>\n",
       "      <th>Linreg RMSE kerekített</th>\n",
       "      <th>Linreg Acc kerekített</th>\n",
       "    </tr>\n",
       "  </thead>\n",
       "  <tbody>\n",
       "    <tr>\n",
       "      <th>0</th>\n",
       "      <td>1</td>\n",
       "      <td>0.9091</td>\n",
       "      <td>0.9091</td>\n",
       "      <td>0.5455</td>\n",
       "      <td>0.6364</td>\n",
       "      <td>0.3968</td>\n",
       "      <td>0.4155</td>\n",
       "      <td>0.3015</td>\n",
       "      <td>0.9091</td>\n",
       "    </tr>\n",
       "    <tr>\n",
       "      <th>1</th>\n",
       "      <td>2</td>\n",
       "      <td>0.8636</td>\n",
       "      <td>0.7727</td>\n",
       "      <td>0.6364</td>\n",
       "      <td>0.8182</td>\n",
       "      <td>0.3695</td>\n",
       "      <td>0.5100</td>\n",
       "      <td>0.3693</td>\n",
       "      <td>0.8636</td>\n",
       "    </tr>\n",
       "    <tr>\n",
       "      <th>2</th>\n",
       "      <td>3</td>\n",
       "      <td>0.9091</td>\n",
       "      <td>0.8182</td>\n",
       "      <td>0.7273</td>\n",
       "      <td>0.6364</td>\n",
       "      <td>0.3551</td>\n",
       "      <td>0.4727</td>\n",
       "      <td>0.3015</td>\n",
       "      <td>0.9091</td>\n",
       "    </tr>\n",
       "    <tr>\n",
       "      <th>3</th>\n",
       "      <td>4</td>\n",
       "      <td>0.9091</td>\n",
       "      <td>0.8182</td>\n",
       "      <td>0.7727</td>\n",
       "      <td>0.6364</td>\n",
       "      <td>0.3430</td>\n",
       "      <td>0.4637</td>\n",
       "      <td>0.2132</td>\n",
       "      <td>0.9545</td>\n",
       "    </tr>\n",
       "    <tr>\n",
       "      <th>4</th>\n",
       "      <td>5</td>\n",
       "      <td>0.9091</td>\n",
       "      <td>0.8182</td>\n",
       "      <td>0.7273</td>\n",
       "      <td>0.6818</td>\n",
       "      <td>0.3511</td>\n",
       "      <td>0.5184</td>\n",
       "      <td>0.3693</td>\n",
       "      <td>0.8636</td>\n",
       "    </tr>\n",
       "    <tr>\n",
       "      <th>5</th>\n",
       "      <td>6</td>\n",
       "      <td>0.9545</td>\n",
       "      <td>0.8182</td>\n",
       "      <td>0.6818</td>\n",
       "      <td>0.7273</td>\n",
       "      <td>0.3521</td>\n",
       "      <td>0.5262</td>\n",
       "      <td>0.3693</td>\n",
       "      <td>0.8636</td>\n",
       "    </tr>\n",
       "    <tr>\n",
       "      <th>6</th>\n",
       "      <td>7</td>\n",
       "      <td>0.8636</td>\n",
       "      <td>0.8636</td>\n",
       "      <td>0.7727</td>\n",
       "      <td>0.7727</td>\n",
       "      <td>0.3851</td>\n",
       "      <td>0.4783</td>\n",
       "      <td>0.3693</td>\n",
       "      <td>0.8636</td>\n",
       "    </tr>\n",
       "    <tr>\n",
       "      <th>7</th>\n",
       "      <td>8</td>\n",
       "      <td>0.8182</td>\n",
       "      <td>0.8636</td>\n",
       "      <td>0.7727</td>\n",
       "      <td>0.7727</td>\n",
       "      <td>0.3636</td>\n",
       "      <td>0.4998</td>\n",
       "      <td>0.4264</td>\n",
       "      <td>0.8182</td>\n",
       "    </tr>\n",
       "  </tbody>\n",
       "</table>\n",
       "</div>"
      ],
      "text/plain": [
       "  Főkomponensek száma  Gradient Boosting Acc.  Naive Bayes Acc.  Logreg Acc.  \\\n",
       "0                   1                  0.9091            0.9091       0.5455   \n",
       "1                   2                  0.8636            0.7727       0.6364   \n",
       "2                   3                  0.9091            0.8182       0.7273   \n",
       "3                   4                  0.9091            0.8182       0.7727   \n",
       "4                   5                  0.9091            0.8182       0.7273   \n",
       "5                   6                  0.9545            0.8182       0.6818   \n",
       "6                   7                  0.8636            0.8636       0.7727   \n",
       "7                   8                  0.8182            0.8636       0.7727   \n",
       "\n",
       "   SVM Acc.  Linreg RMSE  Linreg R2  Linreg RMSE kerekített  \\\n",
       "0    0.6364       0.3968     0.4155                  0.3015   \n",
       "1    0.8182       0.3695     0.5100                  0.3693   \n",
       "2    0.6364       0.3551     0.4727                  0.3015   \n",
       "3    0.6364       0.3430     0.4637                  0.2132   \n",
       "4    0.6818       0.3511     0.5184                  0.3693   \n",
       "5    0.7273       0.3521     0.5262                  0.3693   \n",
       "6    0.7727       0.3851     0.4783                  0.3693   \n",
       "7    0.7727       0.3636     0.4998                  0.4264   \n",
       "\n",
       "   Linreg Acc kerekített  \n",
       "0                 0.9091  \n",
       "1                 0.8636  \n",
       "2                 0.9091  \n",
       "3                 0.9545  \n",
       "4                 0.8636  \n",
       "5                 0.8636  \n",
       "6                 0.8636  \n",
       "7                 0.8182  "
      ]
     },
     "execution_count": 90,
     "metadata": {},
     "output_type": "execute_result"
    }
   ],
   "source": [
    "PCA_scores"
   ]
  },
  {
   "cell_type": "markdown",
   "id": "560f4438",
   "metadata": {},
   "source": [
    "# Legjobb modellek"
   ]
  },
  {
   "cell_type": "code",
   "execution_count": null,
   "id": "073693d0",
   "metadata": {},
   "outputs": [],
   "source": [
    "# A Naive Bayes mindegyiknél nagyon jó volt, főleg 6-7 főkomponenssel\n",
    "\n",
    "# 3 csoport Vegyész: 6-7 PCA-s SVM és Linreg\n",
    "\n",
    "# 3 csoport Bio: 5-6 PCA-s linreg\n",
    "\n",
    "#--------------------------\n",
    "\n",
    "# 2 csoport Vegyész: 6-7 PCA-s Logreg és Linreg\n",
    "\n",
    "# 2 csoport Bio: 4-es PCA linreg\n"
   ]
  }
 ],
 "metadata": {
  "kernelspec": {
   "display_name": "Python 3 (ipykernel)",
   "language": "python",
   "name": "python3"
  },
  "language_info": {
   "codemirror_mode": {
    "name": "ipython",
    "version": 3
   },
   "file_extension": ".py",
   "mimetype": "text/x-python",
   "name": "python",
   "nbconvert_exporter": "python",
   "pygments_lexer": "ipython3",
   "version": "3.8.11"
  }
 },
 "nbformat": 4,
 "nbformat_minor": 5
}
