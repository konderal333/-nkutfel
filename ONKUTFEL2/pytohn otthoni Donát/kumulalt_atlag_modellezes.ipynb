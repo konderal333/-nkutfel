{
 "cells": [
  {
   "cell_type": "code",
   "execution_count": 9,
   "id": "7e3795b1",
   "metadata": {},
   "outputs": [],
   "source": [
    "import pandas as pd\n",
    "import numpy as np\n",
    "from sklearn.model_selection import train_test_split, GridSearchCV, StratifiedKFold\n",
    "import sklearn.metrics\n",
    "from sklearn.multiclass import OneVsRestClassifier\n",
    "from imblearn.pipeline import Pipeline as imbpipeline\n",
    "from sklearn.pipeline import Pipeline"
   ]
  },
  {
   "cell_type": "code",
   "execution_count": 2,
   "id": "699f6a6d",
   "metadata": {},
   "outputs": [],
   "source": [
    "#eddigi\n",
    "data_2021 = pd.read_excel(\"C:/Users/Donát/Documents/GitHub/-nkutfel/ONKUTFEL2/NYERS_2021/data_2021_SZŰKJÓ.xlsx\")\n",
    "data_2019 = pd.read_excel(\"C:/Users/Donát/Documents/GitHub/-nkutfel/2019/2019_MAIN_CLEANED.xlsx\")\n",
    "\n",
    "#kumulált átlagok\n",
    "kum_2021 = pd.read_excel(\"C:/Users/Donát/Documents/GitHub/-nkutfel/ONKUTFEL2/NYERS_2021/ATLAG_ES_PONT.xlsx\")\n",
    "kum_2019 = pd.read_excel(\"C:/Users/Donát/Documents/GitHub/-nkutfel/ONKUTFEL2/NYERS_2019/ATLAG_ES_PONT.xlsx\")"
   ]
  },
  {
   "cell_type": "code",
   "execution_count": 3,
   "id": "95b5cd3c",
   "metadata": {},
   "outputs": [],
   "source": [
    "full_2021 = data_2021.merge(kum_2021, left_on = 'Neptun', right_on = 'NEPTUNKOD', how= \"inner\")\n",
    "full_2019 = data_2019.merge(kum_2019, left_on = 'Neptun', right_on = 'NEPTUNKOD', how= \"inner\")"
   ]
  },
  {
   "cell_type": "code",
   "execution_count": 4,
   "id": "deae9294",
   "metadata": {},
   "outputs": [
    {
     "data": {
      "text/plain": [
       "['Name',\n",
       " 'Neptun',\n",
       " 'Mat_term_tag',\n",
       " 'Emelt',\n",
       " 'Tankör',\n",
       " 'Szak',\n",
       " 'Matek 1-4 helyes',\n",
       " 'Matek 5-10 helyes',\n",
       " 'Matek 11-14 helyes',\n",
       " 'Matek helyes',\n",
       " 'Matek eredmény',\n",
       " 'Kognitív pont',\n",
       " 'Kognitív eredmény',\n",
       " 'Össz eredmény (átlag)',\n",
       " 'ZH0',\n",
       " 'Tanulmányi pont',\n",
       " 'Érettségi pont',\n",
       " 'Többletpont',\n",
       " 'Összes pont',\n",
       " 'Matematika A1a - Analízis',\n",
       " 'NEPTUNKOD',\n",
       " 'NEV',\n",
       " 'FELV_FELEV',\n",
       " 'KEP_JOGV_KEZD',\n",
       " 'KEPZ_JOGV_OK',\n",
       " 'KEPZ_JOGV_VEG',\n",
       " 'KEPZ_JOGV_VEG_OK',\n",
       " 'KEPZ_STATUSZ',\n",
       " 'KEPZ_PU_STATUSZ',\n",
       " 'KEPZES',\n",
       " 'ELSO_FELEV',\n",
       " 'ELSO_FELEV_STATUSZ',\n",
       " 'ELSO_FELEV_PU_STATUSZ',\n",
       " 'ELSO_FELEV_TELJESITETT_KR',\n",
       " 'ELSO_FELEV_MEGSZERZETT_KR',\n",
       " 'ELSO_FELEV_ELISMERT_KR',\n",
       " 'ELSO_FELEV_ATLAG',\n",
       " 'FELEV',\n",
       " 'FELEV_STATUSZ',\n",
       " 'FELEV_PU_STATUSZ',\n",
       " 'TELJESITETT_KR',\n",
       " 'MEGSZERZETT_KR',\n",
       " 'ELISMERT_KR',\n",
       " 'ATLAG',\n",
       " 'KUM_TELJESITETT_KR',\n",
       " 'KUM_MEGSZERZETT_KR',\n",
       " 'KUM_ELISMERT_KR',\n",
       " 'KUM_ATLAG',\n",
       " 'FELVETEL',\n",
       " 'FELVETEL_MOD',\n",
       " 'FELVETELI_ELJARASSAL',\n",
       " 'FELV_OSSZ_PONTSZ',\n",
       " 'FELV_HOZOTT_PONTSZ',\n",
       " 'FEL_SZERZETT_PONTSZ',\n",
       " 'FELV_TOBBLET_PONTSZ',\n",
       " 'FELV_JOGSZABALYI_PONTSZ']"
      ]
     },
     "execution_count": 4,
     "metadata": {},
     "output_type": "execute_result"
    }
   ],
   "source": [
    "list(full_2021.columns)"
   ]
  },
  {
   "cell_type": "code",
   "execution_count": 5,
   "id": "2be773e5",
   "metadata": {},
   "outputs": [
    {
     "data": {
      "text/plain": [
       "Index(['Name', 'Neptun', 'Mat_term_tag', 'Emelt', 'Tankör', 'Szak',\n",
       "       'Matek 1-4 helyes', 'Matek 5-10 helyes', 'Matek 11-14 helyes',\n",
       "       'Matek helyes', 'Matek eredmény', 'Kognitív pont', 'Kognitív eredmény',\n",
       "       'Össz eredmény (átlag)', 'ZH0', 'Tanulmányi pont', 'Érettségi pont',\n",
       "       'Többletpont', 'Összes pont', 'Matematika A1a - Analízis', 'NEPTUNKOD',\n",
       "       'NEV', 'FELV_FELEV', 'KEP_JOGV_KEZD', 'KEPZ_JOGV_OK', 'KEPZ_JOGV_VEG',\n",
       "       'KEPZ_JOGV_VEG_OK', 'KEPZ_STATUSZ', 'KEPZ_PU_STATUSZ', 'KEPZES',\n",
       "       'ELSO_FELEV', 'ELSO_FELEV_STATUSZ', 'ELSO_FELEV_PU_STATUSZ',\n",
       "       'ELSO_FELEV_TELJESITETT_KR', 'ELSO_FELEV_MEGSZERZETT_KR',\n",
       "       'ELSO_FELEV_ELISMERT_KR', 'ELSO_FELEV_ATLAG', 'FELEV', 'FELEV_STATUSZ',\n",
       "       'FELEV_PU_STATUSZ', 'TELJESITETT_KR', 'MEGSZERZETT_KR', 'ELISMERT_KR',\n",
       "       'ATLAG', 'KUM_TELJESITETT_KR', 'KUM_MEGSZERZETT_KR', 'KUM_ELISMERT_KR',\n",
       "       'KUM_ATLAG', 'FELVETEL', 'FELVETEL_MOD', 'FELVETELI_ELJARASSAL',\n",
       "       'FELV_OSSZ_PONTSZ', 'FELV_HOZOTT_PONTSZ', 'FEL_SZERZETT_PONTSZ',\n",
       "       'FELV_TOBBLET_PONTSZ', 'FELV_JOGSZABALYI_PONTSZ'],\n",
       "      dtype='object')"
      ]
     },
     "execution_count": 5,
     "metadata": {},
     "output_type": "execute_result"
    }
   ],
   "source": [
    "full_2021.columns"
   ]
  },
  {
   "cell_type": "code",
   "execution_count": 6,
   "id": "a4720b5d",
   "metadata": {},
   "outputs": [],
   "source": [
    "full_2021.drop(['NEPTUNKOD',\n",
    " 'NEV',\n",
    " 'FELV_FELEV',\n",
    " 'KEP_JOGV_KEZD',\n",
    " 'KEPZ_JOGV_OK',\n",
    " 'KEPZ_JOGV_VEG',\n",
    " 'KEPZ_JOGV_VEG_OK',\n",
    " 'KEPZ_STATUSZ',\n",
    " 'KEPZ_PU_STATUSZ',\n",
    " 'KEPZES',\n",
    " 'ELSO_FELEV',\n",
    " 'ELSO_FELEV_STATUSZ',\n",
    " 'ELSO_FELEV_PU_STATUSZ',\n",
    " 'ELSO_FELEV_TELJESITETT_KR',\n",
    " 'ELSO_FELEV_MEGSZERZETT_KR',\n",
    " 'ELSO_FELEV_ELISMERT_KR',\n",
    " 'FELEV',\n",
    " 'FELEV_STATUSZ',\n",
    " 'FELEV_PU_STATUSZ',\n",
    " 'TELJESITETT_KR',\n",
    " 'MEGSZERZETT_KR',\n",
    " 'ELISMERT_KR',\n",
    " 'ATLAG',\n",
    " 'KUM_TELJESITETT_KR',\n",
    " 'KUM_MEGSZERZETT_KR',\n",
    " 'KUM_ELISMERT_KR',\n",
    " 'KUM_ATLAG',\n",
    " 'FELVETEL',\n",
    " 'FELVETEL_MOD',\n",
    " 'FELVETELI_ELJARASSAL',\n",
    " 'FELV_OSSZ_PONTSZ',\n",
    " 'FELV_HOZOTT_PONTSZ',\n",
    " 'FEL_SZERZETT_PONTSZ',\n",
    " 'FELV_TOBBLET_PONTSZ',\n",
    " 'FELV_JOGSZABALYI_PONTSZ'], axis=1, inplace=True)"
   ]
  },
  {
   "cell_type": "code",
   "execution_count": 7,
   "id": "97c3e066",
   "metadata": {},
   "outputs": [],
   "source": [
    "full_2019.drop(['NEPTUNKOD',\n",
    " 'NEV',\n",
    " 'FELV_FELEV',\n",
    " 'KEP_JOGV_KEZD',\n",
    " 'KEPZ_JOGV_OK',\n",
    " 'KEPZ_JOGV_VEG',\n",
    " 'KEPZ_JOGV_VEG_OK',\n",
    " 'KEPZ_STATUSZ',\n",
    " 'KEPZ_PU_STATUSZ',\n",
    " 'KEPZES',\n",
    " 'ELSO_FELEV',\n",
    " 'ELSO_FELEV_STATUSZ',\n",
    " 'ELSO_FELEV_PU_STATUSZ',\n",
    " 'ELSO_FELEV_TELJESITETT_KR',\n",
    " 'ELSO_FELEV_MEGSZERZETT_KR',\n",
    " 'ELSO_FELEV_ELISMERT_KR',\n",
    " 'FELEV',\n",
    " 'FELEV_STATUSZ',\n",
    " 'FELEV_PU_STATUSZ',\n",
    " 'TELJESITETT_KR',\n",
    " 'MEGSZERZETT_KR',\n",
    " 'ELISMERT_KR',\n",
    " 'ATLAG',\n",
    " 'KUM_TELJESITETT_KR',\n",
    " 'KUM_MEGSZERZETT_KR',\n",
    " 'KUM_ELISMERT_KR',\n",
    " 'KUM_ATLAG',\n",
    " 'FELVETEL',\n",
    " 'FELVETEL_MOD',\n",
    " 'FELVETELI_ELJARASSAL',\n",
    " 'FELV_OSSZ_PONTSZ',\n",
    " 'FELV_HOZOTT_PONTSZ',\n",
    " 'FEL_SZERZETT_PONTSZ',\n",
    " 'FELV_TOBBLET_PONTSZ',\n",
    " 'FELV_JOGSZABALYI_PONTSZ'], axis=1, inplace=True)"
   ]
  },
  {
   "cell_type": "markdown",
   "id": "c72e8de3",
   "metadata": {},
   "source": [
    "# Modellezés"
   ]
  },
  {
   "cell_type": "markdown",
   "id": "d35fe6f7",
   "metadata": {},
   "source": [
    "## 2019"
   ]
  },
  {
   "cell_type": "code",
   "execution_count": 40,
   "id": "de166c6c",
   "metadata": {},
   "outputs": [
    {
     "name": "stderr",
     "output_type": "stream",
     "text": [
      "D:\\anaconda3\\envs\\otthoni\\lib\\site-packages\\sklearn\\preprocessing\\_data.py:2590: UserWarning: n_quantiles (1000) is greater than the total number of samples (141). n_quantiles is set to n_samples.\n",
      "  warnings.warn(\n"
     ]
    }
   ],
   "source": [
    "#szűrjük ki a nem kategorikus vagy numerikus változókat\n",
    "working_data = full_2019.drop(labels = [\"Name\", \"Neptun\", \"Tankör\", \"Matematika A1a - Analízis\",'Kognitív pont', \"Matematika A2c\", \"Szak\", \"Matek helyes\", \"Összes pont\", \"Össz eredmény (átlag)\"], axis = 1)\n",
    "\n",
    "#alakítsuk numerikussá a %-os teljesítménymutatókat\n",
    "for i, row in working_data.iterrows():\n",
    "    working_data.at[i, \"Matek eredmény\"] = float(row[\"Matek eredmény\"][:-3] + \".\" + row[\"Matek eredmény\"][-2])\n",
    "    working_data.at[i, \"Kognitív eredmény\"] = float(row[\"Kognitív eredmény\"][:-3] + \".\" + row[\"Kognitív eredmény\"][-2])\n",
    "    \n",
    "stratified_kfold = StratifiedKFold(n_splits=5,\n",
    "                                       shuffle=True,\n",
    "                                       random_state=11)\n",
    "\n",
    "features = working_data.drop(labels = [\"ELSO_FELEV_ATLAG\"], axis = 1)\n",
    "label = working_data[\"ELSO_FELEV_ATLAG\"]\n",
    "\n",
    "X_train_2019, X_test_2019, y_train_2019, y_test_2019 = train_test_split(features, label, test_size=0.3, random_state=0)\n",
    "\n",
    "\n",
    "#skálázás\n",
    "\n",
    "from sklearn import preprocessing\n",
    "quantile_transformer = preprocessing.QuantileTransformer(random_state=0)\n",
    "X_train_2019 = quantile_transformer.fit_transform(X_train_2019)\n",
    "X_test_2019 = quantile_transformer.transform(X_test_2019)\n",
    "\n"
   ]
  },
  {
   "cell_type": "code",
   "execution_count": 41,
   "id": "00af6c41",
   "metadata": {},
   "outputs": [
    {
     "data": {
      "text/plain": [
       "count    202.000000\n",
       "mean       3.741584\n",
       "std        0.614259\n",
       "min        2.500000\n",
       "25%        3.240000\n",
       "50%        3.645000\n",
       "75%        4.230000\n",
       "max        5.000000\n",
       "Name: ELSO_FELEV_ATLAG, dtype: float64"
      ]
     },
     "execution_count": 41,
     "metadata": {},
     "output_type": "execute_result"
    }
   ],
   "source": [
    "label.describe()"
   ]
  },
  {
   "cell_type": "code",
   "execution_count": 42,
   "id": "c68f21ac",
   "metadata": {},
   "outputs": [
    {
     "name": "stdout",
     "output_type": "stream",
     "text": [
      "Coefficients: [ 0.12616244 -0.03180451 -0.11560124 -0.68747968 -0.18464784  1.41967262\n",
      " -0.05867973  0.18581344  0.42610247  0.58519941  0.28216997]\n",
      "RMSE: 0.42\n",
      "...................................................\n",
      "\n",
      "R négyzet statisztika: 0.5967\n",
      "...................................................\n"
     ]
    },
    {
     "data": {
      "image/png": "[encoded data removed]",
      "text/plain": [
       "<Figure size 432x288 with 1 Axes>"
      ]
     },
     "metadata": {
      "needs_background": "light"
     },
     "output_type": "display_data"
    }
   ],
   "source": [
    "#ezek után nem oneVSall: lineáris regresszió\n",
    "from sklearn.linear_model import LinearRegression\n",
    "\n",
    "\n",
    "#tanító adaton\n",
    "reg_alap_2019 = LinearRegression().fit(features,label)\n",
    "reg_alap_2019.score(features, label) \n",
    "\n",
    "# tesztadattal\n",
    "\n",
    "reg_2019 = LinearRegression().fit(X_train_2019,y_train_2019)\n",
    "reg_pred_2019 = reg_2019.predict(X_test_2019)\n",
    "\n",
    "#együtthatók\n",
    "print(\"Coefficients:\", reg_2019.coef_)\n",
    "#RMSE\n",
    "\n",
    "rmse = round(np.power(np.sum(np.power(y_test_2019 - reg_pred_2019, 2))/reg_pred_2019.shape[0],0.5),2)\n",
    "print(\"RMSE:\", rmse)\n",
    "\n",
    "print(\"...................................................\")\n",
    "print(\"\")\n",
    "\n",
    "\n",
    "#R^2 és SSR\n",
    "SST = np.sum(np.power(y_test_2019-np.mean(y_test_2019),2))\n",
    "SSR = np.sum(np.power(reg_pred_2019-np.mean(y_test_2019),2))\n",
    "R2 = round(SSR/SST,4)\n",
    "print(f\"R négyzet statisztika: {R2}\")\n",
    "import matplotlib.pyplot as plt\n",
    "\n",
    "\n",
    "print(\"...................................................\")\n",
    "\n",
    "#Nézzük meg a reziduális tagokat\n",
    "\n",
    "plt.scatter(reg_pred_2019, y_test_2019-reg_pred_2019)\n",
    "plt.plot(reg_pred_2019, [0 for i in range(reg_pred_2019.shape[0])], c=\"red\") #0-vonal\n",
    "plt.title(\"Reziduális tagok\")\n",
    "plt.axis\n",
    "plt.show()"
   ]
  },
  {
   "cell_type": "code",
   "execution_count": 49,
   "id": "4b1aab05",
   "metadata": {},
   "outputs": [
    {
     "data": {
      "text/plain": [
       "(array([ 2.,  0.,  3., 10.,  6., 13.,  7.,  9.,  6.,  5.]),\n",
       " array([-1.14802717, -0.95475325, -0.76147932, -0.5682054 , -0.37493147,\n",
       "        -0.18165755,  0.01161638,  0.2048903 ,  0.39816423,  0.59143815,\n",
       "         0.78471208]),\n",
       " <BarContainer object of 10 artists>)"
      ]
     },
     "execution_count": 49,
     "metadata": {},
     "output_type": "execute_result"
    },
    {
     "data": {
      "image/png": "[encoded data removed]",
      "text/plain": [
       "<Figure size 864x864 with 1 Axes>"
      ]
     },
     "metadata": {
      "needs_background": "light"
     },
     "output_type": "display_data"
    }
   ],
   "source": [
    "# a reziduálisok eloszlása\n",
    "\n",
    "fig, ax = plt.subplots(1,1)\n",
    "fig.set_figheight(12)\n",
    "fig.set_figwidth(12)\n",
    "ax.grid(which='major', axis = 'y', zorder=0, linestyle=\"-.\")\n",
    "ax.hist(x=y_test_2019-reg_pred_2019, zorder=3, edgecolor='black')"
   ]
  },
  {
   "cell_type": "markdown",
   "id": "3a497f85",
   "metadata": {},
   "source": [
    "## 2021"
   ]
  },
  {
   "cell_type": "code",
   "execution_count": 43,
   "id": "f0585aa0",
   "metadata": {},
   "outputs": [
    {
     "name": "stderr",
     "output_type": "stream",
     "text": [
      "D:\\anaconda3\\envs\\otthoni\\lib\\site-packages\\sklearn\\preprocessing\\_data.py:2590: UserWarning: n_quantiles (1000) is greater than the total number of samples (141). n_quantiles is set to n_samples.\n",
      "  warnings.warn(\n"
     ]
    }
   ],
   "source": [
    "#szűrjük ki a nem kategorikus vagy numerikus változókat\n",
    "working_data = full_2021.drop(labels = [\"Name\", \"Neptun\", \"Tankör\", \"Matematika A1a - Analízis\", \"Szak\", \"Matek helyes\",\"Kognitív pont\", \"Összes pont\", \"Össz eredmény (átlag)\"], axis = 1)\n",
    "    \n",
    "stratified_kfold = StratifiedKFold(n_splits=5,\n",
    "                                       shuffle=True,\n",
    "                                       random_state=11)\n",
    "\n",
    "features = working_data.drop(labels = [\"ELSO_FELEV_ATLAG\"], axis = 1)\n",
    "label = working_data[\"ELSO_FELEV_ATLAG\"]\n",
    "\n",
    "X_train_2021, X_test_2021, y_train_2021, y_test_2021 = train_test_split(features, label, test_size=0.3, random_state=0)\n",
    "\n",
    "\n",
    "#skálázás\n",
    "\n",
    "from sklearn import preprocessing\n",
    "quantile_transformer = preprocessing.QuantileTransformer(random_state=0)\n",
    "X_train_2021 = quantile_transformer.fit_transform(X_train_2021)\n",
    "X_test_2021 = quantile_transformer.transform(X_test_2021)\n",
    "\n"
   ]
  },
  {
   "cell_type": "code",
   "execution_count": 44,
   "id": "d1d00514",
   "metadata": {},
   "outputs": [
    {
     "name": "stdout",
     "output_type": "stream",
     "text": [
      "Coefficients: [-0.01707264  0.10115156  0.13792833  0.38416315 -0.09526903 -0.34448344\n",
      " -0.09376058  0.50672131  0.37414299  0.99332129  0.29646071]\n",
      "RMSE: 0.44\n",
      "...................................................\n",
      "\n",
      "R négyzet statisztika: 0.5561\n",
      "...................................................\n"
     ]
    },
    {
     "data": {
      "image/png": "[encoded data removed]",
      "text/plain": [
       "<Figure size 432x288 with 1 Axes>"
      ]
     },
     "metadata": {
      "needs_background": "light"
     },
     "output_type": "display_data"
    }
   ],
   "source": [
    "#ezek után nem oneVSall: lineáris regresszió\n",
    "from sklearn.linear_model import LinearRegression\n",
    "\n",
    "\n",
    "#tanító adaton\n",
    "reg_alap_2021 = LinearRegression().fit(features,label)\n",
    "reg_alap_2021.score(features, label) \n",
    "\n",
    "# tesztadattal\n",
    "\n",
    "reg_2021 = LinearRegression().fit(X_train_2021,y_train_2021)\n",
    "reg_pred_2021 = reg_2021.predict(X_test_2021)\n",
    "\n",
    "#együtthatók\n",
    "print(\"Coefficients:\", reg_2021.coef_)\n",
    "#RMSE\n",
    "\n",
    "rmse = round(np.power(np.sum(np.power(y_test_2021 - reg_pred_2021, 2))/reg_pred_2021.shape[0],0.5),2)\n",
    "print(\"RMSE:\", rmse)\n",
    "\n",
    "print(\"...................................................\")\n",
    "print(\"\")\n",
    "\n",
    "\n",
    "#R^2 és SSR\n",
    "SST = np.sum(np.power(y_test_2021-np.mean(y_test_2021),2))\n",
    "SSR = np.sum(np.power(reg_pred_2021-np.mean(y_test_2021),2))\n",
    "R2 = round(SSR/SST,4)\n",
    "print(f\"R négyzet statisztika: {R2}\")\n",
    "import matplotlib.pyplot as plt\n",
    "\n",
    "\n",
    "print(\"...................................................\")\n",
    "\n",
    "#Nézzük meg a reziduális tagokat\n",
    "plt.scatter(reg_pred_2021, y_test_2021-reg_pred_2021)\n",
    "plt.plot(reg_pred_2021, [0 for i in range(reg_pred_2021.shape[0])], c=\"red\") #0-vonal\n",
    "plt.title(\"Reziduális tagok\")\n",
    "plt.axis\n",
    "plt.show()"
   ]
  },
  {
   "cell_type": "code",
   "execution_count": 48,
   "id": "9dee3119",
   "metadata": {},
   "outputs": [
    {
     "data": {
      "text/plain": [
       "(array([ 1.,  3.,  6.,  8., 13.,  7., 10.,  7.,  4.,  2.]),\n",
       " array([-1.04816195, -0.84304597, -0.63792999, -0.43281401, -0.22769803,\n",
       "        -0.02258205,  0.18253393,  0.38764992,  0.5927659 ,  0.79788188,\n",
       "         1.00299786]),\n",
       " <BarContainer object of 10 artists>)"
      ]
     },
     "execution_count": 48,
     "metadata": {},
     "output_type": "execute_result"
    },
    {
     "data": {
      "image/png": "[encoded data removed]",
      "text/plain": [
       "<Figure size 864x864 with 1 Axes>"
      ]
     },
     "metadata": {
      "needs_background": "light"
     },
     "output_type": "display_data"
    }
   ],
   "source": [
    "# a reziduálisok eloszlása\n",
    "\n",
    "fig, ax = plt.subplots(1,1)\n",
    "fig.set_figheight(12)\n",
    "fig.set_figwidth(12)\n",
    "ax.grid(which='major', axis = 'y', zorder=0, linestyle=\"-.\")\n",
    "ax.hist(x=y_test_2021-reg_pred_2021, zorder=3, edgecolor='black')"
   ]
  },
  {
   "cell_type": "code",
   "execution_count": 71,
   "id": "120a7008",
   "metadata": {},
   "outputs": [
    {
     "name": "stdout",
     "output_type": "stream",
     "text": [
      "Feature importances:\n",
      "\n"
     ]
    },
    {
     "data": {
      "image/png": "[encoded data removed]",
      "text/plain": [
       "<Figure size 1080x1440 with 2 Axes>"
      ]
     },
     "metadata": {
      "needs_background": "light"
     },
     "output_type": "display_data"
    }
   ],
   "source": [
    "coeff_2019 = list(abs(reg_2019.coef_))\n",
    "pairs_2019 = list(zip(list(features.columns), coeff_2019))\n",
    "#pairs_2019.sort(key=lambda x: x[1])\n",
    "\n",
    "\n",
    "coeff_2021 = list(abs(reg_2021.coef_))\n",
    "pairs_2021 = list(zip(list(features.columns), coeff_2021))\n",
    "#pairs_2021.sort(key=lambda x: x[1])\n",
    "\n",
    "print('Feature importances:', end=\"\\n\")\n",
    "print(\"\")\n",
    "\n",
    "fig, ax = plt.subplots(2,1)\n",
    "fig.set_figheight(20)\n",
    "fig.set_figwidth(15)\n",
    "ax[0].grid(which='major', axis = 'y', zorder=0, linestyle=\"-.\")\n",
    "ax[0].bar(x=[pairs_2019[i][0] for i in range(len(pairs_2019))], height=[pairs_2019[i][1] for i in range(len(pairs_2019))], zorder=3)\n",
    "ax[0].set_title(\"2019-es modell változói\")\n",
    "ax[0].tick_params(axis='x', labelrotation = -20)\n",
    "ax[1].grid(which='major', axis = 'y', zorder=0, linestyle=\"-.\")\n",
    "ax[1].bar(x=[pairs_2021[i][0] for i in range(len(pairs_2021))], height=[pairs_2021[i][1] for i in range(len(pairs_2021))], zorder=3, color=\"orange\")\n",
    "ax[1].set_title(\"2021-es modell változói\")\n",
    "ax[1].tick_params(axis='x', labelrotation = -20)\n",
    "plt.show()\n"
   ]
  },
  {
   "cell_type": "code",
   "execution_count": null,
   "id": "d9582657",
   "metadata": {},
   "outputs": [],
   "source": []
  }
 ],
 "metadata": {
  "kernelspec": {
   "display_name": "Python 3 (ipykernel)",
   "language": "python",
   "name": "python3"
  },
  "language_info": {
   "codemirror_mode": {
    "name": "ipython",
    "version": 3
   },
   "file_extension": ".py",
   "mimetype": "text/x-python",
   "name": "python",
   "nbconvert_exporter": "python",
   "pygments_lexer": "ipython3",
   "version": "3.8.11"
  }
 },
 "nbformat": 4,
 "nbformat_minor": 5
}
