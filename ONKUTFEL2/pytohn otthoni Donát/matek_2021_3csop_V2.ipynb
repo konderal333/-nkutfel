{
 "cells": [
  {
   "cell_type": "markdown",
   "id": "54549db2",
   "metadata": {},
   "source": [
    "# Modulok és Dataprep"
   ]
  },
  {
   "cell_type": "code",
   "execution_count": 1,
   "id": "85a47696",
   "metadata": {},
   "outputs": [],
   "source": [
    "import pandas as pd\n",
    "import numpy as np\n",
    "from sklearn.model_selection import train_test_split, GridSearchCV, StratifiedKFold\n",
    "import sklearn.metrics\n",
    "from sklearn.multiclass import OneVsRestClassifier\n",
    "from imblearn.pipeline import Pipeline as imbpipeline\n",
    "from sklearn.pipeline import Pipeline"
   ]
  },
  {
   "cell_type": "code",
   "execution_count": 2,
   "id": "997db279",
   "metadata": {},
   "outputs": [],
   "source": [
    "working_data = pd.read_excel(\"C:/Users/Donát/Documents/GitHub/-nkutfel/ONKUTFEL2/NYERS_2021/data_2021_SZŰKJÓ.xlsx\")"
   ]
  },
  {
   "cell_type": "markdown",
   "id": "0a4bd1eb",
   "metadata": {},
   "source": [
    "**Minimális Feature Engineering**"
   ]
  },
  {
   "cell_type": "code",
   "execution_count": 3,
   "id": "17d9fb53",
   "metadata": {},
   "outputs": [],
   "source": [
    "#szűrjük ki a nem kategorikus vagy numerikus változókat\n",
    "working_data = working_data.drop(labels = [\"Name\", \"Neptun\", \"Tankör\"], axis = 1)\n",
    "\n",
    "#alakítsuk numerikussá a %-os teljesítménymutatókat\n",
    "#for i, row in working_data.iterrows():\n",
    "#    working_data.at[i, \"Matek eredmény\"] = float(row[\"Matek eredmény\"][:-3] + \".\" + row[\"Matek eredmény\"][-2])\n",
    "#    working_data.at[i, \"Kognitív eredmény\"] = float(row[\"Kognitív eredmény\"][:-3] + \".\" + row[\"Kognitív eredmény\"][-2])\n",
    "#    working_data.at[i, \"Kognitív pont\"] = float(str(row[\"Kognitív pont\"]).replace(\",\", \".\"))\n",
    "#    working_data.at[i, \"Össz eredmény (átlag)\"] = float(row[\"Össz eredmény (átlag)\"][:-3] + \".\" + row[\"Össz eredmény (átlag)\"][-2])\n",
    "\n"
   ]
  },
  {
   "cell_type": "code",
   "execution_count": 4,
   "id": "76ef580d",
   "metadata": {},
   "outputs": [],
   "source": [
    "#csináljunk a jegyek alapján 3 csoportot: a jó tanulók a 4-5, a rossz a 2-3, a bukás legyen 1\n",
    "for i, row in working_data.iterrows():\n",
    "    if working_data.at[i, \"Matematika A1a - Analízis\"] in [4, 5]:\n",
    "        working_data.at[i, \"Matematika A1a - Analízis\"] = 3\n",
    "    elif working_data.at[i, \"Matematika A1a - Analízis\"] in [2, 3]:\n",
    "        working_data.at[i, \"Matematika A1a - Analízis\"] = 2"
   ]
  },
  {
   "cell_type": "code",
   "execution_count": 5,
   "id": "2ab7cc89",
   "metadata": {},
   "outputs": [
    {
     "data": {
      "text/plain": [
       "2    97\n",
       "3    54\n",
       "1    51\n",
       "Name: Matematika A1a - Analízis, dtype: int64"
      ]
     },
     "execution_count": 5,
     "metadata": {},
     "output_type": "execute_result"
    }
   ],
   "source": [
    "working_data['Matematika A1a - Analízis'].value_counts()"
   ]
  },
  {
   "cell_type": "markdown",
   "id": "e8f9d72b",
   "metadata": {},
   "source": [
    "**Eszközök és szétbontás**"
   ]
  },
  {
   "cell_type": "code",
   "execution_count": 6,
   "id": "325c54ff",
   "metadata": {},
   "outputs": [
    {
     "name": "stderr",
     "output_type": "stream",
     "text": [
      "D:\\anaconda3\\envs\\otthoni\\lib\\site-packages\\sklearn\\preprocessing\\_data.py:2590: UserWarning: n_quantiles (1000) is greater than the total number of samples (141). n_quantiles is set to n_samples.\n",
      "  warnings.warn(\n"
     ]
    }
   ],
   "source": [
    "from imblearn.over_sampling import SMOTE\n",
    "\n",
    "\n",
    "\n",
    "#smote = SMOTE(random_state = 42, k_neighbors = 4, sampling_strategy = {2: 145, 3: 80, 1: 25})\n",
    "\n",
    "stratified_kfold = StratifiedKFold(n_splits=5,\n",
    "                                       shuffle=True,\n",
    "                                       random_state=11)\n",
    "\n",
    "features = working_data.drop(labels = [\"Matematika A1a - Analízis\", \"Szak\", \"Kognitív pont\", \"Matek helyes\", \"Összes pont\", \"Össz eredmény (átlag)\"], axis = 1)\n",
    "label = working_data[\"Matematika A1a - Analízis\"]\n",
    "\n",
    "#itt nem kell SMOTE\n",
    "#features, label = smote.fit_resample(features, label)\n",
    "\n",
    "\n",
    "X_train, X_test, y_train, y_test = train_test_split(features, label, test_size=0.3, random_state=0, stratify=label)\n",
    "\n",
    "\n",
    "#skálázás\n",
    "\n",
    "from sklearn import preprocessing\n",
    "quantile_transformer = preprocessing.QuantileTransformer(random_state=0)\n",
    "X_train = quantile_transformer.fit_transform(X_train)\n",
    "X_test = quantile_transformer.transform(X_test)\n"
   ]
  },
  {
   "cell_type": "markdown",
   "id": "7340dfe7",
   "metadata": {},
   "source": [
    "# Osztályozó algoritmusok\n",
    "\n",
    "**KNN**"
   ]
  },
  {
   "cell_type": "code",
   "execution_count": 7,
   "id": "690c9850",
   "metadata": {},
   "outputs": [
    {
     "name": "stdout",
     "output_type": "stream",
     "text": [
      "Mahalanobis kNN:\n",
      "{'cv_score': 0.6600985221674878, 'test_score': 0.6557377049180327}\n",
      "Params:\n",
      "{'classifier__n_neighbors': 21, 'classifier__weights': 'uniform'}\n"
     ]
    }
   ],
   "source": [
    "#KNN-re keresztvalidációval mahalanobis-szal\n",
    "from sklearn.neighbors import KNeighborsClassifier\n",
    "from sklearn.model_selection import cross_val_score\n",
    "\n",
    "\n",
    "#distance függvény\n",
    "def squared(array):\n",
    "    return 1/array**2\n",
    "\n",
    "\n",
    "\n",
    "pipeline = imbpipeline(steps = [['classifier', KNeighborsClassifier(metric=\"mahalanobis\", metric_params={'V': np.cov(m=X_train.astype(float), rowvar=False)})]])\n",
    "param_grid = {'classifier__n_neighbors':[i for i in range(1,30)], 'classifier__weights':['uniform', 'distance', squared]}\n",
    "\n",
    "knn_mahal_grid_search = GridSearchCV(estimator=pipeline,\n",
    "                               param_grid=param_grid,\n",
    "                               scoring='accuracy',\n",
    "                               cv=stratified_kfold,\n",
    "                               n_jobs=-1)\n",
    "\n",
    "\n",
    "knn_mahal_grid_search.fit(X_train, y_train)\n",
    "cv_score = knn_mahal_grid_search.best_score_\n",
    "knn_mahal = knn_mahal_grid_search.score(X_test, y_test)\n",
    "print(\"Mahalanobis kNN:\")\n",
    "print({'cv_score':cv_score, 'test_score':knn_mahal})\n",
    "print(\"Params:\")\n",
    "print(knn_mahal_grid_search.best_params_)\n"
   ]
  },
  {
   "cell_type": "code",
   "execution_count": 8,
   "id": "7b3490bb",
   "metadata": {
    "scrolled": true
   },
   "outputs": [
    {
     "name": "stdout",
     "output_type": "stream",
     "text": [
      "Euclidian kNN:\n",
      "{'cv_score': 0.6453201970443351, 'test_score': 0.639344262295082}\n",
      "Params:\n",
      "{'classifier__n_neighbors': 27, 'classifier__weights': 'uniform'}\n"
     ]
    }
   ],
   "source": [
    "#KNN-re keresztvalidációval euklidészi távolsággal\n",
    "\n",
    "pipeline = Pipeline(steps = [['classifier', KNeighborsClassifier(metric=\"euclidean\")]])\n",
    "param_grid = {'classifier__n_neighbors':[i for i in range(1,30)], 'classifier__weights':['uniform', 'distance', squared]}\n",
    "\n",
    "knn_eu_grid_search = GridSearchCV(estimator=pipeline,\n",
    "                               param_grid=param_grid,\n",
    "                               scoring='accuracy',\n",
    "                               cv=stratified_kfold,\n",
    "                               n_jobs=-1)\n",
    "\n",
    "\n",
    "knn_eu_grid_search.fit(X_train, y_train)\n",
    "cv_score = knn_eu_grid_search.best_score_\n",
    "knn_eu = knn_eu_grid_search.score(X_test, y_test)\n",
    "print(\"Euclidian kNN:\")\n",
    "print({'cv_score':cv_score, 'test_score':knn_eu})\n",
    "print(\"Params:\")\n",
    "print(knn_eu_grid_search.best_params_)\n",
    "\n",
    "\n"
   ]
  },
  {
   "cell_type": "code",
   "execution_count": 9,
   "id": "6d0e89a0",
   "metadata": {},
   "outputs": [
    {
     "name": "stdout",
     "output_type": "stream",
     "text": [
      "kNN with Mahalanobis:\n",
      "- Optmial parameters: {'classifier__n_neighbors': 21, 'classifier__weights': 'uniform'} \n",
      "- Accuracy: 0.6557377049180327\n",
      "kNN with Euclidean:\n",
      "- Optimal parameters: {'classifier__n_neighbors': 27, 'classifier__weights': 'uniform'} \n",
      "- Accuracy: 0.639344262295082\n"
     ]
    }
   ],
   "source": [
    "#összesítve kNN\n",
    "print(f'kNN with Mahalanobis:')\n",
    "print(f'- Optmial parameters: {knn_mahal_grid_search.best_params_} \\n- Accuracy: {knn_mahal}')\n",
    "print(f'kNN with Euclidean:')\n",
    "print(f'- Optimal parameters: {knn_eu_grid_search.best_params_} \\n- Accuracy: {knn_eu}')"
   ]
  },
  {
   "cell_type": "markdown",
   "id": "d04330d5",
   "metadata": {},
   "source": [
    "**SVM**"
   ]
  },
  {
   "cell_type": "code",
   "execution_count": 10,
   "id": "9603fd2c",
   "metadata": {},
   "outputs": [
    {
     "name": "stdout",
     "output_type": "stream",
     "text": [
      "SVM:\n",
      "{'cv_score': 0.6458128078817734, 'test_score': 0.6065573770491803}\n",
      "Params:\n",
      "{'classifier__C': 1.2000000000000002, 'classifier__kernel': 'rbf'}\n",
      "\n",
      "Accuracy: 0.61\n",
      "Precision: 0.61\n",
      "Recall: 0.61\n"
     ]
    }
   ],
   "source": [
    "#tesztelés megfelelő C-hez SVM-nél\n",
    "from sklearn.svm import SVC\n",
    "from sklearn.multiclass import OneVsRestClassifier\n",
    "\n",
    "pipeline = Pipeline(steps = [['classifier', SVC(class_weight = \"balanced\", random_state=0, decision_function_shape = 'ovr')]])\n",
    "param_grid = {'classifier__C':[i*0.1 for i in range(1,50)], 'classifier__kernel':['linear','poly','rbf']}\n",
    "\n",
    "SVM_grid_search = GridSearchCV(estimator=pipeline,\n",
    "                               param_grid=param_grid,\n",
    "                               scoring='accuracy',\n",
    "                               cv=stratified_kfold,\n",
    "                               n_jobs=-1)\n",
    "\n",
    "\n",
    "SVM_grid_search.fit(X_train, y_train)\n",
    "cv_score = SVM_grid_search.best_score_\n",
    "SVM_acc = SVM_grid_search.score(X_test, y_test)\n",
    "y_pred = SVM_grid_search.predict(X_test)\n",
    "print(\"SVM:\")\n",
    "print({'cv_score':cv_score, 'test_score':SVM_acc})\n",
    "print(\"Params:\")\n",
    "print(SVM_grid_search.best_params_)\n",
    "\n",
    "print(\"\")\n",
    "print(f'Accuracy: {round(sklearn.metrics.accuracy_score(y_test, y_pred),2)}')\n",
    "print(f'Precision: {round(sklearn.metrics.precision_score(y_test, y_pred, average = \"weighted\"),2)}')\n",
    "print(f'Recall: {round(sklearn.metrics.recall_score(y_test, y_pred, average = \"weighted\"),2)}')\n",
    "\n"
   ]
  },
  {
   "cell_type": "markdown",
   "id": "bd479ad9",
   "metadata": {},
   "source": [
    "**Logisztikus Regresszió**"
   ]
  },
  {
   "cell_type": "code",
   "execution_count": 11,
   "id": "0b356f0a",
   "metadata": {},
   "outputs": [
    {
     "name": "stdout",
     "output_type": "stream",
     "text": [
      "Logistic Regression:\n",
      "{'cv_score': 0.6172413793103448, 'test_score': 0.6885245901639344}\n",
      "Params:\n",
      "{'classifier__C': 3.4000000000000004, 'classifier__solver': 'sag'}\n",
      "\n",
      "Accuracy: 0.69\n",
      "Precision: 0.7\n",
      "Recall: 0.69\n"
     ]
    }
   ],
   "source": [
    "#logisztikus regresszióra\n",
    "from sklearn.linear_model import LogisticRegression\n",
    "\n",
    "pipeline = Pipeline(steps = [['classifier', LogisticRegression(class_weight = \"balanced\", random_state=0, max_iter = 5000, multi_class = 'ovr')]])\n",
    "param_grid = {'classifier__C':[i*0.05 for i in range(1,100)], 'classifier__solver':['sag','saga']}\n",
    "\n",
    "log_grid_search = GridSearchCV(estimator=pipeline,\n",
    "                               param_grid=param_grid,\n",
    "                               scoring='accuracy',\n",
    "                               cv=stratified_kfold,\n",
    "                               n_jobs=-1)\n",
    "\n",
    "\n",
    "log_grid_search.fit(X_train, y_train)\n",
    "cv_score = log_grid_search.best_score_\n",
    "log_acc = log_grid_search.score(X_test, y_test)\n",
    "y_pred = log_grid_search.predict(X_test)\n",
    "print(\"Logistic Regression:\")\n",
    "print({'cv_score':cv_score, 'test_score':log_acc})\n",
    "print(\"Params:\")\n",
    "print(log_grid_search.best_params_)\n",
    "\n",
    "print(\"\")\n",
    "print(f'Accuracy: {round(sklearn.metrics.accuracy_score(y_test, y_pred),2)}')\n",
    "print(f'Precision: {round(sklearn.metrics.precision_score(y_test, y_pred, average = \"weighted\"),2)}')\n",
    "print(f'Recall: {round(sklearn.metrics.recall_score(y_test, y_pred, average = \"weighted\"),2)}')\n"
   ]
  },
  {
   "cell_type": "markdown",
   "id": "d0e95fe9",
   "metadata": {},
   "source": [
    "**Naive Bayes**"
   ]
  },
  {
   "cell_type": "code",
   "execution_count": 12,
   "id": "6400e3d9",
   "metadata": {},
   "outputs": [
    {
     "name": "stdout",
     "output_type": "stream",
     "text": [
      "Accuracy: 0.69\n"
     ]
    }
   ],
   "source": [
    "#Naive bayes-szel\n",
    "from sklearn.naive_bayes import GaussianNB\n",
    "\n",
    "clf = GaussianNB()\n",
    "clf.fit(X_train, y_train)\n",
    "y_pred = clf.predict(X_test)\n",
    "bayes_acc = round(sklearn.metrics.accuracy_score(y_test, y_pred),2)\n",
    "\n",
    "print(f'Accuracy: {round(sklearn.metrics.accuracy_score(y_test, y_pred),2)}')"
   ]
  },
  {
   "cell_type": "code",
   "execution_count": 13,
   "id": "541abb4d",
   "metadata": {},
   "outputs": [
    {
     "name": "stdout",
     "output_type": "stream",
     "text": [
      "Accuracy with different algorithms:\n",
      "- SVM: 0.6065573770491803 \n",
      "- Logistic Regression: 0.6885245901639344 \n",
      "- Naive Bayes: 0.69\n"
     ]
    }
   ],
   "source": [
    "#az előző 3 kiértékelése\n",
    "print(\"Accuracy with different algorithms:\")\n",
    "print(f'- SVM: {SVM_acc} \\n- Logistic Regression: {log_acc} \\n- Naive Bayes: {bayes_acc}')"
   ]
  },
  {
   "cell_type": "markdown",
   "id": "5af1928f",
   "metadata": {},
   "source": [
    "**Gradient Boosting**"
   ]
  },
  {
   "cell_type": "code",
   "execution_count": 14,
   "id": "3579deb3",
   "metadata": {},
   "outputs": [
    {
     "name": "stdout",
     "output_type": "stream",
     "text": [
      "Gradient Boosting:\n",
      "{'cv_score': 0.630295566502463, 'test_score': 0.7377049180327869}\n",
      "Params:\n",
      "{'classifier__criterion': 'squared_error', 'classifier__learning_rate': 0.38, 'classifier__max_depth': 3, 'classifier__n_estimators': 30}\n",
      "\n",
      "Accuracy: 0.74\n",
      "Precision: 0.74\n",
      "Recall: 0.74\n"
     ]
    }
   ],
   "source": [
    "from sklearn.ensemble import GradientBoostingClassifier\n",
    "\n",
    "pipeline = Pipeline(steps = [['classifier', GradientBoostingClassifier(random_state=0)]])\n",
    "param_grid = {'classifier__learning_rate':[0.01*i for i in range(1,50)],\n",
    "              'classifier__n_estimators':[5*i for i in range(1,10)], 'classifier__criterion':['squared_error','friedman_mse'],\n",
    "              'classifier__max_depth':[3,4,5]}\n",
    "\n",
    "grad_grid_search = GridSearchCV(estimator=pipeline,\n",
    "                               param_grid=param_grid,\n",
    "                               scoring='accuracy',\n",
    "                               cv=stratified_kfold,\n",
    "                               n_jobs=-1)\n",
    "\n",
    "\n",
    "grad_grid_search.fit(X_train, y_train)\n",
    "cv_score = grad_grid_search.best_score_\n",
    "grad_acc = grad_grid_search.score(X_test, y_test)\n",
    "y_pred = grad_grid_search.predict(X_test)\n",
    "print(\"Gradient Boosting:\")\n",
    "print({'cv_score':cv_score, 'test_score':grad_acc})\n",
    "print(\"Params:\")\n",
    "print(grad_grid_search.best_params_)\n",
    "\n",
    "print(\"\")\n",
    "print(f'Accuracy: {round(sklearn.metrics.accuracy_score(y_test, y_pred),2)}')\n",
    "print(f'Precision: {round(sklearn.metrics.precision_score(y_test, y_pred, average = \"weighted\"),2)}')\n",
    "print(f'Recall: {round(sklearn.metrics.recall_score(y_test, y_pred, average = \"weighted\"),2)}')"
   ]
  },
  {
   "cell_type": "markdown",
   "id": "3ed02f87",
   "metadata": {},
   "source": [
    "**Lineáris regresszió**"
   ]
  },
  {
   "cell_type": "code",
   "execution_count": 15,
   "id": "087b872b",
   "metadata": {},
   "outputs": [
    {
     "data": {
      "text/plain": [
       "0.5911770408008176"
      ]
     },
     "execution_count": 15,
     "metadata": {},
     "output_type": "execute_result"
    }
   ],
   "source": [
    "#ezek után nem oneVSall: lineáris regresszió\n",
    "from sklearn.linear_model import LinearRegression\n",
    "\n",
    "reg_alap = LinearRegression().fit(features,label)\n",
    "reg_alap.score(features, label)         "
   ]
  },
  {
   "cell_type": "code",
   "execution_count": 16,
   "id": "b1aff768",
   "metadata": {},
   "outputs": [
    {
     "name": "stdout",
     "output_type": "stream",
     "text": [
      "Coefficients: [ 0.08682634  0.29196511 -0.17363025 -0.64205145 -0.40769279  1.19161811\n",
      "  0.37998283  0.30829336  0.4544989   0.78921108  0.16522111]\n",
      "RMSE: 0.46\n"
     ]
    }
   ],
   "source": [
    "#most nézzük a tanítóhalmazon és a teszthalmazon\n",
    "\n",
    "reg = LinearRegression().fit(X_train,y_train)\n",
    "reg_pred = reg.predict(X_test)\n",
    "\n",
    "#együtthatók\n",
    "print(\"Coefficients:\", reg.coef_)\n",
    "#RMSE\n",
    "\n",
    "rmse = round(np.power(np.sum(np.power(y_test - reg_pred, 2))/reg_pred.shape[0],0.5),2)\n",
    "print(\"RMSE:\", rmse)"
   ]
  },
  {
   "cell_type": "code",
   "execution_count": 17,
   "id": "ca921224",
   "metadata": {},
   "outputs": [
    {
     "data": {
      "text/plain": [
       "<function matplotlib.pyplot.show(close=None, block=None)>"
      ]
     },
     "execution_count": 17,
     "metadata": {},
     "output_type": "execute_result"
    },
    {
     "data": {
      "image/png": "[encoded data removed]",
      "text/plain": [
       "<Figure size 432x288 with 1 Axes>"
      ]
     },
     "metadata": {
      "needs_background": "light"
     },
     "output_type": "display_data"
    }
   ],
   "source": [
    "#Nézzük meg a reziduális tagokat\n",
    "\n",
    "import matplotlib.pyplot as plt\n",
    "\n",
    "plt.scatter(reg_pred, y_test-reg_pred)\n",
    "plt.plot(reg_pred, [0 for i in range(reg_pred.shape[0])], c=\"red\") #0-vonal\n",
    "plt.title(\"Reziduális tagok\")\n",
    "plt.axis\n",
    "plt.show"
   ]
  },
  {
   "cell_type": "code",
   "execution_count": 18,
   "id": "38c3981c",
   "metadata": {},
   "outputs": [
    {
     "data": {
      "text/plain": [
       "0.56"
      ]
     },
     "execution_count": 18,
     "metadata": {},
     "output_type": "execute_result"
    }
   ],
   "source": [
    "#R^2 és SSR\n",
    "SST = np.sum(np.power(y_test-np.mean(y_test),2))\n",
    "SSR = np.sum(np.power(reg_pred-np.mean(y_test),2))\n",
    "R2 = round(SSR/SST,2)\n",
    "R2"
   ]
  },
  {
   "cell_type": "code",
   "execution_count": 19,
   "id": "e0c37d9a",
   "metadata": {},
   "outputs": [
    {
     "name": "stdout",
     "output_type": "stream",
     "text": [
      "RMSE: 0.54\n",
      "0.7\n"
     ]
    }
   ],
   "source": [
    "#másik: kerekítsük a becsült értékeket\n",
    "\n",
    "for i in range(reg_pred.shape[0]):\n",
    "    reg_pred[i] = round(reg_pred[i],0)\n",
    "\n",
    "rmse_rounded = round(np.power(np.sum(np.power(y_test - reg_pred, 2))/reg_pred.shape[0],0.5),2)\n",
    "print(\"RMSE:\", rmse_rounded)\n",
    "lin_acc = round(sklearn.metrics.accuracy_score(y_test, reg_pred),2)\n",
    "print(round(sklearn.metrics.accuracy_score(y_test, reg_pred),2))"
   ]
  },
  {
   "cell_type": "code",
   "execution_count": 20,
   "id": "94daa06e",
   "metadata": {},
   "outputs": [
    {
     "name": "stdout",
     "output_type": "stream",
     "text": [
      "Linear regression:\n",
      "- RMSE: 0.46 \n",
      "- R2: 0.56 \n",
      "- RMSE after rounding: 0.54 \n",
      "- Accuracy after rounding: 0.7\n"
     ]
    }
   ],
   "source": [
    "#lineáris regresszió összesen:\n",
    "print(\"Linear regression:\")\n",
    "print(f'- RMSE: {rmse} \\n- R2: {R2} \\n- RMSE after rounding: {rmse_rounded} \\n- Accuracy after rounding: {lin_acc}')"
   ]
  },
  {
   "cell_type": "markdown",
   "id": "445addb9",
   "metadata": {},
   "source": [
    "### Eredmények összesítve"
   ]
  },
  {
   "cell_type": "code",
   "execution_count": 21,
   "id": "083f6737",
   "metadata": {},
   "outputs": [
    {
     "name": "stdout",
     "output_type": "stream",
     "text": [
      "kNN with Mahalanobis:\n",
      "- Optmial number of neighbours: {'classifier__n_neighbors': 21, 'classifier__weights': 'uniform'} \n",
      "- Accuracy: 0.6557377049180327\n",
      "kNN with Euclidean:\n",
      "- Optimal number of neighbours: {'classifier__n_neighbors': 27, 'classifier__weights': 'uniform'} \n",
      "- Accuracy: 0.639344262295082\n",
      "SVM:\n",
      "- Accuracy: 0.6065573770491803\n",
      "Logistic Regression:\n",
      "- Accuracy: 0.6885245901639344\n",
      "Naive Bayes:\n",
      "- Accuracy: 0.69\n",
      "Linear regression:\n",
      "- RMSE: 0.46 \n",
      "- R2: 0.56 \n",
      "- RMSE after rounding: 0.54 \n",
      "- Accuracy after rounding: 0.7\n"
     ]
    }
   ],
   "source": [
    "#összes teljes mindenes\n",
    "#összesítve kNN\n",
    "print(f'kNN with Mahalanobis:')\n",
    "print(f'- Optmial number of neighbours: {knn_mahal_grid_search.best_params_} \\n- Accuracy: {knn_mahal}')\n",
    "print(f'kNN with Euclidean:')\n",
    "print(f'- Optimal number of neighbours: {knn_eu_grid_search.best_params_} \\n- Accuracy: {knn_eu}')\n",
    "print(\"SVM:\")\n",
    "print(f'- Accuracy: {SVM_acc}')\n",
    "print(\"Logistic Regression:\")\n",
    "print(f'- Accuracy: {log_acc}')\n",
    "print(\"Naive Bayes:\")\n",
    "print(f'- Accuracy: {bayes_acc}')\n",
    "print(\"Linear regression:\")\n",
    "print(f'- RMSE: {rmse} \\n- R2: {R2} \\n- RMSE after rounding: {rmse_rounded} \\n- Accuracy after rounding: {lin_acc}')"
   ]
  },
  {
   "cell_type": "markdown",
   "id": "4ea8206e",
   "metadata": {},
   "source": [
    "# PCA"
   ]
  },
  {
   "cell_type": "code",
   "execution_count": 22,
   "id": "94f0d304",
   "metadata": {},
   "outputs": [
    {
     "data": {
      "text/plain": [
       "[0.52, 0.62, 0.59, 0.64, 0.56, 0.49, 0.62, 0.61, 0.62]"
      ]
     },
     "execution_count": 22,
     "metadata": {},
     "output_type": "execute_result"
    }
   ],
   "source": [
    "#főkomponens analízissel\n",
    "#nézzük, mennyi főkomponenssel lesz a legjobb. (pl a logisztikus regresszió)\n",
    "from sklearn.decomposition import PCA\n",
    "\n",
    "scores = []\n",
    "\n",
    "for i in range(2,11):\n",
    "    projected = PCA(i).fit_transform(features)\n",
    "    X_train, X_test, y_train, y_test = train_test_split(projected, label, test_size=0.3, random_state=0)\n",
    "    neigh = KNeighborsClassifier(n_neighbors=i, metric=\"mahalanobis\", metric_params={'V': np.cov(m=X_train.astype(float), rowvar=False)})\n",
    "    neigh = neigh.fit(X_train,y_train)\n",
    "    y_pred = neigh.predict(X_test)\n",
    "    scores.append(round(sklearn.metrics.accuracy_score(y_test, y_pred),2))\n",
    "    \n",
    "scores"
   ]
  },
  {
   "cell_type": "code",
   "execution_count": 23,
   "id": "9020f423",
   "metadata": {},
   "outputs": [
    {
     "name": "stdout",
     "output_type": "stream",
     "text": [
      "Accuracy: 0.7\n",
      "Precision: 0.71\n",
      "Recall: 0.72\n"
     ]
    }
   ],
   "source": [
    "#főkomponenses logreg\n",
    "from sklearn.decomposition import PCA\n",
    "projected = PCA(4).fit_transform(features)\n",
    "X_train, X_test, y_train, y_test = train_test_split(projected, label, test_size=0.3, random_state=0)\n",
    "\n",
    "logreg = OneVsRestClassifier(LogisticRegression(class_weight = \"balanced\", random_state=0, max_iter = 10000)).fit(X_train, y_train)\n",
    "y_pred = logreg.predict(X_test)\n",
    "\n",
    "print(f'Accuracy: {round(sklearn.metrics.accuracy_score(y_test, y_pred),2)}')\n",
    "print(f'Precision: {round(sklearn.metrics.precision_score(y_test, y_pred, average = \"macro\"),2)}')\n",
    "print(f'Recall: {round(sklearn.metrics.recall_score(y_test, y_pred, average = \"macro\"),2)}')"
   ]
  },
  {
   "cell_type": "code",
   "execution_count": 24,
   "id": "5193dbc2",
   "metadata": {},
   "outputs": [
    {
     "name": "stderr",
     "output_type": "stream",
     "text": [
      "D:\\anaconda3\\envs\\otthoni\\lib\\site-packages\\sklearn\\preprocessing\\_data.py:2590: UserWarning: n_quantiles (1000) is greater than the total number of samples (141). n_quantiles is set to n_samples.\n",
      "  warnings.warn(\n",
      "D:\\anaconda3\\envs\\otthoni\\lib\\site-packages\\sklearn\\preprocessing\\_data.py:2590: UserWarning: n_quantiles (1000) is greater than the total number of samples (141). n_quantiles is set to n_samples.\n",
      "  warnings.warn(\n",
      "D:\\anaconda3\\envs\\otthoni\\lib\\site-packages\\sklearn\\preprocessing\\_data.py:2590: UserWarning: n_quantiles (1000) is greater than the total number of samples (141). n_quantiles is set to n_samples.\n",
      "  warnings.warn(\n",
      "D:\\anaconda3\\envs\\otthoni\\lib\\site-packages\\sklearn\\preprocessing\\_data.py:2590: UserWarning: n_quantiles (1000) is greater than the total number of samples (141). n_quantiles is set to n_samples.\n",
      "  warnings.warn(\n",
      "D:\\anaconda3\\envs\\otthoni\\lib\\site-packages\\sklearn\\preprocessing\\_data.py:2590: UserWarning: n_quantiles (1000) is greater than the total number of samples (141). n_quantiles is set to n_samples.\n",
      "  warnings.warn(\n",
      "D:\\anaconda3\\envs\\otthoni\\lib\\site-packages\\sklearn\\preprocessing\\_data.py:2590: UserWarning: n_quantiles (1000) is greater than the total number of samples (141). n_quantiles is set to n_samples.\n",
      "  warnings.warn(\n",
      "D:\\anaconda3\\envs\\otthoni\\lib\\site-packages\\sklearn\\preprocessing\\_data.py:2590: UserWarning: n_quantiles (1000) is greater than the total number of samples (141). n_quantiles is set to n_samples.\n",
      "  warnings.warn(\n",
      "D:\\anaconda3\\envs\\otthoni\\lib\\site-packages\\sklearn\\preprocessing\\_data.py:2590: UserWarning: n_quantiles (1000) is greater than the total number of samples (141). n_quantiles is set to n_samples.\n",
      "  warnings.warn(\n"
     ]
    }
   ],
   "source": [
    "#nézzük meg, hogy főkompononensenként hogy változnak a különböző algoritmusok eredménymutatói, és rakjuk dataframe-be!\n",
    "PCA_scores = pd.DataFrame({\"Főkomponensek száma\":[], \"Gradient Boosting Acc.\":[], \"Naive Bayes Acc.\":[], \"Logreg Acc.\":[], \"SVM Acc.\":[], \"Linreg RMSE\":[], \"Linreg R2\":[], \n",
    "                           \"Linreg RMSE kerekített\":[], \"Linreg Acc kerekített\":[]})\n",
    "\n",
    "\n",
    "for i in range(1,9):\n",
    "    projected = PCA(i).fit_transform(features)\n",
    "    X_train, X_test, y_train, y_test = train_test_split(projected, label, test_size=0.3, random_state=0)\n",
    "    \n",
    "    from sklearn import preprocessing\n",
    "    quantile_transformer = preprocessing.QuantileTransformer(random_state=0)\n",
    "    X_train = quantile_transformer.fit_transform(X_train)\n",
    "    X_test = quantile_transformer.transform(X_test)\n",
    "    \n",
    "    ### OPTIMALIZÁLÁS\n",
    "    \n",
    "    # Logreg\n",
    "    \n",
    "    pipeline = Pipeline(steps = [['classifier', LogisticRegression(class_weight = \"balanced\", random_state=0, max_iter = 5000, multi_class = 'ovr')]])\n",
    "    param_grid = {'classifier__C':[i*0.05 for i in range(1,100)], 'classifier__solver':['sag','saga']}\n",
    "\n",
    "    log_grid_search = GridSearchCV(estimator=pipeline,\n",
    "                                   param_grid=param_grid,\n",
    "                                   scoring='accuracy',\n",
    "                                   cv=stratified_kfold,\n",
    "                                   n_jobs=-1)\n",
    "\n",
    "\n",
    "    log_grid_search.fit(X_train, y_train)\n",
    "    cv_score = log_grid_search.best_score_\n",
    "    log_acc = round(log_grid_search.score(X_test, y_test),4)\n",
    "    \n",
    "    # Naive Bayes \n",
    "    \n",
    "    clf = GaussianNB()\n",
    "    clf.fit(X_train, y_train)\n",
    "    y_pred = clf.predict(X_test)\n",
    "    bayes_acc = round(sklearn.metrics.accuracy_score(y_test, y_pred),4)\n",
    "\n",
    "    # SVM\n",
    "    \n",
    "    pipeline = Pipeline(steps = [['classifier', SVC(class_weight = \"balanced\", random_state=0, decision_function_shape = 'ovr')]])\n",
    "    param_grid = {'classifier__C':[i*0.1 for i in range(1,50)], 'classifier__kernel':['linear','poly','rbf']}\n",
    "\n",
    "    SVM_grid_search = GridSearchCV(estimator=pipeline,\n",
    "                                   param_grid=param_grid,\n",
    "                                   scoring='accuracy',\n",
    "                                   cv=stratified_kfold,\n",
    "                                   n_jobs=-1)\n",
    "\n",
    "\n",
    "    SVM_grid_search.fit(X_train, y_train)\n",
    "    cv_score = SVM_grid_search.best_score_\n",
    "    SVM_acc = round(SVM_grid_search.score(X_test, y_test),4)\n",
    "    \n",
    "    # GradBoost\n",
    "    \n",
    "    pipeline = Pipeline(steps = [['classifier', GradientBoostingClassifier(random_state=0)]])\n",
    "    param_grid = {'classifier__learning_rate':[0.01*i for i in range(1,50)],\n",
    "                  'classifier__n_estimators':[5*i for i in range(1,10)], 'classifier__criterion':['squared_error','friedman_mse'],\n",
    "                  'classifier__max_depth':[3,4,5]}\n",
    "\n",
    "    grad_grid_search = GridSearchCV(estimator=pipeline,\n",
    "                                   param_grid=param_grid,\n",
    "                                   scoring='accuracy',\n",
    "                                   cv=stratified_kfold,\n",
    "                                   n_jobs=-1)\n",
    "\n",
    "\n",
    "    grad_grid_search.fit(X_train, y_train)\n",
    "    cv_score = grad_grid_search.best_score_\n",
    "    grad_acc = round(grad_grid_search.score(X_test, y_test),4)\n",
    "    \n",
    "    # Linreg\n",
    "\n",
    "    reg = LinearRegression().fit(X_train,y_train)\n",
    "    reg_pred = reg.predict(X_test)\n",
    "    \n",
    "    rmse = round(np.power(np.sum(np.power(y_test - reg_pred, 2))/reg_pred.shape[0],0.5),4)\n",
    "    \n",
    "    SST = np.sum(np.power(y_test-np.mean(y_test),2))\n",
    "    SSR = np.sum(np.power(reg_pred-np.mean(y_test),2))\n",
    "    R2 = round(SSR/SST,4)\n",
    "    R2\n",
    "    \n",
    "    for j in range(reg_pred.shape[0]):\n",
    "        reg_pred[j] = round(reg_pred[j],0)\n",
    "\n",
    "    rmse_rounded = round(np.power(np.sum(np.power(y_test - reg_pred, 2))/reg_pred.shape[0],0.5),4)\n",
    "    lin_acc = round(sklearn.metrics.accuracy_score(y_test, reg_pred),4)\n",
    "    reg_pred_rounded = round(sklearn.metrics.accuracy_score(y_test, reg_pred),4)\n",
    "    \n",
    "    \n",
    "    #új sor a dataframe-be\n",
    "    new_row = {\"Főkomponensek száma\":str(i), \"Gradient Boosting Acc.\":grad_acc, \"Naive Bayes Acc.\":bayes_acc ,\"Logreg Acc.\":log_acc, \"SVM Acc.\":SVM_acc, \"Linreg RMSE\":rmse, \"Linreg R2\":R2, \n",
    "               \"Linreg RMSE kerekített\":rmse_rounded, \"Linreg Acc kerekített\":reg_pred_rounded}\n",
    "    PCA_scores = PCA_scores.append(new_row, ignore_index=True)"
   ]
  },
  {
   "cell_type": "code",
   "execution_count": 25,
   "id": "43962364",
   "metadata": {},
   "outputs": [
    {
     "data": {
      "text/html": [
       "<div>\n",
       "<style scoped>\n",
       "    .dataframe tbody tr th:only-of-type {\n",
       "        vertical-align: middle;\n",
       "    }\n",
       "\n",
       "    .dataframe tbody tr th {\n",
       "        vertical-align: top;\n",
       "    }\n",
       "\n",
       "    .dataframe thead th {\n",
       "        text-align: right;\n",
       "    }\n",
       "</style>\n",
       "<table border=\"1\" class=\"dataframe\">\n",
       "  <thead>\n",
       "    <tr style=\"text-align: right;\">\n",
       "      <th></th>\n",
       "      <th>Főkomponensek száma</th>\n",
       "      <th>Gradient Boosting Acc.</th>\n",
       "      <th>Naive Bayes Acc.</th>\n",
       "      <th>Logreg Acc.</th>\n",
       "      <th>SVM Acc.</th>\n",
       "      <th>Linreg RMSE</th>\n",
       "      <th>Linreg R2</th>\n",
       "      <th>Linreg RMSE kerekített</th>\n",
       "      <th>Linreg Acc kerekített</th>\n",
       "    </tr>\n",
       "  </thead>\n",
       "  <tbody>\n",
       "    <tr>\n",
       "      <th>0</th>\n",
       "      <td>1</td>\n",
       "      <td>0.4754</td>\n",
       "      <td>0.7049</td>\n",
       "      <td>0.6721</td>\n",
       "      <td>0.6885</td>\n",
       "      <td>0.5434</td>\n",
       "      <td>0.2645</td>\n",
       "      <td>0.6529</td>\n",
       "      <td>0.5738</td>\n",
       "    </tr>\n",
       "    <tr>\n",
       "      <th>1</th>\n",
       "      <td>2</td>\n",
       "      <td>0.5574</td>\n",
       "      <td>0.7377</td>\n",
       "      <td>0.6557</td>\n",
       "      <td>0.7377</td>\n",
       "      <td>0.5238</td>\n",
       "      <td>0.3497</td>\n",
       "      <td>0.6402</td>\n",
       "      <td>0.5902</td>\n",
       "    </tr>\n",
       "    <tr>\n",
       "      <th>2</th>\n",
       "      <td>3</td>\n",
       "      <td>0.6230</td>\n",
       "      <td>0.7213</td>\n",
       "      <td>0.6721</td>\n",
       "      <td>0.7049</td>\n",
       "      <td>0.5219</td>\n",
       "      <td>0.3495</td>\n",
       "      <td>0.6273</td>\n",
       "      <td>0.6066</td>\n",
       "    </tr>\n",
       "    <tr>\n",
       "      <th>3</th>\n",
       "      <td>4</td>\n",
       "      <td>0.5082</td>\n",
       "      <td>0.7049</td>\n",
       "      <td>0.6230</td>\n",
       "      <td>0.6885</td>\n",
       "      <td>0.5191</td>\n",
       "      <td>0.3603</td>\n",
       "      <td>0.6140</td>\n",
       "      <td>0.6230</td>\n",
       "    </tr>\n",
       "    <tr>\n",
       "      <th>4</th>\n",
       "      <td>5</td>\n",
       "      <td>0.5738</td>\n",
       "      <td>0.6721</td>\n",
       "      <td>0.6066</td>\n",
       "      <td>0.6557</td>\n",
       "      <td>0.5107</td>\n",
       "      <td>0.3713</td>\n",
       "      <td>0.6005</td>\n",
       "      <td>0.6393</td>\n",
       "    </tr>\n",
       "    <tr>\n",
       "      <th>5</th>\n",
       "      <td>6</td>\n",
       "      <td>0.6230</td>\n",
       "      <td>0.6885</td>\n",
       "      <td>0.6557</td>\n",
       "      <td>0.6885</td>\n",
       "      <td>0.5054</td>\n",
       "      <td>0.3797</td>\n",
       "      <td>0.6273</td>\n",
       "      <td>0.6066</td>\n",
       "    </tr>\n",
       "    <tr>\n",
       "      <th>6</th>\n",
       "      <td>7</td>\n",
       "      <td>0.6721</td>\n",
       "      <td>0.6885</td>\n",
       "      <td>0.6557</td>\n",
       "      <td>0.5738</td>\n",
       "      <td>0.5038</td>\n",
       "      <td>0.3782</td>\n",
       "      <td>0.6005</td>\n",
       "      <td>0.6393</td>\n",
       "    </tr>\n",
       "    <tr>\n",
       "      <th>7</th>\n",
       "      <td>8</td>\n",
       "      <td>0.6721</td>\n",
       "      <td>0.7049</td>\n",
       "      <td>0.6557</td>\n",
       "      <td>0.6066</td>\n",
       "      <td>0.4994</td>\n",
       "      <td>0.3753</td>\n",
       "      <td>0.6273</td>\n",
       "      <td>0.6066</td>\n",
       "    </tr>\n",
       "  </tbody>\n",
       "</table>\n",
       "</div>"
      ],
      "text/plain": [
       "  Főkomponensek száma  Gradient Boosting Acc.  Naive Bayes Acc.  Logreg Acc.  \\\n",
       "0                   1                  0.4754            0.7049       0.6721   \n",
       "1                   2                  0.5574            0.7377       0.6557   \n",
       "2                   3                  0.6230            0.7213       0.6721   \n",
       "3                   4                  0.5082            0.7049       0.6230   \n",
       "4                   5                  0.5738            0.6721       0.6066   \n",
       "5                   6                  0.6230            0.6885       0.6557   \n",
       "6                   7                  0.6721            0.6885       0.6557   \n",
       "7                   8                  0.6721            0.7049       0.6557   \n",
       "\n",
       "   SVM Acc.  Linreg RMSE  Linreg R2  Linreg RMSE kerekített  \\\n",
       "0    0.6885       0.5434     0.2645                  0.6529   \n",
       "1    0.7377       0.5238     0.3497                  0.6402   \n",
       "2    0.7049       0.5219     0.3495                  0.6273   \n",
       "3    0.6885       0.5191     0.3603                  0.6140   \n",
       "4    0.6557       0.5107     0.3713                  0.6005   \n",
       "5    0.6885       0.5054     0.3797                  0.6273   \n",
       "6    0.5738       0.5038     0.3782                  0.6005   \n",
       "7    0.6066       0.4994     0.3753                  0.6273   \n",
       "\n",
       "   Linreg Acc kerekített  \n",
       "0                 0.5738  \n",
       "1                 0.5902  \n",
       "2                 0.6066  \n",
       "3                 0.6230  \n",
       "4                 0.6393  \n",
       "5                 0.6066  \n",
       "6                 0.6393  \n",
       "7                 0.6066  "
      ]
     },
     "execution_count": 25,
     "metadata": {},
     "output_type": "execute_result"
    }
   ],
   "source": [
    "PCA_scores"
   ]
  },
  {
   "cell_type": "code",
   "execution_count": null,
   "id": "77443844",
   "metadata": {},
   "outputs": [],
   "source": []
  },
  {
   "cell_type": "code",
   "execution_count": 26,
   "id": "70668737",
   "metadata": {},
   "outputs": [],
   "source": [
    "working_data = pd.read_excel(\"C:/Users/Donát/Documents/GitHub/-nkutfel/ONKUTFEL2/NYERS_2021/data_2021_SZŰKJÓ.xlsx\")"
   ]
  },
  {
   "cell_type": "markdown",
   "id": "26e1097f",
   "metadata": {},
   "source": [
    "**Minimális Feature Engineering**"
   ]
  },
  {
   "cell_type": "code",
   "execution_count": 27,
   "id": "9b998d79",
   "metadata": {},
   "outputs": [],
   "source": [
    "#szűrjük ki a nem kategorikus vagy numerikus változókat\n",
    "working_data = working_data.drop(labels = [\"Name\", \"Neptun\", \"Tankör\"], axis = 1)\n",
    "\n",
    "#alakítsuk numerikussá a %-os teljesítménymutatókat\n",
    "#for i, row in working_data.iterrows():\n",
    "#    working_data.at[i, \"Matek eredmény\"] = float(row[\"Matek eredmény\"][:-3] + \".\" + row[\"Matek eredmény\"][-2])\n",
    "#    working_data.at[i, \"Kognitív eredmény\"] = float(row[\"Kognitív eredmény\"][:-3] + \".\" + row[\"Kognitív eredmény\"][-2])\n",
    "#    working_data.at[i, \"Kognitív pont\"] = float(str(row[\"Kognitív pont\"]).replace(\",\", \".\"))\n",
    "#    working_data.at[i, \"Össz eredmény (átlag)\"] = float(row[\"Össz eredmény (átlag)\"][:-3] + \".\" + row[\"Össz eredmény (átlag)\"][-2])\n",
    "\n"
   ]
  },
  {
   "cell_type": "code",
   "execution_count": 28,
   "id": "f5d2fe2b",
   "metadata": {},
   "outputs": [],
   "source": [
    "#csináljunk a jegyek alapján 3 csoportot: a jó tanulók a 4-5, a rossz a 2-3, a bukás legyen 1\n",
    "for i, row in working_data.iterrows():\n",
    "    if working_data.at[i, \"Matematika A1a - Analízis\"] in [3, 4, 5]:\n",
    "        working_data.at[i, \"Matematika A1a - Analízis\"] = 1\n",
    "    elif working_data.at[i, \"Matematika A1a - Analízis\"] in [2, 1]:\n",
    "        working_data.at[i, \"Matematika A1a - Analízis\"] = 0"
   ]
  },
  {
   "cell_type": "code",
   "execution_count": 29,
   "id": "7ff15bf4",
   "metadata": {},
   "outputs": [
    {
     "data": {
      "text/plain": [
       "0    122\n",
       "1     80\n",
       "Name: Matematika A1a - Analízis, dtype: int64"
      ]
     },
     "execution_count": 29,
     "metadata": {},
     "output_type": "execute_result"
    }
   ],
   "source": [
    "working_data['Matematika A1a - Analízis'].value_counts()"
   ]
  },
  {
   "cell_type": "markdown",
   "id": "ab8e5aed",
   "metadata": {},
   "source": [
    "**Eszközök és szétbontás**"
   ]
  },
  {
   "cell_type": "code",
   "execution_count": 30,
   "id": "23c60038",
   "metadata": {},
   "outputs": [
    {
     "name": "stderr",
     "output_type": "stream",
     "text": [
      "D:\\anaconda3\\envs\\otthoni\\lib\\site-packages\\sklearn\\preprocessing\\_data.py:2590: UserWarning: n_quantiles (1000) is greater than the total number of samples (141). n_quantiles is set to n_samples.\n",
      "  warnings.warn(\n"
     ]
    }
   ],
   "source": [
    "from imblearn.over_sampling import SMOTE\n",
    "\n",
    "\n",
    "\n",
    "#smote = SMOTE(random_state = 42, k_neighbors = 4, sampling_strategy = {2: 145, 3: 80, 1: 25})\n",
    "\n",
    "stratified_kfold = StratifiedKFold(n_splits=5,\n",
    "                                       shuffle=True,\n",
    "                                       random_state=11)\n",
    "\n",
    "features = working_data.drop(labels = [\"Matematika A1a - Analízis\", \"Szak\", \"Matek helyes\",\"Kognitív pont\",  \"Összes pont\", \"Össz eredmény (átlag)\"], axis = 1)\n",
    "label = working_data[\"Matematika A1a - Analízis\"]\n",
    "\n",
    "#itt nem kell SMOTE\n",
    "#features, label = smote.fit_resample(features, label)\n",
    "\n",
    "\n",
    "X_train, X_test, y_train, y_test = train_test_split(features, label, test_size=0.3, random_state=0, stratify=label)\n",
    "\n",
    "\n",
    "#skálázás\n",
    "\n",
    "from sklearn import preprocessing\n",
    "quantile_transformer = preprocessing.QuantileTransformer(random_state=0)\n",
    "X_train = quantile_transformer.fit_transform(X_train)\n",
    "X_test = quantile_transformer.transform(X_test)\n"
   ]
  },
  {
   "cell_type": "markdown",
   "id": "7639dbc8",
   "metadata": {},
   "source": [
    "# Osztályozó algoritmusok\n",
    "\n",
    "**KNN**"
   ]
  },
  {
   "cell_type": "code",
   "execution_count": 31,
   "id": "c692656d",
   "metadata": {},
   "outputs": [
    {
     "name": "stdout",
     "output_type": "stream",
     "text": [
      "Mahalanobis kNN:\n",
      "{'cv_score': 0.8150246305418719, 'test_score': 0.7704918032786885}\n",
      "Params:\n",
      "{'classifier__n_neighbors': 18, 'classifier__weights': 'distance'}\n"
     ]
    }
   ],
   "source": [
    "#KNN-re keresztvalidációval mahalanobis-szal\n",
    "from sklearn.neighbors import KNeighborsClassifier\n",
    "from sklearn.model_selection import cross_val_score\n",
    "\n",
    "\n",
    "#distance függvény\n",
    "def squared(array):\n",
    "    return 1/array**2\n",
    "\n",
    "\n",
    "\n",
    "pipeline = imbpipeline(steps = [['classifier', KNeighborsClassifier(metric=\"mahalanobis\", metric_params={'V': np.cov(m=X_train.astype(float), rowvar=False)})]])\n",
    "param_grid = {'classifier__n_neighbors':[i for i in range(1,30)], 'classifier__weights':['uniform', 'distance', squared]}\n",
    "\n",
    "knn_mahal_grid_search = GridSearchCV(estimator=pipeline,\n",
    "                               param_grid=param_grid,\n",
    "                               scoring='accuracy',\n",
    "                               cv=stratified_kfold,\n",
    "                               n_jobs=-1)\n",
    "\n",
    "\n",
    "knn_mahal_grid_search.fit(X_train, y_train)\n",
    "cv_score = knn_mahal_grid_search.best_score_\n",
    "knn_mahal = knn_mahal_grid_search.score(X_test, y_test)\n",
    "print(\"Mahalanobis kNN:\")\n",
    "print({'cv_score':cv_score, 'test_score':knn_mahal})\n",
    "print(\"Params:\")\n",
    "print(knn_mahal_grid_search.best_params_)\n"
   ]
  },
  {
   "cell_type": "code",
   "execution_count": 32,
   "id": "b5f69a2b",
   "metadata": {
    "scrolled": true
   },
   "outputs": [
    {
     "name": "stdout",
     "output_type": "stream",
     "text": [
      "Euclidian kNN:\n",
      "{'cv_score': 0.8578817733990147, 'test_score': 0.7868852459016393}\n",
      "Params:\n",
      "{'classifier__n_neighbors': 13, 'classifier__weights': 'distance'}\n"
     ]
    }
   ],
   "source": [
    "#KNN-re keresztvalidációval euklidészi távolsággal\n",
    "\n",
    "pipeline = Pipeline(steps = [['classifier', KNeighborsClassifier(metric=\"euclidean\")]])\n",
    "param_grid = {'classifier__n_neighbors':[i for i in range(1,30)], 'classifier__weights':['uniform', 'distance', squared]}\n",
    "\n",
    "knn_eu_grid_search = GridSearchCV(estimator=pipeline,\n",
    "                               param_grid=param_grid,\n",
    "                               scoring='accuracy',\n",
    "                               cv=stratified_kfold,\n",
    "                               n_jobs=-1)\n",
    "\n",
    "\n",
    "knn_eu_grid_search.fit(X_train, y_train)\n",
    "cv_score = knn_eu_grid_search.best_score_\n",
    "knn_eu = knn_eu_grid_search.score(X_test, y_test)\n",
    "print(\"Euclidian kNN:\")\n",
    "print({'cv_score':cv_score, 'test_score':knn_eu})\n",
    "print(\"Params:\")\n",
    "print(knn_eu_grid_search.best_params_)\n",
    "\n",
    "\n"
   ]
  },
  {
   "cell_type": "code",
   "execution_count": 33,
   "id": "480aa699",
   "metadata": {},
   "outputs": [
    {
     "name": "stdout",
     "output_type": "stream",
     "text": [
      "kNN with Mahalanobis:\n",
      "- Optmial parameters: {'classifier__n_neighbors': 18, 'classifier__weights': 'distance'} \n",
      "- Accuracy: 0.7704918032786885\n",
      "kNN with Euclidean:\n",
      "- Optimal parameters: {'classifier__n_neighbors': 13, 'classifier__weights': 'distance'} \n",
      "- Accuracy: 0.7868852459016393\n"
     ]
    }
   ],
   "source": [
    "#összesítve kNN\n",
    "print(f'kNN with Mahalanobis:')\n",
    "print(f'- Optmial parameters: {knn_mahal_grid_search.best_params_} \\n- Accuracy: {knn_mahal}')\n",
    "print(f'kNN with Euclidean:')\n",
    "print(f'- Optimal parameters: {knn_eu_grid_search.best_params_} \\n- Accuracy: {knn_eu}')"
   ]
  },
  {
   "cell_type": "markdown",
   "id": "cd6bf324",
   "metadata": {},
   "source": [
    "**SVM**"
   ]
  },
  {
   "cell_type": "code",
   "execution_count": 34,
   "id": "ab183cc8",
   "metadata": {},
   "outputs": [
    {
     "name": "stdout",
     "output_type": "stream",
     "text": [
      "SVM:\n",
      "{'cv_score': 0.8435960591133005, 'test_score': 0.7213114754098361}\n",
      "Params:\n",
      "{'classifier__C': 0.30000000000000004, 'classifier__kernel': 'linear'}\n",
      "\n",
      "Accuracy: 0.72\n",
      "Precision: 0.74\n",
      "Recall: 0.72\n"
     ]
    }
   ],
   "source": [
    "#tesztelés megfelelő C-hez SVM-nél\n",
    "from sklearn.svm import SVC\n",
    "from sklearn.multiclass import OneVsRestClassifier\n",
    "\n",
    "pipeline = Pipeline(steps = [['classifier', SVC(class_weight = \"balanced\", random_state=0, decision_function_shape = 'ovr')]])\n",
    "param_grid = {'classifier__C':[i*0.1 for i in range(1,50)], 'classifier__kernel':['linear','poly','rbf']}\n",
    "\n",
    "SVM_grid_search = GridSearchCV(estimator=pipeline,\n",
    "                               param_grid=param_grid,\n",
    "                               scoring='accuracy',\n",
    "                               cv=stratified_kfold,\n",
    "                               n_jobs=-1)\n",
    "\n",
    "\n",
    "SVM_grid_search.fit(X_train, y_train)\n",
    "cv_score = SVM_grid_search.best_score_\n",
    "SVM_acc = SVM_grid_search.score(X_test, y_test)\n",
    "y_pred = SVM_grid_search.predict(X_test)\n",
    "print(\"SVM:\")\n",
    "print({'cv_score':cv_score, 'test_score':SVM_acc})\n",
    "print(\"Params:\")\n",
    "print(SVM_grid_search.best_params_)\n",
    "\n",
    "print(\"\")\n",
    "print(f'Accuracy: {round(sklearn.metrics.accuracy_score(y_test, y_pred),2)}')\n",
    "print(f'Precision: {round(sklearn.metrics.precision_score(y_test, y_pred, average = \"weighted\"),2)}')\n",
    "print(f'Recall: {round(sklearn.metrics.recall_score(y_test, y_pred, average = \"weighted\"),2)}')\n",
    "\n"
   ]
  },
  {
   "cell_type": "markdown",
   "id": "7e922444",
   "metadata": {},
   "source": [
    "**Logisztikus Regresszió**"
   ]
  },
  {
   "cell_type": "code",
   "execution_count": 35,
   "id": "7c9de3d2",
   "metadata": {},
   "outputs": [
    {
     "name": "stdout",
     "output_type": "stream",
     "text": [
      "Logistic Regression:\n",
      "{'cv_score': 0.8504926108374384, 'test_score': 0.7377049180327869}\n",
      "Params:\n",
      "{'classifier__C': 0.25, 'classifier__solver': 'sag'}\n",
      "\n",
      "Accuracy: 0.74\n",
      "Precision: 0.74\n",
      "Recall: 0.74\n"
     ]
    }
   ],
   "source": [
    "#logisztikus regresszióra\n",
    "from sklearn.linear_model import LogisticRegression\n",
    "\n",
    "pipeline = Pipeline(steps = [['classifier', LogisticRegression(class_weight = \"balanced\", random_state=0, max_iter = 5000, multi_class = 'ovr')]])\n",
    "param_grid = {'classifier__C':[i*0.05 for i in range(1,100)], 'classifier__solver':['sag','saga']}\n",
    "\n",
    "log_grid_search = GridSearchCV(estimator=pipeline,\n",
    "                               param_grid=param_grid,\n",
    "                               scoring='accuracy',\n",
    "                               cv=stratified_kfold,\n",
    "                               n_jobs=-1)\n",
    "\n",
    "\n",
    "log_grid_search.fit(X_train, y_train)\n",
    "cv_score = log_grid_search.best_score_\n",
    "log_acc = log_grid_search.score(X_test, y_test)\n",
    "y_pred = log_grid_search.predict(X_test)\n",
    "print(\"Logistic Regression:\")\n",
    "print({'cv_score':cv_score, 'test_score':log_acc})\n",
    "print(\"Params:\")\n",
    "print(log_grid_search.best_params_)\n",
    "\n",
    "print(\"\")\n",
    "print(f'Accuracy: {round(sklearn.metrics.accuracy_score(y_test, y_pred),2)}')\n",
    "print(f'Precision: {round(sklearn.metrics.precision_score(y_test, y_pred, average = \"weighted\"),2)}')\n",
    "print(f'Recall: {round(sklearn.metrics.recall_score(y_test, y_pred, average = \"weighted\"),2)}')\n"
   ]
  },
  {
   "cell_type": "markdown",
   "id": "03a434e8",
   "metadata": {},
   "source": [
    "**Naive Bayes**"
   ]
  },
  {
   "cell_type": "code",
   "execution_count": 36,
   "id": "771c5c69",
   "metadata": {},
   "outputs": [
    {
     "name": "stdout",
     "output_type": "stream",
     "text": [
      "Accuracy: 0.77\n"
     ]
    }
   ],
   "source": [
    "#Naive bayes-szel\n",
    "from sklearn.naive_bayes import GaussianNB\n",
    "\n",
    "clf = GaussianNB()\n",
    "clf.fit(X_train, y_train)\n",
    "y_pred = clf.predict(X_test)\n",
    "bayes_acc = round(sklearn.metrics.accuracy_score(y_test, y_pred),2)\n",
    "\n",
    "print(f'Accuracy: {round(sklearn.metrics.accuracy_score(y_test, y_pred),2)}')"
   ]
  },
  {
   "cell_type": "code",
   "execution_count": 37,
   "id": "7b065305",
   "metadata": {},
   "outputs": [
    {
     "name": "stdout",
     "output_type": "stream",
     "text": [
      "Accuracy with different algorithms:\n",
      "- SVM: 0.7213114754098361 \n",
      "- Logistic Regression: 0.7377049180327869 \n",
      "- Naive Bayes: 0.77\n"
     ]
    }
   ],
   "source": [
    "#az előző 3 kiértékelése\n",
    "print(\"Accuracy with different algorithms:\")\n",
    "print(f'- SVM: {SVM_acc} \\n- Logistic Regression: {log_acc} \\n- Naive Bayes: {bayes_acc}')"
   ]
  },
  {
   "cell_type": "markdown",
   "id": "271b3537",
   "metadata": {},
   "source": [
    "**Gradient Boosting**"
   ]
  },
  {
   "cell_type": "code",
   "execution_count": 38,
   "id": "c0a956a6",
   "metadata": {},
   "outputs": [
    {
     "name": "stdout",
     "output_type": "stream",
     "text": [
      "Gradient Boosting:\n",
      "{'cv_score': 0.8226600985221675, 'test_score': 0.7868852459016393}\n",
      "Params:\n",
      "{'classifier__criterion': 'squared_error', 'classifier__learning_rate': 0.28, 'classifier__max_depth': 3, 'classifier__n_estimators': 5}\n",
      "\n",
      "Accuracy: 0.79\n",
      "Precision: 0.79\n",
      "Recall: 0.79\n"
     ]
    }
   ],
   "source": [
    "from sklearn.ensemble import GradientBoostingClassifier\n",
    "\n",
    "pipeline = Pipeline(steps = [['classifier', GradientBoostingClassifier(random_state=0)]])\n",
    "param_grid = {'classifier__learning_rate':[0.01*i for i in range(1,50)],\n",
    "              'classifier__n_estimators':[5*i for i in range(1,10)], 'classifier__criterion':['squared_error','friedman_mse'],\n",
    "              'classifier__max_depth':[3,4,5]}\n",
    "\n",
    "grad_grid_search = GridSearchCV(estimator=pipeline,\n",
    "                               param_grid=param_grid,\n",
    "                               scoring='accuracy',\n",
    "                               cv=stratified_kfold,\n",
    "                               n_jobs=-1)\n",
    "\n",
    "\n",
    "grad_grid_search.fit(X_train, y_train)\n",
    "cv_score = grad_grid_search.best_score_\n",
    "grad_acc = grad_grid_search.score(X_test, y_test)\n",
    "y_pred = grad_grid_search.predict(X_test)\n",
    "print(\"Gradient Boosting:\")\n",
    "print({'cv_score':cv_score, 'test_score':grad_acc})\n",
    "print(\"Params:\")\n",
    "print(grad_grid_search.best_params_)\n",
    "\n",
    "print(\"\")\n",
    "print(f'Accuracy: {round(sklearn.metrics.accuracy_score(y_test, y_pred),2)}')\n",
    "print(f'Precision: {round(sklearn.metrics.precision_score(y_test, y_pred, average = \"weighted\"),2)}')\n",
    "print(f'Recall: {round(sklearn.metrics.recall_score(y_test, y_pred, average = \"weighted\"),2)}')"
   ]
  },
  {
   "cell_type": "markdown",
   "id": "a2d2ff99",
   "metadata": {},
   "source": [
    "**Lineáris regresszió**"
   ]
  },
  {
   "cell_type": "code",
   "execution_count": 39,
   "id": "961b42de",
   "metadata": {},
   "outputs": [
    {
     "data": {
      "text/plain": [
       "0.502413647379789"
      ]
     },
     "execution_count": 39,
     "metadata": {},
     "output_type": "execute_result"
    }
   ],
   "source": [
    "#ezek után nem oneVSall: lineáris regresszió\n",
    "from sklearn.linear_model import LinearRegression\n",
    "\n",
    "reg_alap = LinearRegression().fit(features,label)\n",
    "reg_alap.score(features, label)         "
   ]
  },
  {
   "cell_type": "code",
   "execution_count": 40,
   "id": "479fd39a",
   "metadata": {},
   "outputs": [
    {
     "name": "stdout",
     "output_type": "stream",
     "text": [
      "Coefficients: [-0.06934173  0.22896227  0.21085072 -0.04362892  0.0222181  -0.11813747\n",
      " -0.04747897  0.48582632  0.29172077  0.36724242  0.13159775]\n",
      "RMSE: 0.39\n"
     ]
    }
   ],
   "source": [
    "#most nézzük a tanítóhalmazon és a teszthalmazon\n",
    "\n",
    "reg = LinearRegression().fit(X_train,y_train)\n",
    "reg_pred = reg.predict(X_test)\n",
    "\n",
    "#együtthatók\n",
    "print(\"Coefficients:\", reg.coef_)\n",
    "#RMSE\n",
    "\n",
    "rmse = round(np.power(np.sum(np.power(y_test - reg_pred, 2))/reg_pred.shape[0],0.5),2)\n",
    "print(\"RMSE:\", rmse)"
   ]
  },
  {
   "cell_type": "code",
   "execution_count": 41,
   "id": "e6040942",
   "metadata": {},
   "outputs": [
    {
     "data": {
      "text/plain": [
       "<function matplotlib.pyplot.show(close=None, block=None)>"
      ]
     },
     "execution_count": 41,
     "metadata": {},
     "output_type": "execute_result"
    },
    {
     "data": {
      "image/png": "[encoded data removed]",
      "text/plain": [
       "<Figure size 432x288 with 1 Axes>"
      ]
     },
     "metadata": {
      "needs_background": "light"
     },
     "output_type": "display_data"
    }
   ],
   "source": [
    "#Nézzük meg a reziduális tagokat\n",
    "\n",
    "import matplotlib.pyplot as plt\n",
    "\n",
    "plt.scatter(reg_pred, y_test-reg_pred)\n",
    "plt.plot(reg_pred, [0 for i in range(reg_pred.shape[0])], c=\"red\") #0-vonal\n",
    "plt.title(\"Reziduális tagok\")\n",
    "plt.axis\n",
    "plt.show"
   ]
  },
  {
   "cell_type": "code",
   "execution_count": 42,
   "id": "8358779a",
   "metadata": {},
   "outputs": [
    {
     "data": {
      "text/plain": [
       "0.61"
      ]
     },
     "execution_count": 42,
     "metadata": {},
     "output_type": "execute_result"
    }
   ],
   "source": [
    "#R^2 és SSR\n",
    "SST = np.sum(np.power(y_test-np.mean(y_test),2))\n",
    "SSR = np.sum(np.power(reg_pred-np.mean(y_test),2))\n",
    "R2 = round(SSR/SST,2)\n",
    "R2"
   ]
  },
  {
   "cell_type": "code",
   "execution_count": 43,
   "id": "9522d3ec",
   "metadata": {},
   "outputs": [
    {
     "name": "stdout",
     "output_type": "stream",
     "text": [
      "RMSE: 0.48\n",
      "0.77\n"
     ]
    }
   ],
   "source": [
    "#másik: kerekítsük a becsült értékeket\n",
    "\n",
    "for i in range(reg_pred.shape[0]):\n",
    "    reg_pred[i] = round(reg_pred[i],0)\n",
    "\n",
    "rmse_rounded = round(np.power(np.sum(np.power(y_test - reg_pred, 2))/reg_pred.shape[0],0.5),2)\n",
    "print(\"RMSE:\", rmse_rounded)\n",
    "lin_acc = round(sklearn.metrics.accuracy_score(y_test, reg_pred),2)\n",
    "print(round(sklearn.metrics.accuracy_score(y_test, reg_pred),2))"
   ]
  },
  {
   "cell_type": "code",
   "execution_count": 44,
   "id": "ba000d06",
   "metadata": {},
   "outputs": [
    {
     "name": "stdout",
     "output_type": "stream",
     "text": [
      "Linear regression:\n",
      "- RMSE: 0.39 \n",
      "- R2: 0.61 \n",
      "- RMSE after rounding: 0.48 \n",
      "- Accuracy after rounding: 0.77\n"
     ]
    }
   ],
   "source": [
    "#lineáris regresszió összesen:\n",
    "print(\"Linear regression:\")\n",
    "print(f'- RMSE: {rmse} \\n- R2: {R2} \\n- RMSE after rounding: {rmse_rounded} \\n- Accuracy after rounding: {lin_acc}')"
   ]
  },
  {
   "cell_type": "markdown",
   "id": "53f46bf1",
   "metadata": {},
   "source": [
    "### Eredmények összesítve"
   ]
  },
  {
   "cell_type": "code",
   "execution_count": 45,
   "id": "61945781",
   "metadata": {},
   "outputs": [
    {
     "name": "stdout",
     "output_type": "stream",
     "text": [
      "kNN with Mahalanobis:\n",
      "- Optmial number of neighbours: {'classifier__n_neighbors': 18, 'classifier__weights': 'distance'} \n",
      "- Accuracy: 0.7704918032786885\n",
      "kNN with Euclidean:\n",
      "- Optimal number of neighbours: {'classifier__n_neighbors': 13, 'classifier__weights': 'distance'} \n",
      "- Accuracy: 0.7868852459016393\n",
      "SVM:\n",
      "- Accuracy: 0.7213114754098361\n",
      "Logistic Regression:\n",
      "- Accuracy: 0.7377049180327869\n",
      "Naive Bayes:\n",
      "- Accuracy: 0.77\n",
      "Linear regression:\n",
      "- RMSE: 0.39 \n",
      "- R2: 0.61 \n",
      "- RMSE after rounding: 0.48 \n",
      "- Accuracy after rounding: 0.77\n"
     ]
    }
   ],
   "source": [
    "#összes teljes mindenes\n",
    "#összesítve kNN\n",
    "print(f'kNN with Mahalanobis:')\n",
    "print(f'- Optmial number of neighbours: {knn_mahal_grid_search.best_params_} \\n- Accuracy: {knn_mahal}')\n",
    "print(f'kNN with Euclidean:')\n",
    "print(f'- Optimal number of neighbours: {knn_eu_grid_search.best_params_} \\n- Accuracy: {knn_eu}')\n",
    "print(\"SVM:\")\n",
    "print(f'- Accuracy: {SVM_acc}')\n",
    "print(\"Logistic Regression:\")\n",
    "print(f'- Accuracy: {log_acc}')\n",
    "print(\"Naive Bayes:\")\n",
    "print(f'- Accuracy: {bayes_acc}')\n",
    "print(\"Linear regression:\")\n",
    "print(f'- RMSE: {rmse} \\n- R2: {R2} \\n- RMSE after rounding: {rmse_rounded} \\n- Accuracy after rounding: {lin_acc}')"
   ]
  },
  {
   "cell_type": "markdown",
   "id": "5560771e",
   "metadata": {},
   "source": [
    "# PCA"
   ]
  },
  {
   "cell_type": "code",
   "execution_count": 46,
   "id": "902bf98e",
   "metadata": {},
   "outputs": [
    {
     "data": {
      "text/plain": [
       "[0.69, 0.72, 0.69, 0.75, 0.72, 0.77, 0.75, 0.84, 0.8]"
      ]
     },
     "execution_count": 46,
     "metadata": {},
     "output_type": "execute_result"
    }
   ],
   "source": [
    "#főkomponens analízissel\n",
    "#nézzük, mennyi főkomponenssel lesz a legjobb. (pl a logisztikus regresszió)\n",
    "from sklearn.decomposition import PCA\n",
    "\n",
    "scores = []\n",
    "\n",
    "for i in range(2,11):\n",
    "    projected = PCA(i).fit_transform(features)\n",
    "    X_train, X_test, y_train, y_test = train_test_split(projected, label, test_size=0.3, random_state=0)\n",
    "    neigh = KNeighborsClassifier(n_neighbors=i, metric=\"mahalanobis\", metric_params={'V': np.cov(m=X_train.astype(float), rowvar=False)})\n",
    "    neigh = neigh.fit(X_train,y_train)\n",
    "    y_pred = neigh.predict(X_test)\n",
    "    scores.append(round(sklearn.metrics.accuracy_score(y_test, y_pred),2))\n",
    "    \n",
    "scores"
   ]
  },
  {
   "cell_type": "code",
   "execution_count": 47,
   "id": "1aaafe44",
   "metadata": {},
   "outputs": [
    {
     "name": "stdout",
     "output_type": "stream",
     "text": [
      "Accuracy: 0.79\n",
      "Precision: 0.79\n",
      "Recall: 0.79\n"
     ]
    }
   ],
   "source": [
    "#főkomponenses logreg\n",
    "from sklearn.decomposition import PCA\n",
    "projected = PCA(4).fit_transform(features)\n",
    "X_train, X_test, y_train, y_test = train_test_split(projected, label, test_size=0.3, random_state=0)\n",
    "\n",
    "logreg = OneVsRestClassifier(LogisticRegression(class_weight = \"balanced\", random_state=0, max_iter = 10000)).fit(X_train, y_train)\n",
    "y_pred = logreg.predict(X_test)\n",
    "\n",
    "print(f'Accuracy: {round(sklearn.metrics.accuracy_score(y_test, y_pred),2)}')\n",
    "print(f'Precision: {round(sklearn.metrics.precision_score(y_test, y_pred, average = \"macro\"),2)}')\n",
    "print(f'Recall: {round(sklearn.metrics.recall_score(y_test, y_pred, average = \"macro\"),2)}')"
   ]
  },
  {
   "cell_type": "code",
   "execution_count": 48,
   "id": "26d93866",
   "metadata": {},
   "outputs": [
    {
     "name": "stderr",
     "output_type": "stream",
     "text": [
      "D:\\anaconda3\\envs\\otthoni\\lib\\site-packages\\sklearn\\preprocessing\\_data.py:2590: UserWarning: n_quantiles (1000) is greater than the total number of samples (141). n_quantiles is set to n_samples.\n",
      "  warnings.warn(\n",
      "D:\\anaconda3\\envs\\otthoni\\lib\\site-packages\\sklearn\\preprocessing\\_data.py:2590: UserWarning: n_quantiles (1000) is greater than the total number of samples (141). n_quantiles is set to n_samples.\n",
      "  warnings.warn(\n",
      "D:\\anaconda3\\envs\\otthoni\\lib\\site-packages\\sklearn\\preprocessing\\_data.py:2590: UserWarning: n_quantiles (1000) is greater than the total number of samples (141). n_quantiles is set to n_samples.\n",
      "  warnings.warn(\n",
      "D:\\anaconda3\\envs\\otthoni\\lib\\site-packages\\sklearn\\preprocessing\\_data.py:2590: UserWarning: n_quantiles (1000) is greater than the total number of samples (141). n_quantiles is set to n_samples.\n",
      "  warnings.warn(\n",
      "D:\\anaconda3\\envs\\otthoni\\lib\\site-packages\\sklearn\\preprocessing\\_data.py:2590: UserWarning: n_quantiles (1000) is greater than the total number of samples (141). n_quantiles is set to n_samples.\n",
      "  warnings.warn(\n",
      "D:\\anaconda3\\envs\\otthoni\\lib\\site-packages\\sklearn\\preprocessing\\_data.py:2590: UserWarning: n_quantiles (1000) is greater than the total number of samples (141). n_quantiles is set to n_samples.\n",
      "  warnings.warn(\n",
      "D:\\anaconda3\\envs\\otthoni\\lib\\site-packages\\sklearn\\preprocessing\\_data.py:2590: UserWarning: n_quantiles (1000) is greater than the total number of samples (141). n_quantiles is set to n_samples.\n",
      "  warnings.warn(\n",
      "D:\\anaconda3\\envs\\otthoni\\lib\\site-packages\\sklearn\\preprocessing\\_data.py:2590: UserWarning: n_quantiles (1000) is greater than the total number of samples (141). n_quantiles is set to n_samples.\n",
      "  warnings.warn(\n"
     ]
    }
   ],
   "source": [
    "#nézzük meg, hogy főkompononensenként hogy változnak a különböző algoritmusok eredménymutatói, és rakjuk dataframe-be!\n",
    "PCA_scores = pd.DataFrame({\"Főkomponensek száma\":[], \"Gradient Boosting Acc.\":[], \"Naive Bayes Acc.\":[], \"Logreg Acc.\":[], \"SVM Acc.\":[], \"Linreg RMSE\":[], \"Linreg R2\":[], \n",
    "                           \"Linreg RMSE kerekített\":[], \"Linreg Acc kerekített\":[]})\n",
    "\n",
    "\n",
    "for i in range(1,9):\n",
    "    projected = PCA(i).fit_transform(features)\n",
    "    X_train, X_test, y_train, y_test = train_test_split(projected, label, test_size=0.3, random_state=0)\n",
    "    \n",
    "    from sklearn import preprocessing\n",
    "    quantile_transformer = preprocessing.QuantileTransformer(random_state=0)\n",
    "    X_train = quantile_transformer.fit_transform(X_train)\n",
    "    X_test = quantile_transformer.transform(X_test)\n",
    "    \n",
    "    ### OPTIMALIZÁLÁS\n",
    "    \n",
    "    # Logreg\n",
    "    \n",
    "    pipeline = Pipeline(steps = [['classifier', LogisticRegression(class_weight = \"balanced\", random_state=0, max_iter = 5000, multi_class = 'ovr')]])\n",
    "    param_grid = {'classifier__C':[i*0.05 for i in range(1,100)], 'classifier__solver':['sag','saga']}\n",
    "\n",
    "    log_grid_search = GridSearchCV(estimator=pipeline,\n",
    "                                   param_grid=param_grid,\n",
    "                                   scoring='accuracy',\n",
    "                                   cv=stratified_kfold,\n",
    "                                   n_jobs=-1)\n",
    "\n",
    "\n",
    "    log_grid_search.fit(X_train, y_train)\n",
    "    cv_score = log_grid_search.best_score_\n",
    "    log_acc = round(log_grid_search.score(X_test, y_test),4)\n",
    "    \n",
    "    # Naive Bayes \n",
    "    \n",
    "    clf = GaussianNB()\n",
    "    clf.fit(X_train, y_train)\n",
    "    y_pred = clf.predict(X_test)\n",
    "    bayes_acc = round(sklearn.metrics.accuracy_score(y_test, y_pred),4)\n",
    "\n",
    "    # SVM\n",
    "    \n",
    "    pipeline = Pipeline(steps = [['classifier', SVC(class_weight = \"balanced\", random_state=0, decision_function_shape = 'ovr')]])\n",
    "    param_grid = {'classifier__C':[i*0.1 for i in range(1,50)], 'classifier__kernel':['linear','poly','rbf']}\n",
    "\n",
    "    SVM_grid_search = GridSearchCV(estimator=pipeline,\n",
    "                                   param_grid=param_grid,\n",
    "                                   scoring='accuracy',\n",
    "                                   cv=stratified_kfold,\n",
    "                                   n_jobs=-1)\n",
    "\n",
    "\n",
    "    SVM_grid_search.fit(X_train, y_train)\n",
    "    cv_score = SVM_grid_search.best_score_\n",
    "    SVM_acc = round(SVM_grid_search.score(X_test, y_test),4)\n",
    "    \n",
    "    # GradBoost\n",
    "    \n",
    "    pipeline = Pipeline(steps = [['classifier', GradientBoostingClassifier(random_state=0)]])\n",
    "    param_grid = {'classifier__learning_rate':[0.01*i for i in range(1,50)],\n",
    "                  'classifier__n_estimators':[5*i for i in range(1,10)], 'classifier__criterion':['squared_error','friedman_mse'],\n",
    "                  'classifier__max_depth':[3,4,5]}\n",
    "\n",
    "    grad_grid_search = GridSearchCV(estimator=pipeline,\n",
    "                                   param_grid=param_grid,\n",
    "                                   scoring='accuracy',\n",
    "                                   cv=stratified_kfold,\n",
    "                                   n_jobs=-1)\n",
    "\n",
    "\n",
    "    grad_grid_search.fit(X_train, y_train)\n",
    "    cv_score = grad_grid_search.best_score_\n",
    "    grad_acc = round(grad_grid_search.score(X_test, y_test),4)\n",
    "    \n",
    "    # Linreg\n",
    "\n",
    "    reg = LinearRegression().fit(X_train,y_train)\n",
    "    reg_pred = reg.predict(X_test)\n",
    "    \n",
    "    rmse = round(np.power(np.sum(np.power(y_test - reg_pred, 2))/reg_pred.shape[0],0.5),4)\n",
    "    \n",
    "    SST = np.sum(np.power(y_test-np.mean(y_test),2))\n",
    "    SSR = np.sum(np.power(reg_pred-np.mean(y_test),2))\n",
    "    R2 = round(SSR/SST,4)\n",
    "    R2\n",
    "    \n",
    "    for j in range(reg_pred.shape[0]):\n",
    "        reg_pred[j] = round(reg_pred[j],0)\n",
    "\n",
    "    rmse_rounded = round(np.power(np.sum(np.power(y_test - reg_pred, 2))/reg_pred.shape[0],0.5),4)\n",
    "    lin_acc = round(sklearn.metrics.accuracy_score(y_test, reg_pred),4)\n",
    "    reg_pred_rounded = round(sklearn.metrics.accuracy_score(y_test, reg_pred),4)\n",
    "    \n",
    "    \n",
    "    #új sor a dataframe-be\n",
    "    new_row = {\"Főkomponensek száma\":str(i), \"Gradient Boosting Acc.\":grad_acc, \"Naive Bayes Acc.\":bayes_acc ,\"Logreg Acc.\":log_acc, \"SVM Acc.\":SVM_acc, \"Linreg RMSE\":rmse, \"Linreg R2\":R2, \n",
    "               \"Linreg RMSE kerekített\":rmse_rounded, \"Linreg Acc kerekített\":reg_pred_rounded}\n",
    "    PCA_scores = PCA_scores.append(new_row, ignore_index=True)"
   ]
  },
  {
   "cell_type": "code",
   "execution_count": 49,
   "id": "11a1a7c3",
   "metadata": {},
   "outputs": [
    {
     "data": {
      "text/html": [
       "<div>\n",
       "<style scoped>\n",
       "    .dataframe tbody tr th:only-of-type {\n",
       "        vertical-align: middle;\n",
       "    }\n",
       "\n",
       "    .dataframe tbody tr th {\n",
       "        vertical-align: top;\n",
       "    }\n",
       "\n",
       "    .dataframe thead th {\n",
       "        text-align: right;\n",
       "    }\n",
       "</style>\n",
       "<table border=\"1\" class=\"dataframe\">\n",
       "  <thead>\n",
       "    <tr style=\"text-align: right;\">\n",
       "      <th></th>\n",
       "      <th>Főkomponensek száma</th>\n",
       "      <th>Gradient Boosting Acc.</th>\n",
       "      <th>Naive Bayes Acc.</th>\n",
       "      <th>Logreg Acc.</th>\n",
       "      <th>SVM Acc.</th>\n",
       "      <th>Linreg RMSE</th>\n",
       "      <th>Linreg R2</th>\n",
       "      <th>Linreg RMSE kerekített</th>\n",
       "      <th>Linreg Acc kerekített</th>\n",
       "    </tr>\n",
       "  </thead>\n",
       "  <tbody>\n",
       "    <tr>\n",
       "      <th>0</th>\n",
       "      <td>1</td>\n",
       "      <td>0.6066</td>\n",
       "      <td>0.7213</td>\n",
       "      <td>0.7377</td>\n",
       "      <td>0.7377</td>\n",
       "      <td>0.4187</td>\n",
       "      <td>0.2791</td>\n",
       "      <td>0.5279</td>\n",
       "      <td>0.7213</td>\n",
       "    </tr>\n",
       "    <tr>\n",
       "      <th>1</th>\n",
       "      <td>2</td>\n",
       "      <td>0.7049</td>\n",
       "      <td>0.6885</td>\n",
       "      <td>0.7049</td>\n",
       "      <td>0.7049</td>\n",
       "      <td>0.4221</td>\n",
       "      <td>0.3588</td>\n",
       "      <td>0.5581</td>\n",
       "      <td>0.6885</td>\n",
       "    </tr>\n",
       "    <tr>\n",
       "      <th>2</th>\n",
       "      <td>3</td>\n",
       "      <td>0.7049</td>\n",
       "      <td>0.7049</td>\n",
       "      <td>0.7049</td>\n",
       "      <td>0.7541</td>\n",
       "      <td>0.4073</td>\n",
       "      <td>0.3590</td>\n",
       "      <td>0.4959</td>\n",
       "      <td>0.7541</td>\n",
       "    </tr>\n",
       "    <tr>\n",
       "      <th>3</th>\n",
       "      <td>4</td>\n",
       "      <td>0.6885</td>\n",
       "      <td>0.7377</td>\n",
       "      <td>0.7869</td>\n",
       "      <td>0.7705</td>\n",
       "      <td>0.3896</td>\n",
       "      <td>0.3970</td>\n",
       "      <td>0.4616</td>\n",
       "      <td>0.7869</td>\n",
       "    </tr>\n",
       "    <tr>\n",
       "      <th>4</th>\n",
       "      <td>5</td>\n",
       "      <td>0.7213</td>\n",
       "      <td>0.7377</td>\n",
       "      <td>0.7705</td>\n",
       "      <td>0.7705</td>\n",
       "      <td>0.3921</td>\n",
       "      <td>0.3966</td>\n",
       "      <td>0.4791</td>\n",
       "      <td>0.7705</td>\n",
       "    </tr>\n",
       "    <tr>\n",
       "      <th>5</th>\n",
       "      <td>6</td>\n",
       "      <td>0.6885</td>\n",
       "      <td>0.7377</td>\n",
       "      <td>0.8033</td>\n",
       "      <td>0.7869</td>\n",
       "      <td>0.3823</td>\n",
       "      <td>0.4157</td>\n",
       "      <td>0.4791</td>\n",
       "      <td>0.7705</td>\n",
       "    </tr>\n",
       "    <tr>\n",
       "      <th>6</th>\n",
       "      <td>7</td>\n",
       "      <td>0.7049</td>\n",
       "      <td>0.7705</td>\n",
       "      <td>0.8525</td>\n",
       "      <td>0.8361</td>\n",
       "      <td>0.3775</td>\n",
       "      <td>0.4197</td>\n",
       "      <td>0.4435</td>\n",
       "      <td>0.8033</td>\n",
       "    </tr>\n",
       "    <tr>\n",
       "      <th>7</th>\n",
       "      <td>8</td>\n",
       "      <td>0.6885</td>\n",
       "      <td>0.7541</td>\n",
       "      <td>0.8033</td>\n",
       "      <td>0.8361</td>\n",
       "      <td>0.3810</td>\n",
       "      <td>0.4217</td>\n",
       "      <td>0.4435</td>\n",
       "      <td>0.8033</td>\n",
       "    </tr>\n",
       "  </tbody>\n",
       "</table>\n",
       "</div>"
      ],
      "text/plain": [
       "  Főkomponensek száma  Gradient Boosting Acc.  Naive Bayes Acc.  Logreg Acc.  \\\n",
       "0                   1                  0.6066            0.7213       0.7377   \n",
       "1                   2                  0.7049            0.6885       0.7049   \n",
       "2                   3                  0.7049            0.7049       0.7049   \n",
       "3                   4                  0.6885            0.7377       0.7869   \n",
       "4                   5                  0.7213            0.7377       0.7705   \n",
       "5                   6                  0.6885            0.7377       0.8033   \n",
       "6                   7                  0.7049            0.7705       0.8525   \n",
       "7                   8                  0.6885            0.7541       0.8033   \n",
       "\n",
       "   SVM Acc.  Linreg RMSE  Linreg R2  Linreg RMSE kerekített  \\\n",
       "0    0.7377       0.4187     0.2791                  0.5279   \n",
       "1    0.7049       0.4221     0.3588                  0.5581   \n",
       "2    0.7541       0.4073     0.3590                  0.4959   \n",
       "3    0.7705       0.3896     0.3970                  0.4616   \n",
       "4    0.7705       0.3921     0.3966                  0.4791   \n",
       "5    0.7869       0.3823     0.4157                  0.4791   \n",
       "6    0.8361       0.3775     0.4197                  0.4435   \n",
       "7    0.8361       0.3810     0.4217                  0.4435   \n",
       "\n",
       "   Linreg Acc kerekített  \n",
       "0                 0.7213  \n",
       "1                 0.6885  \n",
       "2                 0.7541  \n",
       "3                 0.7869  \n",
       "4                 0.7705  \n",
       "5                 0.7705  \n",
       "6                 0.8033  \n",
       "7                 0.8033  "
      ]
     },
     "execution_count": 49,
     "metadata": {},
     "output_type": "execute_result"
    }
   ],
   "source": [
    "PCA_scores"
   ]
  },
  {
   "cell_type": "markdown",
   "id": "150ef146",
   "metadata": {},
   "source": [
    "# Legjobb modellek"
   ]
  },
  {
   "cell_type": "code",
   "execution_count": null,
   "id": "d66f9a18",
   "metadata": {},
   "outputs": [],
   "source": [
    "# 3 csoport: Naive Bayes (sima, illetve 6-7 PCA-s), valamint SVM\n",
    "\n",
    "# 2 csoport: 7-es PCA-s Logreg és Linreg"
   ]
  }
 ],
 "metadata": {
  "kernelspec": {
   "display_name": "Python 3 (ipykernel)",
   "language": "python",
   "name": "python3"
  },
  "language_info": {
   "codemirror_mode": {
    "name": "ipython",
    "version": 3
   },
   "file_extension": ".py",
   "mimetype": "text/x-python",
   "name": "python",
   "nbconvert_exporter": "python",
   "pygments_lexer": "ipython3",
   "version": "3.8.11"
  }
 },
 "nbformat": 4,
 "nbformat_minor": 5
}
