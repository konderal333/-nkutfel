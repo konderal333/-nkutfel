{
 "cells": [
  {
   "cell_type": "markdown",
   "id": "cf702f21",
   "metadata": {},
   "source": [
    "# Modulok és Dataprep"
   ]
  },
  {
   "cell_type": "code",
   "execution_count": 1,
   "id": "f90df701",
   "metadata": {},
   "outputs": [],
   "source": [
    "import pandas as pd\n",
    "import numpy as np\n",
    "from sklearn.model_selection import train_test_split, GridSearchCV, StratifiedKFold\n",
    "import sklearn.metrics\n",
    "from sklearn.multiclass import OneVsRestClassifier\n",
    "from imblearn.pipeline import Pipeline as imbpipeline\n",
    "from sklearn.pipeline import Pipeline"
   ]
  },
  {
   "cell_type": "code",
   "execution_count": 2,
   "id": "64d9cdbc",
   "metadata": {},
   "outputs": [],
   "source": [
    "data = pd.read_excel(\"C:/Users/Donát/Documents/GitHub/-nkutfel/2019/2019_MAIN_CLEANED.xlsx\")"
   ]
  },
  {
   "cell_type": "markdown",
   "id": "d0fc7982",
   "metadata": {},
   "source": [
    "**Minimális Feature Engineering**"
   ]
  },
  {
   "cell_type": "code",
   "execution_count": 3,
   "id": "ca87b109",
   "metadata": {},
   "outputs": [],
   "source": [
    "#szűrjük ki a nem kategorikus vagy numerikus változókat\n",
    "working_data = data.drop(labels = [\"Name\", \"Neptun\", \"Tankör\"], axis = 1)\n",
    "\n",
    "#alakítsuk numerikussá a %-os teljesítménymutatókat\n",
    "for i, row in working_data.iterrows():\n",
    "    working_data.at[i, \"Matek eredmény\"] = float(row[\"Matek eredmény\"][:-3] + \".\" + row[\"Matek eredmény\"][-2])\n",
    "    working_data.at[i, \"Kognitív eredmény\"] = float(row[\"Kognitív eredmény\"][:-3] + \".\" + row[\"Kognitív eredmény\"][-2])\n",
    "    working_data.at[i, \"Kognitív pont\"] = float(str(row[\"Kognitív pont\"]).replace(\",\", \".\"))\n",
    "    working_data.at[i, \"Össz eredmény (átlag)\"] = float(row[\"Össz eredmény (átlag)\"][:-3] + \".\" + row[\"Össz eredmény (átlag)\"][-2])\n",
    "\n"
   ]
  },
  {
   "cell_type": "code",
   "execution_count": 4,
   "id": "d2ed5065",
   "metadata": {},
   "outputs": [],
   "source": [
    "#csináljunk a jegyek alapján 3 csoportot: a jó tanulók a 4-5, a rossz a 2-3, a bukás legyen 1\n",
    "for i, row in working_data.iterrows():\n",
    "    if working_data.at[i, \"Matematika A1a - Analízis\"] in [ 4, 5]:\n",
    "        working_data.at[i, \"Matematika A1a - Analízis\"] = 3\n",
    "    elif working_data.at[i, \"Matematika A1a - Analízis\"] in [2, 3]:\n",
    "        working_data.at[i, \"Matematika A1a - Analízis\"] = 2"
   ]
  },
  {
   "cell_type": "code",
   "execution_count": 5,
   "id": "cef2214c",
   "metadata": {},
   "outputs": [
    {
     "data": {
      "text/plain": [
       "2    145\n",
       "3     80\n",
       "1      5\n",
       "Name: Matematika A1a - Analízis, dtype: int64"
      ]
     },
     "execution_count": 5,
     "metadata": {},
     "output_type": "execute_result"
    }
   ],
   "source": [
    "working_data['Matematika A1a - Analízis'].value_counts()"
   ]
  },
  {
   "cell_type": "markdown",
   "id": "9ddab2d3",
   "metadata": {},
   "source": [
    "# Vegyészek"
   ]
  },
  {
   "cell_type": "code",
   "execution_count": 6,
   "id": "65fb8437",
   "metadata": {
    "scrolled": true
   },
   "outputs": [
    {
     "name": "stderr",
     "output_type": "stream",
     "text": [
      "D:\\anaconda3\\envs\\otthoni\\lib\\site-packages\\sklearn\\preprocessing\\_data.py:2590: UserWarning: n_quantiles (1000) is greater than the total number of samples (83). n_quantiles is set to n_samples.\n",
      "  warnings.warn(\n"
     ]
    }
   ],
   "source": [
    "from imblearn.over_sampling import SMOTE\n",
    "\n",
    "vegyesz = working_data.query(\"Szak == 'Vegyészmérnöki'\")\n",
    "\n",
    "stratified_kfold = StratifiedKFold(n_splits=5,\n",
    "                                       shuffle=True,\n",
    "                                       random_state=11)\n",
    "\n",
    "features = vegyesz.drop(labels = [\"Matematika A1a - Analízis\", \"Kognitív pont\", \"Matematika A2c\", \"Szak\", \"Matek helyes\", \"Összes pont\", \"Össz eredmény (átlag)\"], axis = 1)\n",
    "label = vegyesz[\"Matematika A1a - Analízis\"]\n",
    "\n",
    "\n",
    "\n",
    "X_train, X_test, y_train, y_test = train_test_split(features, label, test_size=0.3, random_state=0)\n",
    "\n",
    "\n",
    "#skálázás\n",
    "\n",
    "from sklearn import preprocessing\n",
    "quantile_transformer = preprocessing.QuantileTransformer(random_state=0)\n",
    "X_train = quantile_transformer.fit_transform(X_train)\n",
    "X_test = quantile_transformer.transform(X_test)\n"
   ]
  },
  {
   "cell_type": "markdown",
   "id": "7a96692b",
   "metadata": {},
   "source": [
    "## Osztályozó algoritmusok\n",
    "\n",
    "**KNN**"
   ]
  },
  {
   "cell_type": "code",
   "execution_count": 7,
   "id": "668adfd9",
   "metadata": {},
   "outputs": [
    {
     "name": "stderr",
     "output_type": "stream",
     "text": [
      "D:\\anaconda3\\envs\\otthoni\\lib\\site-packages\\sklearn\\model_selection\\_split.py:676: UserWarning: The least populated class in y has only 1 members, which is less than n_splits=5.\n",
      "  warnings.warn(\n"
     ]
    },
    {
     "name": "stdout",
     "output_type": "stream",
     "text": [
      "Mahalanobis kNN:\n",
      "{'cv_score': 0.65, 'test_score': 0.8055555555555556}\n",
      "Params:\n",
      "{'classifier__n_neighbors': 13, 'classifier__weights': 'uniform'}\n"
     ]
    }
   ],
   "source": [
    "#KNN-re keresztvalidációval mahalanobis-szal\n",
    "from sklearn.neighbors import KNeighborsClassifier\n",
    "from sklearn.model_selection import cross_val_score\n",
    "\n",
    "\n",
    "#distance függvény\n",
    "def squared(array):\n",
    "    return 1/array**2\n",
    "\n",
    "\n",
    "\n",
    "pipeline = imbpipeline(steps = [['classifier', KNeighborsClassifier(metric=\"mahalanobis\", metric_params={'V': np.cov(m=X_train.astype(float), rowvar=False)})]])\n",
    "param_grid = {'classifier__n_neighbors':[i for i in range(1,30)], 'classifier__weights':['uniform', 'distance', squared]}\n",
    "\n",
    "knn_mahal_grid_search = GridSearchCV(estimator=pipeline,\n",
    "                               param_grid=param_grid,\n",
    "                               scoring='accuracy',\n",
    "                               cv=stratified_kfold,\n",
    "                               n_jobs=-1)\n",
    "\n",
    "\n",
    "knn_mahal_grid_search.fit(X_train, y_train)\n",
    "cv_score = knn_mahal_grid_search.best_score_\n",
    "knn_mahal = knn_mahal_grid_search.score(X_test, y_test)\n",
    "print(\"Mahalanobis kNN:\")\n",
    "print({'cv_score':cv_score, 'test_score':knn_mahal})\n",
    "print(\"Params:\")\n",
    "print(knn_mahal_grid_search.best_params_)\n"
   ]
  },
  {
   "cell_type": "code",
   "execution_count": 8,
   "id": "cef2595c",
   "metadata": {
    "scrolled": true
   },
   "outputs": [
    {
     "name": "stderr",
     "output_type": "stream",
     "text": [
      "D:\\anaconda3\\envs\\otthoni\\lib\\site-packages\\sklearn\\model_selection\\_split.py:676: UserWarning: The least populated class in y has only 1 members, which is less than n_splits=5.\n",
      "  warnings.warn(\n"
     ]
    },
    {
     "name": "stdout",
     "output_type": "stream",
     "text": [
      "Euclidian kNN:\n",
      "{'cv_score': 0.6742647058823529, 'test_score': 0.7777777777777778}\n",
      "Params:\n",
      "{'classifier__n_neighbors': 21, 'classifier__weights': 'uniform'}\n"
     ]
    }
   ],
   "source": [
    "#KNN-re keresztvalidációval euklidészi távolsággal\n",
    "\n",
    "pipeline = Pipeline(steps = [['classifier', KNeighborsClassifier(metric=\"euclidean\")]])\n",
    "param_grid = {'classifier__n_neighbors':[i for i in range(1,30)], 'classifier__weights':['uniform', 'distance', squared]}\n",
    "\n",
    "knn_eu_grid_search = GridSearchCV(estimator=pipeline,\n",
    "                               param_grid=param_grid,\n",
    "                               scoring='accuracy',\n",
    "                               cv=stratified_kfold,\n",
    "                               n_jobs=-1)\n",
    "\n",
    "\n",
    "knn_eu_grid_search.fit(X_train, y_train)\n",
    "cv_score = knn_eu_grid_search.best_score_\n",
    "knn_eu = knn_eu_grid_search.score(X_test, y_test)\n",
    "print(\"Euclidian kNN:\")\n",
    "print({'cv_score':cv_score, 'test_score':knn_eu})\n",
    "print(\"Params:\")\n",
    "print(knn_eu_grid_search.best_params_)\n",
    "\n",
    "\n"
   ]
  },
  {
   "cell_type": "code",
   "execution_count": 9,
   "id": "23796224",
   "metadata": {},
   "outputs": [
    {
     "name": "stdout",
     "output_type": "stream",
     "text": [
      "kNN with Mahalanobis:\n",
      "- Optmial parameters: {'classifier__n_neighbors': 13, 'classifier__weights': 'uniform'} \n",
      "- Accuracy: 0.8055555555555556\n",
      "kNN with Euclidean:\n",
      "- Optimal parameters: {'classifier__n_neighbors': 21, 'classifier__weights': 'uniform'} \n",
      "- Accuracy: 0.7777777777777778\n"
     ]
    }
   ],
   "source": [
    "#összesítve kNN\n",
    "print(f'kNN with Mahalanobis:')\n",
    "print(f'- Optmial parameters: {knn_mahal_grid_search.best_params_} \\n- Accuracy: {knn_mahal}')\n",
    "print(f'kNN with Euclidean:')\n",
    "print(f'- Optimal parameters: {knn_eu_grid_search.best_params_} \\n- Accuracy: {knn_eu}')"
   ]
  },
  {
   "cell_type": "markdown",
   "id": "854bb6c5",
   "metadata": {},
   "source": [
    "**SVM**"
   ]
  },
  {
   "cell_type": "code",
   "execution_count": 10,
   "id": "571e9ef5",
   "metadata": {},
   "outputs": [
    {
     "name": "stderr",
     "output_type": "stream",
     "text": [
      "D:\\anaconda3\\envs\\otthoni\\lib\\site-packages\\sklearn\\model_selection\\_split.py:676: UserWarning: The least populated class in y has only 1 members, which is less than n_splits=5.\n",
      "  warnings.warn(\n"
     ]
    },
    {
     "name": "stdout",
     "output_type": "stream",
     "text": [
      "SVM:\n",
      "{'cv_score': 0.65, 'test_score': 0.6944444444444444}\n",
      "Params:\n",
      "{'classifier__C': 0.4, 'classifier__kernel': 'rbf'}\n",
      "\n",
      "Accuracy: 0.6944\n",
      "Precision: 0.738\n",
      "Recall: 0.6944\n"
     ]
    },
    {
     "name": "stderr",
     "output_type": "stream",
     "text": [
      "D:\\anaconda3\\envs\\otthoni\\lib\\site-packages\\sklearn\\metrics\\_classification.py:1318: UndefinedMetricWarning: Recall is ill-defined and being set to 0.0 in labels with no true samples. Use `zero_division` parameter to control this behavior.\n",
      "  _warn_prf(average, modifier, msg_start, len(result))\n"
     ]
    }
   ],
   "source": [
    "#tesztelés megfelelő C-hez SVM-nél\n",
    "from sklearn.svm import SVC\n",
    "from sklearn.multiclass import OneVsRestClassifier\n",
    "\n",
    "pipeline = Pipeline(steps = [['classifier', SVC(class_weight = \"balanced\", random_state=0, decision_function_shape = 'ovr')]])\n",
    "param_grid = {'classifier__C':[i*0.1 for i in range(1,50)], 'classifier__kernel':['linear','poly','rbf']}\n",
    "\n",
    "SVM_grid_search = GridSearchCV(estimator=pipeline,\n",
    "                               param_grid=param_grid,\n",
    "                               scoring='accuracy',\n",
    "                               cv=stratified_kfold,\n",
    "                               n_jobs=-1)\n",
    "\n",
    "\n",
    "SVM_grid_search.fit(X_train, y_train)\n",
    "cv_score = SVM_grid_search.best_score_\n",
    "SVM_acc = SVM_grid_search.score(X_test, y_test)\n",
    "y_pred = SVM_grid_search.predict(X_test)\n",
    "print(\"SVM:\")\n",
    "print({'cv_score':cv_score, 'test_score':SVM_acc})\n",
    "print(\"Params:\")\n",
    "print(SVM_grid_search.best_params_)\n",
    "\n",
    "print(\"\")\n",
    "print(f'Accuracy: {round(sklearn.metrics.accuracy_score(y_test, y_pred),4)}')\n",
    "print(f'Precision: {round(sklearn.metrics.precision_score(y_test, y_pred, average = \"weighted\"),4)}')\n",
    "print(f'Recall: {round(sklearn.metrics.recall_score(y_test, y_pred, average = \"weighted\"),4)}')\n",
    "\n"
   ]
  },
  {
   "cell_type": "markdown",
   "id": "187a72f2",
   "metadata": {},
   "source": [
    "**Logisztikus Regresszió**"
   ]
  },
  {
   "cell_type": "code",
   "execution_count": 11,
   "id": "e7d8b3a1",
   "metadata": {},
   "outputs": [
    {
     "name": "stderr",
     "output_type": "stream",
     "text": [
      "D:\\anaconda3\\envs\\otthoni\\lib\\site-packages\\sklearn\\model_selection\\_split.py:676: UserWarning: The least populated class in y has only 1 members, which is less than n_splits=5.\n",
      "  warnings.warn(\n"
     ]
    },
    {
     "name": "stdout",
     "output_type": "stream",
     "text": [
      "Logistic Regression:\n",
      "{'cv_score': 0.6257352941176471, 'test_score': 0.0}\n",
      "Params:\n",
      "{'classifier__C': 0.05, 'classifier__solver': 'sag'}\n",
      "\n",
      "Accuracy: 0.0\n",
      "Precision: 0.0\n",
      "Recall: 0.0\n"
     ]
    },
    {
     "name": "stderr",
     "output_type": "stream",
     "text": [
      "D:\\anaconda3\\envs\\otthoni\\lib\\site-packages\\sklearn\\linear_model\\_sag.py:352: ConvergenceWarning: The max_iter was reached which means the coef_ did not converge\n",
      "  warnings.warn(\n",
      "D:\\anaconda3\\envs\\otthoni\\lib\\site-packages\\sklearn\\metrics\\_classification.py:1318: UndefinedMetricWarning: Precision is ill-defined and being set to 0.0 in labels with no predicted samples. Use `zero_division` parameter to control this behavior.\n",
      "  _warn_prf(average, modifier, msg_start, len(result))\n",
      "D:\\anaconda3\\envs\\otthoni\\lib\\site-packages\\sklearn\\metrics\\_classification.py:1318: UndefinedMetricWarning: Recall is ill-defined and being set to 0.0 in labels with no true samples. Use `zero_division` parameter to control this behavior.\n",
      "  _warn_prf(average, modifier, msg_start, len(result))\n"
     ]
    }
   ],
   "source": [
    "#logisztikus regresszióra\n",
    "from sklearn.linear_model import LogisticRegression\n",
    "\n",
    "pipeline = Pipeline(steps = [['classifier', LogisticRegression(class_weight = \"balanced\", random_state=0, max_iter = 5000, multi_class = 'ovr')]])\n",
    "param_grid = {'classifier__C':[i*0.05 for i in range(1,100)], 'classifier__solver':['sag','saga']}\n",
    "\n",
    "log_grid_search = GridSearchCV(estimator=pipeline,\n",
    "                               param_grid=param_grid,\n",
    "                               scoring='accuracy',\n",
    "                               cv=stratified_kfold,\n",
    "                               n_jobs=-1)\n",
    "\n",
    "\n",
    "log_grid_search.fit(X_train, y_train)\n",
    "cv_score = log_grid_search.best_score_\n",
    "log_acc = log_grid_search.score(X_test, y_test)\n",
    "y_pred = log_grid_search.predict(X_test)\n",
    "print(\"Logistic Regression:\")\n",
    "print({'cv_score':cv_score, 'test_score':log_acc})\n",
    "print(\"Params:\")\n",
    "print(log_grid_search.best_params_)\n",
    "\n",
    "print(\"\")\n",
    "print(f'Accuracy: {round(sklearn.metrics.accuracy_score(y_test, y_pred),4)}')\n",
    "print(f'Precision: {round(sklearn.metrics.precision_score(y_test, y_pred, average = \"weighted\"),4)}')\n",
    "print(f'Recall: {round(sklearn.metrics.recall_score(y_test, y_pred, average = \"weighted\"),4)}')\n"
   ]
  },
  {
   "cell_type": "markdown",
   "id": "67698839",
   "metadata": {},
   "source": [
    "**Naive Bayes**"
   ]
  },
  {
   "cell_type": "code",
   "execution_count": 12,
   "id": "96566078",
   "metadata": {},
   "outputs": [
    {
     "name": "stdout",
     "output_type": "stream",
     "text": [
      "Accuracy: 0.7778\n"
     ]
    }
   ],
   "source": [
    "#Naive bayes-szel\n",
    "from sklearn.naive_bayes import GaussianNB\n",
    "\n",
    "clf = GaussianNB()\n",
    "clf.fit(X_train, y_train)\n",
    "y_pred = clf.predict(X_test)\n",
    "bayes_acc = round(sklearn.metrics.accuracy_score(y_test, y_pred),4)\n",
    "\n",
    "print(f'Accuracy: {round(sklearn.metrics.accuracy_score(y_test, y_pred),4)}')"
   ]
  },
  {
   "cell_type": "code",
   "execution_count": 13,
   "id": "4c6930f2",
   "metadata": {},
   "outputs": [
    {
     "name": "stdout",
     "output_type": "stream",
     "text": [
      "Accuracy with different algorithms:\n",
      "- SVM: 0.6944444444444444 \n",
      "- Logistic Regression: 0.0 \n",
      "- Naive Bayes: 0.7778\n"
     ]
    }
   ],
   "source": [
    "#az előző 3 kiértékelése\n",
    "print(\"Accuracy with different algorithms:\")\n",
    "print(f'- SVM: {SVM_acc} \\n- Logistic Regression: {log_acc} \\n- Naive Bayes: {bayes_acc}')"
   ]
  },
  {
   "cell_type": "markdown",
   "id": "ac99e381",
   "metadata": {},
   "source": [
    "**Gradient Boosting**"
   ]
  },
  {
   "cell_type": "code",
   "execution_count": 14,
   "id": "4eee6893",
   "metadata": {},
   "outputs": [
    {
     "name": "stderr",
     "output_type": "stream",
     "text": [
      "D:\\anaconda3\\envs\\otthoni\\lib\\site-packages\\sklearn\\model_selection\\_split.py:676: UserWarning: The least populated class in y has only 1 members, which is less than n_splits=5.\n",
      "  warnings.warn(\n"
     ]
    },
    {
     "name": "stdout",
     "output_type": "stream",
     "text": [
      "Gradient Boosting:\n",
      "{'cv_score': 0.5897058823529412, 'test_score': 0.5555555555555556}\n",
      "Params:\n",
      "{'classifier__criterion': 'squared_error', 'classifier__learning_rate': 0.48, 'classifier__max_depth': 5, 'classifier__n_estimators': 10}\n",
      "\n",
      "Accuracy: 0.5556\n",
      "Precision: 0.5915\n",
      "Recall: 0.5556\n"
     ]
    },
    {
     "name": "stderr",
     "output_type": "stream",
     "text": [
      "D:\\anaconda3\\envs\\otthoni\\lib\\site-packages\\sklearn\\metrics\\_classification.py:1318: UndefinedMetricWarning: Recall is ill-defined and being set to 0.0 in labels with no true samples. Use `zero_division` parameter to control this behavior.\n",
      "  _warn_prf(average, modifier, msg_start, len(result))\n"
     ]
    }
   ],
   "source": [
    "from sklearn.ensemble import GradientBoostingClassifier\n",
    "\n",
    "pipeline = Pipeline(steps = [['classifier', GradientBoostingClassifier(random_state=0)]])\n",
    "param_grid = {'classifier__learning_rate':[0.01*i for i in range(1,50)],\n",
    "              'classifier__n_estimators':[5*i for i in range(1,10)], 'classifier__criterion':['squared_error','friedman_mse'],\n",
    "              'classifier__max_depth':[3,4,5]}\n",
    "\n",
    "grad_grid_search = GridSearchCV(estimator=pipeline,\n",
    "                               param_grid=param_grid,\n",
    "                               scoring='accuracy',\n",
    "                               cv=stratified_kfold,\n",
    "                               n_jobs=-1)\n",
    "\n",
    "\n",
    "grad_grid_search.fit(X_train, y_train)\n",
    "cv_score = grad_grid_search.best_score_\n",
    "grad_acc = grad_grid_search.score(X_test, y_test)\n",
    "y_pred = grad_grid_search.predict(X_test)\n",
    "print(\"Gradient Boosting:\")\n",
    "print({'cv_score':cv_score, 'test_score':grad_acc})\n",
    "print(\"Params:\")\n",
    "print(grad_grid_search.best_params_)\n",
    "\n",
    "print(\"\")\n",
    "print(f'Accuracy: {round(sklearn.metrics.accuracy_score(y_test, y_pred),4)}')\n",
    "print(f'Precision: {round(sklearn.metrics.precision_score(y_test, y_pred, average = \"weighted\"),4)}')\n",
    "print(f'Recall: {round(sklearn.metrics.recall_score(y_test, y_pred, average = \"weighted\"),4)}')"
   ]
  },
  {
   "cell_type": "markdown",
   "id": "d7dd4e7c",
   "metadata": {},
   "source": [
    "**Lineáris regresszió**"
   ]
  },
  {
   "cell_type": "code",
   "execution_count": 15,
   "id": "dfc53be2",
   "metadata": {},
   "outputs": [
    {
     "data": {
      "text/plain": [
       "0.30548415287416486"
      ]
     },
     "execution_count": 15,
     "metadata": {},
     "output_type": "execute_result"
    }
   ],
   "source": [
    "#ezek után nem oneVSall: lineáris regresszió\n",
    "from sklearn.linear_model import LinearRegression\n",
    "\n",
    "reg_alap = LinearRegression().fit(features,label)\n",
    "reg_alap.score(features, label)         "
   ]
  },
  {
   "cell_type": "code",
   "execution_count": 16,
   "id": "fe016bfc",
   "metadata": {},
   "outputs": [
    {
     "name": "stdout",
     "output_type": "stream",
     "text": [
      "Coefficients: [ 0.07988749  0.1902731  -0.06149958 -0.27607194 -0.26341137  0.79916553\n",
      "  0.14761117  0.19872182  0.1184327  -0.07157714  0.04357576]\n",
      "RMSE: 0.3898\n"
     ]
    }
   ],
   "source": [
    "#most nézzük a tanítóhalmazon és a teszthalmazon\n",
    "\n",
    "reg = LinearRegression().fit(X_train,y_train)\n",
    "reg_pred = reg.predict(X_test)\n",
    "\n",
    "#együtthatók\n",
    "print(\"Coefficients:\", reg.coef_)\n",
    "#RMSE\n",
    "\n",
    "rmse = round(np.power(np.sum(np.power(y_test - reg_pred, 2))/reg_pred.shape[0],0.5),4)\n",
    "print(\"RMSE:\", rmse)"
   ]
  },
  {
   "cell_type": "code",
   "execution_count": 17,
   "id": "87f03bc4",
   "metadata": {},
   "outputs": [
    {
     "data": {
      "text/plain": [
       "<function matplotlib.pyplot.show(close=None, block=None)>"
      ]
     },
     "execution_count": 17,
     "metadata": {},
     "output_type": "execute_result"
    },
    {
     "data": {
      "image/png": "[encoded data removed]",
      "text/plain": [
       "<Figure size 432x288 with 1 Axes>"
      ]
     },
     "metadata": {
      "needs_background": "light"
     },
     "output_type": "display_data"
    }
   ],
   "source": [
    "#Nézzük meg a reziduális tagokat\n",
    "\n",
    "import matplotlib.pyplot as plt\n",
    "\n",
    "plt.scatter(reg_pred, y_test-reg_pred)\n",
    "plt.plot(reg_pred, [0 for i in range(reg_pred.shape[0])], c=\"red\") #0-vonal\n",
    "plt.title(\"Reziduális tagok\")\n",
    "plt.axis\n",
    "plt.show"
   ]
  },
  {
   "cell_type": "code",
   "execution_count": 18,
   "id": "936f36f4",
   "metadata": {},
   "outputs": [
    {
     "data": {
      "text/plain": [
       "0.2622"
      ]
     },
     "execution_count": 18,
     "metadata": {},
     "output_type": "execute_result"
    }
   ],
   "source": [
    "#R^2 és SSR\n",
    "SST = np.sum(np.power(y_test-np.mean(y_test),2))\n",
    "SSR = np.sum(np.power(reg_pred-np.mean(y_test),2))\n",
    "R2 = round(SSR/SST,4)\n",
    "R2"
   ]
  },
  {
   "cell_type": "code",
   "execution_count": 19,
   "id": "1de567b4",
   "metadata": {},
   "outputs": [
    {
     "name": "stdout",
     "output_type": "stream",
     "text": [
      "RMSE: 0.5\n",
      "0.75\n"
     ]
    }
   ],
   "source": [
    "#másik: kerekítsük a becsült értékeket\n",
    "\n",
    "for i in range(reg_pred.shape[0]):\n",
    "    reg_pred[i] = round(reg_pred[i],0)\n",
    "\n",
    "rmse_rounded = round(np.power(np.sum(np.power(y_test - reg_pred, 2))/reg_pred.shape[0],0.5),4)\n",
    "print(\"RMSE:\", rmse_rounded)\n",
    "lin_acc = round(sklearn.metrics.accuracy_score(y_test, reg_pred),4)\n",
    "print(round(sklearn.metrics.accuracy_score(y_test, reg_pred),4))"
   ]
  },
  {
   "cell_type": "code",
   "execution_count": 20,
   "id": "99457cc9",
   "metadata": {},
   "outputs": [
    {
     "name": "stdout",
     "output_type": "stream",
     "text": [
      "Linear regression:\n",
      "- RMSE: 0.3898 \n",
      "- R2: 0.2622 \n",
      "- RMSE after rounding: 0.5 \n",
      "- Accuracy after rounding: 0.75\n"
     ]
    }
   ],
   "source": [
    "#lineáris regresszió összesen:\n",
    "print(\"Linear regression:\")\n",
    "print(f'- RMSE: {rmse} \\n- R2: {R2} \\n- RMSE after rounding: {rmse_rounded} \\n- Accuracy after rounding: {lin_acc}')"
   ]
  },
  {
   "cell_type": "markdown",
   "id": "cbf60356",
   "metadata": {},
   "source": [
    "### Eredmények összesítve"
   ]
  },
  {
   "cell_type": "code",
   "execution_count": 21,
   "id": "a3b1f43f",
   "metadata": {},
   "outputs": [
    {
     "name": "stdout",
     "output_type": "stream",
     "text": [
      "kNN with Mahalanobis:\n",
      "- Optmial number of neighbours: {'classifier__n_neighbors': 13, 'classifier__weights': 'uniform'} \n",
      "- Accuracy: 0.8055555555555556\n",
      "kNN with Euclidean:\n",
      "- Optimal number of neighbours: {'classifier__n_neighbors': 21, 'classifier__weights': 'uniform'} \n",
      "- Accuracy: 0.7777777777777778\n",
      "SVM:\n",
      "- Accuracy: 0.6944444444444444\n",
      "Logistic Regression:\n",
      "- Accuracy: 0.0\n",
      "Naive Bayes:\n",
      "- Accuracy: 0.7778\n",
      "Linear regression:\n",
      "- RMSE: 0.3898 \n",
      "- R2: 0.2622 \n",
      "- RMSE after rounding: 0.5 \n",
      "- Accuracy after rounding: 0.75\n"
     ]
    }
   ],
   "source": [
    "#összes teljes mindenes\n",
    "#összesítve kNN\n",
    "print(f'kNN with Mahalanobis:')\n",
    "print(f'- Optmial number of neighbours: {knn_mahal_grid_search.best_params_} \\n- Accuracy: {knn_mahal}')\n",
    "print(f'kNN with Euclidean:')\n",
    "print(f'- Optimal number of neighbours: {knn_eu_grid_search.best_params_} \\n- Accuracy: {knn_eu}')\n",
    "print(\"SVM:\")\n",
    "print(f'- Accuracy: {SVM_acc}')\n",
    "print(\"Logistic Regression:\")\n",
    "print(f'- Accuracy: {log_acc}')\n",
    "print(\"Naive Bayes:\")\n",
    "print(f'- Accuracy: {bayes_acc}')\n",
    "print(\"Linear regression:\")\n",
    "print(f'- RMSE: {rmse} \\n- R2: {R2} \\n- RMSE after rounding: {rmse_rounded} \\n- Accuracy after rounding: {lin_acc}')"
   ]
  },
  {
   "cell_type": "markdown",
   "id": "1dc33c3e",
   "metadata": {},
   "source": [
    "# PCA"
   ]
  },
  {
   "cell_type": "code",
   "execution_count": 22,
   "id": "1703dcf9",
   "metadata": {},
   "outputs": [
    {
     "data": {
      "text/plain": [
       "[0.56, 0.67, 0.58, 0.81, 0.75, 0.81, 0.69, 0.83, 0.83]"
      ]
     },
     "execution_count": 22,
     "metadata": {},
     "output_type": "execute_result"
    }
   ],
   "source": [
    "#főkomponens analízissel\n",
    "#nézzük, mennyi főkomponenssel lesz a legjobb. (pl a logisztikus regresszió)\n",
    "from sklearn.decomposition import PCA\n",
    "\n",
    "scores = []\n",
    "\n",
    "for i in range(2,11):\n",
    "    projected = PCA(i).fit_transform(features)\n",
    "    X_train, X_test, y_train, y_test = train_test_split(projected, label, test_size=0.3, random_state=0)\n",
    "    neigh = KNeighborsClassifier(n_neighbors=i, metric=\"mahalanobis\", metric_params={'V': np.cov(m=X_train.astype(float), rowvar=False)})\n",
    "    neigh = neigh.fit(X_train,y_train)\n",
    "    y_pred = neigh.predict(X_test)\n",
    "    scores.append(round(sklearn.metrics.accuracy_score(y_test, y_pred),2))\n",
    "    \n",
    "scores"
   ]
  },
  {
   "cell_type": "code",
   "execution_count": 23,
   "id": "e3b280b7",
   "metadata": {},
   "outputs": [
    {
     "name": "stdout",
     "output_type": "stream",
     "text": [
      "Accuracy: 0.86\n",
      "Precision: 0.6\n",
      "Recall: 0.57\n"
     ]
    },
    {
     "name": "stderr",
     "output_type": "stream",
     "text": [
      "D:\\anaconda3\\envs\\otthoni\\lib\\site-packages\\sklearn\\metrics\\_classification.py:1318: UndefinedMetricWarning: Recall is ill-defined and being set to 0.0 in labels with no true samples. Use `zero_division` parameter to control this behavior.\n",
      "  _warn_prf(average, modifier, msg_start, len(result))\n"
     ]
    }
   ],
   "source": [
    "#főkomponenses logreg\n",
    "from sklearn.decomposition import PCA\n",
    "projected = PCA(4).fit_transform(features)\n",
    "X_train, X_test, y_train, y_test = train_test_split(projected, label, test_size=0.3, random_state=0)\n",
    "\n",
    "logreg = OneVsRestClassifier(LogisticRegression(class_weight = \"balanced\", random_state=0, max_iter = 10000)).fit(X_train, y_train)\n",
    "y_pred = logreg.predict(X_test)\n",
    "\n",
    "print(f'Accuracy: {round(sklearn.metrics.accuracy_score(y_test, y_pred),2)}')\n",
    "print(f'Precision: {round(sklearn.metrics.precision_score(y_test, y_pred, average = \"macro\"),2)}')\n",
    "print(f'Recall: {round(sklearn.metrics.recall_score(y_test, y_pred, average = \"macro\"),2)}')"
   ]
  },
  {
   "cell_type": "code",
   "execution_count": 24,
   "id": "c6b73b05",
   "metadata": {},
   "outputs": [
    {
     "name": "stderr",
     "output_type": "stream",
     "text": [
      "D:\\anaconda3\\envs\\otthoni\\lib\\site-packages\\sklearn\\preprocessing\\_data.py:2590: UserWarning: n_quantiles (1000) is greater than the total number of samples (83). n_quantiles is set to n_samples.\n",
      "  warnings.warn(\n",
      "D:\\anaconda3\\envs\\otthoni\\lib\\site-packages\\sklearn\\model_selection\\_split.py:676: UserWarning: The least populated class in y has only 1 members, which is less than n_splits=5.\n",
      "  warnings.warn(\n",
      "D:\\anaconda3\\envs\\otthoni\\lib\\site-packages\\sklearn\\model_selection\\_split.py:676: UserWarning: The least populated class in y has only 1 members, which is less than n_splits=5.\n",
      "  warnings.warn(\n",
      "D:\\anaconda3\\envs\\otthoni\\lib\\site-packages\\sklearn\\model_selection\\_split.py:676: UserWarning: The least populated class in y has only 1 members, which is less than n_splits=5.\n",
      "  warnings.warn(\n",
      "D:\\anaconda3\\envs\\otthoni\\lib\\site-packages\\sklearn\\preprocessing\\_data.py:2590: UserWarning: n_quantiles (1000) is greater than the total number of samples (83). n_quantiles is set to n_samples.\n",
      "  warnings.warn(\n",
      "D:\\anaconda3\\envs\\otthoni\\lib\\site-packages\\sklearn\\model_selection\\_split.py:676: UserWarning: The least populated class in y has only 1 members, which is less than n_splits=5.\n",
      "  warnings.warn(\n",
      "D:\\anaconda3\\envs\\otthoni\\lib\\site-packages\\sklearn\\linear_model\\_sag.py:352: ConvergenceWarning: The max_iter was reached which means the coef_ did not converge\n",
      "  warnings.warn(\n",
      "D:\\anaconda3\\envs\\otthoni\\lib\\site-packages\\sklearn\\model_selection\\_split.py:676: UserWarning: The least populated class in y has only 1 members, which is less than n_splits=5.\n",
      "  warnings.warn(\n",
      "D:\\anaconda3\\envs\\otthoni\\lib\\site-packages\\sklearn\\model_selection\\_split.py:676: UserWarning: The least populated class in y has only 1 members, which is less than n_splits=5.\n",
      "  warnings.warn(\n",
      "D:\\anaconda3\\envs\\otthoni\\lib\\site-packages\\sklearn\\preprocessing\\_data.py:2590: UserWarning: n_quantiles (1000) is greater than the total number of samples (83). n_quantiles is set to n_samples.\n",
      "  warnings.warn(\n",
      "D:\\anaconda3\\envs\\otthoni\\lib\\site-packages\\sklearn\\model_selection\\_split.py:676: UserWarning: The least populated class in y has only 1 members, which is less than n_splits=5.\n",
      "  warnings.warn(\n",
      "D:\\anaconda3\\envs\\otthoni\\lib\\site-packages\\sklearn\\model_selection\\_split.py:676: UserWarning: The least populated class in y has only 1 members, which is less than n_splits=5.\n",
      "  warnings.warn(\n",
      "D:\\anaconda3\\envs\\otthoni\\lib\\site-packages\\sklearn\\model_selection\\_split.py:676: UserWarning: The least populated class in y has only 1 members, which is less than n_splits=5.\n",
      "  warnings.warn(\n",
      "D:\\anaconda3\\envs\\otthoni\\lib\\site-packages\\sklearn\\preprocessing\\_data.py:2590: UserWarning: n_quantiles (1000) is greater than the total number of samples (83). n_quantiles is set to n_samples.\n",
      "  warnings.warn(\n",
      "D:\\anaconda3\\envs\\otthoni\\lib\\site-packages\\sklearn\\model_selection\\_split.py:676: UserWarning: The least populated class in y has only 1 members, which is less than n_splits=5.\n",
      "  warnings.warn(\n",
      "D:\\anaconda3\\envs\\otthoni\\lib\\site-packages\\sklearn\\linear_model\\_sag.py:352: ConvergenceWarning: The max_iter was reached which means the coef_ did not converge\n",
      "  warnings.warn(\n",
      "D:\\anaconda3\\envs\\otthoni\\lib\\site-packages\\sklearn\\model_selection\\_split.py:676: UserWarning: The least populated class in y has only 1 members, which is less than n_splits=5.\n",
      "  warnings.warn(\n",
      "D:\\anaconda3\\envs\\otthoni\\lib\\site-packages\\sklearn\\model_selection\\_split.py:676: UserWarning: The least populated class in y has only 1 members, which is less than n_splits=5.\n",
      "  warnings.warn(\n",
      "D:\\anaconda3\\envs\\otthoni\\lib\\site-packages\\sklearn\\preprocessing\\_data.py:2590: UserWarning: n_quantiles (1000) is greater than the total number of samples (83). n_quantiles is set to n_samples.\n",
      "  warnings.warn(\n",
      "D:\\anaconda3\\envs\\otthoni\\lib\\site-packages\\sklearn\\model_selection\\_split.py:676: UserWarning: The least populated class in y has only 1 members, which is less than n_splits=5.\n",
      "  warnings.warn(\n",
      "D:\\anaconda3\\envs\\otthoni\\lib\\site-packages\\sklearn\\linear_model\\_sag.py:352: ConvergenceWarning: The max_iter was reached which means the coef_ did not converge\n",
      "  warnings.warn(\n",
      "D:\\anaconda3\\envs\\otthoni\\lib\\site-packages\\sklearn\\model_selection\\_split.py:676: UserWarning: The least populated class in y has only 1 members, which is less than n_splits=5.\n",
      "  warnings.warn(\n",
      "D:\\anaconda3\\envs\\otthoni\\lib\\site-packages\\sklearn\\model_selection\\_split.py:676: UserWarning: The least populated class in y has only 1 members, which is less than n_splits=5.\n",
      "  warnings.warn(\n",
      "D:\\anaconda3\\envs\\otthoni\\lib\\site-packages\\sklearn\\preprocessing\\_data.py:2590: UserWarning: n_quantiles (1000) is greater than the total number of samples (83). n_quantiles is set to n_samples.\n",
      "  warnings.warn(\n",
      "D:\\anaconda3\\envs\\otthoni\\lib\\site-packages\\sklearn\\model_selection\\_split.py:676: UserWarning: The least populated class in y has only 1 members, which is less than n_splits=5.\n",
      "  warnings.warn(\n",
      "D:\\anaconda3\\envs\\otthoni\\lib\\site-packages\\sklearn\\linear_model\\_sag.py:352: ConvergenceWarning: The max_iter was reached which means the coef_ did not converge\n",
      "  warnings.warn(\n",
      "D:\\anaconda3\\envs\\otthoni\\lib\\site-packages\\sklearn\\model_selection\\_split.py:676: UserWarning: The least populated class in y has only 1 members, which is less than n_splits=5.\n",
      "  warnings.warn(\n",
      "D:\\anaconda3\\envs\\otthoni\\lib\\site-packages\\sklearn\\model_selection\\_split.py:676: UserWarning: The least populated class in y has only 1 members, which is less than n_splits=5.\n",
      "  warnings.warn(\n",
      "D:\\anaconda3\\envs\\otthoni\\lib\\site-packages\\sklearn\\preprocessing\\_data.py:2590: UserWarning: n_quantiles (1000) is greater than the total number of samples (83). n_quantiles is set to n_samples.\n",
      "  warnings.warn(\n",
      "D:\\anaconda3\\envs\\otthoni\\lib\\site-packages\\sklearn\\model_selection\\_split.py:676: UserWarning: The least populated class in y has only 1 members, which is less than n_splits=5.\n",
      "  warnings.warn(\n",
      "D:\\anaconda3\\envs\\otthoni\\lib\\site-packages\\sklearn\\linear_model\\_sag.py:352: ConvergenceWarning: The max_iter was reached which means the coef_ did not converge\n",
      "  warnings.warn(\n",
      "D:\\anaconda3\\envs\\otthoni\\lib\\site-packages\\sklearn\\model_selection\\_split.py:676: UserWarning: The least populated class in y has only 1 members, which is less than n_splits=5.\n",
      "  warnings.warn(\n",
      "D:\\anaconda3\\envs\\otthoni\\lib\\site-packages\\sklearn\\model_selection\\_split.py:676: UserWarning: The least populated class in y has only 1 members, which is less than n_splits=5.\n",
      "  warnings.warn(\n",
      "D:\\anaconda3\\envs\\otthoni\\lib\\site-packages\\sklearn\\preprocessing\\_data.py:2590: UserWarning: n_quantiles (1000) is greater than the total number of samples (83). n_quantiles is set to n_samples.\n",
      "  warnings.warn(\n",
      "D:\\anaconda3\\envs\\otthoni\\lib\\site-packages\\sklearn\\model_selection\\_split.py:676: UserWarning: The least populated class in y has only 1 members, which is less than n_splits=5.\n",
      "  warnings.warn(\n",
      "D:\\anaconda3\\envs\\otthoni\\lib\\site-packages\\sklearn\\linear_model\\_sag.py:352: ConvergenceWarning: The max_iter was reached which means the coef_ did not converge\n",
      "  warnings.warn(\n",
      "D:\\anaconda3\\envs\\otthoni\\lib\\site-packages\\sklearn\\model_selection\\_split.py:676: UserWarning: The least populated class in y has only 1 members, which is less than n_splits=5.\n",
      "  warnings.warn(\n",
      "D:\\anaconda3\\envs\\otthoni\\lib\\site-packages\\sklearn\\model_selection\\_split.py:676: UserWarning: The least populated class in y has only 1 members, which is less than n_splits=5.\n",
      "  warnings.warn(\n"
     ]
    }
   ],
   "source": [
    "#nézzük meg, hogy főkompononensenként hogy változnak a különböző algoritmusok eredménymutatói, és rakjuk dataframe-be!\n",
    "PCA_scores = pd.DataFrame({\"Főkomponensek száma\":[], \"Gradient Boosting Acc.\":[], \"Naive Bayes Acc.\":[], \"Logreg Acc.\":[], \"SVM Acc.\":[], \"Linreg RMSE\":[], \"Linreg R2\":[], \n",
    "                           \"Linreg RMSE kerekített\":[], \"Linreg Acc kerekített\":[]})\n",
    "\n",
    "\n",
    "for i in range(1,9):\n",
    "    projected = PCA(i).fit_transform(features)\n",
    "    X_train, X_test, y_train, y_test = train_test_split(projected, label, test_size=0.3, random_state=0)\n",
    "    \n",
    "    from sklearn import preprocessing\n",
    "    quantile_transformer = preprocessing.QuantileTransformer(random_state=0)\n",
    "    X_train = quantile_transformer.fit_transform(X_train)\n",
    "    X_test = quantile_transformer.transform(X_test)\n",
    "    \n",
    "    ### OPTIMALIZÁLÁS\n",
    "    \n",
    "    # Logreg\n",
    "    \n",
    "    pipeline = Pipeline(steps = [['classifier', LogisticRegression(class_weight = \"balanced\", random_state=0, max_iter = 5000, multi_class = 'ovr')]])\n",
    "    param_grid = {'classifier__C':[i*0.05 for i in range(1,100)], 'classifier__solver':['sag','saga']}\n",
    "\n",
    "    log_grid_search = GridSearchCV(estimator=pipeline,\n",
    "                                   param_grid=param_grid,\n",
    "                                   scoring='accuracy',\n",
    "                                   cv=stratified_kfold,\n",
    "                                   n_jobs=-1)\n",
    "\n",
    "\n",
    "    log_grid_search.fit(X_train, y_train)\n",
    "    cv_score = log_grid_search.best_score_\n",
    "    log_acc = round(log_grid_search.score(X_test, y_test),4)\n",
    "    \n",
    "    # Naive Bayes \n",
    "    \n",
    "    clf = GaussianNB()\n",
    "    clf.fit(X_train, y_train)\n",
    "    y_pred = clf.predict(X_test)\n",
    "    bayes_acc = round(sklearn.metrics.accuracy_score(y_test, y_pred),4)\n",
    "\n",
    "    # SVM\n",
    "    \n",
    "    pipeline = Pipeline(steps = [['classifier', SVC(class_weight = \"balanced\", random_state=0, decision_function_shape = 'ovr')]])\n",
    "    param_grid = {'classifier__C':[i*0.1 for i in range(1,50)], 'classifier__kernel':['linear','poly','rbf']}\n",
    "\n",
    "    SVM_grid_search = GridSearchCV(estimator=pipeline,\n",
    "                                   param_grid=param_grid,\n",
    "                                   scoring='accuracy',\n",
    "                                   cv=stratified_kfold,\n",
    "                                   n_jobs=-1)\n",
    "\n",
    "\n",
    "    SVM_grid_search.fit(X_train, y_train)\n",
    "    cv_score = SVM_grid_search.best_score_\n",
    "    SVM_acc = round(SVM_grid_search.score(X_test, y_test),4)\n",
    "    \n",
    "    # GradBoost\n",
    "    \n",
    "    pipeline = Pipeline(steps = [['classifier', GradientBoostingClassifier(random_state=0)]])\n",
    "    param_grid = {'classifier__learning_rate':[0.01*i for i in range(1,50)],\n",
    "                  'classifier__n_estimators':[5*i for i in range(1,10)], 'classifier__criterion':['squared_error','friedman_mse'],\n",
    "                  'classifier__max_depth':[3,4,5]}\n",
    "\n",
    "    grad_grid_search = GridSearchCV(estimator=pipeline,\n",
    "                                   param_grid=param_grid,\n",
    "                                   scoring='accuracy',\n",
    "                                   cv=stratified_kfold,\n",
    "                                   n_jobs=-1)\n",
    "\n",
    "\n",
    "    grad_grid_search.fit(X_train, y_train)\n",
    "    cv_score = grad_grid_search.best_score_\n",
    "    grad_acc = round(grad_grid_search.score(X_test, y_test),4)\n",
    "    \n",
    "    # Linreg\n",
    "\n",
    "    reg = LinearRegression().fit(X_train,y_train)\n",
    "    reg_pred = reg.predict(X_test)\n",
    "    \n",
    "    rmse = round(np.power(np.sum(np.power(y_test - reg_pred, 2))/reg_pred.shape[0],0.5),4)\n",
    "    \n",
    "    SST = np.sum(np.power(y_test-np.mean(y_test),2))\n",
    "    SSR = np.sum(np.power(reg_pred-np.mean(y_test),2))\n",
    "    R2 = round(SSR/SST,4)\n",
    "    R2\n",
    "    \n",
    "    for j in range(reg_pred.shape[0]):\n",
    "        reg_pred[j] = round(reg_pred[j],0)\n",
    "\n",
    "    rmse_rounded = round(np.power(np.sum(np.power(y_test - reg_pred, 2))/reg_pred.shape[0],0.5),4)\n",
    "    lin_acc = round(sklearn.metrics.accuracy_score(y_test, reg_pred),4)\n",
    "    reg_pred_rounded = round(sklearn.metrics.accuracy_score(y_test, reg_pred),4)\n",
    "    \n",
    "    \n",
    "    #új sor a dataframe-be\n",
    "    new_row = {\"Főkomponensek száma\":str(i), \"Gradient Boosting Acc.\":grad_acc, \"Naive Bayes Acc.\":bayes_acc ,\"Logreg Acc.\":log_acc, \"SVM Acc.\":SVM_acc, \"Linreg RMSE\":rmse, \"Linreg R2\":R2, \n",
    "               \"Linreg RMSE kerekített\":rmse_rounded, \"Linreg Acc kerekített\":reg_pred_rounded}\n",
    "    PCA_scores = PCA_scores.append(new_row, ignore_index=True)"
   ]
  },
  {
   "cell_type": "code",
   "execution_count": 25,
   "id": "fb206c9f",
   "metadata": {},
   "outputs": [
    {
     "data": {
      "text/html": [
       "<div>\n",
       "<style scoped>\n",
       "    .dataframe tbody tr th:only-of-type {\n",
       "        vertical-align: middle;\n",
       "    }\n",
       "\n",
       "    .dataframe tbody tr th {\n",
       "        vertical-align: top;\n",
       "    }\n",
       "\n",
       "    .dataframe thead th {\n",
       "        text-align: right;\n",
       "    }\n",
       "</style>\n",
       "<table border=\"1\" class=\"dataframe\">\n",
       "  <thead>\n",
       "    <tr style=\"text-align: right;\">\n",
       "      <th></th>\n",
       "      <th>Főkomponensek száma</th>\n",
       "      <th>Gradient Boosting Acc.</th>\n",
       "      <th>Naive Bayes Acc.</th>\n",
       "      <th>Logreg Acc.</th>\n",
       "      <th>SVM Acc.</th>\n",
       "      <th>Linreg RMSE</th>\n",
       "      <th>Linreg R2</th>\n",
       "      <th>Linreg RMSE kerekített</th>\n",
       "      <th>Linreg Acc kerekített</th>\n",
       "    </tr>\n",
       "  </thead>\n",
       "  <tbody>\n",
       "    <tr>\n",
       "      <th>0</th>\n",
       "      <td>1</td>\n",
       "      <td>0.5556</td>\n",
       "      <td>0.8333</td>\n",
       "      <td>0.0000</td>\n",
       "      <td>0.6944</td>\n",
       "      <td>0.3697</td>\n",
       "      <td>0.1945</td>\n",
       "      <td>0.4410</td>\n",
       "      <td>0.8056</td>\n",
       "    </tr>\n",
       "    <tr>\n",
       "      <th>1</th>\n",
       "      <td>2</td>\n",
       "      <td>0.8056</td>\n",
       "      <td>0.8333</td>\n",
       "      <td>0.8056</td>\n",
       "      <td>0.6667</td>\n",
       "      <td>0.3877</td>\n",
       "      <td>0.2041</td>\n",
       "      <td>0.4082</td>\n",
       "      <td>0.8333</td>\n",
       "    </tr>\n",
       "    <tr>\n",
       "      <th>2</th>\n",
       "      <td>3</td>\n",
       "      <td>0.7500</td>\n",
       "      <td>0.8333</td>\n",
       "      <td>0.0000</td>\n",
       "      <td>0.6667</td>\n",
       "      <td>0.3802</td>\n",
       "      <td>0.2164</td>\n",
       "      <td>0.4082</td>\n",
       "      <td>0.8333</td>\n",
       "    </tr>\n",
       "    <tr>\n",
       "      <th>3</th>\n",
       "      <td>4</td>\n",
       "      <td>0.7500</td>\n",
       "      <td>0.8333</td>\n",
       "      <td>0.0278</td>\n",
       "      <td>0.8611</td>\n",
       "      <td>0.3829</td>\n",
       "      <td>0.2186</td>\n",
       "      <td>0.4410</td>\n",
       "      <td>0.8056</td>\n",
       "    </tr>\n",
       "    <tr>\n",
       "      <th>4</th>\n",
       "      <td>5</td>\n",
       "      <td>0.8333</td>\n",
       "      <td>0.8056</td>\n",
       "      <td>0.6944</td>\n",
       "      <td>0.6667</td>\n",
       "      <td>0.3805</td>\n",
       "      <td>0.2182</td>\n",
       "      <td>0.4410</td>\n",
       "      <td>0.8056</td>\n",
       "    </tr>\n",
       "    <tr>\n",
       "      <th>5</th>\n",
       "      <td>6</td>\n",
       "      <td>0.8611</td>\n",
       "      <td>0.8333</td>\n",
       "      <td>0.8056</td>\n",
       "      <td>0.7500</td>\n",
       "      <td>0.3771</td>\n",
       "      <td>0.2153</td>\n",
       "      <td>0.3727</td>\n",
       "      <td>0.8611</td>\n",
       "    </tr>\n",
       "    <tr>\n",
       "      <th>6</th>\n",
       "      <td>7</td>\n",
       "      <td>0.7222</td>\n",
       "      <td>0.7778</td>\n",
       "      <td>0.0556</td>\n",
       "      <td>0.7778</td>\n",
       "      <td>0.3765</td>\n",
       "      <td>0.2169</td>\n",
       "      <td>0.3727</td>\n",
       "      <td>0.8611</td>\n",
       "    </tr>\n",
       "    <tr>\n",
       "      <th>7</th>\n",
       "      <td>8</td>\n",
       "      <td>0.8333</td>\n",
       "      <td>0.8056</td>\n",
       "      <td>0.1389</td>\n",
       "      <td>0.7778</td>\n",
       "      <td>0.3771</td>\n",
       "      <td>0.2309</td>\n",
       "      <td>0.4410</td>\n",
       "      <td>0.8056</td>\n",
       "    </tr>\n",
       "  </tbody>\n",
       "</table>\n",
       "</div>"
      ],
      "text/plain": [
       "  Főkomponensek száma  Gradient Boosting Acc.  Naive Bayes Acc.  Logreg Acc.  \\\n",
       "0                   1                  0.5556            0.8333       0.0000   \n",
       "1                   2                  0.8056            0.8333       0.8056   \n",
       "2                   3                  0.7500            0.8333       0.0000   \n",
       "3                   4                  0.7500            0.8333       0.0278   \n",
       "4                   5                  0.8333            0.8056       0.6944   \n",
       "5                   6                  0.8611            0.8333       0.8056   \n",
       "6                   7                  0.7222            0.7778       0.0556   \n",
       "7                   8                  0.8333            0.8056       0.1389   \n",
       "\n",
       "   SVM Acc.  Linreg RMSE  Linreg R2  Linreg RMSE kerekített  \\\n",
       "0    0.6944       0.3697     0.1945                  0.4410   \n",
       "1    0.6667       0.3877     0.2041                  0.4082   \n",
       "2    0.6667       0.3802     0.2164                  0.4082   \n",
       "3    0.8611       0.3829     0.2186                  0.4410   \n",
       "4    0.6667       0.3805     0.2182                  0.4410   \n",
       "5    0.7500       0.3771     0.2153                  0.3727   \n",
       "6    0.7778       0.3765     0.2169                  0.3727   \n",
       "7    0.7778       0.3771     0.2309                  0.4410   \n",
       "\n",
       "   Linreg Acc kerekített  \n",
       "0                 0.8056  \n",
       "1                 0.8333  \n",
       "2                 0.8333  \n",
       "3                 0.8056  \n",
       "4                 0.8056  \n",
       "5                 0.8611  \n",
       "6                 0.8611  \n",
       "7                 0.8056  "
      ]
     },
     "execution_count": 25,
     "metadata": {},
     "output_type": "execute_result"
    }
   ],
   "source": [
    "PCA_scores"
   ]
  },
  {
   "cell_type": "markdown",
   "id": "b1fb19a4",
   "metadata": {},
   "source": [
    "# Biomérnökök"
   ]
  },
  {
   "cell_type": "code",
   "execution_count": 26,
   "id": "169c41af",
   "metadata": {},
   "outputs": [
    {
     "name": "stderr",
     "output_type": "stream",
     "text": [
      "D:\\anaconda3\\envs\\otthoni\\lib\\site-packages\\sklearn\\preprocessing\\_data.py:2590: UserWarning: n_quantiles (1000) is greater than the total number of samples (56). n_quantiles is set to n_samples.\n",
      "  warnings.warn(\n"
     ]
    }
   ],
   "source": [
    "from imblearn.over_sampling import SMOTE\n",
    "\n",
    "biom = working_data.query(\"Szak == 'Biomérnöki'\")\n",
    "\n",
    "stratified_kfold = StratifiedKFold(n_splits=5,\n",
    "                                       shuffle=True,\n",
    "                                       random_state=11)\n",
    "\n",
    "features = biom.drop(labels = [\"Matematika A1a - Analízis\", \"Matematika A2c\", \"Kognitív pont\", \"Szak\", \"Matek helyes\", \"Összes pont\", \"Össz eredmény (átlag)\"], axis = 1)\n",
    "label = biom[\"Matematika A1a - Analízis\"]\n",
    "\n",
    "\n",
    "\n",
    "X_train, X_test, y_train, y_test = train_test_split(features, label, test_size=0.3, random_state=0, stratify=label)\n",
    "\n",
    "\n",
    "#skálázás\n",
    "\n",
    "from sklearn import preprocessing\n",
    "quantile_transformer = preprocessing.QuantileTransformer(random_state=0)\n",
    "X_train = quantile_transformer.fit_transform(X_train)\n",
    "X_test = quantile_transformer.transform(X_test)\n"
   ]
  },
  {
   "cell_type": "markdown",
   "id": "07af5c34",
   "metadata": {},
   "source": [
    "## Osztályozó algoritmusok\n",
    "\n",
    "**KNN**"
   ]
  },
  {
   "cell_type": "code",
   "execution_count": 27,
   "id": "b607c46f",
   "metadata": {},
   "outputs": [
    {
     "name": "stderr",
     "output_type": "stream",
     "text": [
      "D:\\anaconda3\\envs\\otthoni\\lib\\site-packages\\sklearn\\model_selection\\_split.py:676: UserWarning: The least populated class in y has only 1 members, which is less than n_splits=5.\n",
      "  warnings.warn(\n"
     ]
    },
    {
     "name": "stdout",
     "output_type": "stream",
     "text": [
      "Mahalanobis kNN:\n",
      "{'cv_score': 0.7681818181818183, 'test_score': 0.76}\n",
      "Params:\n",
      "{'classifier__n_neighbors': 8, 'classifier__weights': 'uniform'}\n"
     ]
    },
    {
     "name": "stderr",
     "output_type": "stream",
     "text": [
      "D:\\anaconda3\\envs\\otthoni\\lib\\site-packages\\sklearn\\model_selection\\_search.py:969: UserWarning: One or more of the test scores are non-finite: [0.54848485 0.54848485 0.54848485 0.65909091 0.54848485 0.54848485\n",
      " 0.73181818 0.73181818 0.73181818 0.75       0.73181818 0.73181818\n",
      " 0.75       0.73181818 0.73181818 0.75       0.71363636 0.71363636\n",
      " 0.71363636 0.71363636 0.69545455 0.76818182 0.71363636 0.69545455\n",
      " 0.75       0.75       0.73181818 0.76818182 0.73181818 0.71363636\n",
      " 0.76818182 0.76818182 0.75       0.76818182 0.76818182 0.75\n",
      " 0.76818182 0.76818182 0.75       0.76818182 0.76818182 0.75\n",
      " 0.76818182 0.76818182 0.75       0.76818182 0.76818182 0.75\n",
      " 0.76818182 0.76818182 0.75       0.76818182 0.76818182 0.75\n",
      " 0.76818182 0.76818182 0.75       0.76818182 0.76818182 0.75\n",
      " 0.76818182 0.76818182 0.75              nan        nan        nan\n",
      "        nan        nan        nan        nan        nan        nan\n",
      "        nan        nan        nan        nan        nan        nan\n",
      "        nan        nan        nan        nan        nan        nan\n",
      "        nan        nan        nan]\n",
      "  warnings.warn(\n"
     ]
    }
   ],
   "source": [
    "#KNN-re keresztvalidációval mahalanobis-szal\n",
    "from sklearn.neighbors import KNeighborsClassifier\n",
    "from sklearn.model_selection import cross_val_score\n",
    "\n",
    "\n",
    "#distance függvény\n",
    "def squared(array):\n",
    "    return 1/array**2\n",
    "\n",
    "\n",
    "\n",
    "pipeline = imbpipeline(steps = [['classifier', KNeighborsClassifier(metric=\"mahalanobis\", metric_params={'V': np.cov(m=X_train.astype(float), rowvar=False)})]])\n",
    "param_grid = {'classifier__n_neighbors':[i for i in range(1,30)], 'classifier__weights':['uniform', 'distance', squared]}\n",
    "\n",
    "knn_mahal_grid_search = GridSearchCV(estimator=pipeline,\n",
    "                               param_grid=param_grid,\n",
    "                               scoring='accuracy',\n",
    "                               cv=stratified_kfold,\n",
    "                               n_jobs=-1)\n",
    "\n",
    "\n",
    "knn_mahal_grid_search.fit(X_train, y_train)\n",
    "cv_score = knn_mahal_grid_search.best_score_\n",
    "knn_mahal = knn_mahal_grid_search.score(X_test, y_test)\n",
    "print(\"Mahalanobis kNN:\")\n",
    "print({'cv_score':cv_score, 'test_score':knn_mahal})\n",
    "print(\"Params:\")\n",
    "print(knn_mahal_grid_search.best_params_)\n"
   ]
  },
  {
   "cell_type": "code",
   "execution_count": 28,
   "id": "a963dc9c",
   "metadata": {
    "scrolled": true
   },
   "outputs": [
    {
     "name": "stderr",
     "output_type": "stream",
     "text": [
      "D:\\anaconda3\\envs\\otthoni\\lib\\site-packages\\sklearn\\model_selection\\_split.py:676: UserWarning: The least populated class in y has only 1 members, which is less than n_splits=5.\n",
      "  warnings.warn(\n"
     ]
    },
    {
     "name": "stdout",
     "output_type": "stream",
     "text": [
      "Euclidian kNN:\n",
      "{'cv_score': 0.7863636363636365, 'test_score': 0.72}\n",
      "Params:\n",
      "{'classifier__n_neighbors': 4, 'classifier__weights': 'uniform'}\n"
     ]
    }
   ],
   "source": [
    "#KNN-re keresztvalidációval euklidészi távolsággal\n",
    "\n",
    "pipeline = Pipeline(steps = [['classifier', KNeighborsClassifier(metric=\"euclidean\")]])\n",
    "param_grid = {'classifier__n_neighbors':[i for i in range(1,30)], 'classifier__weights':['uniform', 'distance', squared]}\n",
    "\n",
    "knn_eu_grid_search = GridSearchCV(estimator=pipeline,\n",
    "                               param_grid=param_grid,\n",
    "                               scoring='accuracy',\n",
    "                               cv=stratified_kfold,\n",
    "                               n_jobs=-1)\n",
    "\n",
    "\n",
    "knn_eu_grid_search.fit(X_train, y_train)\n",
    "cv_score = knn_eu_grid_search.best_score_\n",
    "knn_eu = knn_eu_grid_search.score(X_test, y_test)\n",
    "print(\"Euclidian kNN:\")\n",
    "print({'cv_score':cv_score, 'test_score':knn_eu})\n",
    "print(\"Params:\")\n",
    "print(knn_eu_grid_search.best_params_)\n",
    "\n",
    "\n"
   ]
  },
  {
   "cell_type": "code",
   "execution_count": 29,
   "id": "87d7ec50",
   "metadata": {},
   "outputs": [
    {
     "name": "stdout",
     "output_type": "stream",
     "text": [
      "kNN with Mahalanobis:\n",
      "- Optmial parameters: {'classifier__n_neighbors': 8, 'classifier__weights': 'uniform'} \n",
      "- Accuracy: 0.76\n",
      "kNN with Euclidean:\n",
      "- Optimal parameters: {'classifier__n_neighbors': 4, 'classifier__weights': 'uniform'} \n",
      "- Accuracy: 0.72\n"
     ]
    }
   ],
   "source": [
    "#összesítve kNN\n",
    "print(f'kNN with Mahalanobis:')\n",
    "print(f'- Optmial parameters: {knn_mahal_grid_search.best_params_} \\n- Accuracy: {knn_mahal}')\n",
    "print(f'kNN with Euclidean:')\n",
    "print(f'- Optimal parameters: {knn_eu_grid_search.best_params_} \\n- Accuracy: {knn_eu}')"
   ]
  },
  {
   "cell_type": "markdown",
   "id": "91ba3f64",
   "metadata": {},
   "source": [
    "**SVM**"
   ]
  },
  {
   "cell_type": "code",
   "execution_count": 30,
   "id": "298dab87",
   "metadata": {},
   "outputs": [
    {
     "name": "stderr",
     "output_type": "stream",
     "text": [
      "D:\\anaconda3\\envs\\otthoni\\lib\\site-packages\\sklearn\\model_selection\\_split.py:676: UserWarning: The least populated class in y has only 1 members, which is less than n_splits=5.\n",
      "  warnings.warn(\n"
     ]
    },
    {
     "name": "stdout",
     "output_type": "stream",
     "text": [
      "SVM:\n",
      "{'cv_score': 0.6969696969696969, 'test_score': 0.52}\n",
      "Params:\n",
      "{'classifier__C': 0.2, 'classifier__kernel': 'poly'}\n",
      "\n",
      "Accuracy: 0.52\n",
      "Precision: 0.6\n",
      "Recall: 0.52\n"
     ]
    }
   ],
   "source": [
    "#tesztelés megfelelő C-hez SVM-nél\n",
    "from sklearn.svm import SVC\n",
    "from sklearn.multiclass import OneVsRestClassifier\n",
    "\n",
    "pipeline = Pipeline(steps = [['classifier', SVC(class_weight = \"balanced\", random_state=0, decision_function_shape = 'ovr')]])\n",
    "param_grid = {'classifier__C':[i*0.1 for i in range(1,50)], 'classifier__kernel':['linear','poly','rbf']}\n",
    "\n",
    "SVM_grid_search = GridSearchCV(estimator=pipeline,\n",
    "                               param_grid=param_grid,\n",
    "                               scoring='accuracy',\n",
    "                               cv=stratified_kfold,\n",
    "                               n_jobs=-1)\n",
    "\n",
    "\n",
    "SVM_grid_search.fit(X_train, y_train)\n",
    "cv_score = SVM_grid_search.best_score_\n",
    "SVM_acc = SVM_grid_search.score(X_test, y_test)\n",
    "y_pred = SVM_grid_search.predict(X_test)\n",
    "print(\"SVM:\")\n",
    "print({'cv_score':cv_score, 'test_score':SVM_acc})\n",
    "print(\"Params:\")\n",
    "print(SVM_grid_search.best_params_)\n",
    "\n",
    "print(\"\")\n",
    "print(f'Accuracy: {round(sklearn.metrics.accuracy_score(y_test, y_pred),2)}')\n",
    "print(f'Precision: {round(sklearn.metrics.precision_score(y_test, y_pred, average = \"weighted\"),2)}')\n",
    "print(f'Recall: {round(sklearn.metrics.recall_score(y_test, y_pred, average = \"weighted\"),2)}')\n",
    "\n"
   ]
  },
  {
   "cell_type": "markdown",
   "id": "50b75ecd",
   "metadata": {},
   "source": [
    "**Logisztikus Regresszió**"
   ]
  },
  {
   "cell_type": "code",
   "execution_count": 31,
   "id": "b08dd770",
   "metadata": {},
   "outputs": [
    {
     "name": "stderr",
     "output_type": "stream",
     "text": [
      "D:\\anaconda3\\envs\\otthoni\\lib\\site-packages\\sklearn\\model_selection\\_split.py:676: UserWarning: The least populated class in y has only 1 members, which is less than n_splits=5.\n",
      "  warnings.warn(\n"
     ]
    },
    {
     "name": "stdout",
     "output_type": "stream",
     "text": [
      "Logistic Regression:\n",
      "{'cv_score': 0.5909090909090909, 'test_score': 0.04}\n",
      "Params:\n",
      "{'classifier__C': 0.35000000000000003, 'classifier__solver': 'sag'}\n",
      "\n",
      "Accuracy: 0.04\n",
      "Precision: 0.0\n",
      "Recall: 0.04\n"
     ]
    },
    {
     "name": "stderr",
     "output_type": "stream",
     "text": [
      "D:\\anaconda3\\envs\\otthoni\\lib\\site-packages\\sklearn\\linear_model\\_sag.py:352: ConvergenceWarning: The max_iter was reached which means the coef_ did not converge\n",
      "  warnings.warn(\n",
      "D:\\anaconda3\\envs\\otthoni\\lib\\site-packages\\sklearn\\metrics\\_classification.py:1318: UndefinedMetricWarning: Precision is ill-defined and being set to 0.0 in labels with no predicted samples. Use `zero_division` parameter to control this behavior.\n",
      "  _warn_prf(average, modifier, msg_start, len(result))\n"
     ]
    }
   ],
   "source": [
    "#logisztikus regresszióra\n",
    "from sklearn.linear_model import LogisticRegression\n",
    "\n",
    "pipeline = Pipeline(steps = [['classifier', LogisticRegression(class_weight = \"balanced\", random_state=0, max_iter = 5000, multi_class = 'ovr')]])\n",
    "param_grid = {'classifier__C':[i*0.05 for i in range(1,100)], 'classifier__solver':['sag','saga']}\n",
    "\n",
    "log_grid_search = GridSearchCV(estimator=pipeline,\n",
    "                               param_grid=param_grid,\n",
    "                               scoring='accuracy',\n",
    "                               cv=stratified_kfold,\n",
    "                               n_jobs=-1)\n",
    "\n",
    "\n",
    "log_grid_search.fit(X_train, y_train)\n",
    "cv_score = log_grid_search.best_score_\n",
    "log_acc = log_grid_search.score(X_test, y_test)\n",
    "y_pred = log_grid_search.predict(X_test)\n",
    "print(\"Logistic Regression:\")\n",
    "print({'cv_score':cv_score, 'test_score':log_acc})\n",
    "print(\"Params:\")\n",
    "print(log_grid_search.best_params_)\n",
    "\n",
    "print(\"\")\n",
    "print(f'Accuracy: {round(sklearn.metrics.accuracy_score(y_test, y_pred),2)}')\n",
    "print(f'Precision: {round(sklearn.metrics.precision_score(y_test, y_pred, average = \"weighted\"),2)}')\n",
    "print(f'Recall: {round(sklearn.metrics.recall_score(y_test, y_pred, average = \"weighted\"),2)}')\n"
   ]
  },
  {
   "cell_type": "markdown",
   "id": "16afab79",
   "metadata": {},
   "source": [
    "**Naive Bayes**"
   ]
  },
  {
   "cell_type": "code",
   "execution_count": 32,
   "id": "1e38f845",
   "metadata": {},
   "outputs": [
    {
     "name": "stdout",
     "output_type": "stream",
     "text": [
      "Accuracy: 0.72\n"
     ]
    }
   ],
   "source": [
    "#Naive bayes-szel\n",
    "from sklearn.naive_bayes import GaussianNB\n",
    "\n",
    "clf = GaussianNB()\n",
    "clf.fit(X_train, y_train)\n",
    "y_pred = clf.predict(X_test)\n",
    "bayes_acc = round(sklearn.metrics.accuracy_score(y_test, y_pred),2)\n",
    "\n",
    "print(f'Accuracy: {round(sklearn.metrics.accuracy_score(y_test, y_pred),2)}')"
   ]
  },
  {
   "cell_type": "code",
   "execution_count": 33,
   "id": "aa56459b",
   "metadata": {},
   "outputs": [
    {
     "name": "stdout",
     "output_type": "stream",
     "text": [
      "Accuracy with different algorithms:\n",
      "- SVM: 0.52 \n",
      "- Logistic Regression: 0.04 \n",
      "- Naive Bayes: 0.72\n"
     ]
    }
   ],
   "source": [
    "#az előző 3 kiértékelése\n",
    "print(\"Accuracy with different algorithms:\")\n",
    "print(f'- SVM: {SVM_acc} \\n- Logistic Regression: {log_acc} \\n- Naive Bayes: {bayes_acc}')"
   ]
  },
  {
   "cell_type": "markdown",
   "id": "3a42d1f8",
   "metadata": {},
   "source": [
    "**Gradient Boosting**"
   ]
  },
  {
   "cell_type": "code",
   "execution_count": 34,
   "id": "baf07fcc",
   "metadata": {},
   "outputs": [
    {
     "name": "stderr",
     "output_type": "stream",
     "text": [
      "D:\\anaconda3\\envs\\otthoni\\lib\\site-packages\\sklearn\\model_selection\\_split.py:676: UserWarning: The least populated class in y has only 1 members, which is less than n_splits=5.\n",
      "  warnings.warn(\n"
     ]
    },
    {
     "name": "stdout",
     "output_type": "stream",
     "text": [
      "Gradient Boosting:\n",
      "{'cv_score': 0.787878787878788, 'test_score': 0.68}\n",
      "Params:\n",
      "{'classifier__criterion': 'squared_error', 'classifier__learning_rate': 0.02, 'classifier__max_depth': 3, 'classifier__n_estimators': 45}\n",
      "\n",
      "Accuracy: 0.68\n",
      "Precision: 0.63\n",
      "Recall: 0.68\n"
     ]
    },
    {
     "name": "stderr",
     "output_type": "stream",
     "text": [
      "D:\\anaconda3\\envs\\otthoni\\lib\\site-packages\\sklearn\\metrics\\_classification.py:1318: UndefinedMetricWarning: Precision is ill-defined and being set to 0.0 in labels with no predicted samples. Use `zero_division` parameter to control this behavior.\n",
      "  _warn_prf(average, modifier, msg_start, len(result))\n"
     ]
    }
   ],
   "source": [
    "from sklearn.ensemble import GradientBoostingClassifier\n",
    "\n",
    "pipeline = Pipeline(steps = [['classifier', GradientBoostingClassifier(random_state=0)]])\n",
    "param_grid = {'classifier__learning_rate':[0.01*i for i in range(1,50)],\n",
    "              'classifier__n_estimators':[5*i for i in range(1,10)], 'classifier__criterion':['squared_error','friedman_mse'],\n",
    "              'classifier__max_depth':[3,4,5]}\n",
    "\n",
    "grad_grid_search = GridSearchCV(estimator=pipeline,\n",
    "                               param_grid=param_grid,\n",
    "                               scoring='accuracy',\n",
    "                               cv=stratified_kfold,\n",
    "                               n_jobs=-1)\n",
    "\n",
    "\n",
    "grad_grid_search.fit(X_train, y_train)\n",
    "cv_score = grad_grid_search.best_score_\n",
    "grad_acc = grad_grid_search.score(X_test, y_test)\n",
    "y_pred = grad_grid_search.predict(X_test)\n",
    "print(\"Gradient Boosting:\")\n",
    "print({'cv_score':cv_score, 'test_score':grad_acc})\n",
    "print(\"Params:\")\n",
    "print(grad_grid_search.best_params_)\n",
    "\n",
    "print(\"\")\n",
    "print(f'Accuracy: {round(sklearn.metrics.accuracy_score(y_test, y_pred),2)}')\n",
    "print(f'Precision: {round(sklearn.metrics.precision_score(y_test, y_pred, average = \"weighted\"),2)}')\n",
    "print(f'Recall: {round(sklearn.metrics.recall_score(y_test, y_pred, average = \"weighted\"),2)}')"
   ]
  },
  {
   "cell_type": "markdown",
   "id": "097bd084",
   "metadata": {},
   "source": [
    "**Lineáris regresszió**"
   ]
  },
  {
   "cell_type": "code",
   "execution_count": 35,
   "id": "e75a847a",
   "metadata": {},
   "outputs": [
    {
     "data": {
      "text/plain": [
       "0.2350570590869514"
      ]
     },
     "execution_count": 35,
     "metadata": {},
     "output_type": "execute_result"
    }
   ],
   "source": [
    "#ezek után nem oneVSall: lineáris regresszió\n",
    "from sklearn.linear_model import LinearRegression\n",
    "\n",
    "reg_alap = LinearRegression().fit(features,label)\n",
    "reg_alap.score(features, label)         "
   ]
  },
  {
   "cell_type": "code",
   "execution_count": 36,
   "id": "9faa9d5c",
   "metadata": {},
   "outputs": [
    {
     "name": "stdout",
     "output_type": "stream",
     "text": [
      "Coefficients: [-0.03523787  0.57234015 -0.27212682 -0.15299126  0.03495037  0.99162783\n",
      " -0.43771988 -0.28168797  0.01567409  0.11269201  0.02314072]\n",
      "RMSE: 0.53\n"
     ]
    }
   ],
   "source": [
    "#most nézzük a tanítóhalmazon és a teszthalmazon\n",
    "\n",
    "reg = LinearRegression().fit(X_train,y_train)\n",
    "reg_pred = reg.predict(X_test)\n",
    "\n",
    "#együtthatók\n",
    "print(\"Coefficients:\", reg.coef_)\n",
    "#RMSE\n",
    "\n",
    "rmse = round(np.power(np.sum(np.power(y_test - reg_pred, 2))/reg_pred.shape[0],0.5),2)\n",
    "print(\"RMSE:\", rmse)"
   ]
  },
  {
   "cell_type": "code",
   "execution_count": 37,
   "id": "1971c670",
   "metadata": {},
   "outputs": [
    {
     "data": {
      "text/plain": [
       "<function matplotlib.pyplot.show(close=None, block=None)>"
      ]
     },
     "execution_count": 37,
     "metadata": {},
     "output_type": "execute_result"
    },
    {
     "data": {
      "image/png": "[encoded data removed]",
      "text/plain": [
       "<Figure size 432x288 with 1 Axes>"
      ]
     },
     "metadata": {
      "needs_background": "light"
     },
     "output_type": "display_data"
    }
   ],
   "source": [
    "#Nézzük meg a reziduális tagokat\n",
    "\n",
    "import matplotlib.pyplot as plt\n",
    "\n",
    "plt.scatter(reg_pred, y_test-reg_pred)\n",
    "plt.plot(reg_pred, [0 for i in range(reg_pred.shape[0])], c=\"red\") #0-vonal\n",
    "plt.title(\"Reziduális tagok\")\n",
    "plt.axis\n",
    "plt.show"
   ]
  },
  {
   "cell_type": "code",
   "execution_count": 38,
   "id": "676d769a",
   "metadata": {},
   "outputs": [
    {
     "data": {
      "text/plain": [
       "0.59"
      ]
     },
     "execution_count": 38,
     "metadata": {},
     "output_type": "execute_result"
    }
   ],
   "source": [
    "#R^2 és SSR\n",
    "SST = np.sum(np.power(y_test-np.mean(y_test),2))\n",
    "SSR = np.sum(np.power(reg_pred-np.mean(y_test),2))\n",
    "R2 = round(SSR/SST,2)\n",
    "R2"
   ]
  },
  {
   "cell_type": "code",
   "execution_count": 39,
   "id": "da1bb17d",
   "metadata": {},
   "outputs": [
    {
     "name": "stdout",
     "output_type": "stream",
     "text": [
      "RMSE: 0.6\n",
      "0.64\n"
     ]
    }
   ],
   "source": [
    "#másik: kerekítsük a becsült értékeket\n",
    "\n",
    "for i in range(reg_pred.shape[0]):\n",
    "    reg_pred[i] = round(reg_pred[i],0)\n",
    "\n",
    "rmse_rounded = round(np.power(np.sum(np.power(y_test - reg_pred, 2))/reg_pred.shape[0],0.5),2)\n",
    "print(\"RMSE:\", rmse_rounded)\n",
    "lin_acc = round(sklearn.metrics.accuracy_score(y_test, reg_pred),2)\n",
    "print(round(sklearn.metrics.accuracy_score(y_test, reg_pred),2))"
   ]
  },
  {
   "cell_type": "code",
   "execution_count": 40,
   "id": "570d51f7",
   "metadata": {},
   "outputs": [
    {
     "name": "stdout",
     "output_type": "stream",
     "text": [
      "Linear regression:\n",
      "- RMSE: 0.53 \n",
      "- R2: 0.59 \n",
      "- RMSE after rounding: 0.6 \n",
      "- Accuracy after rounding: 0.64\n"
     ]
    }
   ],
   "source": [
    "#lineáris regresszió összesen:\n",
    "print(\"Linear regression:\")\n",
    "print(f'- RMSE: {rmse} \\n- R2: {R2} \\n- RMSE after rounding: {rmse_rounded} \\n- Accuracy after rounding: {lin_acc}')"
   ]
  },
  {
   "cell_type": "markdown",
   "id": "11ec0991",
   "metadata": {},
   "source": [
    "### Eredmények összesítve"
   ]
  },
  {
   "cell_type": "code",
   "execution_count": 41,
   "id": "be27e77b",
   "metadata": {},
   "outputs": [
    {
     "name": "stdout",
     "output_type": "stream",
     "text": [
      "kNN with Mahalanobis:\n",
      "- Optmial number of neighbours: {'classifier__n_neighbors': 8, 'classifier__weights': 'uniform'} \n",
      "- Accuracy: 0.76\n",
      "kNN with Euclidean:\n",
      "- Optimal number of neighbours: {'classifier__n_neighbors': 4, 'classifier__weights': 'uniform'} \n",
      "- Accuracy: 0.72\n",
      "SVM:\n",
      "- Accuracy: 0.52\n",
      "Logistic Regression:\n",
      "- Accuracy: 0.04\n",
      "Naive Bayes:\n",
      "- Accuracy: 0.72\n",
      "Linear regression:\n",
      "- RMSE: 0.53 \n",
      "- R2: 0.59 \n",
      "- RMSE after rounding: 0.6 \n",
      "- Accuracy after rounding: 0.64\n"
     ]
    }
   ],
   "source": [
    "#összes teljes mindenes\n",
    "#összesítve kNN\n",
    "print(f'kNN with Mahalanobis:')\n",
    "print(f'- Optmial number of neighbours: {knn_mahal_grid_search.best_params_} \\n- Accuracy: {knn_mahal}')\n",
    "print(f'kNN with Euclidean:')\n",
    "print(f'- Optimal number of neighbours: {knn_eu_grid_search.best_params_} \\n- Accuracy: {knn_eu}')\n",
    "print(\"SVM:\")\n",
    "print(f'- Accuracy: {SVM_acc}')\n",
    "print(\"Logistic Regression:\")\n",
    "print(f'- Accuracy: {log_acc}')\n",
    "print(\"Naive Bayes:\")\n",
    "print(f'- Accuracy: {bayes_acc}')\n",
    "print(\"Linear regression:\")\n",
    "print(f'- RMSE: {rmse} \\n- R2: {R2} \\n- RMSE after rounding: {rmse_rounded} \\n- Accuracy after rounding: {lin_acc}')"
   ]
  },
  {
   "cell_type": "markdown",
   "id": "55d08d22",
   "metadata": {},
   "source": [
    "# PCA"
   ]
  },
  {
   "cell_type": "code",
   "execution_count": 42,
   "id": "09cec576",
   "metadata": {},
   "outputs": [
    {
     "data": {
      "text/plain": [
       "[0.76, 0.8, 0.76, 0.72, 0.76, 0.76, 0.76, 0.76, 0.76]"
      ]
     },
     "execution_count": 42,
     "metadata": {},
     "output_type": "execute_result"
    }
   ],
   "source": [
    "#főkomponens analízissel\n",
    "#nézzük, mennyi főkomponenssel lesz a legjobb. (pl a logisztikus regresszió)\n",
    "from sklearn.decomposition import PCA\n",
    "\n",
    "scores = []\n",
    "\n",
    "for i in range(2,11):\n",
    "    projected = PCA(i).fit_transform(features)\n",
    "    X_train, X_test, y_train, y_test = train_test_split(projected, label, test_size=0.3, random_state=0)\n",
    "    neigh = KNeighborsClassifier(n_neighbors=i, metric=\"mahalanobis\", metric_params={'V': np.cov(m=X_train.astype(float), rowvar=False)})\n",
    "    neigh = neigh.fit(X_train,y_train)\n",
    "    y_pred = neigh.predict(X_test)\n",
    "    scores.append(round(sklearn.metrics.accuracy_score(y_test, y_pred),2))\n",
    "    \n",
    "scores"
   ]
  },
  {
   "cell_type": "code",
   "execution_count": 43,
   "id": "05849b6e",
   "metadata": {},
   "outputs": [
    {
     "name": "stdout",
     "output_type": "stream",
     "text": [
      "Accuracy: 0.4\n",
      "Precision: 0.37\n",
      "Recall: 0.29\n"
     ]
    },
    {
     "name": "stderr",
     "output_type": "stream",
     "text": [
      "D:\\anaconda3\\envs\\otthoni\\lib\\site-packages\\sklearn\\metrics\\_classification.py:1318: UndefinedMetricWarning: Recall is ill-defined and being set to 0.0 in labels with no true samples. Use `zero_division` parameter to control this behavior.\n",
      "  _warn_prf(average, modifier, msg_start, len(result))\n"
     ]
    }
   ],
   "source": [
    "#főkomponenses logreg\n",
    "from sklearn.decomposition import PCA\n",
    "projected = PCA(4).fit_transform(features)\n",
    "X_train, X_test, y_train, y_test = train_test_split(projected, label, test_size=0.3, random_state=0)\n",
    "\n",
    "logreg = OneVsRestClassifier(LogisticRegression(class_weight = \"balanced\", random_state=0, max_iter = 10000)).fit(X_train, y_train)\n",
    "y_pred = logreg.predict(X_test)\n",
    "\n",
    "print(f'Accuracy: {round(sklearn.metrics.accuracy_score(y_test, y_pred),2)}')\n",
    "print(f'Precision: {round(sklearn.metrics.precision_score(y_test, y_pred, average = \"macro\"),2)}')\n",
    "print(f'Recall: {round(sklearn.metrics.recall_score(y_test, y_pred, average = \"macro\"),2)}')"
   ]
  },
  {
   "cell_type": "code",
   "execution_count": 44,
   "id": "e2d4cdd3",
   "metadata": {},
   "outputs": [
    {
     "name": "stderr",
     "output_type": "stream",
     "text": [
      "D:\\anaconda3\\envs\\otthoni\\lib\\site-packages\\sklearn\\preprocessing\\_data.py:2590: UserWarning: n_quantiles (1000) is greater than the total number of samples (56). n_quantiles is set to n_samples.\n",
      "  warnings.warn(\n",
      "D:\\anaconda3\\envs\\otthoni\\lib\\site-packages\\sklearn\\model_selection\\_split.py:676: UserWarning: The least populated class in y has only 2 members, which is less than n_splits=5.\n",
      "  warnings.warn(\n",
      "D:\\anaconda3\\envs\\otthoni\\lib\\site-packages\\sklearn\\linear_model\\_sag.py:352: ConvergenceWarning: The max_iter was reached which means the coef_ did not converge\n",
      "  warnings.warn(\n",
      "D:\\anaconda3\\envs\\otthoni\\lib\\site-packages\\sklearn\\model_selection\\_split.py:676: UserWarning: The least populated class in y has only 2 members, which is less than n_splits=5.\n",
      "  warnings.warn(\n",
      "D:\\anaconda3\\envs\\otthoni\\lib\\site-packages\\sklearn\\model_selection\\_split.py:676: UserWarning: The least populated class in y has only 2 members, which is less than n_splits=5.\n",
      "  warnings.warn(\n",
      "D:\\anaconda3\\envs\\otthoni\\lib\\site-packages\\sklearn\\preprocessing\\_data.py:2590: UserWarning: n_quantiles (1000) is greater than the total number of samples (56). n_quantiles is set to n_samples.\n",
      "  warnings.warn(\n",
      "D:\\anaconda3\\envs\\otthoni\\lib\\site-packages\\sklearn\\model_selection\\_split.py:676: UserWarning: The least populated class in y has only 2 members, which is less than n_splits=5.\n",
      "  warnings.warn(\n",
      "D:\\anaconda3\\envs\\otthoni\\lib\\site-packages\\sklearn\\linear_model\\_sag.py:352: ConvergenceWarning: The max_iter was reached which means the coef_ did not converge\n",
      "  warnings.warn(\n",
      "D:\\anaconda3\\envs\\otthoni\\lib\\site-packages\\sklearn\\model_selection\\_split.py:676: UserWarning: The least populated class in y has only 2 members, which is less than n_splits=5.\n",
      "  warnings.warn(\n",
      "D:\\anaconda3\\envs\\otthoni\\lib\\site-packages\\sklearn\\model_selection\\_split.py:676: UserWarning: The least populated class in y has only 2 members, which is less than n_splits=5.\n",
      "  warnings.warn(\n",
      "D:\\anaconda3\\envs\\otthoni\\lib\\site-packages\\sklearn\\preprocessing\\_data.py:2590: UserWarning: n_quantiles (1000) is greater than the total number of samples (56). n_quantiles is set to n_samples.\n",
      "  warnings.warn(\n",
      "D:\\anaconda3\\envs\\otthoni\\lib\\site-packages\\sklearn\\model_selection\\_split.py:676: UserWarning: The least populated class in y has only 2 members, which is less than n_splits=5.\n",
      "  warnings.warn(\n",
      "D:\\anaconda3\\envs\\otthoni\\lib\\site-packages\\sklearn\\linear_model\\_sag.py:352: ConvergenceWarning: The max_iter was reached which means the coef_ did not converge\n",
      "  warnings.warn(\n",
      "D:\\anaconda3\\envs\\otthoni\\lib\\site-packages\\sklearn\\model_selection\\_split.py:676: UserWarning: The least populated class in y has only 2 members, which is less than n_splits=5.\n",
      "  warnings.warn(\n",
      "D:\\anaconda3\\envs\\otthoni\\lib\\site-packages\\sklearn\\model_selection\\_split.py:676: UserWarning: The least populated class in y has only 2 members, which is less than n_splits=5.\n",
      "  warnings.warn(\n",
      "D:\\anaconda3\\envs\\otthoni\\lib\\site-packages\\sklearn\\preprocessing\\_data.py:2590: UserWarning: n_quantiles (1000) is greater than the total number of samples (56). n_quantiles is set to n_samples.\n",
      "  warnings.warn(\n",
      "D:\\anaconda3\\envs\\otthoni\\lib\\site-packages\\sklearn\\model_selection\\_split.py:676: UserWarning: The least populated class in y has only 2 members, which is less than n_splits=5.\n",
      "  warnings.warn(\n",
      "D:\\anaconda3\\envs\\otthoni\\lib\\site-packages\\sklearn\\linear_model\\_sag.py:352: ConvergenceWarning: The max_iter was reached which means the coef_ did not converge\n",
      "  warnings.warn(\n",
      "D:\\anaconda3\\envs\\otthoni\\lib\\site-packages\\sklearn\\model_selection\\_split.py:676: UserWarning: The least populated class in y has only 2 members, which is less than n_splits=5.\n",
      "  warnings.warn(\n",
      "D:\\anaconda3\\envs\\otthoni\\lib\\site-packages\\sklearn\\model_selection\\_split.py:676: UserWarning: The least populated class in y has only 2 members, which is less than n_splits=5.\n",
      "  warnings.warn(\n",
      "D:\\anaconda3\\envs\\otthoni\\lib\\site-packages\\sklearn\\preprocessing\\_data.py:2590: UserWarning: n_quantiles (1000) is greater than the total number of samples (56). n_quantiles is set to n_samples.\n",
      "  warnings.warn(\n",
      "D:\\anaconda3\\envs\\otthoni\\lib\\site-packages\\sklearn\\model_selection\\_split.py:676: UserWarning: The least populated class in y has only 2 members, which is less than n_splits=5.\n",
      "  warnings.warn(\n",
      "D:\\anaconda3\\envs\\otthoni\\lib\\site-packages\\sklearn\\linear_model\\_sag.py:352: ConvergenceWarning: The max_iter was reached which means the coef_ did not converge\n",
      "  warnings.warn(\n",
      "D:\\anaconda3\\envs\\otthoni\\lib\\site-packages\\sklearn\\model_selection\\_split.py:676: UserWarning: The least populated class in y has only 2 members, which is less than n_splits=5.\n",
      "  warnings.warn(\n",
      "D:\\anaconda3\\envs\\otthoni\\lib\\site-packages\\sklearn\\model_selection\\_split.py:676: UserWarning: The least populated class in y has only 2 members, which is less than n_splits=5.\n",
      "  warnings.warn(\n",
      "D:\\anaconda3\\envs\\otthoni\\lib\\site-packages\\sklearn\\preprocessing\\_data.py:2590: UserWarning: n_quantiles (1000) is greater than the total number of samples (56). n_quantiles is set to n_samples.\n",
      "  warnings.warn(\n",
      "D:\\anaconda3\\envs\\otthoni\\lib\\site-packages\\sklearn\\model_selection\\_split.py:676: UserWarning: The least populated class in y has only 2 members, which is less than n_splits=5.\n",
      "  warnings.warn(\n",
      "D:\\anaconda3\\envs\\otthoni\\lib\\site-packages\\sklearn\\linear_model\\_sag.py:352: ConvergenceWarning: The max_iter was reached which means the coef_ did not converge\n",
      "  warnings.warn(\n",
      "D:\\anaconda3\\envs\\otthoni\\lib\\site-packages\\sklearn\\model_selection\\_split.py:676: UserWarning: The least populated class in y has only 2 members, which is less than n_splits=5.\n",
      "  warnings.warn(\n",
      "D:\\anaconda3\\envs\\otthoni\\lib\\site-packages\\sklearn\\model_selection\\_split.py:676: UserWarning: The least populated class in y has only 2 members, which is less than n_splits=5.\n",
      "  warnings.warn(\n",
      "D:\\anaconda3\\envs\\otthoni\\lib\\site-packages\\sklearn\\preprocessing\\_data.py:2590: UserWarning: n_quantiles (1000) is greater than the total number of samples (56). n_quantiles is set to n_samples.\n",
      "  warnings.warn(\n",
      "D:\\anaconda3\\envs\\otthoni\\lib\\site-packages\\sklearn\\model_selection\\_split.py:676: UserWarning: The least populated class in y has only 2 members, which is less than n_splits=5.\n",
      "  warnings.warn(\n",
      "D:\\anaconda3\\envs\\otthoni\\lib\\site-packages\\sklearn\\model_selection\\_split.py:676: UserWarning: The least populated class in y has only 2 members, which is less than n_splits=5.\n",
      "  warnings.warn(\n",
      "D:\\anaconda3\\envs\\otthoni\\lib\\site-packages\\sklearn\\model_selection\\_split.py:676: UserWarning: The least populated class in y has only 2 members, which is less than n_splits=5.\n",
      "  warnings.warn(\n",
      "D:\\anaconda3\\envs\\otthoni\\lib\\site-packages\\sklearn\\preprocessing\\_data.py:2590: UserWarning: n_quantiles (1000) is greater than the total number of samples (56). n_quantiles is set to n_samples.\n",
      "  warnings.warn(\n",
      "D:\\anaconda3\\envs\\otthoni\\lib\\site-packages\\sklearn\\model_selection\\_split.py:676: UserWarning: The least populated class in y has only 2 members, which is less than n_splits=5.\n",
      "  warnings.warn(\n",
      "D:\\anaconda3\\envs\\otthoni\\lib\\site-packages\\sklearn\\model_selection\\_split.py:676: UserWarning: The least populated class in y has only 2 members, which is less than n_splits=5.\n",
      "  warnings.warn(\n",
      "D:\\anaconda3\\envs\\otthoni\\lib\\site-packages\\sklearn\\model_selection\\_split.py:676: UserWarning: The least populated class in y has only 2 members, which is less than n_splits=5.\n",
      "  warnings.warn(\n"
     ]
    }
   ],
   "source": [
    "#nézzük meg, hogy főkompononensenként hogy változnak a különböző algoritmusok eredménymutatói, és rakjuk dataframe-be!\n",
    "PCA_scores = pd.DataFrame({\"Főkomponensek száma\":[], \"Gradient Boosting Acc.\":[], \"Naive Bayes Acc.\":[], \"Logreg Acc.\":[], \"SVM Acc.\":[], \"Linreg RMSE\":[], \"Linreg R2\":[], \n",
    "                           \"Linreg RMSE kerekített\":[], \"Linreg Acc kerekített\":[]})\n",
    "\n",
    "\n",
    "for i in range(1,9):\n",
    "    projected = PCA(i).fit_transform(features)\n",
    "    X_train, X_test, y_train, y_test = train_test_split(projected, label, test_size=0.3, random_state=0)\n",
    "    \n",
    "    from sklearn import preprocessing\n",
    "    quantile_transformer = preprocessing.QuantileTransformer(random_state=0)\n",
    "    X_train = quantile_transformer.fit_transform(X_train)\n",
    "    X_test = quantile_transformer.transform(X_test)\n",
    "    \n",
    "    ### OPTIMALIZÁLÁS\n",
    "    \n",
    "    # Logreg\n",
    "    \n",
    "    pipeline = Pipeline(steps = [['classifier', LogisticRegression(class_weight = \"balanced\", random_state=0, max_iter = 5000, multi_class = 'ovr')]])\n",
    "    param_grid = {'classifier__C':[i*0.05 for i in range(1,100)], 'classifier__solver':['sag','saga']}\n",
    "\n",
    "    log_grid_search = GridSearchCV(estimator=pipeline,\n",
    "                                   param_grid=param_grid,\n",
    "                                   scoring='accuracy',\n",
    "                                   cv=stratified_kfold,\n",
    "                                   n_jobs=-1)\n",
    "\n",
    "\n",
    "    log_grid_search.fit(X_train, y_train)\n",
    "    cv_score = log_grid_search.best_score_\n",
    "    log_acc = round(log_grid_search.score(X_test, y_test),4)\n",
    "    \n",
    "    # Naive Bayes \n",
    "    \n",
    "    clf = GaussianNB()\n",
    "    clf.fit(X_train, y_train)\n",
    "    y_pred = clf.predict(X_test)\n",
    "    bayes_acc = round(sklearn.metrics.accuracy_score(y_test, y_pred),4)\n",
    "\n",
    "    # SVM\n",
    "    \n",
    "    pipeline = Pipeline(steps = [['classifier', SVC(class_weight = \"balanced\", random_state=0, decision_function_shape = 'ovr')]])\n",
    "    param_grid = {'classifier__C':[i*0.1 for i in range(1,50)], 'classifier__kernel':['linear','poly','rbf']}\n",
    "\n",
    "    SVM_grid_search = GridSearchCV(estimator=pipeline,\n",
    "                                   param_grid=param_grid,\n",
    "                                   scoring='accuracy',\n",
    "                                   cv=stratified_kfold,\n",
    "                                   n_jobs=-1)\n",
    "\n",
    "\n",
    "    SVM_grid_search.fit(X_train, y_train)\n",
    "    cv_score = SVM_grid_search.best_score_\n",
    "    SVM_acc = round(SVM_grid_search.score(X_test, y_test),4)\n",
    "    \n",
    "    # GradBoost\n",
    "    \n",
    "    pipeline = Pipeline(steps = [['classifier', GradientBoostingClassifier(random_state=0)]])\n",
    "    param_grid = {'classifier__learning_rate':[0.01*i for i in range(1,50)],\n",
    "                  'classifier__n_estimators':[5*i for i in range(1,10)], 'classifier__criterion':['squared_error','friedman_mse'],\n",
    "                  'classifier__max_depth':[3,4,5]}\n",
    "\n",
    "    grad_grid_search = GridSearchCV(estimator=pipeline,\n",
    "                                   param_grid=param_grid,\n",
    "                                   scoring='accuracy',\n",
    "                                   cv=stratified_kfold,\n",
    "                                   n_jobs=-1)\n",
    "\n",
    "\n",
    "    grad_grid_search.fit(X_train, y_train)\n",
    "    cv_score = grad_grid_search.best_score_\n",
    "    grad_acc = round(grad_grid_search.score(X_test, y_test),4)\n",
    "    \n",
    "    # Linreg\n",
    "\n",
    "    reg = LinearRegression().fit(X_train,y_train)\n",
    "    reg_pred = reg.predict(X_test)\n",
    "    \n",
    "    rmse = round(np.power(np.sum(np.power(y_test - reg_pred, 2))/reg_pred.shape[0],0.5),4)\n",
    "    \n",
    "    SST = np.sum(np.power(y_test-np.mean(y_test),2))\n",
    "    SSR = np.sum(np.power(reg_pred-np.mean(y_test),2))\n",
    "    R2 = round(SSR/SST,4)\n",
    "    R2\n",
    "    \n",
    "    for j in range(reg_pred.shape[0]):\n",
    "        reg_pred[j] = round(reg_pred[j],0)\n",
    "\n",
    "    rmse_rounded = round(np.power(np.sum(np.power(y_test - reg_pred, 2))/reg_pred.shape[0],0.5),4)\n",
    "    lin_acc = round(sklearn.metrics.accuracy_score(y_test, reg_pred),4)\n",
    "    reg_pred_rounded = round(sklearn.metrics.accuracy_score(y_test, reg_pred),4)\n",
    "    \n",
    "    \n",
    "    #új sor a dataframe-be\n",
    "    new_row = {\"Főkomponensek száma\":str(i), \"Gradient Boosting Acc.\":grad_acc, \"Naive Bayes Acc.\":bayes_acc ,\"Logreg Acc.\":log_acc, \"SVM Acc.\":SVM_acc, \"Linreg RMSE\":rmse, \"Linreg R2\":R2, \n",
    "               \"Linreg RMSE kerekített\":rmse_rounded, \"Linreg Acc kerekített\":reg_pred_rounded}\n",
    "    PCA_scores = PCA_scores.append(new_row, ignore_index=True)"
   ]
  },
  {
   "cell_type": "code",
   "execution_count": 45,
   "id": "87149cbe",
   "metadata": {
    "scrolled": false
   },
   "outputs": [
    {
     "data": {
      "text/html": [
       "<div>\n",
       "<style scoped>\n",
       "    .dataframe tbody tr th:only-of-type {\n",
       "        vertical-align: middle;\n",
       "    }\n",
       "\n",
       "    .dataframe tbody tr th {\n",
       "        vertical-align: top;\n",
       "    }\n",
       "\n",
       "    .dataframe thead th {\n",
       "        text-align: right;\n",
       "    }\n",
       "</style>\n",
       "<table border=\"1\" class=\"dataframe\">\n",
       "  <thead>\n",
       "    <tr style=\"text-align: right;\">\n",
       "      <th></th>\n",
       "      <th>Főkomponensek száma</th>\n",
       "      <th>Gradient Boosting Acc.</th>\n",
       "      <th>Naive Bayes Acc.</th>\n",
       "      <th>Logreg Acc.</th>\n",
       "      <th>SVM Acc.</th>\n",
       "      <th>Linreg RMSE</th>\n",
       "      <th>Linreg R2</th>\n",
       "      <th>Linreg RMSE kerekített</th>\n",
       "      <th>Linreg Acc kerekített</th>\n",
       "    </tr>\n",
       "  </thead>\n",
       "  <tbody>\n",
       "    <tr>\n",
       "      <th>0</th>\n",
       "      <td>1</td>\n",
       "      <td>0.76</td>\n",
       "      <td>0.76</td>\n",
       "      <td>0.00</td>\n",
       "      <td>0.40</td>\n",
       "      <td>0.4280</td>\n",
       "      <td>0.1136</td>\n",
       "      <td>0.4899</td>\n",
       "      <td>0.76</td>\n",
       "    </tr>\n",
       "    <tr>\n",
       "      <th>1</th>\n",
       "      <td>2</td>\n",
       "      <td>0.76</td>\n",
       "      <td>0.76</td>\n",
       "      <td>0.64</td>\n",
       "      <td>0.64</td>\n",
       "      <td>0.4277</td>\n",
       "      <td>0.1082</td>\n",
       "      <td>0.4899</td>\n",
       "      <td>0.76</td>\n",
       "    </tr>\n",
       "    <tr>\n",
       "      <th>2</th>\n",
       "      <td>3</td>\n",
       "      <td>0.76</td>\n",
       "      <td>0.76</td>\n",
       "      <td>0.68</td>\n",
       "      <td>0.76</td>\n",
       "      <td>0.4261</td>\n",
       "      <td>0.1523</td>\n",
       "      <td>0.4899</td>\n",
       "      <td>0.76</td>\n",
       "    </tr>\n",
       "    <tr>\n",
       "      <th>3</th>\n",
       "      <td>4</td>\n",
       "      <td>0.76</td>\n",
       "      <td>0.76</td>\n",
       "      <td>0.16</td>\n",
       "      <td>0.64</td>\n",
       "      <td>0.4263</td>\n",
       "      <td>0.1854</td>\n",
       "      <td>0.4899</td>\n",
       "      <td>0.76</td>\n",
       "    </tr>\n",
       "    <tr>\n",
       "      <th>4</th>\n",
       "      <td>5</td>\n",
       "      <td>0.76</td>\n",
       "      <td>0.76</td>\n",
       "      <td>0.48</td>\n",
       "      <td>0.72</td>\n",
       "      <td>0.4264</td>\n",
       "      <td>0.1855</td>\n",
       "      <td>0.4899</td>\n",
       "      <td>0.76</td>\n",
       "    </tr>\n",
       "    <tr>\n",
       "      <th>5</th>\n",
       "      <td>6</td>\n",
       "      <td>0.76</td>\n",
       "      <td>0.76</td>\n",
       "      <td>0.12</td>\n",
       "      <td>0.68</td>\n",
       "      <td>0.4233</td>\n",
       "      <td>0.1365</td>\n",
       "      <td>0.4899</td>\n",
       "      <td>0.76</td>\n",
       "    </tr>\n",
       "    <tr>\n",
       "      <th>6</th>\n",
       "      <td>7</td>\n",
       "      <td>0.76</td>\n",
       "      <td>0.76</td>\n",
       "      <td>0.52</td>\n",
       "      <td>0.72</td>\n",
       "      <td>0.4304</td>\n",
       "      <td>0.1828</td>\n",
       "      <td>0.4899</td>\n",
       "      <td>0.76</td>\n",
       "    </tr>\n",
       "    <tr>\n",
       "      <th>7</th>\n",
       "      <td>8</td>\n",
       "      <td>0.76</td>\n",
       "      <td>0.76</td>\n",
       "      <td>0.52</td>\n",
       "      <td>0.72</td>\n",
       "      <td>0.4416</td>\n",
       "      <td>0.2002</td>\n",
       "      <td>0.4899</td>\n",
       "      <td>0.76</td>\n",
       "    </tr>\n",
       "  </tbody>\n",
       "</table>\n",
       "</div>"
      ],
      "text/plain": [
       "  Főkomponensek száma  Gradient Boosting Acc.  Naive Bayes Acc.  Logreg Acc.  \\\n",
       "0                   1                    0.76              0.76         0.00   \n",
       "1                   2                    0.76              0.76         0.64   \n",
       "2                   3                    0.76              0.76         0.68   \n",
       "3                   4                    0.76              0.76         0.16   \n",
       "4                   5                    0.76              0.76         0.48   \n",
       "5                   6                    0.76              0.76         0.12   \n",
       "6                   7                    0.76              0.76         0.52   \n",
       "7                   8                    0.76              0.76         0.52   \n",
       "\n",
       "   SVM Acc.  Linreg RMSE  Linreg R2  Linreg RMSE kerekített  \\\n",
       "0      0.40       0.4280     0.1136                  0.4899   \n",
       "1      0.64       0.4277     0.1082                  0.4899   \n",
       "2      0.76       0.4261     0.1523                  0.4899   \n",
       "3      0.64       0.4263     0.1854                  0.4899   \n",
       "4      0.72       0.4264     0.1855                  0.4899   \n",
       "5      0.68       0.4233     0.1365                  0.4899   \n",
       "6      0.72       0.4304     0.1828                  0.4899   \n",
       "7      0.72       0.4416     0.2002                  0.4899   \n",
       "\n",
       "   Linreg Acc kerekített  \n",
       "0                   0.76  \n",
       "1                   0.76  \n",
       "2                   0.76  \n",
       "3                   0.76  \n",
       "4                   0.76  \n",
       "5                   0.76  \n",
       "6                   0.76  \n",
       "7                   0.76  "
      ]
     },
     "execution_count": 45,
     "metadata": {},
     "output_type": "execute_result"
    }
   ],
   "source": [
    "PCA_scores"
   ]
  },
  {
   "cell_type": "code",
   "execution_count": null,
   "id": "66735a94",
   "metadata": {},
   "outputs": [],
   "source": []
  },
  {
   "cell_type": "code",
   "execution_count": null,
   "id": "cc39ac76",
   "metadata": {},
   "outputs": [],
   "source": []
  },
  {
   "cell_type": "markdown",
   "id": "cb4fe241",
   "metadata": {},
   "source": [
    "# Modulok és Dataprep"
   ]
  },
  {
   "cell_type": "code",
   "execution_count": 46,
   "id": "2f3b5dfa",
   "metadata": {},
   "outputs": [],
   "source": [
    "import pandas as pd\n",
    "import numpy as np\n",
    "from sklearn.model_selection import train_test_split, GridSearchCV, StratifiedKFold\n",
    "import sklearn.metrics\n",
    "from sklearn.multiclass import OneVsRestClassifier\n",
    "from imblearn.pipeline import Pipeline as imbpipeline\n",
    "from sklearn.pipeline import Pipeline"
   ]
  },
  {
   "cell_type": "code",
   "execution_count": 47,
   "id": "11e1c28d",
   "metadata": {},
   "outputs": [],
   "source": [
    "data = pd.read_excel(\"C:/Users/Donát/Documents/GitHub/-nkutfel/2019/2019_MAIN_CLEANED.xlsx\")"
   ]
  },
  {
   "cell_type": "markdown",
   "id": "4ab5b575",
   "metadata": {},
   "source": [
    "**Minimális Feature Engineering**"
   ]
  },
  {
   "cell_type": "code",
   "execution_count": 48,
   "id": "8c2fdccb",
   "metadata": {},
   "outputs": [],
   "source": [
    "#szűrjük ki a nem kategorikus vagy numerikus változókat\n",
    "working_data = data.drop(labels = [\"Name\", \"Neptun\", \"Tankör\"], axis = 1)\n",
    "\n",
    "#alakítsuk numerikussá a %-os teljesítménymutatókat\n",
    "for i, row in working_data.iterrows():\n",
    "    working_data.at[i, \"Matek eredmény\"] = float(row[\"Matek eredmény\"][:-3] + \".\" + row[\"Matek eredmény\"][-2])\n",
    "    working_data.at[i, \"Kognitív eredmény\"] = float(row[\"Kognitív eredmény\"][:-3] + \".\" + row[\"Kognitív eredmény\"][-2])\n",
    "    working_data.at[i, \"Kognitív pont\"] = float(str(row[\"Kognitív pont\"]).replace(\",\", \".\"))\n",
    "    working_data.at[i, \"Össz eredmény (átlag)\"] = float(row[\"Össz eredmény (átlag)\"][:-3] + \".\" + row[\"Össz eredmény (átlag)\"][-2])\n",
    "\n"
   ]
  },
  {
   "cell_type": "code",
   "execution_count": 49,
   "id": "c4370d01",
   "metadata": {},
   "outputs": [],
   "source": [
    "#csináljunk a jegyek alapján 3 csoportot: a jó tanulók a 4-5, a rossz a 2-3, a bukás legyen 1\n",
    "for i, row in working_data.iterrows():\n",
    "    if working_data.at[i, \"Matematika A1a - Analízis\"] in [3, 4, 5]:\n",
    "        working_data.at[i, \"Matematika A1a - Analízis\"] = 1\n",
    "    elif working_data.at[i, \"Matematika A1a - Analízis\"] in [2, 1]:\n",
    "        working_data.at[i, \"Matematika A1a - Analízis\"] = 0"
   ]
  },
  {
   "cell_type": "code",
   "execution_count": 50,
   "id": "7fa19df3",
   "metadata": {},
   "outputs": [
    {
     "data": {
      "text/plain": [
       "1    155\n",
       "0     75\n",
       "Name: Matematika A1a - Analízis, dtype: int64"
      ]
     },
     "execution_count": 50,
     "metadata": {},
     "output_type": "execute_result"
    }
   ],
   "source": [
    "working_data['Matematika A1a - Analízis'].value_counts()"
   ]
  },
  {
   "cell_type": "markdown",
   "id": "a87d2a20",
   "metadata": {},
   "source": [
    "# Vegyészek"
   ]
  },
  {
   "cell_type": "code",
   "execution_count": 51,
   "id": "ffa737d1",
   "metadata": {
    "scrolled": true
   },
   "outputs": [
    {
     "name": "stderr",
     "output_type": "stream",
     "text": [
      "D:\\anaconda3\\envs\\otthoni\\lib\\site-packages\\sklearn\\preprocessing\\_data.py:2590: UserWarning: n_quantiles (1000) is greater than the total number of samples (83). n_quantiles is set to n_samples.\n",
      "  warnings.warn(\n"
     ]
    }
   ],
   "source": [
    "from imblearn.over_sampling import SMOTE\n",
    "\n",
    "vegyesz = working_data.query(\"Szak == 'Vegyészmérnöki'\")\n",
    "\n",
    "stratified_kfold = StratifiedKFold(n_splits=5,\n",
    "                                       shuffle=True,\n",
    "                                       random_state=11)\n",
    "\n",
    "features = vegyesz.drop(labels = [\"Matematika A1a - Analízis\", \"Kognitív pont\", \"Matematika A2c\", \"Szak\", \"Matek helyes\", \"Összes pont\", \"Össz eredmény (átlag)\"], axis = 1)\n",
    "label = vegyesz[\"Matematika A1a - Analízis\"]\n",
    "\n",
    "\n",
    "\n",
    "X_train, X_test, y_train, y_test = train_test_split(features, label, test_size=0.3, random_state=0, stratify=label)\n",
    "\n",
    "\n",
    "#skálázás\n",
    "\n",
    "from sklearn import preprocessing\n",
    "quantile_transformer = preprocessing.QuantileTransformer(random_state=0)\n",
    "X_train = quantile_transformer.fit_transform(X_train)\n",
    "X_test = quantile_transformer.transform(X_test)\n"
   ]
  },
  {
   "cell_type": "markdown",
   "id": "2ade80f6",
   "metadata": {},
   "source": [
    "## Osztályozó algoritmusok\n",
    "\n",
    "**KNN**"
   ]
  },
  {
   "cell_type": "code",
   "execution_count": 52,
   "id": "fdbb5d78",
   "metadata": {},
   "outputs": [
    {
     "name": "stdout",
     "output_type": "stream",
     "text": [
      "Mahalanobis kNN:\n",
      "{'cv_score': 0.7720588235294118, 'test_score': 0.8055555555555556}\n",
      "Params:\n",
      "{'classifier__n_neighbors': 18, 'classifier__weights': 'uniform'}\n"
     ]
    }
   ],
   "source": [
    "#KNN-re keresztvalidációval mahalanobis-szal\n",
    "from sklearn.neighbors import KNeighborsClassifier\n",
    "from sklearn.model_selection import cross_val_score\n",
    "\n",
    "\n",
    "#distance függvény\n",
    "def squared(array):\n",
    "    return 1/array**2\n",
    "\n",
    "\n",
    "\n",
    "pipeline = imbpipeline(steps = [['classifier', KNeighborsClassifier(metric=\"mahalanobis\", metric_params={'V': np.cov(m=X_train.astype(float), rowvar=False)})]])\n",
    "param_grid = {'classifier__n_neighbors':[i for i in range(1,30)], 'classifier__weights':['uniform', 'distance', squared]}\n",
    "\n",
    "knn_mahal_grid_search = GridSearchCV(estimator=pipeline,\n",
    "                               param_grid=param_grid,\n",
    "                               scoring='accuracy',\n",
    "                               cv=stratified_kfold,\n",
    "                               n_jobs=-1)\n",
    "\n",
    "\n",
    "knn_mahal_grid_search.fit(X_train, y_train)\n",
    "cv_score = knn_mahal_grid_search.best_score_\n",
    "knn_mahal = knn_mahal_grid_search.score(X_test, y_test)\n",
    "print(\"Mahalanobis kNN:\")\n",
    "print({'cv_score':cv_score, 'test_score':knn_mahal})\n",
    "print(\"Params:\")\n",
    "print(knn_mahal_grid_search.best_params_)\n"
   ]
  },
  {
   "cell_type": "code",
   "execution_count": 53,
   "id": "171da62e",
   "metadata": {
    "scrolled": true
   },
   "outputs": [
    {
     "name": "stdout",
     "output_type": "stream",
     "text": [
      "Euclidian kNN:\n",
      "{'cv_score': 0.7823529411764706, 'test_score': 0.8333333333333334}\n",
      "Params:\n",
      "{'classifier__n_neighbors': 8, 'classifier__weights': 'uniform'}\n"
     ]
    }
   ],
   "source": [
    "#KNN-re keresztvalidációval euklidészi távolsággal\n",
    "\n",
    "pipeline = Pipeline(steps = [['classifier', KNeighborsClassifier(metric=\"euclidean\")]])\n",
    "param_grid = {'classifier__n_neighbors':[i for i in range(1,30)], 'classifier__weights':['uniform', 'distance', squared]}\n",
    "\n",
    "knn_eu_grid_search = GridSearchCV(estimator=pipeline,\n",
    "                               param_grid=param_grid,\n",
    "                               scoring='accuracy',\n",
    "                               cv=stratified_kfold,\n",
    "                               n_jobs=-1)\n",
    "\n",
    "\n",
    "knn_eu_grid_search.fit(X_train, y_train)\n",
    "cv_score = knn_eu_grid_search.best_score_\n",
    "knn_eu = knn_eu_grid_search.score(X_test, y_test)\n",
    "print(\"Euclidian kNN:\")\n",
    "print({'cv_score':cv_score, 'test_score':knn_eu})\n",
    "print(\"Params:\")\n",
    "print(knn_eu_grid_search.best_params_)\n",
    "\n",
    "\n"
   ]
  },
  {
   "cell_type": "code",
   "execution_count": 54,
   "id": "9835c325",
   "metadata": {},
   "outputs": [
    {
     "name": "stdout",
     "output_type": "stream",
     "text": [
      "kNN with Mahalanobis:\n",
      "- Optmial parameters: {'classifier__n_neighbors': 18, 'classifier__weights': 'uniform'} \n",
      "- Accuracy: 0.8055555555555556\n",
      "kNN with Euclidean:\n",
      "- Optimal parameters: {'classifier__n_neighbors': 8, 'classifier__weights': 'uniform'} \n",
      "- Accuracy: 0.8333333333333334\n"
     ]
    }
   ],
   "source": [
    "#összesítve kNN\n",
    "print(f'kNN with Mahalanobis:')\n",
    "print(f'- Optmial parameters: {knn_mahal_grid_search.best_params_} \\n- Accuracy: {knn_mahal}')\n",
    "print(f'kNN with Euclidean:')\n",
    "print(f'- Optimal parameters: {knn_eu_grid_search.best_params_} \\n- Accuracy: {knn_eu}')"
   ]
  },
  {
   "cell_type": "markdown",
   "id": "f3600c69",
   "metadata": {},
   "source": [
    "**SVM**"
   ]
  },
  {
   "cell_type": "code",
   "execution_count": 55,
   "id": "08e4aa82",
   "metadata": {},
   "outputs": [
    {
     "name": "stdout",
     "output_type": "stream",
     "text": [
      "SVM:\n",
      "{'cv_score': 0.7595588235294117, 'test_score': 0.8055555555555556}\n",
      "Params:\n",
      "{'classifier__C': 4.2, 'classifier__kernel': 'poly'}\n",
      "\n",
      "Accuracy: 0.81\n",
      "Precision: 0.8\n",
      "Recall: 0.81\n"
     ]
    }
   ],
   "source": [
    "#tesztelés megfelelő C-hez SVM-nél\n",
    "from sklearn.svm import SVC\n",
    "from sklearn.multiclass import OneVsRestClassifier\n",
    "\n",
    "pipeline = Pipeline(steps = [['classifier', SVC(class_weight = \"balanced\", random_state=0, decision_function_shape = 'ovr')]])\n",
    "param_grid = {'classifier__C':[i*0.1 for i in range(1,50)], 'classifier__kernel':['linear','poly','rbf']}\n",
    "\n",
    "SVM_grid_search = GridSearchCV(estimator=pipeline,\n",
    "                               param_grid=param_grid,\n",
    "                               scoring='accuracy',\n",
    "                               cv=stratified_kfold,\n",
    "                               n_jobs=-1)\n",
    "\n",
    "\n",
    "SVM_grid_search.fit(X_train, y_train)\n",
    "cv_score = SVM_grid_search.best_score_\n",
    "SVM_acc = SVM_grid_search.score(X_test, y_test)\n",
    "y_pred = SVM_grid_search.predict(X_test)\n",
    "print(\"SVM:\")\n",
    "print({'cv_score':cv_score, 'test_score':SVM_acc})\n",
    "print(\"Params:\")\n",
    "print(SVM_grid_search.best_params_)\n",
    "\n",
    "print(\"\")\n",
    "print(f'Accuracy: {round(sklearn.metrics.accuracy_score(y_test, y_pred),2)}')\n",
    "print(f'Precision: {round(sklearn.metrics.precision_score(y_test, y_pred, average = \"weighted\"),2)}')\n",
    "print(f'Recall: {round(sklearn.metrics.recall_score(y_test, y_pred, average = \"weighted\"),2)}')\n",
    "\n"
   ]
  },
  {
   "cell_type": "markdown",
   "id": "7055b8d8",
   "metadata": {},
   "source": [
    "**Logisztikus Regresszió**"
   ]
  },
  {
   "cell_type": "code",
   "execution_count": 56,
   "id": "7fa36460",
   "metadata": {},
   "outputs": [
    {
     "name": "stdout",
     "output_type": "stream",
     "text": [
      "Logistic Regression:\n",
      "{'cv_score': 0.7580882352941176, 'test_score': 0.7222222222222222}\n",
      "Params:\n",
      "{'classifier__C': 1.1500000000000001, 'classifier__solver': 'sag'}\n",
      "\n",
      "Accuracy: 0.72\n",
      "Precision: 0.77\n",
      "Recall: 0.72\n"
     ]
    }
   ],
   "source": [
    "#logisztikus regresszióra\n",
    "from sklearn.linear_model import LogisticRegression\n",
    "\n",
    "pipeline = Pipeline(steps = [['classifier', LogisticRegression(class_weight = \"balanced\", random_state=0, max_iter = 5000, multi_class = 'ovr')]])\n",
    "param_grid = {'classifier__C':[i*0.05 for i in range(1,100)], 'classifier__solver':['sag','saga']}\n",
    "\n",
    "log_grid_search = GridSearchCV(estimator=pipeline,\n",
    "                               param_grid=param_grid,\n",
    "                               scoring='accuracy',\n",
    "                               cv=stratified_kfold,\n",
    "                               n_jobs=-1)\n",
    "\n",
    "\n",
    "log_grid_search.fit(X_train, y_train)\n",
    "cv_score = log_grid_search.best_score_\n",
    "log_acc = log_grid_search.score(X_test, y_test)\n",
    "y_pred = log_grid_search.predict(X_test)\n",
    "print(\"Logistic Regression:\")\n",
    "print({'cv_score':cv_score, 'test_score':log_acc})\n",
    "print(\"Params:\")\n",
    "print(log_grid_search.best_params_)\n",
    "\n",
    "print(\"\")\n",
    "print(f'Accuracy: {round(sklearn.metrics.accuracy_score(y_test, y_pred),2)}')\n",
    "print(f'Precision: {round(sklearn.metrics.precision_score(y_test, y_pred, average = \"weighted\"),2)}')\n",
    "print(f'Recall: {round(sklearn.metrics.recall_score(y_test, y_pred, average = \"weighted\"),2)}')\n"
   ]
  },
  {
   "cell_type": "markdown",
   "id": "a270a0e1",
   "metadata": {},
   "source": [
    "**Naive Bayes**"
   ]
  },
  {
   "cell_type": "code",
   "execution_count": 57,
   "id": "73b7b837",
   "metadata": {},
   "outputs": [
    {
     "name": "stdout",
     "output_type": "stream",
     "text": [
      "Accuracy: 0.78\n"
     ]
    }
   ],
   "source": [
    "#Naive bayes-szel\n",
    "from sklearn.naive_bayes import GaussianNB\n",
    "\n",
    "clf = GaussianNB()\n",
    "clf.fit(X_train, y_train)\n",
    "y_pred = clf.predict(X_test)\n",
    "bayes_acc = round(sklearn.metrics.accuracy_score(y_test, y_pred),2)\n",
    "\n",
    "print(f'Accuracy: {round(sklearn.metrics.accuracy_score(y_test, y_pred),2)}')"
   ]
  },
  {
   "cell_type": "code",
   "execution_count": 58,
   "id": "aad9a3ee",
   "metadata": {},
   "outputs": [
    {
     "name": "stdout",
     "output_type": "stream",
     "text": [
      "Accuracy with different algorithms:\n",
      "- SVM: 0.8055555555555556 \n",
      "- Logistic Regression: 0.7222222222222222 \n",
      "- Naive Bayes: 0.78\n"
     ]
    }
   ],
   "source": [
    "#az előző 3 kiértékelése\n",
    "print(\"Accuracy with different algorithms:\")\n",
    "print(f'- SVM: {SVM_acc} \\n- Logistic Regression: {log_acc} \\n- Naive Bayes: {bayes_acc}')"
   ]
  },
  {
   "cell_type": "markdown",
   "id": "7e559144",
   "metadata": {},
   "source": [
    "**Gradient Boosting**"
   ]
  },
  {
   "cell_type": "code",
   "execution_count": 59,
   "id": "3f34f59e",
   "metadata": {},
   "outputs": [
    {
     "name": "stdout",
     "output_type": "stream",
     "text": [
      "Gradient Boosting:\n",
      "{'cv_score': 0.7823529411764707, 'test_score': 0.7777777777777778}\n",
      "Params:\n",
      "{'classifier__criterion': 'friedman_mse', 'classifier__learning_rate': 0.49, 'classifier__max_depth': 5, 'classifier__n_estimators': 35}\n",
      "\n",
      "Accuracy: 0.78\n",
      "Precision: 0.76\n",
      "Recall: 0.78\n"
     ]
    }
   ],
   "source": [
    "from sklearn.ensemble import GradientBoostingClassifier\n",
    "\n",
    "pipeline = Pipeline(steps = [['classifier', GradientBoostingClassifier(random_state=0)]])\n",
    "param_grid = {'classifier__learning_rate':[0.01*i for i in range(1,50)],\n",
    "              'classifier__n_estimators':[5*i for i in range(1,10)], 'classifier__criterion':['squared_error','friedman_mse'],\n",
    "              'classifier__max_depth':[3,4,5]}\n",
    "\n",
    "grad_grid_search = GridSearchCV(estimator=pipeline,\n",
    "                               param_grid=param_grid,\n",
    "                               scoring='accuracy',\n",
    "                               cv=stratified_kfold,\n",
    "                               n_jobs=-1)\n",
    "\n",
    "\n",
    "grad_grid_search.fit(X_train, y_train)\n",
    "cv_score = grad_grid_search.best_score_\n",
    "grad_acc = grad_grid_search.score(X_test, y_test)\n",
    "y_pred = grad_grid_search.predict(X_test)\n",
    "print(\"Gradient Boosting:\")\n",
    "print({'cv_score':cv_score, 'test_score':grad_acc})\n",
    "print(\"Params:\")\n",
    "print(grad_grid_search.best_params_)\n",
    "\n",
    "print(\"\")\n",
    "print(f'Accuracy: {round(sklearn.metrics.accuracy_score(y_test, y_pred),2)}')\n",
    "print(f'Precision: {round(sklearn.metrics.precision_score(y_test, y_pred, average = \"weighted\"),2)}')\n",
    "print(f'Recall: {round(sklearn.metrics.recall_score(y_test, y_pred, average = \"weighted\"),2)}')"
   ]
  },
  {
   "cell_type": "markdown",
   "id": "7e467da8",
   "metadata": {},
   "source": [
    "**Lineáris regresszió**"
   ]
  },
  {
   "cell_type": "code",
   "execution_count": 60,
   "id": "64e87ce7",
   "metadata": {},
   "outputs": [
    {
     "data": {
      "text/plain": [
       "0.403179324584537"
      ]
     },
     "execution_count": 60,
     "metadata": {},
     "output_type": "execute_result"
    }
   ],
   "source": [
    "#ezek után nem oneVSall: lineáris regresszió\n",
    "from sklearn.linear_model import LinearRegression\n",
    "\n",
    "reg_alap = LinearRegression().fit(features,label)\n",
    "reg_alap.score(features, label)         "
   ]
  },
  {
   "cell_type": "code",
   "execution_count": 61,
   "id": "0b0ade5d",
   "metadata": {},
   "outputs": [
    {
     "name": "stdout",
     "output_type": "stream",
     "text": [
      "Coefficients: [-0.0099283  -0.00590125 -0.17114641 -0.75949878 -0.1262394   1.27462848\n",
      "  0.12312862  0.18541336  0.45029807 -0.10670399  0.04722161]\n",
      "RMSE: 0.34\n"
     ]
    }
   ],
   "source": [
    "#most nézzük a tanítóhalmazon és a teszthalmazon\n",
    "\n",
    "reg = LinearRegression().fit(X_train,y_train)\n",
    "reg_pred = reg.predict(X_test)\n",
    "\n",
    "#együtthatók\n",
    "print(\"Coefficients:\", reg.coef_)\n",
    "#RMSE\n",
    "\n",
    "rmse = round(np.power(np.sum(np.power(y_test - reg_pred, 2))/reg_pred.shape[0],0.5),2)\n",
    "print(\"RMSE:\", rmse)"
   ]
  },
  {
   "cell_type": "code",
   "execution_count": 62,
   "id": "22c226c9",
   "metadata": {},
   "outputs": [
    {
     "data": {
      "text/plain": [
       "<function matplotlib.pyplot.show(close=None, block=None)>"
      ]
     },
     "execution_count": 62,
     "metadata": {},
     "output_type": "execute_result"
    },
    {
     "data": {
      "image/png": "[encoded data removed]",
      "text/plain": [
       "<Figure size 432x288 with 1 Axes>"
      ]
     },
     "metadata": {
      "needs_background": "light"
     },
     "output_type": "display_data"
    }
   ],
   "source": [
    "#Nézzük meg a reziduális tagokat\n",
    "\n",
    "import matplotlib.pyplot as plt\n",
    "\n",
    "plt.scatter(reg_pred, y_test-reg_pred)\n",
    "plt.plot(reg_pred, [0 for i in range(reg_pred.shape[0])], c=\"red\") #0-vonal\n",
    "plt.title(\"Reziduális tagok\")\n",
    "plt.axis\n",
    "plt.show"
   ]
  },
  {
   "cell_type": "code",
   "execution_count": 63,
   "id": "fe4cdfdb",
   "metadata": {},
   "outputs": [
    {
     "data": {
      "text/plain": [
       "0.39"
      ]
     },
     "execution_count": 63,
     "metadata": {},
     "output_type": "execute_result"
    }
   ],
   "source": [
    "#R^2 és SSR\n",
    "SST = np.sum(np.power(y_test-np.mean(y_test),2))\n",
    "SSR = np.sum(np.power(reg_pred-np.mean(y_test),2))\n",
    "R2 = round(SSR/SST,2)\n",
    "R2"
   ]
  },
  {
   "cell_type": "code",
   "execution_count": 64,
   "id": "dd7b6a2a",
   "metadata": {},
   "outputs": [
    {
     "name": "stdout",
     "output_type": "stream",
     "text": [
      "RMSE: 0.41\n",
      "0.83\n"
     ]
    }
   ],
   "source": [
    "#másik: kerekítsük a becsült értékeket\n",
    "\n",
    "for i in range(reg_pred.shape[0]):\n",
    "    reg_pred[i] = round(reg_pred[i],0)\n",
    "\n",
    "rmse_rounded = round(np.power(np.sum(np.power(y_test - reg_pred, 2))/reg_pred.shape[0],0.5),2)\n",
    "print(\"RMSE:\", rmse_rounded)\n",
    "lin_acc = round(sklearn.metrics.accuracy_score(y_test, reg_pred),2)\n",
    "print(round(sklearn.metrics.accuracy_score(y_test, reg_pred),2))"
   ]
  },
  {
   "cell_type": "code",
   "execution_count": 65,
   "id": "1ff70c33",
   "metadata": {},
   "outputs": [
    {
     "name": "stdout",
     "output_type": "stream",
     "text": [
      "Linear regression:\n",
      "- RMSE: 0.34 \n",
      "- R2: 0.39 \n",
      "- RMSE after rounding: 0.41 \n",
      "- Accuracy after rounding: 0.83\n"
     ]
    }
   ],
   "source": [
    "#lineáris regresszió összesen:\n",
    "print(\"Linear regression:\")\n",
    "print(f'- RMSE: {rmse} \\n- R2: {R2} \\n- RMSE after rounding: {rmse_rounded} \\n- Accuracy after rounding: {lin_acc}')"
   ]
  },
  {
   "cell_type": "markdown",
   "id": "c8b95991",
   "metadata": {},
   "source": [
    "### Eredmények összesítve"
   ]
  },
  {
   "cell_type": "code",
   "execution_count": 66,
   "id": "51a28418",
   "metadata": {},
   "outputs": [
    {
     "name": "stdout",
     "output_type": "stream",
     "text": [
      "kNN with Mahalanobis:\n",
      "- Optmial number of neighbours: {'classifier__n_neighbors': 18, 'classifier__weights': 'uniform'} \n",
      "- Accuracy: 0.8055555555555556\n",
      "kNN with Euclidean:\n",
      "- Optimal number of neighbours: {'classifier__n_neighbors': 8, 'classifier__weights': 'uniform'} \n",
      "- Accuracy: 0.8333333333333334\n",
      "SVM:\n",
      "- Accuracy: 0.8055555555555556\n",
      "Logistic Regression:\n",
      "- Accuracy: 0.7222222222222222\n",
      "Naive Bayes:\n",
      "- Accuracy: 0.78\n",
      "Linear regression:\n",
      "- RMSE: 0.34 \n",
      "- R2: 0.39 \n",
      "- RMSE after rounding: 0.41 \n",
      "- Accuracy after rounding: 0.83\n"
     ]
    }
   ],
   "source": [
    "#összes teljes mindenes\n",
    "#összesítve kNN\n",
    "print(f'kNN with Mahalanobis:')\n",
    "print(f'- Optmial number of neighbours: {knn_mahal_grid_search.best_params_} \\n- Accuracy: {knn_mahal}')\n",
    "print(f'kNN with Euclidean:')\n",
    "print(f'- Optimal number of neighbours: {knn_eu_grid_search.best_params_} \\n- Accuracy: {knn_eu}')\n",
    "print(\"SVM:\")\n",
    "print(f'- Accuracy: {SVM_acc}')\n",
    "print(\"Logistic Regression:\")\n",
    "print(f'- Accuracy: {log_acc}')\n",
    "print(\"Naive Bayes:\")\n",
    "print(f'- Accuracy: {bayes_acc}')\n",
    "print(\"Linear regression:\")\n",
    "print(f'- RMSE: {rmse} \\n- R2: {R2} \\n- RMSE after rounding: {rmse_rounded} \\n- Accuracy after rounding: {lin_acc}')"
   ]
  },
  {
   "cell_type": "markdown",
   "id": "ebfa1bb2",
   "metadata": {},
   "source": [
    "# PCA"
   ]
  },
  {
   "cell_type": "code",
   "execution_count": 67,
   "id": "1817a717",
   "metadata": {},
   "outputs": [
    {
     "data": {
      "text/plain": [
       "[0.81, 0.67, 0.64, 0.67, 0.67, 0.72, 0.72, 0.72, 0.72]"
      ]
     },
     "execution_count": 67,
     "metadata": {},
     "output_type": "execute_result"
    }
   ],
   "source": [
    "#főkomponens analízissel\n",
    "#nézzük, mennyi főkomponenssel lesz a legjobb. (pl a logisztikus regresszió)\n",
    "from sklearn.decomposition import PCA\n",
    "\n",
    "scores = []\n",
    "\n",
    "for i in range(2,11):\n",
    "    projected = PCA(i).fit_transform(features)\n",
    "    X_train, X_test, y_train, y_test = train_test_split(projected, label, test_size=0.3, random_state=0)\n",
    "    neigh = KNeighborsClassifier(n_neighbors=i, metric=\"mahalanobis\", metric_params={'V': np.cov(m=X_train.astype(float), rowvar=False)})\n",
    "    neigh = neigh.fit(X_train,y_train)\n",
    "    y_pred = neigh.predict(X_test)\n",
    "    scores.append(round(sklearn.metrics.accuracy_score(y_test, y_pred),2))\n",
    "    \n",
    "scores"
   ]
  },
  {
   "cell_type": "code",
   "execution_count": 68,
   "id": "2b06186e",
   "metadata": {},
   "outputs": [
    {
     "name": "stdout",
     "output_type": "stream",
     "text": [
      "Accuracy: 0.75\n",
      "Precision: 0.7\n",
      "Recall: 0.73\n"
     ]
    }
   ],
   "source": [
    "#főkomponenses logreg\n",
    "from sklearn.decomposition import PCA\n",
    "projected = PCA(4).fit_transform(features)\n",
    "X_train, X_test, y_train, y_test = train_test_split(projected, label, test_size=0.3, random_state=0)\n",
    "\n",
    "logreg = OneVsRestClassifier(LogisticRegression(class_weight = \"balanced\", random_state=0, max_iter = 10000)).fit(X_train, y_train)\n",
    "y_pred = logreg.predict(X_test)\n",
    "\n",
    "print(f'Accuracy: {round(sklearn.metrics.accuracy_score(y_test, y_pred),2)}')\n",
    "print(f'Precision: {round(sklearn.metrics.precision_score(y_test, y_pred, average = \"macro\"),2)}')\n",
    "print(f'Recall: {round(sklearn.metrics.recall_score(y_test, y_pred, average = \"macro\"),2)}')"
   ]
  },
  {
   "cell_type": "code",
   "execution_count": 69,
   "id": "f4794e85",
   "metadata": {},
   "outputs": [
    {
     "name": "stderr",
     "output_type": "stream",
     "text": [
      "D:\\anaconda3\\envs\\otthoni\\lib\\site-packages\\sklearn\\preprocessing\\_data.py:2590: UserWarning: n_quantiles (1000) is greater than the total number of samples (83). n_quantiles is set to n_samples.\n",
      "  warnings.warn(\n",
      "D:\\anaconda3\\envs\\otthoni\\lib\\site-packages\\sklearn\\preprocessing\\_data.py:2590: UserWarning: n_quantiles (1000) is greater than the total number of samples (83). n_quantiles is set to n_samples.\n",
      "  warnings.warn(\n",
      "D:\\anaconda3\\envs\\otthoni\\lib\\site-packages\\sklearn\\preprocessing\\_data.py:2590: UserWarning: n_quantiles (1000) is greater than the total number of samples (83). n_quantiles is set to n_samples.\n",
      "  warnings.warn(\n",
      "D:\\anaconda3\\envs\\otthoni\\lib\\site-packages\\sklearn\\preprocessing\\_data.py:2590: UserWarning: n_quantiles (1000) is greater than the total number of samples (83). n_quantiles is set to n_samples.\n",
      "  warnings.warn(\n",
      "D:\\anaconda3\\envs\\otthoni\\lib\\site-packages\\sklearn\\preprocessing\\_data.py:2590: UserWarning: n_quantiles (1000) is greater than the total number of samples (83). n_quantiles is set to n_samples.\n",
      "  warnings.warn(\n",
      "D:\\anaconda3\\envs\\otthoni\\lib\\site-packages\\sklearn\\preprocessing\\_data.py:2590: UserWarning: n_quantiles (1000) is greater than the total number of samples (83). n_quantiles is set to n_samples.\n",
      "  warnings.warn(\n",
      "D:\\anaconda3\\envs\\otthoni\\lib\\site-packages\\sklearn\\preprocessing\\_data.py:2590: UserWarning: n_quantiles (1000) is greater than the total number of samples (83). n_quantiles is set to n_samples.\n",
      "  warnings.warn(\n",
      "D:\\anaconda3\\envs\\otthoni\\lib\\site-packages\\sklearn\\preprocessing\\_data.py:2590: UserWarning: n_quantiles (1000) is greater than the total number of samples (83). n_quantiles is set to n_samples.\n",
      "  warnings.warn(\n"
     ]
    }
   ],
   "source": [
    "#nézzük meg, hogy főkompononensenként hogy változnak a különböző algoritmusok eredménymutatói, és rakjuk dataframe-be!\n",
    "PCA_scores = pd.DataFrame({\"Főkomponensek száma\":[], \"Gradient Boosting Acc.\":[], \"Naive Bayes Acc.\":[], \"Logreg Acc.\":[], \"SVM Acc.\":[], \"Linreg RMSE\":[], \"Linreg R2\":[], \n",
    "                           \"Linreg RMSE kerekített\":[], \"Linreg Acc kerekített\":[]})\n",
    "\n",
    "\n",
    "for i in range(1,9):\n",
    "    projected = PCA(i).fit_transform(features)\n",
    "    X_train, X_test, y_train, y_test = train_test_split(projected, label, test_size=0.3, random_state=0)\n",
    "    \n",
    "    from sklearn import preprocessing\n",
    "    quantile_transformer = preprocessing.QuantileTransformer(random_state=0)\n",
    "    X_train = quantile_transformer.fit_transform(X_train)\n",
    "    X_test = quantile_transformer.transform(X_test)\n",
    "    \n",
    "    ### OPTIMALIZÁLÁS\n",
    "    \n",
    "    # Logreg\n",
    "    \n",
    "    pipeline = Pipeline(steps = [['classifier', LogisticRegression(class_weight = \"balanced\", random_state=0, max_iter = 5000, multi_class = 'ovr')]])\n",
    "    param_grid = {'classifier__C':[i*0.05 for i in range(1,100)], 'classifier__solver':['sag','saga']}\n",
    "\n",
    "    log_grid_search = GridSearchCV(estimator=pipeline,\n",
    "                                   param_grid=param_grid,\n",
    "                                   scoring='accuracy',\n",
    "                                   cv=stratified_kfold,\n",
    "                                   n_jobs=-1)\n",
    "\n",
    "\n",
    "    log_grid_search.fit(X_train, y_train)\n",
    "    cv_score = log_grid_search.best_score_\n",
    "    log_acc = round(log_grid_search.score(X_test, y_test),4)\n",
    "    \n",
    "    # Naive Bayes \n",
    "    \n",
    "    clf = GaussianNB()\n",
    "    clf.fit(X_train, y_train)\n",
    "    y_pred = clf.predict(X_test)\n",
    "    bayes_acc = round(sklearn.metrics.accuracy_score(y_test, y_pred),4)\n",
    "\n",
    "    # SVM\n",
    "    \n",
    "    pipeline = Pipeline(steps = [['classifier', SVC(class_weight = \"balanced\", random_state=0, decision_function_shape = 'ovr')]])\n",
    "    param_grid = {'classifier__C':[i*0.1 for i in range(1,50)], 'classifier__kernel':['linear','poly','rbf']}\n",
    "\n",
    "    SVM_grid_search = GridSearchCV(estimator=pipeline,\n",
    "                                   param_grid=param_grid,\n",
    "                                   scoring='accuracy',\n",
    "                                   cv=stratified_kfold,\n",
    "                                   n_jobs=-1)\n",
    "\n",
    "\n",
    "    SVM_grid_search.fit(X_train, y_train)\n",
    "    cv_score = SVM_grid_search.best_score_\n",
    "    SVM_acc = round(SVM_grid_search.score(X_test, y_test),4)\n",
    "    \n",
    "    # GradBoost\n",
    "    \n",
    "    pipeline = Pipeline(steps = [['classifier', GradientBoostingClassifier(random_state=0)]])\n",
    "    param_grid = {'classifier__learning_rate':[0.01*i for i in range(1,50)],\n",
    "                  'classifier__n_estimators':[5*i for i in range(1,10)], 'classifier__criterion':['squared_error','friedman_mse'],\n",
    "                  'classifier__max_depth':[3,4,5]}\n",
    "\n",
    "    grad_grid_search = GridSearchCV(estimator=pipeline,\n",
    "                                   param_grid=param_grid,\n",
    "                                   scoring='accuracy',\n",
    "                                   cv=stratified_kfold,\n",
    "                                   n_jobs=-1)\n",
    "\n",
    "\n",
    "    grad_grid_search.fit(X_train, y_train)\n",
    "    cv_score = grad_grid_search.best_score_\n",
    "    grad_acc = round(grad_grid_search.score(X_test, y_test),4)\n",
    "    \n",
    "    # Linreg\n",
    "\n",
    "    reg = LinearRegression().fit(X_train,y_train)\n",
    "    reg_pred = reg.predict(X_test)\n",
    "    \n",
    "    rmse = round(np.power(np.sum(np.power(y_test - reg_pred, 2))/reg_pred.shape[0],0.5),4)\n",
    "    \n",
    "    SST = np.sum(np.power(y_test-np.mean(y_test),2))\n",
    "    SSR = np.sum(np.power(reg_pred-np.mean(y_test),2))\n",
    "    R2 = round(SSR/SST,4)\n",
    "    R2\n",
    "    \n",
    "    for j in range(reg_pred.shape[0]):\n",
    "        reg_pred[j] = round(reg_pred[j],0)\n",
    "\n",
    "    rmse_rounded = round(np.power(np.sum(np.power(y_test - reg_pred, 2))/reg_pred.shape[0],0.5),4)\n",
    "    lin_acc = round(sklearn.metrics.accuracy_score(y_test, reg_pred),4)\n",
    "    reg_pred_rounded = round(sklearn.metrics.accuracy_score(y_test, reg_pred),4)\n",
    "    \n",
    "    \n",
    "    #új sor a dataframe-be\n",
    "    new_row = {\"Főkomponensek száma\":str(i), \"Gradient Boosting Acc.\":grad_acc, \"Naive Bayes Acc.\":bayes_acc ,\"Logreg Acc.\":log_acc, \"SVM Acc.\":SVM_acc, \"Linreg RMSE\":rmse, \"Linreg R2\":R2, \n",
    "               \"Linreg RMSE kerekített\":rmse_rounded, \"Linreg Acc kerekített\":reg_pred_rounded}\n",
    "    PCA_scores = PCA_scores.append(new_row, ignore_index=True)"
   ]
  },
  {
   "cell_type": "code",
   "execution_count": 70,
   "id": "0a850bde",
   "metadata": {},
   "outputs": [
    {
     "data": {
      "text/html": [
       "<div>\n",
       "<style scoped>\n",
       "    .dataframe tbody tr th:only-of-type {\n",
       "        vertical-align: middle;\n",
       "    }\n",
       "\n",
       "    .dataframe tbody tr th {\n",
       "        vertical-align: top;\n",
       "    }\n",
       "\n",
       "    .dataframe thead th {\n",
       "        text-align: right;\n",
       "    }\n",
       "</style>\n",
       "<table border=\"1\" class=\"dataframe\">\n",
       "  <thead>\n",
       "    <tr style=\"text-align: right;\">\n",
       "      <th></th>\n",
       "      <th>Főkomponensek száma</th>\n",
       "      <th>Gradient Boosting Acc.</th>\n",
       "      <th>Naive Bayes Acc.</th>\n",
       "      <th>Logreg Acc.</th>\n",
       "      <th>SVM Acc.</th>\n",
       "      <th>Linreg RMSE</th>\n",
       "      <th>Linreg R2</th>\n",
       "      <th>Linreg RMSE kerekített</th>\n",
       "      <th>Linreg Acc kerekített</th>\n",
       "    </tr>\n",
       "  </thead>\n",
       "  <tbody>\n",
       "    <tr>\n",
       "      <th>0</th>\n",
       "      <td>1</td>\n",
       "      <td>0.7222</td>\n",
       "      <td>0.7500</td>\n",
       "      <td>0.8333</td>\n",
       "      <td>0.7500</td>\n",
       "      <td>0.3848</td>\n",
       "      <td>0.3045</td>\n",
       "      <td>0.5270</td>\n",
       "      <td>0.7222</td>\n",
       "    </tr>\n",
       "    <tr>\n",
       "      <th>1</th>\n",
       "      <td>2</td>\n",
       "      <td>0.7500</td>\n",
       "      <td>0.7500</td>\n",
       "      <td>0.7500</td>\n",
       "      <td>0.7222</td>\n",
       "      <td>0.3994</td>\n",
       "      <td>0.2898</td>\n",
       "      <td>0.5270</td>\n",
       "      <td>0.7222</td>\n",
       "    </tr>\n",
       "    <tr>\n",
       "      <th>2</th>\n",
       "      <td>3</td>\n",
       "      <td>0.7500</td>\n",
       "      <td>0.6944</td>\n",
       "      <td>0.7500</td>\n",
       "      <td>0.7778</td>\n",
       "      <td>0.3977</td>\n",
       "      <td>0.3508</td>\n",
       "      <td>0.5270</td>\n",
       "      <td>0.7222</td>\n",
       "    </tr>\n",
       "    <tr>\n",
       "      <th>3</th>\n",
       "      <td>4</td>\n",
       "      <td>0.6944</td>\n",
       "      <td>0.6944</td>\n",
       "      <td>0.7500</td>\n",
       "      <td>0.7500</td>\n",
       "      <td>0.3995</td>\n",
       "      <td>0.3466</td>\n",
       "      <td>0.5774</td>\n",
       "      <td>0.6667</td>\n",
       "    </tr>\n",
       "    <tr>\n",
       "      <th>4</th>\n",
       "      <td>5</td>\n",
       "      <td>0.7500</td>\n",
       "      <td>0.6944</td>\n",
       "      <td>0.7500</td>\n",
       "      <td>0.7500</td>\n",
       "      <td>0.3991</td>\n",
       "      <td>0.3465</td>\n",
       "      <td>0.5774</td>\n",
       "      <td>0.6667</td>\n",
       "    </tr>\n",
       "    <tr>\n",
       "      <th>5</th>\n",
       "      <td>6</td>\n",
       "      <td>0.7222</td>\n",
       "      <td>0.7500</td>\n",
       "      <td>0.7500</td>\n",
       "      <td>0.7222</td>\n",
       "      <td>0.3943</td>\n",
       "      <td>0.3377</td>\n",
       "      <td>0.5270</td>\n",
       "      <td>0.7222</td>\n",
       "    </tr>\n",
       "    <tr>\n",
       "      <th>6</th>\n",
       "      <td>7</td>\n",
       "      <td>0.7500</td>\n",
       "      <td>0.7778</td>\n",
       "      <td>0.6667</td>\n",
       "      <td>0.7500</td>\n",
       "      <td>0.4001</td>\n",
       "      <td>0.3169</td>\n",
       "      <td>0.4410</td>\n",
       "      <td>0.8056</td>\n",
       "    </tr>\n",
       "    <tr>\n",
       "      <th>7</th>\n",
       "      <td>8</td>\n",
       "      <td>0.7500</td>\n",
       "      <td>0.8056</td>\n",
       "      <td>0.6667</td>\n",
       "      <td>0.7778</td>\n",
       "      <td>0.4026</td>\n",
       "      <td>0.3723</td>\n",
       "      <td>0.4714</td>\n",
       "      <td>0.7778</td>\n",
       "    </tr>\n",
       "  </tbody>\n",
       "</table>\n",
       "</div>"
      ],
      "text/plain": [
       "  Főkomponensek száma  Gradient Boosting Acc.  Naive Bayes Acc.  Logreg Acc.  \\\n",
       "0                   1                  0.7222            0.7500       0.8333   \n",
       "1                   2                  0.7500            0.7500       0.7500   \n",
       "2                   3                  0.7500            0.6944       0.7500   \n",
       "3                   4                  0.6944            0.6944       0.7500   \n",
       "4                   5                  0.7500            0.6944       0.7500   \n",
       "5                   6                  0.7222            0.7500       0.7500   \n",
       "6                   7                  0.7500            0.7778       0.6667   \n",
       "7                   8                  0.7500            0.8056       0.6667   \n",
       "\n",
       "   SVM Acc.  Linreg RMSE  Linreg R2  Linreg RMSE kerekített  \\\n",
       "0    0.7500       0.3848     0.3045                  0.5270   \n",
       "1    0.7222       0.3994     0.2898                  0.5270   \n",
       "2    0.7778       0.3977     0.3508                  0.5270   \n",
       "3    0.7500       0.3995     0.3466                  0.5774   \n",
       "4    0.7500       0.3991     0.3465                  0.5774   \n",
       "5    0.7222       0.3943     0.3377                  0.5270   \n",
       "6    0.7500       0.4001     0.3169                  0.4410   \n",
       "7    0.7778       0.4026     0.3723                  0.4714   \n",
       "\n",
       "   Linreg Acc kerekített  \n",
       "0                 0.7222  \n",
       "1                 0.7222  \n",
       "2                 0.7222  \n",
       "3                 0.6667  \n",
       "4                 0.6667  \n",
       "5                 0.7222  \n",
       "6                 0.8056  \n",
       "7                 0.7778  "
      ]
     },
     "execution_count": 70,
     "metadata": {},
     "output_type": "execute_result"
    }
   ],
   "source": [
    "PCA_scores"
   ]
  },
  {
   "cell_type": "markdown",
   "id": "343fe847",
   "metadata": {},
   "source": [
    "# Biomérnökök"
   ]
  },
  {
   "cell_type": "code",
   "execution_count": 71,
   "id": "418f4713",
   "metadata": {},
   "outputs": [
    {
     "name": "stderr",
     "output_type": "stream",
     "text": [
      "D:\\anaconda3\\envs\\otthoni\\lib\\site-packages\\sklearn\\preprocessing\\_data.py:2590: UserWarning: n_quantiles (1000) is greater than the total number of samples (56). n_quantiles is set to n_samples.\n",
      "  warnings.warn(\n"
     ]
    }
   ],
   "source": [
    "from imblearn.over_sampling import SMOTE\n",
    "\n",
    "biom = working_data.query(\"Szak == 'Biomérnöki'\")\n",
    "\n",
    "stratified_kfold = StratifiedKFold(n_splits=5,\n",
    "                                       shuffle=True,\n",
    "                                       random_state=11)\n",
    "\n",
    "features = biom.drop(labels = [\"Matematika A1a - Analízis\", \"Matematika A2c\", \"Szak\",\"Kognitív pont\", \"Matek helyes\", \"Összes pont\", \"Össz eredmény (átlag)\"], axis = 1)\n",
    "label = biom[\"Matematika A1a - Analízis\"]\n",
    "\n",
    "\n",
    "\n",
    "X_train, X_test, y_train, y_test = train_test_split(features, label, test_size=0.3, random_state=0, stratify=label)\n",
    "\n",
    "\n",
    "#skálázás\n",
    "\n",
    "from sklearn import preprocessing\n",
    "quantile_transformer = preprocessing.QuantileTransformer(random_state=0)\n",
    "X_train = quantile_transformer.fit_transform(X_train)\n",
    "X_test = quantile_transformer.transform(X_test)\n"
   ]
  },
  {
   "cell_type": "markdown",
   "id": "bd989aff",
   "metadata": {},
   "source": [
    "## Osztályozó algoritmusok\n",
    "\n",
    "**KNN**"
   ]
  },
  {
   "cell_type": "code",
   "execution_count": 72,
   "id": "2e178a90",
   "metadata": {},
   "outputs": [
    {
     "name": "stdout",
     "output_type": "stream",
     "text": [
      "Mahalanobis kNN:\n",
      "{'cv_score': 0.6621212121212121, 'test_score': 0.6}\n",
      "Params:\n",
      "{'classifier__n_neighbors': 13, 'classifier__weights': 'uniform'}\n"
     ]
    },
    {
     "name": "stderr",
     "output_type": "stream",
     "text": [
      "D:\\anaconda3\\envs\\otthoni\\lib\\site-packages\\sklearn\\model_selection\\_search.py:969: UserWarning: One or more of the test scores are non-finite: [0.51818182 0.51818182 0.51818182 0.48484848 0.51818182 0.51818182\n",
      " 0.57272727 0.57272727 0.51969697 0.53787879 0.55606061 0.55606061\n",
      " 0.55       0.55       0.53333333 0.56818182 0.56969697 0.56969697\n",
      " 0.56969697 0.56969697 0.58787879 0.5        0.5530303  0.53484848\n",
      " 0.53484848 0.53484848 0.57121212 0.48484848 0.53484848 0.53484848\n",
      " 0.58939394 0.58939394 0.58939394 0.60757576 0.58787879 0.58787879\n",
      " 0.66212121 0.62575758 0.62575758 0.64090909 0.62424242 0.60606061\n",
      " 0.60909091 0.59090909 0.62424242 0.58939394 0.60909091 0.58939394\n",
      " 0.60757576 0.58939394 0.62575758 0.53484848 0.58939394 0.57121212\n",
      " 0.64242424 0.64242424 0.62424242 0.60606061 0.62424242 0.58787879\n",
      " 0.60606061 0.58787879 0.66060606        nan        nan        nan\n",
      "        nan        nan        nan        nan        nan        nan\n",
      "        nan        nan        nan        nan        nan        nan\n",
      "        nan        nan        nan        nan        nan        nan\n",
      "        nan        nan        nan]\n",
      "  warnings.warn(\n"
     ]
    }
   ],
   "source": [
    "#KNN-re keresztvalidációval mahalanobis-szal\n",
    "from sklearn.neighbors import KNeighborsClassifier\n",
    "from sklearn.model_selection import cross_val_score\n",
    "\n",
    "\n",
    "#distance függvény\n",
    "def squared(array):\n",
    "    return 1/array**2\n",
    "\n",
    "\n",
    "\n",
    "pipeline = imbpipeline(steps = [['classifier', KNeighborsClassifier(metric=\"mahalanobis\", metric_params={'V': np.cov(m=X_train.astype(float), rowvar=False)})]])\n",
    "param_grid = {'classifier__n_neighbors':[i for i in range(1,30)], 'classifier__weights':['uniform', 'distance', squared]}\n",
    "\n",
    "knn_mahal_grid_search = GridSearchCV(estimator=pipeline,\n",
    "                               param_grid=param_grid,\n",
    "                               scoring='accuracy',\n",
    "                               cv=stratified_kfold,\n",
    "                               n_jobs=-1)\n",
    "\n",
    "\n",
    "knn_mahal_grid_search.fit(X_train, y_train)\n",
    "cv_score = knn_mahal_grid_search.best_score_\n",
    "knn_mahal = knn_mahal_grid_search.score(X_test, y_test)\n",
    "print(\"Mahalanobis kNN:\")\n",
    "print({'cv_score':cv_score, 'test_score':knn_mahal})\n",
    "print(\"Params:\")\n",
    "print(knn_mahal_grid_search.best_params_)\n"
   ]
  },
  {
   "cell_type": "code",
   "execution_count": 73,
   "id": "2a088219",
   "metadata": {
    "scrolled": true
   },
   "outputs": [
    {
     "name": "stdout",
     "output_type": "stream",
     "text": [
      "Euclidian kNN:\n",
      "{'cv_score': 0.6424242424242423, 'test_score': 0.6}\n",
      "Params:\n",
      "{'classifier__n_neighbors': 10, 'classifier__weights': 'uniform'}\n"
     ]
    }
   ],
   "source": [
    "#KNN-re keresztvalidációval euklidészi távolsággal\n",
    "\n",
    "pipeline = Pipeline(steps = [['classifier', KNeighborsClassifier(metric=\"euclidean\")]])\n",
    "param_grid = {'classifier__n_neighbors':[i for i in range(1,30)], 'classifier__weights':['uniform', 'distance', squared]}\n",
    "\n",
    "knn_eu_grid_search = GridSearchCV(estimator=pipeline,\n",
    "                               param_grid=param_grid,\n",
    "                               scoring='accuracy',\n",
    "                               cv=stratified_kfold,\n",
    "                               n_jobs=-1)\n",
    "\n",
    "\n",
    "knn_eu_grid_search.fit(X_train, y_train)\n",
    "cv_score = knn_eu_grid_search.best_score_\n",
    "knn_eu = knn_eu_grid_search.score(X_test, y_test)\n",
    "print(\"Euclidian kNN:\")\n",
    "print({'cv_score':cv_score, 'test_score':knn_eu})\n",
    "print(\"Params:\")\n",
    "print(knn_eu_grid_search.best_params_)\n",
    "\n",
    "\n"
   ]
  },
  {
   "cell_type": "code",
   "execution_count": 74,
   "id": "d92832f7",
   "metadata": {},
   "outputs": [
    {
     "name": "stdout",
     "output_type": "stream",
     "text": [
      "kNN with Mahalanobis:\n",
      "- Optmial parameters: {'classifier__n_neighbors': 13, 'classifier__weights': 'uniform'} \n",
      "- Accuracy: 0.6\n",
      "kNN with Euclidean:\n",
      "- Optimal parameters: {'classifier__n_neighbors': 10, 'classifier__weights': 'uniform'} \n",
      "- Accuracy: 0.6\n"
     ]
    }
   ],
   "source": [
    "#összesítve kNN\n",
    "print(f'kNN with Mahalanobis:')\n",
    "print(f'- Optmial parameters: {knn_mahal_grid_search.best_params_} \\n- Accuracy: {knn_mahal}')\n",
    "print(f'kNN with Euclidean:')\n",
    "print(f'- Optimal parameters: {knn_eu_grid_search.best_params_} \\n- Accuracy: {knn_eu}')"
   ]
  },
  {
   "cell_type": "markdown",
   "id": "d255abe8",
   "metadata": {},
   "source": [
    "**SVM**"
   ]
  },
  {
   "cell_type": "code",
   "execution_count": 75,
   "id": "8d9d04a4",
   "metadata": {},
   "outputs": [
    {
     "name": "stdout",
     "output_type": "stream",
     "text": [
      "SVM:\n",
      "{'cv_score': 0.6787878787878787, 'test_score': 0.68}\n",
      "Params:\n",
      "{'classifier__C': 3.4000000000000004, 'classifier__kernel': 'rbf'}\n",
      "\n",
      "Accuracy: 0.68\n",
      "Precision: 0.68\n",
      "Recall: 0.68\n"
     ]
    }
   ],
   "source": [
    "#tesztelés megfelelő C-hez SVM-nél\n",
    "from sklearn.svm import SVC\n",
    "from sklearn.multiclass import OneVsRestClassifier\n",
    "\n",
    "pipeline = Pipeline(steps = [['classifier', SVC(class_weight = \"balanced\", random_state=0, decision_function_shape = 'ovr')]])\n",
    "param_grid = {'classifier__C':[i*0.1 for i in range(1,50)], 'classifier__kernel':['linear','poly','rbf']}\n",
    "\n",
    "SVM_grid_search = GridSearchCV(estimator=pipeline,\n",
    "                               param_grid=param_grid,\n",
    "                               scoring='accuracy',\n",
    "                               cv=stratified_kfold,\n",
    "                               n_jobs=-1)\n",
    "\n",
    "\n",
    "SVM_grid_search.fit(X_train, y_train)\n",
    "cv_score = SVM_grid_search.best_score_\n",
    "SVM_acc = SVM_grid_search.score(X_test, y_test)\n",
    "y_pred = SVM_grid_search.predict(X_test)\n",
    "print(\"SVM:\")\n",
    "print({'cv_score':cv_score, 'test_score':SVM_acc})\n",
    "print(\"Params:\")\n",
    "print(SVM_grid_search.best_params_)\n",
    "\n",
    "print(\"\")\n",
    "print(f'Accuracy: {round(sklearn.metrics.accuracy_score(y_test, y_pred),2)}')\n",
    "print(f'Precision: {round(sklearn.metrics.precision_score(y_test, y_pred, average = \"weighted\"),2)}')\n",
    "print(f'Recall: {round(sklearn.metrics.recall_score(y_test, y_pred, average = \"weighted\"),2)}')\n",
    "\n"
   ]
  },
  {
   "cell_type": "markdown",
   "id": "686d19e7",
   "metadata": {},
   "source": [
    "**Logisztikus Regresszió**"
   ]
  },
  {
   "cell_type": "code",
   "execution_count": 76,
   "id": "4d43b015",
   "metadata": {},
   "outputs": [
    {
     "name": "stdout",
     "output_type": "stream",
     "text": [
      "Logistic Regression:\n",
      "{'cv_score': 0.6424242424242423, 'test_score': 0.6}\n",
      "Params:\n",
      "{'classifier__C': 0.05, 'classifier__solver': 'sag'}\n",
      "\n",
      "Accuracy: 0.6\n",
      "Precision: 0.59\n",
      "Recall: 0.6\n"
     ]
    }
   ],
   "source": [
    "#logisztikus regresszióra\n",
    "from sklearn.linear_model import LogisticRegression\n",
    "\n",
    "pipeline = Pipeline(steps = [['classifier', LogisticRegression(class_weight = \"balanced\", random_state=0, max_iter = 5000, multi_class = 'ovr')]])\n",
    "param_grid = {'classifier__C':[i*0.05 for i in range(1,100)], 'classifier__solver':['sag','saga']}\n",
    "\n",
    "log_grid_search = GridSearchCV(estimator=pipeline,\n",
    "                               param_grid=param_grid,\n",
    "                               scoring='accuracy',\n",
    "                               cv=stratified_kfold,\n",
    "                               n_jobs=-1)\n",
    "\n",
    "\n",
    "log_grid_search.fit(X_train, y_train)\n",
    "cv_score = log_grid_search.best_score_\n",
    "log_acc = log_grid_search.score(X_test, y_test)\n",
    "y_pred = log_grid_search.predict(X_test)\n",
    "print(\"Logistic Regression:\")\n",
    "print({'cv_score':cv_score, 'test_score':log_acc})\n",
    "print(\"Params:\")\n",
    "print(log_grid_search.best_params_)\n",
    "\n",
    "print(\"\")\n",
    "print(f'Accuracy: {round(sklearn.metrics.accuracy_score(y_test, y_pred),2)}')\n",
    "print(f'Precision: {round(sklearn.metrics.precision_score(y_test, y_pred, average = \"weighted\"),2)}')\n",
    "print(f'Recall: {round(sklearn.metrics.recall_score(y_test, y_pred, average = \"weighted\"),2)}')\n"
   ]
  },
  {
   "cell_type": "markdown",
   "id": "f1c41822",
   "metadata": {},
   "source": [
    "**Naive Bayes**"
   ]
  },
  {
   "cell_type": "code",
   "execution_count": 77,
   "id": "4ca7665d",
   "metadata": {},
   "outputs": [
    {
     "name": "stdout",
     "output_type": "stream",
     "text": [
      "Accuracy: 0.52\n"
     ]
    }
   ],
   "source": [
    "#Naive bayes-szel\n",
    "from sklearn.naive_bayes import GaussianNB\n",
    "\n",
    "clf = GaussianNB()\n",
    "clf.fit(X_train, y_train)\n",
    "y_pred = clf.predict(X_test)\n",
    "bayes_acc = round(sklearn.metrics.accuracy_score(y_test, y_pred),2)\n",
    "\n",
    "print(f'Accuracy: {round(sklearn.metrics.accuracy_score(y_test, y_pred),2)}')"
   ]
  },
  {
   "cell_type": "code",
   "execution_count": 78,
   "id": "49eb411d",
   "metadata": {},
   "outputs": [
    {
     "name": "stdout",
     "output_type": "stream",
     "text": [
      "Accuracy with different algorithms:\n",
      "- SVM: 0.68 \n",
      "- Logistic Regression: 0.6 \n",
      "- Naive Bayes: 0.52\n"
     ]
    }
   ],
   "source": [
    "#az előző 3 kiértékelése\n",
    "print(\"Accuracy with different algorithms:\")\n",
    "print(f'- SVM: {SVM_acc} \\n- Logistic Regression: {log_acc} \\n- Naive Bayes: {bayes_acc}')"
   ]
  },
  {
   "cell_type": "markdown",
   "id": "977f94b6",
   "metadata": {},
   "source": [
    "**Gradient Boosting**"
   ]
  },
  {
   "cell_type": "code",
   "execution_count": 79,
   "id": "4884cc6a",
   "metadata": {},
   "outputs": [
    {
     "name": "stdout",
     "output_type": "stream",
     "text": [
      "Gradient Boosting:\n",
      "{'cv_score': 0.6424242424242423, 'test_score': 0.56}\n",
      "Params:\n",
      "{'classifier__criterion': 'squared_error', 'classifier__learning_rate': 0.14, 'classifier__max_depth': 3, 'classifier__n_estimators': 10}\n",
      "\n",
      "Accuracy: 0.56\n",
      "Precision: 0.52\n",
      "Recall: 0.56\n"
     ]
    }
   ],
   "source": [
    "from sklearn.ensemble import GradientBoostingClassifier\n",
    "\n",
    "pipeline = Pipeline(steps = [['classifier', GradientBoostingClassifier(random_state=0)]])\n",
    "param_grid = {'classifier__learning_rate':[0.01*i for i in range(1,50)],\n",
    "              'classifier__n_estimators':[5*i for i in range(1,10)], 'classifier__criterion':['squared_error','friedman_mse'],\n",
    "              'classifier__max_depth':[3,4,5]}\n",
    "\n",
    "grad_grid_search = GridSearchCV(estimator=pipeline,\n",
    "                               param_grid=param_grid,\n",
    "                               scoring='accuracy',\n",
    "                               cv=stratified_kfold,\n",
    "                               n_jobs=-1)\n",
    "\n",
    "\n",
    "grad_grid_search.fit(X_train, y_train)\n",
    "cv_score = grad_grid_search.best_score_\n",
    "grad_acc = grad_grid_search.score(X_test, y_test)\n",
    "y_pred = grad_grid_search.predict(X_test)\n",
    "print(\"Gradient Boosting:\")\n",
    "print({'cv_score':cv_score, 'test_score':grad_acc})\n",
    "print(\"Params:\")\n",
    "print(grad_grid_search.best_params_)\n",
    "\n",
    "print(\"\")\n",
    "print(f'Accuracy: {round(sklearn.metrics.accuracy_score(y_test, y_pred),2)}')\n",
    "print(f'Precision: {round(sklearn.metrics.precision_score(y_test, y_pred, average = \"weighted\"),2)}')\n",
    "print(f'Recall: {round(sklearn.metrics.recall_score(y_test, y_pred, average = \"weighted\"),2)}')"
   ]
  },
  {
   "cell_type": "markdown",
   "id": "209d8379",
   "metadata": {},
   "source": [
    "**Lineáris regresszió**"
   ]
  },
  {
   "cell_type": "code",
   "execution_count": 80,
   "id": "193ac22a",
   "metadata": {},
   "outputs": [
    {
     "data": {
      "text/plain": [
       "0.21018555430680397"
      ]
     },
     "execution_count": 80,
     "metadata": {},
     "output_type": "execute_result"
    }
   ],
   "source": [
    "#ezek után nem oneVSall: lineáris regresszió\n",
    "from sklearn.linear_model import LinearRegression\n",
    "\n",
    "reg_alap = LinearRegression().fit(features,label)\n",
    "reg_alap.score(features, label)         "
   ]
  },
  {
   "cell_type": "code",
   "execution_count": 81,
   "id": "147c3cae",
   "metadata": {},
   "outputs": [
    {
     "name": "stdout",
     "output_type": "stream",
     "text": [
      "Coefficients: [-0.23555614  0.41526176 -0.06430847 -0.56139049 -0.55147037  1.14657908\n",
      " -0.14086401  0.03261439 -0.07584417  0.37934678 -0.2113956 ]\n",
      "RMSE: 0.54\n"
     ]
    }
   ],
   "source": [
    "#most nézzük a tanítóhalmazon és a teszthalmazon\n",
    "\n",
    "reg = LinearRegression().fit(X_train,y_train)\n",
    "reg_pred = reg.predict(X_test)\n",
    "\n",
    "#együtthatók\n",
    "print(\"Coefficients:\", reg.coef_)\n",
    "#RMSE\n",
    "\n",
    "rmse = round(np.power(np.sum(np.power(y_test - reg_pred, 2))/reg_pred.shape[0],0.5),2)\n",
    "print(\"RMSE:\", rmse)"
   ]
  },
  {
   "cell_type": "code",
   "execution_count": 82,
   "id": "f96434bc",
   "metadata": {},
   "outputs": [
    {
     "data": {
      "text/plain": [
       "<function matplotlib.pyplot.show(close=None, block=None)>"
      ]
     },
     "execution_count": 82,
     "metadata": {},
     "output_type": "execute_result"
    },
    {
     "data": {
      "image/png": "[encoded data removed]",
      "text/plain": [
       "<Figure size 432x288 with 1 Axes>"
      ]
     },
     "metadata": {
      "needs_background": "light"
     },
     "output_type": "display_data"
    }
   ],
   "source": [
    "#Nézzük meg a reziduális tagokat\n",
    "\n",
    "import matplotlib.pyplot as plt\n",
    "\n",
    "plt.scatter(reg_pred, y_test-reg_pred)\n",
    "plt.plot(reg_pred, [0 for i in range(reg_pred.shape[0])], c=\"red\") #0-vonal\n",
    "plt.title(\"Reziduális tagok\")\n",
    "plt.axis\n",
    "plt.show"
   ]
  },
  {
   "cell_type": "code",
   "execution_count": 83,
   "id": "c9c807f1",
   "metadata": {},
   "outputs": [
    {
     "data": {
      "text/plain": [
       "0.31"
      ]
     },
     "execution_count": 83,
     "metadata": {},
     "output_type": "execute_result"
    }
   ],
   "source": [
    "#R^2 és SSR\n",
    "SST = np.sum(np.power(y_test-np.mean(y_test),2))\n",
    "SSR = np.sum(np.power(reg_pred-np.mean(y_test),2))\n",
    "R2 = round(SSR/SST,2)\n",
    "R2"
   ]
  },
  {
   "cell_type": "code",
   "execution_count": 84,
   "id": "5fb58ee0",
   "metadata": {},
   "outputs": [
    {
     "name": "stdout",
     "output_type": "stream",
     "text": [
      "RMSE: 0.57\n",
      "0.68\n"
     ]
    }
   ],
   "source": [
    "#másik: kerekítsük a becsült értékeket\n",
    "\n",
    "for i in range(reg_pred.shape[0]):\n",
    "    reg_pred[i] = round(reg_pred[i],0)\n",
    "\n",
    "rmse_rounded = round(np.power(np.sum(np.power(y_test - reg_pred, 2))/reg_pred.shape[0],0.5),2)\n",
    "print(\"RMSE:\", rmse_rounded)\n",
    "lin_acc = round(sklearn.metrics.accuracy_score(y_test, reg_pred),2)\n",
    "print(round(sklearn.metrics.accuracy_score(y_test, reg_pred),2))"
   ]
  },
  {
   "cell_type": "code",
   "execution_count": 85,
   "id": "03a15471",
   "metadata": {},
   "outputs": [
    {
     "name": "stdout",
     "output_type": "stream",
     "text": [
      "Linear regression:\n",
      "- RMSE: 0.54 \n",
      "- R2: 0.31 \n",
      "- RMSE after rounding: 0.57 \n",
      "- Accuracy after rounding: 0.68\n"
     ]
    }
   ],
   "source": [
    "#lineáris regresszió összesen:\n",
    "print(\"Linear regression:\")\n",
    "print(f'- RMSE: {rmse} \\n- R2: {R2} \\n- RMSE after rounding: {rmse_rounded} \\n- Accuracy after rounding: {lin_acc}')"
   ]
  },
  {
   "cell_type": "markdown",
   "id": "d9d47f15",
   "metadata": {},
   "source": [
    "### Eredmények összesítve"
   ]
  },
  {
   "cell_type": "code",
   "execution_count": 86,
   "id": "db2bbcf1",
   "metadata": {},
   "outputs": [
    {
     "name": "stdout",
     "output_type": "stream",
     "text": [
      "kNN with Mahalanobis:\n",
      "- Optmial number of neighbours: {'classifier__n_neighbors': 13, 'classifier__weights': 'uniform'} \n",
      "- Accuracy: 0.6\n",
      "kNN with Euclidean:\n",
      "- Optimal number of neighbours: {'classifier__n_neighbors': 10, 'classifier__weights': 'uniform'} \n",
      "- Accuracy: 0.6\n",
      "SVM:\n",
      "- Accuracy: 0.68\n",
      "Logistic Regression:\n",
      "- Accuracy: 0.6\n",
      "Naive Bayes:\n",
      "- Accuracy: 0.52\n",
      "Linear regression:\n",
      "- RMSE: 0.54 \n",
      "- R2: 0.31 \n",
      "- RMSE after rounding: 0.57 \n",
      "- Accuracy after rounding: 0.68\n"
     ]
    }
   ],
   "source": [
    "#összes teljes mindenes\n",
    "#összesítve kNN\n",
    "print(f'kNN with Mahalanobis:')\n",
    "print(f'- Optmial number of neighbours: {knn_mahal_grid_search.best_params_} \\n- Accuracy: {knn_mahal}')\n",
    "print(f'kNN with Euclidean:')\n",
    "print(f'- Optimal number of neighbours: {knn_eu_grid_search.best_params_} \\n- Accuracy: {knn_eu}')\n",
    "print(\"SVM:\")\n",
    "print(f'- Accuracy: {SVM_acc}')\n",
    "print(\"Logistic Regression:\")\n",
    "print(f'- Accuracy: {log_acc}')\n",
    "print(\"Naive Bayes:\")\n",
    "print(f'- Accuracy: {bayes_acc}')\n",
    "print(\"Linear regression:\")\n",
    "print(f'- RMSE: {rmse} \\n- R2: {R2} \\n- RMSE after rounding: {rmse_rounded} \\n- Accuracy after rounding: {lin_acc}')"
   ]
  },
  {
   "cell_type": "markdown",
   "id": "33f97f1d",
   "metadata": {},
   "source": [
    "# PCA"
   ]
  },
  {
   "cell_type": "code",
   "execution_count": 87,
   "id": "411ed55d",
   "metadata": {},
   "outputs": [
    {
     "data": {
      "text/plain": [
       "[0.28, 0.44, 0.52, 0.52, 0.64, 0.56, 0.44, 0.44, 0.4]"
      ]
     },
     "execution_count": 87,
     "metadata": {},
     "output_type": "execute_result"
    }
   ],
   "source": [
    "#főkomponens analízissel\n",
    "#nézzük, mennyi főkomponenssel lesz a legjobb. (pl a logisztikus regresszió)\n",
    "from sklearn.decomposition import PCA\n",
    "\n",
    "scores = []\n",
    "\n",
    "for i in range(2,11):\n",
    "    projected = PCA(i).fit_transform(features)\n",
    "    X_train, X_test, y_train, y_test = train_test_split(projected, label, test_size=0.3, random_state=0)\n",
    "    neigh = KNeighborsClassifier(n_neighbors=i, metric=\"mahalanobis\", metric_params={'V': np.cov(m=X_train.astype(float), rowvar=False)})\n",
    "    neigh = neigh.fit(X_train,y_train)\n",
    "    y_pred = neigh.predict(X_test)\n",
    "    scores.append(round(sklearn.metrics.accuracy_score(y_test, y_pred),2))\n",
    "    \n",
    "scores"
   ]
  },
  {
   "cell_type": "code",
   "execution_count": 88,
   "id": "a153e07f",
   "metadata": {},
   "outputs": [
    {
     "name": "stdout",
     "output_type": "stream",
     "text": [
      "Accuracy: 0.56\n",
      "Precision: 0.58\n",
      "Recall: 0.58\n"
     ]
    }
   ],
   "source": [
    "#főkomponenses logreg\n",
    "from sklearn.decomposition import PCA\n",
    "projected = PCA(4).fit_transform(features)\n",
    "X_train, X_test, y_train, y_test = train_test_split(projected, label, test_size=0.3, random_state=0)\n",
    "\n",
    "logreg = OneVsRestClassifier(LogisticRegression(class_weight = \"balanced\", random_state=0, max_iter = 10000)).fit(X_train, y_train)\n",
    "y_pred = logreg.predict(X_test)\n",
    "\n",
    "print(f'Accuracy: {round(sklearn.metrics.accuracy_score(y_test, y_pred),2)}')\n",
    "print(f'Precision: {round(sklearn.metrics.precision_score(y_test, y_pred, average = \"macro\"),2)}')\n",
    "print(f'Recall: {round(sklearn.metrics.recall_score(y_test, y_pred, average = \"macro\"),2)}')"
   ]
  },
  {
   "cell_type": "code",
   "execution_count": 89,
   "id": "aa252b0a",
   "metadata": {},
   "outputs": [
    {
     "name": "stderr",
     "output_type": "stream",
     "text": [
      "D:\\anaconda3\\envs\\otthoni\\lib\\site-packages\\sklearn\\preprocessing\\_data.py:2590: UserWarning: n_quantiles (1000) is greater than the total number of samples (56). n_quantiles is set to n_samples.\n",
      "  warnings.warn(\n",
      "D:\\anaconda3\\envs\\otthoni\\lib\\site-packages\\sklearn\\preprocessing\\_data.py:2590: UserWarning: n_quantiles (1000) is greater than the total number of samples (56). n_quantiles is set to n_samples.\n",
      "  warnings.warn(\n",
      "D:\\anaconda3\\envs\\otthoni\\lib\\site-packages\\sklearn\\preprocessing\\_data.py:2590: UserWarning: n_quantiles (1000) is greater than the total number of samples (56). n_quantiles is set to n_samples.\n",
      "  warnings.warn(\n",
      "D:\\anaconda3\\envs\\otthoni\\lib\\site-packages\\sklearn\\preprocessing\\_data.py:2590: UserWarning: n_quantiles (1000) is greater than the total number of samples (56). n_quantiles is set to n_samples.\n",
      "  warnings.warn(\n",
      "D:\\anaconda3\\envs\\otthoni\\lib\\site-packages\\sklearn\\preprocessing\\_data.py:2590: UserWarning: n_quantiles (1000) is greater than the total number of samples (56). n_quantiles is set to n_samples.\n",
      "  warnings.warn(\n",
      "D:\\anaconda3\\envs\\otthoni\\lib\\site-packages\\sklearn\\preprocessing\\_data.py:2590: UserWarning: n_quantiles (1000) is greater than the total number of samples (56). n_quantiles is set to n_samples.\n",
      "  warnings.warn(\n",
      "D:\\anaconda3\\envs\\otthoni\\lib\\site-packages\\sklearn\\preprocessing\\_data.py:2590: UserWarning: n_quantiles (1000) is greater than the total number of samples (56). n_quantiles is set to n_samples.\n",
      "  warnings.warn(\n",
      "D:\\anaconda3\\envs\\otthoni\\lib\\site-packages\\sklearn\\preprocessing\\_data.py:2590: UserWarning: n_quantiles (1000) is greater than the total number of samples (56). n_quantiles is set to n_samples.\n",
      "  warnings.warn(\n"
     ]
    }
   ],
   "source": [
    "#nézzük meg, hogy főkompononensenként hogy változnak a különböző algoritmusok eredménymutatói, és rakjuk dataframe-be!\n",
    "PCA_scores = pd.DataFrame({\"Főkomponensek száma\":[], \"Gradient Boosting Acc.\":[], \"Naive Bayes Acc.\":[], \"Logreg Acc.\":[], \"SVM Acc.\":[], \"Linreg RMSE\":[], \"Linreg R2\":[], \n",
    "                           \"Linreg RMSE kerekített\":[], \"Linreg Acc kerekített\":[]})\n",
    "\n",
    "\n",
    "for i in range(1,9):\n",
    "    projected = PCA(i).fit_transform(features)\n",
    "    X_train, X_test, y_train, y_test = train_test_split(projected, label, test_size=0.3, random_state=0)\n",
    "    \n",
    "    from sklearn import preprocessing\n",
    "    quantile_transformer = preprocessing.QuantileTransformer(random_state=0)\n",
    "    X_train = quantile_transformer.fit_transform(X_train)\n",
    "    X_test = quantile_transformer.transform(X_test)\n",
    "    \n",
    "    ### OPTIMALIZÁLÁS\n",
    "    \n",
    "    # Logreg\n",
    "    \n",
    "    pipeline = Pipeline(steps = [['classifier', LogisticRegression(class_weight = \"balanced\", random_state=0, max_iter = 5000, multi_class = 'ovr')]])\n",
    "    param_grid = {'classifier__C':[i*0.05 for i in range(1,100)], 'classifier__solver':['sag','saga']}\n",
    "\n",
    "    log_grid_search = GridSearchCV(estimator=pipeline,\n",
    "                                   param_grid=param_grid,\n",
    "                                   scoring='accuracy',\n",
    "                                   cv=stratified_kfold,\n",
    "                                   n_jobs=-1)\n",
    "\n",
    "\n",
    "    log_grid_search.fit(X_train, y_train)\n",
    "    cv_score = log_grid_search.best_score_\n",
    "    log_acc = round(log_grid_search.score(X_test, y_test),4)\n",
    "    \n",
    "    # Naive Bayes \n",
    "    \n",
    "    clf = GaussianNB()\n",
    "    clf.fit(X_train, y_train)\n",
    "    y_pred = clf.predict(X_test)\n",
    "    bayes_acc = round(sklearn.metrics.accuracy_score(y_test, y_pred),4)\n",
    "\n",
    "    # SVM\n",
    "    \n",
    "    pipeline = Pipeline(steps = [['classifier', SVC(class_weight = \"balanced\", random_state=0, decision_function_shape = 'ovr')]])\n",
    "    param_grid = {'classifier__C':[i*0.1 for i in range(1,50)], 'classifier__kernel':['linear','poly','rbf']}\n",
    "\n",
    "    SVM_grid_search = GridSearchCV(estimator=pipeline,\n",
    "                                   param_grid=param_grid,\n",
    "                                   scoring='accuracy',\n",
    "                                   cv=stratified_kfold,\n",
    "                                   n_jobs=-1)\n",
    "\n",
    "\n",
    "    SVM_grid_search.fit(X_train, y_train)\n",
    "    cv_score = SVM_grid_search.best_score_\n",
    "    SVM_acc = round(SVM_grid_search.score(X_test, y_test),4)\n",
    "    \n",
    "    # GradBoost\n",
    "    \n",
    "    pipeline = Pipeline(steps = [['classifier', GradientBoostingClassifier(random_state=0)]])\n",
    "    param_grid = {'classifier__learning_rate':[0.01*i for i in range(1,50)],\n",
    "                  'classifier__n_estimators':[5*i for i in range(1,10)], 'classifier__criterion':['squared_error','friedman_mse'],\n",
    "                  'classifier__max_depth':[3,4,5]}\n",
    "\n",
    "    grad_grid_search = GridSearchCV(estimator=pipeline,\n",
    "                                   param_grid=param_grid,\n",
    "                                   scoring='accuracy',\n",
    "                                   cv=stratified_kfold,\n",
    "                                   n_jobs=-1)\n",
    "\n",
    "\n",
    "    grad_grid_search.fit(X_train, y_train)\n",
    "    cv_score = grad_grid_search.best_score_\n",
    "    grad_acc = round(grad_grid_search.score(X_test, y_test),4)\n",
    "    \n",
    "    # Linreg\n",
    "\n",
    "    reg = LinearRegression().fit(X_train,y_train)\n",
    "    reg_pred = reg.predict(X_test)\n",
    "    \n",
    "    rmse = round(np.power(np.sum(np.power(y_test - reg_pred, 2))/reg_pred.shape[0],0.5),4)\n",
    "    \n",
    "    SST = np.sum(np.power(y_test-np.mean(y_test),2))\n",
    "    SSR = np.sum(np.power(reg_pred-np.mean(y_test),2))\n",
    "    R2 = round(SSR/SST,4)\n",
    "    R2\n",
    "    \n",
    "    for j in range(reg_pred.shape[0]):\n",
    "        reg_pred[j] = round(reg_pred[j],0)\n",
    "\n",
    "    rmse_rounded = round(np.power(np.sum(np.power(y_test - reg_pred, 2))/reg_pred.shape[0],0.5),4)\n",
    "    lin_acc = round(sklearn.metrics.accuracy_score(y_test, reg_pred),4)\n",
    "    reg_pred_rounded = round(sklearn.metrics.accuracy_score(y_test, reg_pred),4)\n",
    "    \n",
    "    \n",
    "    #új sor a dataframe-be\n",
    "    new_row = {\"Főkomponensek száma\":str(i), \"Gradient Boosting Acc.\":grad_acc, \"Naive Bayes Acc.\":bayes_acc ,\"Logreg Acc.\":log_acc, \"SVM Acc.\":SVM_acc, \"Linreg RMSE\":rmse, \"Linreg R2\":R2, \n",
    "               \"Linreg RMSE kerekített\":rmse_rounded, \"Linreg Acc kerekített\":reg_pred_rounded}\n",
    "    PCA_scores = PCA_scores.append(new_row, ignore_index=True)"
   ]
  },
  {
   "cell_type": "code",
   "execution_count": 90,
   "id": "c345e20f",
   "metadata": {
    "scrolled": false
   },
   "outputs": [
    {
     "data": {
      "text/html": [
       "<div>\n",
       "<style scoped>\n",
       "    .dataframe tbody tr th:only-of-type {\n",
       "        vertical-align: middle;\n",
       "    }\n",
       "\n",
       "    .dataframe tbody tr th {\n",
       "        vertical-align: top;\n",
       "    }\n",
       "\n",
       "    .dataframe thead th {\n",
       "        text-align: right;\n",
       "    }\n",
       "</style>\n",
       "<table border=\"1\" class=\"dataframe\">\n",
       "  <thead>\n",
       "    <tr style=\"text-align: right;\">\n",
       "      <th></th>\n",
       "      <th>Főkomponensek száma</th>\n",
       "      <th>Gradient Boosting Acc.</th>\n",
       "      <th>Naive Bayes Acc.</th>\n",
       "      <th>Logreg Acc.</th>\n",
       "      <th>SVM Acc.</th>\n",
       "      <th>Linreg RMSE</th>\n",
       "      <th>Linreg R2</th>\n",
       "      <th>Linreg RMSE kerekített</th>\n",
       "      <th>Linreg Acc kerekített</th>\n",
       "    </tr>\n",
       "  </thead>\n",
       "  <tbody>\n",
       "    <tr>\n",
       "      <th>0</th>\n",
       "      <td>1</td>\n",
       "      <td>0.56</td>\n",
       "      <td>0.56</td>\n",
       "      <td>0.60</td>\n",
       "      <td>0.56</td>\n",
       "      <td>0.4847</td>\n",
       "      <td>0.1559</td>\n",
       "      <td>0.6633</td>\n",
       "      <td>0.56</td>\n",
       "    </tr>\n",
       "    <tr>\n",
       "      <th>1</th>\n",
       "      <td>2</td>\n",
       "      <td>0.56</td>\n",
       "      <td>0.56</td>\n",
       "      <td>0.52</td>\n",
       "      <td>0.48</td>\n",
       "      <td>0.4892</td>\n",
       "      <td>0.1677</td>\n",
       "      <td>0.6633</td>\n",
       "      <td>0.56</td>\n",
       "    </tr>\n",
       "    <tr>\n",
       "      <th>2</th>\n",
       "      <td>3</td>\n",
       "      <td>0.56</td>\n",
       "      <td>0.56</td>\n",
       "      <td>0.52</td>\n",
       "      <td>0.56</td>\n",
       "      <td>0.4908</td>\n",
       "      <td>0.1945</td>\n",
       "      <td>0.6633</td>\n",
       "      <td>0.56</td>\n",
       "    </tr>\n",
       "    <tr>\n",
       "      <th>3</th>\n",
       "      <td>4</td>\n",
       "      <td>0.56</td>\n",
       "      <td>0.56</td>\n",
       "      <td>0.56</td>\n",
       "      <td>0.56</td>\n",
       "      <td>0.5205</td>\n",
       "      <td>0.3001</td>\n",
       "      <td>0.6325</td>\n",
       "      <td>0.60</td>\n",
       "    </tr>\n",
       "    <tr>\n",
       "      <th>4</th>\n",
       "      <td>5</td>\n",
       "      <td>0.56</td>\n",
       "      <td>0.56</td>\n",
       "      <td>0.56</td>\n",
       "      <td>0.56</td>\n",
       "      <td>0.5118</td>\n",
       "      <td>0.2937</td>\n",
       "      <td>0.6325</td>\n",
       "      <td>0.60</td>\n",
       "    </tr>\n",
       "    <tr>\n",
       "      <th>5</th>\n",
       "      <td>6</td>\n",
       "      <td>0.52</td>\n",
       "      <td>0.52</td>\n",
       "      <td>0.48</td>\n",
       "      <td>0.56</td>\n",
       "      <td>0.5105</td>\n",
       "      <td>0.2324</td>\n",
       "      <td>0.6325</td>\n",
       "      <td>0.60</td>\n",
       "    </tr>\n",
       "    <tr>\n",
       "      <th>6</th>\n",
       "      <td>7</td>\n",
       "      <td>0.56</td>\n",
       "      <td>0.60</td>\n",
       "      <td>0.52</td>\n",
       "      <td>0.52</td>\n",
       "      <td>0.5212</td>\n",
       "      <td>0.2481</td>\n",
       "      <td>0.6633</td>\n",
       "      <td>0.56</td>\n",
       "    </tr>\n",
       "    <tr>\n",
       "      <th>7</th>\n",
       "      <td>8</td>\n",
       "      <td>0.48</td>\n",
       "      <td>0.36</td>\n",
       "      <td>0.44</td>\n",
       "      <td>0.52</td>\n",
       "      <td>0.5916</td>\n",
       "      <td>0.3725</td>\n",
       "      <td>0.7483</td>\n",
       "      <td>0.44</td>\n",
       "    </tr>\n",
       "  </tbody>\n",
       "</table>\n",
       "</div>"
      ],
      "text/plain": [
       "  Főkomponensek száma  Gradient Boosting Acc.  Naive Bayes Acc.  Logreg Acc.  \\\n",
       "0                   1                    0.56              0.56         0.60   \n",
       "1                   2                    0.56              0.56         0.52   \n",
       "2                   3                    0.56              0.56         0.52   \n",
       "3                   4                    0.56              0.56         0.56   \n",
       "4                   5                    0.56              0.56         0.56   \n",
       "5                   6                    0.52              0.52         0.48   \n",
       "6                   7                    0.56              0.60         0.52   \n",
       "7                   8                    0.48              0.36         0.44   \n",
       "\n",
       "   SVM Acc.  Linreg RMSE  Linreg R2  Linreg RMSE kerekített  \\\n",
       "0      0.56       0.4847     0.1559                  0.6633   \n",
       "1      0.48       0.4892     0.1677                  0.6633   \n",
       "2      0.56       0.4908     0.1945                  0.6633   \n",
       "3      0.56       0.5205     0.3001                  0.6325   \n",
       "4      0.56       0.5118     0.2937                  0.6325   \n",
       "5      0.56       0.5105     0.2324                  0.6325   \n",
       "6      0.52       0.5212     0.2481                  0.6633   \n",
       "7      0.52       0.5916     0.3725                  0.7483   \n",
       "\n",
       "   Linreg Acc kerekített  \n",
       "0                   0.56  \n",
       "1                   0.56  \n",
       "2                   0.56  \n",
       "3                   0.60  \n",
       "4                   0.60  \n",
       "5                   0.60  \n",
       "6                   0.56  \n",
       "7                   0.44  "
      ]
     },
     "execution_count": 90,
     "metadata": {},
     "output_type": "execute_result"
    }
   ],
   "source": [
    "PCA_scores"
   ]
  },
  {
   "cell_type": "markdown",
   "id": "4a5658c5",
   "metadata": {},
   "source": [
    "# Legjobb modellek (nincs kedvem legörgetni)"
   ]
  },
  {
   "cell_type": "code",
   "execution_count": 91,
   "id": "9f644f15",
   "metadata": {},
   "outputs": [],
   "source": [
    "from sklearn.linear_model import LinearRegression\n",
    "from sklearn.decomposition import PCA\n",
    "from sklearn.svm import SVC\n",
    "\n",
    "\n",
    "# Vegyészmérnökök 3 csop: lineáris regresszió (3-as PCA-val)\n",
    "\n",
    "\n",
    "# Biomérnökök 3 csop: lineáris regresszió (3-as PCA-val)\n",
    "\n",
    "\n",
    "\n",
    "# Vegyészmérnök 2 csop: SVM\n",
    "\n",
    "\n",
    "# Biomérnökök 2 csop: SVM"
   ]
  }
 ],
 "metadata": {
  "kernelspec": {
   "display_name": "Python 3 (ipykernel)",
   "language": "python",
   "name": "python3"
  },
  "language_info": {
   "codemirror_mode": {
    "name": "ipython",
    "version": 3
   },
   "file_extension": ".py",
   "mimetype": "text/x-python",
   "name": "python",
   "nbconvert_exporter": "python",
   "pygments_lexer": "ipython3",
   "version": "3.8.11"
  }
 },
 "nbformat": 4,
 "nbformat_minor": 5
}
