{
 "cells": [
  {
   "cell_type": "markdown",
   "id": "54549db2",
   "metadata": {},
   "source": [
    "# Modulok és Dataprep"
   ]
  },
  {
   "cell_type": "code",
   "execution_count": 1,
   "id": "85a47696",
   "metadata": {},
   "outputs": [],
   "source": [
    "import pandas as pd\n",
    "import numpy as np\n",
    "from sklearn.model_selection import train_test_split, GridSearchCV, StratifiedKFold\n",
    "import sklearn.metrics\n",
    "from sklearn.multiclass import OneVsRestClassifier\n",
    "from imblearn.pipeline import Pipeline as imbpipeline\n",
    "from sklearn.pipeline import Pipeline"
   ]
  },
  {
   "cell_type": "code",
   "execution_count": 2,
   "id": "997db279",
   "metadata": {},
   "outputs": [],
   "source": [
    "data = pd.read_excel(\"C:/Users/Donát/Documents/GitHub/-nkutfel/2019/2019_MAIN_CLEANED.xlsx\")"
   ]
  },
  {
   "cell_type": "markdown",
   "id": "0a4bd1eb",
   "metadata": {},
   "source": [
    "**Minimális Feature Engineering**"
   ]
  },
  {
   "cell_type": "code",
   "execution_count": 3,
   "id": "17d9fb53",
   "metadata": {},
   "outputs": [],
   "source": [
    "#szűrjük ki a nem kategorikus vagy numerikus változókat\n",
    "working_data = data.drop(labels = [\"Name\", \"Neptun\", \"Tankör\"], axis = 1)\n",
    "\n",
    "#alakítsuk numerikussá a %-os teljesítménymutatókat\n",
    "for i, row in working_data.iterrows():\n",
    "    working_data.at[i, \"Matek eredmény\"] = float(row[\"Matek eredmény\"][:-3] + \".\" + row[\"Matek eredmény\"][-2])\n",
    "    working_data.at[i, \"Kognitív eredmény\"] = float(row[\"Kognitív eredmény\"][:-3] + \".\" + row[\"Kognitív eredmény\"][-2])\n",
    "    working_data.at[i, \"Kognitív pont\"] = float(str(row[\"Kognitív pont\"]).replace(\",\", \".\"))\n",
    "    working_data.at[i, \"Össz eredmény (átlag)\"] = float(row[\"Össz eredmény (átlag)\"][:-3] + \".\" + row[\"Össz eredmény (átlag)\"][-2])\n",
    "\n"
   ]
  },
  {
   "cell_type": "code",
   "execution_count": 4,
   "id": "76ef580d",
   "metadata": {},
   "outputs": [],
   "source": [
    "#csináljunk a jegyek alapján 3 csoportot: a jó tanulók a 4-5, a rossz a 2-3, a bukás legyen 1\n",
    "for i, row in working_data.iterrows():\n",
    "    if working_data.at[i, \"Matematika A1a - Analízis\"] in [4, 5]:\n",
    "        working_data.at[i, \"Matematika A1a - Analízis\"] = 3\n",
    "    elif working_data.at[i, \"Matematika A1a - Analízis\"] in [2, 3]:\n",
    "        working_data.at[i, \"Matematika A1a - Analízis\"] = 2"
   ]
  },
  {
   "cell_type": "code",
   "execution_count": 5,
   "id": "2ab7cc89",
   "metadata": {},
   "outputs": [
    {
     "data": {
      "text/plain": [
       "2    145\n",
       "3     80\n",
       "1      5\n",
       "Name: Matematika A1a - Analízis, dtype: int64"
      ]
     },
     "execution_count": 5,
     "metadata": {},
     "output_type": "execute_result"
    }
   ],
   "source": [
    "working_data['Matematika A1a - Analízis'].value_counts()"
   ]
  },
  {
   "cell_type": "markdown",
   "id": "e8f9d72b",
   "metadata": {},
   "source": [
    "**Eszközök és szétbontás**"
   ]
  },
  {
   "cell_type": "code",
   "execution_count": 6,
   "id": "325c54ff",
   "metadata": {},
   "outputs": [
    {
     "name": "stderr",
     "output_type": "stream",
     "text": [
      "D:\\anaconda3\\envs\\otthoni\\lib\\site-packages\\sklearn\\preprocessing\\_data.py:2590: UserWarning: n_quantiles (1000) is greater than the total number of samples (175). n_quantiles is set to n_samples.\n",
      "  warnings.warn(\n"
     ]
    }
   ],
   "source": [
    "from imblearn.over_sampling import SMOTE\n",
    "\n",
    "smote = SMOTE(random_state = 42, k_neighbors = 4, sampling_strategy = {2: 145, 3: 80, 1: 25})\n",
    "\n",
    "stratified_kfold = StratifiedKFold(n_splits=5,\n",
    "                                       shuffle=True,\n",
    "                                       random_state=11)\n",
    "\n",
    "features = working_data.drop(labels = [\"Matematika A1a - Analízis\", \"Matematika A2c\",\"Kognitív pont\", \"Szak\", \"Matek helyes\", \"Összes pont\", \"Össz eredmény (átlag)\"], axis = 1)\n",
    "label = working_data[\"Matematika A1a - Analízis\"]\n",
    "features, label = smote.fit_resample(features, label)\n",
    "\n",
    "\n",
    "X_train, X_test, y_train, y_test = train_test_split(features, label, test_size=0.3, random_state=0, stratify=label)\n",
    "\n",
    "\n",
    "#skálázás\n",
    "\n",
    "from sklearn import preprocessing\n",
    "quantile_transformer = preprocessing.QuantileTransformer(random_state=0)\n",
    "X_train = quantile_transformer.fit_transform(X_train)\n",
    "X_test = quantile_transformer.transform(X_test)\n"
   ]
  },
  {
   "cell_type": "markdown",
   "id": "7340dfe7",
   "metadata": {},
   "source": [
    "# Osztályozó algoritmusok\n",
    "\n",
    "**KNN**"
   ]
  },
  {
   "cell_type": "code",
   "execution_count": 7,
   "id": "690c9850",
   "metadata": {},
   "outputs": [
    {
     "name": "stdout",
     "output_type": "stream",
     "text": [
      "Mahalanobis kNN:\n",
      "{'cv_score': 0.7542857142857143, 'test_score': 0.7066666666666667}\n",
      "Params:\n",
      "{'classifier__n_neighbors': 28, 'classifier__weights': 'distance'}\n"
     ]
    }
   ],
   "source": [
    "#KNN-re keresztvalidációval mahalanobis-szal\n",
    "from sklearn.neighbors import KNeighborsClassifier\n",
    "from sklearn.model_selection import cross_val_score\n",
    "\n",
    "\n",
    "#distance függvény\n",
    "def squared(array):\n",
    "    return 1/array**2\n",
    "\n",
    "\n",
    "\n",
    "pipeline = imbpipeline(steps = [['classifier', KNeighborsClassifier(metric=\"mahalanobis\", metric_params={'V': np.cov(m=X_train.astype(float), rowvar=False)})]])\n",
    "param_grid = {'classifier__n_neighbors':[i for i in range(1,30)], 'classifier__weights':['uniform', 'distance', squared]}\n",
    "\n",
    "knn_mahal_grid_search = GridSearchCV(estimator=pipeline,\n",
    "                               param_grid=param_grid,\n",
    "                               scoring='accuracy',\n",
    "                               cv=stratified_kfold,\n",
    "                               n_jobs=-1)\n",
    "\n",
    "\n",
    "knn_mahal_grid_search.fit(X_train, y_train)\n",
    "cv_score = knn_mahal_grid_search.best_score_\n",
    "knn_mahal = knn_mahal_grid_search.score(X_test, y_test)\n",
    "print(\"Mahalanobis kNN:\")\n",
    "print({'cv_score':cv_score, 'test_score':knn_mahal})\n",
    "print(\"Params:\")\n",
    "print(knn_mahal_grid_search.best_params_)\n"
   ]
  },
  {
   "cell_type": "code",
   "execution_count": 8,
   "id": "7b3490bb",
   "metadata": {
    "scrolled": true
   },
   "outputs": [
    {
     "name": "stdout",
     "output_type": "stream",
     "text": [
      "Euclidian kNN:\n",
      "{'cv_score': 0.7314285714285714, 'test_score': 0.6533333333333333}\n",
      "Params:\n",
      "{'classifier__n_neighbors': 7, 'classifier__weights': 'distance'}\n"
     ]
    }
   ],
   "source": [
    "#KNN-re keresztvalidációval euklidészi távolsággal\n",
    "\n",
    "pipeline = Pipeline(steps = [['classifier', KNeighborsClassifier(metric=\"euclidean\")]])\n",
    "param_grid = {'classifier__n_neighbors':[i for i in range(1,30)], 'classifier__weights':['uniform', 'distance', squared]}\n",
    "\n",
    "knn_eu_grid_search = GridSearchCV(estimator=pipeline,\n",
    "                               param_grid=param_grid,\n",
    "                               scoring='accuracy',\n",
    "                               cv=stratified_kfold,\n",
    "                               n_jobs=-1)\n",
    "\n",
    "\n",
    "knn_eu_grid_search.fit(X_train, y_train)\n",
    "cv_score = knn_eu_grid_search.best_score_\n",
    "knn_eu = knn_eu_grid_search.score(X_test, y_test)\n",
    "print(\"Euclidian kNN:\")\n",
    "print({'cv_score':cv_score, 'test_score':knn_eu})\n",
    "print(\"Params:\")\n",
    "print(knn_eu_grid_search.best_params_)\n",
    "\n",
    "\n"
   ]
  },
  {
   "cell_type": "code",
   "execution_count": 9,
   "id": "6d0e89a0",
   "metadata": {},
   "outputs": [
    {
     "name": "stdout",
     "output_type": "stream",
     "text": [
      "kNN with Mahalanobis:\n",
      "- Optmial parameters: {'classifier__n_neighbors': 28, 'classifier__weights': 'distance'} \n",
      "- Accuracy: 0.7066666666666667\n",
      "kNN with Euclidean:\n",
      "- Optimal parameters: {'classifier__n_neighbors': 7, 'classifier__weights': 'distance'} \n",
      "- Accuracy: 0.6533333333333333\n"
     ]
    }
   ],
   "source": [
    "#összesítve kNN\n",
    "print(f'kNN with Mahalanobis:')\n",
    "print(f'- Optmial parameters: {knn_mahal_grid_search.best_params_} \\n- Accuracy: {knn_mahal}')\n",
    "print(f'kNN with Euclidean:')\n",
    "print(f'- Optimal parameters: {knn_eu_grid_search.best_params_} \\n- Accuracy: {knn_eu}')"
   ]
  },
  {
   "cell_type": "markdown",
   "id": "d04330d5",
   "metadata": {},
   "source": [
    "**SVM**"
   ]
  },
  {
   "cell_type": "code",
   "execution_count": 10,
   "id": "9603fd2c",
   "metadata": {},
   "outputs": [
    {
     "name": "stdout",
     "output_type": "stream",
     "text": [
      "SVM:\n",
      "{'cv_score': 0.6914285714285715, 'test_score': 0.6}\n",
      "Params:\n",
      "{'classifier__C': 2.9000000000000004, 'classifier__kernel': 'rbf'}\n",
      "\n",
      "Accuracy: 0.6\n",
      "Precision: 0.65\n",
      "Recall: 0.6\n"
     ]
    }
   ],
   "source": [
    "#tesztelés megfelelő C-hez SVM-nél\n",
    "from sklearn.svm import SVC\n",
    "from sklearn.multiclass import OneVsRestClassifier\n",
    "\n",
    "pipeline = Pipeline(steps = [['classifier', SVC(class_weight = \"balanced\", random_state=0, decision_function_shape = 'ovr')]])\n",
    "param_grid = {'classifier__C':[i*0.1 for i in range(1,50)], 'classifier__kernel':['linear','poly','rbf']}\n",
    "\n",
    "SVM_grid_search = GridSearchCV(estimator=pipeline,\n",
    "                               param_grid=param_grid,\n",
    "                               scoring='accuracy',\n",
    "                               cv=stratified_kfold,\n",
    "                               n_jobs=-1)\n",
    "\n",
    "\n",
    "SVM_grid_search.fit(X_train, y_train)\n",
    "cv_score = SVM_grid_search.best_score_\n",
    "SVM_acc = SVM_grid_search.score(X_test, y_test)\n",
    "y_pred = SVM_grid_search.predict(X_test)\n",
    "print(\"SVM:\")\n",
    "print({'cv_score':cv_score, 'test_score':SVM_acc})\n",
    "print(\"Params:\")\n",
    "print(SVM_grid_search.best_params_)\n",
    "\n",
    "print(\"\")\n",
    "print(f'Accuracy: {round(sklearn.metrics.accuracy_score(y_test, y_pred),2)}')\n",
    "print(f'Precision: {round(sklearn.metrics.precision_score(y_test, y_pred, average = \"weighted\"),2)}')\n",
    "print(f'Recall: {round(sklearn.metrics.recall_score(y_test, y_pred, average = \"weighted\"),2)}')\n",
    "\n"
   ]
  },
  {
   "cell_type": "markdown",
   "id": "bd479ad9",
   "metadata": {},
   "source": [
    "**Logisztikus Regresszió**"
   ]
  },
  {
   "cell_type": "code",
   "execution_count": 11,
   "id": "0b356f0a",
   "metadata": {},
   "outputs": [
    {
     "name": "stdout",
     "output_type": "stream",
     "text": [
      "Logistic Regression:\n",
      "{'cv_score': 0.6342857142857143, 'test_score': 0.5733333333333334}\n",
      "Params:\n",
      "{'classifier__C': 0.05, 'classifier__solver': 'sag'}\n",
      "\n",
      "Accuracy: 0.57\n",
      "Precision: 0.67\n",
      "Recall: 0.57\n"
     ]
    }
   ],
   "source": [
    "#logisztikus regresszióra\n",
    "from sklearn.linear_model import LogisticRegression\n",
    "\n",
    "pipeline = Pipeline(steps = [['classifier', LogisticRegression(class_weight = \"balanced\", random_state=0, max_iter = 5000, multi_class = 'ovr')]])\n",
    "param_grid = {'classifier__C':[i*0.05 for i in range(1,100)], 'classifier__solver':['sag','saga']}\n",
    "\n",
    "log_grid_search = GridSearchCV(estimator=pipeline,\n",
    "                               param_grid=param_grid,\n",
    "                               scoring='accuracy',\n",
    "                               cv=stratified_kfold,\n",
    "                               n_jobs=-1)\n",
    "\n",
    "\n",
    "log_grid_search.fit(X_train, y_train)\n",
    "cv_score = log_grid_search.best_score_\n",
    "log_acc = log_grid_search.score(X_test, y_test)\n",
    "y_pred = log_grid_search.predict(X_test)\n",
    "print(\"Logistic Regression:\")\n",
    "print({'cv_score':cv_score, 'test_score':log_acc})\n",
    "print(\"Params:\")\n",
    "print(log_grid_search.best_params_)\n",
    "\n",
    "print(\"\")\n",
    "print(f'Accuracy: {round(sklearn.metrics.accuracy_score(y_test, y_pred),2)}')\n",
    "print(f'Precision: {round(sklearn.metrics.precision_score(y_test, y_pred, average = \"weighted\"),2)}')\n",
    "print(f'Recall: {round(sklearn.metrics.recall_score(y_test, y_pred, average = \"weighted\"),2)}')\n"
   ]
  },
  {
   "cell_type": "markdown",
   "id": "d0e95fe9",
   "metadata": {},
   "source": [
    "**Naive Bayes**"
   ]
  },
  {
   "cell_type": "code",
   "execution_count": 12,
   "id": "6400e3d9",
   "metadata": {},
   "outputs": [
    {
     "name": "stdout",
     "output_type": "stream",
     "text": [
      "Accuracy: 0.55\n"
     ]
    }
   ],
   "source": [
    "#Naive bayes-szel\n",
    "from sklearn.naive_bayes import GaussianNB\n",
    "\n",
    "clf = GaussianNB()\n",
    "clf.fit(X_train, y_train)\n",
    "y_pred = clf.predict(X_test)\n",
    "bayes_acc = round(sklearn.metrics.accuracy_score(y_test, y_pred),2)\n",
    "\n",
    "print(f'Accuracy: {round(sklearn.metrics.accuracy_score(y_test, y_pred),2)}')"
   ]
  },
  {
   "cell_type": "code",
   "execution_count": 13,
   "id": "541abb4d",
   "metadata": {},
   "outputs": [
    {
     "name": "stdout",
     "output_type": "stream",
     "text": [
      "Accuracy with different algorithms:\n",
      "- SVM: 0.6 \n",
      "- Logistic Regression: 0.5733333333333334 \n",
      "- Naive Bayes: 0.55\n"
     ]
    }
   ],
   "source": [
    "#az előző 3 kiértékelése\n",
    "print(\"Accuracy with different algorithms:\")\n",
    "print(f'- SVM: {SVM_acc} \\n- Logistic Regression: {log_acc} \\n- Naive Bayes: {bayes_acc}')"
   ]
  },
  {
   "cell_type": "markdown",
   "id": "5af1928f",
   "metadata": {},
   "source": [
    "**Gradient Boosting**"
   ]
  },
  {
   "cell_type": "code",
   "execution_count": 14,
   "id": "3579deb3",
   "metadata": {},
   "outputs": [
    {
     "name": "stdout",
     "output_type": "stream",
     "text": [
      "Gradient Boosting:\n",
      "{'cv_score': 0.7314285714285715, 'test_score': 0.6666666666666666}\n",
      "Params:\n",
      "{'classifier__criterion': 'squared_error', 'classifier__learning_rate': 0.25, 'classifier__max_depth': 3, 'classifier__n_estimators': 10}\n",
      "\n",
      "Accuracy: 0.67\n",
      "Precision: 0.68\n",
      "Recall: 0.67\n"
     ]
    }
   ],
   "source": [
    "from sklearn.ensemble import GradientBoostingClassifier\n",
    "\n",
    "pipeline = Pipeline(steps = [['classifier', GradientBoostingClassifier(random_state=0)]])\n",
    "param_grid = {'classifier__learning_rate':[0.01*i for i in range(1,50)],\n",
    "              'classifier__n_estimators':[5*i for i in range(1,10)], 'classifier__criterion':['squared_error','friedman_mse'],\n",
    "              'classifier__max_depth':[3,4,5]}\n",
    "\n",
    "grad_grid_search = GridSearchCV(estimator=pipeline,\n",
    "                               param_grid=param_grid,\n",
    "                               scoring='accuracy',\n",
    "                               cv=stratified_kfold,\n",
    "                               n_jobs=-1)\n",
    "\n",
    "\n",
    "grad_grid_search.fit(X_train, y_train)\n",
    "cv_score = grad_grid_search.best_score_\n",
    "grad_acc = grad_grid_search.score(X_test, y_test)\n",
    "y_pred = grad_grid_search.predict(X_test)\n",
    "print(\"Gradient Boosting:\")\n",
    "print({'cv_score':cv_score, 'test_score':grad_acc})\n",
    "print(\"Params:\")\n",
    "print(grad_grid_search.best_params_)\n",
    "\n",
    "print(\"\")\n",
    "print(f'Accuracy: {round(sklearn.metrics.accuracy_score(y_test, y_pred),2)}')\n",
    "print(f'Precision: {round(sklearn.metrics.precision_score(y_test, y_pred, average = \"weighted\"),2)}')\n",
    "print(f'Recall: {round(sklearn.metrics.recall_score(y_test, y_pred, average = \"weighted\"),2)}')"
   ]
  },
  {
   "cell_type": "markdown",
   "id": "3ed02f87",
   "metadata": {},
   "source": [
    "**Lineáris regresszió**"
   ]
  },
  {
   "cell_type": "code",
   "execution_count": 15,
   "id": "087b872b",
   "metadata": {},
   "outputs": [
    {
     "data": {
      "text/plain": [
       "0.5077267779066184"
      ]
     },
     "execution_count": 15,
     "metadata": {},
     "output_type": "execute_result"
    }
   ],
   "source": [
    "#ezek után nem oneVSall: lineáris regresszió\n",
    "from sklearn.linear_model import LinearRegression\n",
    "\n",
    "reg_alap = LinearRegression().fit(features,label)\n",
    "reg_alap.score(features, label)         "
   ]
  },
  {
   "cell_type": "code",
   "execution_count": 16,
   "id": "b1aff768",
   "metadata": {},
   "outputs": [
    {
     "name": "stdout",
     "output_type": "stream",
     "text": [
      "Coefficients: [ 0.11821776  0.10006919  0.64558777  0.91034737  0.75693888 -1.04733785\n",
      "  0.10709206  0.12418808  0.44865792 -0.05167897 -0.00209615]\n",
      "RMSE: 0.5\n"
     ]
    }
   ],
   "source": [
    "#most nézzük a tanítóhalmazon és a teszthalmazon\n",
    "\n",
    "reg = LinearRegression().fit(X_train,y_train)\n",
    "reg_pred = reg.predict(X_test)\n",
    "\n",
    "#együtthatók\n",
    "print(\"Coefficients:\", reg.coef_)\n",
    "#RMSE\n",
    "\n",
    "rmse = round(np.power(np.sum(np.power(y_test - reg_pred, 2))/reg_pred.shape[0],0.5),2)\n",
    "print(\"RMSE:\", rmse)"
   ]
  },
  {
   "cell_type": "code",
   "execution_count": 17,
   "id": "ca921224",
   "metadata": {},
   "outputs": [
    {
     "data": {
      "text/plain": [
       "<function matplotlib.pyplot.show(close=None, block=None)>"
      ]
     },
     "execution_count": 17,
     "metadata": {},
     "output_type": "execute_result"
    },
    {
     "data": {
      "image/png": "[encoded data removed]",
      "text/plain": [
       "<Figure size 432x288 with 1 Axes>"
      ]
     },
     "metadata": {
      "needs_background": "light"
     },
     "output_type": "display_data"
    }
   ],
   "source": [
    "#Nézzük meg a reziduális tagokat\n",
    "\n",
    "import matplotlib.pyplot as plt\n",
    "\n",
    "plt.scatter(reg_pred, y_test-reg_pred)\n",
    "plt.plot(reg_pred, [0 for i in range(reg_pred.shape[0])], c=\"red\") #0-vonal\n",
    "plt.title(\"Reziduális tagok\")\n",
    "plt.axis\n",
    "plt.show"
   ]
  },
  {
   "cell_type": "code",
   "execution_count": 18,
   "id": "38c3981c",
   "metadata": {},
   "outputs": [
    {
     "data": {
      "text/plain": [
       "0.49"
      ]
     },
     "execution_count": 18,
     "metadata": {},
     "output_type": "execute_result"
    }
   ],
   "source": [
    "#R^2 és SSR\n",
    "SST = np.sum(np.power(y_test-np.mean(y_test),2))\n",
    "SSR = np.sum(np.power(reg_pred-np.mean(y_test),2))\n",
    "R2 = round(SSR/SST,2)\n",
    "R2"
   ]
  },
  {
   "cell_type": "code",
   "execution_count": 19,
   "id": "e0c37d9a",
   "metadata": {},
   "outputs": [
    {
     "name": "stdout",
     "output_type": "stream",
     "text": [
      "RMSE: 0.61\n",
      "0.63\n"
     ]
    }
   ],
   "source": [
    "#másik: kerekítsük a becsült értékeket\n",
    "\n",
    "for i in range(reg_pred.shape[0]):\n",
    "    reg_pred[i] = round(reg_pred[i],0)\n",
    "\n",
    "rmse_rounded = round(np.power(np.sum(np.power(y_test - reg_pred, 2))/reg_pred.shape[0],0.5),2)\n",
    "print(\"RMSE:\", rmse_rounded)\n",
    "lin_acc = round(sklearn.metrics.accuracy_score(y_test, reg_pred),2)\n",
    "print(round(sklearn.metrics.accuracy_score(y_test, reg_pred),2))"
   ]
  },
  {
   "cell_type": "code",
   "execution_count": 20,
   "id": "94daa06e",
   "metadata": {},
   "outputs": [
    {
     "name": "stdout",
     "output_type": "stream",
     "text": [
      "Linear regression:\n",
      "- RMSE: 0.5 \n",
      "- R2: 0.49 \n",
      "- RMSE after rounding: 0.61 \n",
      "- Accuracy after rounding: 0.63\n"
     ]
    }
   ],
   "source": [
    "#lineáris regresszió összesen:\n",
    "print(\"Linear regression:\")\n",
    "print(f'- RMSE: {rmse} \\n- R2: {R2} \\n- RMSE after rounding: {rmse_rounded} \\n- Accuracy after rounding: {lin_acc}')"
   ]
  },
  {
   "cell_type": "markdown",
   "id": "445addb9",
   "metadata": {},
   "source": [
    "### Eredmények összesítve"
   ]
  },
  {
   "cell_type": "code",
   "execution_count": 21,
   "id": "083f6737",
   "metadata": {},
   "outputs": [
    {
     "name": "stdout",
     "output_type": "stream",
     "text": [
      "kNN with Mahalanobis:\n",
      "- Optmial number of neighbours: {'classifier__n_neighbors': 28, 'classifier__weights': 'distance'} \n",
      "- Accuracy: 0.7066666666666667\n",
      "kNN with Euclidean:\n",
      "- Optimal number of neighbours: {'classifier__n_neighbors': 7, 'classifier__weights': 'distance'} \n",
      "- Accuracy: 0.6533333333333333\n",
      "SVM:\n",
      "- Accuracy: 0.6\n",
      "Logistic Regression:\n",
      "- Accuracy: 0.5733333333333334\n",
      "Naive Bayes:\n",
      "- Accuracy: 0.55\n",
      "Linear regression:\n",
      "- RMSE: 0.5 \n",
      "- R2: 0.49 \n",
      "- RMSE after rounding: 0.61 \n",
      "- Accuracy after rounding: 0.63\n"
     ]
    }
   ],
   "source": [
    "#összes teljes mindenes\n",
    "#összesítve kNN\n",
    "print(f'kNN with Mahalanobis:')\n",
    "print(f'- Optmial number of neighbours: {knn_mahal_grid_search.best_params_} \\n- Accuracy: {knn_mahal}')\n",
    "print(f'kNN with Euclidean:')\n",
    "print(f'- Optimal number of neighbours: {knn_eu_grid_search.best_params_} \\n- Accuracy: {knn_eu}')\n",
    "print(\"SVM:\")\n",
    "print(f'- Accuracy: {SVM_acc}')\n",
    "print(\"Logistic Regression:\")\n",
    "print(f'- Accuracy: {log_acc}')\n",
    "print(\"Naive Bayes:\")\n",
    "print(f'- Accuracy: {bayes_acc}')\n",
    "print(\"Linear regression:\")\n",
    "print(f'- RMSE: {rmse} \\n- R2: {R2} \\n- RMSE after rounding: {rmse_rounded} \\n- Accuracy after rounding: {lin_acc}')"
   ]
  },
  {
   "cell_type": "markdown",
   "id": "4ea8206e",
   "metadata": {},
   "source": [
    "# PCA"
   ]
  },
  {
   "cell_type": "code",
   "execution_count": 22,
   "id": "94f0d304",
   "metadata": {},
   "outputs": [
    {
     "data": {
      "text/plain": [
       "[0.59, 0.57, 0.6, 0.64, 0.61, 0.61, 0.65, 0.57, 0.56]"
      ]
     },
     "execution_count": 22,
     "metadata": {},
     "output_type": "execute_result"
    }
   ],
   "source": [
    "#főkomponens analízissel\n",
    "#nézzük, mennyi főkomponenssel lesz a legjobb. (pl a logisztikus regresszió)\n",
    "from sklearn.decomposition import PCA\n",
    "\n",
    "scores = []\n",
    "\n",
    "for i in range(2,11):\n",
    "    projected = PCA(i).fit_transform(features)\n",
    "    X_train, X_test, y_train, y_test = train_test_split(projected, label, test_size=0.3, random_state=0)\n",
    "    neigh = KNeighborsClassifier(n_neighbors=i, metric=\"mahalanobis\", metric_params={'V': np.cov(m=X_train.astype(float), rowvar=False)})\n",
    "    neigh = neigh.fit(X_train,y_train)\n",
    "    y_pred = neigh.predict(X_test)\n",
    "    scores.append(round(sklearn.metrics.accuracy_score(y_test, y_pred),2))\n",
    "    \n",
    "scores"
   ]
  },
  {
   "cell_type": "code",
   "execution_count": 23,
   "id": "9020f423",
   "metadata": {},
   "outputs": [
    {
     "name": "stdout",
     "output_type": "stream",
     "text": [
      "Accuracy: 0.57\n",
      "Precision: 0.53\n",
      "Recall: 0.68\n"
     ]
    }
   ],
   "source": [
    "#főkomponenses logreg\n",
    "from sklearn.decomposition import PCA\n",
    "projected = PCA(4).fit_transform(features)\n",
    "X_train, X_test, y_train, y_test = train_test_split(projected, label, test_size=0.3, random_state=0)\n",
    "\n",
    "logreg = OneVsRestClassifier(LogisticRegression(class_weight = \"balanced\", random_state=0, max_iter = 10000)).fit(X_train, y_train)\n",
    "y_pred = logreg.predict(X_test)\n",
    "\n",
    "print(f'Accuracy: {round(sklearn.metrics.accuracy_score(y_test, y_pred),2)}')\n",
    "print(f'Precision: {round(sklearn.metrics.precision_score(y_test, y_pred, average = \"macro\"),2)}')\n",
    "print(f'Recall: {round(sklearn.metrics.recall_score(y_test, y_pred, average = \"macro\"),2)}')"
   ]
  },
  {
   "cell_type": "code",
   "execution_count": 24,
   "id": "5193dbc2",
   "metadata": {},
   "outputs": [
    {
     "name": "stderr",
     "output_type": "stream",
     "text": [
      "D:\\anaconda3\\envs\\otthoni\\lib\\site-packages\\sklearn\\preprocessing\\_data.py:2590: UserWarning: n_quantiles (1000) is greater than the total number of samples (175). n_quantiles is set to n_samples.\n",
      "  warnings.warn(\n",
      "D:\\anaconda3\\envs\\otthoni\\lib\\site-packages\\sklearn\\preprocessing\\_data.py:2590: UserWarning: n_quantiles (1000) is greater than the total number of samples (175). n_quantiles is set to n_samples.\n",
      "  warnings.warn(\n",
      "D:\\anaconda3\\envs\\otthoni\\lib\\site-packages\\sklearn\\preprocessing\\_data.py:2590: UserWarning: n_quantiles (1000) is greater than the total number of samples (175). n_quantiles is set to n_samples.\n",
      "  warnings.warn(\n",
      "D:\\anaconda3\\envs\\otthoni\\lib\\site-packages\\sklearn\\preprocessing\\_data.py:2590: UserWarning: n_quantiles (1000) is greater than the total number of samples (175). n_quantiles is set to n_samples.\n",
      "  warnings.warn(\n",
      "D:\\anaconda3\\envs\\otthoni\\lib\\site-packages\\sklearn\\preprocessing\\_data.py:2590: UserWarning: n_quantiles (1000) is greater than the total number of samples (175). n_quantiles is set to n_samples.\n",
      "  warnings.warn(\n",
      "D:\\anaconda3\\envs\\otthoni\\lib\\site-packages\\sklearn\\preprocessing\\_data.py:2590: UserWarning: n_quantiles (1000) is greater than the total number of samples (175). n_quantiles is set to n_samples.\n",
      "  warnings.warn(\n",
      "D:\\anaconda3\\envs\\otthoni\\lib\\site-packages\\sklearn\\preprocessing\\_data.py:2590: UserWarning: n_quantiles (1000) is greater than the total number of samples (175). n_quantiles is set to n_samples.\n",
      "  warnings.warn(\n",
      "D:\\anaconda3\\envs\\otthoni\\lib\\site-packages\\sklearn\\preprocessing\\_data.py:2590: UserWarning: n_quantiles (1000) is greater than the total number of samples (175). n_quantiles is set to n_samples.\n",
      "  warnings.warn(\n"
     ]
    }
   ],
   "source": [
    "#nézzük meg, hogy főkompononensenként hogy változnak a különböző algoritmusok eredménymutatói, és rakjuk dataframe-be!\n",
    "PCA_scores = pd.DataFrame({\"Főkomponensek száma\":[], \"Gradient Boosting Acc.\":[], \"Naive Bayes Acc.\":[], \"Logreg Acc.\":[], \"SVM Acc.\":[], \"Linreg RMSE\":[], \"Linreg R2\":[], \n",
    "                           \"Linreg RMSE kerekített\":[], \"Linreg Acc kerekített\":[]})\n",
    "\n",
    "\n",
    "for i in range(1,9):\n",
    "    projected = PCA(i).fit_transform(features)\n",
    "    X_train, X_test, y_train, y_test = train_test_split(projected, label, test_size=0.3, random_state=0)\n",
    "    \n",
    "    from sklearn import preprocessing\n",
    "    quantile_transformer = preprocessing.QuantileTransformer(random_state=0)\n",
    "    X_train = quantile_transformer.fit_transform(X_train)\n",
    "    X_test = quantile_transformer.transform(X_test)\n",
    "    \n",
    "    ### OPTIMALIZÁLÁS\n",
    "    \n",
    "    # Logreg\n",
    "    \n",
    "    pipeline = Pipeline(steps = [['classifier', LogisticRegression(class_weight = \"balanced\", random_state=0, max_iter = 5000, multi_class = 'ovr')]])\n",
    "    param_grid = {'classifier__C':[i*0.05 for i in range(1,100)], 'classifier__solver':['sag','saga']}\n",
    "\n",
    "    log_grid_search = GridSearchCV(estimator=pipeline,\n",
    "                                   param_grid=param_grid,\n",
    "                                   scoring='accuracy',\n",
    "                                   cv=stratified_kfold,\n",
    "                                   n_jobs=-1)\n",
    "\n",
    "\n",
    "    log_grid_search.fit(X_train, y_train)\n",
    "    cv_score = log_grid_search.best_score_\n",
    "    log_acc = round(log_grid_search.score(X_test, y_test),4)\n",
    "    \n",
    "    # Naive Bayes \n",
    "    \n",
    "    clf = GaussianNB()\n",
    "    clf.fit(X_train, y_train)\n",
    "    y_pred = clf.predict(X_test)\n",
    "    bayes_acc = round(sklearn.metrics.accuracy_score(y_test, y_pred),4)\n",
    "\n",
    "    # SVM\n",
    "    \n",
    "    pipeline = Pipeline(steps = [['classifier', SVC(class_weight = \"balanced\", random_state=0, decision_function_shape = 'ovr')]])\n",
    "    param_grid = {'classifier__C':[i*0.1 for i in range(1,50)], 'classifier__kernel':['linear','poly','rbf']}\n",
    "\n",
    "    SVM_grid_search = GridSearchCV(estimator=pipeline,\n",
    "                                   param_grid=param_grid,\n",
    "                                   scoring='accuracy',\n",
    "                                   cv=stratified_kfold,\n",
    "                                   n_jobs=-1)\n",
    "\n",
    "\n",
    "    SVM_grid_search.fit(X_train, y_train)\n",
    "    cv_score = SVM_grid_search.best_score_\n",
    "    SVM_acc = round(SVM_grid_search.score(X_test, y_test),4)\n",
    "    \n",
    "    # GradBoost\n",
    "    \n",
    "    pipeline = Pipeline(steps = [['classifier', GradientBoostingClassifier(random_state=0)]])\n",
    "    param_grid = {'classifier__learning_rate':[0.01*i for i in range(1,50)],\n",
    "                  'classifier__n_estimators':[5*i for i in range(1,10)], 'classifier__criterion':['squared_error','friedman_mse'],\n",
    "                  'classifier__max_depth':[3,4,5]}\n",
    "\n",
    "    grad_grid_search = GridSearchCV(estimator=pipeline,\n",
    "                                   param_grid=param_grid,\n",
    "                                   scoring='accuracy',\n",
    "                                   cv=stratified_kfold,\n",
    "                                   n_jobs=-1)\n",
    "\n",
    "\n",
    "    grad_grid_search.fit(X_train, y_train)\n",
    "    cv_score = grad_grid_search.best_score_\n",
    "    grad_acc = round(grad_grid_search.score(X_test, y_test),4)\n",
    "    \n",
    "    # Linreg\n",
    "\n",
    "    reg = LinearRegression().fit(X_train,y_train)\n",
    "    reg_pred = reg.predict(X_test)\n",
    "    \n",
    "    rmse = round(np.power(np.sum(np.power(y_test - reg_pred, 2))/reg_pred.shape[0],0.5),4)\n",
    "    \n",
    "    SST = np.sum(np.power(y_test-np.mean(y_test),2))\n",
    "    SSR = np.sum(np.power(reg_pred-np.mean(y_test),2))\n",
    "    R2 = round(SSR/SST,4)\n",
    "    R2\n",
    "    \n",
    "    for j in range(reg_pred.shape[0]):\n",
    "        reg_pred[j] = round(reg_pred[j],0)\n",
    "\n",
    "    rmse_rounded = round(np.power(np.sum(np.power(y_test - reg_pred, 2))/reg_pred.shape[0],0.5),4)\n",
    "    lin_acc = round(sklearn.metrics.accuracy_score(y_test, reg_pred),4)\n",
    "    reg_pred_rounded = round(sklearn.metrics.accuracy_score(y_test, reg_pred),4)\n",
    "    \n",
    "    \n",
    "    #új sor a dataframe-be\n",
    "    new_row = {\"Főkomponensek száma\":str(i), \"Gradient Boosting Acc.\":grad_acc, \"Naive Bayes Acc.\":bayes_acc ,\"Logreg Acc.\":log_acc, \"SVM Acc.\":SVM_acc, \"Linreg RMSE\":rmse, \"Linreg R2\":R2, \n",
    "               \"Linreg RMSE kerekített\":rmse_rounded, \"Linreg Acc kerekített\":reg_pred_rounded}\n",
    "    PCA_scores = PCA_scores.append(new_row, ignore_index=True)"
   ]
  },
  {
   "cell_type": "code",
   "execution_count": 25,
   "id": "43962364",
   "metadata": {},
   "outputs": [
    {
     "data": {
      "text/html": [
       "<div>\n",
       "<style scoped>\n",
       "    .dataframe tbody tr th:only-of-type {\n",
       "        vertical-align: middle;\n",
       "    }\n",
       "\n",
       "    .dataframe tbody tr th {\n",
       "        vertical-align: top;\n",
       "    }\n",
       "\n",
       "    .dataframe thead th {\n",
       "        text-align: right;\n",
       "    }\n",
       "</style>\n",
       "<table border=\"1\" class=\"dataframe\">\n",
       "  <thead>\n",
       "    <tr style=\"text-align: right;\">\n",
       "      <th></th>\n",
       "      <th>Főkomponensek száma</th>\n",
       "      <th>Gradient Boosting Acc.</th>\n",
       "      <th>Naive Bayes Acc.</th>\n",
       "      <th>Logreg Acc.</th>\n",
       "      <th>SVM Acc.</th>\n",
       "      <th>Linreg RMSE</th>\n",
       "      <th>Linreg R2</th>\n",
       "      <th>Linreg RMSE kerekített</th>\n",
       "      <th>Linreg Acc kerekített</th>\n",
       "    </tr>\n",
       "  </thead>\n",
       "  <tbody>\n",
       "    <tr>\n",
       "      <th>0</th>\n",
       "      <td>1</td>\n",
       "      <td>0.6533</td>\n",
       "      <td>0.6533</td>\n",
       "      <td>0.4267</td>\n",
       "      <td>0.5067</td>\n",
       "      <td>0.5382</td>\n",
       "      <td>0.5261</td>\n",
       "      <td>0.6110</td>\n",
       "      <td>0.6267</td>\n",
       "    </tr>\n",
       "    <tr>\n",
       "      <th>1</th>\n",
       "      <td>2</td>\n",
       "      <td>0.6667</td>\n",
       "      <td>0.6267</td>\n",
       "      <td>0.5200</td>\n",
       "      <td>0.5867</td>\n",
       "      <td>0.5494</td>\n",
       "      <td>0.5367</td>\n",
       "      <td>0.6218</td>\n",
       "      <td>0.6133</td>\n",
       "    </tr>\n",
       "    <tr>\n",
       "      <th>2</th>\n",
       "      <td>3</td>\n",
       "      <td>0.6933</td>\n",
       "      <td>0.6533</td>\n",
       "      <td>0.5467</td>\n",
       "      <td>0.5733</td>\n",
       "      <td>0.5304</td>\n",
       "      <td>0.4972</td>\n",
       "      <td>0.6000</td>\n",
       "      <td>0.6400</td>\n",
       "    </tr>\n",
       "    <tr>\n",
       "      <th>3</th>\n",
       "      <td>4</td>\n",
       "      <td>0.6800</td>\n",
       "      <td>0.6133</td>\n",
       "      <td>0.5600</td>\n",
       "      <td>0.5467</td>\n",
       "      <td>0.5334</td>\n",
       "      <td>0.4992</td>\n",
       "      <td>0.5888</td>\n",
       "      <td>0.6533</td>\n",
       "    </tr>\n",
       "    <tr>\n",
       "      <th>4</th>\n",
       "      <td>5</td>\n",
       "      <td>0.7067</td>\n",
       "      <td>0.6000</td>\n",
       "      <td>0.5733</td>\n",
       "      <td>0.5333</td>\n",
       "      <td>0.5349</td>\n",
       "      <td>0.5015</td>\n",
       "      <td>0.6000</td>\n",
       "      <td>0.6400</td>\n",
       "    </tr>\n",
       "    <tr>\n",
       "      <th>5</th>\n",
       "      <td>6</td>\n",
       "      <td>0.6533</td>\n",
       "      <td>0.6267</td>\n",
       "      <td>0.5467</td>\n",
       "      <td>0.6800</td>\n",
       "      <td>0.5327</td>\n",
       "      <td>0.4955</td>\n",
       "      <td>0.6000</td>\n",
       "      <td>0.6400</td>\n",
       "    </tr>\n",
       "    <tr>\n",
       "      <th>6</th>\n",
       "      <td>7</td>\n",
       "      <td>0.6667</td>\n",
       "      <td>0.6267</td>\n",
       "      <td>0.5333</td>\n",
       "      <td>0.6400</td>\n",
       "      <td>0.5371</td>\n",
       "      <td>0.5045</td>\n",
       "      <td>0.6000</td>\n",
       "      <td>0.6400</td>\n",
       "    </tr>\n",
       "    <tr>\n",
       "      <th>7</th>\n",
       "      <td>8</td>\n",
       "      <td>0.6400</td>\n",
       "      <td>0.6800</td>\n",
       "      <td>0.5333</td>\n",
       "      <td>0.6267</td>\n",
       "      <td>0.5346</td>\n",
       "      <td>0.5031</td>\n",
       "      <td>0.6000</td>\n",
       "      <td>0.6400</td>\n",
       "    </tr>\n",
       "  </tbody>\n",
       "</table>\n",
       "</div>"
      ],
      "text/plain": [
       "  Főkomponensek száma  Gradient Boosting Acc.  Naive Bayes Acc.  Logreg Acc.  \\\n",
       "0                   1                  0.6533            0.6533       0.4267   \n",
       "1                   2                  0.6667            0.6267       0.5200   \n",
       "2                   3                  0.6933            0.6533       0.5467   \n",
       "3                   4                  0.6800            0.6133       0.5600   \n",
       "4                   5                  0.7067            0.6000       0.5733   \n",
       "5                   6                  0.6533            0.6267       0.5467   \n",
       "6                   7                  0.6667            0.6267       0.5333   \n",
       "7                   8                  0.6400            0.6800       0.5333   \n",
       "\n",
       "   SVM Acc.  Linreg RMSE  Linreg R2  Linreg RMSE kerekített  \\\n",
       "0    0.5067       0.5382     0.5261                  0.6110   \n",
       "1    0.5867       0.5494     0.5367                  0.6218   \n",
       "2    0.5733       0.5304     0.4972                  0.6000   \n",
       "3    0.5467       0.5334     0.4992                  0.5888   \n",
       "4    0.5333       0.5349     0.5015                  0.6000   \n",
       "5    0.6800       0.5327     0.4955                  0.6000   \n",
       "6    0.6400       0.5371     0.5045                  0.6000   \n",
       "7    0.6267       0.5346     0.5031                  0.6000   \n",
       "\n",
       "   Linreg Acc kerekített  \n",
       "0                 0.6267  \n",
       "1                 0.6133  \n",
       "2                 0.6400  \n",
       "3                 0.6533  \n",
       "4                 0.6400  \n",
       "5                 0.6400  \n",
       "6                 0.6400  \n",
       "7                 0.6400  "
      ]
     },
     "execution_count": 25,
     "metadata": {},
     "output_type": "execute_result"
    }
   ],
   "source": [
    "PCA_scores"
   ]
  },
  {
   "cell_type": "code",
   "execution_count": null,
   "id": "77443844",
   "metadata": {},
   "outputs": [],
   "source": []
  },
  {
   "cell_type": "markdown",
   "id": "2697ea29",
   "metadata": {},
   "source": [
    "# Modulok és Dataprep"
   ]
  },
  {
   "cell_type": "code",
   "execution_count": 26,
   "id": "adae26a9",
   "metadata": {},
   "outputs": [],
   "source": [
    "import pandas as pd\n",
    "import numpy as np\n",
    "from sklearn.model_selection import train_test_split, GridSearchCV, StratifiedKFold\n",
    "import sklearn.metrics\n",
    "from sklearn.multiclass import OneVsRestClassifier\n",
    "from imblearn.pipeline import Pipeline as imbpipeline\n",
    "from sklearn.pipeline import Pipeline"
   ]
  },
  {
   "cell_type": "code",
   "execution_count": 27,
   "id": "057ca660",
   "metadata": {},
   "outputs": [],
   "source": [
    "data = pd.read_excel(\"C:/Users/Donát/Documents/GitHub/-nkutfel/2019/2019_MAIN_CLEANED.xlsx\")"
   ]
  },
  {
   "cell_type": "markdown",
   "id": "ad46b7bf",
   "metadata": {},
   "source": [
    "**Minimális Feature Engineering**"
   ]
  },
  {
   "cell_type": "code",
   "execution_count": 28,
   "id": "a5c4e9fb",
   "metadata": {},
   "outputs": [],
   "source": [
    "#szűrjük ki a nem kategorikus vagy numerikus változókat\n",
    "working_data = data.drop(labels = [\"Name\", \"Neptun\", \"Tankör\"], axis = 1)\n",
    "\n",
    "#alakítsuk numerikussá a %-os teljesítménymutatókat\n",
    "for i, row in working_data.iterrows():\n",
    "    working_data.at[i, \"Matek eredmény\"] = float(row[\"Matek eredmény\"][:-3] + \".\" + row[\"Matek eredmény\"][-2])\n",
    "    working_data.at[i, \"Kognitív eredmény\"] = float(row[\"Kognitív eredmény\"][:-3] + \".\" + row[\"Kognitív eredmény\"][-2])\n",
    "    working_data.at[i, \"Kognitív pont\"] = float(str(row[\"Kognitív pont\"]).replace(\",\", \".\"))\n",
    "    working_data.at[i, \"Össz eredmény (átlag)\"] = float(row[\"Össz eredmény (átlag)\"][:-3] + \".\" + row[\"Össz eredmény (átlag)\"][-2])\n",
    "\n"
   ]
  },
  {
   "cell_type": "code",
   "execution_count": 29,
   "id": "6eebfcfd",
   "metadata": {},
   "outputs": [],
   "source": [
    "#csináljunk a jegyek alapján 3 csoportot: a jó tanulók a 4-5, a rossz a 2-3, a bukás legyen 1\n",
    "for i, row in working_data.iterrows():\n",
    "    if working_data.at[i, \"Matematika A1a - Analízis\"] in [3, 4, 5]:\n",
    "        working_data.at[i, \"Matematika A1a - Analízis\"] = 1\n",
    "    elif working_data.at[i, \"Matematika A1a - Analízis\"] in [2, 1]:\n",
    "        working_data.at[i, \"Matematika A1a - Analízis\"] = 0"
   ]
  },
  {
   "cell_type": "code",
   "execution_count": 30,
   "id": "d4bbb163",
   "metadata": {},
   "outputs": [
    {
     "data": {
      "text/plain": [
       "1    155\n",
       "0     75\n",
       "Name: Matematika A1a - Analízis, dtype: int64"
      ]
     },
     "execution_count": 30,
     "metadata": {},
     "output_type": "execute_result"
    }
   ],
   "source": [
    "working_data['Matematika A1a - Analízis'].value_counts()"
   ]
  },
  {
   "cell_type": "markdown",
   "id": "179f3c3d",
   "metadata": {},
   "source": [
    "**Eszközök és szétbontás**"
   ]
  },
  {
   "cell_type": "code",
   "execution_count": 31,
   "id": "91de14e1",
   "metadata": {},
   "outputs": [
    {
     "name": "stderr",
     "output_type": "stream",
     "text": [
      "D:\\anaconda3\\envs\\otthoni\\lib\\site-packages\\sklearn\\preprocessing\\_data.py:2590: UserWarning: n_quantiles (1000) is greater than the total number of samples (161). n_quantiles is set to n_samples.\n",
      "  warnings.warn(\n"
     ]
    }
   ],
   "source": [
    "from imblearn.over_sampling import SMOTE\n",
    "\n",
    "#smote = SMOTE(random_state = 42, k_neighbors = 4, sampling_strategy = {2: 145, 3: 80, 1: 25})\n",
    "\n",
    "stratified_kfold = StratifiedKFold(n_splits=5,\n",
    "                                       shuffle=True,\n",
    "                                       random_state=11)\n",
    "\n",
    "features = working_data.drop(labels = [\"Matematika A1a - Analízis\", \"Kognitív pont\", \"Matematika A2c\", \"Szak\", \"Matek helyes\", \"Összes pont\", \"Össz eredmény (átlag)\"], axis = 1)\n",
    "label = working_data[\"Matematika A1a - Analízis\"]\n",
    "#features, label = smote.fit_resample(features, label)\n",
    "\n",
    "\n",
    "X_train, X_test, y_train, y_test = train_test_split(features, label, test_size=0.3, random_state=0, stratify=label)\n",
    "\n",
    "\n",
    "#skálázás\n",
    "\n",
    "from sklearn import preprocessing\n",
    "quantile_transformer = preprocessing.QuantileTransformer(random_state=0)\n",
    "X_train = quantile_transformer.fit_transform(X_train)\n",
    "X_test = quantile_transformer.transform(X_test)\n"
   ]
  },
  {
   "cell_type": "markdown",
   "id": "b2f068a5",
   "metadata": {},
   "source": [
    "# Osztályozó algoritmusok\n",
    "\n",
    "**KNN**"
   ]
  },
  {
   "cell_type": "code",
   "execution_count": 32,
   "id": "6d44620d",
   "metadata": {},
   "outputs": [
    {
     "name": "stdout",
     "output_type": "stream",
     "text": [
      "Mahalanobis kNN:\n",
      "{'cv_score': 0.7267045454545455, 'test_score': 0.7101449275362319}\n",
      "Params:\n",
      "{'classifier__n_neighbors': 8, 'classifier__weights': 'uniform'}\n"
     ]
    }
   ],
   "source": [
    "#KNN-re keresztvalidációval mahalanobis-szal\n",
    "from sklearn.neighbors import KNeighborsClassifier\n",
    "from sklearn.model_selection import cross_val_score\n",
    "\n",
    "\n",
    "#distance függvény\n",
    "def squared(array):\n",
    "    return 1/array**2\n",
    "\n",
    "\n",
    "\n",
    "pipeline = imbpipeline(steps = [['classifier', KNeighborsClassifier(metric=\"mahalanobis\", metric_params={'V': np.cov(m=X_train.astype(float), rowvar=False)})]])\n",
    "param_grid = {'classifier__n_neighbors':[i for i in range(1,30)], 'classifier__weights':['uniform', 'distance', squared]}\n",
    "\n",
    "knn_mahal_grid_search = GridSearchCV(estimator=pipeline,\n",
    "                               param_grid=param_grid,\n",
    "                               scoring='accuracy',\n",
    "                               cv=stratified_kfold,\n",
    "                               n_jobs=-1)\n",
    "\n",
    "\n",
    "knn_mahal_grid_search.fit(X_train, y_train)\n",
    "cv_score = knn_mahal_grid_search.best_score_\n",
    "knn_mahal = knn_mahal_grid_search.score(X_test, y_test)\n",
    "print(\"Mahalanobis kNN:\")\n",
    "print({'cv_score':cv_score, 'test_score':knn_mahal})\n",
    "print(\"Params:\")\n",
    "print(knn_mahal_grid_search.best_params_)\n"
   ]
  },
  {
   "cell_type": "code",
   "execution_count": 33,
   "id": "e46bf97b",
   "metadata": {
    "scrolled": true
   },
   "outputs": [
    {
     "name": "stdout",
     "output_type": "stream",
     "text": [
      "Euclidian kNN:\n",
      "{'cv_score': 0.7206439393939394, 'test_score': 0.7246376811594203}\n",
      "Params:\n",
      "{'classifier__n_neighbors': 19, 'classifier__weights': 'uniform'}\n"
     ]
    }
   ],
   "source": [
    "#KNN-re keresztvalidációval euklidészi távolsággal\n",
    "\n",
    "pipeline = Pipeline(steps = [['classifier', KNeighborsClassifier(metric=\"euclidean\")]])\n",
    "param_grid = {'classifier__n_neighbors':[i for i in range(1,30)], 'classifier__weights':['uniform', 'distance', squared]}\n",
    "\n",
    "knn_eu_grid_search = GridSearchCV(estimator=pipeline,\n",
    "                               param_grid=param_grid,\n",
    "                               scoring='accuracy',\n",
    "                               cv=stratified_kfold,\n",
    "                               n_jobs=-1)\n",
    "\n",
    "\n",
    "knn_eu_grid_search.fit(X_train, y_train)\n",
    "cv_score = knn_eu_grid_search.best_score_\n",
    "knn_eu = knn_eu_grid_search.score(X_test, y_test)\n",
    "print(\"Euclidian kNN:\")\n",
    "print({'cv_score':cv_score, 'test_score':knn_eu})\n",
    "print(\"Params:\")\n",
    "print(knn_eu_grid_search.best_params_)\n",
    "\n",
    "\n"
   ]
  },
  {
   "cell_type": "code",
   "execution_count": 34,
   "id": "a514e020",
   "metadata": {},
   "outputs": [
    {
     "name": "stdout",
     "output_type": "stream",
     "text": [
      "kNN with Mahalanobis:\n",
      "- Optmial parameters: {'classifier__n_neighbors': 8, 'classifier__weights': 'uniform'} \n",
      "- Accuracy: 0.7101449275362319\n",
      "kNN with Euclidean:\n",
      "- Optimal parameters: {'classifier__n_neighbors': 19, 'classifier__weights': 'uniform'} \n",
      "- Accuracy: 0.7246376811594203\n"
     ]
    }
   ],
   "source": [
    "#összesítve kNN\n",
    "print(f'kNN with Mahalanobis:')\n",
    "print(f'- Optmial parameters: {knn_mahal_grid_search.best_params_} \\n- Accuracy: {knn_mahal}')\n",
    "print(f'kNN with Euclidean:')\n",
    "print(f'- Optimal parameters: {knn_eu_grid_search.best_params_} \\n- Accuracy: {knn_eu}')"
   ]
  },
  {
   "cell_type": "markdown",
   "id": "045426c0",
   "metadata": {},
   "source": [
    "**SVM**"
   ]
  },
  {
   "cell_type": "code",
   "execution_count": 35,
   "id": "9452e5cf",
   "metadata": {},
   "outputs": [
    {
     "name": "stdout",
     "output_type": "stream",
     "text": [
      "SVM:\n",
      "{'cv_score': 0.6892045454545455, 'test_score': 0.6521739130434783}\n",
      "Params:\n",
      "{'classifier__C': 1.3, 'classifier__kernel': 'linear'}\n",
      "\n",
      "Accuracy: 0.65\n",
      "Precision: 0.72\n",
      "Recall: 0.65\n"
     ]
    }
   ],
   "source": [
    "#tesztelés megfelelő C-hez SVM-nél\n",
    "from sklearn.svm import SVC\n",
    "from sklearn.multiclass import OneVsRestClassifier\n",
    "\n",
    "pipeline = Pipeline(steps = [['classifier', SVC(class_weight = \"balanced\", random_state=0, decision_function_shape = 'ovr')]])\n",
    "param_grid = {'classifier__C':[i*0.1 for i in range(1,50)], 'classifier__kernel':['linear','poly','rbf']}\n",
    "\n",
    "SVM_grid_search = GridSearchCV(estimator=pipeline,\n",
    "                               param_grid=param_grid,\n",
    "                               scoring='accuracy',\n",
    "                               cv=stratified_kfold,\n",
    "                               n_jobs=-1)\n",
    "\n",
    "\n",
    "SVM_grid_search.fit(X_train, y_train)\n",
    "cv_score = SVM_grid_search.best_score_\n",
    "SVM_acc = SVM_grid_search.score(X_test, y_test)\n",
    "y_pred = SVM_grid_search.predict(X_test)\n",
    "print(\"SVM:\")\n",
    "print({'cv_score':cv_score, 'test_score':SVM_acc})\n",
    "print(\"Params:\")\n",
    "print(SVM_grid_search.best_params_)\n",
    "\n",
    "print(\"\")\n",
    "print(f'Accuracy: {round(sklearn.metrics.accuracy_score(y_test, y_pred),2)}')\n",
    "print(f'Precision: {round(sklearn.metrics.precision_score(y_test, y_pred, average = \"weighted\"),2)}')\n",
    "print(f'Recall: {round(sklearn.metrics.recall_score(y_test, y_pred, average = \"weighted\"),2)}')\n",
    "\n"
   ]
  },
  {
   "cell_type": "markdown",
   "id": "e5e39926",
   "metadata": {},
   "source": [
    "**Logisztikus Regresszió**"
   ]
  },
  {
   "cell_type": "code",
   "execution_count": 36,
   "id": "4fc7f3ac",
   "metadata": {},
   "outputs": [
    {
     "name": "stdout",
     "output_type": "stream",
     "text": [
      "Logistic Regression:\n",
      "{'cv_score': 0.7017045454545455, 'test_score': 0.6811594202898551}\n",
      "Params:\n",
      "{'classifier__C': 0.8, 'classifier__solver': 'sag'}\n",
      "\n",
      "Accuracy: 0.68\n",
      "Precision: 0.75\n",
      "Recall: 0.68\n"
     ]
    }
   ],
   "source": [
    "#logisztikus regresszióra\n",
    "from sklearn.linear_model import LogisticRegression\n",
    "\n",
    "pipeline = Pipeline(steps = [['classifier', LogisticRegression(class_weight = \"balanced\", random_state=0, max_iter = 5000, multi_class = 'ovr')]])\n",
    "param_grid = {'classifier__C':[i*0.05 for i in range(1,100)], 'classifier__solver':['sag','saga']}\n",
    "\n",
    "log_grid_search = GridSearchCV(estimator=pipeline,\n",
    "                               param_grid=param_grid,\n",
    "                               scoring='accuracy',\n",
    "                               cv=stratified_kfold,\n",
    "                               n_jobs=-1)\n",
    "\n",
    "\n",
    "log_grid_search.fit(X_train, y_train)\n",
    "cv_score = log_grid_search.best_score_\n",
    "log_acc = log_grid_search.score(X_test, y_test)\n",
    "y_pred = log_grid_search.predict(X_test)\n",
    "print(\"Logistic Regression:\")\n",
    "print({'cv_score':cv_score, 'test_score':log_acc})\n",
    "print(\"Params:\")\n",
    "print(log_grid_search.best_params_)\n",
    "\n",
    "print(\"\")\n",
    "print(f'Accuracy: {round(sklearn.metrics.accuracy_score(y_test, y_pred),2)}')\n",
    "print(f'Precision: {round(sklearn.metrics.precision_score(y_test, y_pred, average = \"weighted\"),2)}')\n",
    "print(f'Recall: {round(sklearn.metrics.recall_score(y_test, y_pred, average = \"weighted\"),2)}')\n"
   ]
  },
  {
   "cell_type": "markdown",
   "id": "047adc9e",
   "metadata": {},
   "source": [
    "**Naive Bayes**"
   ]
  },
  {
   "cell_type": "code",
   "execution_count": 37,
   "id": "ba1715cc",
   "metadata": {},
   "outputs": [
    {
     "name": "stdout",
     "output_type": "stream",
     "text": [
      "Accuracy: 0.74\n"
     ]
    }
   ],
   "source": [
    "#Naive bayes-szel\n",
    "from sklearn.naive_bayes import GaussianNB\n",
    "\n",
    "clf = GaussianNB()\n",
    "clf.fit(X_train, y_train)\n",
    "y_pred = clf.predict(X_test)\n",
    "bayes_acc = round(sklearn.metrics.accuracy_score(y_test, y_pred),2)\n",
    "\n",
    "print(f'Accuracy: {round(sklearn.metrics.accuracy_score(y_test, y_pred),2)}')"
   ]
  },
  {
   "cell_type": "code",
   "execution_count": 38,
   "id": "e7959776",
   "metadata": {},
   "outputs": [
    {
     "name": "stdout",
     "output_type": "stream",
     "text": [
      "Accuracy with different algorithms:\n",
      "- SVM: 0.6521739130434783 \n",
      "- Logistic Regression: 0.6811594202898551 \n",
      "- Naive Bayes: 0.74\n"
     ]
    }
   ],
   "source": [
    "#az előző 3 kiértékelése\n",
    "print(\"Accuracy with different algorithms:\")\n",
    "print(f'- SVM: {SVM_acc} \\n- Logistic Regression: {log_acc} \\n- Naive Bayes: {bayes_acc}')"
   ]
  },
  {
   "cell_type": "markdown",
   "id": "cd00c59d",
   "metadata": {},
   "source": [
    "**Gradient Boosting**"
   ]
  },
  {
   "cell_type": "code",
   "execution_count": 39,
   "id": "8691f673",
   "metadata": {},
   "outputs": [
    {
     "name": "stdout",
     "output_type": "stream",
     "text": [
      "Gradient Boosting:\n",
      "{'cv_score': 0.7388257575757576, 'test_score': 0.6521739130434783}\n",
      "Params:\n",
      "{'classifier__criterion': 'squared_error', 'classifier__learning_rate': 0.01, 'classifier__max_depth': 3, 'classifier__n_estimators': 40}\n",
      "\n",
      "Accuracy: 0.65\n",
      "Precision: 0.6\n",
      "Recall: 0.65\n"
     ]
    }
   ],
   "source": [
    "from sklearn.ensemble import GradientBoostingClassifier\n",
    "\n",
    "pipeline = Pipeline(steps = [['classifier', GradientBoostingClassifier(random_state=0)]])\n",
    "param_grid = {'classifier__learning_rate':[0.01*i for i in range(1,50)],\n",
    "              'classifier__n_estimators':[5*i for i in range(1,10)], 'classifier__criterion':['squared_error','friedman_mse'],\n",
    "              'classifier__max_depth':[3,4,5]}\n",
    "\n",
    "grad_grid_search = GridSearchCV(estimator=pipeline,\n",
    "                               param_grid=param_grid,\n",
    "                               scoring='accuracy',\n",
    "                               cv=stratified_kfold,\n",
    "                               n_jobs=-1)\n",
    "\n",
    "\n",
    "grad_grid_search.fit(X_train, y_train)\n",
    "cv_score = grad_grid_search.best_score_\n",
    "grad_acc = grad_grid_search.score(X_test, y_test)\n",
    "y_pred = grad_grid_search.predict(X_test)\n",
    "print(\"Gradient Boosting:\")\n",
    "print({'cv_score':cv_score, 'test_score':grad_acc})\n",
    "print(\"Params:\")\n",
    "print(grad_grid_search.best_params_)\n",
    "\n",
    "print(\"\")\n",
    "print(f'Accuracy: {round(sklearn.metrics.accuracy_score(y_test, y_pred),2)}')\n",
    "print(f'Precision: {round(sklearn.metrics.precision_score(y_test, y_pred, average = \"weighted\"),2)}')\n",
    "print(f'Recall: {round(sklearn.metrics.recall_score(y_test, y_pred, average = \"weighted\"),2)}')"
   ]
  },
  {
   "cell_type": "markdown",
   "id": "932e226f",
   "metadata": {},
   "source": [
    "**Lineáris regresszió**"
   ]
  },
  {
   "cell_type": "code",
   "execution_count": 40,
   "id": "7ecde994",
   "metadata": {},
   "outputs": [
    {
     "data": {
      "text/plain": [
       "0.26184457154592244"
      ]
     },
     "execution_count": 40,
     "metadata": {},
     "output_type": "execute_result"
    }
   ],
   "source": [
    "#ezek után nem oneVSall: lineáris regresszió\n",
    "from sklearn.linear_model import LinearRegression\n",
    "\n",
    "reg_alap = LinearRegression().fit(features,label)\n",
    "reg_alap.score(features, label)         "
   ]
  },
  {
   "cell_type": "code",
   "execution_count": 41,
   "id": "32efd6c9",
   "metadata": {},
   "outputs": [
    {
     "name": "stdout",
     "output_type": "stream",
     "text": [
      "Coefficients: [-8.58999623e-02  1.16009938e-01 -1.63568959e-01 -9.06161839e-01\n",
      " -2.95400235e-01  1.61079691e+00 -3.12427622e-03  1.10570042e-01\n",
      "  1.44276441e-03  2.18015367e-01 -5.87330328e-02]\n",
      "RMSE: 0.42\n"
     ]
    }
   ],
   "source": [
    "#most nézzük a tanítóhalmazon és a teszthalmazon\n",
    "\n",
    "reg = LinearRegression().fit(X_train,y_train)\n",
    "reg_pred = reg.predict(X_test)\n",
    "\n",
    "#együtthatók\n",
    "print(\"Coefficients:\", reg.coef_)\n",
    "#RMSE\n",
    "\n",
    "rmse = round(np.power(np.sum(np.power(y_test - reg_pred, 2))/reg_pred.shape[0],0.5),2)\n",
    "print(\"RMSE:\", rmse)"
   ]
  },
  {
   "cell_type": "code",
   "execution_count": 42,
   "id": "abffbf35",
   "metadata": {},
   "outputs": [
    {
     "data": {
      "text/plain": [
       "<function matplotlib.pyplot.show(close=None, block=None)>"
      ]
     },
     "execution_count": 42,
     "metadata": {},
     "output_type": "execute_result"
    },
    {
     "data": {
      "image/png": "[encoded data removed]",
      "text/plain": [
       "<Figure size 432x288 with 1 Axes>"
      ]
     },
     "metadata": {
      "needs_background": "light"
     },
     "output_type": "display_data"
    }
   ],
   "source": [
    "#Nézzük meg a reziduális tagokat\n",
    "\n",
    "import matplotlib.pyplot as plt\n",
    "\n",
    "plt.scatter(reg_pred, y_test-reg_pred)\n",
    "plt.plot(reg_pred, [0 for i in range(reg_pred.shape[0])], c=\"red\") #0-vonal\n",
    "plt.title(\"Reziduális tagok\")\n",
    "plt.axis\n",
    "plt.show"
   ]
  },
  {
   "cell_type": "code",
   "execution_count": 43,
   "id": "91f3760a",
   "metadata": {},
   "outputs": [
    {
     "data": {
      "text/plain": [
       "0.29"
      ]
     },
     "execution_count": 43,
     "metadata": {},
     "output_type": "execute_result"
    }
   ],
   "source": [
    "#R^2 és SSR\n",
    "SST = np.sum(np.power(y_test-np.mean(y_test),2))\n",
    "SSR = np.sum(np.power(reg_pred-np.mean(y_test),2))\n",
    "R2 = round(SSR/SST,2)\n",
    "R2"
   ]
  },
  {
   "cell_type": "code",
   "execution_count": 44,
   "id": "1ed53282",
   "metadata": {},
   "outputs": [
    {
     "name": "stdout",
     "output_type": "stream",
     "text": [
      "RMSE: 0.54\n",
      "0.71\n"
     ]
    }
   ],
   "source": [
    "#másik: kerekítsük a becsült értékeket\n",
    "\n",
    "for i in range(reg_pred.shape[0]):\n",
    "    reg_pred[i] = round(reg_pred[i],0)\n",
    "\n",
    "rmse_rounded = round(np.power(np.sum(np.power(y_test - reg_pred, 2))/reg_pred.shape[0],0.5),2)\n",
    "print(\"RMSE:\", rmse_rounded)\n",
    "lin_acc = round(sklearn.metrics.accuracy_score(y_test, reg_pred),2)\n",
    "print(round(sklearn.metrics.accuracy_score(y_test, reg_pred),2))"
   ]
  },
  {
   "cell_type": "code",
   "execution_count": 45,
   "id": "854d79c6",
   "metadata": {},
   "outputs": [
    {
     "name": "stdout",
     "output_type": "stream",
     "text": [
      "Linear regression:\n",
      "- RMSE: 0.42 \n",
      "- R2: 0.29 \n",
      "- RMSE after rounding: 0.54 \n",
      "- Accuracy after rounding: 0.71\n"
     ]
    }
   ],
   "source": [
    "#lineáris regresszió összesen:\n",
    "print(\"Linear regression:\")\n",
    "print(f'- RMSE: {rmse} \\n- R2: {R2} \\n- RMSE after rounding: {rmse_rounded} \\n- Accuracy after rounding: {lin_acc}')"
   ]
  },
  {
   "cell_type": "markdown",
   "id": "401452a0",
   "metadata": {},
   "source": [
    "### Eredmények összesítve"
   ]
  },
  {
   "cell_type": "code",
   "execution_count": 46,
   "id": "a7b3019c",
   "metadata": {},
   "outputs": [
    {
     "name": "stdout",
     "output_type": "stream",
     "text": [
      "kNN with Mahalanobis:\n",
      "- Optmial number of neighbours: {'classifier__n_neighbors': 8, 'classifier__weights': 'uniform'} \n",
      "- Accuracy: 0.7101449275362319\n",
      "kNN with Euclidean:\n",
      "- Optimal number of neighbours: {'classifier__n_neighbors': 19, 'classifier__weights': 'uniform'} \n",
      "- Accuracy: 0.7246376811594203\n",
      "SVM:\n",
      "- Accuracy: 0.6521739130434783\n",
      "Logistic Regression:\n",
      "- Accuracy: 0.6811594202898551\n",
      "Naive Bayes:\n",
      "- Accuracy: 0.74\n",
      "Linear regression:\n",
      "- RMSE: 0.42 \n",
      "- R2: 0.29 \n",
      "- RMSE after rounding: 0.54 \n",
      "- Accuracy after rounding: 0.71\n"
     ]
    }
   ],
   "source": [
    "#összes teljes mindenes\n",
    "#összesítve kNN\n",
    "print(f'kNN with Mahalanobis:')\n",
    "print(f'- Optmial number of neighbours: {knn_mahal_grid_search.best_params_} \\n- Accuracy: {knn_mahal}')\n",
    "print(f'kNN with Euclidean:')\n",
    "print(f'- Optimal number of neighbours: {knn_eu_grid_search.best_params_} \\n- Accuracy: {knn_eu}')\n",
    "print(\"SVM:\")\n",
    "print(f'- Accuracy: {SVM_acc}')\n",
    "print(\"Logistic Regression:\")\n",
    "print(f'- Accuracy: {log_acc}')\n",
    "print(\"Naive Bayes:\")\n",
    "print(f'- Accuracy: {bayes_acc}')\n",
    "print(\"Linear regression:\")\n",
    "print(f'- RMSE: {rmse} \\n- R2: {R2} \\n- RMSE after rounding: {rmse_rounded} \\n- Accuracy after rounding: {lin_acc}')"
   ]
  },
  {
   "cell_type": "markdown",
   "id": "f7e8f911",
   "metadata": {},
   "source": [
    "# PCA"
   ]
  },
  {
   "cell_type": "code",
   "execution_count": 47,
   "id": "35f5907d",
   "metadata": {},
   "outputs": [
    {
     "data": {
      "text/plain": [
       "[0.62, 0.67, 0.68, 0.67, 0.71, 0.67, 0.68, 0.68, 0.68]"
      ]
     },
     "execution_count": 47,
     "metadata": {},
     "output_type": "execute_result"
    }
   ],
   "source": [
    "#főkomponens analízissel\n",
    "#nézzük, mennyi főkomponenssel lesz a legjobb. (pl a logisztikus regresszió)\n",
    "from sklearn.decomposition import PCA\n",
    "\n",
    "scores = []\n",
    "\n",
    "for i in range(2,11):\n",
    "    projected = PCA(i).fit_transform(features)\n",
    "    X_train, X_test, y_train, y_test = train_test_split(projected, label, test_size=0.3, random_state=0)\n",
    "    neigh = KNeighborsClassifier(n_neighbors=i, metric=\"mahalanobis\", metric_params={'V': np.cov(m=X_train.astype(float), rowvar=False)})\n",
    "    neigh = neigh.fit(X_train,y_train)\n",
    "    y_pred = neigh.predict(X_test)\n",
    "    scores.append(round(sklearn.metrics.accuracy_score(y_test, y_pred),2))\n",
    "    \n",
    "scores"
   ]
  },
  {
   "cell_type": "code",
   "execution_count": 48,
   "id": "15bab4c1",
   "metadata": {},
   "outputs": [
    {
     "name": "stdout",
     "output_type": "stream",
     "text": [
      "Accuracy: 0.74\n",
      "Precision: 0.73\n",
      "Recall: 0.72\n"
     ]
    }
   ],
   "source": [
    "#főkomponenses logreg\n",
    "from sklearn.decomposition import PCA\n",
    "projected = PCA(4).fit_transform(features)\n",
    "X_train, X_test, y_train, y_test = train_test_split(projected, label, test_size=0.3, random_state=0)\n",
    "\n",
    "logreg = OneVsRestClassifier(LogisticRegression(class_weight = \"balanced\", random_state=0, max_iter = 10000)).fit(X_train, y_train)\n",
    "y_pred = logreg.predict(X_test)\n",
    "\n",
    "print(f'Accuracy: {round(sklearn.metrics.accuracy_score(y_test, y_pred),2)}')\n",
    "print(f'Precision: {round(sklearn.metrics.precision_score(y_test, y_pred, average = \"macro\"),2)}')\n",
    "print(f'Recall: {round(sklearn.metrics.recall_score(y_test, y_pred, average = \"macro\"),2)}')"
   ]
  },
  {
   "cell_type": "code",
   "execution_count": 49,
   "id": "192440a7",
   "metadata": {},
   "outputs": [
    {
     "name": "stderr",
     "output_type": "stream",
     "text": [
      "D:\\anaconda3\\envs\\otthoni\\lib\\site-packages\\sklearn\\preprocessing\\_data.py:2590: UserWarning: n_quantiles (1000) is greater than the total number of samples (161). n_quantiles is set to n_samples.\n",
      "  warnings.warn(\n",
      "D:\\anaconda3\\envs\\otthoni\\lib\\site-packages\\sklearn\\preprocessing\\_data.py:2590: UserWarning: n_quantiles (1000) is greater than the total number of samples (161). n_quantiles is set to n_samples.\n",
      "  warnings.warn(\n",
      "D:\\anaconda3\\envs\\otthoni\\lib\\site-packages\\sklearn\\preprocessing\\_data.py:2590: UserWarning: n_quantiles (1000) is greater than the total number of samples (161). n_quantiles is set to n_samples.\n",
      "  warnings.warn(\n",
      "D:\\anaconda3\\envs\\otthoni\\lib\\site-packages\\sklearn\\preprocessing\\_data.py:2590: UserWarning: n_quantiles (1000) is greater than the total number of samples (161). n_quantiles is set to n_samples.\n",
      "  warnings.warn(\n",
      "D:\\anaconda3\\envs\\otthoni\\lib\\site-packages\\sklearn\\preprocessing\\_data.py:2590: UserWarning: n_quantiles (1000) is greater than the total number of samples (161). n_quantiles is set to n_samples.\n",
      "  warnings.warn(\n",
      "D:\\anaconda3\\envs\\otthoni\\lib\\site-packages\\sklearn\\preprocessing\\_data.py:2590: UserWarning: n_quantiles (1000) is greater than the total number of samples (161). n_quantiles is set to n_samples.\n",
      "  warnings.warn(\n",
      "D:\\anaconda3\\envs\\otthoni\\lib\\site-packages\\sklearn\\preprocessing\\_data.py:2590: UserWarning: n_quantiles (1000) is greater than the total number of samples (161). n_quantiles is set to n_samples.\n",
      "  warnings.warn(\n",
      "D:\\anaconda3\\envs\\otthoni\\lib\\site-packages\\sklearn\\preprocessing\\_data.py:2590: UserWarning: n_quantiles (1000) is greater than the total number of samples (161). n_quantiles is set to n_samples.\n",
      "  warnings.warn(\n"
     ]
    }
   ],
   "source": [
    "#nézzük meg, hogy főkompononensenként hogy változnak a különböző algoritmusok eredménymutatói, és rakjuk dataframe-be!\n",
    "PCA_scores = pd.DataFrame({\"Főkomponensek száma\":[], \"Gradient Boosting Acc.\":[], \"Naive Bayes Acc.\":[], \"Logreg Acc.\":[], \"SVM Acc.\":[], \"Linreg RMSE\":[], \"Linreg R2\":[], \n",
    "                           \"Linreg RMSE kerekített\":[], \"Linreg Acc kerekített\":[]})\n",
    "\n",
    "\n",
    "for i in range(1,9):\n",
    "    projected = PCA(i).fit_transform(features)\n",
    "    X_train, X_test, y_train, y_test = train_test_split(projected, label, test_size=0.3, random_state=0)\n",
    "    \n",
    "    from sklearn import preprocessing\n",
    "    quantile_transformer = preprocessing.QuantileTransformer(random_state=0)\n",
    "    X_train = quantile_transformer.fit_transform(X_train)\n",
    "    X_test = quantile_transformer.transform(X_test)\n",
    "    \n",
    "    ### OPTIMALIZÁLÁS\n",
    "    \n",
    "    # Logreg\n",
    "    \n",
    "    pipeline = Pipeline(steps = [['classifier', LogisticRegression(class_weight = \"balanced\", random_state=0, max_iter = 5000, multi_class = 'ovr')]])\n",
    "    param_grid = {'classifier__C':[i*0.05 for i in range(1,100)], 'classifier__solver':['sag','saga']}\n",
    "\n",
    "    log_grid_search = GridSearchCV(estimator=pipeline,\n",
    "                                   param_grid=param_grid,\n",
    "                                   scoring='accuracy',\n",
    "                                   cv=stratified_kfold,\n",
    "                                   n_jobs=-1)\n",
    "\n",
    "\n",
    "    log_grid_search.fit(X_train, y_train)\n",
    "    cv_score = log_grid_search.best_score_\n",
    "    log_acc = round(log_grid_search.score(X_test, y_test),4)\n",
    "    \n",
    "    # Naive Bayes \n",
    "    \n",
    "    clf = GaussianNB()\n",
    "    clf.fit(X_train, y_train)\n",
    "    y_pred = clf.predict(X_test)\n",
    "    bayes_acc = round(sklearn.metrics.accuracy_score(y_test, y_pred),4)\n",
    "\n",
    "    # SVM\n",
    "    \n",
    "    pipeline = Pipeline(steps = [['classifier', SVC(class_weight = \"balanced\", random_state=0, decision_function_shape = 'ovr')]])\n",
    "    param_grid = {'classifier__C':[i*0.1 for i in range(1,50)], 'classifier__kernel':['linear','poly','rbf']}\n",
    "\n",
    "    SVM_grid_search = GridSearchCV(estimator=pipeline,\n",
    "                                   param_grid=param_grid,\n",
    "                                   scoring='accuracy',\n",
    "                                   cv=stratified_kfold,\n",
    "                                   n_jobs=-1)\n",
    "\n",
    "\n",
    "    SVM_grid_search.fit(X_train, y_train)\n",
    "    cv_score = SVM_grid_search.best_score_\n",
    "    SVM_acc = round(SVM_grid_search.score(X_test, y_test),4)\n",
    "    \n",
    "    # GradBoost\n",
    "    \n",
    "    pipeline = Pipeline(steps = [['classifier', GradientBoostingClassifier(random_state=0)]])\n",
    "    param_grid = {'classifier__learning_rate':[0.01*i for i in range(1,50)],\n",
    "                  'classifier__n_estimators':[5*i for i in range(1,10)], 'classifier__criterion':['squared_error','friedman_mse'],\n",
    "                  'classifier__max_depth':[3,4,5]}\n",
    "\n",
    "    grad_grid_search = GridSearchCV(estimator=pipeline,\n",
    "                                   param_grid=param_grid,\n",
    "                                   scoring='accuracy',\n",
    "                                   cv=stratified_kfold,\n",
    "                                   n_jobs=-1)\n",
    "\n",
    "\n",
    "    grad_grid_search.fit(X_train, y_train)\n",
    "    cv_score = grad_grid_search.best_score_\n",
    "    grad_acc = round(grad_grid_search.score(X_test, y_test),4)\n",
    "    \n",
    "    # Linreg\n",
    "\n",
    "    reg = LinearRegression().fit(X_train,y_train)\n",
    "    reg_pred = reg.predict(X_test)\n",
    "    \n",
    "    rmse = round(np.power(np.sum(np.power(y_test - reg_pred, 2))/reg_pred.shape[0],0.5),4)\n",
    "    \n",
    "    SST = np.sum(np.power(y_test-np.mean(y_test),2))\n",
    "    SSR = np.sum(np.power(reg_pred-np.mean(y_test),2))\n",
    "    R2 = round(SSR/SST,4)\n",
    "    R2\n",
    "    \n",
    "    for j in range(reg_pred.shape[0]):\n",
    "        reg_pred[j] = round(reg_pred[j],0)\n",
    "\n",
    "    rmse_rounded = round(np.power(np.sum(np.power(y_test - reg_pred, 2))/reg_pred.shape[0],0.5),4)\n",
    "    lin_acc = round(sklearn.metrics.accuracy_score(y_test, reg_pred),4)\n",
    "    reg_pred_rounded = round(sklearn.metrics.accuracy_score(y_test, reg_pred),4)\n",
    "    \n",
    "    \n",
    "    #új sor a dataframe-be\n",
    "    new_row = {\"Főkomponensek száma\":str(i), \"Gradient Boosting Acc.\":grad_acc, \"Naive Bayes Acc.\":bayes_acc ,\"Logreg Acc.\":log_acc, \"SVM Acc.\":SVM_acc, \"Linreg RMSE\":rmse, \"Linreg R2\":R2, \n",
    "               \"Linreg RMSE kerekített\":rmse_rounded, \"Linreg Acc kerekített\":reg_pred_rounded}\n",
    "    PCA_scores = PCA_scores.append(new_row, ignore_index=True)"
   ]
  },
  {
   "cell_type": "code",
   "execution_count": 50,
   "id": "4b6302a9",
   "metadata": {},
   "outputs": [
    {
     "data": {
      "text/html": [
       "<div>\n",
       "<style scoped>\n",
       "    .dataframe tbody tr th:only-of-type {\n",
       "        vertical-align: middle;\n",
       "    }\n",
       "\n",
       "    .dataframe tbody tr th {\n",
       "        vertical-align: top;\n",
       "    }\n",
       "\n",
       "    .dataframe thead th {\n",
       "        text-align: right;\n",
       "    }\n",
       "</style>\n",
       "<table border=\"1\" class=\"dataframe\">\n",
       "  <thead>\n",
       "    <tr style=\"text-align: right;\">\n",
       "      <th></th>\n",
       "      <th>Főkomponensek száma</th>\n",
       "      <th>Gradient Boosting Acc.</th>\n",
       "      <th>Naive Bayes Acc.</th>\n",
       "      <th>Logreg Acc.</th>\n",
       "      <th>SVM Acc.</th>\n",
       "      <th>Linreg RMSE</th>\n",
       "      <th>Linreg R2</th>\n",
       "      <th>Linreg RMSE kerekített</th>\n",
       "      <th>Linreg Acc kerekített</th>\n",
       "    </tr>\n",
       "  </thead>\n",
       "  <tbody>\n",
       "    <tr>\n",
       "      <th>0</th>\n",
       "      <td>1</td>\n",
       "      <td>0.5942</td>\n",
       "      <td>0.7101</td>\n",
       "      <td>0.6957</td>\n",
       "      <td>0.7101</td>\n",
       "      <td>0.4436</td>\n",
       "      <td>0.1940</td>\n",
       "      <td>0.5517</td>\n",
       "      <td>0.6957</td>\n",
       "    </tr>\n",
       "    <tr>\n",
       "      <th>1</th>\n",
       "      <td>2</td>\n",
       "      <td>0.5942</td>\n",
       "      <td>0.6957</td>\n",
       "      <td>0.6957</td>\n",
       "      <td>0.7246</td>\n",
       "      <td>0.4435</td>\n",
       "      <td>0.1938</td>\n",
       "      <td>0.5517</td>\n",
       "      <td>0.6957</td>\n",
       "    </tr>\n",
       "    <tr>\n",
       "      <th>2</th>\n",
       "      <td>3</td>\n",
       "      <td>0.6377</td>\n",
       "      <td>0.7101</td>\n",
       "      <td>0.7246</td>\n",
       "      <td>0.7681</td>\n",
       "      <td>0.4313</td>\n",
       "      <td>0.2044</td>\n",
       "      <td>0.5247</td>\n",
       "      <td>0.7246</td>\n",
       "    </tr>\n",
       "    <tr>\n",
       "      <th>3</th>\n",
       "      <td>4</td>\n",
       "      <td>0.5942</td>\n",
       "      <td>0.7101</td>\n",
       "      <td>0.7391</td>\n",
       "      <td>0.6957</td>\n",
       "      <td>0.4305</td>\n",
       "      <td>0.2036</td>\n",
       "      <td>0.5108</td>\n",
       "      <td>0.7391</td>\n",
       "    </tr>\n",
       "    <tr>\n",
       "      <th>4</th>\n",
       "      <td>5</td>\n",
       "      <td>0.6667</td>\n",
       "      <td>0.7101</td>\n",
       "      <td>0.7391</td>\n",
       "      <td>0.6667</td>\n",
       "      <td>0.4302</td>\n",
       "      <td>0.2029</td>\n",
       "      <td>0.5247</td>\n",
       "      <td>0.7246</td>\n",
       "    </tr>\n",
       "    <tr>\n",
       "      <th>5</th>\n",
       "      <td>6</td>\n",
       "      <td>0.6377</td>\n",
       "      <td>0.6957</td>\n",
       "      <td>0.7391</td>\n",
       "      <td>0.7101</td>\n",
       "      <td>0.4302</td>\n",
       "      <td>0.2033</td>\n",
       "      <td>0.5108</td>\n",
       "      <td>0.7391</td>\n",
       "    </tr>\n",
       "    <tr>\n",
       "      <th>6</th>\n",
       "      <td>7</td>\n",
       "      <td>0.6812</td>\n",
       "      <td>0.6812</td>\n",
       "      <td>0.7536</td>\n",
       "      <td>0.7101</td>\n",
       "      <td>0.4307</td>\n",
       "      <td>0.2019</td>\n",
       "      <td>0.5247</td>\n",
       "      <td>0.7246</td>\n",
       "    </tr>\n",
       "    <tr>\n",
       "      <th>7</th>\n",
       "      <td>8</td>\n",
       "      <td>0.6812</td>\n",
       "      <td>0.6957</td>\n",
       "      <td>0.7101</td>\n",
       "      <td>0.7391</td>\n",
       "      <td>0.4277</td>\n",
       "      <td>0.2179</td>\n",
       "      <td>0.5247</td>\n",
       "      <td>0.7246</td>\n",
       "    </tr>\n",
       "  </tbody>\n",
       "</table>\n",
       "</div>"
      ],
      "text/plain": [
       "  Főkomponensek száma  Gradient Boosting Acc.  Naive Bayes Acc.  Logreg Acc.  \\\n",
       "0                   1                  0.5942            0.7101       0.6957   \n",
       "1                   2                  0.5942            0.6957       0.6957   \n",
       "2                   3                  0.6377            0.7101       0.7246   \n",
       "3                   4                  0.5942            0.7101       0.7391   \n",
       "4                   5                  0.6667            0.7101       0.7391   \n",
       "5                   6                  0.6377            0.6957       0.7391   \n",
       "6                   7                  0.6812            0.6812       0.7536   \n",
       "7                   8                  0.6812            0.6957       0.7101   \n",
       "\n",
       "   SVM Acc.  Linreg RMSE  Linreg R2  Linreg RMSE kerekített  \\\n",
       "0    0.7101       0.4436     0.1940                  0.5517   \n",
       "1    0.7246       0.4435     0.1938                  0.5517   \n",
       "2    0.7681       0.4313     0.2044                  0.5247   \n",
       "3    0.6957       0.4305     0.2036                  0.5108   \n",
       "4    0.6667       0.4302     0.2029                  0.5247   \n",
       "5    0.7101       0.4302     0.2033                  0.5108   \n",
       "6    0.7101       0.4307     0.2019                  0.5247   \n",
       "7    0.7391       0.4277     0.2179                  0.5247   \n",
       "\n",
       "   Linreg Acc kerekített  \n",
       "0                 0.6957  \n",
       "1                 0.6957  \n",
       "2                 0.7246  \n",
       "3                 0.7391  \n",
       "4                 0.7246  \n",
       "5                 0.7391  \n",
       "6                 0.7246  \n",
       "7                 0.7246  "
      ]
     },
     "execution_count": 50,
     "metadata": {},
     "output_type": "execute_result"
    }
   ],
   "source": [
    "PCA_scores"
   ]
  },
  {
   "cell_type": "markdown",
   "id": "4149a496",
   "metadata": {},
   "source": [
    "# Legjobb modellek"
   ]
  },
  {
   "cell_type": "code",
   "execution_count": null,
   "id": "c795b66a",
   "metadata": {},
   "outputs": [],
   "source": [
    "# 3 csoport: 5-ös PCA-s Gradboost\n",
    "\n",
    "# 2 csoport: 4-es PCA-s linreg és logreg (illetvve Naive Bayes) "
   ]
  }
 ],
 "metadata": {
  "kernelspec": {
   "display_name": "Python 3 (ipykernel)",
   "language": "python",
   "name": "python3"
  },
  "language_info": {
   "codemirror_mode": {
    "name": "ipython",
    "version": 3
   },
   "file_extension": ".py",
   "mimetype": "text/x-python",
   "name": "python",
   "nbconvert_exporter": "python",
   "pygments_lexer": "ipython3",
   "version": "3.8.11"
  }
 },
 "nbformat": 4,
 "nbformat_minor": 5
}
